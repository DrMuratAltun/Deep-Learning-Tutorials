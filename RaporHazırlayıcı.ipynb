{
  "cells": [
    {
      "cell_type": "markdown",
      "metadata": {
        "id": "view-in-github",
        "colab_type": "text"
      },
      "source": [
        "<a href=\"https://colab.research.google.com/github/kmkarakaya/Deep-Learning-Tutorials/blob/master/RaporHaz%C4%B1rlay%C4%B1c%C4%B1.ipynb\" target=\"_parent\"><img src=\"https://colab.research.google.com/assets/colab-badge.svg\" alt=\"Open In Colab\"/></a>"
      ]
    },
    {
      "cell_type": "markdown",
      "metadata": {
        "id": "Tce3stUlHN0L"
      },
      "source": [
        "##### Copyright 2024 Murat Karakaya Akademi.\n",
        "\n",
        "Youtube'dan bu içeriği seyredin: https://youtube.com/live/cTIzVReqSBY"
      ]
    },
    {
      "cell_type": "markdown",
      "metadata": {
        "id": "q7QvXQMrIhuZ"
      },
      "source": [
        "This notebook provides a quick example of how to ask several questions at once to a pdf file using Gemini 1.5 Flash API."
      ]
    },
    {
      "cell_type": "code",
      "execution_count": 1,
      "metadata": {
        "id": "qLuL9m7KhvxR"
      },
      "outputs": [],
      "source": [
        "!pip install -U -q google-generativeai"
      ]
    },
    {
      "cell_type": "code",
      "execution_count": 2,
      "metadata": {
        "id": "ATIbQM0NHhkj"
      },
      "outputs": [],
      "source": [
        "import google.generativeai as genai"
      ]
    },
    {
      "cell_type": "markdown",
      "metadata": {
        "id": "l8g4hTRotheH"
      },
      "source": [
        "### Setup your API key\n",
        "\n",
        "To run the following cell, your API key must be stored it in a Colab Secret named `GOOGLE_API_KEY`. If you don't already have an API key, or you're not sure how to create a Colab Secret, see [Authentication](https://github.com/google-gemini/cookbook/blob/main/quickstarts/Authentication.ipynb) for an example."
      ]
    },
    {
      "cell_type": "code",
      "execution_count": 3,
      "metadata": {
        "id": "d6lYXRcjthKV"
      },
      "outputs": [],
      "source": [
        "from google.colab import userdata\n",
        "google_api_key=userdata.get('GOOGLE_API_KEY')\n",
        "genai.configure(api_key=google_api_key)"
      ]
    },
    {
      "cell_type": "markdown",
      "metadata": {
        "id": "MNvhBdoDFnTC"
      },
      "source": [
        "Upload the pdf file."
      ]
    },
    {
      "cell_type": "code",
      "source": [
        "# select and upload a file from local directory\n",
        "from google.colab import files\n",
        "uploaded = files.upload()"
      ],
      "metadata": {
        "colab": {
          "base_uri": "https://localhost:8080/",
          "height": 77
        },
        "id": "y8DufGnh88cw",
        "outputId": "c9253158-208a-47c2-d068-26176e722696"
      },
      "execution_count": 7,
      "outputs": [
        {
          "output_type": "display_data",
          "data": {
            "text/plain": [
              "<IPython.core.display.HTML object>"
            ],
            "text/html": [
              "\n",
              "     <input type=\"file\" id=\"files-759ac2a0-2ba3-4c3e-b895-1e0eac12c9fd\" name=\"files[]\" multiple disabled\n",
              "        style=\"border:none\" />\n",
              "     <output id=\"result-759ac2a0-2ba3-4c3e-b895-1e0eac12c9fd\">\n",
              "      Upload widget is only available when the cell has been executed in the\n",
              "      current browser session. Please rerun this cell to enable.\n",
              "      </output>\n",
              "      <script>// Copyright 2017 Google LLC\n",
              "//\n",
              "// Licensed under the Apache License, Version 2.0 (the \"License\");\n",
              "// you may not use this file except in compliance with the License.\n",
              "// You may obtain a copy of the License at\n",
              "//\n",
              "//      http://www.apache.org/licenses/LICENSE-2.0\n",
              "//\n",
              "// Unless required by applicable law or agreed to in writing, software\n",
              "// distributed under the License is distributed on an \"AS IS\" BASIS,\n",
              "// WITHOUT WARRANTIES OR CONDITIONS OF ANY KIND, either express or implied.\n",
              "// See the License for the specific language governing permissions and\n",
              "// limitations under the License.\n",
              "\n",
              "/**\n",
              " * @fileoverview Helpers for google.colab Python module.\n",
              " */\n",
              "(function(scope) {\n",
              "function span(text, styleAttributes = {}) {\n",
              "  const element = document.createElement('span');\n",
              "  element.textContent = text;\n",
              "  for (const key of Object.keys(styleAttributes)) {\n",
              "    element.style[key] = styleAttributes[key];\n",
              "  }\n",
              "  return element;\n",
              "}\n",
              "\n",
              "// Max number of bytes which will be uploaded at a time.\n",
              "const MAX_PAYLOAD_SIZE = 100 * 1024;\n",
              "\n",
              "function _uploadFiles(inputId, outputId) {\n",
              "  const steps = uploadFilesStep(inputId, outputId);\n",
              "  const outputElement = document.getElementById(outputId);\n",
              "  // Cache steps on the outputElement to make it available for the next call\n",
              "  // to uploadFilesContinue from Python.\n",
              "  outputElement.steps = steps;\n",
              "\n",
              "  return _uploadFilesContinue(outputId);\n",
              "}\n",
              "\n",
              "// This is roughly an async generator (not supported in the browser yet),\n",
              "// where there are multiple asynchronous steps and the Python side is going\n",
              "// to poll for completion of each step.\n",
              "// This uses a Promise to block the python side on completion of each step,\n",
              "// then passes the result of the previous step as the input to the next step.\n",
              "function _uploadFilesContinue(outputId) {\n",
              "  const outputElement = document.getElementById(outputId);\n",
              "  const steps = outputElement.steps;\n",
              "\n",
              "  const next = steps.next(outputElement.lastPromiseValue);\n",
              "  return Promise.resolve(next.value.promise).then((value) => {\n",
              "    // Cache the last promise value to make it available to the next\n",
              "    // step of the generator.\n",
              "    outputElement.lastPromiseValue = value;\n",
              "    return next.value.response;\n",
              "  });\n",
              "}\n",
              "\n",
              "/**\n",
              " * Generator function which is called between each async step of the upload\n",
              " * process.\n",
              " * @param {string} inputId Element ID of the input file picker element.\n",
              " * @param {string} outputId Element ID of the output display.\n",
              " * @return {!Iterable<!Object>} Iterable of next steps.\n",
              " */\n",
              "function* uploadFilesStep(inputId, outputId) {\n",
              "  const inputElement = document.getElementById(inputId);\n",
              "  inputElement.disabled = false;\n",
              "\n",
              "  const outputElement = document.getElementById(outputId);\n",
              "  outputElement.innerHTML = '';\n",
              "\n",
              "  const pickedPromise = new Promise((resolve) => {\n",
              "    inputElement.addEventListener('change', (e) => {\n",
              "      resolve(e.target.files);\n",
              "    });\n",
              "  });\n",
              "\n",
              "  const cancel = document.createElement('button');\n",
              "  inputElement.parentElement.appendChild(cancel);\n",
              "  cancel.textContent = 'Cancel upload';\n",
              "  const cancelPromise = new Promise((resolve) => {\n",
              "    cancel.onclick = () => {\n",
              "      resolve(null);\n",
              "    };\n",
              "  });\n",
              "\n",
              "  // Wait for the user to pick the files.\n",
              "  const files = yield {\n",
              "    promise: Promise.race([pickedPromise, cancelPromise]),\n",
              "    response: {\n",
              "      action: 'starting',\n",
              "    }\n",
              "  };\n",
              "\n",
              "  cancel.remove();\n",
              "\n",
              "  // Disable the input element since further picks are not allowed.\n",
              "  inputElement.disabled = true;\n",
              "\n",
              "  if (!files) {\n",
              "    return {\n",
              "      response: {\n",
              "        action: 'complete',\n",
              "      }\n",
              "    };\n",
              "  }\n",
              "\n",
              "  for (const file of files) {\n",
              "    const li = document.createElement('li');\n",
              "    li.append(span(file.name, {fontWeight: 'bold'}));\n",
              "    li.append(span(\n",
              "        `(${file.type || 'n/a'}) - ${file.size} bytes, ` +\n",
              "        `last modified: ${\n",
              "            file.lastModifiedDate ? file.lastModifiedDate.toLocaleDateString() :\n",
              "                                    'n/a'} - `));\n",
              "    const percent = span('0% done');\n",
              "    li.appendChild(percent);\n",
              "\n",
              "    outputElement.appendChild(li);\n",
              "\n",
              "    const fileDataPromise = new Promise((resolve) => {\n",
              "      const reader = new FileReader();\n",
              "      reader.onload = (e) => {\n",
              "        resolve(e.target.result);\n",
              "      };\n",
              "      reader.readAsArrayBuffer(file);\n",
              "    });\n",
              "    // Wait for the data to be ready.\n",
              "    let fileData = yield {\n",
              "      promise: fileDataPromise,\n",
              "      response: {\n",
              "        action: 'continue',\n",
              "      }\n",
              "    };\n",
              "\n",
              "    // Use a chunked sending to avoid message size limits. See b/62115660.\n",
              "    let position = 0;\n",
              "    do {\n",
              "      const length = Math.min(fileData.byteLength - position, MAX_PAYLOAD_SIZE);\n",
              "      const chunk = new Uint8Array(fileData, position, length);\n",
              "      position += length;\n",
              "\n",
              "      const base64 = btoa(String.fromCharCode.apply(null, chunk));\n",
              "      yield {\n",
              "        response: {\n",
              "          action: 'append',\n",
              "          file: file.name,\n",
              "          data: base64,\n",
              "        },\n",
              "      };\n",
              "\n",
              "      let percentDone = fileData.byteLength === 0 ?\n",
              "          100 :\n",
              "          Math.round((position / fileData.byteLength) * 100);\n",
              "      percent.textContent = `${percentDone}% done`;\n",
              "\n",
              "    } while (position < fileData.byteLength);\n",
              "  }\n",
              "\n",
              "  // All done.\n",
              "  yield {\n",
              "    response: {\n",
              "      action: 'complete',\n",
              "    }\n",
              "  };\n",
              "}\n",
              "\n",
              "scope.google = scope.google || {};\n",
              "scope.google.colab = scope.google.colab || {};\n",
              "scope.google.colab._files = {\n",
              "  _uploadFiles,\n",
              "  _uploadFilesContinue,\n",
              "};\n",
              "})(self);\n",
              "</script> "
            ]
          },
          "metadata": {}
        },
        {
          "output_type": "stream",
          "name": "stdout",
          "text": [
            "Saving 3240730_Proje_Onerisi.pdf to 3240730_Proje_Onerisi.pdf\n"
          ]
        }
      ]
    },
    {
      "cell_type": "code",
      "source": [
        "uploaded_keys = uploaded.keys()  # Get the dict_keys object\n",
        "file_name = list(uploaded_keys)[0]  # Convert to a list and get the first element\n",
        "print(file_name)"
      ],
      "metadata": {
        "colab": {
          "base_uri": "https://localhost:8080/"
        },
        "id": "OrtbwBMUPycD",
        "outputId": "09607418-7019-4332-b781-b4887ae69e7a"
      },
      "execution_count": 8,
      "outputs": [
        {
          "output_type": "stream",
          "name": "stdout",
          "text": [
            "3240730_Proje_Onerisi.pdf\n"
          ]
        }
      ]
    },
    {
      "cell_type": "markdown",
      "metadata": {
        "id": "ZoiKgO2CswzA"
      },
      "source": [
        "Convert the pdf file to a text file"
      ]
    },
    {
      "cell_type": "code",
      "source": [
        "!apt-get update && apt-get install -y poppler-utils\n"
      ],
      "metadata": {
        "colab": {
          "base_uri": "https://localhost:8080/"
        },
        "id": "liDP930kBLjN",
        "outputId": "a62daa47-7c4a-4067-9a28-956b5b53739c"
      },
      "execution_count": 4,
      "outputs": [
        {
          "output_type": "stream",
          "name": "stdout",
          "text": [
            "\r0% [Working]\r            \rHit:1 http://archive.ubuntu.com/ubuntu jammy InRelease\n",
            "\r            \rGet:2 http://security.ubuntu.com/ubuntu jammy-security InRelease [129 kB]\n",
            "\r0% [Waiting for headers] [2 InRelease 56.2 kB/129 kB 44%] [Connected to cloud.r-project.org (108.157\r                                                                                                    \rGet:3 http://archive.ubuntu.com/ubuntu jammy-updates InRelease [128 kB]\n",
            "\r                                                                                                    \rHit:4 https://cloud.r-project.org/bin/linux/ubuntu jammy-cran40/ InRelease\n",
            "Hit:5 https://developer.download.nvidia.com/compute/cuda/repos/ubuntu2204/x86_64  InRelease\n",
            "Hit:6 http://archive.ubuntu.com/ubuntu jammy-backports InRelease\n",
            "Hit:7 https://ppa.launchpadcontent.net/c2d4u.team/c2d4u4.0+/ubuntu jammy InRelease\n",
            "Hit:8 https://ppa.launchpadcontent.net/deadsnakes/ppa/ubuntu jammy InRelease\n",
            "Hit:9 https://ppa.launchpadcontent.net/graphics-drivers/ppa/ubuntu jammy InRelease\n",
            "Hit:10 https://ppa.launchpadcontent.net/ubuntugis/ppa/ubuntu jammy InRelease\n",
            "Fetched 257 kB in 3s (80.1 kB/s)\n",
            "Reading package lists... Done\n",
            "Reading package lists... Done\n",
            "Building dependency tree... Done\n",
            "Reading state information... Done\n",
            "poppler-utils is already the newest version (22.02.0-2ubuntu0.4).\n",
            "0 upgraded, 0 newly installed, 0 to remove and 52 not upgraded.\n"
          ]
        }
      ]
    },
    {
      "cell_type": "code",
      "source": [
        "!pdftotext \"$file_name\" text_file.txt"
      ],
      "metadata": {
        "id": "gj_gFvwrScbe"
      },
      "execution_count": 10,
      "outputs": []
    },
    {
      "cell_type": "markdown",
      "source": [
        "Upload the text file to the Generative AI API so that we can include it in a chat or prompt."
      ],
      "metadata": {
        "id": "b89wdbAA7Huw"
      }
    },
    {
      "cell_type": "code",
      "execution_count": 5,
      "metadata": {
        "id": "_HzrDdp2Q1Cu"
      },
      "outputs": [],
      "source": [
        "\"\"\"Uploads a file to the Generative AI API.\n",
        "\n",
        "  Returns:\n",
        "    A `google.generativeai.v1beta2.types.GcsSource` object representing the uploaded file.\n",
        "  \"\"\"\n",
        "def upload_file():\n",
        "  print(f\"Uploading file...\")\n",
        "  text_file = genai.upload_file(path=\"text_file.txt\")\n",
        "  print(f\"Completed upload: {text_file.uri}\")\n",
        "  return text_file\n",
        "\n"
      ]
    },
    {
      "cell_type": "code",
      "source": [
        "text_file = upload_file()"
      ],
      "metadata": {
        "id": "VcOYA7U4OaLJ"
      },
      "execution_count": null,
      "outputs": []
    },
    {
      "cell_type": "markdown",
      "metadata": {
        "id": "EPPOECHzsIGJ"
      },
      "source": [
        "## Generate Content\n",
        "\n",
        "After the file has been uploaded, we can make `GenerateContent` or `Chat` requests that reference the File API URI. Then we will ask the model several questions regarding the content of the pdf file."
      ]
    },
    {
      "cell_type": "code",
      "source": [
        "from IPython.display import Markdown\n",
        "from IPython.display import display\n",
        "import textwrap"
      ],
      "metadata": {
        "id": "R8aeJEX4D2on"
      },
      "execution_count": 6,
      "outputs": []
    },
    {
      "cell_type": "code",
      "source": [
        "def to_markdown(text):\n",
        "  text = text.replace('•', '  *')\n",
        "  return Markdown(textwrap.indent(text, '> ', predicate=lambda _: True))"
      ],
      "metadata": {
        "id": "zL4fd8PoDjQr"
      },
      "execution_count": 7,
      "outputs": []
    },
    {
      "cell_type": "code",
      "source": [
        "chat_session = None\n",
        "def build_model(text_file):\n",
        "  global chat_session\n",
        "  generation_config = {\n",
        "    \"temperature\": 0.2,\n",
        "    \"top_p\": 0.95,\n",
        "    \"top_k\": 64,\n",
        "    \"max_output_tokens\": 8192,\n",
        "    \"response_mime_type\": \"text/plain\",\n",
        "  }\n",
        "\n",
        "  model = genai.GenerativeModel(\n",
        "    model_name=\"gemini-1.5-flash\",\n",
        "    generation_config=generation_config,\n",
        "    # safety_settings = Adjust safety settings\n",
        "    # See https://ai.google.dev/gemini-api/docs/safety-settings\n",
        "    system_instruction=\"\"\"Yüklenen belgedeki bilgilere göre Türkçe cevap ver.\n",
        "    Eğer sorunun cevabı belgede bulunmuyorsa 'Belgede Cevap Bulunmuyor' yaz.\n",
        "    \"\"\",\n",
        "  )\n",
        "\n",
        "  chat_session = model.start_chat( history=[]\n",
        "  )\n",
        "\n",
        "  response = chat_session.send_message([\"Yüklenen belgeyi bir cümle ile özetle\", text_file])\n",
        "\n",
        "  display(to_markdown(response.text))\n",
        "\n"
      ],
      "metadata": {
        "id": "QNAm4XDdEPzu"
      },
      "execution_count": 8,
      "outputs": []
    },
    {
      "cell_type": "code",
      "source": [
        "build_model(text_file)"
      ],
      "metadata": {
        "colab": {
          "base_uri": "https://localhost:8080/",
          "height": 80
        },
        "id": "uA6mJ0sorGMr",
        "outputId": "409c7e41-3662-4608-dd8e-20c0d2783faa"
      },
      "execution_count": 15,
      "outputs": [
        {
          "output_type": "display_data",
          "data": {
            "text/plain": [
              "<IPython.core.display.Markdown object>"
            ],
            "text/markdown": "> Bu belge, TÜBİTAK'a sunulan, \"Biomarkerlara Entegre olarak Veri Toplayabilen, Derin Öğrenme ile Akıl Sağlığının İnsan Bedenine Etkisini Ölçümleme ve Takip Platformu\" adlı bir Ar-Ge projesinin ayrıntılı bir değerlendirme ve izleme raporudur. \n"
          },
          "metadata": {}
        }
      ]
    },
    {
      "cell_type": "code",
      "source": [
        "def chat(prompt):\n",
        "  try:\n",
        "    response = chat_session.send_message(prompt)\n",
        "    markdown_text = to_markdown(response.text)\n",
        "    # If in a Jupyter notebook, you can display the markdown using display()\n",
        "    display(markdown_text)\n",
        "    return response.text\n",
        "  except ValueError:\n",
        "    # If the response doesn't contain text, check if the prompt was blocked.\n",
        "    print(response.prompt_feedback)\n",
        "    # Also check the finish reason to see if the response was blocked.\n",
        "    print(response.candidates[0].finish_reason)\n",
        "    # If the finish reason was SAFETY, the safety ratings have more details.\n",
        "    print(response.candidates[0].safety_ratings)\n",
        "  except Exception as e:\n",
        "      print(\"An unexpected error occurred:\", e)\n",
        "\n"
      ],
      "metadata": {
        "id": "V2dVG41fE3f4"
      },
      "execution_count": 9,
      "outputs": []
    },
    {
      "cell_type": "code",
      "source": [
        "questions=[\"Makalenin yazarları kimdir?\",\n",
        "           \"Hangi modeller kullanılmıştır?\",\n",
        "           \"Kaç referans verilmiştir?\",\n",
        "           \"Kaç yılında basılmıştır\"]"
      ],
      "metadata": {
        "id": "tSWrcznATJUO"
      },
      "execution_count": 10,
      "outputs": []
    },
    {
      "cell_type": "code",
      "source": [
        "def generate_report(questions):\n",
        "  report_text = \"\"\n",
        "  report_text += f\"\\n## SORULARINIZ VE CEVAPLARI\\n\"\n",
        "  for question in questions:\n",
        "    report_text += f\"\\n## {question}\\n\"\n",
        "    answer = chat(question)\n",
        "    report_text += f\"\\n{answer}\\n\"\n",
        "  return  report_text\n",
        "\n"
      ],
      "metadata": {
        "id": "2euBeb-lIyUL"
      },
      "execution_count": 11,
      "outputs": []
    },
    {
      "cell_type": "code",
      "source": [
        "report_text = generate_report(questions)"
      ],
      "metadata": {
        "id": "g9Xvo1SsOh7N"
      },
      "execution_count": null,
      "outputs": []
    },
    {
      "cell_type": "code",
      "source": [
        "# display the Q&A response\n",
        "display(to_markdown(report_text))"
      ],
      "metadata": {
        "colab": {
          "base_uri": "https://localhost:8080/",
          "height": 376
        },
        "id": "rorchySsWvbn",
        "outputId": "3f214b83-e566-40aa-eb6b-94f71438478e"
      },
      "execution_count": 19,
      "outputs": [
        {
          "output_type": "display_data",
          "data": {
            "text/plain": [
              "<IPython.core.display.Markdown object>"
            ],
            "text/markdown": "> \n> ## SORULARINIZ VE CEVAPLARI\n> \n> ## Makalenin yazarları kimdir?\n> \n> Belgede cevap bulunmuyor. \n> \n> \n> ## Hangi modeller kullanılmıştır?\n> \n> Belgede, derin öğrenme modelleri kullanılacağı belirtiliyor. Özellikle CNN (Convolutional Neural Network) ve LSTM (Long Short-Term Memory) modellerinin birlikte kullanılacağı belirtiliyor. Ayrıca, DBSCAN, Isolation Forest, Advance Statistical Methods gibi algoritmalar da kullanılacağı belirtiliyor. \n> \n> \n> ## Kaç referans verilmiştir?\n> \n> Belgede, 10 referans verilmiştir. \n> \n> \n> ## Kaç yılında basılmıştır\n> \n> Belgede basım tarihi bulunmuyor. \n> \n"
          },
          "metadata": {}
        }
      ]
    },
    {
      "cell_type": "code",
      "source": [
        "# Install the required libraries\n",
        "!pip install python-docx markdown html2text beautifulsoup4\n",
        "# Import necessary libraries\n",
        "import markdown\n",
        "from docx import Document\n",
        "from google.colab import files"
      ],
      "metadata": {
        "colab": {
          "base_uri": "https://localhost:8080/"
        },
        "id": "a19vx461GPwX",
        "outputId": "7a7e817c-f90f-4f0b-d621-64561db4a172"
      },
      "execution_count": 12,
      "outputs": [
        {
          "output_type": "stream",
          "name": "stdout",
          "text": [
            "Requirement already satisfied: python-docx in /usr/local/lib/python3.10/dist-packages (1.1.2)\n",
            "Requirement already satisfied: markdown in /usr/local/lib/python3.10/dist-packages (3.6)\n",
            "Requirement already satisfied: html2text in /usr/local/lib/python3.10/dist-packages (2024.2.26)\n",
            "Requirement already satisfied: beautifulsoup4 in /usr/local/lib/python3.10/dist-packages (4.12.3)\n",
            "Requirement already satisfied: lxml>=3.1.0 in /usr/local/lib/python3.10/dist-packages (from python-docx) (4.9.4)\n",
            "Requirement already satisfied: typing-extensions>=4.9.0 in /usr/local/lib/python3.10/dist-packages (from python-docx) (4.12.1)\n",
            "Requirement already satisfied: soupsieve>1.2 in /usr/local/lib/python3.10/dist-packages (from beautifulsoup4) (2.5)\n"
          ]
        }
      ]
    },
    {
      "cell_type": "code",
      "source": [
        "from docx import Document\n",
        "from bs4 import BeautifulSoup\n",
        "from google.colab import files\n",
        "\n",
        "# Function to convert the Q&A in Markdown to HTML\n",
        "def convert_Markdown_to_HTML(report_text):\n",
        "  html_text = markdown.markdown(report_text)\n",
        "  return html_text\n",
        "\n",
        "# Function to add the Q&A in HTML to a Word document\n",
        "def add_html_to_word(html_text, doc):\n",
        "    soup = BeautifulSoup(html_text, 'html.parser')\n",
        "\n",
        "    for element in soup:\n",
        "        if element.name == 'h1':\n",
        "            doc.add_heading(element.get_text(), level=1)\n",
        "        elif element.name == 'h2':\n",
        "            doc.add_heading(element.get_text(), level=2)\n",
        "        elif element.name == 'h3':\n",
        "            doc.add_heading(element.get_text(), level=3)\n",
        "        elif element.name == 'h4':\n",
        "            doc.add_heading(element.get_text(), level=4)\n",
        "        elif element.name == 'h5':\n",
        "            doc.add_heading(element.get_text(), level=5)\n",
        "        elif element.name == 'h6':\n",
        "            doc.add_heading(element.get_text(), level=6)\n",
        "        elif element.name == 'p':\n",
        "            doc.add_paragraph(element.get_text())\n",
        "        elif element.name == 'ul':\n",
        "            for li in element.find_all('li'):\n",
        "                doc.add_paragraph(li.get_text(), style='List Bullet')\n",
        "        elif element.name == 'ol':\n",
        "            for li in element.find_all('li'):\n",
        "                doc.add_paragraph(li.get_text(), style='List Number')\n",
        "        elif element.name:\n",
        "            doc.add_paragraph(element.get_text())  # For any other tags\n",
        "\n"
      ],
      "metadata": {
        "id": "XiGKK2niafRB"
      },
      "execution_count": 13,
      "outputs": []
    },
    {
      "cell_type": "code",
      "source": [
        "# Create a Word document\n",
        "doc = Document()\n",
        "\n",
        "# Convert Markdown to HTML\n",
        "html_text = convert_Markdown_to_HTML(report_text)\n",
        "\n",
        "# Add the HTML content to the Word document\n",
        "add_html_to_word(html_text, doc)\n",
        "\n",
        "# Save the document\n",
        "doc_name = file_name.replace(\".pdf\", \".docx\")\n",
        "doc_name = \"Rapor \" + doc_name\n",
        "doc.save(doc_name)\n",
        "\n",
        "# Print a message indicating that the document has been generated\n",
        "print(\"Document generated successfully!\")"
      ],
      "metadata": {
        "id": "OyI0lP5dOq6s"
      },
      "execution_count": null,
      "outputs": []
    },
    {
      "cell_type": "code",
      "source": [
        "# Download the document\n",
        "files.download(doc_name)"
      ],
      "metadata": {
        "id": "dvSo0lB7B37c",
        "colab": {
          "base_uri": "https://localhost:8080/",
          "height": 17
        },
        "outputId": "6f4b62f9-f6b7-44f5-c80d-69c07c44ba1a"
      },
      "execution_count": 22,
      "outputs": [
        {
          "output_type": "display_data",
          "data": {
            "text/plain": [
              "<IPython.core.display.Javascript object>"
            ],
            "application/javascript": [
              "\n",
              "    async function download(id, filename, size) {\n",
              "      if (!google.colab.kernel.accessAllowed) {\n",
              "        return;\n",
              "      }\n",
              "      const div = document.createElement('div');\n",
              "      const label = document.createElement('label');\n",
              "      label.textContent = `Downloading \"${filename}\": `;\n",
              "      div.appendChild(label);\n",
              "      const progress = document.createElement('progress');\n",
              "      progress.max = size;\n",
              "      div.appendChild(progress);\n",
              "      document.body.appendChild(div);\n",
              "\n",
              "      const buffers = [];\n",
              "      let downloaded = 0;\n",
              "\n",
              "      const channel = await google.colab.kernel.comms.open(id);\n",
              "      // Send a message to notify the kernel that we're ready.\n",
              "      channel.send({})\n",
              "\n",
              "      for await (const message of channel.messages) {\n",
              "        // Send a message to notify the kernel that we're ready.\n",
              "        channel.send({})\n",
              "        if (message.buffers) {\n",
              "          for (const buffer of message.buffers) {\n",
              "            buffers.push(buffer);\n",
              "            downloaded += buffer.byteLength;\n",
              "            progress.value = downloaded;\n",
              "          }\n",
              "        }\n",
              "      }\n",
              "      const blob = new Blob(buffers, {type: 'application/binary'});\n",
              "      const a = document.createElement('a');\n",
              "      a.href = window.URL.createObjectURL(blob);\n",
              "      a.download = filename;\n",
              "      div.appendChild(a);\n",
              "      a.click();\n",
              "      div.remove();\n",
              "    }\n",
              "  "
            ]
          },
          "metadata": {}
        },
        {
          "output_type": "display_data",
          "data": {
            "text/plain": [
              "<IPython.core.display.Javascript object>"
            ],
            "application/javascript": [
              "download(\"download_b3c76a3f-209e-4867-b756-4f6fc7412d1b\", \"Rapor 3240730_Proje_Onerisi.docx\", 36950)"
            ]
          },
          "metadata": {}
        }
      ]
    },
    {
      "cell_type": "markdown",
      "metadata": {
        "id": "IrPDYdQSKTg4"
      },
      "source": [
        "## Delete Files\n",
        "\n",
        "Files are automatically deleted after 2 days or you can manually delete them using `files.delete()`."
      ]
    },
    {
      "cell_type": "code",
      "execution_count": 23,
      "metadata": {
        "id": "d4eO8ZXoKdZf"
      },
      "outputs": [],
      "source": [
        "genai.delete_file(text_file.name)"
      ]
    },
    {
      "cell_type": "code",
      "source": [
        "#delete the file_name file\n",
        "!rm \"$file_name\"\n",
        "\n",
        "#delete the doc_name file\n",
        "!rm \"$doc_name\"\n",
        "\n",
        "#delete the text_file.txt\n",
        "!rm \"text_file.txt\""
      ],
      "metadata": {
        "id": "YMC8_T8RfJ2q",
        "colab": {
          "base_uri": "https://localhost:8080/"
        },
        "outputId": "d789c029-ebcf-4ac4-ba21-9a05b47e611c"
      },
      "execution_count": 14,
      "outputs": [
        {
          "output_type": "stream",
          "name": "stdout",
          "text": [
            "rm: cannot remove '': No such file or directory\n",
            "rm: cannot remove '': No such file or directory\n"
          ]
        }
      ]
    },
    {
      "cell_type": "markdown",
      "metadata": {
        "id": "K5oUCqb6IUnH"
      },
      "source": [
        "## CREATE AN INTERFACE WITH GRADIO\n",
        "\n",
        "The File API accepts files under 2GB in size and can store up to 20GB of files per project. Learn more about the [File API](https://github.com/google-gemini/cookbook/blob/main/quickstarts/File_API.ipynb) here."
      ]
    },
    {
      "cell_type": "code",
      "source": [
        "!pip install gradio"
      ],
      "metadata": {
        "colab": {
          "base_uri": "https://localhost:8080/"
        },
        "id": "aKLpquk79Tif",
        "outputId": "c1ac58e9-e7d2-4bc0-e83f-24901534dd4b"
      },
      "execution_count": 15,
      "outputs": [
        {
          "output_type": "stream",
          "name": "stdout",
          "text": [
            "Requirement already satisfied: gradio in /usr/local/lib/python3.10/dist-packages (4.36.1)\n",
            "Requirement already satisfied: aiofiles<24.0,>=22.0 in /usr/local/lib/python3.10/dist-packages (from gradio) (23.2.1)\n",
            "Requirement already satisfied: altair<6.0,>=4.2.0 in /usr/local/lib/python3.10/dist-packages (from gradio) (4.2.2)\n",
            "Requirement already satisfied: fastapi in /usr/local/lib/python3.10/dist-packages (from gradio) (0.111.0)\n",
            "Requirement already satisfied: ffmpy in /usr/local/lib/python3.10/dist-packages (from gradio) (0.3.2)\n",
            "Requirement already satisfied: gradio-client==1.0.1 in /usr/local/lib/python3.10/dist-packages (from gradio) (1.0.1)\n",
            "Requirement already satisfied: httpx>=0.24.1 in /usr/local/lib/python3.10/dist-packages (from gradio) (0.27.0)\n",
            "Requirement already satisfied: huggingface-hub>=0.19.3 in /usr/local/lib/python3.10/dist-packages (from gradio) (0.23.2)\n",
            "Requirement already satisfied: importlib-resources<7.0,>=1.3 in /usr/local/lib/python3.10/dist-packages (from gradio) (6.4.0)\n",
            "Requirement already satisfied: jinja2<4.0 in /usr/local/lib/python3.10/dist-packages (from gradio) (3.1.4)\n",
            "Requirement already satisfied: markupsafe~=2.0 in /usr/local/lib/python3.10/dist-packages (from gradio) (2.1.5)\n",
            "Requirement already satisfied: matplotlib~=3.0 in /usr/local/lib/python3.10/dist-packages (from gradio) (3.7.1)\n",
            "Requirement already satisfied: numpy<3.0,>=1.0 in /usr/local/lib/python3.10/dist-packages (from gradio) (1.25.2)\n",
            "Requirement already satisfied: orjson~=3.0 in /usr/local/lib/python3.10/dist-packages (from gradio) (3.10.4)\n",
            "Requirement already satisfied: packaging in /usr/local/lib/python3.10/dist-packages (from gradio) (24.0)\n",
            "Requirement already satisfied: pandas<3.0,>=1.0 in /usr/local/lib/python3.10/dist-packages (from gradio) (2.0.3)\n",
            "Requirement already satisfied: pillow<11.0,>=8.0 in /usr/local/lib/python3.10/dist-packages (from gradio) (9.4.0)\n",
            "Requirement already satisfied: pydantic>=2.0 in /usr/local/lib/python3.10/dist-packages (from gradio) (2.7.3)\n",
            "Requirement already satisfied: pydub in /usr/local/lib/python3.10/dist-packages (from gradio) (0.25.1)\n",
            "Requirement already satisfied: python-multipart>=0.0.9 in /usr/local/lib/python3.10/dist-packages (from gradio) (0.0.9)\n",
            "Requirement already satisfied: pyyaml<7.0,>=5.0 in /usr/local/lib/python3.10/dist-packages (from gradio) (6.0.1)\n",
            "Requirement already satisfied: ruff>=0.2.2 in /usr/local/lib/python3.10/dist-packages (from gradio) (0.4.8)\n",
            "Requirement already satisfied: semantic-version~=2.0 in /usr/local/lib/python3.10/dist-packages (from gradio) (2.10.0)\n",
            "Requirement already satisfied: tomlkit==0.12.0 in /usr/local/lib/python3.10/dist-packages (from gradio) (0.12.0)\n",
            "Requirement already satisfied: typer<1.0,>=0.12 in /usr/local/lib/python3.10/dist-packages (from gradio) (0.12.3)\n",
            "Requirement already satisfied: typing-extensions~=4.0 in /usr/local/lib/python3.10/dist-packages (from gradio) (4.12.1)\n",
            "Requirement already satisfied: urllib3~=2.0 in /usr/local/lib/python3.10/dist-packages (from gradio) (2.0.7)\n",
            "Requirement already satisfied: uvicorn>=0.14.0 in /usr/local/lib/python3.10/dist-packages (from gradio) (0.30.1)\n",
            "Requirement already satisfied: fsspec in /usr/local/lib/python3.10/dist-packages (from gradio-client==1.0.1->gradio) (2023.6.0)\n",
            "Requirement already satisfied: websockets<12.0,>=10.0 in /usr/local/lib/python3.10/dist-packages (from gradio-client==1.0.1->gradio) (11.0.3)\n",
            "Requirement already satisfied: entrypoints in /usr/local/lib/python3.10/dist-packages (from altair<6.0,>=4.2.0->gradio) (0.4)\n",
            "Requirement already satisfied: jsonschema>=3.0 in /usr/local/lib/python3.10/dist-packages (from altair<6.0,>=4.2.0->gradio) (4.19.2)\n",
            "Requirement already satisfied: toolz in /usr/local/lib/python3.10/dist-packages (from altair<6.0,>=4.2.0->gradio) (0.12.1)\n",
            "Requirement already satisfied: anyio in /usr/local/lib/python3.10/dist-packages (from httpx>=0.24.1->gradio) (3.7.1)\n",
            "Requirement already satisfied: certifi in /usr/local/lib/python3.10/dist-packages (from httpx>=0.24.1->gradio) (2024.6.2)\n",
            "Requirement already satisfied: httpcore==1.* in /usr/local/lib/python3.10/dist-packages (from httpx>=0.24.1->gradio) (1.0.5)\n",
            "Requirement already satisfied: idna in /usr/local/lib/python3.10/dist-packages (from httpx>=0.24.1->gradio) (3.7)\n",
            "Requirement already satisfied: sniffio in /usr/local/lib/python3.10/dist-packages (from httpx>=0.24.1->gradio) (1.3.1)\n",
            "Requirement already satisfied: h11<0.15,>=0.13 in /usr/local/lib/python3.10/dist-packages (from httpcore==1.*->httpx>=0.24.1->gradio) (0.14.0)\n",
            "Requirement already satisfied: filelock in /usr/local/lib/python3.10/dist-packages (from huggingface-hub>=0.19.3->gradio) (3.14.0)\n",
            "Requirement already satisfied: requests in /usr/local/lib/python3.10/dist-packages (from huggingface-hub>=0.19.3->gradio) (2.31.0)\n",
            "Requirement already satisfied: tqdm>=4.42.1 in /usr/local/lib/python3.10/dist-packages (from huggingface-hub>=0.19.3->gradio) (4.66.4)\n",
            "Requirement already satisfied: contourpy>=1.0.1 in /usr/local/lib/python3.10/dist-packages (from matplotlib~=3.0->gradio) (1.2.1)\n",
            "Requirement already satisfied: cycler>=0.10 in /usr/local/lib/python3.10/dist-packages (from matplotlib~=3.0->gradio) (0.12.1)\n",
            "Requirement already satisfied: fonttools>=4.22.0 in /usr/local/lib/python3.10/dist-packages (from matplotlib~=3.0->gradio) (4.53.0)\n",
            "Requirement already satisfied: kiwisolver>=1.0.1 in /usr/local/lib/python3.10/dist-packages (from matplotlib~=3.0->gradio) (1.4.5)\n",
            "Requirement already satisfied: pyparsing>=2.3.1 in /usr/local/lib/python3.10/dist-packages (from matplotlib~=3.0->gradio) (3.1.2)\n",
            "Requirement already satisfied: python-dateutil>=2.7 in /usr/local/lib/python3.10/dist-packages (from matplotlib~=3.0->gradio) (2.8.2)\n",
            "Requirement already satisfied: pytz>=2020.1 in /usr/local/lib/python3.10/dist-packages (from pandas<3.0,>=1.0->gradio) (2023.4)\n",
            "Requirement already satisfied: tzdata>=2022.1 in /usr/local/lib/python3.10/dist-packages (from pandas<3.0,>=1.0->gradio) (2024.1)\n",
            "Requirement already satisfied: annotated-types>=0.4.0 in /usr/local/lib/python3.10/dist-packages (from pydantic>=2.0->gradio) (0.7.0)\n",
            "Requirement already satisfied: pydantic-core==2.18.4 in /usr/local/lib/python3.10/dist-packages (from pydantic>=2.0->gradio) (2.18.4)\n",
            "Requirement already satisfied: click>=8.0.0 in /usr/local/lib/python3.10/dist-packages (from typer<1.0,>=0.12->gradio) (8.1.7)\n",
            "Requirement already satisfied: shellingham>=1.3.0 in /usr/local/lib/python3.10/dist-packages (from typer<1.0,>=0.12->gradio) (1.5.4)\n",
            "Requirement already satisfied: rich>=10.11.0 in /usr/local/lib/python3.10/dist-packages (from typer<1.0,>=0.12->gradio) (13.7.1)\n",
            "Requirement already satisfied: starlette<0.38.0,>=0.37.2 in /usr/local/lib/python3.10/dist-packages (from fastapi->gradio) (0.37.2)\n",
            "Requirement already satisfied: fastapi-cli>=0.0.2 in /usr/local/lib/python3.10/dist-packages (from fastapi->gradio) (0.0.4)\n",
            "Requirement already satisfied: ujson!=4.0.2,!=4.1.0,!=4.2.0,!=4.3.0,!=5.0.0,!=5.1.0,>=4.0.1 in /usr/local/lib/python3.10/dist-packages (from fastapi->gradio) (5.10.0)\n",
            "Requirement already satisfied: email_validator>=2.0.0 in /usr/local/lib/python3.10/dist-packages (from fastapi->gradio) (2.1.1)\n",
            "Requirement already satisfied: dnspython>=2.0.0 in /usr/local/lib/python3.10/dist-packages (from email_validator>=2.0.0->fastapi->gradio) (2.6.1)\n",
            "Requirement already satisfied: attrs>=22.2.0 in /usr/local/lib/python3.10/dist-packages (from jsonschema>=3.0->altair<6.0,>=4.2.0->gradio) (23.2.0)\n",
            "Requirement already satisfied: jsonschema-specifications>=2023.03.6 in /usr/local/lib/python3.10/dist-packages (from jsonschema>=3.0->altair<6.0,>=4.2.0->gradio) (2023.12.1)\n",
            "Requirement already satisfied: referencing>=0.28.4 in /usr/local/lib/python3.10/dist-packages (from jsonschema>=3.0->altair<6.0,>=4.2.0->gradio) (0.35.1)\n",
            "Requirement already satisfied: rpds-py>=0.7.1 in /usr/local/lib/python3.10/dist-packages (from jsonschema>=3.0->altair<6.0,>=4.2.0->gradio) (0.18.1)\n",
            "Requirement already satisfied: six>=1.5 in /usr/local/lib/python3.10/dist-packages (from python-dateutil>=2.7->matplotlib~=3.0->gradio) (1.16.0)\n",
            "Requirement already satisfied: markdown-it-py>=2.2.0 in /usr/local/lib/python3.10/dist-packages (from rich>=10.11.0->typer<1.0,>=0.12->gradio) (3.0.0)\n",
            "Requirement already satisfied: pygments<3.0.0,>=2.13.0 in /usr/local/lib/python3.10/dist-packages (from rich>=10.11.0->typer<1.0,>=0.12->gradio) (2.16.1)\n",
            "Requirement already satisfied: exceptiongroup in /usr/local/lib/python3.10/dist-packages (from anyio->httpx>=0.24.1->gradio) (1.2.1)\n",
            "Requirement already satisfied: httptools>=0.5.0 in /usr/local/lib/python3.10/dist-packages (from uvicorn>=0.14.0->gradio) (0.6.1)\n",
            "Requirement already satisfied: python-dotenv>=0.13 in /usr/local/lib/python3.10/dist-packages (from uvicorn>=0.14.0->gradio) (1.0.1)\n",
            "Requirement already satisfied: uvloop!=0.15.0,!=0.15.1,>=0.14.0 in /usr/local/lib/python3.10/dist-packages (from uvicorn>=0.14.0->gradio) (0.19.0)\n",
            "Requirement already satisfied: watchfiles>=0.13 in /usr/local/lib/python3.10/dist-packages (from uvicorn>=0.14.0->gradio) (0.22.0)\n",
            "Requirement already satisfied: charset-normalizer<4,>=2 in /usr/local/lib/python3.10/dist-packages (from requests->huggingface-hub>=0.19.3->gradio) (3.3.2)\n",
            "Requirement already satisfied: mdurl~=0.1 in /usr/local/lib/python3.10/dist-packages (from markdown-it-py>=2.2.0->rich>=10.11.0->typer<1.0,>=0.12->gradio) (0.1.2)\n"
          ]
        }
      ]
    },
    {
      "cell_type": "code",
      "source": [
        "import gradio as gr\n",
        "#import pdfplumber\n",
        "import io\n",
        "import shutil\n",
        "\n",
        "\n",
        "def process_pdf(pdf_file, user_questions):\n",
        "    # pdf file name:\n",
        "    file_name = pdf_file.split('/')[-1]\n",
        "    print(file_name)\n",
        "\n",
        "    # Save the uploaded file to the Colab content directory\n",
        "    saved_file_path = \"/content/\" + file_name\n",
        "    shutil.copyfile(pdf_file, saved_file_path)\n",
        "\n",
        "    # Convert PDF to text\n",
        "    '''\n",
        "    pdf_bytes = io.BytesIO(pdf_file)\n",
        "    with pdfplumber.open(pdf_bytes) as pdf:\n",
        "        text = ''.join(page.extract_text() for page in pdf.pages)\n",
        "    '''\n",
        "\n",
        "    # Save text to a .txt file\n",
        "    !pdftotext \"$file_name\" text_file.txt\n",
        "    text_file = None\n",
        "\n",
        "    '''\n",
        "    # Convert PDF to text\n",
        "    with pdfplumber.open(pdf_file) as pdf:\n",
        "        text = ''.join(page.extract_text() for page in pdf.pages)\n",
        "    with open(\"text_file.txt\", \"w\", encoding=\"utf-8\") as text_file:\n",
        "        text_file.write(text)\n",
        "    '''\n",
        "    text_file=upload_file()\n",
        "    build_model(text_file)\n",
        "    print(\"Model built\")\n",
        "\n",
        "    # Split the user_questions by new lines to get a list of questions\n",
        "    questions = user_questions.strip().split('\\n')\n",
        "    print(questions)\n",
        "    report_text=generate_report(questions)\n",
        "    print(report_text)\n",
        "\n",
        "    #markdown_output = markdown.markdown(report_text)\n",
        "\n",
        "\n",
        "    # Create a Word document\n",
        "    doc = Document()\n",
        "\n",
        "    # Convert Markdown to HTML\n",
        "    html_text = convert_Markdown_to_HTML(report_text)\n",
        "\n",
        "    # Add the HTML content to the Word document\n",
        "    add_html_to_word(html_text, doc)\n",
        "\n",
        "    # Save the document\n",
        "    doc_name = file_name.replace(\".pdf\", \".docx\")\n",
        "    doc_name = \"Rapor \" + doc_name\n",
        "    doc.save(doc_name)\n",
        "\n",
        "    # Print a message indicating that the document has been generated\n",
        "    print(\"Document generated successfully!\")\n",
        "\n",
        "    return html_text, doc_name\n",
        "\n",
        "# Convert the list of questions into a single string with each question on a new line\n",
        "questions_str = \"\\n\".join(questions)\n",
        "\n",
        "iface = gr.Interface(\n",
        "    fn=process_pdf,\n",
        "    inputs=[\n",
        "        gr.File(label=\"Upload PDF\", type=\"filepath\"),\n",
        "        gr.TextArea(label=\"Enter Questions\",\n",
        "                    placeholder=\"Type your questions here, one per line.\",\n",
        "                    value=questions_str)\n",
        "    ],\n",
        "    outputs=[\n",
        "        gr.HTML(label=\"HTML Formatted Report\"),\n",
        "        gr.File(label=\"DOCX File Output\", type=\"binary\")\n",
        "    ],\n",
        "    title=\"REPORT GENERATOR: ASK YOUR QUESTIONS TO A PDF FILE BY MURAT KARAKAYA AKADEMI\",\n",
        "    description=\"Upload a PDF to ask questions and get the answers.\"\n",
        ")\n",
        "\n",
        "iface.launch(share=True, debug=True)\n"
      ],
      "metadata": {
        "colab": {
          "base_uri": "https://localhost:8080/",
          "height": 1000
        },
        "collapsed": true,
        "id": "uAO3lvHunB4c",
        "outputId": "98459032-5b2d-4659-eccc-075e7e13f7c7"
      },
      "execution_count": 18,
      "outputs": [
        {
          "metadata": {
            "tags": null
          },
          "name": "stdout",
          "output_type": "stream",
          "text": [
            "Colab notebook detected. This cell will run indefinitely so that you can see errors and logs. To turn off, set debug=False in launch().\n",
            "Running on public URL: https://cf1d6f7e7a890ea9b9.gradio.live\n",
            "\n",
            "This share link expires in 72 hours. For free permanent hosting and GPU upgrades, run `gradio deploy` from Terminal to deploy to Spaces (https://huggingface.co/spaces)\n"
          ]
        },
        {
          "data": {
            "text/html": [
              "<div><iframe src=\"https://cf1d6f7e7a890ea9b9.gradio.live\" width=\"100%\" height=\"500\" allow=\"autoplay; camera; microphone; clipboard-read; clipboard-write;\" frameborder=\"0\" allowfullscreen></iframe></div>"
            ],
            "text/plain": [
              "<IPython.core.display.HTML object>"
            ]
          },
          "metadata": {},
          "output_type": "display_data"
        },
        {
          "metadata": {
            "tags": null
          },
          "name": "stdout",
          "output_type": "stream",
          "text": [
            "64 Yazýlým Mühendisliði Eðitiminde Ders Öðrenme Çýktýlarýnýn Ölçümlenmesi.pdf\n",
            "Uploading file...\n",
            "Completed upload: https://generativelanguage.googleapis.com/v1beta/files/2d5kmjm5aio2\n"
          ]
        },
        {
          "data": {
            "text/markdown": "> Bu çalışma, Atılım Üniversitesi Yazılım Mühendisliği bölümünde ders çıktılarının ölçülmesinde kullanılan iki farklı yöntemin karşılaştırılmasını ve MÜDEK akreditasyon sisteminde ders çıktısı ölçekleme çalışmaları için tavsiyeler sunmaktadır. \n",
            "text/plain": [
              "<IPython.core.display.Markdown object>"
            ]
          },
          "metadata": {},
          "output_type": "display_data"
        },
        {
          "metadata": {
            "tags": null
          },
          "name": "stdout",
          "output_type": "stream",
          "text": [
            "Model built\n",
            "['Makalenin yazarları kimdir?', 'Hangi modeller kullanılmıştır?', 'Kaç referans verilmiştir?', 'Kaç yılında basılmıştır?', 'Ana sonuçlar nelerdir?', 'Hangi dergide yada konferansta basılmıştır?']\n"
          ]
        },
        {
          "data": {
            "text/markdown": "> Makalenin yazarları Murat Karakaya, Çiğdem Turhan ve Ali Yazıcı'dır. \n",
            "text/plain": [
              "<IPython.core.display.Markdown object>"
            ]
          },
          "metadata": {},
          "output_type": "display_data"
        },
        {
          "data": {
            "text/markdown": "> Makalede doğrudan ve dolaylı ölçüm tekniklerine dayalı iki farklı model kullanılmıştır. Doğrudan ölçüm, öğrencilerin sınav, proje, ödev notları gibi somut verileri içerirken, dolaylı ölçümde anket gibi yöntemler kullanılmıştır. \n",
            "text/plain": [
              "<IPython.core.display.Markdown object>"
            ]
          },
          "metadata": {},
          "output_type": "display_data"
        },
        {
          "data": {
            "text/markdown": "> Makalede 12 referans verilmiştir. \n",
            "text/plain": [
              "<IPython.core.display.Markdown object>"
            ]
          },
          "metadata": {},
          "output_type": "display_data"
        },
        {
          "data": {
            "text/markdown": "> Makalenin basım yılı belgede belirtilmemiş. \n",
            "text/plain": [
              "<IPython.core.display.Markdown object>"
            ]
          },
          "metadata": {},
          "output_type": "display_data"
        },
        {
          "data": {
            "text/markdown": "> Makalenin ana sonuçları şunlardır:\n> \n> * Öğrencilerin ders çıktılarını öğrendikleri konusundaki algıları, aldıkları notlara göre daha yüksek seviyededir.\n> * Doğrudan ve dolaylı değerlendirmede ders çıktılarında görülen farklılıkların bir nedeni de notlandırmada sıklıkla kullanılan çan eğrisidir.\n> * Öğretmen ve öğrenci kitlesindeki değişimin ders çıktılarının başarımını etkileme olasılığı vardır.\n> * Yalnızca 7 dönemlik verilere dayanarak ders çıktılarının başarımına göre ders içeriklerinin ve işlenme yöntemlerinin iyileştirilmesinin sağlıklı sonuç vermeyeceği değerlendirilmektedir.\n> * İleride yapılacak çalışmalarda ders çıktılarının ölçümlenmesiyle bu ölçümlerin ampirik verilerle desteklenmesi önem arz etmektedir.\n> \n> Bu sonuçlar, MÜDEK kapsamında ders çıktılarının ölçümü için yeni metodların geliştirilmesi ve değerlendirilmesi gerektiğini göstermektedir. \n",
            "text/plain": [
              "<IPython.core.display.Markdown object>"
            ]
          },
          "metadata": {},
          "output_type": "display_data"
        },
        {
          "data": {
            "text/markdown": "> Belgede makaleyi yayınlayan dergi veya konferans bilgisi bulunmuyor. \n",
            "text/plain": [
              "<IPython.core.display.Markdown object>"
            ]
          },
          "metadata": {},
          "output_type": "display_data"
        },
        {
          "output_type": "stream",
          "name": "stdout",
          "text": [
            "\n",
            "## SORULARINIZ VE CEVAPLARI\n",
            "\n",
            "## Makalenin yazarları kimdir?\n",
            "\n",
            "Makalenin yazarları Murat Karakaya, Çiğdem Turhan ve Ali Yazıcı'dır. \n",
            "\n",
            "\n",
            "## Hangi modeller kullanılmıştır?\n",
            "\n",
            "Makalede doğrudan ve dolaylı ölçüm tekniklerine dayalı iki farklı model kullanılmıştır. Doğrudan ölçüm, öğrencilerin sınav, proje, ödev notları gibi somut verileri içerirken, dolaylı ölçümde anket gibi yöntemler kullanılmıştır. \n",
            "\n",
            "\n",
            "## Kaç referans verilmiştir?\n",
            "\n",
            "Makalede 12 referans verilmiştir. \n",
            "\n",
            "\n",
            "## Kaç yılında basılmıştır?\n",
            "\n",
            "Makalenin basım yılı belgede belirtilmemiş. \n",
            "\n",
            "\n",
            "## Ana sonuçlar nelerdir?\n",
            "\n",
            "Makalenin ana sonuçları şunlardır:\n",
            "\n",
            "* Öğrencilerin ders çıktılarını öğrendikleri konusundaki algıları, aldıkları notlara göre daha yüksek seviyededir.\n",
            "* Doğrudan ve dolaylı değerlendirmede ders çıktılarında görülen farklılıkların bir nedeni de notlandırmada sıklıkla kullanılan çan eğrisidir.\n",
            "* Öğretmen ve öğrenci kitlesindeki değişimin ders çıktılarının başarımını etkileme olasılığı vardır.\n",
            "* Yalnızca 7 dönemlik verilere dayanarak ders çıktılarının başarımına göre ders içeriklerinin ve işlenme yöntemlerinin iyileştirilmesinin sağlıklı sonuç vermeyeceği değerlendirilmektedir.\n",
            "* İleride yapılacak çalışmalarda ders çıktılarının ölçümlenmesiyle bu ölçümlerin ampirik verilerle desteklenmesi önem arz etmektedir.\n",
            "\n",
            "Bu sonuçlar, MÜDEK kapsamında ders çıktılarının ölçümü için yeni metodların geliştirilmesi ve değerlendirilmesi gerektiğini göstermektedir. \n",
            "\n",
            "\n",
            "## Hangi dergide yada konferansta basılmıştır?\n",
            "\n",
            "Belgede makaleyi yayınlayan dergi veya konferans bilgisi bulunmuyor. \n",
            "\n",
            "\n",
            "Document generated successfully!\n",
            "Keyboard interruption in main thread... closing server.\n",
            "Killing tunnel 127.0.0.1:7860 <> https://cf1d6f7e7a890ea9b9.gradio.live\n"
          ]
        },
        {
          "output_type": "execute_result",
          "data": {
            "text/plain": []
          },
          "metadata": {},
          "execution_count": 18
        }
      ]
    },
    {
      "cell_type": "code",
      "source": [],
      "metadata": {
        "id": "7p3lSUnyl6AM"
      },
      "execution_count": 26,
      "outputs": []
    }
  ],
  "metadata": {
    "colab": {
      "provenance": [],
      "include_colab_link": true
    },
    "kernelspec": {
      "display_name": "Python 3",
      "name": "python3"
    }
  },
  "nbformat": 4,
  "nbformat_minor": 0
}