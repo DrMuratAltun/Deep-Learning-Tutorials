{
  "nbformat": 4,
  "nbformat_minor": 0,
  "metadata": {
    "colab": {
      "name": "Save Load Keras Models with Custom Layers.ipynb",
      "provenance": [],
      "collapsed_sections": [
        "0FKitY3ahAx7",
        "X5Y6A8WT7xP9"
      ],
      "mount_file_id": "1Wnh937t-rKMGxRUpvzgVLsyPMS-o5Hsk",
      "authorship_tag": "ABX9TyNNWQm0Vepe+vtwELXUUtwf",
      "include_colab_link": true
    },
    "kernelspec": {
      "display_name": "Python 3",
      "name": "python3"
    },
    "language_info": {
      "name": "python"
    }
  },
  "cells": [
    {
      "cell_type": "markdown",
      "metadata": {
        "id": "view-in-github",
        "colab_type": "text"
      },
      "source": [
        "<a href=\"https://colab.research.google.com/github/kmkarakaya/Deep-Learning-Tutorials/blob/master/Save_Load_Keras_Models_with_Custom_Layers.ipynb\" target=\"_parent\"><img src=\"https://colab.research.google.com/assets/colab-badge.svg\" alt=\"Open In Colab\"/></a>"
      ]
    },
    {
      "cell_type": "markdown",
      "metadata": {
        "id": "w47A5xPdXp1W"
      },
      "source": [
        "# How to save and load a TensorFlow / Keras Model with Custom Objects?\n",
        "\n",
        "**Author:** [Murat Karakaya](https://www.linkedin.com/in/muratkarakaya/)<br>\n",
        "**Date created:** 30 May 2021<br>\n",
        "**Last modified:** 06 Jun 2021<br>\n",
        "**Description:** In this tutorial, we will design and train a **Keras  model** (miniature GPT3) with some **custom objects** (***custom layers***). Our aim is to learn how to **save** the **trained model** as a whole and **load** the saved model. We will learn 2 different save formats: \"**TensorFlow SevedModel**\" & \"**HDF5**\".  <br>\n",
        "**Accessible on:**\n",
        "* [YouTube in English]()\n",
        "* [YouTube in Turkish]()\n",
        "* [Medium](https://kmkarakaya.medium.com/save-load-keras-models-with-custom-layers-8f55ba9183d2)\n",
        "* [Github pages](https://kmkarakaya.github.io/Deep-Learning-Tutorials/)\n",
        "* [Github Repo](https://github.com/kmkarakaya/Deep-Learning-Tutorials)\n",
        "* [Google Colab](https://colab.research.google.com/drive/1gfvcXwBDel8USWuMeb-hrSKihXGy_bSl?usp=sharing)\n",
        "\n",
        "\n",
        "\n"
      ]
    },
    {
      "cell_type": "markdown",
      "metadata": {
        "id": "p82_OOFGZ-ze"
      },
      "source": [
        "# References:\n",
        "[Keras API reference / Callbacks API / ModelCheckpoint](https://keras.io/api/callbacks/model_checkpoint/)\n",
        "\n",
        "[ Keras API reference / Models API / Model saving & serialization APIs](https://keras.io/api/models/model_saving_apis/)\n",
        "\n",
        "\n",
        "[TensorFlow Core Tutorials: Save and load models](https://www.tensorflow.org/tutorials/keras/save_and_load)\n",
        "\n",
        "\n",
        "[TensorFlow Core Tutorials: Saving custom objects](https://www.tensorflow.org/tutorials/keras/save_and_load#saving_custom_objects)\n",
        "\n",
        "[Saving Keras models with Custom Layers](https://newbedev.com/saving-keras-models-with-custom-layers)\n"
      ]
    },
    {
      "cell_type": "markdown",
      "metadata": {
        "id": "0FKitY3ahAx7"
      },
      "source": [
        "# Import Libraries"
      ]
    },
    {
      "cell_type": "code",
      "metadata": {
        "id": "nsDBX1yETA3v"
      },
      "source": [
        "import numpy as np \n",
        "import os\n",
        "import tensorflow as tf\n",
        "from tensorflow import keras\n",
        "from tensorflow.keras import layers\n",
        "from numpy import random"
      ],
      "execution_count": null,
      "outputs": []
    },
    {
      "cell_type": "markdown",
      "metadata": {
        "id": "X5Y6A8WT7xP9"
      },
      "source": [
        "# Check Versions"
      ]
    },
    {
      "cell_type": "code",
      "metadata": {
        "colab": {
          "base_uri": "https://localhost:8080/"
        },
        "cellView": "form",
        "id": "kCLNQbsu6XcN",
        "outputId": "d2005785-9689-4ff2-a047-6b8c8e7afc23"
      },
      "source": [
        "#@title Versions:\n",
        "print(\"tf.version: \", tf.version.VERSION)\n",
        "print(\"tf.keras.version: \", tf.keras.__version__)"
      ],
      "execution_count": null,
      "outputs": [
        {
          "output_type": "stream",
          "text": [
            "tf.version:  2.5.0\n",
            "tf.keras.version:  2.5.0\n"
          ],
          "name": "stdout"
        }
      ]
    },
    {
      "cell_type": "markdown",
      "metadata": {
        "id": "UC7gB_-X5nvX"
      },
      "source": [
        "# Let me ask you: Have you ever used a custom layer / loss function / activation function / metric?\n",
        "\n",
        "If you have ever implemented one of these ***please share your experiences*** in the comments. \n",
        "\n",
        "I wonder if you feel confortable with somehow these advanced topics that I work on.\n",
        "\n",
        "**Thank you!**"
      ]
    },
    {
      "cell_type": "markdown",
      "metadata": {
        "id": "lz4Cw-TZgNce"
      },
      "source": [
        "# What to save:\n",
        "\n",
        "We can save either:\n",
        "* [the entire model](https://www.tensorflow.org/tutorials/keras/save_and_load#save_the_entire_model) or\n",
        "* [the architecture](https://www.tensorflow.org/guide/keras/save_and_serialize#saving_the_architecture) or\n",
        "* [the weights](https://www.tensorflow.org/guide/keras/save_and_serialize#saving_loading_only_the_models_weights_values)\n",
        "\n",
        "In this tutorial, I will focus on how to save the **whole** TensorFlow / Keras models **with custom objects**, e.g. custom layers, custom activation functions, custom loss functions.\n",
        "\n",
        "I will not talk about the *checkpoint* process in this tutorial.\n",
        "\n",
        "\n",
        "\n"
      ]
    },
    {
      "cell_type": "markdown",
      "metadata": {
        "id": "wmQGGGyoiIS5"
      },
      "source": [
        "# What do we save when we save the whole model?\n",
        "\n",
        "We can save an **entire model** to a single artifact. \n",
        "\n",
        "[It will include](https://www.tensorflow.org/guide/keras/save_and_serialize#whole-model_saving_loading):\n",
        "\n",
        "* The model's ***architecture/config***\n",
        "* The model's ***weight*** values (which were learned during training)\n",
        "* The model's ***compilation*** information (if compile() was called)\n",
        "* The ***optimizer*** and its state, if any (this **enables** you to **resume training** where you left)\n",
        "\n"
      ]
    },
    {
      "cell_type": "markdown",
      "metadata": {
        "id": "7v-lvuVKhvcO"
      },
      "source": [
        "# Why do we save the whole TensorFlow & Keras Models?\n",
        "\n",
        "Saving a **fully-functional model** is [very useful](https://www.tensorflow.org/tutorials/keras/save_and_load#save_the_entire_model):\n",
        "* You can load them in TensorFlow.js and then train and run them in web browsers, or \n",
        "* You can convert them to run on mobile devices using TensorFlow Lite. \n",
        "* Furthermore, you do not need the model's \"***Python code***\" for inference.  \n",
        "* In addition, you can **resume training** where you left when saved the model."
      ]
    },
    {
      "cell_type": "markdown",
      "metadata": {
        "id": "WFXnBcsPftp8"
      },
      "source": [
        "# What are the Save Formats in TensorFlow / Keras?\n",
        "\n",
        "We have 2 model save formats: \n",
        "* Either  Tensorflow SavedModel or\n",
        "* HDF5\n",
        "\n",
        "\n",
        "**Defaults:**\n",
        "* for TF 2.X is  **Tensorflow SavedModel** \n",
        "* for TF 1.X is  **HDF5**\n",
        "\n"
      ]
    },
    {
      "cell_type": "markdown",
      "metadata": {
        "id": "i9ZpFgHAi1Vi"
      },
      "source": [
        "# Which save format should I use?\n",
        "\n",
        "In a nut's shell, I **strongly suggest** to use the **TensorFlow SavedModel** format to ***save the entire model***.\n",
        "\n",
        "Do not use the H5 format unless you have a good reason!\n",
        "\n"
      ]
    },
    {
      "cell_type": "markdown",
      "metadata": {
        "id": "oCOokymrkN7P"
      },
      "source": [
        "# Why should I use the TensorFlow SavedModel format?\n",
        "According to [Tensorflow Guide (2.5 or higher)](https://www.tensorflow.org/guide/keras/save_and_serialize#limitations); \n",
        "\n",
        "The **H5** format ***does not include*** two things that are saved by\n",
        " the **TF SavedModel** format:\n",
        "\n",
        "* **External losses & metrics** added via model.add_loss() & model.add_metric() are **not saved**(**unlike SavedModel**). \n",
        "\n",
        "  If you have such losses & metrics on your model and you want to resume training, you need to add these losses back yourself after loading the model. Note that this does not apply to losses/metrics created inside layers via self.add_loss() & self.add_metric(). As long as the layer gets loaded, these losses & metrics are kept, since they are part of the call method of the layer.\n",
        "\n",
        "* The computation graph of custom objects such as **custom layers** is **not included** in the saved file. At loading time, Keras will need access to the Python classes/functions of these objects in order to reconstruct the model. See Custom objects.\n",
        "\n",
        "The buttom line is that \"[the SavedModel format saves and loads *custom layers* without the original class definition](https://keras.io/api/models/model_saving_apis/)\"\n",
        "\n",
        "If you want to learn more about this property, look for the [save_traces]((https://keras.io/api/models/model_saving_apis/)) parameter.\n",
        "\n",
        "I will show below how to save models with custom objects when saved in the H5 format."
      ]
    },
    {
      "cell_type": "markdown",
      "metadata": {
        "id": "7SdzgkVQlAbi"
      },
      "source": [
        "# Which methods / functions to use to save the entire TensorFlow / Keras Models?\n",
        "\n",
        "You can use:\n",
        "* A Keras model's `model.save()` method or\n",
        "* TensorFlow's `tf.keras.models.save_model()` method\n"
      ]
    },
    {
      "cell_type": "markdown",
      "metadata": {
        "id": "r-Odd9eHlr0d"
      },
      "source": [
        "# How to instruct the method to save in which format?\n",
        "\n",
        "In both methods:\n",
        "* if you only supply the name of the saved model, e.g. `model.save('my_model')`, then the saved model format will be **TF savedmodel** as ***default***.\n",
        "\n",
        "* If you supply the H5 file extension,  e.g. `model.save('my_model.h5')`, then the saved model format will be **HDF5**."
      ]
    },
    {
      "cell_type": "markdown",
      "metadata": {
        "id": "e9Xfq_VQ-lYn"
      },
      "source": [
        "# Create a Keras Model with custom objects ( custom layers)"
      ]
    },
    {
      "cell_type": "markdown",
      "metadata": {
        "id": "3u9zxdzw-vLY"
      },
      "source": [
        "## First, prepare the random train dataset:"
      ]
    },
    {
      "cell_type": "code",
      "metadata": {
        "id": "lumzoHUWDJPh"
      },
      "source": [
        "maxlen = 20\n",
        "vocab_size = 100\n",
        "number_of_categories = 20\n",
        "rawdata = random.randint(vocab_size, size=(200, maxlen+1))\n",
        "X = rawdata[:,:-1]\n",
        "c = random.randint(number_of_categories, size=(200,1))\n",
        "y = rawdata[:,1:]"
      ],
      "execution_count": null,
      "outputs": []
    },
    {
      "cell_type": "markdown",
      "metadata": {
        "id": "S235G9x9-6vh"
      },
      "source": [
        "## Then, build a TensorFlow Data Pipeline:"
      ]
    },
    {
      "cell_type": "code",
      "metadata": {
        "colab": {
          "base_uri": "https://localhost:8080/"
        },
        "id": "toGNc3D6D8wF",
        "outputId": "657e3680-a1cb-4567-ec03-54fa3e7b3d1c"
      },
      "source": [
        "train_ds= tf.data.Dataset.from_tensor_slices((X,c,y))\n",
        "train_ds.element_spec"
      ],
      "execution_count": null,
      "outputs": [
        {
          "output_type": "execute_result",
          "data": {
            "text/plain": [
              "(TensorSpec(shape=(20,), dtype=tf.int64, name=None),\n",
              " TensorSpec(shape=(1,), dtype=tf.int64, name=None),\n",
              " TensorSpec(shape=(20,), dtype=tf.int64, name=None))"
            ]
          },
          "metadata": {
            "tags": []
          },
          "execution_count": 4
        }
      ]
    },
    {
      "cell_type": "code",
      "metadata": {
        "id": "Hc7toJ1kGp7u"
      },
      "source": [
        "def re_struct(X,c,y):\n",
        "  return (X,c),y\n",
        "train_ds = train_ds.map(re_struct)"
      ],
      "execution_count": null,
      "outputs": []
    },
    {
      "cell_type": "code",
      "metadata": {
        "id": "aqgknEOoMaei"
      },
      "source": [
        "batch_size=64\n",
        "train_ds=train_ds.batch(batch_size=batch_size,drop_remainder=True, \n",
        "                        num_parallel_calls=tf.data.experimental.AUTOTUNE)\n",
        "train_ds=train_ds.cache()\n",
        "train_ds = train_ds.prefetch(tf.data.experimental.AUTOTUNE)"
      ],
      "execution_count": null,
      "outputs": []
    },
    {
      "cell_type": "code",
      "metadata": {
        "colab": {
          "base_uri": "https://localhost:8080/"
        },
        "id": "xb5oVnsq_iR_",
        "outputId": "270bdb75-13a5-493a-f305-8bab10712716"
      },
      "source": [
        "train_ds.element_spec"
      ],
      "execution_count": null,
      "outputs": [
        {
          "output_type": "execute_result",
          "data": {
            "text/plain": [
              "((TensorSpec(shape=(64, 20), dtype=tf.int64, name=None),\n",
              "  TensorSpec(shape=(64, 1), dtype=tf.int64, name=None)),\n",
              " TensorSpec(shape=(64, 20), dtype=tf.int64, name=None))"
            ]
          },
          "metadata": {
            "tags": []
          },
          "execution_count": 7
        }
      ]
    },
    {
      "cell_type": "code",
      "metadata": {
        "colab": {
          "base_uri": "https://localhost:8080/"
        },
        "id": "iZYOW3nvOHzm",
        "outputId": "481aa49f-4152-494a-d89d-a632fdbd1b9b"
      },
      "source": [
        "for (X,c), y in train_ds.take(1):\n",
        "  print(X.shape, c.shape, y.shape)\n",
        "  print(\"\\nFirst sample in the batch:\")\n",
        "  print(\"\\tX is: \" ,X[0])\n",
        "  print(\"\\tc is: \", c[0])\n",
        "  print(\"\\ty is: \", y[0])\n",
        "\n"
      ],
      "execution_count": null,
      "outputs": [
        {
          "output_type": "stream",
          "text": [
            "(64, 20) (64, 1) (64, 20)\n",
            "\n",
            "First sample in the batch:\n",
            "\tX is:  tf.Tensor([33 14 43 81 91 13 35 75 34 53 35 86 95  3 50 79 79 20 84 71], shape=(20,), dtype=int64)\n",
            "\tc is:  tf.Tensor([16], shape=(1,), dtype=int64)\n",
            "\ty is:  tf.Tensor([14 43 81 91 13 35 75 34 53 35 86 95  3 50 79 79 20 84 71 30], shape=(20,), dtype=int64)\n"
          ],
          "name": "stdout"
        }
      ]
    },
    {
      "cell_type": "markdown",
      "metadata": {
        "id": "WWagDmDO_DkG"
      },
      "source": [
        "## Design a Miniature GPT3 Model with custom layers\n",
        "\n",
        "For more information you can visit the Controllable Text Generation tutorial series on Youtube ( [Turkish](https://www.youtube.com/playlist?list=PLQflnv_s49v8-xeTLx1QmuE-YkRB4bToF) / [English](https://www.youtube.com/playlist?list=PLQflnv_s49v8Eo2idw9Ju5Qq3JTEF-OFW)) or on [Medium](https://medium.com/deep-learning-with-keras/controllable-text-generation-in-deep-learning-with-transformers-gpt3-using-tensorflow-keras-3d9e6bbe243b).\n",
        "\n",
        "\n"
      ]
    },
    {
      "cell_type": "code",
      "metadata": {
        "id": "Ra187QqGBjk2"
      },
      "source": [
        "def causal_attention_mask(batch_size, n_dest, n_src, dtype):\n",
        "    \"\"\"\n",
        "    Mask the upper half of the dot product matrix in self attention.\n",
        "    This prevents flow of information from future tokens to current token.\n",
        "    1's in the lower triangle, counting from the lower right corner.\n",
        "    \"\"\"\n",
        "    i = tf.range(n_dest)[:, None]\n",
        "    j = tf.range(n_src)\n",
        "    m = i >= j - n_src + n_dest\n",
        "    mask = tf.cast(m, dtype)\n",
        "    mask = tf.reshape(mask, [1, n_dest, n_src])\n",
        "    mult = tf.concat(\n",
        "        [tf.expand_dims(batch_size, -1), tf.constant([1, 1], dtype=tf.int32)], 0\n",
        "    )\n",
        "    return tf.tile(mask, mult)"
      ],
      "execution_count": null,
      "outputs": []
    },
    {
      "cell_type": "markdown",
      "metadata": {
        "id": "Mit_k418Bm8B"
      },
      "source": [
        "**Pay Attention:**\n",
        "* We define **the first custom layer** `TransformerBlock()`"
      ]
    },
    {
      "cell_type": "code",
      "metadata": {
        "id": "Rd4zF0shPjie"
      },
      "source": [
        "class TransformerBlock(layers.Layer):\n",
        "    def __init__(self, embed_dim, num_heads, ff_dim, rate=0.1, **kwargs):\n",
        "        super(TransformerBlock, self).__init__()\n",
        "        self.embed_dim=embed_dim\n",
        "        self.num_heads = num_heads\n",
        "        self.ff_dim =ff_dim\n",
        "        self.att = layers.MultiHeadAttention(num_heads, embed_dim)\n",
        "        self.ffn = keras.Sequential(\n",
        "            [layers.Dense(ff_dim, activation=\"relu\"), layers.Dense(embed_dim),]\n",
        "        )\n",
        "        self.layernorm1 = layers.LayerNormalization(epsilon=1e-6)\n",
        "        self.layernorm2 = layers.LayerNormalization(epsilon=1e-6)\n",
        "        self.dropout1 = layers.Dropout(rate)\n",
        "        self.dropout2 = layers.Dropout(rate)\n",
        "\n",
        "    def call(self, inputs):\n",
        "        input_shape = tf.shape(inputs)\n",
        "        batch_size = input_shape[0]\n",
        "        seq_len = input_shape[1]\n",
        "        causal_mask = causal_attention_mask(batch_size, seq_len, seq_len, tf.bool)\n",
        "        attention_output = self.att(inputs, inputs, attention_mask=causal_mask)\n",
        "        attention_output = self.dropout1(attention_output)\n",
        "        out1 = self.layernorm1(inputs + attention_output)\n",
        "        ffn_output = self.ffn(out1)\n",
        "        ffn_output = self.dropout2(ffn_output)\n",
        "        return self.layernorm2(out1 + ffn_output)"
      ],
      "execution_count": null,
      "outputs": []
    },
    {
      "cell_type": "markdown",
      "metadata": {
        "id": "FcoZwGxNCDsl"
      },
      "source": [
        "* and  **the second custom layer** `TokenPositionAndCategoricalEmbedding()`"
      ]
    },
    {
      "cell_type": "code",
      "metadata": {
        "id": "siLaChYLPmNf"
      },
      "source": [
        "class TokenPositionAndCategoricalEmbedding(layers.Layer):\n",
        "    def __init__(self, maxlen, vocab_size, number_of_categories, embed_dim, **kwargs):\n",
        "        super(TokenPositionAndCategoricalEmbedding, self).__init__()\n",
        "        self.maxlen = maxlen\n",
        "        self.vocab_size = vocab_size\n",
        "        self.embed_dim = embed_dim\n",
        "        self.number_of_categories = number_of_categories\n",
        "        self.token_emb = layers.Embedding(input_dim=vocab_size, output_dim=embed_dim)\n",
        "        self.category_emb = layers.Embedding(input_dim=number_of_categories, output_dim=embed_dim)\n",
        "        self.pos_emb = layers.Embedding(input_dim=maxlen, output_dim=embed_dim)\n",
        "\n",
        "    def call(self, X, c):\n",
        "        maxlen = tf.shape(X)[-1]\n",
        "        positions = tf.range(start=0, limit=maxlen, delta=1)\n",
        "        positions = self.pos_emb(positions)\n",
        "        X = self.token_emb(X)\n",
        "        c= self.category_emb(c)\n",
        "        return X + positions + c"
      ],
      "execution_count": null,
      "outputs": []
    },
    {
      "cell_type": "markdown",
      "metadata": {
        "id": "zH4HvcpWCVTp"
      },
      "source": [
        "## Now, we can use these custom layers to build the Keras model as follows:"
      ]
    },
    {
      "cell_type": "code",
      "metadata": {
        "id": "cH4Qq4jZQCgG"
      },
      "source": [
        "embed_dim = 256  # Embedding size for each token\n",
        "num_heads = 2  # Number of attention heads\n",
        "feed_forward_dim = 256  # Hidden layer size in feed forward network inside transformer\n",
        "\n",
        "\n",
        "def create_model():\n",
        "    inputs_tokens = layers.Input(shape=(maxlen,), dtype=tf.int32)\n",
        "    inputs_category = layers.Input(shape=(1,), dtype=tf.int32, name=\"inputs_category\")\n",
        "    # the first custom layer for embedding \n",
        "    embedding_layer = TokenPositionAndCategoricalEmbedding(maxlen, vocab_size, \n",
        "                                                           number_of_categories, \n",
        "                                                           embed_dim)\n",
        "    x = embedding_layer(inputs_tokens,inputs_category)\n",
        "    # the second custom layer for GPT-kind-of transformer decoder block\n",
        "    transformer_block = TransformerBlock(embed_dim, num_heads, feed_forward_dim)\n",
        "    x = transformer_block(x)\n",
        "    outputs = layers.Dense(vocab_size)(x)\n",
        "    model = keras.Model(inputs=[inputs_tokens,inputs_category], outputs=[outputs, x])\n",
        "    loss_fn = tf.keras.losses.SparseCategoricalCrossentropy(from_logits=True)\n",
        "    model.compile(\n",
        "        \"adam\", loss=[loss_fn, None],\n",
        "    )  # No loss and optimization based on word embeddings from transformer block\n",
        "    return model\n",
        "my_model=create_model()"
      ],
      "execution_count": null,
      "outputs": []
    },
    {
      "cell_type": "markdown",
      "metadata": {
        "id": "seRlzsr2Cxxp"
      },
      "source": [
        "## Let's see the model summary & plot:"
      ]
    },
    {
      "cell_type": "code",
      "metadata": {
        "colab": {
          "base_uri": "https://localhost:8080/"
        },
        "id": "5f6lDMblQ1_y",
        "outputId": "18943f3b-d403-48b1-8f00-bd0c0b799e96"
      },
      "source": [
        "my_model.summary()"
      ],
      "execution_count": null,
      "outputs": [
        {
          "output_type": "stream",
          "text": [
            "Model: \"model\"\n",
            "__________________________________________________________________________________________________\n",
            "Layer (type)                    Output Shape         Param #     Connected to                     \n",
            "==================================================================================================\n",
            "input_1 (InputLayer)            [(None, 20)]         0                                            \n",
            "__________________________________________________________________________________________________\n",
            "inputs_category (InputLayer)    [(None, 1)]          0                                            \n",
            "__________________________________________________________________________________________________\n",
            "token_position_and_categorical_ (None, 20, 256)      35840       input_1[0][0]                    \n",
            "                                                                 inputs_category[0][0]            \n",
            "__________________________________________________________________________________________________\n",
            "transformer_block (TransformerB (None, 20, 256)      658688      token_position_and_categorical_em\n",
            "__________________________________________________________________________________________________\n",
            "dense_2 (Dense)                 (None, 20, 100)      25700       transformer_block[0][0]          \n",
            "==================================================================================================\n",
            "Total params: 720,228\n",
            "Trainable params: 720,228\n",
            "Non-trainable params: 0\n",
            "__________________________________________________________________________________________________\n"
          ],
          "name": "stdout"
        }
      ]
    },
    {
      "cell_type": "code",
      "metadata": {
        "colab": {
          "base_uri": "https://localhost:8080/",
          "height": 422
        },
        "id": "g4H2R0RK0Qfg",
        "outputId": "2ca4ee1e-13d2-4470-ae6e-6f349e644058"
      },
      "source": [
        "tf.keras.utils.plot_model(my_model,show_shapes=True)"
      ],
      "execution_count": null,
      "outputs": [
        {
          "output_type": "execute_result",
          "data": {
            "image/png": "[encoded data removed]",
            "text/plain": [
              "<IPython.core.display.Image object>"
            ]
          },
          "metadata": {
            "tags": []
          },
          "execution_count": 14
        }
      ]
    },
    {
      "cell_type": "markdown",
      "metadata": {
        "id": "nI6rsbSbC9qw"
      },
      "source": [
        "## Train the Keras model with custom layers for 3 epochs:"
      ]
    },
    {
      "cell_type": "code",
      "metadata": {
        "colab": {
          "base_uri": "https://localhost:8080/"
        },
        "id": "vp-LhjojRA4Y",
        "outputId": "d1c81093-4249-41f2-b0e4-c5437710413a"
      },
      "source": [
        "my_model.fit(train_ds, verbose=1, epochs=3)"
      ],
      "execution_count": null,
      "outputs": [
        {
          "output_type": "stream",
          "text": [
            "Epoch 1/3\n",
            "3/3 [==============================] - 2s 134ms/step - loss: 5.2299 - dense_2_loss: 5.2299\n",
            "Epoch 2/3\n",
            "3/3 [==============================] - 0s 133ms/step - loss: 4.6296 - dense_2_loss: 4.6296\n",
            "Epoch 3/3\n",
            "3/3 [==============================] - 0s 133ms/step - loss: 4.3426 - dense_2_loss: 4.3426\n"
          ],
          "name": "stdout"
        },
        {
          "output_type": "execute_result",
          "data": {
            "text/plain": [
              "<tensorflow.python.keras.callbacks.History at 0x7fd4e3778b50>"
            ]
          },
          "metadata": {
            "tags": []
          },
          "execution_count": 15
        }
      ]
    },
    {
      "cell_type": "markdown",
      "metadata": {
        "id": "JEf_uURQDJeR"
      },
      "source": [
        "## Let's fix a test sample"
      ]
    },
    {
      "cell_type": "code",
      "metadata": {
        "id": "lNDgJgl9KC2F"
      },
      "source": [
        "test=train_ds.take(1)"
      ],
      "execution_count": null,
      "outputs": []
    },
    {
      "cell_type": "markdown",
      "metadata": {
        "id": "WCCXiZlRDNcZ"
      },
      "source": [
        "Please note the the prediction of the trained model to check if the trained model and saved model have the same weights:"
      ]
    },
    {
      "cell_type": "code",
      "metadata": {
        "colab": {
          "base_uri": "https://localhost:8080/"
        },
        "id": "TQS_ss_0Jcnt",
        "outputId": "da580bd0-fa16-40a4-8d40-8d8890d2d887"
      },
      "source": [
        "my_model.predict(test)[0][0][0][0]"
      ],
      "execution_count": null,
      "outputs": [
        {
          "output_type": "execute_result",
          "data": {
            "text/plain": [
              "0.254973"
            ]
          },
          "metadata": {
            "tags": []
          },
          "execution_count": 17
        }
      ]
    },
    {
      "cell_type": "markdown",
      "metadata": {
        "id": "FPH1duWedJGA"
      },
      "source": [
        "# Saving custom objects with HDF5 format\n",
        "\n",
        "According to the [TensorFlow Core Tutorials: Saving custom objects with HDF5 format](https://www.tensorflow.org/tutorials/keras/save_and_load#saving_custom_objects) \n",
        "\n",
        "To save custom objects to HDF5, you must do the following:\n",
        "\n",
        "1. Define a `get_config()` method in your object, and optionally a from_config class method.\n",
        "* `get_config(self)` returns a JSON-serializable dictionary of parameters needed to recreate the object.\n",
        "* `from_config(cls, config)` uses the returned config from get_config to create a new object. **By default**, this function will use the config as initialization kwargs (return cls(**config)).\n",
        "\n",
        "2. Pass the object to the custom_objects argument when loading the model. The argument must be a dictionary mapping the string class name to the Python class. E.g.\n",
        "\n",
        " `tf.keras.models.load_model(path, custom_objects={'CustomLayer': CustomLayer})`\n"
      ]
    },
    {
      "cell_type": "markdown",
      "metadata": {
        "id": "1SLx1i1eDjJA"
      },
      "source": [
        "**Note that:** In the above custom layer we **have not implemented** `get_config()` method. Therefore, if we try to save the trained model with the custom layers, we will get the following **error** messages:"
      ]
    },
    {
      "cell_type": "code",
      "metadata": {
        "colab": {
          "base_uri": "https://localhost:8080/",
          "height": 320
        },
        "id": "TJt3jj2DXQrG",
        "outputId": "2c41971f-739e-4a12-e5a8-637c97a79d1f"
      },
      "source": [
        "#tf.keras.models.save_model(my_model, './saved_models/my_h5_model.h5')\n",
        "my_model.save('./saved_models/my_h5_model.h5')"
      ],
      "execution_count": null,
      "outputs": [
        {
          "output_type": "error",
          "ename": "NotImplementedError",
          "evalue": "ignored",
          "traceback": [
            "\u001b[0;31m---------------------------------------------------------------------------\u001b[0m",
            "\u001b[0;31mNotImplementedError\u001b[0m                       Traceback (most recent call last)",
            "\u001b[0;32m<ipython-input-18-b9daa285f003>\u001b[0m in \u001b[0;36m<module>\u001b[0;34m()\u001b[0m\n\u001b[1;32m      1\u001b[0m \u001b[0;31m#tf.keras.models.save_model(my_model, './saved_models/my_h5_model.h5')\u001b[0m\u001b[0;34m\u001b[0m\u001b[0;34m\u001b[0m\u001b[0;34m\u001b[0m\u001b[0m\n\u001b[0;32m----> 2\u001b[0;31m \u001b[0mmy_model\u001b[0m\u001b[0;34m.\u001b[0m\u001b[0msave\u001b[0m\u001b[0;34m(\u001b[0m\u001b[0;34m'./saved_models/my_h5_model.h5'\u001b[0m\u001b[0;34m)\u001b[0m\u001b[0;34m\u001b[0m\u001b[0;34m\u001b[0m\u001b[0m\n\u001b[0m",
            "\u001b[0;32m/usr/local/lib/python3.7/dist-packages/tensorflow/python/keras/engine/training.py\u001b[0m in \u001b[0;36msave\u001b[0;34m(self, filepath, overwrite, include_optimizer, save_format, signatures, options, save_traces)\u001b[0m\n\u001b[1;32m   2110\u001b[0m     \u001b[0;31m# pylint: enable=line-too-long\u001b[0m\u001b[0;34m\u001b[0m\u001b[0;34m\u001b[0m\u001b[0;34m\u001b[0m\u001b[0m\n\u001b[1;32m   2111\u001b[0m     save.save_model(self, filepath, overwrite, include_optimizer, save_format,\n\u001b[0;32m-> 2112\u001b[0;31m                     signatures, options, save_traces)\n\u001b[0m\u001b[1;32m   2113\u001b[0m \u001b[0;34m\u001b[0m\u001b[0m\n\u001b[1;32m   2114\u001b[0m   def save_weights(self,\n",
            "\u001b[0;32m/usr/local/lib/python3.7/dist-packages/tensorflow/python/keras/saving/save.py\u001b[0m in \u001b[0;36msave_model\u001b[0;34m(model, filepath, overwrite, include_optimizer, save_format, signatures, options, save_traces)\u001b[0m\n\u001b[1;32m    145\u001b[0m           'or using `save_weights`.')\n\u001b[1;32m    146\u001b[0m     hdf5_format.save_model_to_hdf5(\n\u001b[0;32m--> 147\u001b[0;31m         model, filepath, overwrite, include_optimizer)\n\u001b[0m\u001b[1;32m    148\u001b[0m   \u001b[0;32melse\u001b[0m\u001b[0;34m:\u001b[0m\u001b[0;34m\u001b[0m\u001b[0;34m\u001b[0m\u001b[0m\n\u001b[1;32m    149\u001b[0m     \u001b[0;32mwith\u001b[0m \u001b[0mgeneric_utils\u001b[0m\u001b[0;34m.\u001b[0m\u001b[0mSharedObjectSavingScope\u001b[0m\u001b[0;34m(\u001b[0m\u001b[0;34m)\u001b[0m\u001b[0;34m:\u001b[0m\u001b[0;34m\u001b[0m\u001b[0;34m\u001b[0m\u001b[0m\n",
            "\u001b[0;32m/usr/local/lib/python3.7/dist-packages/tensorflow/python/keras/saving/hdf5_format.py\u001b[0m in \u001b[0;36msave_model_to_hdf5\u001b[0;34m(model, filepath, overwrite, include_optimizer)\u001b[0m\n\u001b[1;32m    108\u001b[0m \u001b[0;34m\u001b[0m\u001b[0m\n\u001b[1;32m    109\u001b[0m   \u001b[0;32mtry\u001b[0m\u001b[0;34m:\u001b[0m\u001b[0;34m\u001b[0m\u001b[0;34m\u001b[0m\u001b[0m\n\u001b[0;32m--> 110\u001b[0;31m     \u001b[0mmodel_metadata\u001b[0m \u001b[0;34m=\u001b[0m \u001b[0msaving_utils\u001b[0m\u001b[0;34m.\u001b[0m\u001b[0mmodel_metadata\u001b[0m\u001b[0;34m(\u001b[0m\u001b[0mmodel\u001b[0m\u001b[0;34m,\u001b[0m \u001b[0minclude_optimizer\u001b[0m\u001b[0;34m)\u001b[0m\u001b[0;34m\u001b[0m\u001b[0;34m\u001b[0m\u001b[0m\n\u001b[0m\u001b[1;32m    111\u001b[0m     \u001b[0;32mfor\u001b[0m \u001b[0mk\u001b[0m\u001b[0;34m,\u001b[0m \u001b[0mv\u001b[0m \u001b[0;32min\u001b[0m \u001b[0mmodel_metadata\u001b[0m\u001b[0;34m.\u001b[0m\u001b[0mitems\u001b[0m\u001b[0;34m(\u001b[0m\u001b[0;34m)\u001b[0m\u001b[0;34m:\u001b[0m\u001b[0;34m\u001b[0m\u001b[0;34m\u001b[0m\u001b[0m\n\u001b[1;32m    112\u001b[0m       \u001b[0;32mif\u001b[0m \u001b[0misinstance\u001b[0m\u001b[0;34m(\u001b[0m\u001b[0mv\u001b[0m\u001b[0;34m,\u001b[0m \u001b[0;34m(\u001b[0m\u001b[0mdict\u001b[0m\u001b[0;34m,\u001b[0m \u001b[0mlist\u001b[0m\u001b[0;34m,\u001b[0m \u001b[0mtuple\u001b[0m\u001b[0;34m)\u001b[0m\u001b[0;34m)\u001b[0m\u001b[0;34m:\u001b[0m\u001b[0;34m\u001b[0m\u001b[0;34m\u001b[0m\u001b[0m\n",
            "\u001b[0;32m/usr/local/lib/python3.7/dist-packages/tensorflow/python/keras/saving/saving_utils.py\u001b[0m in \u001b[0;36mmodel_metadata\u001b[0;34m(model, include_optimizer, require_config)\u001b[0m\n\u001b[1;32m    151\u001b[0m   \u001b[0;32mexcept\u001b[0m \u001b[0mNotImplementedError\u001b[0m \u001b[0;32mas\u001b[0m \u001b[0me\u001b[0m\u001b[0;34m:\u001b[0m\u001b[0;34m\u001b[0m\u001b[0;34m\u001b[0m\u001b[0m\n\u001b[1;32m    152\u001b[0m     \u001b[0;32mif\u001b[0m \u001b[0mrequire_config\u001b[0m\u001b[0;34m:\u001b[0m\u001b[0;34m\u001b[0m\u001b[0;34m\u001b[0m\u001b[0m\n\u001b[0;32m--> 153\u001b[0;31m       \u001b[0;32mraise\u001b[0m \u001b[0me\u001b[0m\u001b[0;34m\u001b[0m\u001b[0;34m\u001b[0m\u001b[0m\n\u001b[0m\u001b[1;32m    154\u001b[0m \u001b[0;34m\u001b[0m\u001b[0m\n\u001b[1;32m    155\u001b[0m   metadata = dict(\n",
            "\u001b[0;32m/usr/local/lib/python3.7/dist-packages/tensorflow/python/keras/saving/saving_utils.py\u001b[0m in \u001b[0;36mmodel_metadata\u001b[0;34m(model, include_optimizer, require_config)\u001b[0m\n\u001b[1;32m    148\u001b[0m   \u001b[0mmodel_config\u001b[0m \u001b[0;34m=\u001b[0m \u001b[0;34m{\u001b[0m\u001b[0;34m'class_name'\u001b[0m\u001b[0;34m:\u001b[0m \u001b[0mmodel\u001b[0m\u001b[0;34m.\u001b[0m\u001b[0m__class__\u001b[0m\u001b[0;34m.\u001b[0m\u001b[0m__name__\u001b[0m\u001b[0;34m}\u001b[0m\u001b[0;34m\u001b[0m\u001b[0;34m\u001b[0m\u001b[0m\n\u001b[1;32m    149\u001b[0m   \u001b[0;32mtry\u001b[0m\u001b[0;34m:\u001b[0m\u001b[0;34m\u001b[0m\u001b[0;34m\u001b[0m\u001b[0m\n\u001b[0;32m--> 150\u001b[0;31m     \u001b[0mmodel_config\u001b[0m\u001b[0;34m[\u001b[0m\u001b[0;34m'config'\u001b[0m\u001b[0;34m]\u001b[0m \u001b[0;34m=\u001b[0m \u001b[0mmodel\u001b[0m\u001b[0;34m.\u001b[0m\u001b[0mget_config\u001b[0m\u001b[0;34m(\u001b[0m\u001b[0;34m)\u001b[0m\u001b[0;34m\u001b[0m\u001b[0;34m\u001b[0m\u001b[0m\n\u001b[0m\u001b[1;32m    151\u001b[0m   \u001b[0;32mexcept\u001b[0m \u001b[0mNotImplementedError\u001b[0m \u001b[0;32mas\u001b[0m \u001b[0me\u001b[0m\u001b[0;34m:\u001b[0m\u001b[0;34m\u001b[0m\u001b[0;34m\u001b[0m\u001b[0m\n\u001b[1;32m    152\u001b[0m     \u001b[0;32mif\u001b[0m \u001b[0mrequire_config\u001b[0m\u001b[0;34m:\u001b[0m\u001b[0;34m\u001b[0m\u001b[0;34m\u001b[0m\u001b[0m\n",
            "\u001b[0;32m/usr/local/lib/python3.7/dist-packages/tensorflow/python/keras/engine/functional.py\u001b[0m in \u001b[0;36mget_config\u001b[0;34m(self)\u001b[0m\n\u001b[1;32m    647\u001b[0m \u001b[0;34m\u001b[0m\u001b[0m\n\u001b[1;32m    648\u001b[0m   \u001b[0;32mdef\u001b[0m \u001b[0mget_config\u001b[0m\u001b[0;34m(\u001b[0m\u001b[0mself\u001b[0m\u001b[0;34m)\u001b[0m\u001b[0;34m:\u001b[0m\u001b[0;34m\u001b[0m\u001b[0;34m\u001b[0m\u001b[0m\n\u001b[0;32m--> 649\u001b[0;31m     \u001b[0;32mreturn\u001b[0m \u001b[0mcopy\u001b[0m\u001b[0;34m.\u001b[0m\u001b[0mdeepcopy\u001b[0m\u001b[0;34m(\u001b[0m\u001b[0mget_network_config\u001b[0m\u001b[0;34m(\u001b[0m\u001b[0mself\u001b[0m\u001b[0;34m)\u001b[0m\u001b[0;34m)\u001b[0m\u001b[0;34m\u001b[0m\u001b[0;34m\u001b[0m\u001b[0m\n\u001b[0m\u001b[1;32m    650\u001b[0m \u001b[0;34m\u001b[0m\u001b[0m\n\u001b[1;32m    651\u001b[0m   \u001b[0;34m@\u001b[0m\u001b[0mclassmethod\u001b[0m\u001b[0;34m\u001b[0m\u001b[0;34m\u001b[0m\u001b[0m\n",
            "\u001b[0;32m/usr/local/lib/python3.7/dist-packages/tensorflow/python/keras/engine/functional.py\u001b[0m in \u001b[0;36mget_network_config\u001b[0;34m(network, serialize_layer_fn)\u001b[0m\n\u001b[1;32m   1353\u001b[0m           \u001b[0mfiltered_inbound_nodes\u001b[0m\u001b[0;34m.\u001b[0m\u001b[0mappend\u001b[0m\u001b[0;34m(\u001b[0m\u001b[0mnode_data\u001b[0m\u001b[0;34m)\u001b[0m\u001b[0;34m\u001b[0m\u001b[0;34m\u001b[0m\u001b[0m\n\u001b[1;32m   1354\u001b[0m \u001b[0;34m\u001b[0m\u001b[0m\n\u001b[0;32m-> 1355\u001b[0;31m       \u001b[0mlayer_config\u001b[0m \u001b[0;34m=\u001b[0m \u001b[0mserialize_layer_fn\u001b[0m\u001b[0;34m(\u001b[0m\u001b[0mlayer\u001b[0m\u001b[0;34m)\u001b[0m\u001b[0;34m\u001b[0m\u001b[0;34m\u001b[0m\u001b[0m\n\u001b[0m\u001b[1;32m   1356\u001b[0m       \u001b[0mlayer_config\u001b[0m\u001b[0;34m[\u001b[0m\u001b[0;34m'name'\u001b[0m\u001b[0;34m]\u001b[0m \u001b[0;34m=\u001b[0m \u001b[0mlayer\u001b[0m\u001b[0;34m.\u001b[0m\u001b[0mname\u001b[0m\u001b[0;34m\u001b[0m\u001b[0;34m\u001b[0m\u001b[0m\n\u001b[1;32m   1357\u001b[0m       \u001b[0mlayer_config\u001b[0m\u001b[0;34m[\u001b[0m\u001b[0;34m'inbound_nodes'\u001b[0m\u001b[0;34m]\u001b[0m \u001b[0;34m=\u001b[0m \u001b[0mfiltered_inbound_nodes\u001b[0m\u001b[0;34m\u001b[0m\u001b[0;34m\u001b[0m\u001b[0m\n",
            "\u001b[0;32m/usr/local/lib/python3.7/dist-packages/tensorflow/python/keras/utils/generic_utils.py\u001b[0m in \u001b[0;36mserialize_keras_object\u001b[0;34m(instance)\u001b[0m\n\u001b[1;32m    506\u001b[0m         return serialize_keras_class_and_config(\n\u001b[1;32m    507\u001b[0m             name, {_LAYER_UNDEFINED_CONFIG_KEY: True})\n\u001b[0;32m--> 508\u001b[0;31m       \u001b[0;32mraise\u001b[0m \u001b[0me\u001b[0m\u001b[0;34m\u001b[0m\u001b[0;34m\u001b[0m\u001b[0m\n\u001b[0m\u001b[1;32m    509\u001b[0m     \u001b[0mserialization_config\u001b[0m \u001b[0;34m=\u001b[0m \u001b[0;34m{\u001b[0m\u001b[0;34m}\u001b[0m\u001b[0;34m\u001b[0m\u001b[0;34m\u001b[0m\u001b[0m\n\u001b[1;32m    510\u001b[0m     \u001b[0;32mfor\u001b[0m \u001b[0mkey\u001b[0m\u001b[0;34m,\u001b[0m \u001b[0mitem\u001b[0m \u001b[0;32min\u001b[0m \u001b[0mconfig\u001b[0m\u001b[0;34m.\u001b[0m\u001b[0mitems\u001b[0m\u001b[0;34m(\u001b[0m\u001b[0;34m)\u001b[0m\u001b[0;34m:\u001b[0m\u001b[0;34m\u001b[0m\u001b[0;34m\u001b[0m\u001b[0m\n",
            "\u001b[0;32m/usr/local/lib/python3.7/dist-packages/tensorflow/python/keras/utils/generic_utils.py\u001b[0m in \u001b[0;36mserialize_keras_object\u001b[0;34m(instance)\u001b[0m\n\u001b[1;32m    501\u001b[0m     \u001b[0mname\u001b[0m \u001b[0;34m=\u001b[0m \u001b[0mget_registered_name\u001b[0m\u001b[0;34m(\u001b[0m\u001b[0minstance\u001b[0m\u001b[0;34m.\u001b[0m\u001b[0m__class__\u001b[0m\u001b[0;34m)\u001b[0m\u001b[0;34m\u001b[0m\u001b[0;34m\u001b[0m\u001b[0m\n\u001b[1;32m    502\u001b[0m     \u001b[0;32mtry\u001b[0m\u001b[0;34m:\u001b[0m\u001b[0;34m\u001b[0m\u001b[0;34m\u001b[0m\u001b[0m\n\u001b[0;32m--> 503\u001b[0;31m       \u001b[0mconfig\u001b[0m \u001b[0;34m=\u001b[0m \u001b[0minstance\u001b[0m\u001b[0;34m.\u001b[0m\u001b[0mget_config\u001b[0m\u001b[0;34m(\u001b[0m\u001b[0;34m)\u001b[0m\u001b[0;34m\u001b[0m\u001b[0;34m\u001b[0m\u001b[0m\n\u001b[0m\u001b[1;32m    504\u001b[0m     \u001b[0;32mexcept\u001b[0m \u001b[0mNotImplementedError\u001b[0m \u001b[0;32mas\u001b[0m \u001b[0me\u001b[0m\u001b[0;34m:\u001b[0m\u001b[0;34m\u001b[0m\u001b[0;34m\u001b[0m\u001b[0m\n\u001b[1;32m    505\u001b[0m       \u001b[0;32mif\u001b[0m \u001b[0m_SKIP_FAILED_SERIALIZATION\u001b[0m\u001b[0;34m:\u001b[0m\u001b[0;34m\u001b[0m\u001b[0;34m\u001b[0m\u001b[0m\n",
            "\u001b[0;32m/usr/local/lib/python3.7/dist-packages/tensorflow/python/keras/engine/base_layer.py\u001b[0m in \u001b[0;36mget_config\u001b[0;34m(self)\u001b[0m\n\u001b[1;32m    719\u001b[0m       raise NotImplementedError('Layer %s has arguments in `__init__` and '\n\u001b[1;32m    720\u001b[0m                                 \u001b[0;34m'therefore must override `get_config`.'\u001b[0m \u001b[0;34m%\u001b[0m\u001b[0;34m\u001b[0m\u001b[0;34m\u001b[0m\u001b[0m\n\u001b[0;32m--> 721\u001b[0;31m                                 self.__class__.__name__)\n\u001b[0m\u001b[1;32m    722\u001b[0m     \u001b[0;32mreturn\u001b[0m \u001b[0mconfig\u001b[0m\u001b[0;34m\u001b[0m\u001b[0;34m\u001b[0m\u001b[0m\n\u001b[1;32m    723\u001b[0m \u001b[0;34m\u001b[0m\u001b[0m\n",
            "\u001b[0;31mNotImplementedError\u001b[0m: Layer TokenPositionAndCategoricalEmbedding has arguments in `__init__` and therefore must override `get_config`."
          ]
        }
      ]
    },
    {
      "cell_type": "markdown",
      "metadata": {
        "id": "FrUqZ56PEkDg"
      },
      "source": [
        "I will show **how to fix this error** after seeing TensorFlow SavedModel example.\n"
      ]
    },
    {
      "cell_type": "markdown",
      "metadata": {
        "id": "K_dzEDEvE72J"
      },
      "source": [
        "# Saving custom objects with the TensorFlow SavedModel  format\n",
        "\n",
        "## First call one of two methods to save the trained model in the TensorFlow SavedModel  format.\n",
        "\n",
        "To do so, just give the fine name `my_tf_model` without any file extension!"
      ]
    },
    {
      "cell_type": "code",
      "metadata": {
        "colab": {
          "base_uri": "https://localhost:8080/"
        },
        "id": "qDNHsjYqVjWk",
        "outputId": "8237f524-01e9-4266-aa8c-9ae38b9bfd22"
      },
      "source": [
        "#tf.keras.models.save_model(my_model, './saved_models/my_tf_model')\n",
        "my_model.save('./saved_models/my_tf_model')"
      ],
      "execution_count": null,
      "outputs": [
        {
          "output_type": "stream",
          "text": [
            "WARNING:absl:Found untraced functions such as embedding_layer_call_and_return_conditional_losses, embedding_layer_call_fn, embedding_1_layer_call_and_return_conditional_losses, embedding_1_layer_call_fn, embedding_2_layer_call_and_return_conditional_losses while saving (showing 5 of 70). These functions will not be directly callable after loading.\n"
          ],
          "name": "stderr"
        },
        {
          "output_type": "stream",
          "text": [
            "INFO:tensorflow:Assets written to: ./saved_models/my_tf_model/assets\n"
          ],
          "name": "stdout"
        },
        {
          "output_type": "stream",
          "text": [
            "INFO:tensorflow:Assets written to: ./saved_models/my_tf_model/assets\n"
          ],
          "name": "stderr"
        }
      ]
    },
    {
      "cell_type": "markdown",
      "metadata": {
        "id": "oeG4GRL9FbfG"
      },
      "source": [
        "As you observe, ***without any errors***, we are able to save the model with **custom objects**. \n",
        "\n",
        "Let's **load** the saved model as follows:"
      ]
    },
    {
      "cell_type": "code",
      "metadata": {
        "colab": {
          "base_uri": "https://localhost:8080/"
        },
        "id": "RHBdPXpeVu05",
        "outputId": "d5356b88-da0c-4eca-d039-daa0c56b3681"
      },
      "source": [
        "my_tf_saved_model = tf.keras.models.load_model(\n",
        "    './saved_models/my_tf_model')\n",
        "my_tf_saved_model.summary()"
      ],
      "execution_count": null,
      "outputs": [
        {
          "output_type": "stream",
          "text": [
            "Model: \"model\"\n",
            "__________________________________________________________________________________________________\n",
            "Layer (type)                    Output Shape         Param #     Connected to                     \n",
            "==================================================================================================\n",
            "input_1 (InputLayer)            [(None, 20)]         0                                            \n",
            "__________________________________________________________________________________________________\n",
            "inputs_category (InputLayer)    [(None, 1)]          0                                            \n",
            "__________________________________________________________________________________________________\n",
            "token_position_and_categorical_ (None, 20, 256)      35840       input_1[0][0]                    \n",
            "                                                                 inputs_category[0][0]            \n",
            "__________________________________________________________________________________________________\n",
            "transformer_block (TransformerB (None, 20, 256)      658688      token_position_and_categorical_em\n",
            "__________________________________________________________________________________________________\n",
            "dense_2 (Dense)                 (None, 20, 100)      25700       transformer_block[0][0]          \n",
            "==================================================================================================\n",
            "Total params: 720,228\n",
            "Trainable params: 720,228\n",
            "Non-trainable params: 0\n",
            "__________________________________________________________________________________________________\n"
          ],
          "name": "stdout"
        }
      ]
    },
    {
      "cell_type": "markdown",
      "metadata": {
        "id": "S53h7j_JFthV"
      },
      "source": [
        "Run the `predict()` method of the loaded model on the same test sample an d compare the **predicted value**: "
      ]
    },
    {
      "cell_type": "code",
      "metadata": {
        "colab": {
          "base_uri": "https://localhost:8080/"
        },
        "id": "0u6MDJjbV7GS",
        "outputId": "af303a26-138f-4d59-a921-3860c6bfd9fd"
      },
      "source": [
        "print(\"my_model.predict: \", my_model.predict(test)[0][0][0][0])\n",
        "print(\"my_tf_saved_model.predict: \", my_tf_saved_model.predict(test)[0][0][0][0])"
      ],
      "execution_count": null,
      "outputs": [
        {
          "output_type": "stream",
          "text": [
            "my_model.predict:  0.254973\n",
            "my_tf_saved_model.predict:  0.254973\n"
          ],
          "name": "stdout"
        }
      ]
    },
    {
      "cell_type": "markdown",
      "metadata": {
        "id": "DYdFI1RrGg4f"
      },
      "source": [
        "That's it: We **successfully** save and load the entire Keras model with custom layers in the TensorFlow SavedModel format.  "
      ]
    },
    {
      "cell_type": "markdown",
      "metadata": {
        "id": "fnxDpr1sG7RI"
      },
      "source": [
        "# Fix the error occurred when saving custom objects with HDF5 format\n",
        "\n",
        "As suggested by the official TensorFlow documents, we need to add `get_config()` method to the custom objects! "
      ]
    },
    {
      "cell_type": "markdown",
      "metadata": {
        "id": "fzN0E6vDBWS6"
      },
      "source": [
        "**Pay Attention that:**\n",
        "* We re-define **thr custom layers** `TransformerBlock()` & `TokenPositionAndCategoricalEmbedding` by adding `get_config()` which defines the inputs and internal variables of the custom layer as below.  "
      ]
    },
    {
      "cell_type": "code",
      "metadata": {
        "id": "A_KINdSKB28I"
      },
      "source": [
        "class TransformerBlock(layers.Layer):\n",
        "    def __init__(self, embed_dim, num_heads, ff_dim, rate=0.1, **kwargs):\n",
        "        super(TransformerBlock, self).__init__()\n",
        "        self.embed_dim=embed_dim\n",
        "        self.num_heads = num_heads\n",
        "        self.ff_dim =ff_dim\n",
        "        self.att = layers.MultiHeadAttention(num_heads, embed_dim)\n",
        "        self.ffn = keras.Sequential(\n",
        "            [layers.Dense(ff_dim, activation=\"relu\"), layers.Dense(embed_dim),]\n",
        "        )\n",
        "        self.layernorm1 = layers.LayerNormalization(epsilon=1e-6)\n",
        "        self.layernorm2 = layers.LayerNormalization(epsilon=1e-6)\n",
        "        self.dropout1 = layers.Dropout(rate)\n",
        "        self.dropout2 = layers.Dropout(rate)\n",
        "\n",
        "    def call(self, inputs):\n",
        "        input_shape = tf.shape(inputs)\n",
        "        batch_size = input_shape[0]\n",
        "        seq_len = input_shape[1]\n",
        "        causal_mask = causal_attention_mask(batch_size, seq_len, seq_len, tf.bool)\n",
        "        attention_output = self.att(inputs, inputs, attention_mask=causal_mask)\n",
        "        attention_output = self.dropout1(attention_output)\n",
        "        out1 = self.layernorm1(inputs + attention_output)\n",
        "        ffn_output = self.ffn(out1)\n",
        "        ffn_output = self.dropout2(ffn_output)\n",
        "        return self.layernorm2(out1 + ffn_output)\n",
        "    \n",
        "    \n",
        "    def get_config(self):\n",
        "        config = super(TransformerBlock, self).get_config()\n",
        "        config.update({\n",
        "            'att': self.att,\n",
        "            'ffn': self.ffn,\n",
        "            'layernorm1': self.layernorm1,\n",
        "            'layernorm2':self.layernorm2,\n",
        "            'dropout1':self.dropout1,\n",
        "            'dropout2':self.dropout2,\n",
        "            'embed_dim': self.embed_dim,\n",
        "            'num_heads':self.num_heads,\n",
        "            'ff_dim':self.ff_dim \n",
        "\n",
        "        })\n",
        "        return config"
      ],
      "execution_count": null,
      "outputs": []
    },
    {
      "cell_type": "code",
      "metadata": {
        "id": "7oEnKTA0CPjY"
      },
      "source": [
        "class TokenPositionAndCategoricalEmbedding(layers.Layer):\n",
        "    def __init__(self, maxlen, vocab_size, number_of_categories, embed_dim, **kwargs):\n",
        "        super(TokenPositionAndCategoricalEmbedding, self).__init__()\n",
        "        self.maxlen = maxlen\n",
        "        self.vocab_size = vocab_size\n",
        "        self.embed_dim = embed_dim\n",
        "        self.number_of_categories = number_of_categories\n",
        "        self.token_emb = layers.Embedding(input_dim=vocab_size, output_dim=embed_dim)\n",
        "        self.category_emb = layers.Embedding(input_dim=number_of_categories, output_dim=embed_dim)\n",
        "        self.pos_emb = layers.Embedding(input_dim=maxlen, output_dim=embed_dim)\n",
        "\n",
        "    def call(self, X, c):\n",
        "        maxlen = tf.shape(X)[-1]\n",
        "        positions = tf.range(start=0, limit=maxlen, delta=1)\n",
        "        positions = self.pos_emb(positions)\n",
        "        X = self.token_emb(X)\n",
        "        c= self.category_emb(c)\n",
        "        return X + positions + c\n",
        "        \n",
        "       \n",
        "    def get_config(self):\n",
        "        config = super(TokenPositionAndCategoricalEmbedding, self).get_config()\n",
        "        config.update({\n",
        "            'token_emb': self.token_emb,\n",
        "            'category_emb':self.category_emb,\n",
        "            'pos_emb': self.pos_emb,\n",
        "            'maxlen': self.maxlen,\n",
        "            'vocab_size': self.vocab_size,\n",
        "            'number_of_categories':self.number_of_categories,\n",
        "            'embed_dim': self.embed_dim\n",
        "        })\n",
        "        return config"
      ],
      "execution_count": null,
      "outputs": []
    },
    {
      "cell_type": "markdown",
      "metadata": {
        "id": "OaS9oDtMH1b0"
      },
      "source": [
        "## Re-build the model after these updates:\n"
      ]
    },
    {
      "cell_type": "code",
      "metadata": {
        "id": "1j2bg8k8ICbj"
      },
      "source": [
        "my_model=create_model()"
      ],
      "execution_count": null,
      "outputs": []
    },
    {
      "cell_type": "markdown",
      "metadata": {
        "id": "5EhocFcTIFHS"
      },
      "source": [
        "## Train the new model:"
      ]
    },
    {
      "cell_type": "code",
      "metadata": {
        "colab": {
          "base_uri": "https://localhost:8080/"
        },
        "id": "PBIrwGo9IXvc",
        "outputId": "a23f5e21-eaba-456c-9fd1-0517acfdf094"
      },
      "source": [
        "my_model.fit(train_ds, verbose=1, epochs=3)"
      ],
      "execution_count": null,
      "outputs": [
        {
          "output_type": "stream",
          "text": [
            "Epoch 1/3\n",
            "3/3 [==============================] - 2s 142ms/step - loss: 5.2268 - dense_5_loss: 5.2268\n",
            "Epoch 2/3\n",
            "3/3 [==============================] - 0s 137ms/step - loss: 4.6378 - dense_5_loss: 4.6378\n",
            "Epoch 3/3\n",
            "3/3 [==============================] - 0s 132ms/step - loss: 4.3475 - dense_5_loss: 4.3475\n"
          ],
          "name": "stdout"
        },
        {
          "output_type": "execute_result",
          "data": {
            "text/plain": [
              "<tensorflow.python.keras.callbacks.History at 0x7fd49991a750>"
            ]
          },
          "metadata": {
            "tags": []
          },
          "execution_count": 25
        }
      ]
    },
    {
      "cell_type": "markdown",
      "metadata": {
        "id": "PCamSDpgIaBU"
      },
      "source": [
        "## Save the trained model in the H5 format"
      ]
    },
    {
      "cell_type": "code",
      "metadata": {
        "id": "L0SCOg2gIqjm"
      },
      "source": [
        "#tf.keras.models.save_model(my_model, './saved_models/my_h5_model.h5')\n",
        "my_model.save('./saved_models/my_h5_saved_model.h5')"
      ],
      "execution_count": null,
      "outputs": []
    },
    {
      "cell_type": "markdown",
      "metadata": {
        "id": "9fBf0tcGIwto"
      },
      "source": [
        "**Notice that:** This time, we did not receive any error messages!\n",
        "\n",
        "## Now, load the saved model in the H5 format by providing custom object names as below:"
      ]
    },
    {
      "cell_type": "code",
      "metadata": {
        "colab": {
          "base_uri": "https://localhost:8080/"
        },
        "id": "lizJ9Nz0ULTW",
        "outputId": "224f58e3-fd8f-43c8-ab8d-f23ca577413b"
      },
      "source": [
        "my_h5_saved_model = tf.keras.models.load_model(\n",
        "    './saved_models/my_h5_saved_model.h5', \n",
        "    custom_objects={'TransformerBlock': TransformerBlock,\n",
        "                    'TokenPositionAndCategoricalEmbedding':TokenPositionAndCategoricalEmbedding})\n",
        "my_h5_saved_model.summary()"
      ],
      "execution_count": null,
      "outputs": [
        {
          "output_type": "stream",
          "text": [
            "Model: \"model_1\"\n",
            "__________________________________________________________________________________________________\n",
            "Layer (type)                    Output Shape         Param #     Connected to                     \n",
            "==================================================================================================\n",
            "input_2 (InputLayer)            [(None, 20)]         0                                            \n",
            "__________________________________________________________________________________________________\n",
            "inputs_category (InputLayer)    [(None, 1)]          0                                            \n",
            "__________________________________________________________________________________________________\n",
            "token_position_and_categorical_ (None, 20, 256)      35840       input_2[0][0]                    \n",
            "                                                                 inputs_category[0][0]            \n",
            "__________________________________________________________________________________________________\n",
            "transformer_block_2 (Transforme (None, 20, 256)      658688      token_position_and_categorical_em\n",
            "__________________________________________________________________________________________________\n",
            "dense_5 (Dense)                 (None, 20, 100)      25700       transformer_block_2[0][0]        \n",
            "==================================================================================================\n",
            "Total params: 720,228\n",
            "Trainable params: 720,228\n",
            "Non-trainable params: 0\n",
            "__________________________________________________________________________________________________\n"
          ],
          "name": "stdout"
        }
      ]
    },
    {
      "cell_type": "markdown",
      "metadata": {
        "id": "5aPGMXigJMu2"
      },
      "source": [
        "Run the `predict()` method of the loaded model on the same test sample and compare the **predicted value**: "
      ]
    },
    {
      "cell_type": "code",
      "metadata": {
        "colab": {
          "base_uri": "https://localhost:8080/"
        },
        "id": "ZjtGgPYIKOkX",
        "outputId": "841c3c65-2f72-4350-c21c-ad06dafd198a"
      },
      "source": [
        "print(\"my_model.predict: \", my_model.predict(test)[0][0][0][0])\n",
        "print(\"my_h5_saved_model.predict: \", my_h5_saved_model.predict(test)[0][0][0][0])"
      ],
      "execution_count": null,
      "outputs": [
        {
          "output_type": "stream",
          "text": [
            "my_model.predict:  -0.11366672\n",
            "my_h5_saved_model.predict:  -0.11366672\n"
          ],
          "name": "stdout"
        }
      ]
    },
    {
      "cell_type": "markdown",
      "metadata": {
        "id": "9DWcLNv1JzlX"
      },
      "source": [
        "Yes, we **successfully** save and load the entire Keras model with custom layers in the **H5** format as well."
      ]
    },
    {
      "cell_type": "markdown",
      "metadata": {
        "id": "B7CGXQ4GMFFA"
      },
      "source": [
        "**Note that:** You can also **resume training** the loaded models. \n",
        "\n",
        "Please try it by yourself :)"
      ]
    },
    {
      "cell_type": "markdown",
      "metadata": {
        "id": "4a-WkKWFKDYz"
      },
      "source": [
        "# Conclusions:\n",
        "* We reviewed the related concepts to **save and load** a ***Keras model with custom objects*** in TensorFlow.\n",
        "* We have **implemented** custom objects (layers) in a Keras model.\n",
        "* We **saved** the entire trained model with **2 different formats**: `TensorFlow SavedModel` & `HDF5`.\n",
        "* We **loaded** the saved model successfully and use it for prediction.\n",
        "* If you do not have a specific reason, I suggest you to use TensorFlow SavedModel format especially when the model has some custom objects.\n",
        "\n",
        "You can learn more about TensorFlow & Keras layers in [this](https://www.youtube.com/playlist?list=PLQflnv_s49v9EcZVg2EShHbZ_49cvnWu0) and [that](https://www.youtube.com/playlist?list=PLQflnv_s49v_7WIgOo9mVKptLZHyOYysD) playlists on [Murat Karakaya Akademi YouTube channel](https://www.youtube.com/channel/UCrCxCxTFL2ytaDrDYrN4_eA?sub_confirmation=1).\n"
      ]
    }
  ]
}