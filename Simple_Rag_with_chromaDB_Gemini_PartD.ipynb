{
  "nbformat": 4,
  "nbformat_minor": 0,
  "metadata": {
    "colab": {
      "provenance": [],
      "authorship_tag": "ABX9TyOWkg4eRwRhUVQ0h4Y/tV/0",
      "include_colab_link": true
    },
    "kernelspec": {
      "name": "python3",
      "display_name": "Python 3"
    },
    "language_info": {
      "name": "python"
    },
    "widgets": {
      "application/vnd.jupyter.widget-state+json": {
        "4033855a6e004ec4b04ca9f49de9c74f": {
          "model_module": "@jupyter-widgets/controls",
          "model_name": "HBoxModel",
          "model_module_version": "1.5.0",
          "state": {
            "_dom_classes": [],
            "_model_module": "@jupyter-widgets/controls",
            "_model_module_version": "1.5.0",
            "_model_name": "HBoxModel",
            "_view_count": null,
            "_view_module": "@jupyter-widgets/controls",
            "_view_module_version": "1.5.0",
            "_view_name": "HBoxView",
            "box_style": "",
            "children": [
              "IPY_MODEL_32511b4d66a84c439874f35483ba5aa7",
              "IPY_MODEL_74642a6bc3f24a21954e2468fb010b0f",
              "IPY_MODEL_4e56b906476242188383f341d6d7bc95"
            ],
            "layout": "IPY_MODEL_f14e54c3aaff463b8c28e2a10e9104f8"
          }
        },
        "32511b4d66a84c439874f35483ba5aa7": {
          "model_module": "@jupyter-widgets/controls",
          "model_name": "HTMLModel",
          "model_module_version": "1.5.0",
          "state": {
            "_dom_classes": [],
            "_model_module": "@jupyter-widgets/controls",
            "_model_module_version": "1.5.0",
            "_model_name": "HTMLModel",
            "_view_count": null,
            "_view_module": "@jupyter-widgets/controls",
            "_view_module_version": "1.5.0",
            "_view_name": "HTMLView",
            "description": "",
            "description_tooltip": null,
            "layout": "IPY_MODEL_1cd619109d594510a391b802d3acf651",
            "placeholder": "​",
            "style": "IPY_MODEL_1c772db9877a4136ac68e84b4dd5ae48",
            "value": "modules.json: 100%"
          }
        },
        "74642a6bc3f24a21954e2468fb010b0f": {
          "model_module": "@jupyter-widgets/controls",
          "model_name": "FloatProgressModel",
          "model_module_version": "1.5.0",
          "state": {
            "_dom_classes": [],
            "_model_module": "@jupyter-widgets/controls",
            "_model_module_version": "1.5.0",
            "_model_name": "FloatProgressModel",
            "_view_count": null,
            "_view_module": "@jupyter-widgets/controls",
            "_view_module_version": "1.5.0",
            "_view_name": "ProgressView",
            "bar_style": "success",
            "description": "",
            "description_tooltip": null,
            "layout": "IPY_MODEL_be9d98f8e9b948cabcdeca97372d1660",
            "max": 341,
            "min": 0,
            "orientation": "horizontal",
            "style": "IPY_MODEL_2e0b5a0ca1774d11aff2cd007c3c605c",
            "value": 341
          }
        },
        "4e56b906476242188383f341d6d7bc95": {
          "model_module": "@jupyter-widgets/controls",
          "model_name": "HTMLModel",
          "model_module_version": "1.5.0",
          "state": {
            "_dom_classes": [],
            "_model_module": "@jupyter-widgets/controls",
            "_model_module_version": "1.5.0",
            "_model_name": "HTMLModel",
            "_view_count": null,
            "_view_module": "@jupyter-widgets/controls",
            "_view_module_version": "1.5.0",
            "_view_name": "HTMLView",
            "description": "",
            "description_tooltip": null,
            "layout": "IPY_MODEL_3cfc755c64b1478d8462546afe03889e",
            "placeholder": "​",
            "style": "IPY_MODEL_f46392338dd04db98e06a7238acc4676",
            "value": " 341/341 [00:00&lt;00:00, 18.8kB/s]"
          }
        },
        "f14e54c3aaff463b8c28e2a10e9104f8": {
          "model_module": "@jupyter-widgets/base",
          "model_name": "LayoutModel",
          "model_module_version": "1.2.0",
          "state": {
            "_model_module": "@jupyter-widgets/base",
            "_model_module_version": "1.2.0",
            "_model_name": "LayoutModel",
            "_view_count": null,
            "_view_module": "@jupyter-widgets/base",
            "_view_module_version": "1.2.0",
            "_view_name": "LayoutView",
            "align_content": null,
            "align_items": null,
            "align_self": null,
            "border": null,
            "bottom": null,
            "display": null,
            "flex": null,
            "flex_flow": null,
            "grid_area": null,
            "grid_auto_columns": null,
            "grid_auto_flow": null,
            "grid_auto_rows": null,
            "grid_column": null,
            "grid_gap": null,
            "grid_row": null,
            "grid_template_areas": null,
            "grid_template_columns": null,
            "grid_template_rows": null,
            "height": null,
            "justify_content": null,
            "justify_items": null,
            "left": null,
            "margin": null,
            "max_height": null,
            "max_width": null,
            "min_height": null,
            "min_width": null,
            "object_fit": null,
            "object_position": null,
            "order": null,
            "overflow": null,
            "overflow_x": null,
            "overflow_y": null,
            "padding": null,
            "right": null,
            "top": null,
            "visibility": null,
            "width": null
          }
        },
        "1cd619109d594510a391b802d3acf651": {
          "model_module": "@jupyter-widgets/base",
          "model_name": "LayoutModel",
          "model_module_version": "1.2.0",
          "state": {
            "_model_module": "@jupyter-widgets/base",
            "_model_module_version": "1.2.0",
            "_model_name": "LayoutModel",
            "_view_count": null,
            "_view_module": "@jupyter-widgets/base",
            "_view_module_version": "1.2.0",
            "_view_name": "LayoutView",
            "align_content": null,
            "align_items": null,
            "align_self": null,
            "border": null,
            "bottom": null,
            "display": null,
            "flex": null,
            "flex_flow": null,
            "grid_area": null,
            "grid_auto_columns": null,
            "grid_auto_flow": null,
            "grid_auto_rows": null,
            "grid_column": null,
            "grid_gap": null,
            "grid_row": null,
            "grid_template_areas": null,
            "grid_template_columns": null,
            "grid_template_rows": null,
            "height": null,
            "justify_content": null,
            "justify_items": null,
            "left": null,
            "margin": null,
            "max_height": null,
            "max_width": null,
            "min_height": null,
            "min_width": null,
            "object_fit": null,
            "object_position": null,
            "order": null,
            "overflow": null,
            "overflow_x": null,
            "overflow_y": null,
            "padding": null,
            "right": null,
            "top": null,
            "visibility": null,
            "width": null
          }
        },
        "1c772db9877a4136ac68e84b4dd5ae48": {
          "model_module": "@jupyter-widgets/controls",
          "model_name": "DescriptionStyleModel",
          "model_module_version": "1.5.0",
          "state": {
            "_model_module": "@jupyter-widgets/controls",
            "_model_module_version": "1.5.0",
            "_model_name": "DescriptionStyleModel",
            "_view_count": null,
            "_view_module": "@jupyter-widgets/base",
            "_view_module_version": "1.2.0",
            "_view_name": "StyleView",
            "description_width": ""
          }
        },
        "be9d98f8e9b948cabcdeca97372d1660": {
          "model_module": "@jupyter-widgets/base",
          "model_name": "LayoutModel",
          "model_module_version": "1.2.0",
          "state": {
            "_model_module": "@jupyter-widgets/base",
            "_model_module_version": "1.2.0",
            "_model_name": "LayoutModel",
            "_view_count": null,
            "_view_module": "@jupyter-widgets/base",
            "_view_module_version": "1.2.0",
            "_view_name": "LayoutView",
            "align_content": null,
            "align_items": null,
            "align_self": null,
            "border": null,
            "bottom": null,
            "display": null,
            "flex": null,
            "flex_flow": null,
            "grid_area": null,
            "grid_auto_columns": null,
            "grid_auto_flow": null,
            "grid_auto_rows": null,
            "grid_column": null,
            "grid_gap": null,
            "grid_row": null,
            "grid_template_areas": null,
            "grid_template_columns": null,
            "grid_template_rows": null,
            "height": null,
            "justify_content": null,
            "justify_items": null,
            "left": null,
            "margin": null,
            "max_height": null,
            "max_width": null,
            "min_height": null,
            "min_width": null,
            "object_fit": null,
            "object_position": null,
            "order": null,
            "overflow": null,
            "overflow_x": null,
            "overflow_y": null,
            "padding": null,
            "right": null,
            "top": null,
            "visibility": null,
            "width": null
          }
        },
        "2e0b5a0ca1774d11aff2cd007c3c605c": {
          "model_module": "@jupyter-widgets/controls",
          "model_name": "ProgressStyleModel",
          "model_module_version": "1.5.0",
          "state": {
            "_model_module": "@jupyter-widgets/controls",
            "_model_module_version": "1.5.0",
            "_model_name": "ProgressStyleModel",
            "_view_count": null,
            "_view_module": "@jupyter-widgets/base",
            "_view_module_version": "1.2.0",
            "_view_name": "StyleView",
            "bar_color": null,
            "description_width": ""
          }
        },
        "3cfc755c64b1478d8462546afe03889e": {
          "model_module": "@jupyter-widgets/base",
          "model_name": "LayoutModel",
          "model_module_version": "1.2.0",
          "state": {
            "_model_module": "@jupyter-widgets/base",
            "_model_module_version": "1.2.0",
            "_model_name": "LayoutModel",
            "_view_count": null,
            "_view_module": "@jupyter-widgets/base",
            "_view_module_version": "1.2.0",
            "_view_name": "LayoutView",
            "align_content": null,
            "align_items": null,
            "align_self": null,
            "border": null,
            "bottom": null,
            "display": null,
            "flex": null,
            "flex_flow": null,
            "grid_area": null,
            "grid_auto_columns": null,
            "grid_auto_flow": null,
            "grid_auto_rows": null,
            "grid_column": null,
            "grid_gap": null,
            "grid_row": null,
            "grid_template_areas": null,
            "grid_template_columns": null,
            "grid_template_rows": null,
            "height": null,
            "justify_content": null,
            "justify_items": null,
            "left": null,
            "margin": null,
            "max_height": null,
            "max_width": null,
            "min_height": null,
            "min_width": null,
            "object_fit": null,
            "object_position": null,
            "order": null,
            "overflow": null,
            "overflow_x": null,
            "overflow_y": null,
            "padding": null,
            "right": null,
            "top": null,
            "visibility": null,
            "width": null
          }
        },
        "f46392338dd04db98e06a7238acc4676": {
          "model_module": "@jupyter-widgets/controls",
          "model_name": "DescriptionStyleModel",
          "model_module_version": "1.5.0",
          "state": {
            "_model_module": "@jupyter-widgets/controls",
            "_model_module_version": "1.5.0",
            "_model_name": "DescriptionStyleModel",
            "_view_count": null,
            "_view_module": "@jupyter-widgets/base",
            "_view_module_version": "1.2.0",
            "_view_name": "StyleView",
            "description_width": ""
          }
        },
        "0fbe05b909f44cdbb02b678de08756b1": {
          "model_module": "@jupyter-widgets/controls",
          "model_name": "HBoxModel",
          "model_module_version": "1.5.0",
          "state": {
            "_dom_classes": [],
            "_model_module": "@jupyter-widgets/controls",
            "_model_module_version": "1.5.0",
            "_model_name": "HBoxModel",
            "_view_count": null,
            "_view_module": "@jupyter-widgets/controls",
            "_view_module_version": "1.5.0",
            "_view_name": "HBoxView",
            "box_style": "",
            "children": [
              "IPY_MODEL_264993ce092f4cb0a33357ae81211146",
              "IPY_MODEL_0f54439e70094fbd8ce7c0fcf1d8241c",
              "IPY_MODEL_f550ff10149d4c4a871175aa70302ecb"
            ],
            "layout": "IPY_MODEL_6b013cc998bb402cacbcce1ecd23d4f5"
          }
        },
        "264993ce092f4cb0a33357ae81211146": {
          "model_module": "@jupyter-widgets/controls",
          "model_name": "HTMLModel",
          "model_module_version": "1.5.0",
          "state": {
            "_dom_classes": [],
            "_model_module": "@jupyter-widgets/controls",
            "_model_module_version": "1.5.0",
            "_model_name": "HTMLModel",
            "_view_count": null,
            "_view_module": "@jupyter-widgets/controls",
            "_view_module_version": "1.5.0",
            "_view_name": "HTMLView",
            "description": "",
            "description_tooltip": null,
            "layout": "IPY_MODEL_3a93c0b6316b4e43929063fbd9f5c390",
            "placeholder": "​",
            "style": "IPY_MODEL_41e92d13861b46278d557064422ff010",
            "value": "config_sentence_transformers.json: 100%"
          }
        },
        "0f54439e70094fbd8ce7c0fcf1d8241c": {
          "model_module": "@jupyter-widgets/controls",
          "model_name": "FloatProgressModel",
          "model_module_version": "1.5.0",
          "state": {
            "_dom_classes": [],
            "_model_module": "@jupyter-widgets/controls",
            "_model_module_version": "1.5.0",
            "_model_name": "FloatProgressModel",
            "_view_count": null,
            "_view_module": "@jupyter-widgets/controls",
            "_view_module_version": "1.5.0",
            "_view_name": "ProgressView",
            "bar_style": "success",
            "description": "",
            "description_tooltip": null,
            "layout": "IPY_MODEL_7fb83aebe1744013b28d4a687d285b27",
            "max": 122,
            "min": 0,
            "orientation": "horizontal",
            "style": "IPY_MODEL_f5c5a472cb0c4931898fc93415153651",
            "value": 122
          }
        },
        "f550ff10149d4c4a871175aa70302ecb": {
          "model_module": "@jupyter-widgets/controls",
          "model_name": "HTMLModel",
          "model_module_version": "1.5.0",
          "state": {
            "_dom_classes": [],
            "_model_module": "@jupyter-widgets/controls",
            "_model_module_version": "1.5.0",
            "_model_name": "HTMLModel",
            "_view_count": null,
            "_view_module": "@jupyter-widgets/controls",
            "_view_module_version": "1.5.0",
            "_view_name": "HTMLView",
            "description": "",
            "description_tooltip": null,
            "layout": "IPY_MODEL_f75498b6b4ac4f3aaab781d253f05942",
            "placeholder": "​",
            "style": "IPY_MODEL_5593be347c5a4fdf92b97a998d6fef0a",
            "value": " 122/122 [00:00&lt;00:00, 6.41kB/s]"
          }
        },
        "6b013cc998bb402cacbcce1ecd23d4f5": {
          "model_module": "@jupyter-widgets/base",
          "model_name": "LayoutModel",
          "model_module_version": "1.2.0",
          "state": {
            "_model_module": "@jupyter-widgets/base",
            "_model_module_version": "1.2.0",
            "_model_name": "LayoutModel",
            "_view_count": null,
            "_view_module": "@jupyter-widgets/base",
            "_view_module_version": "1.2.0",
            "_view_name": "LayoutView",
            "align_content": null,
            "align_items": null,
            "align_self": null,
            "border": null,
            "bottom": null,
            "display": null,
            "flex": null,
            "flex_flow": null,
            "grid_area": null,
            "grid_auto_columns": null,
            "grid_auto_flow": null,
            "grid_auto_rows": null,
            "grid_column": null,
            "grid_gap": null,
            "grid_row": null,
            "grid_template_areas": null,
            "grid_template_columns": null,
            "grid_template_rows": null,
            "height": null,
            "justify_content": null,
            "justify_items": null,
            "left": null,
            "margin": null,
            "max_height": null,
            "max_width": null,
            "min_height": null,
            "min_width": null,
            "object_fit": null,
            "object_position": null,
            "order": null,
            "overflow": null,
            "overflow_x": null,
            "overflow_y": null,
            "padding": null,
            "right": null,
            "top": null,
            "visibility": null,
            "width": null
          }
        },
        "3a93c0b6316b4e43929063fbd9f5c390": {
          "model_module": "@jupyter-widgets/base",
          "model_name": "LayoutModel",
          "model_module_version": "1.2.0",
          "state": {
            "_model_module": "@jupyter-widgets/base",
            "_model_module_version": "1.2.0",
            "_model_name": "LayoutModel",
            "_view_count": null,
            "_view_module": "@jupyter-widgets/base",
            "_view_module_version": "1.2.0",
            "_view_name": "LayoutView",
            "align_content": null,
            "align_items": null,
            "align_self": null,
            "border": null,
            "bottom": null,
            "display": null,
            "flex": null,
            "flex_flow": null,
            "grid_area": null,
            "grid_auto_columns": null,
            "grid_auto_flow": null,
            "grid_auto_rows": null,
            "grid_column": null,
            "grid_gap": null,
            "grid_row": null,
            "grid_template_areas": null,
            "grid_template_columns": null,
            "grid_template_rows": null,
            "height": null,
            "justify_content": null,
            "justify_items": null,
            "left": null,
            "margin": null,
            "max_height": null,
            "max_width": null,
            "min_height": null,
            "min_width": null,
            "object_fit": null,
            "object_position": null,
            "order": null,
            "overflow": null,
            "overflow_x": null,
            "overflow_y": null,
            "padding": null,
            "right": null,
            "top": null,
            "visibility": null,
            "width": null
          }
        },
        "41e92d13861b46278d557064422ff010": {
          "model_module": "@jupyter-widgets/controls",
          "model_name": "DescriptionStyleModel",
          "model_module_version": "1.5.0",
          "state": {
            "_model_module": "@jupyter-widgets/controls",
            "_model_module_version": "1.5.0",
            "_model_name": "DescriptionStyleModel",
            "_view_count": null,
            "_view_module": "@jupyter-widgets/base",
            "_view_module_version": "1.2.0",
            "_view_name": "StyleView",
            "description_width": ""
          }
        },
        "7fb83aebe1744013b28d4a687d285b27": {
          "model_module": "@jupyter-widgets/base",
          "model_name": "LayoutModel",
          "model_module_version": "1.2.0",
          "state": {
            "_model_module": "@jupyter-widgets/base",
            "_model_module_version": "1.2.0",
            "_model_name": "LayoutModel",
            "_view_count": null,
            "_view_module": "@jupyter-widgets/base",
            "_view_module_version": "1.2.0",
            "_view_name": "LayoutView",
            "align_content": null,
            "align_items": null,
            "align_self": null,
            "border": null,
            "bottom": null,
            "display": null,
            "flex": null,
            "flex_flow": null,
            "grid_area": null,
            "grid_auto_columns": null,
            "grid_auto_flow": null,
            "grid_auto_rows": null,
            "grid_column": null,
            "grid_gap": null,
            "grid_row": null,
            "grid_template_areas": null,
            "grid_template_columns": null,
            "grid_template_rows": null,
            "height": null,
            "justify_content": null,
            "justify_items": null,
            "left": null,
            "margin": null,
            "max_height": null,
            "max_width": null,
            "min_height": null,
            "min_width": null,
            "object_fit": null,
            "object_position": null,
            "order": null,
            "overflow": null,
            "overflow_x": null,
            "overflow_y": null,
            "padding": null,
            "right": null,
            "top": null,
            "visibility": null,
            "width": null
          }
        },
        "f5c5a472cb0c4931898fc93415153651": {
          "model_module": "@jupyter-widgets/controls",
          "model_name": "ProgressStyleModel",
          "model_module_version": "1.5.0",
          "state": {
            "_model_module": "@jupyter-widgets/controls",
            "_model_module_version": "1.5.0",
            "_model_name": "ProgressStyleModel",
            "_view_count": null,
            "_view_module": "@jupyter-widgets/base",
            "_view_module_version": "1.2.0",
            "_view_name": "StyleView",
            "bar_color": null,
            "description_width": ""
          }
        },
        "f75498b6b4ac4f3aaab781d253f05942": {
          "model_module": "@jupyter-widgets/base",
          "model_name": "LayoutModel",
          "model_module_version": "1.2.0",
          "state": {
            "_model_module": "@jupyter-widgets/base",
            "_model_module_version": "1.2.0",
            "_model_name": "LayoutModel",
            "_view_count": null,
            "_view_module": "@jupyter-widgets/base",
            "_view_module_version": "1.2.0",
            "_view_name": "LayoutView",
            "align_content": null,
            "align_items": null,
            "align_self": null,
            "border": null,
            "bottom": null,
            "display": null,
            "flex": null,
            "flex_flow": null,
            "grid_area": null,
            "grid_auto_columns": null,
            "grid_auto_flow": null,
            "grid_auto_rows": null,
            "grid_column": null,
            "grid_gap": null,
            "grid_row": null,
            "grid_template_areas": null,
            "grid_template_columns": null,
            "grid_template_rows": null,
            "height": null,
            "justify_content": null,
            "justify_items": null,
            "left": null,
            "margin": null,
            "max_height": null,
            "max_width": null,
            "min_height": null,
            "min_width": null,
            "object_fit": null,
            "object_position": null,
            "order": null,
            "overflow": null,
            "overflow_x": null,
            "overflow_y": null,
            "padding": null,
            "right": null,
            "top": null,
            "visibility": null,
            "width": null
          }
        },
        "5593be347c5a4fdf92b97a998d6fef0a": {
          "model_module": "@jupyter-widgets/controls",
          "model_name": "DescriptionStyleModel",
          "model_module_version": "1.5.0",
          "state": {
            "_model_module": "@jupyter-widgets/controls",
            "_model_module_version": "1.5.0",
            "_model_name": "DescriptionStyleModel",
            "_view_count": null,
            "_view_module": "@jupyter-widgets/base",
            "_view_module_version": "1.2.0",
            "_view_name": "StyleView",
            "description_width": ""
          }
        },
        "f20981ddaca648a88c890c72ef442c04": {
          "model_module": "@jupyter-widgets/controls",
          "model_name": "HBoxModel",
          "model_module_version": "1.5.0",
          "state": {
            "_dom_classes": [],
            "_model_module": "@jupyter-widgets/controls",
            "_model_module_version": "1.5.0",
            "_model_name": "HBoxModel",
            "_view_count": null,
            "_view_module": "@jupyter-widgets/controls",
            "_view_module_version": "1.5.0",
            "_view_name": "HBoxView",
            "box_style": "",
            "children": [
              "IPY_MODEL_0db226652a63486988dc3c34f61e9871",
              "IPY_MODEL_a4ca1f7b3773421e9fc045cec291753a",
              "IPY_MODEL_7ffcb72c0a574fa7b8b5a7c60f34376f"
            ],
            "layout": "IPY_MODEL_8a92922f8b7341bb834a56d8f2afd6cb"
          }
        },
        "0db226652a63486988dc3c34f61e9871": {
          "model_module": "@jupyter-widgets/controls",
          "model_name": "HTMLModel",
          "model_module_version": "1.5.0",
          "state": {
            "_dom_classes": [],
            "_model_module": "@jupyter-widgets/controls",
            "_model_module_version": "1.5.0",
            "_model_name": "HTMLModel",
            "_view_count": null,
            "_view_module": "@jupyter-widgets/controls",
            "_view_module_version": "1.5.0",
            "_view_name": "HTMLView",
            "description": "",
            "description_tooltip": null,
            "layout": "IPY_MODEL_1a46a1686fc84a62931570bc0d03cdcc",
            "placeholder": "​",
            "style": "IPY_MODEL_0edd1ebf677c40f2aeb19359f12e6fe2",
            "value": "README.md: 100%"
          }
        },
        "a4ca1f7b3773421e9fc045cec291753a": {
          "model_module": "@jupyter-widgets/controls",
          "model_name": "FloatProgressModel",
          "model_module_version": "1.5.0",
          "state": {
            "_dom_classes": [],
            "_model_module": "@jupyter-widgets/controls",
            "_model_module_version": "1.5.0",
            "_model_name": "FloatProgressModel",
            "_view_count": null,
            "_view_module": "@jupyter-widgets/controls",
            "_view_module_version": "1.5.0",
            "_view_name": "ProgressView",
            "bar_style": "success",
            "description": "",
            "description_tooltip": null,
            "layout": "IPY_MODEL_020d21d0b292415b9dfcaec7afb7654e",
            "max": 2466,
            "min": 0,
            "orientation": "horizontal",
            "style": "IPY_MODEL_dd9d7ebed83a4fd5a85064ed711e6275",
            "value": 2466
          }
        },
        "7ffcb72c0a574fa7b8b5a7c60f34376f": {
          "model_module": "@jupyter-widgets/controls",
          "model_name": "HTMLModel",
          "model_module_version": "1.5.0",
          "state": {
            "_dom_classes": [],
            "_model_module": "@jupyter-widgets/controls",
            "_model_module_version": "1.5.0",
            "_model_name": "HTMLModel",
            "_view_count": null,
            "_view_module": "@jupyter-widgets/controls",
            "_view_module_version": "1.5.0",
            "_view_name": "HTMLView",
            "description": "",
            "description_tooltip": null,
            "layout": "IPY_MODEL_ef7144ff3caf4d5a9467c8302ac4c872",
            "placeholder": "​",
            "style": "IPY_MODEL_c05cc8ae17df46ec8f7fa9845368e4f6",
            "value": " 2.47k/2.47k [00:00&lt;00:00, 136kB/s]"
          }
        },
        "8a92922f8b7341bb834a56d8f2afd6cb": {
          "model_module": "@jupyter-widgets/base",
          "model_name": "LayoutModel",
          "model_module_version": "1.2.0",
          "state": {
            "_model_module": "@jupyter-widgets/base",
            "_model_module_version": "1.2.0",
            "_model_name": "LayoutModel",
            "_view_count": null,
            "_view_module": "@jupyter-widgets/base",
            "_view_module_version": "1.2.0",
            "_view_name": "LayoutView",
            "align_content": null,
            "align_items": null,
            "align_self": null,
            "border": null,
            "bottom": null,
            "display": null,
            "flex": null,
            "flex_flow": null,
            "grid_area": null,
            "grid_auto_columns": null,
            "grid_auto_flow": null,
            "grid_auto_rows": null,
            "grid_column": null,
            "grid_gap": null,
            "grid_row": null,
            "grid_template_areas": null,
            "grid_template_columns": null,
            "grid_template_rows": null,
            "height": null,
            "justify_content": null,
            "justify_items": null,
            "left": null,
            "margin": null,
            "max_height": null,
            "max_width": null,
            "min_height": null,
            "min_width": null,
            "object_fit": null,
            "object_position": null,
            "order": null,
            "overflow": null,
            "overflow_x": null,
            "overflow_y": null,
            "padding": null,
            "right": null,
            "top": null,
            "visibility": null,
            "width": null
          }
        },
        "1a46a1686fc84a62931570bc0d03cdcc": {
          "model_module": "@jupyter-widgets/base",
          "model_name": "LayoutModel",
          "model_module_version": "1.2.0",
          "state": {
            "_model_module": "@jupyter-widgets/base",
            "_model_module_version": "1.2.0",
            "_model_name": "LayoutModel",
            "_view_count": null,
            "_view_module": "@jupyter-widgets/base",
            "_view_module_version": "1.2.0",
            "_view_name": "LayoutView",
            "align_content": null,
            "align_items": null,
            "align_self": null,
            "border": null,
            "bottom": null,
            "display": null,
            "flex": null,
            "flex_flow": null,
            "grid_area": null,
            "grid_auto_columns": null,
            "grid_auto_flow": null,
            "grid_auto_rows": null,
            "grid_column": null,
            "grid_gap": null,
            "grid_row": null,
            "grid_template_areas": null,
            "grid_template_columns": null,
            "grid_template_rows": null,
            "height": null,
            "justify_content": null,
            "justify_items": null,
            "left": null,
            "margin": null,
            "max_height": null,
            "max_width": null,
            "min_height": null,
            "min_width": null,
            "object_fit": null,
            "object_position": null,
            "order": null,
            "overflow": null,
            "overflow_x": null,
            "overflow_y": null,
            "padding": null,
            "right": null,
            "top": null,
            "visibility": null,
            "width": null
          }
        },
        "0edd1ebf677c40f2aeb19359f12e6fe2": {
          "model_module": "@jupyter-widgets/controls",
          "model_name": "DescriptionStyleModel",
          "model_module_version": "1.5.0",
          "state": {
            "_model_module": "@jupyter-widgets/controls",
            "_model_module_version": "1.5.0",
            "_model_name": "DescriptionStyleModel",
            "_view_count": null,
            "_view_module": "@jupyter-widgets/base",
            "_view_module_version": "1.2.0",
            "_view_name": "StyleView",
            "description_width": ""
          }
        },
        "020d21d0b292415b9dfcaec7afb7654e": {
          "model_module": "@jupyter-widgets/base",
          "model_name": "LayoutModel",
          "model_module_version": "1.2.0",
          "state": {
            "_model_module": "@jupyter-widgets/base",
            "_model_module_version": "1.2.0",
            "_model_name": "LayoutModel",
            "_view_count": null,
            "_view_module": "@jupyter-widgets/base",
            "_view_module_version": "1.2.0",
            "_view_name": "LayoutView",
            "align_content": null,
            "align_items": null,
            "align_self": null,
            "border": null,
            "bottom": null,
            "display": null,
            "flex": null,
            "flex_flow": null,
            "grid_area": null,
            "grid_auto_columns": null,
            "grid_auto_flow": null,
            "grid_auto_rows": null,
            "grid_column": null,
            "grid_gap": null,
            "grid_row": null,
            "grid_template_areas": null,
            "grid_template_columns": null,
            "grid_template_rows": null,
            "height": null,
            "justify_content": null,
            "justify_items": null,
            "left": null,
            "margin": null,
            "max_height": null,
            "max_width": null,
            "min_height": null,
            "min_width": null,
            "object_fit": null,
            "object_position": null,
            "order": null,
            "overflow": null,
            "overflow_x": null,
            "overflow_y": null,
            "padding": null,
            "right": null,
            "top": null,
            "visibility": null,
            "width": null
          }
        },
        "dd9d7ebed83a4fd5a85064ed711e6275": {
          "model_module": "@jupyter-widgets/controls",
          "model_name": "ProgressStyleModel",
          "model_module_version": "1.5.0",
          "state": {
            "_model_module": "@jupyter-widgets/controls",
            "_model_module_version": "1.5.0",
            "_model_name": "ProgressStyleModel",
            "_view_count": null,
            "_view_module": "@jupyter-widgets/base",
            "_view_module_version": "1.2.0",
            "_view_name": "StyleView",
            "bar_color": null,
            "description_width": ""
          }
        },
        "ef7144ff3caf4d5a9467c8302ac4c872": {
          "model_module": "@jupyter-widgets/base",
          "model_name": "LayoutModel",
          "model_module_version": "1.2.0",
          "state": {
            "_model_module": "@jupyter-widgets/base",
            "_model_module_version": "1.2.0",
            "_model_name": "LayoutModel",
            "_view_count": null,
            "_view_module": "@jupyter-widgets/base",
            "_view_module_version": "1.2.0",
            "_view_name": "LayoutView",
            "align_content": null,
            "align_items": null,
            "align_self": null,
            "border": null,
            "bottom": null,
            "display": null,
            "flex": null,
            "flex_flow": null,
            "grid_area": null,
            "grid_auto_columns": null,
            "grid_auto_flow": null,
            "grid_auto_rows": null,
            "grid_column": null,
            "grid_gap": null,
            "grid_row": null,
            "grid_template_areas": null,
            "grid_template_columns": null,
            "grid_template_rows": null,
            "height": null,
            "justify_content": null,
            "justify_items": null,
            "left": null,
            "margin": null,
            "max_height": null,
            "max_width": null,
            "min_height": null,
            "min_width": null,
            "object_fit": null,
            "object_position": null,
            "order": null,
            "overflow": null,
            "overflow_x": null,
            "overflow_y": null,
            "padding": null,
            "right": null,
            "top": null,
            "visibility": null,
            "width": null
          }
        },
        "c05cc8ae17df46ec8f7fa9845368e4f6": {
          "model_module": "@jupyter-widgets/controls",
          "model_name": "DescriptionStyleModel",
          "model_module_version": "1.5.0",
          "state": {
            "_model_module": "@jupyter-widgets/controls",
            "_model_module_version": "1.5.0",
            "_model_name": "DescriptionStyleModel",
            "_view_count": null,
            "_view_module": "@jupyter-widgets/base",
            "_view_module_version": "1.2.0",
            "_view_name": "StyleView",
            "description_width": ""
          }
        },
        "1eb1bf09c90842049886464d8fc1b0c0": {
          "model_module": "@jupyter-widgets/controls",
          "model_name": "HBoxModel",
          "model_module_version": "1.5.0",
          "state": {
            "_dom_classes": [],
            "_model_module": "@jupyter-widgets/controls",
            "_model_module_version": "1.5.0",
            "_model_name": "HBoxModel",
            "_view_count": null,
            "_view_module": "@jupyter-widgets/controls",
            "_view_module_version": "1.5.0",
            "_view_name": "HBoxView",
            "box_style": "",
            "children": [
              "IPY_MODEL_c46f3807088141ffa9af6ce892f30d26",
              "IPY_MODEL_04398afda72546b9a873e22f218861d7",
              "IPY_MODEL_b261eed3636044eab0547113ed10fa72"
            ],
            "layout": "IPY_MODEL_88ec0743ca684a3ebbcb214a3b2a5133"
          }
        },
        "c46f3807088141ffa9af6ce892f30d26": {
          "model_module": "@jupyter-widgets/controls",
          "model_name": "HTMLModel",
          "model_module_version": "1.5.0",
          "state": {
            "_dom_classes": [],
            "_model_module": "@jupyter-widgets/controls",
            "_model_module_version": "1.5.0",
            "_model_name": "HTMLModel",
            "_view_count": null,
            "_view_module": "@jupyter-widgets/controls",
            "_view_module_version": "1.5.0",
            "_view_name": "HTMLView",
            "description": "",
            "description_tooltip": null,
            "layout": "IPY_MODEL_21454b0f2e9d484e99e7b2b5f7cc5440",
            "placeholder": "​",
            "style": "IPY_MODEL_306086b0690b43e59877dc4d768f0d90",
            "value": "sentence_bert_config.json: 100%"
          }
        },
        "04398afda72546b9a873e22f218861d7": {
          "model_module": "@jupyter-widgets/controls",
          "model_name": "FloatProgressModel",
          "model_module_version": "1.5.0",
          "state": {
            "_dom_classes": [],
            "_model_module": "@jupyter-widgets/controls",
            "_model_module_version": "1.5.0",
            "_model_name": "FloatProgressModel",
            "_view_count": null,
            "_view_module": "@jupyter-widgets/controls",
            "_view_module_version": "1.5.0",
            "_view_name": "ProgressView",
            "bar_style": "success",
            "description": "",
            "description_tooltip": null,
            "layout": "IPY_MODEL_086c936c3da34424bb960454fefc47cc",
            "max": 53,
            "min": 0,
            "orientation": "horizontal",
            "style": "IPY_MODEL_235aae5943e74aaf8f540d2c105b3b82",
            "value": 53
          }
        },
        "b261eed3636044eab0547113ed10fa72": {
          "model_module": "@jupyter-widgets/controls",
          "model_name": "HTMLModel",
          "model_module_version": "1.5.0",
          "state": {
            "_dom_classes": [],
            "_model_module": "@jupyter-widgets/controls",
            "_model_module_version": "1.5.0",
            "_model_name": "HTMLModel",
            "_view_count": null,
            "_view_module": "@jupyter-widgets/controls",
            "_view_module_version": "1.5.0",
            "_view_name": "HTMLView",
            "description": "",
            "description_tooltip": null,
            "layout": "IPY_MODEL_7f9507e563dd4ceb9bb017a178e35514",
            "placeholder": "​",
            "style": "IPY_MODEL_354a72894d5e414ea6158aa1bf371da9",
            "value": " 53.0/53.0 [00:00&lt;00:00, 2.32kB/s]"
          }
        },
        "88ec0743ca684a3ebbcb214a3b2a5133": {
          "model_module": "@jupyter-widgets/base",
          "model_name": "LayoutModel",
          "model_module_version": "1.2.0",
          "state": {
            "_model_module": "@jupyter-widgets/base",
            "_model_module_version": "1.2.0",
            "_model_name": "LayoutModel",
            "_view_count": null,
            "_view_module": "@jupyter-widgets/base",
            "_view_module_version": "1.2.0",
            "_view_name": "LayoutView",
            "align_content": null,
            "align_items": null,
            "align_self": null,
            "border": null,
            "bottom": null,
            "display": null,
            "flex": null,
            "flex_flow": null,
            "grid_area": null,
            "grid_auto_columns": null,
            "grid_auto_flow": null,
            "grid_auto_rows": null,
            "grid_column": null,
            "grid_gap": null,
            "grid_row": null,
            "grid_template_areas": null,
            "grid_template_columns": null,
            "grid_template_rows": null,
            "height": null,
            "justify_content": null,
            "justify_items": null,
            "left": null,
            "margin": null,
            "max_height": null,
            "max_width": null,
            "min_height": null,
            "min_width": null,
            "object_fit": null,
            "object_position": null,
            "order": null,
            "overflow": null,
            "overflow_x": null,
            "overflow_y": null,
            "padding": null,
            "right": null,
            "top": null,
            "visibility": null,
            "width": null
          }
        },
        "21454b0f2e9d484e99e7b2b5f7cc5440": {
          "model_module": "@jupyter-widgets/base",
          "model_name": "LayoutModel",
          "model_module_version": "1.2.0",
          "state": {
            "_model_module": "@jupyter-widgets/base",
            "_model_module_version": "1.2.0",
            "_model_name": "LayoutModel",
            "_view_count": null,
            "_view_module": "@jupyter-widgets/base",
            "_view_module_version": "1.2.0",
            "_view_name": "LayoutView",
            "align_content": null,
            "align_items": null,
            "align_self": null,
            "border": null,
            "bottom": null,
            "display": null,
            "flex": null,
            "flex_flow": null,
            "grid_area": null,
            "grid_auto_columns": null,
            "grid_auto_flow": null,
            "grid_auto_rows": null,
            "grid_column": null,
            "grid_gap": null,
            "grid_row": null,
            "grid_template_areas": null,
            "grid_template_columns": null,
            "grid_template_rows": null,
            "height": null,
            "justify_content": null,
            "justify_items": null,
            "left": null,
            "margin": null,
            "max_height": null,
            "max_width": null,
            "min_height": null,
            "min_width": null,
            "object_fit": null,
            "object_position": null,
            "order": null,
            "overflow": null,
            "overflow_x": null,
            "overflow_y": null,
            "padding": null,
            "right": null,
            "top": null,
            "visibility": null,
            "width": null
          }
        },
        "306086b0690b43e59877dc4d768f0d90": {
          "model_module": "@jupyter-widgets/controls",
          "model_name": "DescriptionStyleModel",
          "model_module_version": "1.5.0",
          "state": {
            "_model_module": "@jupyter-widgets/controls",
            "_model_module_version": "1.5.0",
            "_model_name": "DescriptionStyleModel",
            "_view_count": null,
            "_view_module": "@jupyter-widgets/base",
            "_view_module_version": "1.2.0",
            "_view_name": "StyleView",
            "description_width": ""
          }
        },
        "086c936c3da34424bb960454fefc47cc": {
          "model_module": "@jupyter-widgets/base",
          "model_name": "LayoutModel",
          "model_module_version": "1.2.0",
          "state": {
            "_model_module": "@jupyter-widgets/base",
            "_model_module_version": "1.2.0",
            "_model_name": "LayoutModel",
            "_view_count": null,
            "_view_module": "@jupyter-widgets/base",
            "_view_module_version": "1.2.0",
            "_view_name": "LayoutView",
            "align_content": null,
            "align_items": null,
            "align_self": null,
            "border": null,
            "bottom": null,
            "display": null,
            "flex": null,
            "flex_flow": null,
            "grid_area": null,
            "grid_auto_columns": null,
            "grid_auto_flow": null,
            "grid_auto_rows": null,
            "grid_column": null,
            "grid_gap": null,
            "grid_row": null,
            "grid_template_areas": null,
            "grid_template_columns": null,
            "grid_template_rows": null,
            "height": null,
            "justify_content": null,
            "justify_items": null,
            "left": null,
            "margin": null,
            "max_height": null,
            "max_width": null,
            "min_height": null,
            "min_width": null,
            "object_fit": null,
            "object_position": null,
            "order": null,
            "overflow": null,
            "overflow_x": null,
            "overflow_y": null,
            "padding": null,
            "right": null,
            "top": null,
            "visibility": null,
            "width": null
          }
        },
        "235aae5943e74aaf8f540d2c105b3b82": {
          "model_module": "@jupyter-widgets/controls",
          "model_name": "ProgressStyleModel",
          "model_module_version": "1.5.0",
          "state": {
            "_model_module": "@jupyter-widgets/controls",
            "_model_module_version": "1.5.0",
            "_model_name": "ProgressStyleModel",
            "_view_count": null,
            "_view_module": "@jupyter-widgets/base",
            "_view_module_version": "1.2.0",
            "_view_name": "StyleView",
            "bar_color": null,
            "description_width": ""
          }
        },
        "7f9507e563dd4ceb9bb017a178e35514": {
          "model_module": "@jupyter-widgets/base",
          "model_name": "LayoutModel",
          "model_module_version": "1.2.0",
          "state": {
            "_model_module": "@jupyter-widgets/base",
            "_model_module_version": "1.2.0",
            "_model_name": "LayoutModel",
            "_view_count": null,
            "_view_module": "@jupyter-widgets/base",
            "_view_module_version": "1.2.0",
            "_view_name": "LayoutView",
            "align_content": null,
            "align_items": null,
            "align_self": null,
            "border": null,
            "bottom": null,
            "display": null,
            "flex": null,
            "flex_flow": null,
            "grid_area": null,
            "grid_auto_columns": null,
            "grid_auto_flow": null,
            "grid_auto_rows": null,
            "grid_column": null,
            "grid_gap": null,
            "grid_row": null,
            "grid_template_areas": null,
            "grid_template_columns": null,
            "grid_template_rows": null,
            "height": null,
            "justify_content": null,
            "justify_items": null,
            "left": null,
            "margin": null,
            "max_height": null,
            "max_width": null,
            "min_height": null,
            "min_width": null,
            "object_fit": null,
            "object_position": null,
            "order": null,
            "overflow": null,
            "overflow_x": null,
            "overflow_y": null,
            "padding": null,
            "right": null,
            "top": null,
            "visibility": null,
            "width": null
          }
        },
        "354a72894d5e414ea6158aa1bf371da9": {
          "model_module": "@jupyter-widgets/controls",
          "model_name": "DescriptionStyleModel",
          "model_module_version": "1.5.0",
          "state": {
            "_model_module": "@jupyter-widgets/controls",
            "_model_module_version": "1.5.0",
            "_model_name": "DescriptionStyleModel",
            "_view_count": null,
            "_view_module": "@jupyter-widgets/base",
            "_view_module_version": "1.2.0",
            "_view_name": "StyleView",
            "description_width": ""
          }
        },
        "e7036fbb840b49f9b3abd3fda65711ca": {
          "model_module": "@jupyter-widgets/controls",
          "model_name": "HBoxModel",
          "model_module_version": "1.5.0",
          "state": {
            "_dom_classes": [],
            "_model_module": "@jupyter-widgets/controls",
            "_model_module_version": "1.5.0",
            "_model_name": "HBoxModel",
            "_view_count": null,
            "_view_module": "@jupyter-widgets/controls",
            "_view_module_version": "1.5.0",
            "_view_name": "HBoxView",
            "box_style": "",
            "children": [
              "IPY_MODEL_65dfd545e2114f57a04baf16af63c964",
              "IPY_MODEL_d7649734f26643a3bc37ccdfa0bda392",
              "IPY_MODEL_35464b142e364c2a90101ab80b249873"
            ],
            "layout": "IPY_MODEL_1cc2bd6a5b494e958709a808bea7b545"
          }
        },
        "65dfd545e2114f57a04baf16af63c964": {
          "model_module": "@jupyter-widgets/controls",
          "model_name": "HTMLModel",
          "model_module_version": "1.5.0",
          "state": {
            "_dom_classes": [],
            "_model_module": "@jupyter-widgets/controls",
            "_model_module_version": "1.5.0",
            "_model_name": "HTMLModel",
            "_view_count": null,
            "_view_module": "@jupyter-widgets/controls",
            "_view_module_version": "1.5.0",
            "_view_name": "HTMLView",
            "description": "",
            "description_tooltip": null,
            "layout": "IPY_MODEL_8599211ee7f04226b5c2468eb7b372f5",
            "placeholder": "​",
            "style": "IPY_MODEL_5e6a7f78fe0145b8936f7ccf33bdb856",
            "value": "config.json: 100%"
          }
        },
        "d7649734f26643a3bc37ccdfa0bda392": {
          "model_module": "@jupyter-widgets/controls",
          "model_name": "FloatProgressModel",
          "model_module_version": "1.5.0",
          "state": {
            "_dom_classes": [],
            "_model_module": "@jupyter-widgets/controls",
            "_model_module_version": "1.5.0",
            "_model_name": "FloatProgressModel",
            "_view_count": null,
            "_view_module": "@jupyter-widgets/controls",
            "_view_module_version": "1.5.0",
            "_view_name": "ProgressView",
            "bar_style": "success",
            "description": "",
            "description_tooltip": null,
            "layout": "IPY_MODEL_73ed9ec9bb94468bb76904c63de582d4",
            "max": 556,
            "min": 0,
            "orientation": "horizontal",
            "style": "IPY_MODEL_b41cf74310cb4c078ed5abf5b68c31a1",
            "value": 556
          }
        },
        "35464b142e364c2a90101ab80b249873": {
          "model_module": "@jupyter-widgets/controls",
          "model_name": "HTMLModel",
          "model_module_version": "1.5.0",
          "state": {
            "_dom_classes": [],
            "_model_module": "@jupyter-widgets/controls",
            "_model_module_version": "1.5.0",
            "_model_name": "HTMLModel",
            "_view_count": null,
            "_view_module": "@jupyter-widgets/controls",
            "_view_module_version": "1.5.0",
            "_view_name": "HTMLView",
            "description": "",
            "description_tooltip": null,
            "layout": "IPY_MODEL_b372192031cc4ead8a7d0206076ed724",
            "placeholder": "​",
            "style": "IPY_MODEL_40e66c1bf895423e834b6cf47717a735",
            "value": " 556/556 [00:00&lt;00:00, 28.2kB/s]"
          }
        },
        "1cc2bd6a5b494e958709a808bea7b545": {
          "model_module": "@jupyter-widgets/base",
          "model_name": "LayoutModel",
          "model_module_version": "1.2.0",
          "state": {
            "_model_module": "@jupyter-widgets/base",
            "_model_module_version": "1.2.0",
            "_model_name": "LayoutModel",
            "_view_count": null,
            "_view_module": "@jupyter-widgets/base",
            "_view_module_version": "1.2.0",
            "_view_name": "LayoutView",
            "align_content": null,
            "align_items": null,
            "align_self": null,
            "border": null,
            "bottom": null,
            "display": null,
            "flex": null,
            "flex_flow": null,
            "grid_area": null,
            "grid_auto_columns": null,
            "grid_auto_flow": null,
            "grid_auto_rows": null,
            "grid_column": null,
            "grid_gap": null,
            "grid_row": null,
            "grid_template_areas": null,
            "grid_template_columns": null,
            "grid_template_rows": null,
            "height": null,
            "justify_content": null,
            "justify_items": null,
            "left": null,
            "margin": null,
            "max_height": null,
            "max_width": null,
            "min_height": null,
            "min_width": null,
            "object_fit": null,
            "object_position": null,
            "order": null,
            "overflow": null,
            "overflow_x": null,
            "overflow_y": null,
            "padding": null,
            "right": null,
            "top": null,
            "visibility": null,
            "width": null
          }
        },
        "8599211ee7f04226b5c2468eb7b372f5": {
          "model_module": "@jupyter-widgets/base",
          "model_name": "LayoutModel",
          "model_module_version": "1.2.0",
          "state": {
            "_model_module": "@jupyter-widgets/base",
            "_model_module_version": "1.2.0",
            "_model_name": "LayoutModel",
            "_view_count": null,
            "_view_module": "@jupyter-widgets/base",
            "_view_module_version": "1.2.0",
            "_view_name": "LayoutView",
            "align_content": null,
            "align_items": null,
            "align_self": null,
            "border": null,
            "bottom": null,
            "display": null,
            "flex": null,
            "flex_flow": null,
            "grid_area": null,
            "grid_auto_columns": null,
            "grid_auto_flow": null,
            "grid_auto_rows": null,
            "grid_column": null,
            "grid_gap": null,
            "grid_row": null,
            "grid_template_areas": null,
            "grid_template_columns": null,
            "grid_template_rows": null,
            "height": null,
            "justify_content": null,
            "justify_items": null,
            "left": null,
            "margin": null,
            "max_height": null,
            "max_width": null,
            "min_height": null,
            "min_width": null,
            "object_fit": null,
            "object_position": null,
            "order": null,
            "overflow": null,
            "overflow_x": null,
            "overflow_y": null,
            "padding": null,
            "right": null,
            "top": null,
            "visibility": null,
            "width": null
          }
        },
        "5e6a7f78fe0145b8936f7ccf33bdb856": {
          "model_module": "@jupyter-widgets/controls",
          "model_name": "DescriptionStyleModel",
          "model_module_version": "1.5.0",
          "state": {
            "_model_module": "@jupyter-widgets/controls",
            "_model_module_version": "1.5.0",
            "_model_name": "DescriptionStyleModel",
            "_view_count": null,
            "_view_module": "@jupyter-widgets/base",
            "_view_module_version": "1.2.0",
            "_view_name": "StyleView",
            "description_width": ""
          }
        },
        "73ed9ec9bb94468bb76904c63de582d4": {
          "model_module": "@jupyter-widgets/base",
          "model_name": "LayoutModel",
          "model_module_version": "1.2.0",
          "state": {
            "_model_module": "@jupyter-widgets/base",
            "_model_module_version": "1.2.0",
            "_model_name": "LayoutModel",
            "_view_count": null,
            "_view_module": "@jupyter-widgets/base",
            "_view_module_version": "1.2.0",
            "_view_name": "LayoutView",
            "align_content": null,
            "align_items": null,
            "align_self": null,
            "border": null,
            "bottom": null,
            "display": null,
            "flex": null,
            "flex_flow": null,
            "grid_area": null,
            "grid_auto_columns": null,
            "grid_auto_flow": null,
            "grid_auto_rows": null,
            "grid_column": null,
            "grid_gap": null,
            "grid_row": null,
            "grid_template_areas": null,
            "grid_template_columns": null,
            "grid_template_rows": null,
            "height": null,
            "justify_content": null,
            "justify_items": null,
            "left": null,
            "margin": null,
            "max_height": null,
            "max_width": null,
            "min_height": null,
            "min_width": null,
            "object_fit": null,
            "object_position": null,
            "order": null,
            "overflow": null,
            "overflow_x": null,
            "overflow_y": null,
            "padding": null,
            "right": null,
            "top": null,
            "visibility": null,
            "width": null
          }
        },
        "b41cf74310cb4c078ed5abf5b68c31a1": {
          "model_module": "@jupyter-widgets/controls",
          "model_name": "ProgressStyleModel",
          "model_module_version": "1.5.0",
          "state": {
            "_model_module": "@jupyter-widgets/controls",
            "_model_module_version": "1.5.0",
            "_model_name": "ProgressStyleModel",
            "_view_count": null,
            "_view_module": "@jupyter-widgets/base",
            "_view_module_version": "1.2.0",
            "_view_name": "StyleView",
            "bar_color": null,
            "description_width": ""
          }
        },
        "b372192031cc4ead8a7d0206076ed724": {
          "model_module": "@jupyter-widgets/base",
          "model_name": "LayoutModel",
          "model_module_version": "1.2.0",
          "state": {
            "_model_module": "@jupyter-widgets/base",
            "_model_module_version": "1.2.0",
            "_model_name": "LayoutModel",
            "_view_count": null,
            "_view_module": "@jupyter-widgets/base",
            "_view_module_version": "1.2.0",
            "_view_name": "LayoutView",
            "align_content": null,
            "align_items": null,
            "align_self": null,
            "border": null,
            "bottom": null,
            "display": null,
            "flex": null,
            "flex_flow": null,
            "grid_area": null,
            "grid_auto_columns": null,
            "grid_auto_flow": null,
            "grid_auto_rows": null,
            "grid_column": null,
            "grid_gap": null,
            "grid_row": null,
            "grid_template_areas": null,
            "grid_template_columns": null,
            "grid_template_rows": null,
            "height": null,
            "justify_content": null,
            "justify_items": null,
            "left": null,
            "margin": null,
            "max_height": null,
            "max_width": null,
            "min_height": null,
            "min_width": null,
            "object_fit": null,
            "object_position": null,
            "order": null,
            "overflow": null,
            "overflow_x": null,
            "overflow_y": null,
            "padding": null,
            "right": null,
            "top": null,
            "visibility": null,
            "width": null
          }
        },
        "40e66c1bf895423e834b6cf47717a735": {
          "model_module": "@jupyter-widgets/controls",
          "model_name": "DescriptionStyleModel",
          "model_module_version": "1.5.0",
          "state": {
            "_model_module": "@jupyter-widgets/controls",
            "_model_module_version": "1.5.0",
            "_model_name": "DescriptionStyleModel",
            "_view_count": null,
            "_view_module": "@jupyter-widgets/base",
            "_view_module_version": "1.2.0",
            "_view_name": "StyleView",
            "description_width": ""
          }
        },
        "c4c351406e1f4ba2b09a813257e602e7": {
          "model_module": "@jupyter-widgets/controls",
          "model_name": "HBoxModel",
          "model_module_version": "1.5.0",
          "state": {
            "_dom_classes": [],
            "_model_module": "@jupyter-widgets/controls",
            "_model_module_version": "1.5.0",
            "_model_name": "HBoxModel",
            "_view_count": null,
            "_view_module": "@jupyter-widgets/controls",
            "_view_module_version": "1.5.0",
            "_view_name": "HBoxView",
            "box_style": "",
            "children": [
              "IPY_MODEL_711e4825e25843a8b549c8943742eef9",
              "IPY_MODEL_360a5f2b31454cb38bdc57bdd8f93a6d",
              "IPY_MODEL_f4f028c0cb0e40cfb7c8cd44d9058f15"
            ],
            "layout": "IPY_MODEL_0ee2d28c71bb48698830ddd48ae5320b"
          }
        },
        "711e4825e25843a8b549c8943742eef9": {
          "model_module": "@jupyter-widgets/controls",
          "model_name": "HTMLModel",
          "model_module_version": "1.5.0",
          "state": {
            "_dom_classes": [],
            "_model_module": "@jupyter-widgets/controls",
            "_model_module_version": "1.5.0",
            "_model_name": "HTMLModel",
            "_view_count": null,
            "_view_module": "@jupyter-widgets/controls",
            "_view_module_version": "1.5.0",
            "_view_name": "HTMLView",
            "description": "",
            "description_tooltip": null,
            "layout": "IPY_MODEL_38c55c1226194d1face8ffa20df8be45",
            "placeholder": "​",
            "style": "IPY_MODEL_aad67b064ca84c3097628d319d1f7be6",
            "value": "model.safetensors: 100%"
          }
        },
        "360a5f2b31454cb38bdc57bdd8f93a6d": {
          "model_module": "@jupyter-widgets/controls",
          "model_name": "FloatProgressModel",
          "model_module_version": "1.5.0",
          "state": {
            "_dom_classes": [],
            "_model_module": "@jupyter-widgets/controls",
            "_model_module_version": "1.5.0",
            "_model_name": "FloatProgressModel",
            "_view_count": null,
            "_view_module": "@jupyter-widgets/controls",
            "_view_module_version": "1.5.0",
            "_view_name": "ProgressView",
            "bar_style": "success",
            "description": "",
            "description_tooltip": null,
            "layout": "IPY_MODEL_1298a21e2f18429c9f644e157e351e52",
            "max": 538947416,
            "min": 0,
            "orientation": "horizontal",
            "style": "IPY_MODEL_7e6168724eef47b080cf8e0216356430",
            "value": 538947416
          }
        },
        "f4f028c0cb0e40cfb7c8cd44d9058f15": {
          "model_module": "@jupyter-widgets/controls",
          "model_name": "HTMLModel",
          "model_module_version": "1.5.0",
          "state": {
            "_dom_classes": [],
            "_model_module": "@jupyter-widgets/controls",
            "_model_module_version": "1.5.0",
            "_model_name": "HTMLModel",
            "_view_count": null,
            "_view_module": "@jupyter-widgets/controls",
            "_view_module_version": "1.5.0",
            "_view_name": "HTMLView",
            "description": "",
            "description_tooltip": null,
            "layout": "IPY_MODEL_c714aa4972914d758eaa36659dc97ed1",
            "placeholder": "​",
            "style": "IPY_MODEL_64e789736e5e4b74bfe8bfae9fd9a5ab",
            "value": " 539M/539M [00:04&lt;00:00, 91.9MB/s]"
          }
        },
        "0ee2d28c71bb48698830ddd48ae5320b": {
          "model_module": "@jupyter-widgets/base",
          "model_name": "LayoutModel",
          "model_module_version": "1.2.0",
          "state": {
            "_model_module": "@jupyter-widgets/base",
            "_model_module_version": "1.2.0",
            "_model_name": "LayoutModel",
            "_view_count": null,
            "_view_module": "@jupyter-widgets/base",
            "_view_module_version": "1.2.0",
            "_view_name": "LayoutView",
            "align_content": null,
            "align_items": null,
            "align_self": null,
            "border": null,
            "bottom": null,
            "display": null,
            "flex": null,
            "flex_flow": null,
            "grid_area": null,
            "grid_auto_columns": null,
            "grid_auto_flow": null,
            "grid_auto_rows": null,
            "grid_column": null,
            "grid_gap": null,
            "grid_row": null,
            "grid_template_areas": null,
            "grid_template_columns": null,
            "grid_template_rows": null,
            "height": null,
            "justify_content": null,
            "justify_items": null,
            "left": null,
            "margin": null,
            "max_height": null,
            "max_width": null,
            "min_height": null,
            "min_width": null,
            "object_fit": null,
            "object_position": null,
            "order": null,
            "overflow": null,
            "overflow_x": null,
            "overflow_y": null,
            "padding": null,
            "right": null,
            "top": null,
            "visibility": null,
            "width": null
          }
        },
        "38c55c1226194d1face8ffa20df8be45": {
          "model_module": "@jupyter-widgets/base",
          "model_name": "LayoutModel",
          "model_module_version": "1.2.0",
          "state": {
            "_model_module": "@jupyter-widgets/base",
            "_model_module_version": "1.2.0",
            "_model_name": "LayoutModel",
            "_view_count": null,
            "_view_module": "@jupyter-widgets/base",
            "_view_module_version": "1.2.0",
            "_view_name": "LayoutView",
            "align_content": null,
            "align_items": null,
            "align_self": null,
            "border": null,
            "bottom": null,
            "display": null,
            "flex": null,
            "flex_flow": null,
            "grid_area": null,
            "grid_auto_columns": null,
            "grid_auto_flow": null,
            "grid_auto_rows": null,
            "grid_column": null,
            "grid_gap": null,
            "grid_row": null,
            "grid_template_areas": null,
            "grid_template_columns": null,
            "grid_template_rows": null,
            "height": null,
            "justify_content": null,
            "justify_items": null,
            "left": null,
            "margin": null,
            "max_height": null,
            "max_width": null,
            "min_height": null,
            "min_width": null,
            "object_fit": null,
            "object_position": null,
            "order": null,
            "overflow": null,
            "overflow_x": null,
            "overflow_y": null,
            "padding": null,
            "right": null,
            "top": null,
            "visibility": null,
            "width": null
          }
        },
        "aad67b064ca84c3097628d319d1f7be6": {
          "model_module": "@jupyter-widgets/controls",
          "model_name": "DescriptionStyleModel",
          "model_module_version": "1.5.0",
          "state": {
            "_model_module": "@jupyter-widgets/controls",
            "_model_module_version": "1.5.0",
            "_model_name": "DescriptionStyleModel",
            "_view_count": null,
            "_view_module": "@jupyter-widgets/base",
            "_view_module_version": "1.2.0",
            "_view_name": "StyleView",
            "description_width": ""
          }
        },
        "1298a21e2f18429c9f644e157e351e52": {
          "model_module": "@jupyter-widgets/base",
          "model_name": "LayoutModel",
          "model_module_version": "1.2.0",
          "state": {
            "_model_module": "@jupyter-widgets/base",
            "_model_module_version": "1.2.0",
            "_model_name": "LayoutModel",
            "_view_count": null,
            "_view_module": "@jupyter-widgets/base",
            "_view_module_version": "1.2.0",
            "_view_name": "LayoutView",
            "align_content": null,
            "align_items": null,
            "align_self": null,
            "border": null,
            "bottom": null,
            "display": null,
            "flex": null,
            "flex_flow": null,
            "grid_area": null,
            "grid_auto_columns": null,
            "grid_auto_flow": null,
            "grid_auto_rows": null,
            "grid_column": null,
            "grid_gap": null,
            "grid_row": null,
            "grid_template_areas": null,
            "grid_template_columns": null,
            "grid_template_rows": null,
            "height": null,
            "justify_content": null,
            "justify_items": null,
            "left": null,
            "margin": null,
            "max_height": null,
            "max_width": null,
            "min_height": null,
            "min_width": null,
            "object_fit": null,
            "object_position": null,
            "order": null,
            "overflow": null,
            "overflow_x": null,
            "overflow_y": null,
            "padding": null,
            "right": null,
            "top": null,
            "visibility": null,
            "width": null
          }
        },
        "7e6168724eef47b080cf8e0216356430": {
          "model_module": "@jupyter-widgets/controls",
          "model_name": "ProgressStyleModel",
          "model_module_version": "1.5.0",
          "state": {
            "_model_module": "@jupyter-widgets/controls",
            "_model_module_version": "1.5.0",
            "_model_name": "ProgressStyleModel",
            "_view_count": null,
            "_view_module": "@jupyter-widgets/base",
            "_view_module_version": "1.2.0",
            "_view_name": "StyleView",
            "bar_color": null,
            "description_width": ""
          }
        },
        "c714aa4972914d758eaa36659dc97ed1": {
          "model_module": "@jupyter-widgets/base",
          "model_name": "LayoutModel",
          "model_module_version": "1.2.0",
          "state": {
            "_model_module": "@jupyter-widgets/base",
            "_model_module_version": "1.2.0",
            "_model_name": "LayoutModel",
            "_view_count": null,
            "_view_module": "@jupyter-widgets/base",
            "_view_module_version": "1.2.0",
            "_view_name": "LayoutView",
            "align_content": null,
            "align_items": null,
            "align_self": null,
            "border": null,
            "bottom": null,
            "display": null,
            "flex": null,
            "flex_flow": null,
            "grid_area": null,
            "grid_auto_columns": null,
            "grid_auto_flow": null,
            "grid_auto_rows": null,
            "grid_column": null,
            "grid_gap": null,
            "grid_row": null,
            "grid_template_areas": null,
            "grid_template_columns": null,
            "grid_template_rows": null,
            "height": null,
            "justify_content": null,
            "justify_items": null,
            "left": null,
            "margin": null,
            "max_height": null,
            "max_width": null,
            "min_height": null,
            "min_width": null,
            "object_fit": null,
            "object_position": null,
            "order": null,
            "overflow": null,
            "overflow_x": null,
            "overflow_y": null,
            "padding": null,
            "right": null,
            "top": null,
            "visibility": null,
            "width": null
          }
        },
        "64e789736e5e4b74bfe8bfae9fd9a5ab": {
          "model_module": "@jupyter-widgets/controls",
          "model_name": "DescriptionStyleModel",
          "model_module_version": "1.5.0",
          "state": {
            "_model_module": "@jupyter-widgets/controls",
            "_model_module_version": "1.5.0",
            "_model_name": "DescriptionStyleModel",
            "_view_count": null,
            "_view_module": "@jupyter-widgets/base",
            "_view_module_version": "1.2.0",
            "_view_name": "StyleView",
            "description_width": ""
          }
        },
        "e925729cefaa429f9b44f3de97e89d45": {
          "model_module": "@jupyter-widgets/controls",
          "model_name": "HBoxModel",
          "model_module_version": "1.5.0",
          "state": {
            "_dom_classes": [],
            "_model_module": "@jupyter-widgets/controls",
            "_model_module_version": "1.5.0",
            "_model_name": "HBoxModel",
            "_view_count": null,
            "_view_module": "@jupyter-widgets/controls",
            "_view_module_version": "1.5.0",
            "_view_name": "HBoxView",
            "box_style": "",
            "children": [
              "IPY_MODEL_09703d45709a45579a4f33083d21b402",
              "IPY_MODEL_c13c26ffbbc84cd39e68960b204a117e",
              "IPY_MODEL_782a62a5869d4ec7ad06d10a9e38d3ed"
            ],
            "layout": "IPY_MODEL_20fb53bab2c14499bc3862121fe75b63"
          }
        },
        "09703d45709a45579a4f33083d21b402": {
          "model_module": "@jupyter-widgets/controls",
          "model_name": "HTMLModel",
          "model_module_version": "1.5.0",
          "state": {
            "_dom_classes": [],
            "_model_module": "@jupyter-widgets/controls",
            "_model_module_version": "1.5.0",
            "_model_name": "HTMLModel",
            "_view_count": null,
            "_view_module": "@jupyter-widgets/controls",
            "_view_module_version": "1.5.0",
            "_view_name": "HTMLView",
            "description": "",
            "description_tooltip": null,
            "layout": "IPY_MODEL_5b1b4ea0f6384c3eb14c797f483b295b",
            "placeholder": "​",
            "style": "IPY_MODEL_b9e72edf04304090ad7a7623f6c523aa",
            "value": "tokenizer_config.json: 100%"
          }
        },
        "c13c26ffbbc84cd39e68960b204a117e": {
          "model_module": "@jupyter-widgets/controls",
          "model_name": "FloatProgressModel",
          "model_module_version": "1.5.0",
          "state": {
            "_dom_classes": [],
            "_model_module": "@jupyter-widgets/controls",
            "_model_module_version": "1.5.0",
            "_model_name": "FloatProgressModel",
            "_view_count": null,
            "_view_module": "@jupyter-widgets/controls",
            "_view_module_version": "1.5.0",
            "_view_name": "ProgressView",
            "bar_style": "success",
            "description": "",
            "description_tooltip": null,
            "layout": "IPY_MODEL_1adb6b0562704ddc97d701fa49b99bd5",
            "max": 452,
            "min": 0,
            "orientation": "horizontal",
            "style": "IPY_MODEL_8eb3b31346a149489e45105f826538b7",
            "value": 452
          }
        },
        "782a62a5869d4ec7ad06d10a9e38d3ed": {
          "model_module": "@jupyter-widgets/controls",
          "model_name": "HTMLModel",
          "model_module_version": "1.5.0",
          "state": {
            "_dom_classes": [],
            "_model_module": "@jupyter-widgets/controls",
            "_model_module_version": "1.5.0",
            "_model_name": "HTMLModel",
            "_view_count": null,
            "_view_module": "@jupyter-widgets/controls",
            "_view_module_version": "1.5.0",
            "_view_name": "HTMLView",
            "description": "",
            "description_tooltip": null,
            "layout": "IPY_MODEL_270073ccda464e1ab9eb4f0083ca4ceb",
            "placeholder": "​",
            "style": "IPY_MODEL_d0b676c3b7f04ca5aef08723d1402bd6",
            "value": " 452/452 [00:00&lt;00:00, 8.40kB/s]"
          }
        },
        "20fb53bab2c14499bc3862121fe75b63": {
          "model_module": "@jupyter-widgets/base",
          "model_name": "LayoutModel",
          "model_module_version": "1.2.0",
          "state": {
            "_model_module": "@jupyter-widgets/base",
            "_model_module_version": "1.2.0",
            "_model_name": "LayoutModel",
            "_view_count": null,
            "_view_module": "@jupyter-widgets/base",
            "_view_module_version": "1.2.0",
            "_view_name": "LayoutView",
            "align_content": null,
            "align_items": null,
            "align_self": null,
            "border": null,
            "bottom": null,
            "display": null,
            "flex": null,
            "flex_flow": null,
            "grid_area": null,
            "grid_auto_columns": null,
            "grid_auto_flow": null,
            "grid_auto_rows": null,
            "grid_column": null,
            "grid_gap": null,
            "grid_row": null,
            "grid_template_areas": null,
            "grid_template_columns": null,
            "grid_template_rows": null,
            "height": null,
            "justify_content": null,
            "justify_items": null,
            "left": null,
            "margin": null,
            "max_height": null,
            "max_width": null,
            "min_height": null,
            "min_width": null,
            "object_fit": null,
            "object_position": null,
            "order": null,
            "overflow": null,
            "overflow_x": null,
            "overflow_y": null,
            "padding": null,
            "right": null,
            "top": null,
            "visibility": null,
            "width": null
          }
        },
        "5b1b4ea0f6384c3eb14c797f483b295b": {
          "model_module": "@jupyter-widgets/base",
          "model_name": "LayoutModel",
          "model_module_version": "1.2.0",
          "state": {
            "_model_module": "@jupyter-widgets/base",
            "_model_module_version": "1.2.0",
            "_model_name": "LayoutModel",
            "_view_count": null,
            "_view_module": "@jupyter-widgets/base",
            "_view_module_version": "1.2.0",
            "_view_name": "LayoutView",
            "align_content": null,
            "align_items": null,
            "align_self": null,
            "border": null,
            "bottom": null,
            "display": null,
            "flex": null,
            "flex_flow": null,
            "grid_area": null,
            "grid_auto_columns": null,
            "grid_auto_flow": null,
            "grid_auto_rows": null,
            "grid_column": null,
            "grid_gap": null,
            "grid_row": null,
            "grid_template_areas": null,
            "grid_template_columns": null,
            "grid_template_rows": null,
            "height": null,
            "justify_content": null,
            "justify_items": null,
            "left": null,
            "margin": null,
            "max_height": null,
            "max_width": null,
            "min_height": null,
            "min_width": null,
            "object_fit": null,
            "object_position": null,
            "order": null,
            "overflow": null,
            "overflow_x": null,
            "overflow_y": null,
            "padding": null,
            "right": null,
            "top": null,
            "visibility": null,
            "width": null
          }
        },
        "b9e72edf04304090ad7a7623f6c523aa": {
          "model_module": "@jupyter-widgets/controls",
          "model_name": "DescriptionStyleModel",
          "model_module_version": "1.5.0",
          "state": {
            "_model_module": "@jupyter-widgets/controls",
            "_model_module_version": "1.5.0",
            "_model_name": "DescriptionStyleModel",
            "_view_count": null,
            "_view_module": "@jupyter-widgets/base",
            "_view_module_version": "1.2.0",
            "_view_name": "StyleView",
            "description_width": ""
          }
        },
        "1adb6b0562704ddc97d701fa49b99bd5": {
          "model_module": "@jupyter-widgets/base",
          "model_name": "LayoutModel",
          "model_module_version": "1.2.0",
          "state": {
            "_model_module": "@jupyter-widgets/base",
            "_model_module_version": "1.2.0",
            "_model_name": "LayoutModel",
            "_view_count": null,
            "_view_module": "@jupyter-widgets/base",
            "_view_module_version": "1.2.0",
            "_view_name": "LayoutView",
            "align_content": null,
            "align_items": null,
            "align_self": null,
            "border": null,
            "bottom": null,
            "display": null,
            "flex": null,
            "flex_flow": null,
            "grid_area": null,
            "grid_auto_columns": null,
            "grid_auto_flow": null,
            "grid_auto_rows": null,
            "grid_column": null,
            "grid_gap": null,
            "grid_row": null,
            "grid_template_areas": null,
            "grid_template_columns": null,
            "grid_template_rows": null,
            "height": null,
            "justify_content": null,
            "justify_items": null,
            "left": null,
            "margin": null,
            "max_height": null,
            "max_width": null,
            "min_height": null,
            "min_width": null,
            "object_fit": null,
            "object_position": null,
            "order": null,
            "overflow": null,
            "overflow_x": null,
            "overflow_y": null,
            "padding": null,
            "right": null,
            "top": null,
            "visibility": null,
            "width": null
          }
        },
        "8eb3b31346a149489e45105f826538b7": {
          "model_module": "@jupyter-widgets/controls",
          "model_name": "ProgressStyleModel",
          "model_module_version": "1.5.0",
          "state": {
            "_model_module": "@jupyter-widgets/controls",
            "_model_module_version": "1.5.0",
            "_model_name": "ProgressStyleModel",
            "_view_count": null,
            "_view_module": "@jupyter-widgets/base",
            "_view_module_version": "1.2.0",
            "_view_name": "StyleView",
            "bar_color": null,
            "description_width": ""
          }
        },
        "270073ccda464e1ab9eb4f0083ca4ceb": {
          "model_module": "@jupyter-widgets/base",
          "model_name": "LayoutModel",
          "model_module_version": "1.2.0",
          "state": {
            "_model_module": "@jupyter-widgets/base",
            "_model_module_version": "1.2.0",
            "_model_name": "LayoutModel",
            "_view_count": null,
            "_view_module": "@jupyter-widgets/base",
            "_view_module_version": "1.2.0",
            "_view_name": "LayoutView",
            "align_content": null,
            "align_items": null,
            "align_self": null,
            "border": null,
            "bottom": null,
            "display": null,
            "flex": null,
            "flex_flow": null,
            "grid_area": null,
            "grid_auto_columns": null,
            "grid_auto_flow": null,
            "grid_auto_rows": null,
            "grid_column": null,
            "grid_gap": null,
            "grid_row": null,
            "grid_template_areas": null,
            "grid_template_columns": null,
            "grid_template_rows": null,
            "height": null,
            "justify_content": null,
            "justify_items": null,
            "left": null,
            "margin": null,
            "max_height": null,
            "max_width": null,
            "min_height": null,
            "min_width": null,
            "object_fit": null,
            "object_position": null,
            "order": null,
            "overflow": null,
            "overflow_x": null,
            "overflow_y": null,
            "padding": null,
            "right": null,
            "top": null,
            "visibility": null,
            "width": null
          }
        },
        "d0b676c3b7f04ca5aef08723d1402bd6": {
          "model_module": "@jupyter-widgets/controls",
          "model_name": "DescriptionStyleModel",
          "model_module_version": "1.5.0",
          "state": {
            "_model_module": "@jupyter-widgets/controls",
            "_model_module_version": "1.5.0",
            "_model_name": "DescriptionStyleModel",
            "_view_count": null,
            "_view_module": "@jupyter-widgets/base",
            "_view_module_version": "1.2.0",
            "_view_name": "StyleView",
            "description_width": ""
          }
        },
        "4be3e86068cb41d7b21db8dc1e78a1d5": {
          "model_module": "@jupyter-widgets/controls",
          "model_name": "HBoxModel",
          "model_module_version": "1.5.0",
          "state": {
            "_dom_classes": [],
            "_model_module": "@jupyter-widgets/controls",
            "_model_module_version": "1.5.0",
            "_model_name": "HBoxModel",
            "_view_count": null,
            "_view_module": "@jupyter-widgets/controls",
            "_view_module_version": "1.5.0",
            "_view_name": "HBoxView",
            "box_style": "",
            "children": [
              "IPY_MODEL_b51226a60e934d4da06c323e42fbd8df",
              "IPY_MODEL_7892f595301f4992becf4a57f51271b4",
              "IPY_MODEL_d765363fc0d54cae904e08dfcd2a99bf"
            ],
            "layout": "IPY_MODEL_3a128e00b9634129baa8068052c6d0d0"
          }
        },
        "b51226a60e934d4da06c323e42fbd8df": {
          "model_module": "@jupyter-widgets/controls",
          "model_name": "HTMLModel",
          "model_module_version": "1.5.0",
          "state": {
            "_dom_classes": [],
            "_model_module": "@jupyter-widgets/controls",
            "_model_module_version": "1.5.0",
            "_model_name": "HTMLModel",
            "_view_count": null,
            "_view_module": "@jupyter-widgets/controls",
            "_view_module_version": "1.5.0",
            "_view_name": "HTMLView",
            "description": "",
            "description_tooltip": null,
            "layout": "IPY_MODEL_30eca73be14749558c9848b1b204991a",
            "placeholder": "​",
            "style": "IPY_MODEL_fcc4b8ac2277481e84bcd4edd4f4b867",
            "value": "vocab.txt: 100%"
          }
        },
        "7892f595301f4992becf4a57f51271b4": {
          "model_module": "@jupyter-widgets/controls",
          "model_name": "FloatProgressModel",
          "model_module_version": "1.5.0",
          "state": {
            "_dom_classes": [],
            "_model_module": "@jupyter-widgets/controls",
            "_model_module_version": "1.5.0",
            "_model_name": "FloatProgressModel",
            "_view_count": null,
            "_view_module": "@jupyter-widgets/controls",
            "_view_module_version": "1.5.0",
            "_view_name": "ProgressView",
            "bar_style": "success",
            "description": "",
            "description_tooltip": null,
            "layout": "IPY_MODEL_b055163e38c14ee9a8754173de9472d5",
            "max": 995526,
            "min": 0,
            "orientation": "horizontal",
            "style": "IPY_MODEL_9bf322efd7d44e6eafb67021d2320067",
            "value": 995526
          }
        },
        "d765363fc0d54cae904e08dfcd2a99bf": {
          "model_module": "@jupyter-widgets/controls",
          "model_name": "HTMLModel",
          "model_module_version": "1.5.0",
          "state": {
            "_dom_classes": [],
            "_model_module": "@jupyter-widgets/controls",
            "_model_module_version": "1.5.0",
            "_model_name": "HTMLModel",
            "_view_count": null,
            "_view_module": "@jupyter-widgets/controls",
            "_view_module_version": "1.5.0",
            "_view_name": "HTMLView",
            "description": "",
            "description_tooltip": null,
            "layout": "IPY_MODEL_8f7418731c8a431d893e336bd045ee4c",
            "placeholder": "​",
            "style": "IPY_MODEL_3b9fbab534bc49a38eca74fa1dc9f488",
            "value": " 996k/996k [00:00&lt;00:00, 4.85MB/s]"
          }
        },
        "3a128e00b9634129baa8068052c6d0d0": {
          "model_module": "@jupyter-widgets/base",
          "model_name": "LayoutModel",
          "model_module_version": "1.2.0",
          "state": {
            "_model_module": "@jupyter-widgets/base",
            "_model_module_version": "1.2.0",
            "_model_name": "LayoutModel",
            "_view_count": null,
            "_view_module": "@jupyter-widgets/base",
            "_view_module_version": "1.2.0",
            "_view_name": "LayoutView",
            "align_content": null,
            "align_items": null,
            "align_self": null,
            "border": null,
            "bottom": null,
            "display": null,
            "flex": null,
            "flex_flow": null,
            "grid_area": null,
            "grid_auto_columns": null,
            "grid_auto_flow": null,
            "grid_auto_rows": null,
            "grid_column": null,
            "grid_gap": null,
            "grid_row": null,
            "grid_template_areas": null,
            "grid_template_columns": null,
            "grid_template_rows": null,
            "height": null,
            "justify_content": null,
            "justify_items": null,
            "left": null,
            "margin": null,
            "max_height": null,
            "max_width": null,
            "min_height": null,
            "min_width": null,
            "object_fit": null,
            "object_position": null,
            "order": null,
            "overflow": null,
            "overflow_x": null,
            "overflow_y": null,
            "padding": null,
            "right": null,
            "top": null,
            "visibility": null,
            "width": null
          }
        },
        "30eca73be14749558c9848b1b204991a": {
          "model_module": "@jupyter-widgets/base",
          "model_name": "LayoutModel",
          "model_module_version": "1.2.0",
          "state": {
            "_model_module": "@jupyter-widgets/base",
            "_model_module_version": "1.2.0",
            "_model_name": "LayoutModel",
            "_view_count": null,
            "_view_module": "@jupyter-widgets/base",
            "_view_module_version": "1.2.0",
            "_view_name": "LayoutView",
            "align_content": null,
            "align_items": null,
            "align_self": null,
            "border": null,
            "bottom": null,
            "display": null,
            "flex": null,
            "flex_flow": null,
            "grid_area": null,
            "grid_auto_columns": null,
            "grid_auto_flow": null,
            "grid_auto_rows": null,
            "grid_column": null,
            "grid_gap": null,
            "grid_row": null,
            "grid_template_areas": null,
            "grid_template_columns": null,
            "grid_template_rows": null,
            "height": null,
            "justify_content": null,
            "justify_items": null,
            "left": null,
            "margin": null,
            "max_height": null,
            "max_width": null,
            "min_height": null,
            "min_width": null,
            "object_fit": null,
            "object_position": null,
            "order": null,
            "overflow": null,
            "overflow_x": null,
            "overflow_y": null,
            "padding": null,
            "right": null,
            "top": null,
            "visibility": null,
            "width": null
          }
        },
        "fcc4b8ac2277481e84bcd4edd4f4b867": {
          "model_module": "@jupyter-widgets/controls",
          "model_name": "DescriptionStyleModel",
          "model_module_version": "1.5.0",
          "state": {
            "_model_module": "@jupyter-widgets/controls",
            "_model_module_version": "1.5.0",
            "_model_name": "DescriptionStyleModel",
            "_view_count": null,
            "_view_module": "@jupyter-widgets/base",
            "_view_module_version": "1.2.0",
            "_view_name": "StyleView",
            "description_width": ""
          }
        },
        "b055163e38c14ee9a8754173de9472d5": {
          "model_module": "@jupyter-widgets/base",
          "model_name": "LayoutModel",
          "model_module_version": "1.2.0",
          "state": {
            "_model_module": "@jupyter-widgets/base",
            "_model_module_version": "1.2.0",
            "_model_name": "LayoutModel",
            "_view_count": null,
            "_view_module": "@jupyter-widgets/base",
            "_view_module_version": "1.2.0",
            "_view_name": "LayoutView",
            "align_content": null,
            "align_items": null,
            "align_self": null,
            "border": null,
            "bottom": null,
            "display": null,
            "flex": null,
            "flex_flow": null,
            "grid_area": null,
            "grid_auto_columns": null,
            "grid_auto_flow": null,
            "grid_auto_rows": null,
            "grid_column": null,
            "grid_gap": null,
            "grid_row": null,
            "grid_template_areas": null,
            "grid_template_columns": null,
            "grid_template_rows": null,
            "height": null,
            "justify_content": null,
            "justify_items": null,
            "left": null,
            "margin": null,
            "max_height": null,
            "max_width": null,
            "min_height": null,
            "min_width": null,
            "object_fit": null,
            "object_position": null,
            "order": null,
            "overflow": null,
            "overflow_x": null,
            "overflow_y": null,
            "padding": null,
            "right": null,
            "top": null,
            "visibility": null,
            "width": null
          }
        },
        "9bf322efd7d44e6eafb67021d2320067": {
          "model_module": "@jupyter-widgets/controls",
          "model_name": "ProgressStyleModel",
          "model_module_version": "1.5.0",
          "state": {
            "_model_module": "@jupyter-widgets/controls",
            "_model_module_version": "1.5.0",
            "_model_name": "ProgressStyleModel",
            "_view_count": null,
            "_view_module": "@jupyter-widgets/base",
            "_view_module_version": "1.2.0",
            "_view_name": "StyleView",
            "bar_color": null,
            "description_width": ""
          }
        },
        "8f7418731c8a431d893e336bd045ee4c": {
          "model_module": "@jupyter-widgets/base",
          "model_name": "LayoutModel",
          "model_module_version": "1.2.0",
          "state": {
            "_model_module": "@jupyter-widgets/base",
            "_model_module_version": "1.2.0",
            "_model_name": "LayoutModel",
            "_view_count": null,
            "_view_module": "@jupyter-widgets/base",
            "_view_module_version": "1.2.0",
            "_view_name": "LayoutView",
            "align_content": null,
            "align_items": null,
            "align_self": null,
            "border": null,
            "bottom": null,
            "display": null,
            "flex": null,
            "flex_flow": null,
            "grid_area": null,
            "grid_auto_columns": null,
            "grid_auto_flow": null,
            "grid_auto_rows": null,
            "grid_column": null,
            "grid_gap": null,
            "grid_row": null,
            "grid_template_areas": null,
            "grid_template_columns": null,
            "grid_template_rows": null,
            "height": null,
            "justify_content": null,
            "justify_items": null,
            "left": null,
            "margin": null,
            "max_height": null,
            "max_width": null,
            "min_height": null,
            "min_width": null,
            "object_fit": null,
            "object_position": null,
            "order": null,
            "overflow": null,
            "overflow_x": null,
            "overflow_y": null,
            "padding": null,
            "right": null,
            "top": null,
            "visibility": null,
            "width": null
          }
        },
        "3b9fbab534bc49a38eca74fa1dc9f488": {
          "model_module": "@jupyter-widgets/controls",
          "model_name": "DescriptionStyleModel",
          "model_module_version": "1.5.0",
          "state": {
            "_model_module": "@jupyter-widgets/controls",
            "_model_module_version": "1.5.0",
            "_model_name": "DescriptionStyleModel",
            "_view_count": null,
            "_view_module": "@jupyter-widgets/base",
            "_view_module_version": "1.2.0",
            "_view_name": "StyleView",
            "description_width": ""
          }
        },
        "9ef43de27da749f2ae6295e082745e68": {
          "model_module": "@jupyter-widgets/controls",
          "model_name": "HBoxModel",
          "model_module_version": "1.5.0",
          "state": {
            "_dom_classes": [],
            "_model_module": "@jupyter-widgets/controls",
            "_model_module_version": "1.5.0",
            "_model_name": "HBoxModel",
            "_view_count": null,
            "_view_module": "@jupyter-widgets/controls",
            "_view_module_version": "1.5.0",
            "_view_name": "HBoxView",
            "box_style": "",
            "children": [
              "IPY_MODEL_9af50a001a4040b68141fa2d8a1f49c6",
              "IPY_MODEL_619ac6b24e2946aa989e9a58f378c656",
              "IPY_MODEL_ad93f2048eed42d7884ac162c4b73bae"
            ],
            "layout": "IPY_MODEL_ff8b6da443d5406eb7a19539ce324e6d"
          }
        },
        "9af50a001a4040b68141fa2d8a1f49c6": {
          "model_module": "@jupyter-widgets/controls",
          "model_name": "HTMLModel",
          "model_module_version": "1.5.0",
          "state": {
            "_dom_classes": [],
            "_model_module": "@jupyter-widgets/controls",
            "_model_module_version": "1.5.0",
            "_model_name": "HTMLModel",
            "_view_count": null,
            "_view_module": "@jupyter-widgets/controls",
            "_view_module_version": "1.5.0",
            "_view_name": "HTMLView",
            "description": "",
            "description_tooltip": null,
            "layout": "IPY_MODEL_b37d133a0f244c1e8552c0e280b4d5b0",
            "placeholder": "​",
            "style": "IPY_MODEL_ba4f03eb33c6416eb9ac22b96f9736c7",
            "value": "tokenizer.json: 100%"
          }
        },
        "619ac6b24e2946aa989e9a58f378c656": {
          "model_module": "@jupyter-widgets/controls",
          "model_name": "FloatProgressModel",
          "model_module_version": "1.5.0",
          "state": {
            "_dom_classes": [],
            "_model_module": "@jupyter-widgets/controls",
            "_model_module_version": "1.5.0",
            "_model_name": "FloatProgressModel",
            "_view_count": null,
            "_view_module": "@jupyter-widgets/controls",
            "_view_module_version": "1.5.0",
            "_view_name": "ProgressView",
            "bar_style": "success",
            "description": "",
            "description_tooltip": null,
            "layout": "IPY_MODEL_e0a01e96ead34e158e4dc25ae3ad6eb9",
            "max": 1961847,
            "min": 0,
            "orientation": "horizontal",
            "style": "IPY_MODEL_d90671c4225849f1b06f96ce288665fb",
            "value": 1961847
          }
        },
        "ad93f2048eed42d7884ac162c4b73bae": {
          "model_module": "@jupyter-widgets/controls",
          "model_name": "HTMLModel",
          "model_module_version": "1.5.0",
          "state": {
            "_dom_classes": [],
            "_model_module": "@jupyter-widgets/controls",
            "_model_module_version": "1.5.0",
            "_model_name": "HTMLModel",
            "_view_count": null,
            "_view_module": "@jupyter-widgets/controls",
            "_view_module_version": "1.5.0",
            "_view_name": "HTMLView",
            "description": "",
            "description_tooltip": null,
            "layout": "IPY_MODEL_769a03f846684cd5ae71b13d1aef0e56",
            "placeholder": "​",
            "style": "IPY_MODEL_de2717a0ee71490fa367d5b9e0423c48",
            "value": " 1.96M/1.96M [00:00&lt;00:00, 16.7MB/s]"
          }
        },
        "ff8b6da443d5406eb7a19539ce324e6d": {
          "model_module": "@jupyter-widgets/base",
          "model_name": "LayoutModel",
          "model_module_version": "1.2.0",
          "state": {
            "_model_module": "@jupyter-widgets/base",
            "_model_module_version": "1.2.0",
            "_model_name": "LayoutModel",
            "_view_count": null,
            "_view_module": "@jupyter-widgets/base",
            "_view_module_version": "1.2.0",
            "_view_name": "LayoutView",
            "align_content": null,
            "align_items": null,
            "align_self": null,
            "border": null,
            "bottom": null,
            "display": null,
            "flex": null,
            "flex_flow": null,
            "grid_area": null,
            "grid_auto_columns": null,
            "grid_auto_flow": null,
            "grid_auto_rows": null,
            "grid_column": null,
            "grid_gap": null,
            "grid_row": null,
            "grid_template_areas": null,
            "grid_template_columns": null,
            "grid_template_rows": null,
            "height": null,
            "justify_content": null,
            "justify_items": null,
            "left": null,
            "margin": null,
            "max_height": null,
            "max_width": null,
            "min_height": null,
            "min_width": null,
            "object_fit": null,
            "object_position": null,
            "order": null,
            "overflow": null,
            "overflow_x": null,
            "overflow_y": null,
            "padding": null,
            "right": null,
            "top": null,
            "visibility": null,
            "width": null
          }
        },
        "b37d133a0f244c1e8552c0e280b4d5b0": {
          "model_module": "@jupyter-widgets/base",
          "model_name": "LayoutModel",
          "model_module_version": "1.2.0",
          "state": {
            "_model_module": "@jupyter-widgets/base",
            "_model_module_version": "1.2.0",
            "_model_name": "LayoutModel",
            "_view_count": null,
            "_view_module": "@jupyter-widgets/base",
            "_view_module_version": "1.2.0",
            "_view_name": "LayoutView",
            "align_content": null,
            "align_items": null,
            "align_self": null,
            "border": null,
            "bottom": null,
            "display": null,
            "flex": null,
            "flex_flow": null,
            "grid_area": null,
            "grid_auto_columns": null,
            "grid_auto_flow": null,
            "grid_auto_rows": null,
            "grid_column": null,
            "grid_gap": null,
            "grid_row": null,
            "grid_template_areas": null,
            "grid_template_columns": null,
            "grid_template_rows": null,
            "height": null,
            "justify_content": null,
            "justify_items": null,
            "left": null,
            "margin": null,
            "max_height": null,
            "max_width": null,
            "min_height": null,
            "min_width": null,
            "object_fit": null,
            "object_position": null,
            "order": null,
            "overflow": null,
            "overflow_x": null,
            "overflow_y": null,
            "padding": null,
            "right": null,
            "top": null,
            "visibility": null,
            "width": null
          }
        },
        "ba4f03eb33c6416eb9ac22b96f9736c7": {
          "model_module": "@jupyter-widgets/controls",
          "model_name": "DescriptionStyleModel",
          "model_module_version": "1.5.0",
          "state": {
            "_model_module": "@jupyter-widgets/controls",
            "_model_module_version": "1.5.0",
            "_model_name": "DescriptionStyleModel",
            "_view_count": null,
            "_view_module": "@jupyter-widgets/base",
            "_view_module_version": "1.2.0",
            "_view_name": "StyleView",
            "description_width": ""
          }
        },
        "e0a01e96ead34e158e4dc25ae3ad6eb9": {
          "model_module": "@jupyter-widgets/base",
          "model_name": "LayoutModel",
          "model_module_version": "1.2.0",
          "state": {
            "_model_module": "@jupyter-widgets/base",
            "_model_module_version": "1.2.0",
            "_model_name": "LayoutModel",
            "_view_count": null,
            "_view_module": "@jupyter-widgets/base",
            "_view_module_version": "1.2.0",
            "_view_name": "LayoutView",
            "align_content": null,
            "align_items": null,
            "align_self": null,
            "border": null,
            "bottom": null,
            "display": null,
            "flex": null,
            "flex_flow": null,
            "grid_area": null,
            "grid_auto_columns": null,
            "grid_auto_flow": null,
            "grid_auto_rows": null,
            "grid_column": null,
            "grid_gap": null,
            "grid_row": null,
            "grid_template_areas": null,
            "grid_template_columns": null,
            "grid_template_rows": null,
            "height": null,
            "justify_content": null,
            "justify_items": null,
            "left": null,
            "margin": null,
            "max_height": null,
            "max_width": null,
            "min_height": null,
            "min_width": null,
            "object_fit": null,
            "object_position": null,
            "order": null,
            "overflow": null,
            "overflow_x": null,
            "overflow_y": null,
            "padding": null,
            "right": null,
            "top": null,
            "visibility": null,
            "width": null
          }
        },
        "d90671c4225849f1b06f96ce288665fb": {
          "model_module": "@jupyter-widgets/controls",
          "model_name": "ProgressStyleModel",
          "model_module_version": "1.5.0",
          "state": {
            "_model_module": "@jupyter-widgets/controls",
            "_model_module_version": "1.5.0",
            "_model_name": "ProgressStyleModel",
            "_view_count": null,
            "_view_module": "@jupyter-widgets/base",
            "_view_module_version": "1.2.0",
            "_view_name": "StyleView",
            "bar_color": null,
            "description_width": ""
          }
        },
        "769a03f846684cd5ae71b13d1aef0e56": {
          "model_module": "@jupyter-widgets/base",
          "model_name": "LayoutModel",
          "model_module_version": "1.2.0",
          "state": {
            "_model_module": "@jupyter-widgets/base",
            "_model_module_version": "1.2.0",
            "_model_name": "LayoutModel",
            "_view_count": null,
            "_view_module": "@jupyter-widgets/base",
            "_view_module_version": "1.2.0",
            "_view_name": "LayoutView",
            "align_content": null,
            "align_items": null,
            "align_self": null,
            "border": null,
            "bottom": null,
            "display": null,
            "flex": null,
            "flex_flow": null,
            "grid_area": null,
            "grid_auto_columns": null,
            "grid_auto_flow": null,
            "grid_auto_rows": null,
            "grid_column": null,
            "grid_gap": null,
            "grid_row": null,
            "grid_template_areas": null,
            "grid_template_columns": null,
            "grid_template_rows": null,
            "height": null,
            "justify_content": null,
            "justify_items": null,
            "left": null,
            "margin": null,
            "max_height": null,
            "max_width": null,
            "min_height": null,
            "min_width": null,
            "object_fit": null,
            "object_position": null,
            "order": null,
            "overflow": null,
            "overflow_x": null,
            "overflow_y": null,
            "padding": null,
            "right": null,
            "top": null,
            "visibility": null,
            "width": null
          }
        },
        "de2717a0ee71490fa367d5b9e0423c48": {
          "model_module": "@jupyter-widgets/controls",
          "model_name": "DescriptionStyleModel",
          "model_module_version": "1.5.0",
          "state": {
            "_model_module": "@jupyter-widgets/controls",
            "_model_module_version": "1.5.0",
            "_model_name": "DescriptionStyleModel",
            "_view_count": null,
            "_view_module": "@jupyter-widgets/base",
            "_view_module_version": "1.2.0",
            "_view_name": "StyleView",
            "description_width": ""
          }
        },
        "ef6081d1511f4813ac4c4c0f21fc9173": {
          "model_module": "@jupyter-widgets/controls",
          "model_name": "HBoxModel",
          "model_module_version": "1.5.0",
          "state": {
            "_dom_classes": [],
            "_model_module": "@jupyter-widgets/controls",
            "_model_module_version": "1.5.0",
            "_model_name": "HBoxModel",
            "_view_count": null,
            "_view_module": "@jupyter-widgets/controls",
            "_view_module_version": "1.5.0",
            "_view_name": "HBoxView",
            "box_style": "",
            "children": [
              "IPY_MODEL_43b5d359a743477a992b4bba2960cc7f",
              "IPY_MODEL_6a911f13b72243609c11a390fd545a72",
              "IPY_MODEL_6e0eef9aeba74ecba9f664fb94ef03cd"
            ],
            "layout": "IPY_MODEL_a8af7a8040234780ba83a317f90b8d21"
          }
        },
        "43b5d359a743477a992b4bba2960cc7f": {
          "model_module": "@jupyter-widgets/controls",
          "model_name": "HTMLModel",
          "model_module_version": "1.5.0",
          "state": {
            "_dom_classes": [],
            "_model_module": "@jupyter-widgets/controls",
            "_model_module_version": "1.5.0",
            "_model_name": "HTMLModel",
            "_view_count": null,
            "_view_module": "@jupyter-widgets/controls",
            "_view_module_version": "1.5.0",
            "_view_name": "HTMLView",
            "description": "",
            "description_tooltip": null,
            "layout": "IPY_MODEL_0aa2695a64c94f8baad2ee46075aabfa",
            "placeholder": "​",
            "style": "IPY_MODEL_320d8c37cbb841b69f80c96d0d3bcdb1",
            "value": "special_tokens_map.json: 100%"
          }
        },
        "6a911f13b72243609c11a390fd545a72": {
          "model_module": "@jupyter-widgets/controls",
          "model_name": "FloatProgressModel",
          "model_module_version": "1.5.0",
          "state": {
            "_dom_classes": [],
            "_model_module": "@jupyter-widgets/controls",
            "_model_module_version": "1.5.0",
            "_model_name": "FloatProgressModel",
            "_view_count": null,
            "_view_module": "@jupyter-widgets/controls",
            "_view_module_version": "1.5.0",
            "_view_name": "ProgressView",
            "bar_style": "success",
            "description": "",
            "description_tooltip": null,
            "layout": "IPY_MODEL_8758afcf6a2249e18a78c61b9db26c9d",
            "max": 112,
            "min": 0,
            "orientation": "horizontal",
            "style": "IPY_MODEL_8b2e206c9d4f47698293f799684b6b37",
            "value": 112
          }
        },
        "6e0eef9aeba74ecba9f664fb94ef03cd": {
          "model_module": "@jupyter-widgets/controls",
          "model_name": "HTMLModel",
          "model_module_version": "1.5.0",
          "state": {
            "_dom_classes": [],
            "_model_module": "@jupyter-widgets/controls",
            "_model_module_version": "1.5.0",
            "_model_name": "HTMLModel",
            "_view_count": null,
            "_view_module": "@jupyter-widgets/controls",
            "_view_module_version": "1.5.0",
            "_view_name": "HTMLView",
            "description": "",
            "description_tooltip": null,
            "layout": "IPY_MODEL_f963143fd52d44d3bef08c73f0a3987c",
            "placeholder": "​",
            "style": "IPY_MODEL_473c14974feb4b98a9c4acf6b2e4471c",
            "value": " 112/112 [00:00&lt;00:00, 1.11kB/s]"
          }
        },
        "a8af7a8040234780ba83a317f90b8d21": {
          "model_module": "@jupyter-widgets/base",
          "model_name": "LayoutModel",
          "model_module_version": "1.2.0",
          "state": {
            "_model_module": "@jupyter-widgets/base",
            "_model_module_version": "1.2.0",
            "_model_name": "LayoutModel",
            "_view_count": null,
            "_view_module": "@jupyter-widgets/base",
            "_view_module_version": "1.2.0",
            "_view_name": "LayoutView",
            "align_content": null,
            "align_items": null,
            "align_self": null,
            "border": null,
            "bottom": null,
            "display": null,
            "flex": null,
            "flex_flow": null,
            "grid_area": null,
            "grid_auto_columns": null,
            "grid_auto_flow": null,
            "grid_auto_rows": null,
            "grid_column": null,
            "grid_gap": null,
            "grid_row": null,
            "grid_template_areas": null,
            "grid_template_columns": null,
            "grid_template_rows": null,
            "height": null,
            "justify_content": null,
            "justify_items": null,
            "left": null,
            "margin": null,
            "max_height": null,
            "max_width": null,
            "min_height": null,
            "min_width": null,
            "object_fit": null,
            "object_position": null,
            "order": null,
            "overflow": null,
            "overflow_x": null,
            "overflow_y": null,
            "padding": null,
            "right": null,
            "top": null,
            "visibility": null,
            "width": null
          }
        },
        "0aa2695a64c94f8baad2ee46075aabfa": {
          "model_module": "@jupyter-widgets/base",
          "model_name": "LayoutModel",
          "model_module_version": "1.2.0",
          "state": {
            "_model_module": "@jupyter-widgets/base",
            "_model_module_version": "1.2.0",
            "_model_name": "LayoutModel",
            "_view_count": null,
            "_view_module": "@jupyter-widgets/base",
            "_view_module_version": "1.2.0",
            "_view_name": "LayoutView",
            "align_content": null,
            "align_items": null,
            "align_self": null,
            "border": null,
            "bottom": null,
            "display": null,
            "flex": null,
            "flex_flow": null,
            "grid_area": null,
            "grid_auto_columns": null,
            "grid_auto_flow": null,
            "grid_auto_rows": null,
            "grid_column": null,
            "grid_gap": null,
            "grid_row": null,
            "grid_template_areas": null,
            "grid_template_columns": null,
            "grid_template_rows": null,
            "height": null,
            "justify_content": null,
            "justify_items": null,
            "left": null,
            "margin": null,
            "max_height": null,
            "max_width": null,
            "min_height": null,
            "min_width": null,
            "object_fit": null,
            "object_position": null,
            "order": null,
            "overflow": null,
            "overflow_x": null,
            "overflow_y": null,
            "padding": null,
            "right": null,
            "top": null,
            "visibility": null,
            "width": null
          }
        },
        "320d8c37cbb841b69f80c96d0d3bcdb1": {
          "model_module": "@jupyter-widgets/controls",
          "model_name": "DescriptionStyleModel",
          "model_module_version": "1.5.0",
          "state": {
            "_model_module": "@jupyter-widgets/controls",
            "_model_module_version": "1.5.0",
            "_model_name": "DescriptionStyleModel",
            "_view_count": null,
            "_view_module": "@jupyter-widgets/base",
            "_view_module_version": "1.2.0",
            "_view_name": "StyleView",
            "description_width": ""
          }
        },
        "8758afcf6a2249e18a78c61b9db26c9d": {
          "model_module": "@jupyter-widgets/base",
          "model_name": "LayoutModel",
          "model_module_version": "1.2.0",
          "state": {
            "_model_module": "@jupyter-widgets/base",
            "_model_module_version": "1.2.0",
            "_model_name": "LayoutModel",
            "_view_count": null,
            "_view_module": "@jupyter-widgets/base",
            "_view_module_version": "1.2.0",
            "_view_name": "LayoutView",
            "align_content": null,
            "align_items": null,
            "align_self": null,
            "border": null,
            "bottom": null,
            "display": null,
            "flex": null,
            "flex_flow": null,
            "grid_area": null,
            "grid_auto_columns": null,
            "grid_auto_flow": null,
            "grid_auto_rows": null,
            "grid_column": null,
            "grid_gap": null,
            "grid_row": null,
            "grid_template_areas": null,
            "grid_template_columns": null,
            "grid_template_rows": null,
            "height": null,
            "justify_content": null,
            "justify_items": null,
            "left": null,
            "margin": null,
            "max_height": null,
            "max_width": null,
            "min_height": null,
            "min_width": null,
            "object_fit": null,
            "object_position": null,
            "order": null,
            "overflow": null,
            "overflow_x": null,
            "overflow_y": null,
            "padding": null,
            "right": null,
            "top": null,
            "visibility": null,
            "width": null
          }
        },
        "8b2e206c9d4f47698293f799684b6b37": {
          "model_module": "@jupyter-widgets/controls",
          "model_name": "ProgressStyleModel",
          "model_module_version": "1.5.0",
          "state": {
            "_model_module": "@jupyter-widgets/controls",
            "_model_module_version": "1.5.0",
            "_model_name": "ProgressStyleModel",
            "_view_count": null,
            "_view_module": "@jupyter-widgets/base",
            "_view_module_version": "1.2.0",
            "_view_name": "StyleView",
            "bar_color": null,
            "description_width": ""
          }
        },
        "f963143fd52d44d3bef08c73f0a3987c": {
          "model_module": "@jupyter-widgets/base",
          "model_name": "LayoutModel",
          "model_module_version": "1.2.0",
          "state": {
            "_model_module": "@jupyter-widgets/base",
            "_model_module_version": "1.2.0",
            "_model_name": "LayoutModel",
            "_view_count": null,
            "_view_module": "@jupyter-widgets/base",
            "_view_module_version": "1.2.0",
            "_view_name": "LayoutView",
            "align_content": null,
            "align_items": null,
            "align_self": null,
            "border": null,
            "bottom": null,
            "display": null,
            "flex": null,
            "flex_flow": null,
            "grid_area": null,
            "grid_auto_columns": null,
            "grid_auto_flow": null,
            "grid_auto_rows": null,
            "grid_column": null,
            "grid_gap": null,
            "grid_row": null,
            "grid_template_areas": null,
            "grid_template_columns": null,
            "grid_template_rows": null,
            "height": null,
            "justify_content": null,
            "justify_items": null,
            "left": null,
            "margin": null,
            "max_height": null,
            "max_width": null,
            "min_height": null,
            "min_width": null,
            "object_fit": null,
            "object_position": null,
            "order": null,
            "overflow": null,
            "overflow_x": null,
            "overflow_y": null,
            "padding": null,
            "right": null,
            "top": null,
            "visibility": null,
            "width": null
          }
        },
        "473c14974feb4b98a9c4acf6b2e4471c": {
          "model_module": "@jupyter-widgets/controls",
          "model_name": "DescriptionStyleModel",
          "model_module_version": "1.5.0",
          "state": {
            "_model_module": "@jupyter-widgets/controls",
            "_model_module_version": "1.5.0",
            "_model_name": "DescriptionStyleModel",
            "_view_count": null,
            "_view_module": "@jupyter-widgets/base",
            "_view_module_version": "1.2.0",
            "_view_name": "StyleView",
            "description_width": ""
          }
        },
        "d6d8c553892d4e95ac0c158039dfb854": {
          "model_module": "@jupyter-widgets/controls",
          "model_name": "HBoxModel",
          "model_module_version": "1.5.0",
          "state": {
            "_dom_classes": [],
            "_model_module": "@jupyter-widgets/controls",
            "_model_module_version": "1.5.0",
            "_model_name": "HBoxModel",
            "_view_count": null,
            "_view_module": "@jupyter-widgets/controls",
            "_view_module_version": "1.5.0",
            "_view_name": "HBoxView",
            "box_style": "",
            "children": [
              "IPY_MODEL_3bb5ef46b15044059437471ea9ed1773",
              "IPY_MODEL_26093b61455848d3b9c7b078edf6b25c",
              "IPY_MODEL_823561c5086645f484fcab7b1fdbe5e5"
            ],
            "layout": "IPY_MODEL_7f96c9f5b1054d96bb98eefdfe7f620e"
          }
        },
        "3bb5ef46b15044059437471ea9ed1773": {
          "model_module": "@jupyter-widgets/controls",
          "model_name": "HTMLModel",
          "model_module_version": "1.5.0",
          "state": {
            "_dom_classes": [],
            "_model_module": "@jupyter-widgets/controls",
            "_model_module_version": "1.5.0",
            "_model_name": "HTMLModel",
            "_view_count": null,
            "_view_module": "@jupyter-widgets/controls",
            "_view_module_version": "1.5.0",
            "_view_name": "HTMLView",
            "description": "",
            "description_tooltip": null,
            "layout": "IPY_MODEL_790b0ad31afd42238cc03a3a48c279ae",
            "placeholder": "​",
            "style": "IPY_MODEL_93b3226098f9461f846455f7af5ce19c",
            "value": "1_Pooling/config.json: 100%"
          }
        },
        "26093b61455848d3b9c7b078edf6b25c": {
          "model_module": "@jupyter-widgets/controls",
          "model_name": "FloatProgressModel",
          "model_module_version": "1.5.0",
          "state": {
            "_dom_classes": [],
            "_model_module": "@jupyter-widgets/controls",
            "_model_module_version": "1.5.0",
            "_model_name": "FloatProgressModel",
            "_view_count": null,
            "_view_module": "@jupyter-widgets/controls",
            "_view_module_version": "1.5.0",
            "_view_name": "ProgressView",
            "bar_style": "success",
            "description": "",
            "description_tooltip": null,
            "layout": "IPY_MODEL_a02ac9c8313b4349b44969e1b43e6dc6",
            "max": 190,
            "min": 0,
            "orientation": "horizontal",
            "style": "IPY_MODEL_6a2bfa63ca6347eb9de0b6edcfdf00d5",
            "value": 190
          }
        },
        "823561c5086645f484fcab7b1fdbe5e5": {
          "model_module": "@jupyter-widgets/controls",
          "model_name": "HTMLModel",
          "model_module_version": "1.5.0",
          "state": {
            "_dom_classes": [],
            "_model_module": "@jupyter-widgets/controls",
            "_model_module_version": "1.5.0",
            "_model_name": "HTMLModel",
            "_view_count": null,
            "_view_module": "@jupyter-widgets/controls",
            "_view_module_version": "1.5.0",
            "_view_name": "HTMLView",
            "description": "",
            "description_tooltip": null,
            "layout": "IPY_MODEL_e45a91309bb2481cb3a4fe52379bd54a",
            "placeholder": "​",
            "style": "IPY_MODEL_70c1c3daf6f841ed805a13b56a9e522d",
            "value": " 190/190 [00:00&lt;00:00, 6.04kB/s]"
          }
        },
        "7f96c9f5b1054d96bb98eefdfe7f620e": {
          "model_module": "@jupyter-widgets/base",
          "model_name": "LayoutModel",
          "model_module_version": "1.2.0",
          "state": {
            "_model_module": "@jupyter-widgets/base",
            "_model_module_version": "1.2.0",
            "_model_name": "LayoutModel",
            "_view_count": null,
            "_view_module": "@jupyter-widgets/base",
            "_view_module_version": "1.2.0",
            "_view_name": "LayoutView",
            "align_content": null,
            "align_items": null,
            "align_self": null,
            "border": null,
            "bottom": null,
            "display": null,
            "flex": null,
            "flex_flow": null,
            "grid_area": null,
            "grid_auto_columns": null,
            "grid_auto_flow": null,
            "grid_auto_rows": null,
            "grid_column": null,
            "grid_gap": null,
            "grid_row": null,
            "grid_template_areas": null,
            "grid_template_columns": null,
            "grid_template_rows": null,
            "height": null,
            "justify_content": null,
            "justify_items": null,
            "left": null,
            "margin": null,
            "max_height": null,
            "max_width": null,
            "min_height": null,
            "min_width": null,
            "object_fit": null,
            "object_position": null,
            "order": null,
            "overflow": null,
            "overflow_x": null,
            "overflow_y": null,
            "padding": null,
            "right": null,
            "top": null,
            "visibility": null,
            "width": null
          }
        },
        "790b0ad31afd42238cc03a3a48c279ae": {
          "model_module": "@jupyter-widgets/base",
          "model_name": "LayoutModel",
          "model_module_version": "1.2.0",
          "state": {
            "_model_module": "@jupyter-widgets/base",
            "_model_module_version": "1.2.0",
            "_model_name": "LayoutModel",
            "_view_count": null,
            "_view_module": "@jupyter-widgets/base",
            "_view_module_version": "1.2.0",
            "_view_name": "LayoutView",
            "align_content": null,
            "align_items": null,
            "align_self": null,
            "border": null,
            "bottom": null,
            "display": null,
            "flex": null,
            "flex_flow": null,
            "grid_area": null,
            "grid_auto_columns": null,
            "grid_auto_flow": null,
            "grid_auto_rows": null,
            "grid_column": null,
            "grid_gap": null,
            "grid_row": null,
            "grid_template_areas": null,
            "grid_template_columns": null,
            "grid_template_rows": null,
            "height": null,
            "justify_content": null,
            "justify_items": null,
            "left": null,
            "margin": null,
            "max_height": null,
            "max_width": null,
            "min_height": null,
            "min_width": null,
            "object_fit": null,
            "object_position": null,
            "order": null,
            "overflow": null,
            "overflow_x": null,
            "overflow_y": null,
            "padding": null,
            "right": null,
            "top": null,
            "visibility": null,
            "width": null
          }
        },
        "93b3226098f9461f846455f7af5ce19c": {
          "model_module": "@jupyter-widgets/controls",
          "model_name": "DescriptionStyleModel",
          "model_module_version": "1.5.0",
          "state": {
            "_model_module": "@jupyter-widgets/controls",
            "_model_module_version": "1.5.0",
            "_model_name": "DescriptionStyleModel",
            "_view_count": null,
            "_view_module": "@jupyter-widgets/base",
            "_view_module_version": "1.2.0",
            "_view_name": "StyleView",
            "description_width": ""
          }
        },
        "a02ac9c8313b4349b44969e1b43e6dc6": {
          "model_module": "@jupyter-widgets/base",
          "model_name": "LayoutModel",
          "model_module_version": "1.2.0",
          "state": {
            "_model_module": "@jupyter-widgets/base",
            "_model_module_version": "1.2.0",
            "_model_name": "LayoutModel",
            "_view_count": null,
            "_view_module": "@jupyter-widgets/base",
            "_view_module_version": "1.2.0",
            "_view_name": "LayoutView",
            "align_content": null,
            "align_items": null,
            "align_self": null,
            "border": null,
            "bottom": null,
            "display": null,
            "flex": null,
            "flex_flow": null,
            "grid_area": null,
            "grid_auto_columns": null,
            "grid_auto_flow": null,
            "grid_auto_rows": null,
            "grid_column": null,
            "grid_gap": null,
            "grid_row": null,
            "grid_template_areas": null,
            "grid_template_columns": null,
            "grid_template_rows": null,
            "height": null,
            "justify_content": null,
            "justify_items": null,
            "left": null,
            "margin": null,
            "max_height": null,
            "max_width": null,
            "min_height": null,
            "min_width": null,
            "object_fit": null,
            "object_position": null,
            "order": null,
            "overflow": null,
            "overflow_x": null,
            "overflow_y": null,
            "padding": null,
            "right": null,
            "top": null,
            "visibility": null,
            "width": null
          }
        },
        "6a2bfa63ca6347eb9de0b6edcfdf00d5": {
          "model_module": "@jupyter-widgets/controls",
          "model_name": "ProgressStyleModel",
          "model_module_version": "1.5.0",
          "state": {
            "_model_module": "@jupyter-widgets/controls",
            "_model_module_version": "1.5.0",
            "_model_name": "ProgressStyleModel",
            "_view_count": null,
            "_view_module": "@jupyter-widgets/base",
            "_view_module_version": "1.2.0",
            "_view_name": "StyleView",
            "bar_color": null,
            "description_width": ""
          }
        },
        "e45a91309bb2481cb3a4fe52379bd54a": {
          "model_module": "@jupyter-widgets/base",
          "model_name": "LayoutModel",
          "model_module_version": "1.2.0",
          "state": {
            "_model_module": "@jupyter-widgets/base",
            "_model_module_version": "1.2.0",
            "_model_name": "LayoutModel",
            "_view_count": null,
            "_view_module": "@jupyter-widgets/base",
            "_view_module_version": "1.2.0",
            "_view_name": "LayoutView",
            "align_content": null,
            "align_items": null,
            "align_self": null,
            "border": null,
            "bottom": null,
            "display": null,
            "flex": null,
            "flex_flow": null,
            "grid_area": null,
            "grid_auto_columns": null,
            "grid_auto_flow": null,
            "grid_auto_rows": null,
            "grid_column": null,
            "grid_gap": null,
            "grid_row": null,
            "grid_template_areas": null,
            "grid_template_columns": null,
            "grid_template_rows": null,
            "height": null,
            "justify_content": null,
            "justify_items": null,
            "left": null,
            "margin": null,
            "max_height": null,
            "max_width": null,
            "min_height": null,
            "min_width": null,
            "object_fit": null,
            "object_position": null,
            "order": null,
            "overflow": null,
            "overflow_x": null,
            "overflow_y": null,
            "padding": null,
            "right": null,
            "top": null,
            "visibility": null,
            "width": null
          }
        },
        "70c1c3daf6f841ed805a13b56a9e522d": {
          "model_module": "@jupyter-widgets/controls",
          "model_name": "DescriptionStyleModel",
          "model_module_version": "1.5.0",
          "state": {
            "_model_module": "@jupyter-widgets/controls",
            "_model_module_version": "1.5.0",
            "_model_name": "DescriptionStyleModel",
            "_view_count": null,
            "_view_module": "@jupyter-widgets/base",
            "_view_module_version": "1.2.0",
            "_view_name": "StyleView",
            "description_width": ""
          }
        },
        "e9440101a05449e183829c8a73d14591": {
          "model_module": "@jupyter-widgets/controls",
          "model_name": "HBoxModel",
          "model_module_version": "1.5.0",
          "state": {
            "_dom_classes": [],
            "_model_module": "@jupyter-widgets/controls",
            "_model_module_version": "1.5.0",
            "_model_name": "HBoxModel",
            "_view_count": null,
            "_view_module": "@jupyter-widgets/controls",
            "_view_module_version": "1.5.0",
            "_view_name": "HBoxView",
            "box_style": "",
            "children": [
              "IPY_MODEL_0e518d7c134142158d36611295fdf7b3",
              "IPY_MODEL_2844cbcd17a142b69507519ffc3de6d9",
              "IPY_MODEL_d1b638d505ec4a0d9b32448447044d32"
            ],
            "layout": "IPY_MODEL_3613c507bdfd4efca055fa66aa3cd66e"
          }
        },
        "0e518d7c134142158d36611295fdf7b3": {
          "model_module": "@jupyter-widgets/controls",
          "model_name": "HTMLModel",
          "model_module_version": "1.5.0",
          "state": {
            "_dom_classes": [],
            "_model_module": "@jupyter-widgets/controls",
            "_model_module_version": "1.5.0",
            "_model_name": "HTMLModel",
            "_view_count": null,
            "_view_module": "@jupyter-widgets/controls",
            "_view_module_version": "1.5.0",
            "_view_name": "HTMLView",
            "description": "",
            "description_tooltip": null,
            "layout": "IPY_MODEL_50530d6c5fb043e7bf0aa0ec4034a133",
            "placeholder": "​",
            "style": "IPY_MODEL_1939e45d520343a48f172d8b29a2c56c",
            "value": "2_Dense/config.json: 100%"
          }
        },
        "2844cbcd17a142b69507519ffc3de6d9": {
          "model_module": "@jupyter-widgets/controls",
          "model_name": "FloatProgressModel",
          "model_module_version": "1.5.0",
          "state": {
            "_dom_classes": [],
            "_model_module": "@jupyter-widgets/controls",
            "_model_module_version": "1.5.0",
            "_model_name": "FloatProgressModel",
            "_view_count": null,
            "_view_module": "@jupyter-widgets/controls",
            "_view_module_version": "1.5.0",
            "_view_name": "ProgressView",
            "bar_style": "success",
            "description": "",
            "description_tooltip": null,
            "layout": "IPY_MODEL_b2ba4cff15b8487b8e02c56b8637ad84",
            "max": 114,
            "min": 0,
            "orientation": "horizontal",
            "style": "IPY_MODEL_9a743cfb78f14607bcc63922653c38ed",
            "value": 114
          }
        },
        "d1b638d505ec4a0d9b32448447044d32": {
          "model_module": "@jupyter-widgets/controls",
          "model_name": "HTMLModel",
          "model_module_version": "1.5.0",
          "state": {
            "_dom_classes": [],
            "_model_module": "@jupyter-widgets/controls",
            "_model_module_version": "1.5.0",
            "_model_name": "HTMLModel",
            "_view_count": null,
            "_view_module": "@jupyter-widgets/controls",
            "_view_module_version": "1.5.0",
            "_view_name": "HTMLView",
            "description": "",
            "description_tooltip": null,
            "layout": "IPY_MODEL_7e2897ca51fe4288aa677c51a902691f",
            "placeholder": "​",
            "style": "IPY_MODEL_f2234c8c970242429d366ede8e4836a8",
            "value": " 114/114 [00:00&lt;00:00, 2.00kB/s]"
          }
        },
        "3613c507bdfd4efca055fa66aa3cd66e": {
          "model_module": "@jupyter-widgets/base",
          "model_name": "LayoutModel",
          "model_module_version": "1.2.0",
          "state": {
            "_model_module": "@jupyter-widgets/base",
            "_model_module_version": "1.2.0",
            "_model_name": "LayoutModel",
            "_view_count": null,
            "_view_module": "@jupyter-widgets/base",
            "_view_module_version": "1.2.0",
            "_view_name": "LayoutView",
            "align_content": null,
            "align_items": null,
            "align_self": null,
            "border": null,
            "bottom": null,
            "display": null,
            "flex": null,
            "flex_flow": null,
            "grid_area": null,
            "grid_auto_columns": null,
            "grid_auto_flow": null,
            "grid_auto_rows": null,
            "grid_column": null,
            "grid_gap": null,
            "grid_row": null,
            "grid_template_areas": null,
            "grid_template_columns": null,
            "grid_template_rows": null,
            "height": null,
            "justify_content": null,
            "justify_items": null,
            "left": null,
            "margin": null,
            "max_height": null,
            "max_width": null,
            "min_height": null,
            "min_width": null,
            "object_fit": null,
            "object_position": null,
            "order": null,
            "overflow": null,
            "overflow_x": null,
            "overflow_y": null,
            "padding": null,
            "right": null,
            "top": null,
            "visibility": null,
            "width": null
          }
        },
        "50530d6c5fb043e7bf0aa0ec4034a133": {
          "model_module": "@jupyter-widgets/base",
          "model_name": "LayoutModel",
          "model_module_version": "1.2.0",
          "state": {
            "_model_module": "@jupyter-widgets/base",
            "_model_module_version": "1.2.0",
            "_model_name": "LayoutModel",
            "_view_count": null,
            "_view_module": "@jupyter-widgets/base",
            "_view_module_version": "1.2.0",
            "_view_name": "LayoutView",
            "align_content": null,
            "align_items": null,
            "align_self": null,
            "border": null,
            "bottom": null,
            "display": null,
            "flex": null,
            "flex_flow": null,
            "grid_area": null,
            "grid_auto_columns": null,
            "grid_auto_flow": null,
            "grid_auto_rows": null,
            "grid_column": null,
            "grid_gap": null,
            "grid_row": null,
            "grid_template_areas": null,
            "grid_template_columns": null,
            "grid_template_rows": null,
            "height": null,
            "justify_content": null,
            "justify_items": null,
            "left": null,
            "margin": null,
            "max_height": null,
            "max_width": null,
            "min_height": null,
            "min_width": null,
            "object_fit": null,
            "object_position": null,
            "order": null,
            "overflow": null,
            "overflow_x": null,
            "overflow_y": null,
            "padding": null,
            "right": null,
            "top": null,
            "visibility": null,
            "width": null
          }
        },
        "1939e45d520343a48f172d8b29a2c56c": {
          "model_module": "@jupyter-widgets/controls",
          "model_name": "DescriptionStyleModel",
          "model_module_version": "1.5.0",
          "state": {
            "_model_module": "@jupyter-widgets/controls",
            "_model_module_version": "1.5.0",
            "_model_name": "DescriptionStyleModel",
            "_view_count": null,
            "_view_module": "@jupyter-widgets/base",
            "_view_module_version": "1.2.0",
            "_view_name": "StyleView",
            "description_width": ""
          }
        },
        "b2ba4cff15b8487b8e02c56b8637ad84": {
          "model_module": "@jupyter-widgets/base",
          "model_name": "LayoutModel",
          "model_module_version": "1.2.0",
          "state": {
            "_model_module": "@jupyter-widgets/base",
            "_model_module_version": "1.2.0",
            "_model_name": "LayoutModel",
            "_view_count": null,
            "_view_module": "@jupyter-widgets/base",
            "_view_module_version": "1.2.0",
            "_view_name": "LayoutView",
            "align_content": null,
            "align_items": null,
            "align_self": null,
            "border": null,
            "bottom": null,
            "display": null,
            "flex": null,
            "flex_flow": null,
            "grid_area": null,
            "grid_auto_columns": null,
            "grid_auto_flow": null,
            "grid_auto_rows": null,
            "grid_column": null,
            "grid_gap": null,
            "grid_row": null,
            "grid_template_areas": null,
            "grid_template_columns": null,
            "grid_template_rows": null,
            "height": null,
            "justify_content": null,
            "justify_items": null,
            "left": null,
            "margin": null,
            "max_height": null,
            "max_width": null,
            "min_height": null,
            "min_width": null,
            "object_fit": null,
            "object_position": null,
            "order": null,
            "overflow": null,
            "overflow_x": null,
            "overflow_y": null,
            "padding": null,
            "right": null,
            "top": null,
            "visibility": null,
            "width": null
          }
        },
        "9a743cfb78f14607bcc63922653c38ed": {
          "model_module": "@jupyter-widgets/controls",
          "model_name": "ProgressStyleModel",
          "model_module_version": "1.5.0",
          "state": {
            "_model_module": "@jupyter-widgets/controls",
            "_model_module_version": "1.5.0",
            "_model_name": "ProgressStyleModel",
            "_view_count": null,
            "_view_module": "@jupyter-widgets/base",
            "_view_module_version": "1.2.0",
            "_view_name": "StyleView",
            "bar_color": null,
            "description_width": ""
          }
        },
        "7e2897ca51fe4288aa677c51a902691f": {
          "model_module": "@jupyter-widgets/base",
          "model_name": "LayoutModel",
          "model_module_version": "1.2.0",
          "state": {
            "_model_module": "@jupyter-widgets/base",
            "_model_module_version": "1.2.0",
            "_model_name": "LayoutModel",
            "_view_count": null,
            "_view_module": "@jupyter-widgets/base",
            "_view_module_version": "1.2.0",
            "_view_name": "LayoutView",
            "align_content": null,
            "align_items": null,
            "align_self": null,
            "border": null,
            "bottom": null,
            "display": null,
            "flex": null,
            "flex_flow": null,
            "grid_area": null,
            "grid_auto_columns": null,
            "grid_auto_flow": null,
            "grid_auto_rows": null,
            "grid_column": null,
            "grid_gap": null,
            "grid_row": null,
            "grid_template_areas": null,
            "grid_template_columns": null,
            "grid_template_rows": null,
            "height": null,
            "justify_content": null,
            "justify_items": null,
            "left": null,
            "margin": null,
            "max_height": null,
            "max_width": null,
            "min_height": null,
            "min_width": null,
            "object_fit": null,
            "object_position": null,
            "order": null,
            "overflow": null,
            "overflow_x": null,
            "overflow_y": null,
            "padding": null,
            "right": null,
            "top": null,
            "visibility": null,
            "width": null
          }
        },
        "f2234c8c970242429d366ede8e4836a8": {
          "model_module": "@jupyter-widgets/controls",
          "model_name": "DescriptionStyleModel",
          "model_module_version": "1.5.0",
          "state": {
            "_model_module": "@jupyter-widgets/controls",
            "_model_module_version": "1.5.0",
            "_model_name": "DescriptionStyleModel",
            "_view_count": null,
            "_view_module": "@jupyter-widgets/base",
            "_view_module_version": "1.2.0",
            "_view_name": "StyleView",
            "description_width": ""
          }
        },
        "27c0b6e3b8a34d1b9c22229a2e08ae19": {
          "model_module": "@jupyter-widgets/controls",
          "model_name": "HBoxModel",
          "model_module_version": "1.5.0",
          "state": {
            "_dom_classes": [],
            "_model_module": "@jupyter-widgets/controls",
            "_model_module_version": "1.5.0",
            "_model_name": "HBoxModel",
            "_view_count": null,
            "_view_module": "@jupyter-widgets/controls",
            "_view_module_version": "1.5.0",
            "_view_name": "HBoxView",
            "box_style": "",
            "children": [
              "IPY_MODEL_3c58a81863744e4ab7a1a3ca78ac30c2",
              "IPY_MODEL_bededeb4f88b478581178c2e5e4230b8",
              "IPY_MODEL_b133fbb66fb648e6b7e811a97564e427"
            ],
            "layout": "IPY_MODEL_796977993dc145eba9f5918513ba502c"
          }
        },
        "3c58a81863744e4ab7a1a3ca78ac30c2": {
          "model_module": "@jupyter-widgets/controls",
          "model_name": "HTMLModel",
          "model_module_version": "1.5.0",
          "state": {
            "_dom_classes": [],
            "_model_module": "@jupyter-widgets/controls",
            "_model_module_version": "1.5.0",
            "_model_name": "HTMLModel",
            "_view_count": null,
            "_view_module": "@jupyter-widgets/controls",
            "_view_module_version": "1.5.0",
            "_view_name": "HTMLView",
            "description": "",
            "description_tooltip": null,
            "layout": "IPY_MODEL_41c5177d8b964b1b8d47c141ba239b90",
            "placeholder": "​",
            "style": "IPY_MODEL_47f2d991ac864551924c9fa7c54f1c3d",
            "value": "pytorch_model.bin: 100%"
          }
        },
        "bededeb4f88b478581178c2e5e4230b8": {
          "model_module": "@jupyter-widgets/controls",
          "model_name": "FloatProgressModel",
          "model_module_version": "1.5.0",
          "state": {
            "_dom_classes": [],
            "_model_module": "@jupyter-widgets/controls",
            "_model_module_version": "1.5.0",
            "_model_name": "FloatProgressModel",
            "_view_count": null,
            "_view_module": "@jupyter-widgets/controls",
            "_view_module_version": "1.5.0",
            "_view_name": "ProgressView",
            "bar_style": "success",
            "description": "",
            "description_tooltip": null,
            "layout": "IPY_MODEL_bb4041b457f84dc9bd69eecf999fd00e",
            "max": 1575975,
            "min": 0,
            "orientation": "horizontal",
            "style": "IPY_MODEL_681c8dd1d86e440982e3b666e20ecad4",
            "value": 1575975
          }
        },
        "b133fbb66fb648e6b7e811a97564e427": {
          "model_module": "@jupyter-widgets/controls",
          "model_name": "HTMLModel",
          "model_module_version": "1.5.0",
          "state": {
            "_dom_classes": [],
            "_model_module": "@jupyter-widgets/controls",
            "_model_module_version": "1.5.0",
            "_model_name": "HTMLModel",
            "_view_count": null,
            "_view_module": "@jupyter-widgets/controls",
            "_view_module_version": "1.5.0",
            "_view_name": "HTMLView",
            "description": "",
            "description_tooltip": null,
            "layout": "IPY_MODEL_933f7e199bf64ab1b993843c46c7f09f",
            "placeholder": "​",
            "style": "IPY_MODEL_195d8b99b8d7473d9ff4f11f2f5bfd8c",
            "value": " 1.58M/1.58M [00:00&lt;00:00, 8.00MB/s]"
          }
        },
        "796977993dc145eba9f5918513ba502c": {
          "model_module": "@jupyter-widgets/base",
          "model_name": "LayoutModel",
          "model_module_version": "1.2.0",
          "state": {
            "_model_module": "@jupyter-widgets/base",
            "_model_module_version": "1.2.0",
            "_model_name": "LayoutModel",
            "_view_count": null,
            "_view_module": "@jupyter-widgets/base",
            "_view_module_version": "1.2.0",
            "_view_name": "LayoutView",
            "align_content": null,
            "align_items": null,
            "align_self": null,
            "border": null,
            "bottom": null,
            "display": null,
            "flex": null,
            "flex_flow": null,
            "grid_area": null,
            "grid_auto_columns": null,
            "grid_auto_flow": null,
            "grid_auto_rows": null,
            "grid_column": null,
            "grid_gap": null,
            "grid_row": null,
            "grid_template_areas": null,
            "grid_template_columns": null,
            "grid_template_rows": null,
            "height": null,
            "justify_content": null,
            "justify_items": null,
            "left": null,
            "margin": null,
            "max_height": null,
            "max_width": null,
            "min_height": null,
            "min_width": null,
            "object_fit": null,
            "object_position": null,
            "order": null,
            "overflow": null,
            "overflow_x": null,
            "overflow_y": null,
            "padding": null,
            "right": null,
            "top": null,
            "visibility": null,
            "width": null
          }
        },
        "41c5177d8b964b1b8d47c141ba239b90": {
          "model_module": "@jupyter-widgets/base",
          "model_name": "LayoutModel",
          "model_module_version": "1.2.0",
          "state": {
            "_model_module": "@jupyter-widgets/base",
            "_model_module_version": "1.2.0",
            "_model_name": "LayoutModel",
            "_view_count": null,
            "_view_module": "@jupyter-widgets/base",
            "_view_module_version": "1.2.0",
            "_view_name": "LayoutView",
            "align_content": null,
            "align_items": null,
            "align_self": null,
            "border": null,
            "bottom": null,
            "display": null,
            "flex": null,
            "flex_flow": null,
            "grid_area": null,
            "grid_auto_columns": null,
            "grid_auto_flow": null,
            "grid_auto_rows": null,
            "grid_column": null,
            "grid_gap": null,
            "grid_row": null,
            "grid_template_areas": null,
            "grid_template_columns": null,
            "grid_template_rows": null,
            "height": null,
            "justify_content": null,
            "justify_items": null,
            "left": null,
            "margin": null,
            "max_height": null,
            "max_width": null,
            "min_height": null,
            "min_width": null,
            "object_fit": null,
            "object_position": null,
            "order": null,
            "overflow": null,
            "overflow_x": null,
            "overflow_y": null,
            "padding": null,
            "right": null,
            "top": null,
            "visibility": null,
            "width": null
          }
        },
        "47f2d991ac864551924c9fa7c54f1c3d": {
          "model_module": "@jupyter-widgets/controls",
          "model_name": "DescriptionStyleModel",
          "model_module_version": "1.5.0",
          "state": {
            "_model_module": "@jupyter-widgets/controls",
            "_model_module_version": "1.5.0",
            "_model_name": "DescriptionStyleModel",
            "_view_count": null,
            "_view_module": "@jupyter-widgets/base",
            "_view_module_version": "1.2.0",
            "_view_name": "StyleView",
            "description_width": ""
          }
        },
        "bb4041b457f84dc9bd69eecf999fd00e": {
          "model_module": "@jupyter-widgets/base",
          "model_name": "LayoutModel",
          "model_module_version": "1.2.0",
          "state": {
            "_model_module": "@jupyter-widgets/base",
            "_model_module_version": "1.2.0",
            "_model_name": "LayoutModel",
            "_view_count": null,
            "_view_module": "@jupyter-widgets/base",
            "_view_module_version": "1.2.0",
            "_view_name": "LayoutView",
            "align_content": null,
            "align_items": null,
            "align_self": null,
            "border": null,
            "bottom": null,
            "display": null,
            "flex": null,
            "flex_flow": null,
            "grid_area": null,
            "grid_auto_columns": null,
            "grid_auto_flow": null,
            "grid_auto_rows": null,
            "grid_column": null,
            "grid_gap": null,
            "grid_row": null,
            "grid_template_areas": null,
            "grid_template_columns": null,
            "grid_template_rows": null,
            "height": null,
            "justify_content": null,
            "justify_items": null,
            "left": null,
            "margin": null,
            "max_height": null,
            "max_width": null,
            "min_height": null,
            "min_width": null,
            "object_fit": null,
            "object_position": null,
            "order": null,
            "overflow": null,
            "overflow_x": null,
            "overflow_y": null,
            "padding": null,
            "right": null,
            "top": null,
            "visibility": null,
            "width": null
          }
        },
        "681c8dd1d86e440982e3b666e20ecad4": {
          "model_module": "@jupyter-widgets/controls",
          "model_name": "ProgressStyleModel",
          "model_module_version": "1.5.0",
          "state": {
            "_model_module": "@jupyter-widgets/controls",
            "_model_module_version": "1.5.0",
            "_model_name": "ProgressStyleModel",
            "_view_count": null,
            "_view_module": "@jupyter-widgets/base",
            "_view_module_version": "1.2.0",
            "_view_name": "StyleView",
            "bar_color": null,
            "description_width": ""
          }
        },
        "933f7e199bf64ab1b993843c46c7f09f": {
          "model_module": "@jupyter-widgets/base",
          "model_name": "LayoutModel",
          "model_module_version": "1.2.0",
          "state": {
            "_model_module": "@jupyter-widgets/base",
            "_model_module_version": "1.2.0",
            "_model_name": "LayoutModel",
            "_view_count": null,
            "_view_module": "@jupyter-widgets/base",
            "_view_module_version": "1.2.0",
            "_view_name": "LayoutView",
            "align_content": null,
            "align_items": null,
            "align_self": null,
            "border": null,
            "bottom": null,
            "display": null,
            "flex": null,
            "flex_flow": null,
            "grid_area": null,
            "grid_auto_columns": null,
            "grid_auto_flow": null,
            "grid_auto_rows": null,
            "grid_column": null,
            "grid_gap": null,
            "grid_row": null,
            "grid_template_areas": null,
            "grid_template_columns": null,
            "grid_template_rows": null,
            "height": null,
            "justify_content": null,
            "justify_items": null,
            "left": null,
            "margin": null,
            "max_height": null,
            "max_width": null,
            "min_height": null,
            "min_width": null,
            "object_fit": null,
            "object_position": null,
            "order": null,
            "overflow": null,
            "overflow_x": null,
            "overflow_y": null,
            "padding": null,
            "right": null,
            "top": null,
            "visibility": null,
            "width": null
          }
        },
        "195d8b99b8d7473d9ff4f11f2f5bfd8c": {
          "model_module": "@jupyter-widgets/controls",
          "model_name": "DescriptionStyleModel",
          "model_module_version": "1.5.0",
          "state": {
            "_model_module": "@jupyter-widgets/controls",
            "_model_module_version": "1.5.0",
            "_model_name": "DescriptionStyleModel",
            "_view_count": null,
            "_view_module": "@jupyter-widgets/base",
            "_view_module_version": "1.2.0",
            "_view_name": "StyleView",
            "description_width": ""
          }
        },
        "da9907a000024a5e843b101ae07e8c06": {
          "model_module": "@jupyter-widgets/controls",
          "model_name": "HBoxModel",
          "model_module_version": "1.5.0",
          "state": {
            "_dom_classes": [],
            "_model_module": "@jupyter-widgets/controls",
            "_model_module_version": "1.5.0",
            "_model_name": "HBoxModel",
            "_view_count": null,
            "_view_module": "@jupyter-widgets/controls",
            "_view_module_version": "1.5.0",
            "_view_name": "HBoxView",
            "box_style": "",
            "children": [
              "IPY_MODEL_149f19c9553c492ca67c96256bc5dffb",
              "IPY_MODEL_c2bc95878b6d4713b944698622322c24",
              "IPY_MODEL_4de8cdce3f7e4a6ebc7aa7f68672c825"
            ],
            "layout": "IPY_MODEL_6022d9dc025348e28fe3674bc1c15f3b"
          }
        },
        "149f19c9553c492ca67c96256bc5dffb": {
          "model_module": "@jupyter-widgets/controls",
          "model_name": "HTMLModel",
          "model_module_version": "1.5.0",
          "state": {
            "_dom_classes": [],
            "_model_module": "@jupyter-widgets/controls",
            "_model_module_version": "1.5.0",
            "_model_name": "HTMLModel",
            "_view_count": null,
            "_view_module": "@jupyter-widgets/controls",
            "_view_module_version": "1.5.0",
            "_view_name": "HTMLView",
            "description": "",
            "description_tooltip": null,
            "layout": "IPY_MODEL_141eaec3e18c44abae47890071978c56",
            "placeholder": "​",
            "style": "IPY_MODEL_5a772eef617a49389379a0c6b29b5a1e",
            "value": "model.safetensors: 100%"
          }
        },
        "c2bc95878b6d4713b944698622322c24": {
          "model_module": "@jupyter-widgets/controls",
          "model_name": "FloatProgressModel",
          "model_module_version": "1.5.0",
          "state": {
            "_dom_classes": [],
            "_model_module": "@jupyter-widgets/controls",
            "_model_module_version": "1.5.0",
            "_model_name": "FloatProgressModel",
            "_view_count": null,
            "_view_module": "@jupyter-widgets/controls",
            "_view_module_version": "1.5.0",
            "_view_name": "ProgressView",
            "bar_style": "success",
            "description": "",
            "description_tooltip": null,
            "layout": "IPY_MODEL_72de7236221646c28c4b9d30a4c6a240",
            "max": 1575104,
            "min": 0,
            "orientation": "horizontal",
            "style": "IPY_MODEL_d47827d9c6c448b4b18d1fafb1f8ded9",
            "value": 1575104
          }
        },
        "4de8cdce3f7e4a6ebc7aa7f68672c825": {
          "model_module": "@jupyter-widgets/controls",
          "model_name": "HTMLModel",
          "model_module_version": "1.5.0",
          "state": {
            "_dom_classes": [],
            "_model_module": "@jupyter-widgets/controls",
            "_model_module_version": "1.5.0",
            "_model_name": "HTMLModel",
            "_view_count": null,
            "_view_module": "@jupyter-widgets/controls",
            "_view_module_version": "1.5.0",
            "_view_name": "HTMLView",
            "description": "",
            "description_tooltip": null,
            "layout": "IPY_MODEL_17ac1c871d1f4850933303b3c72c19f5",
            "placeholder": "​",
            "style": "IPY_MODEL_2c63673eaedc4c4eb59c71a591beea16",
            "value": " 1.58M/1.58M [00:00&lt;00:00, 8.60MB/s]"
          }
        },
        "6022d9dc025348e28fe3674bc1c15f3b": {
          "model_module": "@jupyter-widgets/base",
          "model_name": "LayoutModel",
          "model_module_version": "1.2.0",
          "state": {
            "_model_module": "@jupyter-widgets/base",
            "_model_module_version": "1.2.0",
            "_model_name": "LayoutModel",
            "_view_count": null,
            "_view_module": "@jupyter-widgets/base",
            "_view_module_version": "1.2.0",
            "_view_name": "LayoutView",
            "align_content": null,
            "align_items": null,
            "align_self": null,
            "border": null,
            "bottom": null,
            "display": null,
            "flex": null,
            "flex_flow": null,
            "grid_area": null,
            "grid_auto_columns": null,
            "grid_auto_flow": null,
            "grid_auto_rows": null,
            "grid_column": null,
            "grid_gap": null,
            "grid_row": null,
            "grid_template_areas": null,
            "grid_template_columns": null,
            "grid_template_rows": null,
            "height": null,
            "justify_content": null,
            "justify_items": null,
            "left": null,
            "margin": null,
            "max_height": null,
            "max_width": null,
            "min_height": null,
            "min_width": null,
            "object_fit": null,
            "object_position": null,
            "order": null,
            "overflow": null,
            "overflow_x": null,
            "overflow_y": null,
            "padding": null,
            "right": null,
            "top": null,
            "visibility": null,
            "width": null
          }
        },
        "141eaec3e18c44abae47890071978c56": {
          "model_module": "@jupyter-widgets/base",
          "model_name": "LayoutModel",
          "model_module_version": "1.2.0",
          "state": {
            "_model_module": "@jupyter-widgets/base",
            "_model_module_version": "1.2.0",
            "_model_name": "LayoutModel",
            "_view_count": null,
            "_view_module": "@jupyter-widgets/base",
            "_view_module_version": "1.2.0",
            "_view_name": "LayoutView",
            "align_content": null,
            "align_items": null,
            "align_self": null,
            "border": null,
            "bottom": null,
            "display": null,
            "flex": null,
            "flex_flow": null,
            "grid_area": null,
            "grid_auto_columns": null,
            "grid_auto_flow": null,
            "grid_auto_rows": null,
            "grid_column": null,
            "grid_gap": null,
            "grid_row": null,
            "grid_template_areas": null,
            "grid_template_columns": null,
            "grid_template_rows": null,
            "height": null,
            "justify_content": null,
            "justify_items": null,
            "left": null,
            "margin": null,
            "max_height": null,
            "max_width": null,
            "min_height": null,
            "min_width": null,
            "object_fit": null,
            "object_position": null,
            "order": null,
            "overflow": null,
            "overflow_x": null,
            "overflow_y": null,
            "padding": null,
            "right": null,
            "top": null,
            "visibility": null,
            "width": null
          }
        },
        "5a772eef617a49389379a0c6b29b5a1e": {
          "model_module": "@jupyter-widgets/controls",
          "model_name": "DescriptionStyleModel",
          "model_module_version": "1.5.0",
          "state": {
            "_model_module": "@jupyter-widgets/controls",
            "_model_module_version": "1.5.0",
            "_model_name": "DescriptionStyleModel",
            "_view_count": null,
            "_view_module": "@jupyter-widgets/base",
            "_view_module_version": "1.2.0",
            "_view_name": "StyleView",
            "description_width": ""
          }
        },
        "72de7236221646c28c4b9d30a4c6a240": {
          "model_module": "@jupyter-widgets/base",
          "model_name": "LayoutModel",
          "model_module_version": "1.2.0",
          "state": {
            "_model_module": "@jupyter-widgets/base",
            "_model_module_version": "1.2.0",
            "_model_name": "LayoutModel",
            "_view_count": null,
            "_view_module": "@jupyter-widgets/base",
            "_view_module_version": "1.2.0",
            "_view_name": "LayoutView",
            "align_content": null,
            "align_items": null,
            "align_self": null,
            "border": null,
            "bottom": null,
            "display": null,
            "flex": null,
            "flex_flow": null,
            "grid_area": null,
            "grid_auto_columns": null,
            "grid_auto_flow": null,
            "grid_auto_rows": null,
            "grid_column": null,
            "grid_gap": null,
            "grid_row": null,
            "grid_template_areas": null,
            "grid_template_columns": null,
            "grid_template_rows": null,
            "height": null,
            "justify_content": null,
            "justify_items": null,
            "left": null,
            "margin": null,
            "max_height": null,
            "max_width": null,
            "min_height": null,
            "min_width": null,
            "object_fit": null,
            "object_position": null,
            "order": null,
            "overflow": null,
            "overflow_x": null,
            "overflow_y": null,
            "padding": null,
            "right": null,
            "top": null,
            "visibility": null,
            "width": null
          }
        },
        "d47827d9c6c448b4b18d1fafb1f8ded9": {
          "model_module": "@jupyter-widgets/controls",
          "model_name": "ProgressStyleModel",
          "model_module_version": "1.5.0",
          "state": {
            "_model_module": "@jupyter-widgets/controls",
            "_model_module_version": "1.5.0",
            "_model_name": "ProgressStyleModel",
            "_view_count": null,
            "_view_module": "@jupyter-widgets/base",
            "_view_module_version": "1.2.0",
            "_view_name": "StyleView",
            "bar_color": null,
            "description_width": ""
          }
        },
        "17ac1c871d1f4850933303b3c72c19f5": {
          "model_module": "@jupyter-widgets/base",
          "model_name": "LayoutModel",
          "model_module_version": "1.2.0",
          "state": {
            "_model_module": "@jupyter-widgets/base",
            "_model_module_version": "1.2.0",
            "_model_name": "LayoutModel",
            "_view_count": null,
            "_view_module": "@jupyter-widgets/base",
            "_view_module_version": "1.2.0",
            "_view_name": "LayoutView",
            "align_content": null,
            "align_items": null,
            "align_self": null,
            "border": null,
            "bottom": null,
            "display": null,
            "flex": null,
            "flex_flow": null,
            "grid_area": null,
            "grid_auto_columns": null,
            "grid_auto_flow": null,
            "grid_auto_rows": null,
            "grid_column": null,
            "grid_gap": null,
            "grid_row": null,
            "grid_template_areas": null,
            "grid_template_columns": null,
            "grid_template_rows": null,
            "height": null,
            "justify_content": null,
            "justify_items": null,
            "left": null,
            "margin": null,
            "max_height": null,
            "max_width": null,
            "min_height": null,
            "min_width": null,
            "object_fit": null,
            "object_position": null,
            "order": null,
            "overflow": null,
            "overflow_x": null,
            "overflow_y": null,
            "padding": null,
            "right": null,
            "top": null,
            "visibility": null,
            "width": null
          }
        },
        "2c63673eaedc4c4eb59c71a591beea16": {
          "model_module": "@jupyter-widgets/controls",
          "model_name": "DescriptionStyleModel",
          "model_module_version": "1.5.0",
          "state": {
            "_model_module": "@jupyter-widgets/controls",
            "_model_module_version": "1.5.0",
            "_model_name": "DescriptionStyleModel",
            "_view_count": null,
            "_view_module": "@jupyter-widgets/base",
            "_view_module_version": "1.2.0",
            "_view_name": "StyleView",
            "description_width": ""
          }
        }
      }
    }
  },
  "cells": [
    {
      "cell_type": "markdown",
      "metadata": {
        "id": "view-in-github",
        "colab_type": "text"
      },
      "source": [
        "<a href=\"https://colab.research.google.com/github/kmkarakaya/Deep-Learning-Tutorials/blob/master/Simple_Rag_with_chromaDB_Gemini_PartD.ipynb\" target=\"_parent\"><img src=\"https://colab.research.google.com/assets/colab-badge.svg\" alt=\"Open In Colab\"/></a>"
      ]
    },
    {
      "cell_type": "markdown",
      "source": [
        "# PART D: A SIMPLE RAG PIPELINE BASED ON GEMINI & CHROMADB\n",
        "    \n",
        "    \n",
        "    \n",
        "    \n",
        "    "
      ],
      "metadata": {
        "id": "ZYN6tFZoaPm2"
      }
    },
    {
      "cell_type": "markdown",
      "source": [
        "In this notebook we will develop a Retrieval Augmented Generation (RAG) application.\n",
        "\n",
        "The Parts are\n",
        "\n",
        "* PART A: AN INTRO TO GEMINI API FOR TEXT GENERATION & CHAT\n",
        "* PART B: CODE WITH CHROMADB FOR VECTOR STORAGE & SIMILARITY SEARCH\n",
        "* PART C: CODE WITH CHROMADB FOR PERSISTENT VECTOR DB\n",
        "* PART D: A SIMPLE RAG BASED ON GEMINI & CHROMADB\n",
        "* PART E: ADVANCED TECHNIQUES FOR RAG BASED ON GEMINI & CHROMADB"
      ],
      "metadata": {
        "id": "HGmLFS7j8JSQ"
      }
    },
    {
      "cell_type": "markdown",
      "source": [
        "# WHAT IS RAG?\n",
        "\n",
        "RAG stands for Retrieval-Augmented Generation. It's a technique that combines large language models (LLMs) with external knowledge sources to improve the accuracy and reliability of AI-generated text.\n",
        "\n",
        "## How Does RAG Work? Unveiling the Power of External Knowledge\n",
        "\n",
        "Before we start the core RAG process, we need to provide a foundation as follows:\n",
        "\n",
        "* **Building the Knowledge Base:** The system starts by transforming documents and information within the external knowledge base (like Wikipedia or a company database) into a special format called **vector representations**. These condense the meaning of each document into a series of **numbers**, capturing the essence of the content.\n",
        "\n",
        "* **Vector Database for Speedy Retrieval**: These vector representations are then stored in a specialized database called a vector database. This database is optimized for efficiently **searching and retrieving** information based on **semantic similarity**. Imagine it as a super-powered library catalog that **understands the meaning** of documents, **not just keywords**.\n",
        "\n",
        "Now, let's explore how RAG leverages this foundation:\n",
        "\n",
        "* **User Input**: The RAG process begins with a question or **prompt** from the user. This could be anything from \"What caused the extinction of the dinosaurs?\" to a more open-ended request like \"Write a creative story.\"\n",
        "\n",
        "* **Intelligent Retrieval**: RAG doesn't rely solely on the **LLM's internal knowledge**. It employs an information retrieval component that acts like a super-powered search engine. This component scans the vast external knowledge base – like a company's internal database for specific domains – to find information **directly relevant** to the user's input. Unlike a traditional **search engine** that relies on **keywords**, RAG leverages the power of vector representations to understand the **semantic meaning** of the user's prompt and identify the most relevant documents.\n",
        "\n",
        "* **Enriched Context Creation**: The retrieved information isn't just shown alongside the prompt. RAG cleverly **merges the user input with the relevant snippets** from the knowledge base. This creates a ***richer context*** for the LLM to understand the **user's intent** and formulate a well-informed response.\n",
        "\n",
        "* **LLM Powered Response Generation**: Finally, the **enriched context** is fed to the Large Language Model (LLM). The LLM, along with its ability to process language patterns, now has a strong **foundation of factual** information to draw upon. This empowers it to generate a response that is both comprehensive and accurate, addressing the specific needs of the user's prompt.\n",
        "\n",
        "In this part, we will learn how to build a persistent ChromaDB Vector Database for speedy retrieval in a Knowledge Base.\n",
        "\n",
        "https://www.trychroma.com/\n",
        "https://github.com/chroma-core/chroma"
      ],
      "metadata": {
        "id": "R91gZB4JIZO7"
      }
    },
    {
      "cell_type": "markdown",
      "source": [
        "# CONTENT: A SIMPLE RAG PIPELINE BASED ON GEMINI & CHROMADB\n",
        "\n",
        "In this comprehensive tutorial series, we delve into the exciting world of developing a Retrieval Augmented Generation (RAG) application. If you are eager to create a chatbot leveraging cutting-edge technologies like GEMINI and Chromadb, you are in the right place! This video is tailored for anyone interested in building a RAG system, whether you're a seasoned developer or just starting out.\n",
        "\n",
        "In the first three parts of this series, we explored:\n",
        "\n",
        "* Coding GEMINI API for Text Generation & Chat: Understanding how to implement and use the GEMINI API for creating dynamic text-based interactions.\n",
        "* Creating a Persistent Chromadb for Vector Storage & Similarity Search: Learning how to store and retrieve vectors efficiently using Chromadb.\n",
        "\n",
        "In this fourth installment, titled \"A SIMPLE RAG PIPELINE BASED ON GEMINI & CHROMADB,\" we aim to construct a functional RAG pipeline using these powerful tools. Here's what you can expect:\n",
        "\n",
        "Key Steps Covered in this Video:\n",
        "* Creating a Knowledge Base from Scratch with a Persistent Chromadb: Learn how to build a robust knowledge base from multiple documents.\n",
        "* Upload Multiple Documents and Create Knowledge Base: Step-by-step guide on uploading and organizing your documents.\n",
        "* Test the Knowledge Base: Methods to ensure your knowledge base is functioning correctly.\n",
        "* Load a Knowledge Base from a Persistent Chromadb: How to efficiently load and utilize your knowledge base.\n",
        "* Connect to an LLM: Google GEMINI via the Chat API: Integrate the Google GEMINI model for enhanced interaction.\n",
        "* Create the RAG Pipeline for the Existing Knowledge Base: Develop a seamless pipeline to utilize your knowledge base with GEMINI.\n",
        "* A Simple Loop for User Interaction: Implement a user-friendly loop for interactions.\n",
        "* A Gradio Interface to the RAG: Create an intuitive interface using Gradio for a better user experience.\n",
        "\n",
        "All these steps will be implemented and coded in Python on Google Colab, ensuring you can follow along and replicate the process easily.\n",
        "\n",
        "Follow Us:\n",
        "Murat Karakaya  on LinkedIn\n",
        "Murat Karakaya  on Twitter\n",
        "\n",
        "Join our community of developers and tech enthusiasts! Don't forget to like, share, and subscribe to stay updated with our latest tutorials and tech insights.\n",
        "\n",
        "Watch the video here:\n",
        "* In English:\n",
        "* In Turkish:\n",
        "\n"
      ],
      "metadata": {
        "id": "9Niu38r_Gwqe"
      }
    },
    {
      "cell_type": "markdown",
      "source": [
        "# WHY WE NEED A PERSISTENT CHROMADB?\n",
        "\n",
        "In the context of a Retrieval-Augmented Generation (RAG) approach, saving and loading a persistent ChromaDB is particularly important for several reasons:\n",
        "\n",
        "1. **Enhanced Data Durability**:\n",
        "   - **Importance**: Ensures the retrieval database used for augmenting generative models is not lost between sessions or system restarts.\n",
        "   - **RAG Relevance**: Maintains a consistent and reliable knowledge base that the generative model can reference, leading to more accurate and relevant responses.\n",
        "\n",
        "2. **Operational Continuity**:\n",
        "   - **Importance**: Allows seamless continuation of operations without needing to re-index or re-import data, saving time and computational resources.\n",
        "   - **RAG Relevance**: Ensures that the generative model has continuous access to the same set of documents, which is essential for generating consistent and coherent responses over time.\n",
        "\n",
        "3. **Facilitating Collaboration**:\n",
        "   - **Importance**: Enables multiple users or systems to share and access the same dataset.\n",
        "   - **RAG Relevance**: Supports collaborative development and usage of the RAG system, allowing different teams to work on improving the retrieval and generation processes simultaneously.\n",
        "\n",
        "4. **Scalability**:\n",
        "   - **Importance**: Provides a stable and persistent backend, enabling efficient handling of large datasets.\n",
        "   - **RAG Relevance**: Essential for scaling the RAG system to handle more extensive and diverse knowledge bases, ensuring that the system can manage increased loads and deliver prompt, relevant information.\n",
        "\n",
        "\n",
        "In a RAG system, the retriever (like ChromaDB) provides the generative model with relevant context from a knowledge base to generate informed and accurate responses. Persistent storage ensures that this knowledge base is durable, continuously available, and scalable, which is critical for the reliability, consistency, and performance of the RAG system.\n",
        "\n"
      ],
      "metadata": {
        "id": "d0jFbbAH8qa4"
      }
    },
    {
      "cell_type": "markdown",
      "source": [
        "# CREATING A KNOWLEDGE BASE FROM SCRATCH WITH A PERSISTENT CHROMADB\n",
        "\n",
        "To make ChromaDB durable (persistent) rather than temporary on Google Colab, you can use external storage services like Google Drive or set up a cloud-based database. Google Colab provides temporary storage that resets after each session, so to maintain persistence across sessions, you'll need to save your data and configurations externally."
      ],
      "metadata": {
        "id": "____WNA_3LAt"
      }
    },
    {
      "cell_type": "markdown",
      "source": [
        "##1 Install required libraries\n",
        "\n",
        "Install all the required libraries and helper functions"
      ],
      "metadata": {
        "id": "TU6DsMABRbJe"
      }
    },
    {
      "cell_type": "code",
      "source": [
        "%pip install chromadb --quiet\n",
        "%pip install sentence_transformers --quiet\n",
        "%pip install pypdf --quiet\n",
        "%pip install langchain --quiet\n",
        "%pip install tqdm --quiet\n",
        "\n",
        "import langchain\n",
        "from langchain.text_splitter import RecursiveCharacterTextSplitter\n",
        "from langchain.text_splitter import SentenceTransformersTokenTextSplitter\n",
        "\n",
        "\n",
        "from pypdf import PdfReader\n",
        "\n",
        "from chromadb.config import DEFAULT_TENANT, DEFAULT_DATABASE, Settings\n",
        "from chromadb import Client, PersistentClient\n",
        "from chromadb.utils import embedding_functions\n",
        "\n",
        "import textwrap\n",
        "from IPython.display import display\n",
        "from IPython.display import Markdown\n",
        "def to_markdown(text):\n",
        "  text = text.replace('•', '  *')\n",
        "  return Markdown(textwrap.indent(text, '> ', predicate=lambda _: True))"
      ],
      "metadata": {
        "id": "loqDKFVeRSKp",
        "colab": {
          "base_uri": "https://localhost:8080/"
        },
        "outputId": "20d67847-a96b-488b-f39b-97aba3ed9740"
      },
      "execution_count": 1,
      "outputs": [
        {
          "output_type": "stream",
          "name": "stdout",
          "text": [
            "\u001b[2K     \u001b[90m━━━━━━━━━━━━━━━━━━━━━━━━━━━━━━━━━━━━━━━━\u001b[0m \u001b[32m559.5/559.5 kB\u001b[0m \u001b[31m2.8 MB/s\u001b[0m eta \u001b[36m0:00:00\u001b[0m\n",
            "\u001b[2K     \u001b[90m━━━━━━━━━━━━━━━━━━━━━━━━━━━━━━━━━━━━━━━━\u001b[0m \u001b[32m2.4/2.4 MB\u001b[0m \u001b[31m13.9 MB/s\u001b[0m eta \u001b[36m0:00:00\u001b[0m\n",
            "\u001b[2K     \u001b[90m━━━━━━━━━━━━━━━━━━━━━━━━━━━━━━━━━━━━━━━━\u001b[0m \u001b[32m92.0/92.0 kB\u001b[0m \u001b[31m3.8 MB/s\u001b[0m eta \u001b[36m0:00:00\u001b[0m\n",
            "\u001b[2K     \u001b[90m━━━━━━━━━━━━━━━━━━━━━━━━━━━━━━━━━━━━━━━━\u001b[0m \u001b[32m62.4/62.4 kB\u001b[0m \u001b[31m3.3 MB/s\u001b[0m eta \u001b[36m0:00:00\u001b[0m\n",
            "\u001b[2K     \u001b[90m━━━━━━━━━━━━━━━━━━━━━━━━━━━━━━━━━━━━━━━━\u001b[0m \u001b[32m41.3/41.3 kB\u001b[0m \u001b[31m3.0 MB/s\u001b[0m eta \u001b[36m0:00:00\u001b[0m\n",
            "\u001b[2K     \u001b[90m━━━━━━━━━━━━━━━━━━━━━━━━━━━━━━━━━━━━━━━━\u001b[0m \u001b[32m6.8/6.8 MB\u001b[0m \u001b[31m22.6 MB/s\u001b[0m eta \u001b[36m0:00:00\u001b[0m\n",
            "\u001b[2K     \u001b[90m━━━━━━━━━━━━━━━━━━━━━━━━━━━━━━━━━━━━━━━━\u001b[0m \u001b[32m59.9/59.9 kB\u001b[0m \u001b[31m1.5 MB/s\u001b[0m eta \u001b[36m0:00:00\u001b[0m\n",
            "\u001b[2K     \u001b[90m━━━━━━━━━━━━━━━━━━━━━━━━━━━━━━━━━━━━━━━━\u001b[0m \u001b[32m107.0/107.0 kB\u001b[0m \u001b[31m6.4 MB/s\u001b[0m eta \u001b[36m0:00:00\u001b[0m\n",
            "\u001b[2K     \u001b[90m━━━━━━━━━━━━━━━━━━━━━━━━━━━━━━━━━━━━━━━━\u001b[0m \u001b[32m67.3/67.3 kB\u001b[0m \u001b[31m3.4 MB/s\u001b[0m eta \u001b[36m0:00:00\u001b[0m\n",
            "\u001b[?25h  Installing build dependencies ... \u001b[?25l\u001b[?25hdone\n",
            "  Getting requirements to build wheel ... \u001b[?25l\u001b[?25hdone\n",
            "  Preparing metadata (pyproject.toml) ... \u001b[?25l\u001b[?25hdone\n",
            "\u001b[33mWARNING: Retrying (Retry(total=4, connect=None, read=None, redirect=None, status=None)) after connection broken by 'ProtocolError('Connection aborted.', RemoteDisconnected('Remote end closed connection without response'))': /simple/overrides/\u001b[0m\u001b[33m\n",
            "\u001b[2K     \u001b[90m━━━━━━━━━━━━━━━━━━━━━━━━━━━━━━━━━━━━━━━━\u001b[0m \u001b[32m283.7/283.7 kB\u001b[0m \u001b[31m24.8 MB/s\u001b[0m eta \u001b[36m0:00:00\u001b[0m\n",
            "\u001b[2K     \u001b[90m━━━━━━━━━━━━━━━━━━━━━━━━━━━━━━━━━━━━━━━━\u001b[0m \u001b[32m1.7/1.7 MB\u001b[0m \u001b[31m68.9 MB/s\u001b[0m eta \u001b[36m0:00:00\u001b[0m\n",
            "\u001b[2K     \u001b[90m━━━━━━━━━━━━━━━━━━━━━━━━━━━━━━━━━━━━━━━━\u001b[0m \u001b[32m67.6/67.6 kB\u001b[0m \u001b[31m7.7 MB/s\u001b[0m eta \u001b[36m0:00:00\u001b[0m\n",
            "\u001b[2K     \u001b[90m━━━━━━━━━━━━━━━━━━━━━━━━━━━━━━━━━━━━━━━━\u001b[0m \u001b[32m145.0/145.0 kB\u001b[0m \u001b[31m5.9 MB/s\u001b[0m eta \u001b[36m0:00:00\u001b[0m\n",
            "\u001b[2K     \u001b[90m━━━━━━━━━━━━━━━━━━━━━━━━━━━━━━━━━━━━━━━━\u001b[0m \u001b[32m75.6/75.6 kB\u001b[0m \u001b[31m3.2 MB/s\u001b[0m eta \u001b[36m0:00:00\u001b[0m\n",
            "\u001b[2K     \u001b[90m━━━━━━━━━━━━━━━━━━━━━━━━━━━━━━━━━━━━━━━━\u001b[0m \u001b[32m71.9/71.9 kB\u001b[0m \u001b[31m6.7 MB/s\u001b[0m eta \u001b[36m0:00:00\u001b[0m\n",
            "\u001b[2K     \u001b[90m━━━━━━━━━━━━━━━━━━━━━━━━━━━━━━━━━━━━━━━━\u001b[0m \u001b[32m53.6/53.6 kB\u001b[0m \u001b[31m5.9 MB/s\u001b[0m eta \u001b[36m0:00:00\u001b[0m\n",
            "\u001b[2K     \u001b[90m━━━━━━━━━━━━━━━━━━━━━━━━━━━━━━━━━━━━━━━━\u001b[0m \u001b[32m77.9/77.9 kB\u001b[0m \u001b[31m7.9 MB/s\u001b[0m eta \u001b[36m0:00:00\u001b[0m\n",
            "\u001b[2K     \u001b[90m━━━━━━━━━━━━━━━━━━━━━━━━━━━━━━━━━━━━━━━━\u001b[0m \u001b[32m58.3/58.3 kB\u001b[0m \u001b[31m5.4 MB/s\u001b[0m eta \u001b[36m0:00:00\u001b[0m\n",
            "\u001b[2K     \u001b[90m━━━━━━━━━━━━━━━━━━━━━━━━━━━━━━━━━━━━━━━━\u001b[0m \u001b[32m46.0/46.0 kB\u001b[0m \u001b[31m4.8 MB/s\u001b[0m eta \u001b[36m0:00:00\u001b[0m\n",
            "\u001b[2K     \u001b[90m━━━━━━━━━━━━━━━━━━━━━━━━━━━━━━━━━━━━━━━━\u001b[0m \u001b[32m52.5/52.5 kB\u001b[0m \u001b[31m5.1 MB/s\u001b[0m eta \u001b[36m0:00:00\u001b[0m\n",
            "\u001b[2K     \u001b[90m━━━━━━━━━━━━━━━━━━━━━━━━━━━━━━━━━━━━━━━━\u001b[0m \u001b[32m130.5/130.5 kB\u001b[0m \u001b[31m12.5 MB/s\u001b[0m eta \u001b[36m0:00:00\u001b[0m\n",
            "\u001b[2K     \u001b[90m━━━━━━━━━━━━━━━━━━━━━━━━━━━━━━━━━━━━━━━━\u001b[0m \u001b[32m341.4/341.4 kB\u001b[0m \u001b[31m21.2 MB/s\u001b[0m eta \u001b[36m0:00:00\u001b[0m\n",
            "\u001b[2K     \u001b[90m━━━━━━━━━━━━━━━━━━━━━━━━━━━━━━━━━━━━━━━━\u001b[0m \u001b[32m3.4/3.4 MB\u001b[0m \u001b[31m38.8 MB/s\u001b[0m eta \u001b[36m0:00:00\u001b[0m\n",
            "\u001b[2K     \u001b[90m━━━━━━━━━━━━━━━━━━━━━━━━━━━━━━━━━━━━━━━━\u001b[0m \u001b[32m1.2/1.2 MB\u001b[0m \u001b[31m33.3 MB/s\u001b[0m eta \u001b[36m0:00:00\u001b[0m\n",
            "\u001b[2K     \u001b[90m━━━━━━━━━━━━━━━━━━━━━━━━━━━━━━━━━━━━━━━━\u001b[0m \u001b[32m130.2/130.2 kB\u001b[0m \u001b[31m11.9 MB/s\u001b[0m eta \u001b[36m0:00:00\u001b[0m\n",
            "\u001b[2K     \u001b[90m━━━━━━━━━━━━━━━━━━━━━━━━━━━━━━━━━━━━━━━━\u001b[0m \u001b[32m307.7/307.7 kB\u001b[0m \u001b[31m26.0 MB/s\u001b[0m eta \u001b[36m0:00:00\u001b[0m\n",
            "\u001b[2K     \u001b[90m━━━━━━━━━━━━━━━━━━━━━━━━━━━━━━━━━━━━━━━━\u001b[0m \u001b[32m86.8/86.8 kB\u001b[0m \u001b[31m243.5 kB/s\u001b[0m eta \u001b[36m0:00:00\u001b[0m\n",
            "\u001b[?25h  Building wheel for pypika (pyproject.toml) ... \u001b[?25l\u001b[?25hdone\n",
            "\u001b[2K     \u001b[90m━━━━━━━━━━━━━━━━━━━━━━━━━━━━━━━━━━━━━━━━\u001b[0m \u001b[32m227.1/227.1 kB\u001b[0m \u001b[31m1.9 MB/s\u001b[0m eta \u001b[36m0:00:00\u001b[0m\n",
            "\u001b[2K     \u001b[90m━━━━━━━━━━━━━━━━━━━━━━━━━━━━━━━━━━━━━━━━\u001b[0m \u001b[32m21.3/21.3 MB\u001b[0m \u001b[31m52.0 MB/s\u001b[0m eta \u001b[36m0:00:00\u001b[0m\n",
            "\u001b[2K     \u001b[90m━━━━━━━━━━━━━━━━━━━━━━━━━━━━━━━━━━━━━━━━\u001b[0m \u001b[32m290.4/290.4 kB\u001b[0m \u001b[31m1.1 MB/s\u001b[0m eta \u001b[36m0:00:00\u001b[0m\n",
            "\u001b[2K     \u001b[90m━━━━━━━━━━━━━━━━━━━━━━━━━━━━━━━━━━━━━━━━\u001b[0m \u001b[32m974.6/974.6 kB\u001b[0m \u001b[31m4.2 MB/s\u001b[0m eta \u001b[36m0:00:00\u001b[0m\n",
            "\u001b[2K     \u001b[90m━━━━━━━━━━━━━━━━━━━━━━━━━━━━━━━━━━━━━━━━\u001b[0m \u001b[32m321.8/321.8 kB\u001b[0m \u001b[31m22.2 MB/s\u001b[0m eta \u001b[36m0:00:00\u001b[0m\n",
            "\u001b[2K     \u001b[90m━━━━━━━━━━━━━━━━━━━━━━━━━━━━━━━━━━━━━━━━\u001b[0m \u001b[32m127.4/127.4 kB\u001b[0m \u001b[31m10.3 MB/s\u001b[0m eta \u001b[36m0:00:00\u001b[0m\n",
            "\u001b[?25h"
          ]
        }
      ]
    },
    {
      "cell_type": "markdown",
      "source": [
        "## 2 Initialize a Persistent ChromaDB client with a proper Google Drive connection"
      ],
      "metadata": {
        "id": "dZ595WNn3ccX"
      }
    },
    {
      "cell_type": "code",
      "source": [
        "from google.colab import drive\n",
        "drive.mount('/content/drive')"
      ],
      "metadata": {
        "colab": {
          "base_uri": "https://localhost:8080/"
        },
        "id": "P5Krf5TF8pbg",
        "outputId": "b9321c90-4154-4b92-bdbc-0c679f7b6436"
      },
      "execution_count": 2,
      "outputs": [
        {
          "output_type": "stream",
          "name": "stdout",
          "text": [
            "Mounted at /content/drive\n"
          ]
        }
      ]
    },
    {
      "cell_type": "code",
      "source": [
        "%cd drive/MyDrive/'Colab Notebooks'"
      ],
      "metadata": {
        "id": "jRLnsJpB8y_Y",
        "colab": {
          "base_uri": "https://localhost:8080/"
        },
        "outputId": "c59be82a-a667-4b9b-af68-bee25af597b1"
      },
      "execution_count": 3,
      "outputs": [
        {
          "output_type": "stream",
          "name": "stdout",
          "text": [
            "/content/drive/MyDrive/Colab Notebooks\n"
          ]
        }
      ]
    },
    {
      "cell_type": "code",
      "source": [
        "# Initialize ChromaDB client with Google Drive connection\n",
        "chromaDB_path = '/content/drive/MyDrive/Colab Notebooks/ChromaDBData'\n"
      ],
      "metadata": {
        "id": "bohCxC0D9p_P"
      },
      "execution_count": 4,
      "outputs": []
    },
    {
      "cell_type": "code",
      "source": [
        "# Check if the chromadb_path exists or not. If so, delete all the files and folders in chromadb_path. But before deleting get the permission from the user.\n",
        "\n",
        "import os\n",
        "import shutil\n",
        "\n",
        "def delete_all_files_and_folders(chromaDB_path):\n",
        "  if os.path.exists(chromaDB_path):\n",
        "    print(f\"The directory '{chromaDB_path}' already exists.\")\n",
        "    permission = input(\"Do you want to delete all the files and folders in this directory? (y/n): \")\n",
        "    if permission == \"y\":\n",
        "      shutil.rmtree(chromaDB_path)\n",
        "      print(f\"All files and folders in '{chromaDB_path}' have been deleted.\")\n",
        "    else:\n",
        "      print(\"No action taken.\")\n",
        "  else:\n",
        "    print(f\"The directory '{chromaDB_path}' does not exist.\")\n",
        "\n"
      ],
      "metadata": {
        "id": "rX7s6ZG2clxy"
      },
      "execution_count": 5,
      "outputs": []
    },
    {
      "cell_type": "code",
      "source": [
        "delete_all_files_and_folders(chromaDB_path)"
      ],
      "metadata": {
        "id": "SJLnNnXET71j",
        "colab": {
          "base_uri": "https://localhost:8080/"
        },
        "outputId": "52616bd0-997a-408b-e0f5-ae3c37b51e0a"
      },
      "execution_count": 6,
      "outputs": [
        {
          "output_type": "stream",
          "name": "stdout",
          "text": [
            "The directory '/content/drive/MyDrive/Colab Notebooks/ChromaDBData' already exists.\n",
            "Do you want to delete all the files and folders in this directory? (y/n): y\n",
            "All files and folders in '/content/drive/MyDrive/Colab Notebooks/ChromaDBData' have been deleted.\n"
          ]
        }
      ]
    },
    {
      "cell_type": "markdown",
      "source": [
        "## 3 Define PersistentClient\n",
        "\n",
        "Let's re-define the **create_chroma_client** function from the previous part so that this time we initialize a **persistent** ChromaDB client:"
      ],
      "metadata": {
        "id": "_Z7mIpAt-bCS"
      }
    },
    {
      "cell_type": "code",
      "source": [
        "from chromadb.config import DEFAULT_TENANT, DEFAULT_DATABASE, Settings\n",
        "from chromadb import Client, PersistentClient\n"
      ],
      "metadata": {
        "id": "mo8-L45AAxBy"
      },
      "execution_count": null,
      "outputs": []
    },
    {
      "cell_type": "code",
      "source": [
        "def create_chroma_client(collection_name, embedding_function, chromaDB_path ):\n",
        "  if chromaDB_path is not None:\n",
        "    chroma_client = PersistentClient(path=chromaDB_path,\n",
        "                                     settings=Settings(),\n",
        "                                     tenant=DEFAULT_TENANT,\n",
        "                                     database=DEFAULT_DATABASE,)\n",
        "  else:\n",
        "    chroma_client = Client()\n",
        "\n",
        "  chroma_collection = chroma_client.get_or_create_collection(\n",
        "      collection_name,\n",
        "      embedding_function=embedding_function)\n",
        "\n",
        "  return chroma_client, chroma_collection"
      ],
      "metadata": {
        "id": "IFDiy4aw-Z1n"
      },
      "execution_count": null,
      "outputs": []
    },
    {
      "cell_type": "markdown",
      "source": [
        "## 4 Create a collection as usual"
      ],
      "metadata": {
        "id": "i4z_PaKy34WX"
      }
    },
    {
      "cell_type": "code",
      "source": [
        "collection_name = \"Papers\"\n",
        "sentence_transformer_model=\"distiluse-base-multilingual-cased-v1\"\n",
        "embedding_function= embedding_functions.SentenceTransformerEmbeddingFunction(\n",
        "    model_name=sentence_transformer_model)\n"
      ],
      "metadata": {
        "colab": {
          "base_uri": "https://localhost:8080/",
          "height": 554,
          "referenced_widgets": [
            "4033855a6e004ec4b04ca9f49de9c74f",
            "32511b4d66a84c439874f35483ba5aa7",
            "74642a6bc3f24a21954e2468fb010b0f",
            "4e56b906476242188383f341d6d7bc95",
            "f14e54c3aaff463b8c28e2a10e9104f8",
            "1cd619109d594510a391b802d3acf651",
            "1c772db9877a4136ac68e84b4dd5ae48",
            "be9d98f8e9b948cabcdeca97372d1660",
            "2e0b5a0ca1774d11aff2cd007c3c605c",
            "3cfc755c64b1478d8462546afe03889e",
            "f46392338dd04db98e06a7238acc4676",
            "0fbe05b909f44cdbb02b678de08756b1",
            "264993ce092f4cb0a33357ae81211146",
            "0f54439e70094fbd8ce7c0fcf1d8241c",
            "f550ff10149d4c4a871175aa70302ecb",
            "6b013cc998bb402cacbcce1ecd23d4f5",
            "3a93c0b6316b4e43929063fbd9f5c390",
            "41e92d13861b46278d557064422ff010",
            "7fb83aebe1744013b28d4a687d285b27",
            "f5c5a472cb0c4931898fc93415153651",
            "f75498b6b4ac4f3aaab781d253f05942",
            "5593be347c5a4fdf92b97a998d6fef0a",
            "f20981ddaca648a88c890c72ef442c04",
            "0db226652a63486988dc3c34f61e9871",
            "a4ca1f7b3773421e9fc045cec291753a",
            "7ffcb72c0a574fa7b8b5a7c60f34376f",
            "8a92922f8b7341bb834a56d8f2afd6cb",
            "1a46a1686fc84a62931570bc0d03cdcc",
            "0edd1ebf677c40f2aeb19359f12e6fe2",
            "020d21d0b292415b9dfcaec7afb7654e",
            "dd9d7ebed83a4fd5a85064ed711e6275",
            "ef7144ff3caf4d5a9467c8302ac4c872",
            "c05cc8ae17df46ec8f7fa9845368e4f6",
            "1eb1bf09c90842049886464d8fc1b0c0",
            "c46f3807088141ffa9af6ce892f30d26",
            "04398afda72546b9a873e22f218861d7",
            "b261eed3636044eab0547113ed10fa72",
            "88ec0743ca684a3ebbcb214a3b2a5133",
            "21454b0f2e9d484e99e7b2b5f7cc5440",
            "306086b0690b43e59877dc4d768f0d90",
            "086c936c3da34424bb960454fefc47cc",
            "235aae5943e74aaf8f540d2c105b3b82",
            "7f9507e563dd4ceb9bb017a178e35514",
            "354a72894d5e414ea6158aa1bf371da9",
            "e7036fbb840b49f9b3abd3fda65711ca",
            "65dfd545e2114f57a04baf16af63c964",
            "d7649734f26643a3bc37ccdfa0bda392",
            "35464b142e364c2a90101ab80b249873",
            "1cc2bd6a5b494e958709a808bea7b545",
            "8599211ee7f04226b5c2468eb7b372f5",
            "5e6a7f78fe0145b8936f7ccf33bdb856",
            "73ed9ec9bb94468bb76904c63de582d4",
            "b41cf74310cb4c078ed5abf5b68c31a1",
            "b372192031cc4ead8a7d0206076ed724",
            "40e66c1bf895423e834b6cf47717a735",
            "c4c351406e1f4ba2b09a813257e602e7",
            "711e4825e25843a8b549c8943742eef9",
            "360a5f2b31454cb38bdc57bdd8f93a6d",
            "f4f028c0cb0e40cfb7c8cd44d9058f15",
            "0ee2d28c71bb48698830ddd48ae5320b",
            "38c55c1226194d1face8ffa20df8be45",
            "aad67b064ca84c3097628d319d1f7be6",
            "1298a21e2f18429c9f644e157e351e52",
            "7e6168724eef47b080cf8e0216356430",
            "c714aa4972914d758eaa36659dc97ed1",
            "64e789736e5e4b74bfe8bfae9fd9a5ab",
            "e925729cefaa429f9b44f3de97e89d45",
            "09703d45709a45579a4f33083d21b402",
            "c13c26ffbbc84cd39e68960b204a117e",
            "782a62a5869d4ec7ad06d10a9e38d3ed",
            "20fb53bab2c14499bc3862121fe75b63",
            "5b1b4ea0f6384c3eb14c797f483b295b",
            "b9e72edf04304090ad7a7623f6c523aa",
            "1adb6b0562704ddc97d701fa49b99bd5",
            "8eb3b31346a149489e45105f826538b7",
            "270073ccda464e1ab9eb4f0083ca4ceb",
            "d0b676c3b7f04ca5aef08723d1402bd6",
            "4be3e86068cb41d7b21db8dc1e78a1d5",
            "b51226a60e934d4da06c323e42fbd8df",
            "7892f595301f4992becf4a57f51271b4",
            "d765363fc0d54cae904e08dfcd2a99bf",
            "3a128e00b9634129baa8068052c6d0d0",
            "30eca73be14749558c9848b1b204991a",
            "fcc4b8ac2277481e84bcd4edd4f4b867",
            "b055163e38c14ee9a8754173de9472d5",
            "9bf322efd7d44e6eafb67021d2320067",
            "8f7418731c8a431d893e336bd045ee4c",
            "3b9fbab534bc49a38eca74fa1dc9f488",
            "9ef43de27da749f2ae6295e082745e68",
            "9af50a001a4040b68141fa2d8a1f49c6",
            "619ac6b24e2946aa989e9a58f378c656",
            "ad93f2048eed42d7884ac162c4b73bae",
            "ff8b6da443d5406eb7a19539ce324e6d",
            "b37d133a0f244c1e8552c0e280b4d5b0",
            "ba4f03eb33c6416eb9ac22b96f9736c7",
            "e0a01e96ead34e158e4dc25ae3ad6eb9",
            "d90671c4225849f1b06f96ce288665fb",
            "769a03f846684cd5ae71b13d1aef0e56",
            "de2717a0ee71490fa367d5b9e0423c48",
            "ef6081d1511f4813ac4c4c0f21fc9173",
            "43b5d359a743477a992b4bba2960cc7f",
            "6a911f13b72243609c11a390fd545a72",
            "6e0eef9aeba74ecba9f664fb94ef03cd",
            "a8af7a8040234780ba83a317f90b8d21",
            "0aa2695a64c94f8baad2ee46075aabfa",
            "320d8c37cbb841b69f80c96d0d3bcdb1",
            "8758afcf6a2249e18a78c61b9db26c9d",
            "8b2e206c9d4f47698293f799684b6b37",
            "f963143fd52d44d3bef08c73f0a3987c",
            "473c14974feb4b98a9c4acf6b2e4471c",
            "d6d8c553892d4e95ac0c158039dfb854",
            "3bb5ef46b15044059437471ea9ed1773",
            "26093b61455848d3b9c7b078edf6b25c",
            "823561c5086645f484fcab7b1fdbe5e5",
            "7f96c9f5b1054d96bb98eefdfe7f620e",
            "790b0ad31afd42238cc03a3a48c279ae",
            "93b3226098f9461f846455f7af5ce19c",
            "a02ac9c8313b4349b44969e1b43e6dc6",
            "6a2bfa63ca6347eb9de0b6edcfdf00d5",
            "e45a91309bb2481cb3a4fe52379bd54a",
            "70c1c3daf6f841ed805a13b56a9e522d",
            "e9440101a05449e183829c8a73d14591",
            "0e518d7c134142158d36611295fdf7b3",
            "2844cbcd17a142b69507519ffc3de6d9",
            "d1b638d505ec4a0d9b32448447044d32",
            "3613c507bdfd4efca055fa66aa3cd66e",
            "50530d6c5fb043e7bf0aa0ec4034a133",
            "1939e45d520343a48f172d8b29a2c56c",
            "b2ba4cff15b8487b8e02c56b8637ad84",
            "9a743cfb78f14607bcc63922653c38ed",
            "7e2897ca51fe4288aa677c51a902691f",
            "f2234c8c970242429d366ede8e4836a8",
            "27c0b6e3b8a34d1b9c22229a2e08ae19",
            "3c58a81863744e4ab7a1a3ca78ac30c2",
            "bededeb4f88b478581178c2e5e4230b8",
            "b133fbb66fb648e6b7e811a97564e427",
            "796977993dc145eba9f5918513ba502c",
            "41c5177d8b964b1b8d47c141ba239b90",
            "47f2d991ac864551924c9fa7c54f1c3d",
            "bb4041b457f84dc9bd69eecf999fd00e",
            "681c8dd1d86e440982e3b666e20ecad4",
            "933f7e199bf64ab1b993843c46c7f09f",
            "195d8b99b8d7473d9ff4f11f2f5bfd8c",
            "da9907a000024a5e843b101ae07e8c06",
            "149f19c9553c492ca67c96256bc5dffb",
            "c2bc95878b6d4713b944698622322c24",
            "4de8cdce3f7e4a6ebc7aa7f68672c825",
            "6022d9dc025348e28fe3674bc1c15f3b",
            "141eaec3e18c44abae47890071978c56",
            "5a772eef617a49389379a0c6b29b5a1e",
            "72de7236221646c28c4b9d30a4c6a240",
            "d47827d9c6c448b4b18d1fafb1f8ded9",
            "17ac1c871d1f4850933303b3c72c19f5",
            "2c63673eaedc4c4eb59c71a591beea16"
          ]
        },
        "id": "TOrsU6-nSOD_",
        "outputId": "7ac68d8f-a4a5-4368-a369-85f2c8f2b9a9"
      },
      "execution_count": 9,
      "outputs": [
        {
          "output_type": "stream",
          "name": "stderr",
          "text": [
            "/usr/local/lib/python3.10/dist-packages/sentence_transformers/cross_encoder/CrossEncoder.py:11: TqdmExperimentalWarning: Using `tqdm.autonotebook.tqdm` in notebook mode. Use `tqdm.tqdm` instead to force console mode (e.g. in jupyter console)\n",
            "  from tqdm.autonotebook import tqdm, trange\n"
          ]
        },
        {
          "output_type": "display_data",
          "data": {
            "text/plain": [
              "modules.json:   0%|          | 0.00/341 [00:00<?, ?B/s]"
            ],
            "application/vnd.jupyter.widget-view+json": {
              "version_major": 2,
              "version_minor": 0,
              "model_id": "4033855a6e004ec4b04ca9f49de9c74f"
            }
          },
          "metadata": {}
        },
        {
          "output_type": "display_data",
          "data": {
            "text/plain": [
              "config_sentence_transformers.json:   0%|          | 0.00/122 [00:00<?, ?B/s]"
            ],
            "application/vnd.jupyter.widget-view+json": {
              "version_major": 2,
              "version_minor": 0,
              "model_id": "0fbe05b909f44cdbb02b678de08756b1"
            }
          },
          "metadata": {}
        },
        {
          "output_type": "display_data",
          "data": {
            "text/plain": [
              "README.md:   0%|          | 0.00/2.47k [00:00<?, ?B/s]"
            ],
            "application/vnd.jupyter.widget-view+json": {
              "version_major": 2,
              "version_minor": 0,
              "model_id": "f20981ddaca648a88c890c72ef442c04"
            }
          },
          "metadata": {}
        },
        {
          "output_type": "display_data",
          "data": {
            "text/plain": [
              "sentence_bert_config.json:   0%|          | 0.00/53.0 [00:00<?, ?B/s]"
            ],
            "application/vnd.jupyter.widget-view+json": {
              "version_major": 2,
              "version_minor": 0,
              "model_id": "1eb1bf09c90842049886464d8fc1b0c0"
            }
          },
          "metadata": {}
        },
        {
          "output_type": "stream",
          "name": "stderr",
          "text": [
            "/usr/local/lib/python3.10/dist-packages/huggingface_hub/file_download.py:1132: FutureWarning: `resume_download` is deprecated and will be removed in version 1.0.0. Downloads always resume when possible. If you want to force a new download, use `force_download=True`.\n",
            "  warnings.warn(\n"
          ]
        },
        {
          "output_type": "display_data",
          "data": {
            "text/plain": [
              "config.json:   0%|          | 0.00/556 [00:00<?, ?B/s]"
            ],
            "application/vnd.jupyter.widget-view+json": {
              "version_major": 2,
              "version_minor": 0,
              "model_id": "e7036fbb840b49f9b3abd3fda65711ca"
            }
          },
          "metadata": {}
        },
        {
          "output_type": "display_data",
          "data": {
            "text/plain": [
              "model.safetensors:   0%|          | 0.00/539M [00:00<?, ?B/s]"
            ],
            "application/vnd.jupyter.widget-view+json": {
              "version_major": 2,
              "version_minor": 0,
              "model_id": "c4c351406e1f4ba2b09a813257e602e7"
            }
          },
          "metadata": {}
        },
        {
          "output_type": "display_data",
          "data": {
            "text/plain": [
              "tokenizer_config.json:   0%|          | 0.00/452 [00:00<?, ?B/s]"
            ],
            "application/vnd.jupyter.widget-view+json": {
              "version_major": 2,
              "version_minor": 0,
              "model_id": "e925729cefaa429f9b44f3de97e89d45"
            }
          },
          "metadata": {}
        },
        {
          "output_type": "display_data",
          "data": {
            "text/plain": [
              "vocab.txt:   0%|          | 0.00/996k [00:00<?, ?B/s]"
            ],
            "application/vnd.jupyter.widget-view+json": {
              "version_major": 2,
              "version_minor": 0,
              "model_id": "4be3e86068cb41d7b21db8dc1e78a1d5"
            }
          },
          "metadata": {}
        },
        {
          "output_type": "display_data",
          "data": {
            "text/plain": [
              "tokenizer.json:   0%|          | 0.00/1.96M [00:00<?, ?B/s]"
            ],
            "application/vnd.jupyter.widget-view+json": {
              "version_major": 2,
              "version_minor": 0,
              "model_id": "9ef43de27da749f2ae6295e082745e68"
            }
          },
          "metadata": {}
        },
        {
          "output_type": "display_data",
          "data": {
            "text/plain": [
              "special_tokens_map.json:   0%|          | 0.00/112 [00:00<?, ?B/s]"
            ],
            "application/vnd.jupyter.widget-view+json": {
              "version_major": 2,
              "version_minor": 0,
              "model_id": "ef6081d1511f4813ac4c4c0f21fc9173"
            }
          },
          "metadata": {}
        },
        {
          "output_type": "display_data",
          "data": {
            "text/plain": [
              "1_Pooling/config.json:   0%|          | 0.00/190 [00:00<?, ?B/s]"
            ],
            "application/vnd.jupyter.widget-view+json": {
              "version_major": 2,
              "version_minor": 0,
              "model_id": "d6d8c553892d4e95ac0c158039dfb854"
            }
          },
          "metadata": {}
        },
        {
          "output_type": "display_data",
          "data": {
            "text/plain": [
              "2_Dense/config.json:   0%|          | 0.00/114 [00:00<?, ?B/s]"
            ],
            "application/vnd.jupyter.widget-view+json": {
              "version_major": 2,
              "version_minor": 0,
              "model_id": "e9440101a05449e183829c8a73d14591"
            }
          },
          "metadata": {}
        },
        {
          "output_type": "display_data",
          "data": {
            "text/plain": [
              "pytorch_model.bin:   0%|          | 0.00/1.58M [00:00<?, ?B/s]"
            ],
            "application/vnd.jupyter.widget-view+json": {
              "version_major": 2,
              "version_minor": 0,
              "model_id": "27c0b6e3b8a34d1b9c22229a2e08ae19"
            }
          },
          "metadata": {}
        },
        {
          "output_type": "display_data",
          "data": {
            "text/plain": [
              "model.safetensors:   0%|          | 0.00/1.58M [00:00<?, ?B/s]"
            ],
            "application/vnd.jupyter.widget-view+json": {
              "version_major": 2,
              "version_minor": 0,
              "model_id": "da9907a000024a5e843b101ae07e8c06"
            }
          },
          "metadata": {}
        }
      ]
    },
    {
      "cell_type": "code",
      "source": [
        "chroma_client, chroma_collection = create_chroma_client(collection_name,\n",
        "                                                        embedding_function,\n",
        "                                                        chromaDB_path)"
      ],
      "metadata": {
        "id": "pN-vX46885Tb"
      },
      "execution_count": 22,
      "outputs": []
    },
    {
      "cell_type": "markdown",
      "source": [
        "### Check the created collection:"
      ],
      "metadata": {
        "id": "DU8ot87UMYMt"
      }
    },
    {
      "cell_type": "code",
      "source": [
        "# Verify collection properties\n",
        "print(f\"Collection name: {chroma_collection.name}\")\n",
        "print(f\"Number of documents in collection: {chroma_collection.count()}\")\n",
        "\n",
        "# List all collections in the client\n",
        "print(\"All collections in ChromaDB client:\")\n",
        "for collection in chroma_client.list_collections():\n",
        "    print(collection.name)"
      ],
      "metadata": {
        "colab": {
          "base_uri": "https://localhost:8080/"
        },
        "id": "j1kr0pgfMQjT",
        "outputId": "8634ce83-fb95-40a0-fb2d-b360c86c0ac5"
      },
      "execution_count": 23,
      "outputs": [
        {
          "output_type": "stream",
          "name": "stdout",
          "text": [
            "Collection name: Papers\n",
            "Number of documents in collection: 0\n",
            "All collections in ChromaDB client:\n",
            "Papers\n"
          ]
        }
      ]
    },
    {
      "cell_type": "markdown",
      "source": [
        "## 5 Define helper functions"
      ],
      "metadata": {
        "id": "hQFAEwB2TYO_"
      }
    },
    {
      "cell_type": "code",
      "source": [
        "from google.colab import files\n",
        "def upload_multiple_files():\n",
        "  uploaded = files.upload()\n",
        "  file_names = list()\n",
        "  for fn in uploaded.keys():\n",
        "    #print('User uploaded file \"{name}\" with length {length} bytes'.format(name=fn, length=len(uploaded[fn])))\n",
        "    file_names.append(fn)\n",
        "  return file_names"
      ],
      "metadata": {
        "id": "miZpcDP7S5yM"
      },
      "execution_count": 24,
      "outputs": []
    },
    {
      "cell_type": "code",
      "source": [
        "def convert_PDF_Text(pdf_path):\n",
        "  reader = PdfReader(pdf_path)\n",
        "  pdf_texts = [p.extract_text().strip() for p in reader.pages]\n",
        "  # Filter the empty strings\n",
        "  pdf_texts = [text for text in pdf_texts if text]\n",
        "  print(\"Document: \",pdf_path,\" chunk size: \", len(pdf_texts))\n",
        "  return pdf_texts"
      ],
      "metadata": {
        "id": "6Qf8RKItTSp9"
      },
      "execution_count": 25,
      "outputs": []
    },
    {
      "cell_type": "code",
      "source": [
        "def convert_Page_ChunkinChar(pdf_texts, chunk_size = 1500, chunk_overlap=0 ):\n",
        "  character_splitter = RecursiveCharacterTextSplitter(\n",
        "      separators=[\"\\n\\n\", \"\\n\", \". \", \" \", \"\"],\n",
        "      chunk_size=1500,\n",
        "      chunk_overlap=0\n",
        ")\n",
        "  character_split_texts = character_splitter.split_text('\\n\\n'.join(pdf_texts))\n",
        "  print(f\"\\nTotal number of chunks (document splited by max char = 1500): \\\n",
        "        {len(character_split_texts)}\")\n",
        "  return character_split_texts"
      ],
      "metadata": {
        "id": "irVYmZf9T4Lc"
      },
      "execution_count": 26,
      "outputs": []
    },
    {
      "cell_type": "code",
      "source": [
        "def convert_Chunk_Token(text_chunksinChar,sentence_transformer_model, chunk_overlap=0,tokens_per_chunk=128 ):\n",
        "  token_splitter = SentenceTransformersTokenTextSplitter(\n",
        "      chunk_overlap=0,\n",
        "      model_name=sentence_transformer_model,\n",
        "      tokens_per_chunk=128)\n",
        "\n",
        "  text_chunksinTokens = []\n",
        "  for text in text_chunksinChar:\n",
        "      text_chunksinTokens += token_splitter.split_text(text)\n",
        "  print(f\"\\nTotal number of chunks (document splited by 128 tokens per chunk):\\\n",
        "       {len(text_chunksinTokens)}\")\n",
        "  return text_chunksinTokens"
      ],
      "metadata": {
        "id": "ejyPbZG6ULBR"
      },
      "execution_count": 27,
      "outputs": []
    },
    {
      "cell_type": "code",
      "source": [
        "def add_meta_data(text_chunksinTokens, title, category, initial_id):\n",
        "  ids = [str(i+initial_id) for i in range(len(text_chunksinTokens))]\n",
        "  metadata = {\n",
        "      'document': title,\n",
        "      'category': category\n",
        "  }\n",
        "  metadatas = [ metadata for i in range(len(text_chunksinTokens))]\n",
        "  return ids, metadatas"
      ],
      "metadata": {
        "id": "Ag7EWuVRU10F"
      },
      "execution_count": 16,
      "outputs": []
    },
    {
      "cell_type": "code",
      "source": [
        "def add_document_to_collection(ids, metadatas, text_chunksinTokens, chroma_collection):\n",
        "  print(\"Before inserting, the size of the collection: \", chroma_collection.count())\n",
        "  chroma_collection.add(ids=ids, metadatas= metadatas, documents=text_chunksinTokens)\n",
        "  print(\"After inserting, the size of the collection: \", chroma_collection.count())\n",
        "  return chroma_collection"
      ],
      "metadata": {
        "id": "txJWVJPBVMMM"
      },
      "execution_count": 17,
      "outputs": []
    },
    {
      "cell_type": "code",
      "source": [
        "def retrieveDocs(chroma_collection, query, n_results=5, return_only_docs=False):\n",
        "    results = chroma_collection.query(query_texts=[query],\n",
        "                                      include= [ \"documents\",\"metadatas\",'distances' ],\n",
        "                                      n_results=n_results)\n",
        "\n",
        "    if return_only_docs:\n",
        "        return results['documents'][0]\n",
        "    else:\n",
        "        return results"
      ],
      "metadata": {
        "id": "SGVfxSvkZEvD"
      },
      "execution_count": 28,
      "outputs": []
    },
    {
      "cell_type": "code",
      "source": [
        "def show_results(results, return_only_docs=False):\n",
        "\n",
        "  if return_only_docs:\n",
        "    retrieved_documents = results\n",
        "    if len(retrieved_documents) == 0:\n",
        "      print(\"No results found.\")\n",
        "      return\n",
        "    for i, doc in enumerate(retrieved_documents):\n",
        "      print(f\"Document {i+1}:\")\n",
        "      print(\"\\tDocument Text: \")\n",
        "      display(to_markdown(doc));\n",
        "  else:\n",
        "\n",
        "      retrieved_documents = results['documents'][0]\n",
        "      if len(retrieved_documents) == 0:\n",
        "          print(\"No results found.\")\n",
        "          return\n",
        "      retrieved_documents_metadata = results['metadatas'][0]\n",
        "      retrieved_documents_distances = results['distances'][0]\n",
        "      print(\"------- retreived documents -------\\n\")\n",
        "\n",
        "      for i, doc in enumerate(retrieved_documents):\n",
        "          print(f\"Document {i+1}:\")\n",
        "          print(\"\\tDocument Text: \")\n",
        "          display(to_markdown(doc));\n",
        "          print(f\"\\tDocument Source: {retrieved_documents_metadata[i]['document']}\")\n",
        "          print(f\"\\tDocument Source Type: {retrieved_documents_metadata[i]['category']}\")\n",
        "          print(f\"\\tDocument Distance: {retrieved_documents_distances[i]}\")\n"
      ],
      "metadata": {
        "id": "E2IwDowkZLvK"
      },
      "execution_count": 29,
      "outputs": []
    },
    {
      "cell_type": "code",
      "source": [
        "def load_multiple_pdfs_to_ChromaDB(collection_name,sentence_transformer_model,\n",
        "                                   chromaDB_path):\n",
        "\n",
        "  collection_name= collection_name\n",
        "  category= \"Journal Paper\"\n",
        "  sentence_transformer_model=sentence_transformer_model\n",
        "  embedding_function= embedding_functions.SentenceTransformerEmbeddingFunction(model_name=sentence_transformer_model)\n",
        "  chroma_client, chroma_collection = create_chroma_client(collection_name, embedding_function, chromaDB_path)\n",
        "  current_id = chroma_collection.count()\n",
        "  file_names = upload_multiple_files()\n",
        "  for file_name in file_names:\n",
        "    print(f\"Document: {file_name} is being processed to be added to the {chroma_collection.name} {chroma_collection.count()}\")\n",
        "    print(f\"current_id: {current_id} \")\n",
        "    pdf_texts = convert_PDF_Text(file_name)\n",
        "    text_chunksinChar = convert_Page_ChunkinChar(pdf_texts)\n",
        "    text_chunksinTokens = convert_Chunk_Token(text_chunksinChar,sentence_transformer_model)\n",
        "    ids,metadatas = add_meta_data(text_chunksinTokens,file_name,category, current_id)\n",
        "    current_id = current_id + len(text_chunksinTokens)\n",
        "    chroma_collection = add_document_to_collection(ids, metadatas, text_chunksinTokens, chroma_collection)\n",
        "    print(f\"Document: {file_name} added to the collection: {chroma_collection.count()}\")\n",
        "  return  chroma_client, chroma_collection"
      ],
      "metadata": {
        "id": "U_Dy4QIcCSqi"
      },
      "execution_count": 30,
      "outputs": []
    },
    {
      "cell_type": "markdown",
      "source": [
        "## 6 Upload Multiple Documents and Create Knowledge Base\n",
        "\n",
        "Run load_multiple_pdfs_to_ChromaDB() to fill in the colection"
      ],
      "metadata": {
        "id": "_P7eumIj4VoB"
      }
    },
    {
      "cell_type": "code",
      "source": [
        "chroma_client, chroma_collection= load_multiple_pdfs_to_ChromaDB(collection_name,sentence_transformer_model, chromaDB_path)"
      ],
      "metadata": {
        "id": "nJL5leeq8yd_",
        "colab": {
          "base_uri": "https://localhost:8080/",
          "height": 1000
        },
        "outputId": "db07e64c-1977-42bb-da91-615529cdfd30"
      },
      "execution_count": 31,
      "outputs": [
        {
          "output_type": "display_data",
          "data": {
            "text/plain": [
              "<IPython.core.display.HTML object>"
            ],
            "text/html": [
              "\n",
              "     <input type=\"file\" id=\"files-f6a1bced-3303-4c0f-8033-90be82abedb6\" name=\"files[]\" multiple disabled\n",
              "        style=\"border:none\" />\n",
              "     <output id=\"result-f6a1bced-3303-4c0f-8033-90be82abedb6\">\n",
              "      Upload widget is only available when the cell has been executed in the\n",
              "      current browser session. Please rerun this cell to enable.\n",
              "      </output>\n",
              "      <script>// Copyright 2017 Google LLC\n",
              "//\n",
              "// Licensed under the Apache License, Version 2.0 (the \"License\");\n",
              "// you may not use this file except in compliance with the License.\n",
              "// You may obtain a copy of the License at\n",
              "//\n",
              "//      http://www.apache.org/licenses/LICENSE-2.0\n",
              "//\n",
              "// Unless required by applicable law or agreed to in writing, software\n",
              "// distributed under the License is distributed on an \"AS IS\" BASIS,\n",
              "// WITHOUT WARRANTIES OR CONDITIONS OF ANY KIND, either express or implied.\n",
              "// See the License for the specific language governing permissions and\n",
              "// limitations under the License.\n",
              "\n",
              "/**\n",
              " * @fileoverview Helpers for google.colab Python module.\n",
              " */\n",
              "(function(scope) {\n",
              "function span(text, styleAttributes = {}) {\n",
              "  const element = document.createElement('span');\n",
              "  element.textContent = text;\n",
              "  for (const key of Object.keys(styleAttributes)) {\n",
              "    element.style[key] = styleAttributes[key];\n",
              "  }\n",
              "  return element;\n",
              "}\n",
              "\n",
              "// Max number of bytes which will be uploaded at a time.\n",
              "const MAX_PAYLOAD_SIZE = 100 * 1024;\n",
              "\n",
              "function _uploadFiles(inputId, outputId) {\n",
              "  const steps = uploadFilesStep(inputId, outputId);\n",
              "  const outputElement = document.getElementById(outputId);\n",
              "  // Cache steps on the outputElement to make it available for the next call\n",
              "  // to uploadFilesContinue from Python.\n",
              "  outputElement.steps = steps;\n",
              "\n",
              "  return _uploadFilesContinue(outputId);\n",
              "}\n",
              "\n",
              "// This is roughly an async generator (not supported in the browser yet),\n",
              "// where there are multiple asynchronous steps and the Python side is going\n",
              "// to poll for completion of each step.\n",
              "// This uses a Promise to block the python side on completion of each step,\n",
              "// then passes the result of the previous step as the input to the next step.\n",
              "function _uploadFilesContinue(outputId) {\n",
              "  const outputElement = document.getElementById(outputId);\n",
              "  const steps = outputElement.steps;\n",
              "\n",
              "  const next = steps.next(outputElement.lastPromiseValue);\n",
              "  return Promise.resolve(next.value.promise).then((value) => {\n",
              "    // Cache the last promise value to make it available to the next\n",
              "    // step of the generator.\n",
              "    outputElement.lastPromiseValue = value;\n",
              "    return next.value.response;\n",
              "  });\n",
              "}\n",
              "\n",
              "/**\n",
              " * Generator function which is called between each async step of the upload\n",
              " * process.\n",
              " * @param {string} inputId Element ID of the input file picker element.\n",
              " * @param {string} outputId Element ID of the output display.\n",
              " * @return {!Iterable<!Object>} Iterable of next steps.\n",
              " */\n",
              "function* uploadFilesStep(inputId, outputId) {\n",
              "  const inputElement = document.getElementById(inputId);\n",
              "  inputElement.disabled = false;\n",
              "\n",
              "  const outputElement = document.getElementById(outputId);\n",
              "  outputElement.innerHTML = '';\n",
              "\n",
              "  const pickedPromise = new Promise((resolve) => {\n",
              "    inputElement.addEventListener('change', (e) => {\n",
              "      resolve(e.target.files);\n",
              "    });\n",
              "  });\n",
              "\n",
              "  const cancel = document.createElement('button');\n",
              "  inputElement.parentElement.appendChild(cancel);\n",
              "  cancel.textContent = 'Cancel upload';\n",
              "  const cancelPromise = new Promise((resolve) => {\n",
              "    cancel.onclick = () => {\n",
              "      resolve(null);\n",
              "    };\n",
              "  });\n",
              "\n",
              "  // Wait for the user to pick the files.\n",
              "  const files = yield {\n",
              "    promise: Promise.race([pickedPromise, cancelPromise]),\n",
              "    response: {\n",
              "      action: 'starting',\n",
              "    }\n",
              "  };\n",
              "\n",
              "  cancel.remove();\n",
              "\n",
              "  // Disable the input element since further picks are not allowed.\n",
              "  inputElement.disabled = true;\n",
              "\n",
              "  if (!files) {\n",
              "    return {\n",
              "      response: {\n",
              "        action: 'complete',\n",
              "      }\n",
              "    };\n",
              "  }\n",
              "\n",
              "  for (const file of files) {\n",
              "    const li = document.createElement('li');\n",
              "    li.append(span(file.name, {fontWeight: 'bold'}));\n",
              "    li.append(span(\n",
              "        `(${file.type || 'n/a'}) - ${file.size} bytes, ` +\n",
              "        `last modified: ${\n",
              "            file.lastModifiedDate ? file.lastModifiedDate.toLocaleDateString() :\n",
              "                                    'n/a'} - `));\n",
              "    const percent = span('0% done');\n",
              "    li.appendChild(percent);\n",
              "\n",
              "    outputElement.appendChild(li);\n",
              "\n",
              "    const fileDataPromise = new Promise((resolve) => {\n",
              "      const reader = new FileReader();\n",
              "      reader.onload = (e) => {\n",
              "        resolve(e.target.result);\n",
              "      };\n",
              "      reader.readAsArrayBuffer(file);\n",
              "    });\n",
              "    // Wait for the data to be ready.\n",
              "    let fileData = yield {\n",
              "      promise: fileDataPromise,\n",
              "      response: {\n",
              "        action: 'continue',\n",
              "      }\n",
              "    };\n",
              "\n",
              "    // Use a chunked sending to avoid message size limits. See b/62115660.\n",
              "    let position = 0;\n",
              "    do {\n",
              "      const length = Math.min(fileData.byteLength - position, MAX_PAYLOAD_SIZE);\n",
              "      const chunk = new Uint8Array(fileData, position, length);\n",
              "      position += length;\n",
              "\n",
              "      const base64 = btoa(String.fromCharCode.apply(null, chunk));\n",
              "      yield {\n",
              "        response: {\n",
              "          action: 'append',\n",
              "          file: file.name,\n",
              "          data: base64,\n",
              "        },\n",
              "      };\n",
              "\n",
              "      let percentDone = fileData.byteLength === 0 ?\n",
              "          100 :\n",
              "          Math.round((position / fileData.byteLength) * 100);\n",
              "      percent.textContent = `${percentDone}% done`;\n",
              "\n",
              "    } while (position < fileData.byteLength);\n",
              "  }\n",
              "\n",
              "  // All done.\n",
              "  yield {\n",
              "    response: {\n",
              "      action: 'complete',\n",
              "    }\n",
              "  };\n",
              "}\n",
              "\n",
              "scope.google = scope.google || {};\n",
              "scope.google.colab = scope.google.colab || {};\n",
              "scope.google.colab._files = {\n",
              "  _uploadFiles,\n",
              "  _uploadFilesContinue,\n",
              "};\n",
              "})(self);\n",
              "</script> "
            ]
          },
          "metadata": {}
        },
        {
          "output_type": "stream",
          "name": "stdout",
          "text": [
            "Saving 15 UAV Route Planning For Maximum Target Coverage ABSTRACT.pdf to 15 UAV Route Planning For Maximum Target Coverage ABSTRACT (2).pdf\n",
            "Saving 29 Mobile Sink Scheduling Method for Wireless Sensor Networks under Travel Time Uncertainty ABSTRACT.pdf to 29 Mobile Sink Scheduling Method for Wireless Sensor Networks under Travel Time Uncertainty ABSTRACT (3).pdf\n",
            "Saving 30 Time-Sensitive Ant Colony Optimization ORIGINAL.pdf to 30 Time-Sensitive Ant Colony Optimization ORIGINAL (2).pdf\n",
            "Saving 73 Analyzing Students Academic Success.pdf to 73 Analyzing Students Academic Success (2).pdf\n",
            "Saving 77 Arac Park Yerlerinin Doluluk.pdf to 77 Arac Park Yerlerinin Doluluk (2).pdf\n",
            "Document: 15 UAV Route Planning For Maximum Target Coverage ABSTRACT (2).pdf is being processed to be added to the Papers 0\n",
            "current_id: 0 \n",
            "Document:  15 UAV Route Planning For Maximum Target Coverage ABSTRACT (2).pdf  chunk size:  1\n",
            "\n",
            "Total number of chunks (document splited by max char = 1500):         2\n",
            "\n",
            "Total number of chunks (document splited by 128 tokens per chunk):       5\n",
            "Before inserting, the size of the collection:  0\n",
            "After inserting, the size of the collection:  5\n",
            "Document: 15 UAV Route Planning For Maximum Target Coverage ABSTRACT (2).pdf added to the collection: 5\n",
            "Document: 29 Mobile Sink Scheduling Method for Wireless Sensor Networks under Travel Time Uncertainty ABSTRACT (3).pdf is being processed to be added to the Papers 5\n",
            "current_id: 5 \n",
            "Document:  29 Mobile Sink Scheduling Method for Wireless Sensor Networks under Travel Time Uncertainty ABSTRACT (3).pdf  chunk size:  1\n",
            "\n",
            "Total number of chunks (document splited by max char = 1500):         2\n",
            "\n",
            "Total number of chunks (document splited by 128 tokens per chunk):       6\n",
            "Before inserting, the size of the collection:  5\n",
            "After inserting, the size of the collection:  11\n",
            "Document: 29 Mobile Sink Scheduling Method for Wireless Sensor Networks under Travel Time Uncertainty ABSTRACT (3).pdf added to the collection: 11\n",
            "Document: 30 Time-Sensitive Ant Colony Optimization ORIGINAL (2).pdf is being processed to be added to the Papers 11\n",
            "current_id: 11 \n",
            "Document:  30 Time-Sensitive Ant Colony Optimization ORIGINAL (2).pdf  chunk size:  18\n",
            "\n",
            "Total number of chunks (document splited by max char = 1500):         38\n",
            "\n",
            "Total number of chunks (document splited by 128 tokens per chunk):       101\n",
            "Before inserting, the size of the collection:  11\n",
            "After inserting, the size of the collection:  112\n",
            "Document: 30 Time-Sensitive Ant Colony Optimization ORIGINAL (2).pdf added to the collection: 112\n",
            "Document: 73 Analyzing Students Academic Success (2).pdf is being processed to be added to the Papers 112\n",
            "current_id: 112 \n",
            "Document:  73 Analyzing Students Academic Success (2).pdf  chunk size:  7\n",
            "\n",
            "Total number of chunks (document splited by max char = 1500):         24\n",
            "\n",
            "Total number of chunks (document splited by 128 tokens per chunk):       69\n",
            "Before inserting, the size of the collection:  112\n",
            "After inserting, the size of the collection:  181\n",
            "Document: 73 Analyzing Students Academic Success (2).pdf added to the collection: 181\n",
            "Document: 77 Arac Park Yerlerinin Doluluk (2).pdf is being processed to be added to the Papers 181\n",
            "current_id: 181 \n",
            "Document:  77 Arac Park Yerlerinin Doluluk (2).pdf  chunk size:  4\n",
            "\n",
            "Total number of chunks (document splited by max char = 1500):         17\n",
            "\n",
            "Total number of chunks (document splited by 128 tokens per chunk):       57\n",
            "Before inserting, the size of the collection:  181\n",
            "After inserting, the size of the collection:  238\n",
            "Document: 77 Arac Park Yerlerinin Doluluk (2).pdf added to the collection: 238\n"
          ]
        }
      ]
    },
    {
      "cell_type": "markdown",
      "source": [
        "## 7 Test the Knowledge Base\n",
        "\n",
        "Query the Knowledge Base using the persistent ChromaDB client and & collection"
      ],
      "metadata": {
        "id": "SY_pADjm4dle"
      }
    },
    {
      "cell_type": "code",
      "source": [
        "query = \"What are the main difference in active and passive path scheduling?\"\n",
        "\n",
        "'''\n",
        "In 16 A Local Optimization Technique for Assigning New Targets ABSTRACT:\n",
        "\n",
        "Route planning can be static or dynamic. In static route planning, routes are\n",
        "constructed according to given UAVs and targets and do not change during\n",
        "the mission. However, in dynamic route planning, number of routes or UAVs\n",
        "can alter which requires the update of existing routes to adopt these changes.\n",
        "\n",
        "'''"
      ],
      "metadata": {
        "colab": {
          "base_uri": "https://localhost:8080/",
          "height": 70
        },
        "id": "ZB7_29IHZXtK",
        "outputId": "e1f1fef9-14b2-468e-c873-385961d5cf81"
      },
      "execution_count": 32,
      "outputs": [
        {
          "output_type": "execute_result",
          "data": {
            "text/plain": [
              "'\\nIn 16 A Local Optimization Technique for Assigning New Targets ABSTRACT:\\n\\nRoute planning can be static or dynamic. In static route planning, routes are\\nconstructed according to given UAVs and targets and do not change during\\nthe mission. However, in dynamic route planning, number of routes or UAVs\\ncan alter which requires the update of existing routes to adopt these changes.\\n\\n'"
            ],
            "application/vnd.google.colaboratory.intrinsic+json": {
              "type": "string"
            }
          },
          "metadata": {},
          "execution_count": 32
        }
      ]
    },
    {
      "cell_type": "code",
      "source": [
        "retrieved_documents=retrieveDocs(chroma_collection, query, 10)\n",
        "show_results(retrieved_documents)"
      ],
      "metadata": {
        "id": "fbpduFllB8I6",
        "colab": {
          "base_uri": "https://localhost:8080/",
          "height": 1000
        },
        "outputId": "2f248aad-6593-40c3-c1a1-7d5bb9d912a5"
      },
      "execution_count": 34,
      "outputs": [
        {
          "output_type": "stream",
          "name": "stdout",
          "text": [
            "------- retreived documents -------\n",
            "\n",
            "Document 1:\n",
            "\tDocument Text: \n"
          ]
        },
        {
          "output_type": "display_data",
          "data": {
            "text/plain": [
              "<IPython.core.display.Markdown object>"
            ],
            "text/markdown": "> impact of cirriculumdeveloment method. As seen above references, there have been a considerable interest on the pre - requisite coursesin the literature. However, the scope, goals, and results of the above - mentioned studies are not completely in line with those of the present work. One of the studies with similar scope and goals wasconducted by Anderson et al. [ 25 ]. They found thatsuccessfully completing calculus and economicscourses positively [UNK] the achieved success insubsequent economics courses. In another work, McMillan and Adeyemi focused on the success relationships between the"
          },
          "metadata": {}
        },
        {
          "output_type": "stream",
          "name": "stdout",
          "text": [
            "\tDocument Source: 73 Analyzing Students Academic Success (2).pdf\n",
            "\tDocument Source Type: Journal Paper\n",
            "\tDocument Distance: 1.306624412536621\n",
            "Document 2:\n",
            "\tDocument Text: \n"
          ]
        },
        {
          "output_type": "display_data",
          "data": {
            "text/plain": [
              "<IPython.core.display.Markdown object>"
            ],
            "text/markdown": "> ##lected data for a given period of time, namely tour time. Provided below are the details of the MES / TSACO implementation 3. 2 The Time - Sensitive ACO A combinatorial optimization problem can be static or dynamic with respect to the given characteristics of the problem. In static problems, the underly - ing system properties stay the same throughout the problem - solution pro - cess. A typical example of these kinds of problems is the Traveling Sales - man Problem ( TSP ). In the TSP, there are a number of towns ( vertices ) con - nected to each"
          },
          "metadata": {}
        },
        {
          "output_type": "stream",
          "name": "stdout",
          "text": [
            "\tDocument Source: 30 Time-Sensitive Ant Colony Optimization ORIGINAL (2).pdf\n",
            "\tDocument Source Type: Journal Paper\n",
            "\tDocument Distance: 1.3876214027404785\n",
            "Document 3:\n",
            "\tDocument Text: \n"
          ]
        },
        {
          "output_type": "display_data",
          "data": {
            "text/plain": [
              "<IPython.core.display.Markdown object>"
            ],
            "text/markdown": "> ? A Mixed - Methods Approach to Identifying the Impact of a Prerequisite Course, CBE - Life Sciences Education, 16, 2017, p. ar16. 23. C. E. [UNK] and D. A. Gilman, Are Prerequisite Courses Necessary for Success in Advanced Courses?, ERIC, ERIC Number : ED475157, 2002. 24. J. M. Krieg and S. E. Henson, The Educational Impact ofOnline Learning : How Do University Students Perform in Subsequent Courses? Education Finance and Policy, 2016"
          },
          "metadata": {}
        },
        {
          "output_type": "stream",
          "name": "stdout",
          "text": [
            "\tDocument Source: 73 Analyzing Students Academic Success (2).pdf\n",
            "\tDocument Source Type: Journal Paper\n",
            "\tDocument Distance: 1.3958535194396973\n",
            "Document 4:\n",
            "\tDocument Text: \n"
          ]
        },
        {
          "output_type": "display_data",
          "data": {
            "text/plain": [
              "<IPython.core.display.Markdown object>"
            ],
            "text/markdown": "> 70 M URAT KARAKAYA FIGURE 1 A sample schedule showing the dynamic nature of the MES. ( distance ). In essence, the solution to a TSP is to construct a minimum dis - tance circuit passing through each vertex once and only once. Therefore, thecost of a solution depends on the distances among the towns. These prob - lem characteristics - town locations and distances - do not change during the development of a solution. On the other hand, in dynamic problems, problemcharacteristics can be changed over time as a solution is being generated. The MES"
          },
          "metadata": {}
        },
        {
          "output_type": "stream",
          "name": "stdout",
          "text": [
            "\tDocument Source: 30 Time-Sensitive Ant Colony Optimization ORIGINAL (2).pdf\n",
            "\tDocument Source Type: Journal Paper\n",
            "\tDocument Distance: 1.4082379341125488\n",
            "Document 5:\n",
            "\tDocument Text: \n"
          ]
        },
        {
          "output_type": "display_data",
          "data": {
            "text/plain": [
              "<IPython.core.display.Markdown object>"
            ],
            "text/markdown": "> and tour times. As a future work, the author intends to extend this work by scheduling a minimum number of multiple MSs, such that there will be no incidents [UNK] at all. Furthermore, it is planed that the scheduling algorithm beadapted so as to control the MS speed in order to minimize the [UNK] with optimum MS energy consumption. REFERENCES [ 1 ] Khaled Almi [UNK] ani, Anastasios Viglas, and Lavy Libman. ( 2010 ). Mobile element path plan - ning for time - constrained data gathering"
          },
          "metadata": {}
        },
        {
          "output_type": "stream",
          "name": "stdout",
          "text": [
            "\tDocument Source: 30 Time-Sensitive Ant Colony Optimization ORIGINAL (2).pdf\n",
            "\tDocument Source Type: Journal Paper\n",
            "\tDocument Distance: 1.415479063987732\n",
            "Document 6:\n",
            "\tDocument Text: \n"
          ]
        },
        {
          "output_type": "display_data",
          "data": {
            "text/plain": [
              "<IPython.core.display.Markdown object>"
            ],
            "text/markdown": "> - bin using a Traveling Sales - man Problem heuristic, all these schedules are concatenated into an overall schedule. There are some other works to solve different versions of the MES prob - lem, e. g. [ 1, 13 ] and [ 14 ]. In [ 1 ], Almi [UNK] ani et al. worked on a version of the MES problem in which the sensory data needs to be delivered to a static sink"
          },
          "metadata": {}
        },
        {
          "output_type": "stream",
          "name": "stdout",
          "text": [
            "\tDocument Source: 30 Time-Sensitive Ant Colony Optimization ORIGINAL (2).pdf\n",
            "\tDocument Source Type: Journal Paper\n",
            "\tDocument Distance: 1.434402585029602\n",
            "Document 7:\n",
            "\tDocument Text: \n"
          ]
        },
        {
          "output_type": "display_data",
          "data": {
            "text/plain": [
              "<IPython.core.display.Markdown object>"
            ],
            "text/markdown": "> second one is whether the selected curriculum devel - opment approach for deciding the chains has [UNK] impact on the academic success relation - ships between a pre - requisite and its follow - upcourse. The second question is shortly called [UNK] [UNK] Impact of Curriculum Development Model [UNK] [UNK]. Toinvestigate the answers, two chains among threemathematics courses ( Calculus I, Calculus II, and [UNK] Equations ) are selected. Then, using statistical test, the validity of the hypothesis isdiscussed. Before, providing the conclusions, a critical lit - erature survey,"
          },
          "metadata": {}
        },
        {
          "output_type": "stream",
          "name": "stdout",
          "text": [
            "\tDocument Source: 73 Analyzing Students Academic Success (2).pdf\n",
            "\tDocument Source Type: Journal Paper\n",
            "\tDocument Distance: 1.46108877658844\n",
            "Document 8:\n",
            "\tDocument Text: \n"
          ]
        },
        {
          "output_type": "display_data",
          "data": {
            "text/plain": [
              "<IPython.core.display.Markdown object>"
            ],
            "text/markdown": "> graduate pre - requisite management courses and the graduate Organiza - tional Behavior courses, and found a positive rela - tion between the grades received in these courses as"
          },
          "metadata": {}
        },
        {
          "output_type": "stream",
          "name": "stdout",
          "text": [
            "\tDocument Source: 73 Analyzing Students Academic Success (2).pdf\n",
            "\tDocument Source Type: Journal Paper\n",
            "\tDocument Distance: 1.4612693786621094\n",
            "Document 9:\n",
            "\tDocument Text: \n"
          ]
        },
        {
          "output_type": "display_data",
          "data": {
            "text/plain": [
              "<IPython.core.display.Markdown object>"
            ],
            "text/markdown": "> In the proposed solution, each ant constructs routes for the given number of UAVs using pheromone and heuristic information. These routes are locally optimized using a modified 2 - opt technique. After each iteration, t he solution which covers more targets with less route distance is selected as the iteration - best solution and the pheromone values of the edges on that route are increased. According to the termination condition, the algorithm stops and outputs the best route found so far as the result. To evaluate the success of the proposed method, another approach, based on the Nearest Neigh"
          },
          "metadata": {}
        },
        {
          "output_type": "stream",
          "name": "stdout",
          "text": [
            "\tDocument Source: 15 UAV Route Planning For Maximum Target Coverage ABSTRACT (2).pdf\n",
            "\tDocument Source Type: Journal Paper\n",
            "\tDocument Distance: 1.4616098403930664\n",
            "Document 10:\n",
            "\tDocument Text: \n"
          ]
        },
        {
          "output_type": "display_data",
          "data": {
            "text/plain": [
              "<IPython.core.display.Markdown object>"
            ],
            "text/markdown": "> Second, the considered chainedcourses are limited to three mathematical courses ( Calculus I, Calculus II, and [UNK] Equa - tions ). Third, among the several curriculum devel - opment methods, only two ( Spiral and Linear ) areselected for this research. Lastly, since there are [UNK] records stating which courses were designed according to which curriculum development meth - odology, the [UNK] of the chains are doneaccording to the [UNK] of the cirriculum devel - opment methods. Murat Karakaya et al. 368"
          },
          "metadata": {}
        },
        {
          "output_type": "stream",
          "name": "stdout",
          "text": [
            "\tDocument Source: 73 Analyzing Students Academic Success (2).pdf\n",
            "\tDocument Source Type: Journal Paper\n",
            "\tDocument Distance: 1.4657018184661865\n"
          ]
        }
      ]
    },
    {
      "cell_type": "markdown",
      "source": [
        "## 8 Observe the ChromeDB saved to the provided path\n",
        "\n",
        "List the folders and files in the chromaDB_path"
      ],
      "metadata": {
        "id": "Vn6S6rAS4lhb"
      }
    },
    {
      "cell_type": "code",
      "source": [
        "!ls \"{chromaDB_path}\""
      ],
      "metadata": {
        "colab": {
          "base_uri": "https://localhost:8080/"
        },
        "id": "RJfd2hl85T4N",
        "outputId": "6f7b7f37-7a82-4a41-ac6c-212f8fe76fd3"
      },
      "execution_count": 35,
      "outputs": [
        {
          "output_type": "stream",
          "name": "stdout",
          "text": [
            "5c995b1b-29a5-4783-bab1-3c8955b9651f  chroma.sqlite3\n"
          ]
        }
      ]
    },
    {
      "cell_type": "markdown",
      "source": [
        "## YES WE DID IT!"
      ],
      "metadata": {
        "id": "UUNm9qIi4sWJ"
      }
    },
    {
      "cell_type": "markdown",
      "source": [
        "# LOAD A KNOWLEDGE BASE FROM A PERSISTENT CHROMADB\n",
        "\n"
      ],
      "metadata": {
        "id": "lCZkStQJsWU7"
      }
    },
    {
      "cell_type": "markdown",
      "source": [
        "Let's kill the kernel so we ensure that nothing remains in the memory from all the above ChromaDB instance."
      ],
      "metadata": {
        "id": "v-gnovuy65Zc"
      }
    },
    {
      "cell_type": "code",
      "source": [
        "from google.colab import runtime\n",
        "# Disconnect from the runtime\n",
        "#!kill -9 -1"
      ],
      "metadata": {
        "id": "XuO4UOZ76JAq"
      },
      "execution_count": null,
      "outputs": []
    },
    {
      "cell_type": "markdown",
      "source": [
        "##1 Connect to source directory\n",
        "\n",
        "First get connected to the ChromaDB directory"
      ],
      "metadata": {
        "id": "eQQYkyA_0hi-"
      }
    },
    {
      "cell_type": "code",
      "source": [
        "from google.colab import drive\n",
        "drive.mount('/content/drive')"
      ],
      "metadata": {
        "id": "0M0aAIB9tK8q"
      },
      "execution_count": null,
      "outputs": []
    },
    {
      "cell_type": "code",
      "source": [
        "# change directory to chromaDB folder\n",
        "chromaDB_path = '/content/drive/MyDrive/Colab Notebooks/ChromaDBData'\n",
        "%cd {chromaDB_path}\n"
      ],
      "metadata": {
        "colab": {
          "base_uri": "https://localhost:8080/"
        },
        "id": "hW_FIIWRuPFF",
        "outputId": "61c343da-6768-4df6-a784-46292d66be4d"
      },
      "execution_count": 36,
      "outputs": [
        {
          "output_type": "stream",
          "name": "stdout",
          "text": [
            "/content/drive/MyDrive/Colab Notebooks/ChromaDBData\n"
          ]
        }
      ]
    },
    {
      "cell_type": "markdown",
      "source": [
        "### Check that if chromadb_path exist or not and if exists does it contain chromadb files and folders"
      ],
      "metadata": {
        "id": "Dg1hEUMQw0wt"
      }
    },
    {
      "cell_type": "code",
      "source": [
        "import os\n",
        "if os.path.exists(chromaDB_path):\n",
        "    print(f\"The directory '{chromaDB_path}' exists.\")\n",
        "\n",
        "    # Check if the directory contains ChromaDB files and folders\n",
        "    chromadb_files_and_folders = os.listdir(chromaDB_path)\n",
        "    if any(file_or_folder.startswith('chroma') for file_or_folder in chromadb_files_and_folders):\n",
        "        print(\"The directory contains ChromaDB files and folders.\")\n",
        "    else:\n",
        "        print(\"The directory does not contain ChromaDB files and folders.\")\n",
        "else:\n",
        "    print(f\"The directory '{chromadb_path}' does not exist.\")\n"
      ],
      "metadata": {
        "colab": {
          "base_uri": "https://localhost:8080/"
        },
        "id": "SaMkHKPLwW_J",
        "outputId": "541207cd-9412-4860-9fea-786f6ed06977",
        "collapsed": true
      },
      "execution_count": 37,
      "outputs": [
        {
          "output_type": "stream",
          "name": "stdout",
          "text": [
            "The directory '/content/drive/MyDrive/Colab Notebooks/ChromaDBData' exists.\n",
            "The directory contains ChromaDB files and folders.\n"
          ]
        }
      ]
    },
    {
      "cell_type": "markdown",
      "source": [
        "##2 Install required libraries\n",
        "\n",
        "Secondly install all the required libraries and helper functions"
      ],
      "metadata": {
        "id": "jxr8k00A0uyp"
      }
    },
    {
      "cell_type": "code",
      "source": [
        "%pip install chromadb --quiet\n",
        "%pip install sentence_transformers --quiet"
      ],
      "metadata": {
        "id": "8Q-aNfaT0Pz0"
      },
      "execution_count": null,
      "outputs": []
    },
    {
      "cell_type": "code",
      "source": [
        "from chromadb.config import DEFAULT_TENANT, DEFAULT_DATABASE, Settings\n",
        "from chromadb import Client, PersistentClient\n",
        "from chromadb.utils import embedding_functions\n"
      ],
      "metadata": {
        "id": "zCT7F72PseyP"
      },
      "execution_count": null,
      "outputs": []
    },
    {
      "cell_type": "code",
      "source": [
        "import textwrap\n",
        "from IPython.display import display\n",
        "from IPython.display import Markdown\n",
        "def to_markdown(text):\n",
        "  text = text.replace('•', '  *')\n",
        "  return Markdown(textwrap.indent(text, '> ', predicate=lambda _: True))"
      ],
      "metadata": {
        "id": "tPsQ2-K20CmE"
      },
      "execution_count": null,
      "outputs": []
    },
    {
      "cell_type": "code",
      "source": [
        "def retrieveDocs(chroma_collection, query, n_results=5,\n",
        "                 return_only_docs=False, filterType=None, filterValue=None):\n",
        "    if filterType is not None and filterValue is not None:\n",
        "        results = chroma_collection.query(\n",
        "            query_texts=[query],\n",
        "            include=[\"documents\", \"metadatas\", \"distances\"],\n",
        "            where={filterType: filterValue},\n",
        "            n_results=n_results)\n",
        "\n",
        "    else:\n",
        "        results = chroma_collection.query(\n",
        "            query_texts=[query],\n",
        "            include= [ \"documents\",\"metadatas\",'distances' ],\n",
        "            n_results=n_results)\n",
        "\n",
        "    if return_only_docs:\n",
        "        return results['documents'][0]\n",
        "    else:\n",
        "        return results"
      ],
      "metadata": {
        "id": "xh4T7meazUSF"
      },
      "execution_count": null,
      "outputs": []
    },
    {
      "cell_type": "code",
      "source": [
        "def show_results(results, return_only_docs=False):\n",
        "\n",
        "  if return_only_docs:\n",
        "    retrieved_documents = results\n",
        "    if len(retrieved_documents) == 0:\n",
        "      print(\"No results found.\")\n",
        "      return\n",
        "    for i, doc in enumerate(retrieved_documents):\n",
        "      print(f\"Document {i+1}:\")\n",
        "      print(\"\\tDocument Text: \")\n",
        "      display(to_markdown(doc));\n",
        "  else:\n",
        "\n",
        "      retrieved_documents = results['documents'][0]\n",
        "      if len(retrieved_documents) == 0:\n",
        "          print(\"No results found.\")\n",
        "          return\n",
        "      retrieved_documents_metadata = results['metadatas'][0]\n",
        "      retrieved_documents_distances = results['distances'][0]\n",
        "      print(\"------- retreived documents -------\\n\")\n",
        "\n",
        "      for i, doc in enumerate(retrieved_documents):\n",
        "          print(f\"Document {i+1}:\")\n",
        "          print(\"\\tDocument Text: \")\n",
        "          display(to_markdown(doc));\n",
        "          print(f\"\\tDocument Source: {retrieved_documents_metadata[i]['document']}\")\n",
        "          print(f\"\\tDocument Source Type: {retrieved_documents_metadata[i]['category']}\")\n",
        "          print(f\"\\tDocument Distance: {retrieved_documents_distances[i]}\")\n"
      ],
      "metadata": {
        "id": "4FPBhuz_zlFE"
      },
      "execution_count": null,
      "outputs": []
    },
    {
      "cell_type": "markdown",
      "source": [
        "##3 Initailizing\n",
        "\n",
        " Now, we can begin to upload the persistent ChromaDB from the location by initailizing\n",
        "*  the chromaDB client\n",
        "*  the chromaDB collections"
      ],
      "metadata": {
        "id": "Mn3OPY0r1axg"
      }
    },
    {
      "cell_type": "code",
      "source": [
        "chroma_client = PersistentClient(path=chromaDB_path,\n",
        "                                     settings=Settings(),\n",
        "                                     tenant=DEFAULT_TENANT,\n",
        "                                     database=DEFAULT_DATABASE,)"
      ],
      "metadata": {
        "id": "iL-3d53fB7c6"
      },
      "execution_count": 38,
      "outputs": []
    },
    {
      "cell_type": "code",
      "source": [
        "chroma_client.list_collections()"
      ],
      "metadata": {
        "colab": {
          "base_uri": "https://localhost:8080/"
        },
        "id": "TX3GuXTpB69J",
        "outputId": "6bf64d2a-076d-4f3e-bb43-7c7f5671761d"
      },
      "execution_count": 39,
      "outputs": [
        {
          "output_type": "execute_result",
          "data": {
            "text/plain": [
              "[<chromadb.api.models.Collection.Collection at 0x7f4e345e5de0>]"
            ]
          },
          "metadata": {},
          "execution_count": 39
        }
      ]
    },
    {
      "cell_type": "code",
      "source": [
        "collection_name = \"Papers\"\n",
        "sentence_transformer_model=\"distiluse-base-multilingual-cased-v1\"\n",
        "embedding_function= embedding_functions.SentenceTransformerEmbeddingFunction(\n",
        "    model_name=sentence_transformer_model)\n"
      ],
      "metadata": {
        "id": "ZsgtHESYvq80"
      },
      "execution_count": null,
      "outputs": []
    },
    {
      "cell_type": "code",
      "source": [
        "chroma_collection = chroma_client.get_or_create_collection(\n",
        "      collection_name,\n",
        "      embedding_function=embedding_function)"
      ],
      "metadata": {
        "id": "bSAESLFfrosn"
      },
      "execution_count": 40,
      "outputs": []
    },
    {
      "cell_type": "code",
      "source": [
        "# Verify collection properties\n",
        "print(f\"Collection name: {chroma_collection.name}\")  # Access the name attribute directly\n",
        "print(f\"Number of documents in collection: {chroma_collection.count()}\")\n",
        "\n",
        "# List all collections in the client\n",
        "print(\"All collections in ChromaDB client:\")\n",
        "for collection in chroma_client.list_collections():\n",
        "    print(collection.name)"
      ],
      "metadata": {
        "colab": {
          "base_uri": "https://localhost:8080/"
        },
        "id": "RkAXDiZ_OvDz",
        "outputId": "18cc431a-5ff9-413c-c94e-ed3e427dfdd4"
      },
      "execution_count": 41,
      "outputs": [
        {
          "output_type": "stream",
          "name": "stdout",
          "text": [
            "Collection name: Papers\n",
            "Number of documents in collection: 238\n",
            "All collections in ChromaDB client:\n",
            "Papers\n"
          ]
        }
      ]
    },
    {
      "cell_type": "markdown",
      "source": [
        "##4 Test\n",
        "\n",
        "Test the loaded ChromeDB client and the collection"
      ],
      "metadata": {
        "id": "VPYaFV8a12YA"
      }
    },
    {
      "cell_type": "code",
      "source": [
        "chroma_collection.get(['0'])"
      ],
      "metadata": {
        "colab": {
          "base_uri": "https://localhost:8080/"
        },
        "id": "bPHuH6bbLbED",
        "outputId": "6c99aae2-698b-4f5e-f357-b0000bd6d4d8"
      },
      "execution_count": 42,
      "outputs": [
        {
          "output_type": "execute_result",
          "data": {
            "text/plain": [
              "{'ids': ['0'],\n",
              " 'embeddings': None,\n",
              " 'metadatas': [{'category': 'Journal Paper',\n",
              "   'document': '15 UAV Route Planning For Maximum Target Coverage ABSTRACT (2).pdf'}],\n",
              " 'documents': ['UAV Route Planning For Maximum Target Coverage Murat Karakaya Department of Computer Engineering, Atilim University Incek / Ankara TURKEY kmkarakaya @ atilim. edu. tr Abstract The importance and the impact of using Unmanned Aerial Vehicles ( UAVs ) in military and civil operations are increasing. One of the challenges in effectively tasking these expensive vehicles is planning the flight routes to monitor the targets. This problem is related with the Multiple Travelling Salesman Problem ( mTSP ) and the Vehicle Routing Problem ( VRP ). In these well - defined problem'],\n",
              " 'uris': None,\n",
              " 'data': None,\n",
              " 'included': ['metadatas', 'documents']}"
            ]
          },
          "metadata": {},
          "execution_count": 42
        }
      ]
    },
    {
      "cell_type": "markdown",
      "source": [
        "```python\n",
        "chroma_collection.get(['0'])\n",
        "\n",
        "{'ids': ['0'],\n",
        " 'embeddings': None,\n",
        " 'metadatas': [{'category': 'Journal Paper',\n",
        "   'document': '15 UAV Route Planning For Maximum Target Coverage.pdf'}],\n",
        " 'documents': ['Computer Science & Engineering : An International Journal ( CSEIJ ), Vol. 4, No. 1,\n",
        " February 2014 DOI : 10. 5121 / cseij. 2014. 410 3 27UAVROUTEPLANNING FORMAXIMUMTARGET COVERAGE MuratKarakaya1\n",
        " 1Department of Computer Engineering, Atilim University, Ankara, Turkey ABSTRACT Utilization of Unmanned Aerial\n",
        " Vehicles ( UAVs ) in military and civil operations is getting popular. One of the challenges in effectively\n",
        "  tasking these expensive vehicles is planning'],\n",
        " 'uris': None,\n",
        " 'data': None}\n",
        "```"
      ],
      "metadata": {
        "id": "UL3rKoy9x8n8"
      }
    },
    {
      "cell_type": "code",
      "source": [
        "query = \"What is Target Coverage?\""
      ],
      "metadata": {
        "id": "U2NsqZQwy9mx"
      },
      "execution_count": 43,
      "outputs": []
    },
    {
      "cell_type": "code",
      "source": [
        "retrieved_documents=retrieveDocs(chroma_collection, query, 10)\n",
        "show_results(retrieved_documents)"
      ],
      "metadata": {
        "colab": {
          "base_uri": "https://localhost:8080/",
          "height": 1000
        },
        "id": "bo0CKmb2KJ_A",
        "outputId": "9d00aff5-9049-45dc-b390-7abedaee46ff"
      },
      "execution_count": 44,
      "outputs": [
        {
          "output_type": "stream",
          "name": "stdout",
          "text": [
            "------- retreived documents -------\n",
            "\n",
            "Document 1:\n",
            "\tDocument Text: \n"
          ]
        },
        {
          "output_type": "display_data",
          "data": {
            "text/plain": [
              "<IPython.core.display.Markdown object>"
            ],
            "text/markdown": "> s, it is mostly assumed that travelling salesm en or vehicles should visit all the targets and the target function is defined as to find a minimum - distan t route. Even, i n the constraint versions of the mTSP and VRP, some other restrictions ( visiting time windows, number of depots, etc. ) are included ; it is still assumed that there exists enough number of travelling salesm en or vehicle s to cover all the give n locations. However, in reality the number and flight range of UAVs might be insufficient to cover all the targets. As a result, t he maxim"
          },
          "metadata": {}
        },
        {
          "output_type": "stream",
          "name": "stdout",
          "text": [
            "\tDocument Source: 15 UAV Route Planning For Maximum Target Coverage ABSTRACT (2).pdf\n",
            "\tDocument Source Type: Journal Paper\n",
            "\tDocument Distance: 1.2466243505477905\n",
            "Document 2:\n",
            "\tDocument Text: \n"
          ]
        },
        {
          "output_type": "display_data",
          "data": {
            "text/plain": [
              "<IPython.core.display.Markdown object>"
            ],
            "text/markdown": "> impact of cirriculumdeveloment method. As seen above references, there have been a considerable interest on the pre - requisite coursesin the literature. However, the scope, goals, and results of the above - mentioned studies are not completely in line with those of the present work. One of the studies with similar scope and goals wasconducted by Anderson et al. [ 25 ]. They found thatsuccessfully completing calculus and economicscourses positively [UNK] the achieved success insubsequent economics courses. In another work, McMillan and Adeyemi focused on the success relationships between the"
          },
          "metadata": {}
        },
        {
          "output_type": "stream",
          "name": "stdout",
          "text": [
            "\tDocument Source: 73 Analyzing Students Academic Success (2).pdf\n",
            "\tDocument Source Type: Journal Paper\n",
            "\tDocument Distance: 1.3942387104034424\n",
            "Document 3:\n",
            "\tDocument Text: \n"
          ]
        },
        {
          "output_type": "display_data",
          "data": {
            "text/plain": [
              "<IPython.core.display.Markdown object>"
            ],
            "text/markdown": "> ? A Mixed - Methods Approach to Identifying the Impact of a Prerequisite Course, CBE - Life Sciences Education, 16, 2017, p. ar16. 23. C. E. [UNK] and D. A. Gilman, Are Prerequisite Courses Necessary for Success in Advanced Courses?, ERIC, ERIC Number : ED475157, 2002. 24. J. M. Krieg and S. E. Henson, The Educational Impact ofOnline Learning : How Do University Students Perform in Subsequent Courses? Education Finance and Policy, 2016"
          },
          "metadata": {}
        },
        {
          "output_type": "stream",
          "name": "stdout",
          "text": [
            "\tDocument Source: 73 Analyzing Students Academic Success (2).pdf\n",
            "\tDocument Source Type: Journal Paper\n",
            "\tDocument Distance: 1.4003818035125732\n",
            "Document 4:\n",
            "\tDocument Text: \n"
          ]
        },
        {
          "output_type": "display_data",
          "data": {
            "text/plain": [
              "<IPython.core.display.Markdown object>"
            ],
            "text/markdown": "> UAV Route Planning For Maximum Target Coverage Murat Karakaya Department of Computer Engineering, Atilim University Incek / Ankara TURKEY kmkarakaya @ atilim. edu. tr Abstract The importance and the impact of using Unmanned Aerial Vehicles ( UAVs ) in military and civil operations are increasing. One of the challenges in effectively tasking these expensive vehicles is planning the flight routes to monitor the targets. This problem is related with the Multiple Travelling Salesman Problem ( mTSP ) and the Vehicle Routing Problem ( VRP ). In these well - defined problem"
          },
          "metadata": {}
        },
        {
          "output_type": "stream",
          "name": "stdout",
          "text": [
            "\tDocument Source: 15 UAV Route Planning For Maximum Target Coverage ABSTRACT (2).pdf\n",
            "\tDocument Source Type: Journal Paper\n",
            "\tDocument Distance: 1.4190356731414795\n",
            "Document 5:\n",
            "\tDocument Text: \n"
          ]
        },
        {
          "output_type": "display_data",
          "data": {
            "text/plain": [
              "<IPython.core.display.Markdown object>"
            ],
            "text/markdown": "> ACO M OBILE SINKSCHEDULING 75 The objective function fis based on the cost cas below : f = 1 c + 1 ( 6 ) Thus, we would like to maximize the objective function fby minimizing the costc. Using the cost of the generated tour, the amount of the additional pheromone is calculated and added to the edges which the ants have vis - ited during the tour. The amount of pheromone is set according to the belowformula : τ i, j, t←1 c + 1 + τi, j, t, ∀ ("
          },
          "metadata": {}
        },
        {
          "output_type": "stream",
          "name": "stdout",
          "text": [
            "\tDocument Source: 30 Time-Sensitive Ant Colony Optimization ORIGINAL (2).pdf\n",
            "\tDocument Source Type: Journal Paper\n",
            "\tDocument Distance: 1.426795482635498\n",
            "Document 6:\n",
            "\tDocument Text: \n"
          ]
        },
        {
          "output_type": "display_data",
          "data": {
            "text/plain": [
              "<IPython.core.display.Markdown object>"
            ],
            "text/markdown": "> durumlarının belirlenmesi amacıyla Derin Öğrenme ( Deep Learning ) yöntemi kullanılmıştır. Bilgisayarlar insanların gerçekleştiremediği karmaşık hesaplamaları yüksek hızda ve doğrulukta gerçekleştirebilmektedir. Buna karşın insanlar için çok kolay olan bazı işlemler ( işitilen sözler ile cümle oluşturup anlama, görülen b ir kişinin tanınması, bir fotoğraftaki cisimlerin belirlenmesi gibi ) bilgisayarlar için zorlayıcı olmaktadır. Derin Öğrenme"
          },
          "metadata": {}
        },
        {
          "output_type": "stream",
          "name": "stdout",
          "text": [
            "\tDocument Source: 77 Arac Park Yerlerinin Doluluk (2).pdf\n",
            "\tDocument Source Type: Journal Paper\n",
            "\tDocument Distance: 1.4507018327713013\n",
            "Document 7:\n",
            "\tDocument Text: \n"
          ]
        },
        {
          "output_type": "display_data",
          "data": {
            "text/plain": [
              "<IPython.core.display.Markdown object>"
            ],
            "text/markdown": "> courses. Furthermore, if there are such successrelationships between pre - requisite and non - pre - requisite courses will be examined. For this purpose, some non - pre - requisite courses can be chosen as acontrol group and then, the academic performancesof the students enrolled in [UNK] combinations ofpre - requisite and non pre - requisite courses can be studied. References 1. J. Cobb, 10 Ways to Be a Better Learner, CreateSpace Independent Publishing Platform, 2012. 2. [ E. L. Thorndike, The Fundamentals of Learning,"
          },
          "metadata": {}
        },
        {
          "output_type": "stream",
          "name": "stdout",
          "text": [
            "\tDocument Source: 73 Analyzing Students Academic Success (2).pdf\n",
            "\tDocument Source Type: Journal Paper\n",
            "\tDocument Distance: 1.5071862936019897\n",
            "Document 8:\n",
            "\tDocument Text: \n"
          ]
        },
        {
          "output_type": "display_data",
          "data": {
            "text/plain": [
              "<IPython.core.display.Markdown object>"
            ],
            "text/markdown": "> Second, the considered chainedcourses are limited to three mathematical courses ( Calculus I, Calculus II, and [UNK] Equa - tions ). Third, among the several curriculum devel - opment methods, only two ( Spiral and Linear ) areselected for this research. Lastly, since there are [UNK] records stating which courses were designed according to which curriculum development meth - odology, the [UNK] of the chains are doneaccording to the [UNK] of the cirriculum devel - opment methods. Murat Karakaya et al. 368"
          },
          "metadata": {}
        },
        {
          "output_type": "stream",
          "name": "stdout",
          "text": [
            "\tDocument Source: 73 Analyzing Students Academic Success (2).pdf\n",
            "\tDocument Source Type: Journal Paper\n",
            "\tDocument Distance: 1.5079680681228638\n",
            "Document 9:\n",
            "\tDocument Text: \n"
          ]
        },
        {
          "output_type": "display_data",
          "data": {
            "text/plain": [
              "<IPython.core.display.Markdown object>"
            ],
            "text/markdown": "> requisite chains periodi - cally with empirical data so that pre - requisites and their follow - up courses should be well designed to support student success throughoutthe curriculum. 14. Conclusions The goal of this study is two - fold. The [UNK] goal is to examine the impact of the pre - requisite courses onthe success in a follow - up course for two mathe - matics course chains. The second one is to investi - gate the impact of the selected cirriculumdevelopment method on the success relationshipsbetween a pre - requisite course and follow"
          },
          "metadata": {}
        },
        {
          "output_type": "stream",
          "name": "stdout",
          "text": [
            "\tDocument Source: 73 Analyzing Students Academic Success (2).pdf\n",
            "\tDocument Source Type: Journal Paper\n",
            "\tDocument Distance: 1.5144762992858887\n",
            "Document 10:\n",
            "\tDocument Text: \n"
          ]
        },
        {
          "output_type": "display_data",
          "data": {
            "text/plain": [
              "<IPython.core.display.Markdown object>"
            ],
            "text/markdown": "> lliklerini ezberleyeceği ( overfitting ) için başarı oranı gerçeği yansıtmayacak kadar yüksek çıkabilecektir. B irbirinden farklı görüntüler den oluşan ü ç veri setinin kullanımı ile D ESA [UNK] nın sınıflandırma başarı m ı hakkında daha gerçekçi sonuçlar elde edilmek i stenmiştir. Şekil 2 : Veri s etlerinde b ulunan p ark y eri g örüntülerinden ö rnekler B. Derin Evrişimsel Sinir Ağları Bu çalışma"
          },
          "metadata": {}
        },
        {
          "output_type": "stream",
          "name": "stdout",
          "text": [
            "\tDocument Source: 77 Arac Park Yerlerinin Doluluk (2).pdf\n",
            "\tDocument Source Type: Journal Paper\n",
            "\tDocument Distance: 1.514948129310384\n"
          ]
        }
      ]
    },
    {
      "cell_type": "markdown",
      "source": [
        "## YES! WE DID IT!"
      ],
      "metadata": {
        "id": "MqZPe52R2AZN"
      }
    },
    {
      "cell_type": "markdown",
      "source": [
        "# CONNECT TO AN LLM: GOOGLE GEMINI"
      ],
      "metadata": {
        "id": "MmwlLvI3QHum"
      }
    },
    {
      "cell_type": "markdown",
      "source": [
        "## 1 Install & Import Libraries"
      ],
      "metadata": {
        "id": "lA9pxZ5CQTDl"
      }
    },
    {
      "cell_type": "code",
      "source": [
        "!pip install -q -U google-generativeai"
      ],
      "metadata": {
        "colab": {
          "base_uri": "https://localhost:8080/"
        },
        "id": "O0FpFGuLQR4c",
        "outputId": "7dd9d473-88af-4c19-d84d-de872b326353"
      },
      "execution_count": 45,
      "outputs": [
        {
          "output_type": "stream",
          "name": "stdout",
          "text": [
            "\u001b[2K     \u001b[90m━━━━━━━━━━━━━━━━━━━━━━━━━━━━━━━━━━━━━━━━\u001b[0m \u001b[32m163.1/163.1 kB\u001b[0m \u001b[31m1.3 MB/s\u001b[0m eta \u001b[36m0:00:00\u001b[0m\n",
            "\u001b[2K     \u001b[90m━━━━━━━━━━━━━━━━━━━━━━━━━━━━━━━━━━━━━━━━\u001b[0m \u001b[32m717.3/717.3 kB\u001b[0m \u001b[31m7.4 MB/s\u001b[0m eta \u001b[36m0:00:00\u001b[0m\n",
            "\u001b[?25h"
          ]
        }
      ]
    },
    {
      "cell_type": "code",
      "source": [
        "import os\n",
        "import textwrap\n",
        "import google.generativeai as genai\n",
        "from IPython.display import display\n",
        "from IPython.display import Markdown"
      ],
      "metadata": {
        "id": "bu5XjXDAQm2U"
      },
      "execution_count": 46,
      "outputs": []
    },
    {
      "cell_type": "markdown",
      "source": [
        "## 2 Define Helper Functions"
      ],
      "metadata": {
        "id": "2qDkZNw_QtLo"
      }
    },
    {
      "cell_type": "code",
      "source": [
        "def to_markdown(text):\n",
        "  text = text.replace('•', '  *')\n",
        "  return Markdown(textwrap.indent(text, '> ', predicate=lambda _: True))"
      ],
      "metadata": {
        "id": "oD9QAXBMQw41"
      },
      "execution_count": 47,
      "outputs": []
    },
    {
      "cell_type": "code",
      "source": [
        "def build_chatBot(system_instruction):\n",
        "  model = genai.GenerativeModel('gemini-1.5-flash-latest', system_instruction=system_instruction)\n",
        "  chat = model.start_chat(history=[])\n",
        "  return chat"
      ],
      "metadata": {
        "id": "Wfm2jvLTRED-"
      },
      "execution_count": 49,
      "outputs": []
    },
    {
      "cell_type": "code",
      "source": [
        "def generate_LLM_answer(prompt, context, chat):\n",
        "  response = chat.send_message( prompt + context)\n",
        "  return response.text"
      ],
      "metadata": {
        "id": "6onefHglRakd"
      },
      "execution_count": 50,
      "outputs": []
    },
    {
      "cell_type": "markdown",
      "source": [
        "## 3 Connect to the LLM via the Chat API"
      ],
      "metadata": {
        "id": "GNvdN-SNQ1em"
      }
    },
    {
      "cell_type": "code",
      "source": [
        "# Used to securely store your API key\n",
        "from google.colab import userdata\n",
        "# Or use `os.getenv('GOOGLE_API_KEY')` to fetch an environment variable.\n",
        "GOOGLE_API_KEY=userdata.get('GOOGLE_API_KEY')\n",
        "genai.configure(api_key=GOOGLE_API_KEY)"
      ],
      "metadata": {
        "id": "1JgPySYbQ_fk"
      },
      "execution_count": 51,
      "outputs": []
    },
    {
      "cell_type": "code",
      "source": [
        "system_prompt= \"\"\" You are an attentive and supportive academic assistant.\n",
        "Your role is to provide assistance based solely on the provided context.\n",
        "\n",
        "Here’s how we’ll proceed:\n",
        "1. I will provide you with a question and related text excerpt.\n",
        "2. Your task is to answer the question using only the provided partial texts.\n",
        "3. If the answer isn’t explicitly found within the given context,\n",
        "respond with 'I don't know'.\n",
        "4. After each response, please provide a detailed explanation.\n",
        "Break down your answer step by step and relate it directly to the provided context.\n",
        "5. Sometimes, I will ask questions about the chat session, such as summarize\n",
        "the chat or list the question etc. For this kind of questions do not try\n",
        "to use the provided partial texts.\n",
        "6. Generate the answer in the same language of the given question.\n",
        "\n",
        "If you're ready, I'll provide you with the question and the context.\n",
        "\"\"\""
      ],
      "metadata": {
        "id": "_Kuf1IyHRUcP"
      },
      "execution_count": 52,
      "outputs": []
    },
    {
      "cell_type": "code",
      "source": [
        "RAG_LLM = build_chatBot(system_prompt)"
      ],
      "metadata": {
        "id": "1YgsKHxKSIlB"
      },
      "execution_count": 53,
      "outputs": []
    },
    {
      "cell_type": "markdown",
      "source": [
        "## 4 Test the LLM connection"
      ],
      "metadata": {
        "id": "_ZOLUYaISRal"
      }
    },
    {
      "cell_type": "code",
      "source": [
        "prompt=\"What is FC?\"\n",
        "context= \"\"\"FC lets developers create a description\n",
        "of a F in their code, then pass that description to a language\n",
        "model in a request.\n",
        "\n",
        "The response from the model includes the name of\n",
        "a F that matches the description and the arguments to call it with.\n",
        "FC lets you use F as tools in generative AI applications,\n",
        "and you can define more than one F within a single request.\n",
        "\"\"\""
      ],
      "metadata": {
        "id": "HmkPIU1jSW0s"
      },
      "execution_count": 54,
      "outputs": []
    },
    {
      "cell_type": "code",
      "source": [
        "response=generate_LLM_answer(prompt, context,RAG_LLM)\n",
        "to_markdown(response)"
      ],
      "metadata": {
        "colab": {
          "base_uri": "https://localhost:8080/",
          "height": 103
        },
        "id": "L3vtwTQlSNOW",
        "outputId": "ea7af5d1-049f-44c4-a485-b42932cbe286"
      },
      "execution_count": 55,
      "outputs": [
        {
          "output_type": "execute_result",
          "data": {
            "text/plain": [
              "<IPython.core.display.Markdown object>"
            ],
            "text/markdown": "> I don't know.\n> \n> The provided text explains that FC is a system that allows developers to describe functions (Fs) in their code and then use a language model to find a matching function and its arguments. However, it does not explicitly define what FC stands for. \n"
          },
          "metadata": {},
          "execution_count": 55
        }
      ]
    },
    {
      "cell_type": "code",
      "source": [
        "RAG_LLM.history"
      ],
      "metadata": {
        "colab": {
          "base_uri": "https://localhost:8080/"
        },
        "id": "678AEdaJS4We",
        "outputId": "c8579b27-a731-40e5-84b6-fa6ba07e5c15"
      },
      "execution_count": 56,
      "outputs": [
        {
          "output_type": "execute_result",
          "data": {
            "text/plain": [
              "[parts {\n",
              "   text: \"What is FC?FC lets developers create a description\\nof a F in their code, then pass that description to a language\\nmodel in a request.\\n\\nThe response from the model includes the name of\\na F that matches the description and the arguments to call it with.\\nFC lets you use F as tools in generative AI applications,\\nand you can define more than one F within a single request.\\n\"\n",
              " }\n",
              " role: \"user\",\n",
              " parts {\n",
              "   text: \"I don\\'t know.\\n\\nThe provided text explains that FC is a system that allows developers to describe functions (Fs) in their code and then use a language model to find a matching function and its arguments. However, it does not explicitly define what FC stands for. \\n\"\n",
              " }\n",
              " role: \"model\"]"
            ]
          },
          "metadata": {},
          "execution_count": 56
        }
      ]
    },
    {
      "cell_type": "code",
      "source": [
        "RAG_LLM.history.clear()\n",
        "RAG_LLM.history"
      ],
      "metadata": {
        "colab": {
          "base_uri": "https://localhost:8080/"
        },
        "id": "KeAwg653TGd1",
        "outputId": "77671019-d24c-41a2-bb81-314c04c87c67"
      },
      "execution_count": 57,
      "outputs": [
        {
          "output_type": "execute_result",
          "data": {
            "text/plain": [
              "[]"
            ]
          },
          "metadata": {},
          "execution_count": 57
        }
      ]
    },
    {
      "cell_type": "markdown",
      "source": [
        "# CREATE THE RAG PIPELINE FOR THE EXISTING KNOWLEDGE BASE"
      ],
      "metadata": {
        "id": "jFM__cIVTO47"
      }
    },
    {
      "cell_type": "markdown",
      "source": [
        "## 1 A simple RAG Pipeline\n",
        "\n",
        "* preparea summary for the Knowledge Base\n",
        "* get the query from the user\n",
        "* query the Knowledge Base\n",
        "* get the related chunks from the Knowledge Base\n",
        "* combine the query + context from Knowledge Base\n",
        "* submit the prompt (query + context) to the LLM\n",
        "* get the response from the LLM"
      ],
      "metadata": {
        "id": "TKbz2uZPYJax"
      }
    },
    {
      "cell_type": "code",
      "source": [
        "# Verify collection properties\n",
        "print(f\"Collection name: {chroma_collection.name}\")  # Access the name attribute directly\n",
        "print(f\"Number of documents in collection: {chroma_collection.count()}\")\n",
        "\n",
        "# List all collections in the client\n",
        "print(\"All collections in ChromaDB client:\")\n",
        "for collection in chroma_client.list_collections():\n",
        "    print(collection.name)"
      ],
      "metadata": {
        "colab": {
          "base_uri": "https://localhost:8080/"
        },
        "id": "owr3yfjnba2W",
        "outputId": "fd53aa95-fe59-474d-8f66-29b282669aaa"
      },
      "execution_count": 58,
      "outputs": [
        {
          "output_type": "stream",
          "name": "stdout",
          "text": [
            "Collection name: Papers\n",
            "Number of documents in collection: 238\n",
            "All collections in ChromaDB client:\n",
            "Papers\n"
          ]
        }
      ]
    },
    {
      "source": [
        "def summarize_collection(chroma_collection):\n",
        "  summary = [] # Initialize summary as a list\n",
        "  print(\"Summarizing the collection...\")\n",
        "  # Verify collection properties\n",
        "  print(f\"\\t Collection name: {chroma_collection.name}\")  # Access the name attribute directly\n",
        "  print(f\"\\t Number of document chunks in collection: {chroma_collection.count()}\")\n",
        "  summary.append(f\"Collection name: {chroma_collection.name}\") # Append to the list\n",
        "  summary.append(f\"Number of document chunks in collection: {chroma_collection.count()}\")\n",
        "  # Print distinct metadata \"document\" for each chunk in the collection\n",
        "  print(\"\\t Distinct 'document' metadata in the collection:\")\n",
        "  distinct_documents = set()  # Use a set to store unique document names\n",
        "\n",
        "  # Iterate over chunks in the collection\n",
        "  for chunk_id in range(chroma_collection.count()):\n",
        "      metadata = chroma_collection.get([str(chunk_id)])['metadatas'][0]  # Get metadata for the chunk\n",
        "      document_name = metadata.get(\"document\", \"Unknown\")  # Get document metadata; default to \"Unknown\" if not present\n",
        "      distinct_documents.add(document_name)  # Add document name to set for uniqueness\n",
        "\n",
        "  # Print all distinct document names\n",
        "  summary.append(\"Documents:\")\n",
        "  for document_name in distinct_documents:\n",
        "      print(\"\\t \",document_name)\n",
        "      summary.append(document_name) # Append to the list\n",
        "\n",
        "  print(\"Collection summarization completed.\")\n",
        "\n",
        "  # Join the list elements into a single string\n",
        "  summary_string = \"\\n \".join(summary)\n",
        "  return summary_string"
      ],
      "cell_type": "code",
      "metadata": {
        "id": "RYSGrIVMsUNf"
      },
      "execution_count": 59,
      "outputs": []
    },
    {
      "cell_type": "code",
      "source": [
        "s=summarize_collection(chroma_collection)"
      ],
      "metadata": {
        "colab": {
          "base_uri": "https://localhost:8080/"
        },
        "id": "B-7CShpCcrX2",
        "outputId": "74090c80-9d3f-4fc1-9e99-24bcb586e604"
      },
      "execution_count": 60,
      "outputs": [
        {
          "output_type": "stream",
          "name": "stdout",
          "text": [
            "Summarizing the collection...\n",
            "\t Collection name: Papers\n",
            "\t Number of document chunks in collection: 238\n",
            "\t Distinct 'document' metadata in the collection:\n",
            "\t  15 UAV Route Planning For Maximum Target Coverage ABSTRACT (2).pdf\n",
            "\t  30 Time-Sensitive Ant Colony Optimization ORIGINAL (2).pdf\n",
            "\t  29 Mobile Sink Scheduling Method for Wireless Sensor Networks under Travel Time Uncertainty ABSTRACT (3).pdf\n",
            "\t  73 Analyzing Students Academic Success (2).pdf\n",
            "\t  77 Arac Park Yerlerinin Doluluk (2).pdf\n",
            "Collection summarization completed.\n"
          ]
        }
      ]
    },
    {
      "cell_type": "code",
      "source": [
        "print(s)"
      ],
      "metadata": {
        "colab": {
          "base_uri": "https://localhost:8080/"
        },
        "id": "tIYVjyfhshd2",
        "outputId": "c1d34fc5-b620-4087-d4fe-19e9bc4e1e04"
      },
      "execution_count": 61,
      "outputs": [
        {
          "output_type": "stream",
          "name": "stdout",
          "text": [
            "Collection name: Papers\n",
            " Number of document chunks in collection: 238\n",
            " Documents:\n",
            " 15 UAV Route Planning For Maximum Target Coverage ABSTRACT (2).pdf\n",
            " 30 Time-Sensitive Ant Colony Optimization ORIGINAL (2).pdf\n",
            " 29 Mobile Sink Scheduling Method for Wireless Sensor Networks under Travel Time Uncertainty ABSTRACT (3).pdf\n",
            " 73 Analyzing Students Academic Success (2).pdf\n",
            " 77 Arac Park Yerlerinin Doluluk (2).pdf\n"
          ]
        }
      ]
    },
    {
      "cell_type": "code",
      "source": [
        "def generateAnswer(RAG_LLM, chroma_collection,query,n_results=5, only_response=True):\n",
        "    retrieved_documents= retrieveDocs(chroma_collection, query, 10, return_only_docs=True)\n",
        "    prompt = \"QUESTION: \"+ query\n",
        "    context = \"\\n EXCERPTS: \"+ \"\\n\".join(retrieved_documents)\n",
        "    if not only_response:\n",
        "      print(\"------- retreived documents -------\\n\")\n",
        "      for i, doc in enumerate(retrieved_documents):\n",
        "        print(f\"Document {i+1}:\")\n",
        "        print(f\"\\tDocument Text: {doc}\")\n",
        "      print(\"------- RAG answer -------\\n\")\n",
        "    output = generate_LLM_answer(prompt, context, RAG_LLM)\n",
        "\n",
        "    display(to_markdown(output))\n",
        "    print('\\n')\n",
        "    return output"
      ],
      "metadata": {
        "id": "sHBw828MYHbU"
      },
      "execution_count": 63,
      "outputs": []
    },
    {
      "cell_type": "markdown",
      "source": [
        "## 2 Test the RAG pipeline"
      ],
      "metadata": {
        "id": "i87q584BY_l5"
      }
    },
    {
      "cell_type": "code",
      "source": [
        "queries =[\"Who are the authors suggested a new attention mechanism?\",\n",
        "          \"Who are the authors suggested a new controllable text generation mechanism?\",\n",
        "          \"Who is Murat Karakaya?\",\n",
        "          \"Why do we need to control how the text is produced? \",\n",
        "          \"How can we use the self attention mechanism to control the text generation?\",\n",
        "          \"Summarize the paper named Controllable Text Generation\",\n",
        "          \"How many blocks are suggested in the transformer?\",\n",
        "          \"What about decoder?\"\n",
        "    ]"
      ],
      "metadata": {
        "id": "IQuoIhc_URCD"
      },
      "execution_count": 64,
      "outputs": []
    },
    {
      "cell_type": "code",
      "source": [
        "reply=generateAnswer(RAG_LLM, chroma_collection, queries[2],10, only_response=False)"
      ],
      "metadata": {
        "id": "eNGtY7_qRHRl",
        "colab": {
          "base_uri": "https://localhost:8080/",
          "height": 623
        },
        "outputId": "fb73424a-c0f5-4b51-a302-05665a23c63a"
      },
      "execution_count": 65,
      "outputs": [
        {
          "output_type": "stream",
          "name": "stdout",
          "text": [
            "------- retreived documents -------\n",
            "\n",
            "Document 1:\n",
            "\tDocument Text: 78 M URAT KARAKAYA TSACO MWSF N μσ μ σ Impro vement ON 900 93. 23 14. 64 109. 33 12. 4 15 % 625 32. 13 8. 50 47. 83 10. 41 33 % 400 6. 76 2. 48 11. 23 3. 86 40 % 225 2. 43 1. 25 3. 03 1. 69 20 % 100 0. 96 0. 88 1. 06 0. 98 9 % TABLE 3Average Number ( μ ) of [UNK] caused by TSACO and MWSF heuristics for different num - be\n",
            "Document 2:\n",
            "\tDocument Text: ediyor. İlgi alanları arasında yapay zeka ve derin öğrenme konuları bulunuyor. Yazılım mühendisi olarak özel bir şirkette çalışmaya devam etmektedir. B. Murat Karakaya KHO Elektrik - Elektronik Mühendisliği nden lisans, Bilkent Üniversitesinden Bilgisayar Mühendisliğinden Yüksek Lisans ve Doktora derecelerini sırasıyla 1991, 2000 ve 2008 yılında almıştır. Şu anda A tılım Üniversitesi Bilgisayar Mühendisliği bölümünde Doç. Dr\n",
            "Document 3:\n",
            "\tDocument Text: Second, the considered chainedcourses are limited to three mathematical courses ( Calculus I, Calculus II, and [UNK] Equa - tions ). Third, among the several curriculum devel - opment methods, only two ( Spiral and Linear ) areselected for this research. Lastly, since there are [UNK] records stating which courses were designed according to which curriculum development meth - odology, the [UNK] of the chains are doneaccording to the [UNK] of the cirriculum devel - opment methods. Murat Karakaya et al. 368\n",
            "Document 4:\n",
            "\tDocument Text: . edu. tr ). Mobile Sink Scheduling Method for Wireless Sensor Networks under Travel Time Uncertainty Murat KARAKAYA, Member, SAISE Author [UNK] s formal photo\n",
            "Document 5:\n",
            "\tDocument Text: 70 M URAT KARAKAYA FIGURE 1 A sample schedule showing the dynamic nature of the MES. ( distance ). In essence, the solution to a TSP is to construct a minimum dis - tance circuit passing through each vertex once and only once. Therefore, thecost of a solution depends on the distances among the towns. These prob - lem characteristics - town locations and distances - do not change during the development of a solution. On the other hand, in dynamic problems, problemcharacteristics can be changed over time as a solution is being generated. The MES\n",
            "Document 6:\n",
            "\tDocument Text: 74 M URAT KARAKAYA where αandβare two weight parameters, which affect the relative [UNK] of the pheromone trail and the heuristic information. Nk iis the set of candi - date sensors to visit next once ant karrives at the sensor iat the time t. Nk i does not contain either the sensors which are not accessible from the sensor i before their [UNK] time, or the sensor iitself. The probability of choosing all those excluded sensors is assigned as 0. For the pheromone values, if it is the [UNK] time an ant\n",
            "Document 7:\n",
            "\tDocument Text: , Communications and Information Systems ( MEBS ) and Turkish Military Academy ( KHO ), Ankara, Turkey. He joined the faculty of Atilim University in 2012 and is currently an Asst. Professor in the department of Computer Engineering, Ankara, Turkey. His research interests are natural computi ng, sensor networks, peer - to - peer networks, natural computing, optimization, and communications protocol design. He is a member of IACSIT. M. Karakaya is with the Department of Computer Engineering, Atilim University, Ankara, Turkey ( e - mail : murat. karakata @ atilim\n",
            "Document 8:\n",
            "\tDocument Text: Analyzing Students [UNK] Academic Success in Pre - requisite Course Chains : A Case Study in Turkey * MURAT KARAKAYA, MELTEM ERYILMAZ and ULAS CEYHAN Dept. of Computer Engineering, Atilim University, Kızılcaıs [UNK] Mahalles [UNK], 06830 Incek Go ¨lbas [UNK], Ankara, Turkey. E - mail : murat. karakaya @ atilim. edu. tr There are several principles which have been accepted as approaches to successful curriculum development. In spite of the [UNK] in the proposed se\n",
            "Document 9:\n",
            "\tDocument Text: ##utu ( M B ) PKLot - 1 99, 8 / 99, 5 01 : 23 / 08 : 43 5, 5 / 87, 7 PKLot - 2 99, 9 / 99, 6 0 0 : 50 / 05 : 11 5, 5 / 87, 7 PKLot - 3 99,\n",
            "Document 10:\n",
            "\tDocument Text: UAV Route Planning For Maximum Target Coverage Murat Karakaya Department of Computer Engineering, Atilim University Incek / Ankara TURKEY kmkarakaya @ atilim. edu. tr Abstract The importance and the impact of using Unmanned Aerial Vehicles ( UAVs ) in military and civil operations are increasing. One of the challenges in effectively tasking these expensive vehicles is planning the flight routes to monitor the targets. This problem is related with the Multiple Travelling Salesman Problem ( mTSP ) and the Vehicle Routing Problem ( VRP ). In these well - defined problem\n",
            "------- RAG answer -------\n",
            "\n"
          ]
        },
        {
          "output_type": "display_data",
          "data": {
            "text/plain": [
              "<IPython.core.display.Markdown object>"
            ],
            "text/markdown": "> Murat Karakaya is an Assistant Professor in the Computer Engineering department at Atilim University in Ankara, Turkey. \n> \n> Here's how we know:\n> \n> 1. The text states \"Murat Karakaya et al. 368\". This tells us that he's involved in research and likely a professor.\n> 2. Later, the text states \"He joined the faculty of Atilim University in 2012 and is currently an Asst. Professor in the department of Computer Engineering, Ankara, Turkey.\" This confirms his position and location. \n"
          },
          "metadata": {}
        },
        {
          "output_type": "stream",
          "name": "stdout",
          "text": [
            "\n",
            "\n"
          ]
        }
      ]
    },
    {
      "cell_type": "markdown",
      "source": [
        "## 3 A simple loop for the User Interaction"
      ],
      "metadata": {
        "id": "MMMesAl_TjHn"
      }
    },
    {
      "cell_type": "code",
      "source": [
        "summarize_collection(chroma_collection)\n",
        "RAG_LLM.history.clear()\n",
        "while True:\n",
        "  question = input(\"Please enter your question, or type 'bye' to exit: \")\n",
        "  if question == \"bye\":\n",
        "    print(\"Thank you for using the service. Goodbye!\")\n",
        "    break\n",
        "  else:\n",
        "    generateAnswer(RAG_LLM, chroma_collection, question)\n",
        "\n",
        "\n"
      ],
      "metadata": {
        "colab": {
          "base_uri": "https://localhost:8080/"
        },
        "id": "y6fOinIoTt5e",
        "outputId": "aa1996bb-0522-492e-bd51-fbfb1cf6bfa5"
      },
      "execution_count": 67,
      "outputs": [
        {
          "output_type": "stream",
          "name": "stdout",
          "text": [
            "Summarizing the collection...\n",
            "\t Collection name: Papers\n",
            "\t Number of document chunks in collection: 238\n",
            "\t Distinct 'document' metadata in the collection:\n",
            "\t  15 UAV Route Planning For Maximum Target Coverage ABSTRACT (2).pdf\n",
            "\t  30 Time-Sensitive Ant Colony Optimization ORIGINAL (2).pdf\n",
            "\t  29 Mobile Sink Scheduling Method for Wireless Sensor Networks under Travel Time Uncertainty ABSTRACT (3).pdf\n",
            "\t  73 Analyzing Students Academic Success (2).pdf\n",
            "\t  77 Arac Park Yerlerinin Doluluk (2).pdf\n",
            "Collection summarization completed.\n",
            "Please enter your question, or type 'bye' to exit: bye\n",
            "Thank you for using the service. Goodbye!\n"
          ]
        }
      ]
    },
    {
      "cell_type": "markdown",
      "source": [
        "## 4 A Gradio Interface"
      ],
      "metadata": {
        "id": "9TCXZkVWTUF9"
      }
    },
    {
      "cell_type": "code",
      "source": [
        "%pip install gradio\n",
        "import gradio as gr\n"
      ],
      "metadata": {
        "id": "LDfjbm8JiVE2",
        "colab": {
          "base_uri": "https://localhost:8080/"
        },
        "outputId": "6ecaeac0-93d2-4736-b70f-e538c4cf354d"
      },
      "execution_count": 68,
      "outputs": [
        {
          "output_type": "stream",
          "name": "stdout",
          "text": [
            "Collecting gradio\n",
            "  Downloading gradio-4.37.1-py3-none-any.whl (12.3 MB)\n",
            "\u001b[2K     \u001b[90m━━━━━━━━━━━━━━━━━━━━━━━━━━━━━━━━━━━━━━━━\u001b[0m \u001b[32m12.3/12.3 MB\u001b[0m \u001b[31m32.7 MB/s\u001b[0m eta \u001b[36m0:00:00\u001b[0m\n",
            "\u001b[?25hCollecting aiofiles<24.0,>=22.0 (from gradio)\n",
            "  Downloading aiofiles-23.2.1-py3-none-any.whl (15 kB)\n",
            "Requirement already satisfied: altair<6.0,>=4.2.0 in /usr/local/lib/python3.10/dist-packages (from gradio) (4.2.2)\n",
            "Requirement already satisfied: fastapi in /usr/local/lib/python3.10/dist-packages (from gradio) (0.111.0)\n",
            "Collecting ffmpy (from gradio)\n",
            "  Downloading ffmpy-0.3.2.tar.gz (5.5 kB)\n",
            "  Preparing metadata (setup.py) ... \u001b[?25l\u001b[?25hdone\n",
            "Collecting gradio-client==1.0.2 (from gradio)\n",
            "  Downloading gradio_client-1.0.2-py3-none-any.whl (318 kB)\n",
            "\u001b[2K     \u001b[90m━━━━━━━━━━━━━━━━━━━━━━━━━━━━━━━━━━━━━━━━\u001b[0m \u001b[32m318.2/318.2 kB\u001b[0m \u001b[31m17.4 MB/s\u001b[0m eta \u001b[36m0:00:00\u001b[0m\n",
            "\u001b[?25hRequirement already satisfied: httpx>=0.24.1 in /usr/local/lib/python3.10/dist-packages (from gradio) (0.27.0)\n",
            "Requirement already satisfied: huggingface-hub>=0.19.3 in /usr/local/lib/python3.10/dist-packages (from gradio) (0.23.4)\n",
            "Requirement already satisfied: importlib-resources<7.0,>=1.3 in /usr/local/lib/python3.10/dist-packages (from gradio) (6.4.0)\n",
            "Requirement already satisfied: jinja2<4.0 in /usr/local/lib/python3.10/dist-packages (from gradio) (3.1.4)\n",
            "Requirement already satisfied: markupsafe~=2.0 in /usr/local/lib/python3.10/dist-packages (from gradio) (2.1.5)\n",
            "Requirement already satisfied: matplotlib~=3.0 in /usr/local/lib/python3.10/dist-packages (from gradio) (3.7.1)\n",
            "Requirement already satisfied: numpy<3.0,>=1.0 in /usr/local/lib/python3.10/dist-packages (from gradio) (1.25.2)\n",
            "Requirement already satisfied: orjson~=3.0 in /usr/local/lib/python3.10/dist-packages (from gradio) (3.10.5)\n",
            "Requirement already satisfied: packaging in /usr/local/lib/python3.10/dist-packages (from gradio) (24.1)\n",
            "Requirement already satisfied: pandas<3.0,>=1.0 in /usr/local/lib/python3.10/dist-packages (from gradio) (2.0.3)\n",
            "Requirement already satisfied: pillow<11.0,>=8.0 in /usr/local/lib/python3.10/dist-packages (from gradio) (9.4.0)\n",
            "Requirement already satisfied: pydantic>=2.0 in /usr/local/lib/python3.10/dist-packages (from gradio) (2.7.4)\n",
            "Collecting pydub (from gradio)\n",
            "  Downloading pydub-0.25.1-py2.py3-none-any.whl (32 kB)\n",
            "Requirement already satisfied: python-multipart>=0.0.9 in /usr/local/lib/python3.10/dist-packages (from gradio) (0.0.9)\n",
            "Requirement already satisfied: pyyaml<7.0,>=5.0 in /usr/local/lib/python3.10/dist-packages (from gradio) (6.0.1)\n",
            "Collecting ruff>=0.2.2 (from gradio)\n",
            "  Downloading ruff-0.4.10-py3-none-manylinux_2_17_x86_64.manylinux2014_x86_64.whl (10.0 MB)\n",
            "\u001b[2K     \u001b[90m━━━━━━━━━━━━━━━━━━━━━━━━━━━━━━━━━━━━━━━━\u001b[0m \u001b[32m10.0/10.0 MB\u001b[0m \u001b[31m49.2 MB/s\u001b[0m eta \u001b[36m0:00:00\u001b[0m\n",
            "\u001b[?25hCollecting semantic-version~=2.0 (from gradio)\n",
            "  Downloading semantic_version-2.10.0-py2.py3-none-any.whl (15 kB)\n",
            "Collecting tomlkit==0.12.0 (from gradio)\n",
            "  Downloading tomlkit-0.12.0-py3-none-any.whl (37 kB)\n",
            "Requirement already satisfied: typer<1.0,>=0.12 in /usr/local/lib/python3.10/dist-packages (from gradio) (0.12.3)\n",
            "Requirement already satisfied: typing-extensions~=4.0 in /usr/local/lib/python3.10/dist-packages (from gradio) (4.12.2)\n",
            "Requirement already satisfied: urllib3~=2.0 in /usr/local/lib/python3.10/dist-packages (from gradio) (2.0.7)\n",
            "Requirement already satisfied: uvicorn>=0.14.0 in /usr/local/lib/python3.10/dist-packages (from gradio) (0.30.1)\n",
            "Requirement already satisfied: fsspec in /usr/local/lib/python3.10/dist-packages (from gradio-client==1.0.2->gradio) (2023.6.0)\n",
            "Collecting websockets<12.0,>=10.0 (from gradio-client==1.0.2->gradio)\n",
            "  Downloading websockets-11.0.3-cp310-cp310-manylinux_2_5_x86_64.manylinux1_x86_64.manylinux_2_17_x86_64.manylinux2014_x86_64.whl (129 kB)\n",
            "\u001b[2K     \u001b[90m━━━━━━━━━━━━━━━━━━━━━━━━━━━━━━━━━━━━━━━━\u001b[0m \u001b[32m129.9/129.9 kB\u001b[0m \u001b[31m15.6 MB/s\u001b[0m eta \u001b[36m0:00:00\u001b[0m\n",
            "\u001b[?25hRequirement already satisfied: entrypoints in /usr/local/lib/python3.10/dist-packages (from altair<6.0,>=4.2.0->gradio) (0.4)\n",
            "Requirement already satisfied: jsonschema>=3.0 in /usr/local/lib/python3.10/dist-packages (from altair<6.0,>=4.2.0->gradio) (4.19.2)\n",
            "Requirement already satisfied: toolz in /usr/local/lib/python3.10/dist-packages (from altair<6.0,>=4.2.0->gradio) (0.12.1)\n",
            "Requirement already satisfied: anyio in /usr/local/lib/python3.10/dist-packages (from httpx>=0.24.1->gradio) (3.7.1)\n",
            "Requirement already satisfied: certifi in /usr/local/lib/python3.10/dist-packages (from httpx>=0.24.1->gradio) (2024.6.2)\n",
            "Requirement already satisfied: httpcore==1.* in /usr/local/lib/python3.10/dist-packages (from httpx>=0.24.1->gradio) (1.0.5)\n",
            "Requirement already satisfied: idna in /usr/local/lib/python3.10/dist-packages (from httpx>=0.24.1->gradio) (3.7)\n",
            "Requirement already satisfied: sniffio in /usr/local/lib/python3.10/dist-packages (from httpx>=0.24.1->gradio) (1.3.1)\n",
            "Requirement already satisfied: h11<0.15,>=0.13 in /usr/local/lib/python3.10/dist-packages (from httpcore==1.*->httpx>=0.24.1->gradio) (0.14.0)\n",
            "Requirement already satisfied: filelock in /usr/local/lib/python3.10/dist-packages (from huggingface-hub>=0.19.3->gradio) (3.15.3)\n",
            "Requirement already satisfied: requests in /usr/local/lib/python3.10/dist-packages (from huggingface-hub>=0.19.3->gradio) (2.31.0)\n",
            "Requirement already satisfied: tqdm>=4.42.1 in /usr/local/lib/python3.10/dist-packages (from huggingface-hub>=0.19.3->gradio) (4.66.4)\n",
            "Requirement already satisfied: contourpy>=1.0.1 in /usr/local/lib/python3.10/dist-packages (from matplotlib~=3.0->gradio) (1.2.1)\n",
            "Requirement already satisfied: cycler>=0.10 in /usr/local/lib/python3.10/dist-packages (from matplotlib~=3.0->gradio) (0.12.1)\n",
            "Requirement already satisfied: fonttools>=4.22.0 in /usr/local/lib/python3.10/dist-packages (from matplotlib~=3.0->gradio) (4.53.0)\n",
            "Requirement already satisfied: kiwisolver>=1.0.1 in /usr/local/lib/python3.10/dist-packages (from matplotlib~=3.0->gradio) (1.4.5)\n",
            "Requirement already satisfied: pyparsing>=2.3.1 in /usr/local/lib/python3.10/dist-packages (from matplotlib~=3.0->gradio) (3.1.2)\n",
            "Requirement already satisfied: python-dateutil>=2.7 in /usr/local/lib/python3.10/dist-packages (from matplotlib~=3.0->gradio) (2.8.2)\n",
            "Requirement already satisfied: pytz>=2020.1 in /usr/local/lib/python3.10/dist-packages (from pandas<3.0,>=1.0->gradio) (2023.4)\n",
            "Requirement already satisfied: tzdata>=2022.1 in /usr/local/lib/python3.10/dist-packages (from pandas<3.0,>=1.0->gradio) (2024.1)\n",
            "Requirement already satisfied: annotated-types>=0.4.0 in /usr/local/lib/python3.10/dist-packages (from pydantic>=2.0->gradio) (0.7.0)\n",
            "Requirement already satisfied: pydantic-core==2.18.4 in /usr/local/lib/python3.10/dist-packages (from pydantic>=2.0->gradio) (2.18.4)\n",
            "Requirement already satisfied: click>=8.0.0 in /usr/local/lib/python3.10/dist-packages (from typer<1.0,>=0.12->gradio) (8.1.7)\n",
            "Requirement already satisfied: shellingham>=1.3.0 in /usr/local/lib/python3.10/dist-packages (from typer<1.0,>=0.12->gradio) (1.5.4)\n",
            "Requirement already satisfied: rich>=10.11.0 in /usr/local/lib/python3.10/dist-packages (from typer<1.0,>=0.12->gradio) (13.7.1)\n",
            "Requirement already satisfied: starlette<0.38.0,>=0.37.2 in /usr/local/lib/python3.10/dist-packages (from fastapi->gradio) (0.37.2)\n",
            "Requirement already satisfied: fastapi-cli>=0.0.2 in /usr/local/lib/python3.10/dist-packages (from fastapi->gradio) (0.0.4)\n",
            "Requirement already satisfied: ujson!=4.0.2,!=4.1.0,!=4.2.0,!=4.3.0,!=5.0.0,!=5.1.0,>=4.0.1 in /usr/local/lib/python3.10/dist-packages (from fastapi->gradio) (5.10.0)\n",
            "Requirement already satisfied: email_validator>=2.0.0 in /usr/local/lib/python3.10/dist-packages (from fastapi->gradio) (2.2.0)\n",
            "Requirement already satisfied: dnspython>=2.0.0 in /usr/local/lib/python3.10/dist-packages (from email_validator>=2.0.0->fastapi->gradio) (2.6.1)\n",
            "Requirement already satisfied: attrs>=22.2.0 in /usr/local/lib/python3.10/dist-packages (from jsonschema>=3.0->altair<6.0,>=4.2.0->gradio) (23.2.0)\n",
            "Requirement already satisfied: jsonschema-specifications>=2023.03.6 in /usr/local/lib/python3.10/dist-packages (from jsonschema>=3.0->altair<6.0,>=4.2.0->gradio) (2023.12.1)\n",
            "Requirement already satisfied: referencing>=0.28.4 in /usr/local/lib/python3.10/dist-packages (from jsonschema>=3.0->altair<6.0,>=4.2.0->gradio) (0.35.1)\n",
            "Requirement already satisfied: rpds-py>=0.7.1 in /usr/local/lib/python3.10/dist-packages (from jsonschema>=3.0->altair<6.0,>=4.2.0->gradio) (0.18.1)\n",
            "Requirement already satisfied: six>=1.5 in /usr/local/lib/python3.10/dist-packages (from python-dateutil>=2.7->matplotlib~=3.0->gradio) (1.16.0)\n",
            "Requirement already satisfied: markdown-it-py>=2.2.0 in /usr/local/lib/python3.10/dist-packages (from rich>=10.11.0->typer<1.0,>=0.12->gradio) (3.0.0)\n",
            "Requirement already satisfied: pygments<3.0.0,>=2.13.0 in /usr/local/lib/python3.10/dist-packages (from rich>=10.11.0->typer<1.0,>=0.12->gradio) (2.16.1)\n",
            "Requirement already satisfied: exceptiongroup in /usr/local/lib/python3.10/dist-packages (from anyio->httpx>=0.24.1->gradio) (1.2.1)\n",
            "Requirement already satisfied: httptools>=0.5.0 in /usr/local/lib/python3.10/dist-packages (from uvicorn>=0.14.0->gradio) (0.6.1)\n",
            "Requirement already satisfied: python-dotenv>=0.13 in /usr/local/lib/python3.10/dist-packages (from uvicorn>=0.14.0->gradio) (1.0.1)\n",
            "Requirement already satisfied: uvloop!=0.15.0,!=0.15.1,>=0.14.0 in /usr/local/lib/python3.10/dist-packages (from uvicorn>=0.14.0->gradio) (0.19.0)\n",
            "Requirement already satisfied: watchfiles>=0.13 in /usr/local/lib/python3.10/dist-packages (from uvicorn>=0.14.0->gradio) (0.22.0)\n",
            "Requirement already satisfied: charset-normalizer<4,>=2 in /usr/local/lib/python3.10/dist-packages (from requests->huggingface-hub>=0.19.3->gradio) (3.3.2)\n",
            "Requirement already satisfied: mdurl~=0.1 in /usr/local/lib/python3.10/dist-packages (from markdown-it-py>=2.2.0->rich>=10.11.0->typer<1.0,>=0.12->gradio) (0.1.2)\n",
            "Building wheels for collected packages: ffmpy\n",
            "  Building wheel for ffmpy (setup.py) ... \u001b[?25l\u001b[?25hdone\n",
            "  Created wheel for ffmpy: filename=ffmpy-0.3.2-py3-none-any.whl size=5584 sha256=cc62617d759107517160a75fdeb0b7d160d9e0f7b0341c2fc2ce738abd693cc6\n",
            "  Stored in directory: /root/.cache/pip/wheels/bd/65/9a/671fc6dcde07d4418df0c592f8df512b26d7a0029c2a23dd81\n",
            "Successfully built ffmpy\n",
            "Installing collected packages: pydub, ffmpy, websockets, tomlkit, semantic-version, ruff, aiofiles, gradio-client, gradio\n",
            "  Attempting uninstall: websockets\n",
            "    Found existing installation: websockets 12.0\n",
            "    Uninstalling websockets-12.0:\n",
            "      Successfully uninstalled websockets-12.0\n",
            "Successfully installed aiofiles-23.2.1 ffmpy-0.3.2 gradio-4.37.1 gradio-client-1.0.2 pydub-0.25.1 ruff-0.4.10 semantic-version-2.10.0 tomlkit-0.12.0 websockets-11.0.3\n"
          ]
        }
      ]
    },
    {
      "cell_type": "code",
      "source": [
        "RAG_LLM.history.clear()\n",
        "\n",
        "# Replace with your actual function (assuming it generates an answer)\n",
        "def generateAnswerInterFace(question):\n",
        "    return generateAnswer(RAG_LLM, chroma_collection, question)\n",
        "\n",
        "# Function to generate the info text\n",
        "def get_info_text():\n",
        "    return \"INFO: \" + summarize_collection(chroma_collection)\n",
        "    # Assuming summarize_collection returns a string\n",
        "\n",
        "# Use gr.Blocks instead of gr.Interface\n",
        "with gr.Blocks() as demo:\n",
        "    # Define interface components\n",
        "    query_txt = gr.Textbox(label=\"Enter your question here:\", placeholder=\"Type your question\")\n",
        "    answer_txt = gr.Textbox(label=\"Answer:\", placeholder=\"Answer will be displayed here\")\n",
        "\n",
        "    # Create a button to trigger the prediction\n",
        "    btn = gr.Button(\"Generate Answer\")\n",
        "\n",
        "    # Define the prediction function (order changed for button placement)\n",
        "    def predict(question):\n",
        "        answer = generateAnswerInterFace(question)\n",
        "        return answer\n",
        "\n",
        "    info_txt = gr.Textbox(get_info_text(), label=\"Info\")  # Add info textbox after button\n",
        "\n",
        "    # Connect button click to prediction function\n",
        "    btn.click(predict, inputs=query_txt, outputs=answer_txt)\n",
        "\n",
        "# Launch the interface\n",
        "demo.launch(debug=True)\n"
      ],
      "metadata": {
        "colab": {
          "base_uri": "https://localhost:8080/",
          "height": 1000
        },
        "id": "1qt3Tgf8vwdL",
        "outputId": "361a4521-0d22-434d-a03b-3b8bbb3bc087"
      },
      "execution_count": 69,
      "outputs": [
        {
          "output_type": "stream",
          "name": "stdout",
          "text": [
            "Summarizing the collection...\n",
            "\t Collection name: Papers\n",
            "\t Number of document chunks in collection: 238\n",
            "\t Distinct 'document' metadata in the collection:\n",
            "\t  15 UAV Route Planning For Maximum Target Coverage ABSTRACT (2).pdf\n",
            "\t  30 Time-Sensitive Ant Colony Optimization ORIGINAL (2).pdf\n",
            "\t  29 Mobile Sink Scheduling Method for Wireless Sensor Networks under Travel Time Uncertainty ABSTRACT (3).pdf\n",
            "\t  73 Analyzing Students Academic Success (2).pdf\n",
            "\t  77 Arac Park Yerlerinin Doluluk (2).pdf\n",
            "Collection summarization completed.\n",
            "Setting queue=True in a Colab notebook requires sharing enabled. Setting `share=True` (you can turn this off by setting `share=False` in `launch()` explicitly).\n",
            "\n",
            "Colab notebook detected. This cell will run indefinitely so that you can see errors and logs. To turn off, set debug=False in launch().\n",
            "Running on public URL: https://441f494ec374292a3b.gradio.live\n",
            "\n",
            "This share link expires in 72 hours. For free permanent hosting and GPU upgrades, run `gradio deploy` from Terminal to deploy to Spaces (https://huggingface.co/spaces)\n"
          ]
        },
        {
          "output_type": "display_data",
          "data": {
            "text/plain": [
              "<IPython.core.display.HTML object>"
            ],
            "text/html": [
              "<div><iframe src=\"https://441f494ec374292a3b.gradio.live\" width=\"100%\" height=\"500\" allow=\"autoplay; camera; microphone; clipboard-read; clipboard-write;\" frameborder=\"0\" allowfullscreen></iframe></div>"
            ]
          },
          "metadata": {}
        },
        {
          "output_type": "display_data",
          "data": {
            "text/plain": [
              "<IPython.core.display.Markdown object>"
            ],
            "text/markdown": "> Murat Karakaya is an Assistant Professor in the Department of Computer Engineering at Atilim University in Ankara, Turkey. He received his Bachelor's degree in Electrical and Electronics Engineering from KHO, his Master's degree in Computer Engineering from Bilkent University, and his PhD in Computer Engineering from Bilkent University in 1991, 2000, and 2008, respectively. His research interests include natural computing, sensor networks, peer-to-peer networks, natural computing, optimization, and communication protocol design. He is a member of the IACSIT.\n> \n> **Explanation:**\n> \n> * The text explicitly states that Murat Karakaya is an Assistant Professor in the Department of Computer Engineering at Atilim University in Ankara, Turkey.\n> * The text also mentions his academic degrees: Bachelor's degree in Electrical and Electronics Engineering from KHO, Master's degree in Computer Engineering from Bilkent University, and PhD in Computer Engineering from Bilkent University.\n> * The text lists the years he received his degrees: 1991, 2000, and 2008.\n> * The text states his research interests: natural computing, sensor networks, peer-to-peer networks, natural computing, optimization, and communication protocol design.\n> * The text mentions his membership in the IACSIT.\n> \n> Therefore, based on the provided text, we know Murat Karakaya is a computer engineering professor at Atilim University with a strong background in the field.\n"
          },
          "metadata": {}
        },
        {
          "output_type": "stream",
          "name": "stdout",
          "text": [
            "\n",
            "\n"
          ]
        },
        {
          "output_type": "display_data",
          "data": {
            "text/plain": [
              "<IPython.core.display.Markdown object>"
            ],
            "text/markdown": "> Araç park yerlerinin boş olup olmadığını derin öğrenme yöntemleri kullanarak tespit edebiliriz. Bu yöntemde, park yerlerini gösteren görüntüler bir algoritma tarafından analiz edilir ve park yeri boş mu yoksa dolu mu olduğuna karar verilir. \n> \n> **Açıklama:**\n> \n> Metinde, park yerlerinin boş veya dolu olup olmadığını belirlemek için \"derin öğrenme yöntemlerinin\" kullanılabileceği belirtiliyor. Ayrıca, park yerleri görüntülerinin bir algoritma tarafından analiz edilerek boş veya dolu olduğuna karar verilebileceği belirtiliyor. Bu nedenle, derin öğrenme yöntemlerinin bu görevi yerine getirmek için kullanılabileceği sonucuna varabiliyoruz. \n"
          },
          "metadata": {}
        },
        {
          "output_type": "stream",
          "name": "stdout",
          "text": [
            "\n",
            "\n"
          ]
        },
        {
          "output_type": "display_data",
          "data": {
            "text/plain": [
              "<IPython.core.display.Markdown object>"
            ],
            "text/markdown": "> Konuşmamızda Murat Karakaya'nın kim olduğu, kiminle çalıştığı ve ne yaptığını öğrendik. Ayrıca derin öğrenmenin park yerlerinin doluluk durumunu tespit etmek için nasıl kullanılabileceğini de ele aldık. \n"
          },
          "metadata": {}
        },
        {
          "output_type": "stream",
          "name": "stdout",
          "text": [
            "\n",
            "\n"
          ]
        },
        {
          "output_type": "display_data",
          "data": {
            "text/plain": [
              "<IPython.core.display.Markdown object>"
            ],
            "text/markdown": "> Sorular şunlardı:\n> \n> * Bir dersin başarı oranını etkileyen faktörler nelerdir?\n> * Öğrencilerin bir dersten önceki derslerde başarılı olup olmaması, sonraki derslerde başarılı olma olasılıklarını nasıl etkiler? \n> \n> Bu soruları cevaplamak için 441 öğrenci üzerinde araştırma yapıldı.\n"
          },
          "metadata": {}
        },
        {
          "output_type": "stream",
          "name": "stdout",
          "text": [
            "\n",
            "\n"
          ]
        },
        {
          "output_type": "display_data",
          "data": {
            "text/plain": [
              "<IPython.core.display.Markdown object>"
            ],
            "text/markdown": "> Murat Karakaya, şu anda Atılım Üniversitesi Bilgisayar Mühendisliği bölümünde Doçent Doktor olarak görev yapmaktadır. Yapay zeka ve derin öğrenme alanlarında uzmanlaşmıştır.  KHO Elektrik-Elektronik Mühendisliği bölümünden 1991 yılında lisans, Bilkent Üniversitesi Bilgisayar Mühendisliği bölümünden ise 2000 yılında Yüksek Lisans ve 2008 yılında Doktora derecelerini almıştır. Ayrıca özel bir şirkette yazılım mühendisi olarak da çalışmaktadır. \n> \n> **Açıklama:**\n> \n> Metinde Murat Karakaya'nın şu anda Atılım Üniversitesi Bilgisayar Mühendisliği bölümünde Doçent Doktor olarak görev yaptığı, yapay zeka ve derin öğrenme alanlarında uzmanlaştığı, KHO Elektrik-Elektronik Mühendisliği bölümünden 1991 yılında lisans, Bilkent Üniversitesi Bilgisayar Mühendisliği bölümünden ise 2000 yılında Yüksek Lisans ve 2008 yılında Doktora derecelerini aldığı ve özel bir şirkette yazılım mühendisi olarak çalıştığı belirtilmektedir. \n"
          },
          "metadata": {}
        },
        {
          "output_type": "stream",
          "name": "stdout",
          "text": [
            "\n",
            "\n"
          ]
        },
        {
          "output_type": "display_data",
          "data": {
            "text/plain": [
              "<IPython.core.display.Markdown object>"
            ],
            "text/markdown": "> Sohbetin başından beri şu sorular soruldu:\n> \n> * **Murat Karakaya kimdir?** \n> * **Araç park yerlerinin boş olup olmadığını nasıl tespit edebiliriz?**\n> * **Bir dersin başarı oranını etkileyen faktörler nelerdir?**\n> * **Öğrencilerin bir dersten önceki derslerde başarılı olup olmaması, sonraki derslerde başarılı olma olasılıklarını nasıl etkiler?**\n> \n> Bu sorular, Murat Karakaya'nın kimliği ve derin öğrenme kullanarak park yerlerinin doluluk durumunu nasıl tespit edebileceğimiz hakkında bilgi edinmek için soruldu. Ayrıca,  bir dersin başarı oranını etkileyen faktörleri ve bir dersten önceki derslerde başarılı olmanın sonraki derslerde başarılı olmayı nasıl etkilediğini anlamak için soruldu. \n"
          },
          "metadata": {}
        },
        {
          "output_type": "stream",
          "name": "stdout",
          "text": [
            "\n",
            "\n"
          ]
        },
        {
          "output_type": "display_data",
          "data": {
            "text/plain": [
              "<IPython.core.display.Markdown object>"
            ],
            "text/markdown": "> Eğitim sistemlerinde, öğrencilerin bir sonraki dersi başarıyla tamamlamaları için ön koşul dersleri tamamlamaları gerekir. Ancak, ön koşul dersleri ile takip eden dersler arasındaki ilişkinin öğrencilerin başarı oranına etkisini araştıran çalışmalar sınırlıdır. Bu makale, iki farklı müfredat geliştirme yaklaşımıyla oluşturulan iki ön koşul zinciri üzerinden, bir sonraki dersi başarıyla tamamlamanın ön koşul dersi başarısı ile ilişkisini ve müfredat geliştirme yaklaşımının bu ilişkiye etkisini incelemektedir. \n"
          },
          "metadata": {}
        },
        {
          "output_type": "stream",
          "name": "stdout",
          "text": [
            "\n",
            "\n"
          ]
        },
        {
          "output_type": "display_data",
          "data": {
            "text/plain": [
              "<IPython.core.display.Markdown object>"
            ],
            "text/markdown": "> Verilen metin parçalarında,  iki temel proje hakkında bilgi bulunmaktadır:\n> \n> * **Ön Koşul Dersleri ve Akademik Başarı İlişkisi:** Bu proje, ön koşul dersleri ile takip eden dersler arasındaki ilişkinin öğrencilerin başarı oranına etkisini incelemektedir. İki farklı müfredat geliştirme yaklaşımıyla oluşturulan ön koşul zincirleri analiz edilerek, bir sonraki dersi başarıyla tamamlamanın ön koşul dersi başarısı ile ilişkisine ve müfredat geliştirme yaklaşımının bu ilişkiye etkisine bakılmaktadır. \n> * **Derin Öğrenme ile Park Yeri Doluluk Durumunun Tespit Edilmesi:** Bu proje,  derin öğrenme yöntemlerini kullanarak park yerlerinin doluluk durumunu tespit etmeyi amaçlamaktadır.  Transfer öğrenmesi yöntemiyle son katmanın eğitilmesi ve önceden eğitilmiş diğer katmanların bilgilerinin kullanılması amaçlanmaktadır.  \n> \n> Bu parçalar, ilgili projelerin temel amaçlarını ve uygulanan yöntemleri kısaca özetlemektedir. Ancak, projelere dair daha detaylı bilgi ve sonuçlar, metin parçalarında yer almamaktadır. \n"
          },
          "metadata": {}
        },
        {
          "output_type": "stream",
          "name": "stdout",
          "text": [
            "\n",
            "\n"
          ]
        },
        {
          "output_type": "display_data",
          "data": {
            "text/plain": [
              "<IPython.core.display.Markdown object>"
            ],
            "text/markdown": "> \"Analyzing Students Academic Success\" makalesine göre öğrenci başarısını etkileyen temel unsurlar şunlardır:\n> \n> * **Ön koşul derslerindeki başarı:** Makale, bir öğrencinin bir ön koşul dersinde başarısının, takip eden dersindeki başarısını olumlu yönde etkilediğini bulmuştur. Başka bir deyişle, ön koşul dersinde başarılı olan öğrenciler, takip eden derslerde de daha başarılı olma eğilimindedir.\n> * **Müfredat geliştirme yaklaşımı:** Makale, ön koşul zincirlerinin tasarımında kullanılan müfredat geliştirme yaklaşımının da öğrenci başarısını etkilediğini ortaya koymuştur. Farklı müfredat yaklaşımları, ön koşul dersleri ile takip eden dersler arasındaki ilişkiye farklı şekillerde etki edebilir. \n> * **Ön koşul dersleri arasındaki ilişki:**  Makalede vurgulanan bir diğer önemli nokta ise, ön koşul derslerinin kendi aralarındaki ilişkinin de öğrenci başarısını etkilediği gerçeğidir.  Bazı ön koşul dersleri, takip eden derslerde başarılı olmada diğerlerinden daha önemli olabilir.\n> \n> Makale, bu unsurların öğrenci başarısına etkisini daha detaylı incelemek için iki farklı ön koşul zinciri üzerinde bir vaka çalışması gerçekleştirmiştir. Çalışmanın sonuçları, yukarıda bahsedilen unsurların öğrenci başarısını etkilediğini göstermektedir.\n"
          },
          "metadata": {}
        },
        {
          "output_type": "stream",
          "name": "stdout",
          "text": [
            "\n",
            "\n"
          ]
        },
        {
          "output_type": "display_data",
          "data": {
            "text/plain": [
              "<IPython.core.display.Markdown object>"
            ],
            "text/markdown": "> Metin parçalarında, çeşitli araştırmacıların ön koşul dersleri ve öğrenci başarısı arasındaki ilişkiye odaklanan çalışmalarına atıflar bulunmaktadır. Bu atıflardan bazıları şunlardır:\n> \n> * **Anderson ve arkadaşları (2017):** Kalkülüs ve ekonomi derslerinin tamamlanmasının, daha sonraki ekonomi derslerindeki başarıyı olumlu yönde etkilediğini bulmuşlardır.\n> * **McMillan ve Adeyemi (2017):**  Ön koşul dersleriyle takip eden dersler arasındaki başarı ilişkilerini incelemişlerdir.\n> * **Wright ve arkadaşları (2017):** Organik kimya dersinin tamamlanmasının, takip eden biyokimya dersinde başarıya etkisi olup olmadığını araştırmışlardır. \n> * **Somasundara ve arkadaşları (2017):** Mobile Element Scheduling (MES) problemini ele almış,  NP-complete olduğunu kanıtlamış ve EDF ve MWSF gibi iki algoritma önermişlerdir. \n> \n> Bu çalışmalar, ön koşul derslerinin öğrenci başarısına etkisini araştırmakta ve bu alanda devam eden bir ilgi olduğunu göstermektedir. \n> \n> Bununla birlikte, metin parçalarında bahsedilen makalelerin isimleri, yayımlandıkları dergiler veya yayın tarihleri gibi ek bilgiler yer almamaktadır. Bu bilgiler, makaleleri tam olarak belirlemek için gereklidir. \n"
          },
          "metadata": {}
        },
        {
          "output_type": "stream",
          "name": "stdout",
          "text": [
            "\n",
            "\n"
          ]
        },
        {
          "output_type": "display_data",
          "data": {
            "text/plain": [
              "<IPython.core.display.Markdown object>"
            ],
            "text/markdown": "> \"Analyzing Students Academic Success\" makalesine göre, öğrenci başarısını etkileyen temel unsurlar şunlardır:\n> \n> 1. **Ön koşul derslerdeki başarı:** Makale, bir öğrencinin ön koşul dersinde elde ettiği başarının, takip eden dersindeki başarısını olumlu yönde etkilediğini bulmuştur. Yani, ön koşul dersinde başarılı olan öğrenciler, takip eden derslerde de daha başarılı olma eğilimindedir. \n> 2. **Müfredat geliştirme yaklaşımı:** Makale, ön koşul zincirlerinin tasarımında kullanılan müfredat geliştirme yaklaşımının da öğrenci başarısını etkilediğini göstermiştir. Farklı müfredat yaklaşımları, ön koşul dersleri ile takip eden dersler arasındaki ilişkiye farklı şekillerde etki edebilir. \n> 3. **Ön koşul derslerinin içerik ve düzenlemesi:**  Makale ayrıca, ön koşul derslerinin içerik ve düzenlemesinin de öğrenci başarısına etki ettiğini vurgulamaktadır. İyi organize edilmiş ve öğrencilerin ön bilgi seviyelerine uygun olarak tasarlanmış ön koşul dersleri, takip eden derslerde daha yüksek başarıya yol açabilir.\n> \n> Makale, bu unsurların öğrenci başarısına etkisini daha detaylı incelemek için iki farklı ön koşul zinciri üzerinde bir vaka çalışması gerçekleştirmiştir. Çalışmanın sonuçları, yukarıda bahsedilen unsurların öğrenci başarısını etkilediğini göstermektedir. \n"
          },
          "metadata": {}
        },
        {
          "output_type": "stream",
          "name": "stdout",
          "text": [
            "\n",
            "\n"
          ]
        },
        {
          "output_type": "display_data",
          "data": {
            "text/plain": [
              "<IPython.core.display.Markdown object>"
            ],
            "text/markdown": "> Makalede, öğrenci başarımını etkileyen en önemli unsur, **ön koşul derslerde elde edilen başarı** olarak belirtiliyor. Makale, ön koşul dersinde başarının, takip eden derslerde de başarıyı olumlu yönde etkilediğini ve öğrencilerin ön koşul derslerini başarıyla tamamlamalarının, takip eden derslerde de daha başarılı olmalarına yol açtığını vurguluyor. \n> \n> Dolayısıyla, makaleye göre, öğrencilerin ön koşul derslerindeki başarısı, sonraki derslerdeki başarıları için en önemli belirleyici faktördür.\n"
          },
          "metadata": {}
        },
        {
          "output_type": "stream",
          "name": "stdout",
          "text": [
            "\n",
            "\n",
            "Keyboard interruption in main thread... closing server.\n",
            "Killing tunnel 127.0.0.1:7860 <> https://441f494ec374292a3b.gradio.live\n"
          ]
        },
        {
          "output_type": "execute_result",
          "data": {
            "text/plain": []
          },
          "metadata": {},
          "execution_count": 69
        }
      ]
    },
    {
      "cell_type": "code",
      "source": [
        "RAG_LLM.history"
      ],
      "metadata": {
        "id": "oB0go7_LzFTj"
      },
      "execution_count": null,
      "outputs": []
    },
    {
      "cell_type": "markdown",
      "source": [
        "# SUMMARY"
      ],
      "metadata": {
        "id": "1i-A6j2_8mJy"
      }
    },
    {
      "cell_type": "markdown",
      "source": [
        "WHY WE NEED A PERSISTENT CHROMADB?\n",
        "In the context of a Retrieval-Augmented Generation (RAG) approach, saving and loading a persistent ChromaDB is particularly important for several reasons:\n",
        "\n",
        "Enhanced Data Durability:\n",
        "\n",
        "Importance: Ensures the retrieval database used for augmenting generative models is not lost between sessions or system restarts.\n",
        "RAG Relevance: Maintains a consistent and reliable knowledge base that the generative model can reference, leading to more accurate and relevant responses.\n",
        "Operational Continuity:\n",
        "\n",
        "Importance: Allows seamless continuation of operations without needing to re-index or re-import data, saving time and computational resources.\n",
        "RAG Relevance: Ensures that the generative model has continuous access to the same set of documents, which is essential for generating consistent and coherent responses over time.\n",
        "Facilitating Collaboration:\n",
        "\n",
        "Importance: Enables multiple users or systems to share and access the same dataset.\n",
        "RAG Relevance: Supports collaborative development and usage of the RAG system, allowing different teams to work on improving the retrieval and generation processes simultaneously.\n",
        "Scalability:\n",
        "\n",
        "Importance: Provides a stable and persistent backend, enabling efficient handling of large datasets.\n",
        "RAG Relevance: Essential for scaling the RAG system to handle more extensive and diverse knowledge bases, ensuring that the system can manage increased loads and deliver prompt, relevant information.\n",
        "In a RAG system, the retriever (like ChromaDB) provides the generative model with relevant context from a knowledge base to generate informed and accurate responses. Persistent storage ensures that this knowledge base is durable, continuously available, and scalable, which is critical for the reliability, consistency, and performance of the RAG system."
      ],
      "metadata": {
        "id": "qtqN4k77Plu1"
      }
    },
    {
      "cell_type": "markdown",
      "source": [
        "."
      ],
      "metadata": {
        "id": "Y9Xi2_79A254"
      }
    },
    {
      "cell_type": "markdown",
      "source": [
        "."
      ],
      "metadata": {
        "id": "38itsCX9A2t8"
      }
    },
    {
      "cell_type": "markdown",
      "source": [
        "."
      ],
      "metadata": {
        "id": "mCjijo4pA2f8"
      }
    },
    {
      "cell_type": "code",
      "source": [
        "def generateAnswer(RAG_LLM, chroma_collection,query,n_results=5):\n",
        "    retrieved_documents= retrieveDocs(chroma_collection, query, 10, return_only_docs=True)\n",
        "\n",
        "    print(\"------- retreived documents -------\\n\")\n",
        "    for i, doc in enumerate(retrieved_documents):\n",
        "      print(f\"Document {i+1}:\")\n",
        "      print(f\"\\tDocument Text: {doc}\")\n",
        "    prompt = \"QUESTION: \"+ query\n",
        "    context = \"\\n EXCERPTS: \"+ \"\\n\".join(retrieved_documents)\n",
        "    print(\"------- RAG answer -------\\n\")\n",
        "    output = generate_LLM_answer(prompt, context, RAG_LLM)\n",
        "\n",
        "    display(to_markdown(output))\n",
        "    print('\\n')\n",
        "    return output"
      ],
      "metadata": {
        "id": "EOpIzjPEQpvA"
      },
      "execution_count": null,
      "outputs": []
    },
    {
      "cell_type": "code",
      "source": [
        "to_markdown(reply.text)"
      ],
      "metadata": {
        "id": "_BlrLcyATatn"
      },
      "execution_count": null,
      "outputs": []
    },
    {
      "cell_type": "code",
      "source": [
        "for message in chat.history:\n",
        "  display(to_markdown(f'**{message.role}**: {message.parts[0].text}'))\n"
      ],
      "metadata": {
        "id": "Vi3g2vgMRG81"
      },
      "execution_count": null,
      "outputs": []
    },
    {
      "cell_type": "code",
      "source": [
        "model.count_tokens(chat.history)"
      ],
      "metadata": {
        "id": "8Lu-LtxiW9Ou"
      },
      "execution_count": null,
      "outputs": []
    },
    {
      "cell_type": "code",
      "source": [
        "response = chat.send_message(prompt)\n",
        "to_markdown(response.text)\n"
      ],
      "metadata": {
        "id": "WKX4tzgsNijg"
      },
      "execution_count": null,
      "outputs": []
    },
    {
      "cell_type": "code",
      "source": [],
      "metadata": {
        "id": "I0QKtnH7NNFO"
      },
      "execution_count": null,
      "outputs": []
    },
    {
      "cell_type": "code",
      "source": [
        "import os\n",
        "import openai\n",
        "from openai import OpenAI\n",
        "\n",
        "'''\n",
        "from dotenv import load_dotenv, find_dotenv\n",
        "_ = load_dotenv(find_dotenv()) # read local .env file\n",
        "openai.api_key = os.environ['OPENAI_API_KEY']\n",
        "openai_client = OpenAI()\n",
        "'''\n",
        "openai_client = OpenAI(api_key=userdata.get('OPENAI_API_KEY'))"
      ],
      "metadata": {
        "id": "iz7ZbNXaMyY9"
      },
      "execution_count": null,
      "outputs": []
    },
    {
      "cell_type": "code",
      "source": [
        "def rag(query, retrieved_documents, model=\"gpt-3.5-turbo-1106\"):\n",
        "    information = \"\\n\\n\".join(retrieved_documents)\n",
        "\n",
        "    messages = [\n",
        "        {\n",
        "            \"role\": \"system\",\n",
        "            \"content\": \"As an attentive and supportive academic assistant, \"\n",
        "            \"your task is to provide assistance based solely on the provided\"\n",
        "            \" excerpts. Answer the following questions, ensuring your responses\"\n",
        "            \" are derived exclusively from the provided partial texts. \"\n",
        "            \"If the answer cannot be found within the provided excerpts, \"\n",
        "            \"kindly respond with 'I don't know'.\"\n",
        "            \"After answering each question, please provide a detailed \"\n",
        "            \"explanation, breaking down the answer step by step and relating \"\n",
        "            \"it to the provided excerpts.\"\n",
        "            \"Return your response as a Json object with two key fields: \"\n",
        "            \" 'Answer', which should contain the value of the answer, and \"\n",
        "            \" 'Reason', which should provide an explanation of why this answer \"\n",
        "            \"was generated.\"\n",
        "\n",
        "        },\n",
        "        {\"role\": \"user\", \"content\": f\"Question: {query}. \\n Excerpts: {information}\"}\n",
        "    ]\n",
        "\n",
        "    response = openai_client.chat.completions.create(\n",
        "        model=model,\n",
        "        messages=messages,\n",
        "    )\n",
        "    content = response.choices[0].message.content\n",
        "    return content"
      ],
      "metadata": {
        "id": "GGb0tQvtM51N"
      },
      "execution_count": null,
      "outputs": []
    },
    {
      "cell_type": "code",
      "source": [],
      "metadata": {
        "id": "E5K440G_M8cb"
      },
      "execution_count": null,
      "outputs": []
    },
    {
      "cell_type": "code",
      "source": [
        "def generateAnswer(query,n_results=5):\n",
        "    retrieved_documents=retrieveDocs(query,n_results)\n",
        "\n",
        "    print(\"------- retreived documents -------\\n\")\n",
        "    for i, doc in enumerate(retrieved_documents):\n",
        "      print(f\"Document {i+1}:\")\n",
        "      print(f\"\\tDocument Text: {doc}\")\n",
        "    print(\"------- RAG answer -------\\n\")\n",
        "    output = rag(query=query, retrieved_documents=retrieved_documents)\n",
        "    print(output)\n",
        "    print('\\n')\n",
        "    return output"
      ],
      "metadata": {
        "id": "CJd-S0zcRaFV"
      },
      "execution_count": null,
      "outputs": []
    },
    {
      "cell_type": "code",
      "source": [],
      "metadata": {
        "id": "Xb9uHSMpTR_X"
      },
      "execution_count": null,
      "outputs": []
    },
    {
      "cell_type": "code",
      "source": [],
      "metadata": {
        "id": "D2d-jQLvLufI"
      },
      "execution_count": null,
      "outputs": []
    },
    {
      "cell_type": "code",
      "source": [
        "reply=generateAnswer(queries[5],10)\n"
      ],
      "metadata": {
        "id": "sTcewpPcWQLp"
      },
      "execution_count": null,
      "outputs": []
    },
    {
      "cell_type": "code",
      "source": [
        "# prompt: convert the 'reply' to a dict\n",
        "\n",
        "import ast\n",
        "reply_dict = ast.literal_eval(reply)\n",
        "print(f\"Answer: {reply_dict['Answer']}\")\n",
        "print(f\"Because; {reply_dict['Reason']}\")"
      ],
      "metadata": {
        "id": "MSIFzsUtRBOg"
      },
      "execution_count": null,
      "outputs": []
    },
    {
      "cell_type": "code",
      "source": [
        "for query in queries:\n",
        "  generateAnswer(query)"
      ],
      "metadata": {
        "id": "trkwnbPTWPAr"
      },
      "execution_count": null,
      "outputs": []
    },
    {
      "cell_type": "code",
      "source": [
        "%pip install umap-learn"
      ],
      "metadata": {
        "id": "ToFXpONGbhc-"
      },
      "execution_count": null,
      "outputs": []
    },
    {
      "cell_type": "code",
      "source": [
        "def project_embeddings(embeddings, umap_transform):\n",
        "    umap_embeddings = np.empty((len(embeddings),2))\n",
        "    for i, embedding in enumerate(tqdm(embeddings)):\n",
        "        umap_embeddings[i] = umap_transform.transform([embedding])\n",
        "    return umap_embeddings"
      ],
      "metadata": {
        "id": "6jIGoTEeqZnX"
      },
      "execution_count": null,
      "outputs": []
    },
    {
      "cell_type": "code",
      "source": [
        "import umap.umap_ as umap\n",
        "\n",
        "embeddings = chroma_collection.get(include=['embeddings'])['embeddings']\n",
        "umap_transform = umap.UMAP(random_state=0, transform_seed=0).fit(embeddings)\n",
        "projected_dataset_embeddings = project_embeddings(embeddings, umap_transform)"
      ],
      "metadata": {
        "id": "eq8Oxx_SXJK_"
      },
      "execution_count": null,
      "outputs": []
    },
    {
      "cell_type": "code",
      "source": [
        "import matplotlib.pyplot as plt\n",
        "\n",
        "plt.figure()\n",
        "plt.scatter(projected_dataset_embeddings[:, 0], projected_dataset_embeddings[:, 1], s=10)\n",
        "plt.gca().set_aspect('equal', 'datalim')\n",
        "plt.title('Projected Embeddings')\n",
        "plt.axis('off')"
      ],
      "metadata": {
        "id": "PAmWc2acstG-"
      },
      "execution_count": null,
      "outputs": []
    },
    {
      "cell_type": "code",
      "source": [
        "query = queries[3]\n",
        "\n",
        "results = chroma_collection.query(query_texts=query, n_results=10, include=['documents', 'embeddings'])\n",
        "\n",
        "retrieved_documents = results['documents'][0]\n",
        "\n",
        "for document in results['documents'][0]:\n",
        "    print(document)\n",
        "    print('')\n"
      ],
      "metadata": {
        "id": "mw19GvOZpyO-"
      },
      "execution_count": null,
      "outputs": []
    },
    {
      "cell_type": "code",
      "source": [
        "query_embedding = embedding_function([query])[0]\n",
        "retrieved_embeddings = results['embeddings'][0]\n",
        "\n",
        "projected_query_embedding = project_embeddings([query_embedding], umap_transform)\n",
        "projected_retrieved_embeddings = project_embeddings(retrieved_embeddings, umap_transform)\n"
      ],
      "metadata": {
        "id": "J7ClIPkh-unn"
      },
      "execution_count": null,
      "outputs": []
    },
    {
      "cell_type": "code",
      "source": [
        "# Plot the projected query and retrieved documents in the embedding space\n",
        "plt.figure()\n",
        "plt.scatter(projected_dataset_embeddings[:, 0], projected_dataset_embeddings[:, 1], s=10, color='gray')\n",
        "plt.scatter(projected_query_embedding[:, 0], projected_query_embedding[:, 1], s=150, marker='X', color='r')\n",
        "plt.scatter(projected_retrieved_embeddings[:, 0], projected_retrieved_embeddings[:, 1], s=100, facecolors='none', edgecolors='g')\n",
        "\n",
        "plt.gca().set_aspect('equal', 'datalim')\n",
        "plt.title(f'{query}')\n",
        "plt.axis('off')"
      ],
      "metadata": {
        "id": "_FGgCd8t-23T"
      },
      "execution_count": null,
      "outputs": []
    },
    {
      "cell_type": "code",
      "source": [
        "def augment_query_generated(query, model=\"gpt-3.5-turbo\"):\n",
        "    messages = [\n",
        "        {\n",
        "            \"role\": \"system\",\n",
        "            \"content\": \"Sen TÜBİTAK proje başvurularını inceleyen yapay zeka konusunda uzman bir akasemisyensin.\"\n",
        "            \"Aşağıda verilen soruya, aşağıdaki proje tanımına uygun olabilecek bir cevap üret: \\n\"\n",
        "            \"Projenin genel amacı, bankacılık sektöründeki risk yönetimi operasyonlarını geliştirmek ve finansal kurumların karşılaştığı zorlukları ele almak \"\n",
        "            \"için yapay zeka (AI) tabanlı bir platform geliştirmektir. Proje, bankalara vadeli mevduatın erken bozulması, kredilerin erken ödenmesi ve çeşitli \"\n",
        "            \"mevduat türlerinin belirlenmesi gibi davranışsal riskleri daha etkili bir şekilde yönetme kapasitesi sunmayı hedeflemektedir. Bu riskler, finansal \"\n",
        "            \"kurumların bilanço dengesini etkileyebilir ve operasyonel verimliliği azaltabilir. \"\n",
        "            \"Projenin çözmeyi amaçladığı temel problem, bankaların karlılık ve risk analizlerini gerçekleştirirken karşılaştığı karmaşık durumları doğru ve \"\n",
        "            \"etkili bir şekilde yönetme ihtiyacıdır. Özellikle vadeli mevduatların erken kapanması ve kredilerin erken ödenmesi gibi durumlar, bankaların \"\n",
        "            \"gelecekteki nakit akışlarını ve risk profillerini belirleme sürecini karmaşıklaştırabilir\"\n",
        "\n",
        "        },\n",
        "        {\"role\": \"user\", \"content\": query}\n",
        "    ]\n",
        "\n",
        "    response = openai_client.chat.completions.create(\n",
        "        model=model,\n",
        "        messages=messages,\n",
        "    )\n",
        "    content = response.choices[0].message.content\n",
        "    return content"
      ],
      "metadata": {
        "id": "MAgqvNgvAE_q"
      },
      "execution_count": null,
      "outputs": []
    },
    {
      "cell_type": "code",
      "source": [
        "original_query = queries[0]\n",
        "hypothetical_answer = augment_query_generated(original_query)\n",
        "\n",
        "joint_query = f\"{original_query} {hypothetical_answer}\"\n",
        "print(joint_query)"
      ],
      "metadata": {
        "id": "pVgmXEmDA4Mq"
      },
      "execution_count": null,
      "outputs": []
    },
    {
      "cell_type": "code",
      "source": [
        "def extend_retrieved_documents(results, extension=4):\n",
        "  original_ids= results['ids'][0]\n",
        "  print(\"original_ids: \",original_ids)\n",
        "\n",
        "  extended_ids = set()\n",
        "\n",
        "\n",
        "  for id in original_ids:\n",
        "    extended_ids.add(int(id))\n",
        "    for i in range(1, extension):\n",
        "      extended_ids.add(int(id)+i)\n",
        "\n",
        "\n",
        "  extended_ids = sorted([int(x) for x in extended_ids])\n",
        "  extended_ids = [str(x) for x in extended_ids if int(x) < chroma_collection.count()]\n",
        "  print(\"extended_ids: \",extended_ids)\n",
        "  return chroma_collection.get(extended_ids)['documents']"
      ],
      "metadata": {
        "id": "LG7hu7wDdrMT"
      },
      "execution_count": null,
      "outputs": []
    },
    {
      "cell_type": "code",
      "source": [
        "def retrieveDocs_augmented_query(query, n_results=5, extension=4):\n",
        "    hypothetical_answer = augment_query_generated(query)\n",
        "    print(\"------ hypothetical_answer ---------\\n\")\n",
        "    print(hypothetical_answer,\"\\n\")\n",
        "    print(\"------------------------------------\\n\")\n",
        "    joint_query = f\"{query} {hypothetical_answer}\"\n",
        "    results = chroma_collection.query(query_texts=joint_query, n_results=n_results, include=['documents', 'embeddings'])\n",
        "    retrieved_documents = extend_retrieved_documents(results, extension)\n",
        "    #retrieved_documents = results['documents'][0]\n",
        "\n",
        "    return retrieved_documents\n",
        "\n"
      ],
      "metadata": {
        "id": "5_tnGca2D9CU"
      },
      "execution_count": null,
      "outputs": []
    },
    {
      "cell_type": "code",
      "source": [
        "retrieved_documents=retrieveDocs_augmented_query(query, 5)\n",
        "\n",
        "for doc in retrieved_documents:\n",
        "    print(doc)\n",
        "    print('')"
      ],
      "metadata": {
        "id": "PXqwdlB3ElTG"
      },
      "execution_count": null,
      "outputs": []
    },
    {
      "cell_type": "code",
      "source": [
        "results = chroma_collection.query(query_texts=joint_query, n_results=10, include=['documents', 'embeddings'])\n",
        "retrieved_documents = results['documents'][0]\n",
        "\n",
        "for doc in retrieved_documents:\n",
        "    print(doc)\n",
        "    print('')"
      ],
      "metadata": {
        "id": "ScyronsnBIsh"
      },
      "execution_count": null,
      "outputs": []
    },
    {
      "cell_type": "code",
      "source": [
        "retrieved_embeddings = results['embeddings'][0]\n",
        "original_query_embedding = embedding_function([original_query])\n",
        "augmented_query_embedding = embedding_function([joint_query])\n",
        "\n",
        "projected_original_query_embedding = project_embeddings(original_query_embedding, umap_transform)\n",
        "projected_augmented_query_embedding = project_embeddings(augmented_query_embedding, umap_transform)\n",
        "projected_retrieved_embeddings = project_embeddings(retrieved_embeddings, umap_transform)"
      ],
      "metadata": {
        "id": "ncz_Vs8sBez8"
      },
      "execution_count": null,
      "outputs": []
    },
    {
      "cell_type": "code",
      "source": [
        "import matplotlib.pyplot as plt\n",
        "\n",
        "# Plot the projected query and retrieved documents in the embedding space\n",
        "plt.figure()\n",
        "plt.scatter(projected_dataset_embeddings[:, 0], projected_dataset_embeddings[:, 1], s=10, color='gray')\n",
        "plt.scatter(projected_retrieved_embeddings[:, 0], projected_retrieved_embeddings[:, 1], s=100, facecolors='none', edgecolors='g')\n",
        "plt.scatter(projected_original_query_embedding[:, 0], projected_original_query_embedding[:, 1], s=150, marker='X', color='r')\n",
        "plt.scatter(projected_augmented_query_embedding[:, 0], projected_augmented_query_embedding[:, 1], s=150, marker='X', color='orange')\n",
        "\n",
        "plt.gca().set_aspect('equal', 'datalim')\n",
        "plt.title(f'{original_query}')\n",
        "plt.axis('off')"
      ],
      "metadata": {
        "id": "s7IiB6pTBllH"
      },
      "execution_count": null,
      "outputs": []
    },
    {
      "cell_type": "code",
      "source": [],
      "metadata": {
        "id": "spIkCz0SdRYB"
      },
      "execution_count": null,
      "outputs": []
    },
    {
      "cell_type": "code",
      "source": [
        "def generateAnswer_augmented_query(query,n_results=5, extention=4):\n",
        "    print(\"------- query -------\\n\")\n",
        "    print(query,\"\\n\")\n",
        "    retrieved_documents=retrieveDocs_augmented_query(query,n_results,extention)\n",
        "    print(\"------- retreived documents -------\\n\")\n",
        "    for document in retrieved_documents:\n",
        "        print(document)\n",
        "        print('\\n')\n",
        "\n",
        "    print(\"------- RAG answer -------\\n\")\n",
        "    output = rag(query=query, retrieved_documents=retrieved_documents)\n",
        "    print(output)\n",
        "    print('\\n')"
      ],
      "metadata": {
        "id": "O_jYC08eFZJD"
      },
      "execution_count": null,
      "outputs": []
    },
    {
      "cell_type": "code",
      "source": [
        "queries"
      ],
      "metadata": {
        "id": "ZoDGrmz9mv_L"
      },
      "execution_count": null,
      "outputs": []
    },
    {
      "cell_type": "code",
      "source": [
        "generateAnswer_augmented_query(queries[0],10,5)"
      ],
      "metadata": {
        "id": "fU61GVoIFpud"
      },
      "execution_count": null,
      "outputs": []
    },
    {
      "cell_type": "code",
      "source": [
        "title= \"\"\"Ar-Ge Sürecinde Kullanılacak Yöntemler Tanımlanan proje hedeflerine ulaşmak için uygulanacak analitik\n",
        "        deneysel çözüm yöntemlerini belirtiniz. (NOT: Bu bölümde sunulan proje özelinde\n",
        "        hangi teknik / bilimsel yaklaşımların ve bunlara ait aşamaların takip edileceği açıklanmalı, iş paketleri isimleri ya da her projede olabilecek standart\n",
        "        rutin çalışma yöntemleri tekrarlanmamalıdır.\"\"\"\n",
        "results = chroma_collection.query(query_texts=title, n_results=5, include=['documents', 'embeddings'])\n",
        "retrieved_documents = results['documents'][0]\n",
        "print(retrieved_documents)"
      ],
      "metadata": {
        "id": "6bJGG3mEUFKD"
      },
      "execution_count": null,
      "outputs": []
    },
    {
      "cell_type": "code",
      "source": [],
      "metadata": {
        "id": "x7Yq67GcUyYL"
      },
      "execution_count": null,
      "outputs": []
    },
    {
      "cell_type": "code",
      "source": [
        "\n"
      ],
      "metadata": {
        "id": "tNjnJTDvVXpS"
      },
      "execution_count": null,
      "outputs": []
    },
    {
      "cell_type": "code",
      "source": [
        "title= \"\"\"Ar-Ge Sürecinde Kullanılacak Yöntemler Tanımlanan proje hedeflerine ulaşmak için uygulanacak analitik\n",
        "        deneysel çözüm yöntemlerini belirtiniz. (NOT: Bu bölümde sunulan proje özelinde\n",
        "        hangi teknik / bilimsel yaklaşımların ve bunlara ait aşamaların takip edileceği açıklanmalı, iş paketleri isimleri ya da her projede olabilecek standart\n",
        "        rutin çalışma yöntemleri tekrarlanmamalıdır.\"\"\"\n",
        "results = chroma_collection.query(query_texts=title, n_results=5, include=['documents', 'embeddings'])\n",
        "\n",
        "retrieved_documents = extend_retrieved_documents(results)\n",
        "print(retrieved_documents)\n"
      ],
      "metadata": {
        "id": "_pzqUkWQWqkr"
      },
      "execution_count": null,
      "outputs": []
    },
    {
      "cell_type": "code",
      "source": [],
      "metadata": {
        "id": "mg5KFoacc67g"
      },
      "execution_count": null,
      "outputs": []
    },
    {
      "cell_type": "code",
      "source": [
        "chroma_collection.get(results['ids'][0])"
      ],
      "metadata": {
        "id": "WrRDvmYSVlLI"
      },
      "execution_count": null,
      "outputs": []
    }
  ]
}