{
 "cells": [
  {
   "cell_type": "code",
   "execution_count": 251,
   "metadata": {},
   "outputs": [],
   "source": [
    "import requests # for making standard html requests\n",
    "from bs4 import BeautifulSoup # magical tool for parsing html data\n",
    "import json # for parsing data\n",
    "import pandas as pd\n",
    "from pandas import DataFrame as df # premier library for data organization"
   ]
  },
  {
   "cell_type": "code",
   "execution_count": 252,
   "metadata": {},
   "outputs": [],
   "source": [
    "column_names = [\"IlanNO\", \"Tarih\", \"Marka\", \"Seri\"]\n",
    "df = pd.DataFrame(columns = column_names)"
   ]
  },
  {
   "cell_type": "code",
   "execution_count": 253,
   "metadata": {},
   "outputs": [],
   "source": [
    "url =\"https://www.arabam.com/ilan/galeriden-satilik-mercedes-benz-e-180-amg/e180-amg-command-cam-tavan-boyasiz-tramersiz-2018-bayi-cikisli/14272378\"\n",
    "page = requests.get(url)\n",
    "soup = BeautifulSoup(page.text, 'html.parser')"
   ]
  },
  {
   "cell_type": "code",
   "execution_count": 254,
   "metadata": {},
   "outputs": [],
   "source": [
    "#page.encoding = 'ISO-885901'\n",
    "#soup = BeautifulSoup(page.text, 'html.parser')"
   ]
  },
  {
   "cell_type": "code",
   "execution_count": 255,
   "metadata": {},
   "outputs": [],
   "source": [
    "#print(soup.prettify())"
   ]
  },
  {
   "cell_type": "code",
   "execution_count": 256,
   "metadata": {},
   "outputs": [],
   "source": [
    "#ul class=\"w100 cf mt16\""
   ]
  },
  {
   "cell_type": "code",
   "execution_count": 257,
   "metadata": {},
   "outputs": [
    {
     "name": "stdout",
     "output_type": "stream",
     "text": [
      "arabaOzellikleri:\n",
      " <div class=\"df df-center w100\"> <span class=\"color-red4 font-semi-big bold fl w66\"> 473.750 TL </span></div>\n",
      "fiyat:\n",
      " <span class=\"color-red4 font-semi-big bold fl w66\"> 473.750 TL </span>\n",
      "473.750 TL\n"
     ]
    }
   ],
   "source": [
    "arabaOzellikleri = soup.find_all(class_ = 'df df-center w100')\n",
    "for i in arabaOzellikleri:\n",
    "  print(\"arabaOzellikleri:\\n\", i)\n",
    "  fiyat= i.find('span')\n",
    "  print(\"fiyat:\\n\", fiyat)  \n",
    "  print(fiyat.text.strip())\n",
    "  arabaDic= dict()\n",
    "  arabaDic['fiyat'] = fiyat.text.strip()"
   ]
  },
  {
   "cell_type": "code",
   "execution_count": 258,
   "metadata": {},
   "outputs": [
    {
     "name": "stdout",
     "output_type": "stream",
     "text": [
      "[<ul class=\"w100 cf mt16\"> <li class=\"bcd-list-item\"><span class=\"bli-particle bold\">İlan No:</span><span class=\"bli-particle semi-bold\"> 14272378   </span></li> <li class=\"bcd-list-item\"><span class=\"bli-particle bold\">İlan Tarihi:</span><span class=\"bli-particle\" title=\"25 Nisan 2020\"> 25 Nisan 2020   </span></li> <li class=\"bcd-list-item\"><span class=\"bli-particle bold\">Marka:</span><span class=\"bli-particle\" title=\"Mercedes - Benz\"> Mercedes - Benz   </span></li> <li class=\"bcd-list-item\"><span class=\"bli-particle bold\">Seri:</span><span class=\"bli-particle\"> E   </span></li> <li class=\"bcd-list-item\"><span class=\"bli-particle bold\">Model:</span><span class=\"bli-particle\"> 180 AMG   </span></li> <li class=\"bcd-list-item\"><span class=\"bli-particle bold\">Yıl:</span><span class=\"bli-particle\"> 2017   </span></li> <li class=\"bcd-list-item\"><span class=\"bli-particle bold\">Yakıt Tipi:</span><span class=\"bli-particle\"> Benzin   </span></li> <li class=\"bcd-list-item\"><span class=\"bli-particle bold\">Vites Tipi:</span><span class=\"bli-particle\"> Otomatik   </span></li> <li class=\"bcd-list-item\"><span class=\"bli-particle bold\">Motor Hacmi:</span><span class=\"bli-particle\"> 1595 cc   </span></li> <li class=\"bcd-list-item\"><span class=\"bli-particle bold\">Motor Gücü:</span><span class=\"bli-particle\"> 156 hp   </span></li> <li class=\"bcd-list-item\"><span class=\"bli-particle bold\">Kilometre:</span><span class=\"bli-particle\"> 32.000 km   </span></li> <li class=\"bcd-list-item\"><span class=\"bli-particle bold\">Boya-değişen:</span><a class=\"bli-particle semi-bold\" ng-click=\"self.resolveTabById('js-hook-for-observer-boyadegisen')\">Tamamı orjinal</a></li> <li class=\"bcd-list-item\"><span class=\"bli-particle bold\">Takasa Uygun:</span><span class=\"bli-particle\" title=\"Takasa Uygun Değil\"> Takasa Uygun Değil   </span></li> <li class=\"bcd-list-item\"><span class=\"bli-particle bold\">Kimden:</span><span class=\"bli-particle\"> Galeriden   </span></li> </ul>]\n"
     ]
    }
   ],
   "source": [
    "araba = soup.find_all(class_ = 'w100 cf mt16')\n",
    "print(araba)\n"
   ]
  },
  {
   "cell_type": "code",
   "execution_count": 259,
   "metadata": {},
   "outputs": [
    {
     "name": "stdout",
     "output_type": "stream",
     "text": [
      "0  :  İlan No:\n",
      "1  :  14272378\n",
      "2  :  İlan Tarihi:\n",
      "3  :  25 Nisan 2020\n",
      "4  :  Marka:\n",
      "5  :  Mercedes - Benz\n",
      "6  :  Seri:\n",
      "7  :  E\n",
      "8  :  Model:\n",
      "9  :  180 AMG\n",
      "10  :  Yıl:\n",
      "11  :  2017\n",
      "12  :  Yakıt Tipi:\n",
      "13  :  Benzin\n",
      "14  :  Vites Tipi:\n",
      "15  :  Otomatik\n",
      "16  :  Motor Hacmi:\n",
      "17  :  1595 cc\n",
      "18  :  Motor Gücü:\n",
      "19  :  156 hp\n",
      "20  :  Kilometre:\n",
      "21  :  32.000 km\n",
      "22  :  Boya-değişen:\n",
      "23  :  Tamamı orjinal\n",
      "24  :  Takasa Uygun:\n",
      "25  :  Takasa Uygun Değil\n",
      "26  :  Kimden:\n",
      "27  :  Galeriden\n"
     ]
    }
   ],
   "source": [
    "arabaOzellikleri= araba[0].find_all(['span','a'])\n",
    "\n",
    "for idx, i  in enumerate(arabaOzellikleri):\n",
    "  #print(\"arabaOzellikleri:\\n\", i)\n",
    "  if (idx%2==0):\n",
    "        key = i.text.strip()\n",
    "  else:\n",
    "        val = i.text.strip()\n",
    "        arabaDic[key]=val\n",
    "    \n",
    "  print(idx, \" : \", i.text.strip())"
   ]
  },
  {
   "cell_type": "code",
   "execution_count": 260,
   "metadata": {},
   "outputs": [],
   "source": [
    "#print(arabaOzellikleri.contents)"
   ]
  },
  {
   "cell_type": "code",
   "execution_count": 261,
   "metadata": {},
   "outputs": [],
   "source": [
    "#print(arabaOzellikleri[0].attrs)"
   ]
  },
  {
   "cell_type": "code",
   "execution_count": 262,
   "metadata": {},
   "outputs": [
    {
     "data": {
      "text/plain": [
       "{'fiyat': '473.750 TL',\n",
       " 'İlan No:': '14272378',\n",
       " 'İlan Tarihi:': '25 Nisan 2020',\n",
       " 'Marka:': 'Mercedes - Benz',\n",
       " 'Seri:': 'E',\n",
       " 'Model:': '180 AMG',\n",
       " 'Yıl:': '2017',\n",
       " 'Yakıt Tipi:': 'Benzin',\n",
       " 'Vites Tipi:': 'Otomatik',\n",
       " 'Motor Hacmi:': '1595 cc',\n",
       " 'Motor Gücü:': '156 hp',\n",
       " 'Kilometre:': '32.000 km',\n",
       " 'Boya-değişen:': 'Tamamı orjinal',\n",
       " 'Takasa Uygun:': 'Takasa Uygun Değil',\n",
       " 'Kimden:': 'Galeriden'}"
      ]
     },
     "execution_count": 262,
     "metadata": {},
     "output_type": "execute_result"
    }
   ],
   "source": [
    "arabaDic\n"
   ]
  },
  {
   "cell_type": "code",
   "execution_count": 263,
   "metadata": {},
   "outputs": [
    {
     "data": {
      "text/html": [
       "<div>\n",
       "<style scoped>\n",
       "    .dataframe tbody tr th:only-of-type {\n",
       "        vertical-align: middle;\n",
       "    }\n",
       "\n",
       "    .dataframe tbody tr th {\n",
       "        vertical-align: top;\n",
       "    }\n",
       "\n",
       "    .dataframe thead th {\n",
       "        text-align: right;\n",
       "    }\n",
       "</style>\n",
       "<table border=\"1\" class=\"dataframe\">\n",
       "  <thead>\n",
       "    <tr style=\"text-align: right;\">\n",
       "      <th></th>\n",
       "      <th>fiyat</th>\n",
       "      <th>İlan No:</th>\n",
       "      <th>İlan Tarihi:</th>\n",
       "      <th>Marka:</th>\n",
       "      <th>Seri:</th>\n",
       "      <th>Model:</th>\n",
       "      <th>Yıl:</th>\n",
       "      <th>Yakıt Tipi:</th>\n",
       "      <th>Vites Tipi:</th>\n",
       "      <th>Motor Hacmi:</th>\n",
       "      <th>Motor Gücü:</th>\n",
       "      <th>Kilometre:</th>\n",
       "      <th>Boya-değişen:</th>\n",
       "      <th>Takasa Uygun:</th>\n",
       "      <th>Kimden:</th>\n",
       "    </tr>\n",
       "  </thead>\n",
       "  <tbody>\n",
       "  </tbody>\n",
       "</table>\n",
       "</div>"
      ],
      "text/plain": [
       "Empty DataFrame\n",
       "Columns: [fiyat, İlan No:, İlan Tarihi:, Marka:, Seri:, Model:, Yıl:, Yakıt Tipi:, Vites Tipi:, Motor Hacmi:, Motor Gücü:, Kilometre:, Boya-değişen:, Takasa Uygun:, Kimden:]\n",
       "Index: []"
      ]
     },
     "execution_count": 263,
     "metadata": {},
     "output_type": "execute_result"
    }
   ],
   "source": [
    "arabaDF= pd.DataFrame(columns = arabaDic.keys())\n",
    "\n",
    "arabaDF"
   ]
  },
  {
   "cell_type": "code",
   "execution_count": 264,
   "metadata": {},
   "outputs": [],
   "source": [
    "arabaDF= arabaDF.append(arabaDic, ignore_index=True)"
   ]
  },
  {
   "cell_type": "code",
   "execution_count": 265,
   "metadata": {},
   "outputs": [
    {
     "data": {
      "text/html": [
       "<div>\n",
       "<style scoped>\n",
       "    .dataframe tbody tr th:only-of-type {\n",
       "        vertical-align: middle;\n",
       "    }\n",
       "\n",
       "    .dataframe tbody tr th {\n",
       "        vertical-align: top;\n",
       "    }\n",
       "\n",
       "    .dataframe thead th {\n",
       "        text-align: right;\n",
       "    }\n",
       "</style>\n",
       "<table border=\"1\" class=\"dataframe\">\n",
       "  <thead>\n",
       "    <tr style=\"text-align: right;\">\n",
       "      <th></th>\n",
       "      <th>fiyat</th>\n",
       "      <th>İlan No:</th>\n",
       "      <th>İlan Tarihi:</th>\n",
       "      <th>Marka:</th>\n",
       "      <th>Seri:</th>\n",
       "      <th>Model:</th>\n",
       "      <th>Yıl:</th>\n",
       "      <th>Yakıt Tipi:</th>\n",
       "      <th>Vites Tipi:</th>\n",
       "      <th>Motor Hacmi:</th>\n",
       "      <th>Motor Gücü:</th>\n",
       "      <th>Kilometre:</th>\n",
       "      <th>Boya-değişen:</th>\n",
       "      <th>Takasa Uygun:</th>\n",
       "      <th>Kimden:</th>\n",
       "    </tr>\n",
       "  </thead>\n",
       "  <tbody>\n",
       "    <tr>\n",
       "      <th>0</th>\n",
       "      <td>473.750 TL</td>\n",
       "      <td>14272378</td>\n",
       "      <td>25 Nisan 2020</td>\n",
       "      <td>Mercedes - Benz</td>\n",
       "      <td>E</td>\n",
       "      <td>180 AMG</td>\n",
       "      <td>2017</td>\n",
       "      <td>Benzin</td>\n",
       "      <td>Otomatik</td>\n",
       "      <td>1595 cc</td>\n",
       "      <td>156 hp</td>\n",
       "      <td>32.000 km</td>\n",
       "      <td>Tamamı orjinal</td>\n",
       "      <td>Takasa Uygun Değil</td>\n",
       "      <td>Galeriden</td>\n",
       "    </tr>\n",
       "  </tbody>\n",
       "</table>\n",
       "</div>"
      ],
      "text/plain": [
       "        fiyat  İlan No:   İlan Tarihi:           Marka: Seri:   Model:  Yıl:  \\\n",
       "0  473.750 TL  14272378  25 Nisan 2020  Mercedes - Benz     E  180 AMG  2017   \n",
       "\n",
       "  Yakıt Tipi: Vites Tipi: Motor Hacmi: Motor Gücü: Kilometre:   Boya-değişen:  \\\n",
       "0      Benzin    Otomatik      1595 cc      156 hp  32.000 km  Tamamı orjinal   \n",
       "\n",
       "        Takasa Uygun:    Kimden:  \n",
       "0  Takasa Uygun Değil  Galeriden  "
      ]
     },
     "execution_count": 265,
     "metadata": {},
     "output_type": "execute_result"
    }
   ],
   "source": [
    "arabaDF"
   ]
  },
  {
   "cell_type": "code",
   "execution_count": 266,
   "metadata": {},
   "outputs": [],
   "source": [
    "arabaDF.to_csv(\"test.txt\")"
   ]
  },
  {
   "cell_type": "code",
   "execution_count": null,
   "metadata": {},
   "outputs": [],
   "source": []
  }
 ],
 "metadata": {
  "kernelspec": {
   "display_name": "Python 3",
   "language": "python",
   "name": "python3"
  },
  "language_info": {
   "codemirror_mode": {
    "name": "ipython",
    "version": 3
   },
   "file_extension": ".py",
   "mimetype": "text/x-python",
   "name": "python",
   "nbconvert_exporter": "python",
   "pygments_lexer": "ipython3",
   "version": "3.7.7"
  }
 },
 "nbformat": 4,
 "nbformat_minor": 4
}
