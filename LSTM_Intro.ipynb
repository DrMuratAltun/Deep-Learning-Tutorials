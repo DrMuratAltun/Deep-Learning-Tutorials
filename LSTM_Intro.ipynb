{
  "nbformat": 4,
  "nbformat_minor": 0,
  "metadata": {
    "colab": {
      "name": "LSTM_Intro.ipynb",
      "provenance": [],
      "collapsed_sections": [],
      "authorship_tag": "ABX9TyMIJa9GShNu24KjjhfUXKm8",
      "include_colab_link": true
    },
    "kernelspec": {
      "name": "python3",
      "display_name": "Python 3"
    }
  },
  "cells": [
    {
      "cell_type": "markdown",
      "metadata": {
        "id": "view-in-github",
        "colab_type": "text"
      },
      "source": [
        "<a href=\"https://colab.research.google.com/github/kmkarakaya/ML_tutorials/blob/master/LSTM_Intro.ipynb\" target=\"_parent\"><img src=\"https://colab.research.google.com/assets/colab-badge.svg\" alt=\"Open In Colab\"/></a>"
      ]
    },
    {
      "cell_type": "code",
      "metadata": {
        "id": "ejlCnWNlFzdm",
        "colab_type": "code",
        "cellView": "form",
        "colab": {}
      },
      "source": [
        "#@title Check GPU\n",
        "%tensorflow_version 2.x\n",
        "import tensorflow as tf\n",
        "device_name = tf.test.gpu_device_name()\n",
        "if device_name != '/device:GPU:0':\n",
        "  raise SystemError('GPU device not found')\n",
        "print('Found GPU at: {}'.format(device_name))"
      ],
      "execution_count": null,
      "outputs": []
    },
    {
      "cell_type": "code",
      "metadata": {
        "id": "VbUbGOuqFzUY",
        "colab_type": "code",
        "cellView": "form",
        "colab": {
          "base_uri": "https://localhost:8080/",
          "height": 51
        },
        "outputId": "2c7f7524-936f-4a12-9ad8-6bdc32a496b6"
      },
      "source": [
        "#@title Version Info\n",
        "print('tf version: ', tf.__version__)\n",
        "print('tf.keras version:', tf.keras.__version__)\n"
      ],
      "execution_count": null,
      "outputs": [
        {
          "output_type": "stream",
          "text": [
            "tf version:  2.2.0\n",
            "tf.keras version: 2.3.0-tf\n"
          ],
          "name": "stdout"
        }
      ]
    },
    {
      "cell_type": "markdown",
      "metadata": {
        "id": "Mi1tgH2TAFsB",
        "colab_type": "text"
      },
      "source": [
        "#References:\n",
        "[tf.keras.layers.LSTM official website](https://www.tensorflow.org/api_docs/python/tf/keras/layers/LSTM)\n",
        "\n",
        "[The base example](https://machinelearningmastery.com/encoder-decoder-attention-sequence-to-sequence-prediction-keras/)\n",
        "\n",
        "[My Presentation in PPT format]()\n"
      ]
    },
    {
      "cell_type": "code",
      "metadata": {
        "id": "J9ZhrUeTDsx-",
        "colab_type": "code",
        "cellView": "form",
        "colab": {}
      },
      "source": [
        "#@title Import Libraries\n",
        "from random import randint\n",
        "from numpy import array\n",
        "from numpy import argmax\n",
        "\n",
        "from tensorflow.keras import models\n",
        "from numpy import array_equal\n",
        "import numpy as np\n",
        "from tensorflow.keras.models import Sequential, Model\n",
        "from tensorflow.keras.layers import LSTM\n",
        "from tensorflow.keras.layers import Dense, Flatten\n",
        "from tensorflow.keras import Input\n",
        "from tensorflow.keras.layers import TimeDistributed\n",
        "from tensorflow.keras.layers import RepeatVector"
      ],
      "execution_count": null,
      "outputs": []
    },
    {
      "cell_type": "code",
      "metadata": {
        "id": "feLfHoNmBeXu",
        "colab_type": "code",
        "cellView": "form",
        "colab": {}
      },
      "source": [
        "#@title Generate one_hot_encoded Input & Output Sequences\n",
        "\n",
        "\n",
        "# generate a sequence of random integers\n",
        "def generate_sequence(length, n_unique):\n",
        "\treturn [randint(0, n_unique-1) for _ in range(length)]\n",
        "\n",
        "# one hot encode sequence\n",
        "def one_hot_encode(sequence, n_unique):\n",
        "\tencoding = list()\n",
        "\tfor value in sequence:\n",
        "\t\tvector = [0 for _ in range(n_unique)]\n",
        "\t\tvector[value] = 1\n",
        "\t\tencoding.append(vector)\n",
        "\treturn array(encoding)\n",
        "\n",
        "# decode a one hot encoded string\n",
        "def one_hot_decode(encoded_seq):\n",
        "\treturn [argmax(vector) for vector in encoded_seq]\n",
        "\n",
        "# prepare data for the LSTM\n",
        "def get_pair(n_in, n_out, n_unique, verbose= False):\n",
        "\t# generate random sequence\n",
        "\tsequence_in = generate_sequence(n_in, n_unique)\n",
        "\tsequence_out = sequence_in[:n_out] + [0 for _ in range(n_in-n_out)]\n",
        "\t# one hot encode\n",
        "\tX = one_hot_encode(sequence_in, n_unique)\n",
        "\ty = one_hot_encode(sequence_out, n_unique)\n",
        "\t# reshape as 3D\n",
        "\tX = X.reshape((1, X.shape[0], X.shape[1]))\n",
        "\ty = y.reshape((1, y.shape[0], y.shape[1]))\n",
        "\n",
        "\tif(verbose):\n",
        "\t\tprint('Generated sequences as follows')\n",
        "\t\tprint('X.shape: ', X.shape,'y.shape: ', y.shape)\n",
        "\t\tprint('\\nSample X and y')\n",
        "\t\tprint('\\nIn raw format:')\n",
        "\t\tprint('X=%s, y=%s' % (one_hot_decode(X[0]), one_hot_decode(y[0])))\n",
        "\t\tprint('\\nIn one_hot_encoded format:')\n",
        "\t\tprint('X=%s' % (X[0]))\n",
        "\treturn X,y"
      ],
      "execution_count": null,
      "outputs": []
    },
    {
      "cell_type": "code",
      "metadata": {
        "id": "4QW42m7LCHtO",
        "colab_type": "code",
        "cellView": "form",
        "colab": {
          "base_uri": "https://localhost:8080/",
          "height": 240
        },
        "outputId": "96946cd2-9a10-4345-a577-28b09e682fdd"
      },
      "source": [
        "#@title Configure problem\n",
        "\n",
        "n_timesteps_in = 4  #@param {type:\"integer\"}\n",
        "#each input sample has 4 values\n",
        "\n",
        "n_features = 10   #@param {type:\"integer\"}\n",
        "#each value is one_hot_encoded with 10 0/1\n",
        "n_timesteps_out = 2  #@param {type:\"integer\"}\n",
        "#each output sample has 2 values padded with 0\n",
        "\n",
        "# generate random sequence\n",
        "X,y = get_pair(n_timesteps_in, n_timesteps_out, n_features, verbose=True)"
      ],
      "execution_count": null,
      "outputs": [
        {
          "output_type": "stream",
          "text": [
            "Generated sequences as follows\n",
            "X.shape:  (1, 4, 10) y.shape:  (1, 4, 10)\n",
            "\n",
            "Sample X and y\n",
            "\n",
            "In raw format:\n",
            "X=[6, 2, 3, 7], y=[6, 2, 0, 0]\n",
            "\n",
            "In one_hot_encoded format:\n",
            "X=[[0 0 0 0 0 0 1 0 0 0]\n",
            " [0 0 1 0 0 0 0 0 0 0]\n",
            " [0 0 0 1 0 0 0 0 0 0]\n",
            " [0 0 0 0 0 0 0 1 0 0]]\n"
          ],
          "name": "stdout"
        }
      ]
    },
    {
      "cell_type": "code",
      "metadata": {
        "id": "kAH_YT1Zhgyy",
        "colab_type": "code",
        "colab": {
          "base_uri": "https://localhost:8080/",
          "height": 223
        },
        "outputId": "a5fa1dcc-e6ff-4ce1-d688-423576afb603"
      },
      "source": [
        "# define model\n",
        "numberOfLSTMcells= 100\n",
        "\n",
        "input =Input(shape=(n_timesteps_in, n_features))\n",
        "output= LSTM(numberOfLSTMcells, return_sequences=True) (input)\n",
        "model1 = Model(inputs=input, outputs=output)\n",
        "model1.summary()"
      ],
      "execution_count": null,
      "outputs": [
        {
          "output_type": "stream",
          "text": [
            "Model: \"model_5\"\n",
            "_________________________________________________________________\n",
            "Layer (type)                 Output Shape              Param #   \n",
            "=================================================================\n",
            "input_15 (InputLayer)        [(None, 4, 10)]           0         \n",
            "_________________________________________________________________\n",
            "lstm_22 (LSTM)               (None, 4, 100)            44400     \n",
            "=================================================================\n",
            "Total params: 44,400\n",
            "Trainable params: 44,400\n",
            "Non-trainable params: 0\n",
            "_________________________________________________________________\n"
          ],
          "name": "stdout"
        }
      ]
    },
    {
      "cell_type": "code",
      "metadata": {
        "id": "iI_pOkrTBd2A",
        "colab_type": "code",
        "colab": {}
      },
      "source": [
        "#lstm, state_h, state_c"
      ],
      "execution_count": null,
      "outputs": []
    },
    {
      "cell_type": "code",
      "metadata": {
        "id": "sZVAuAfKDb6z",
        "colab_type": "code",
        "colab": {
          "base_uri": "https://localhost:8080/",
          "height": 291
        },
        "outputId": "aad1a3b9-4543-4bac-ab7d-5c4559d40f5f"
      },
      "source": [
        "# define model\n",
        "model = Sequential()\n",
        "model.add(Input(shape=(n_timesteps_in, n_features)))\n",
        "model.add(LSTM(150))\n",
        "model.add(RepeatVector(n_timesteps_in))\n",
        "model.add(LSTM(150, return_sequences=True))\n",
        "model.add(TimeDistributed(Dense(n_features, activation='softmax')))\n",
        "model.compile(loss='categorical_crossentropy', optimizer='adam', \n",
        "              metrics=['accuracy'])\n",
        "model.summary()\n"
      ],
      "execution_count": null,
      "outputs": [
        {
          "output_type": "stream",
          "text": [
            "Model: \"sequential_6\"\n",
            "_________________________________________________________________\n",
            "Layer (type)                 Output Shape              Param #   \n",
            "=================================================================\n",
            "lstm_14 (LSTM)               (None, 150)               96600     \n",
            "_________________________________________________________________\n",
            "repeat_vector_6 (RepeatVecto (None, 4, 150)            0         \n",
            "_________________________________________________________________\n",
            "lstm_15 (LSTM)               (None, 4, 150)            180600    \n",
            "_________________________________________________________________\n",
            "time_distributed_4 (TimeDist (None, 4, 10)             1510      \n",
            "=================================================================\n",
            "Total params: 278,710\n",
            "Trainable params: 278,710\n",
            "Non-trainable params: 0\n",
            "_________________________________________________________________\n"
          ],
          "name": "stdout"
        }
      ]
    },
    {
      "cell_type": "code",
      "metadata": {
        "id": "JHDIEj53Dj5p",
        "colab_type": "code",
        "colab": {}
      },
      "source": [
        "# train LSTM\n",
        "for epoch in range(500):\n",
        "\t# generate new random sequence\n",
        "\tX,y = get_pair(n_timesteps_in, n_timesteps_out, n_features)\n",
        "\t# fit model for one epoch on this sequence\n",
        "\tmodel.fit(X, y, epochs=1, verbose=2)\n",
        "\tprint(epoch,' finished...')"
      ],
      "execution_count": null,
      "outputs": []
    },
    {
      "cell_type": "code",
      "metadata": {
        "id": "_nhtjVH2EHqi",
        "colab_type": "code",
        "colab": {
          "base_uri": "https://localhost:8080/",
          "height": 34
        },
        "outputId": "d2c4c65f-d3f4-46cd-91c6-0af799726110"
      },
      "source": [
        "# evaluate LSTM\n",
        "total, correct = 100, 0\n",
        "for _ in range(total):\n",
        "\tX,y = get_pair(n_timesteps_in, n_timesteps_out, n_features)\n",
        "\tyhat = model.predict(X, verbose=0)\n",
        "\tif array_equal(one_hot_decode(y[0]), one_hot_decode(yhat[0])):\n",
        "\t\tcorrect += 1\n",
        "print('Accuracy: %.2f%%' % (float(correct)/float(total)*100.0))"
      ],
      "execution_count": null,
      "outputs": [
        {
          "output_type": "stream",
          "text": [
            "Accuracy: 28.00%\n"
          ],
          "name": "stdout"
        }
      ]
    },
    {
      "cell_type": "code",
      "metadata": {
        "id": "7bnnZLybGs2p",
        "colab_type": "code",
        "colab": {
          "base_uri": "https://localhost:8080/",
          "height": 188
        },
        "outputId": "17c2b3a3-66cf-4243-a943-dd4a0c3f80ca"
      },
      "source": [
        "# spot check some examples\n",
        "for _ in range(10):\n",
        "\tX,y = get_pair(n_timesteps_in, n_timesteps_out, n_features)\n",
        "\tyhat = model.predict(X, verbose=0)\n",
        "\tprint('Input',one_hot_decode(X[0]),\n",
        "\t      'Expected:', one_hot_decode(y[0]), \n",
        "\t\t\t\t   'Predicted', one_hot_decode(yhat[0]))"
      ],
      "execution_count": null,
      "outputs": [
        {
          "output_type": "stream",
          "text": [
            "Input [7, 6, 2, 5] Expected: [7, 6, 0, 0] Predicted [7, 7, 0, 0]\n",
            "Input [5, 8, 1, 9] Expected: [5, 8, 0, 0] Predicted [5, 5, 0, 0]\n",
            "Input [4, 8, 4, 1] Expected: [4, 8, 0, 0] Predicted [4, 4, 0, 0]\n",
            "Input [7, 2, 7, 1] Expected: [7, 2, 0, 0] Predicted [7, 2, 0, 0]\n",
            "Input [7, 7, 8, 8] Expected: [7, 7, 0, 0] Predicted [7, 7, 0, 0]\n",
            "Input [4, 6, 3, 4] Expected: [4, 6, 0, 0] Predicted [4, 4, 0, 0]\n",
            "Input [1, 1, 3, 2] Expected: [1, 1, 0, 0] Predicted [1, 1, 0, 0]\n",
            "Input [8, 4, 5, 7] Expected: [8, 4, 0, 0] Predicted [8, 8, 0, 0]\n",
            "Input [0, 2, 3, 3] Expected: [0, 2, 0, 0] Predicted [3, 0, 0, 0]\n",
            "Input [0, 0, 5, 2] Expected: [0, 0, 0, 0] Predicted [0, 0, 0, 0]\n"
          ],
          "name": "stdout"
        }
      ]
    },
    {
      "cell_type": "code",
      "metadata": {
        "id": "pi4F3jLlKQEY",
        "colab_type": "code",
        "colab": {}
      },
      "source": [
        "x= tf.constant([[3,4,5]])\n",
        "print(x)\n",
        "tf.keras.layers.RepeatVector(3)(x)"
      ],
      "execution_count": null,
      "outputs": []
    },
    {
      "cell_type": "code",
      "metadata": {
        "id": "V0LoGhuhKhLk",
        "colab_type": "code",
        "colab": {
          "base_uri": "https://localhost:8080/",
          "height": 257
        },
        "outputId": "4fe2ef60-14d8-4987-8b77-bc65fc4dfa98"
      },
      "source": [
        "# define model\n",
        "model3 = Sequential()\n",
        "model3.add(Input(shape=(n_timesteps_in, n_features)))\n",
        "model3.add(LSTM(150, return_sequences=True))\n",
        "model3.add(LSTM(150, return_sequences=True))\n",
        "model3.add(TimeDistributed(Dense(n_features, activation='softmax')))\n",
        "model3.compile(loss='categorical_crossentropy', optimizer='adam', \n",
        "               metrics=['accuracy'])\n",
        "model3.summary()"
      ],
      "execution_count": null,
      "outputs": [
        {
          "output_type": "stream",
          "text": [
            "Model: \"sequential_8\"\n",
            "_________________________________________________________________\n",
            "Layer (type)                 Output Shape              Param #   \n",
            "=================================================================\n",
            "lstm_18 (LSTM)               (None, 4, 150)            96600     \n",
            "_________________________________________________________________\n",
            "lstm_19 (LSTM)               (None, 4, 150)            180600    \n",
            "_________________________________________________________________\n",
            "time_distributed_6 (TimeDist (None, 4, 10)             1510      \n",
            "=================================================================\n",
            "Total params: 278,710\n",
            "Trainable params: 278,710\n",
            "Non-trainable params: 0\n",
            "_________________________________________________________________\n"
          ],
          "name": "stdout"
        }
      ]
    },
    {
      "cell_type": "code",
      "metadata": {
        "id": "8iVVgbN-JInY",
        "colab_type": "code",
        "colab": {}
      },
      "source": [
        "# train LSTM\n",
        "for epoch in range(1500):\n",
        "\t# generate new random sequence\n",
        "\tX,y = get_pair(n_timesteps_in, n_timesteps_out, n_features)\n",
        "\t# fit model for one epoch on this sequence\n",
        "\tmodel3.fit(X, y, epochs=1, verbose=2)\n",
        "\tprint(epoch,' finished...')"
      ],
      "execution_count": null,
      "outputs": []
    },
    {
      "cell_type": "code",
      "metadata": {
        "id": "PBG-g-_OKORT",
        "colab_type": "code",
        "colab": {
          "base_uri": "https://localhost:8080/",
          "height": 34
        },
        "outputId": "6132947e-61de-46bf-b36e-64d8aa62b747"
      },
      "source": [
        "# evaluate LSTM\n",
        "total, correct = 100, 0\n",
        "for _ in range(total):\n",
        "\tX,y = get_pair(n_timesteps_in, n_timesteps_out, n_features)\n",
        "\tyhat = model3.predict(X, verbose=0)\n",
        "\tif array_equal(one_hot_decode(y[0]), one_hot_decode(yhat[0])):\n",
        "\t\tcorrect += 1\n",
        "print('Accuracy: %.2f%%' % (float(correct)/float(total)*100.0))"
      ],
      "execution_count": null,
      "outputs": [
        {
          "output_type": "stream",
          "text": [
            "Accuracy: 100.00%\n"
          ],
          "name": "stdout"
        }
      ]
    },
    {
      "cell_type": "code",
      "metadata": {
        "id": "d6VV9YyMMSW2",
        "colab_type": "code",
        "colab": {
          "base_uri": "https://localhost:8080/",
          "height": 188
        },
        "outputId": "488db096-c101-44f7-b3f2-1800a90250f9"
      },
      "source": [
        "# spot check some examples\n",
        "for _ in range(10):\n",
        "\tX,y = get_pair(n_timesteps_in, n_timesteps_out, n_features)\n",
        "\tyhat = model3.predict(X, verbose=0)\n",
        "\tprint('Input',one_hot_decode(X[0]),\n",
        "\t      'Expected:', one_hot_decode(y[0]), \n",
        "\t\t\t\t   'Predicted', one_hot_decode(yhat[0]))"
      ],
      "execution_count": null,
      "outputs": [
        {
          "output_type": "stream",
          "text": [
            "Input [3, 2, 7, 6] Expected: [3, 2, 0, 0] Predicted [3, 2, 0, 0]\n",
            "Input [1, 2, 7, 0] Expected: [1, 2, 0, 0] Predicted [1, 2, 0, 0]\n",
            "Input [2, 7, 3, 9] Expected: [2, 7, 0, 0] Predicted [2, 7, 0, 0]\n",
            "Input [8, 1, 4, 4] Expected: [8, 1, 0, 0] Predicted [8, 1, 0, 0]\n",
            "Input [5, 6, 4, 2] Expected: [5, 6, 0, 0] Predicted [5, 6, 0, 0]\n",
            "Input [6, 1, 8, 8] Expected: [6, 1, 0, 0] Predicted [6, 1, 0, 0]\n",
            "Input [5, 3, 5, 4] Expected: [5, 3, 0, 0] Predicted [5, 3, 0, 0]\n",
            "Input [6, 3, 4, 6] Expected: [6, 3, 0, 0] Predicted [6, 3, 0, 0]\n",
            "Input [9, 1, 5, 0] Expected: [9, 1, 0, 0] Predicted [9, 1, 0, 0]\n",
            "Input [6, 0, 3, 5] Expected: [6, 0, 0, 0] Predicted [6, 0, 0, 0]\n"
          ],
          "name": "stdout"
        }
      ]
    }
  ]
}