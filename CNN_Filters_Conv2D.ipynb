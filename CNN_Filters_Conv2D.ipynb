{
  "nbformat": 4,
  "nbformat_minor": 0,
  "metadata": {
    "colab": {
      "name": "CNN_Filters_Conv2D.ipynb",
      "provenance": [],
      "collapsed_sections": [],
      "authorship_tag": "ABX9TyO9pXiR0/DrgJMZk3EjtwAd",
      "include_colab_link": true
    },
    "kernelspec": {
      "name": "python3",
      "display_name": "Python 3"
    }
  },
  "cells": [
    {
      "cell_type": "markdown",
      "metadata": {
        "id": "view-in-github",
        "colab_type": "text"
      },
      "source": [
        "<a href=\"https://colab.research.google.com/github/kmkarakaya/ML_tutorials/blob/master/CNN_Filters_Conv2D.ipynb\" target=\"_parent\"><img src=\"https://colab.research.google.com/assets/colab-badge.svg\" alt=\"Open In Colab\"/></a>"
      ]
    },
    {
      "cell_type": "code",
      "metadata": {
        "id": "EmZ4g1dValhI",
        "colab_type": "code",
        "cellView": "form",
        "colab": {}
      },
      "source": [
        "#@title Import Libraries\n",
        "%matplotlib inline\n",
        "# load and show an image with Pillow\n",
        "from PIL import Image\n",
        "# load the image\n",
        "from IPython.display import display # to display images\n",
        "from matplotlib import pyplot as plt # to display images\n",
        "from matplotlib.pyplot import figure\n",
        "import numpy as np\n"
      ],
      "execution_count": 246,
      "outputs": []
    },
    {
      "cell_type": "code",
      "metadata": {
        "id": "t9ijxclutx-S",
        "colab_type": "code",
        "cellView": "code",
        "colab": {
          "base_uri": "https://localhost:8080/",
          "height": 276
        },
        "outputId": "19bfa851-ee9f-42be-cb73-e5d5d1bca55f"
      },
      "source": [
        "#@title Reminder1: Matrix Multiplication Types \n",
        "x1 = np.arange(1,5).reshape((2, 2))\n",
        "x2 = np.arange(5,9).reshape((2, 2))\n",
        "display('x1',x1)\n",
        "display('x2',x2)\n",
        "#Matrix Multiplication\n",
        "print('Matrix Multiplication (np.matmul) result:\\n',np.matmul(x1, x2))\n",
        "\n",
        "#Element-Wise Matrix Multiplication\n",
        "print('Element-Wise Matrix Multiplication (np.multiply) result:\\n',np.multiply(x1, x2))\n",
        "\n",
        "#Element-Wise Matrix Multiplication\n",
        "print('Element-Wise Matrix Multiplication (*) result:\\n',x1 * x2)"
      ],
      "execution_count": 247,
      "outputs": [
        {
          "output_type": "display_data",
          "data": {
            "application/vnd.google.colaboratory.intrinsic+json": {
              "type": "string"
            },
            "text/plain": [
              "'x1'"
            ]
          },
          "metadata": {
            "tags": []
          }
        },
        {
          "output_type": "display_data",
          "data": {
            "text/plain": [
              "array([[1, 2],\n",
              "       [3, 4]])"
            ]
          },
          "metadata": {
            "tags": []
          }
        },
        {
          "output_type": "display_data",
          "data": {
            "application/vnd.google.colaboratory.intrinsic+json": {
              "type": "string"
            },
            "text/plain": [
              "'x2'"
            ]
          },
          "metadata": {
            "tags": []
          }
        },
        {
          "output_type": "display_data",
          "data": {
            "text/plain": [
              "array([[5, 6],\n",
              "       [7, 8]])"
            ]
          },
          "metadata": {
            "tags": []
          }
        },
        {
          "output_type": "stream",
          "text": [
            "Matrix Multiplication (np.matmul) result:\n",
            " [[19 22]\n",
            " [43 50]]\n",
            "Element-Wise Matrix Multiplication (np.multiply) result:\n",
            " [[ 5 12]\n",
            " [21 32]]\n",
            "Element-Wise Matrix Multiplication (*) result:\n",
            " [[ 5 12]\n",
            " [21 32]]\n"
          ],
          "name": "stdout"
        }
      ]
    },
    {
      "cell_type": "code",
      "metadata": {
        "id": "yps9z0k9xGMd",
        "colab_type": "code",
        "cellView": "code",
        "colab": {
          "base_uri": "https://localhost:8080/",
          "height": 154
        },
        "outputId": "62776765-b755-4eab-b290-06bd1c9af9a6"
      },
      "source": [
        "#@title Reminder2: Padding with Zero \n",
        "print('Original Matrix\\n',x1)\n",
        "padded = np.zeros(shape=(x1.shape[0]+2,x1.shape[0]+2))\n",
        "padded[1:3,1:3]=x1\n",
        "print('Padded Matrix\\n',padded)"
      ],
      "execution_count": 248,
      "outputs": [
        {
          "output_type": "stream",
          "text": [
            "Original Matrix\n",
            " [[1 2]\n",
            " [3 4]]\n",
            "Padded Matrix\n",
            " [[0. 0. 0. 0.]\n",
            " [0. 1. 2. 0.]\n",
            " [0. 3. 4. 0.]\n",
            " [0. 0. 0. 0.]]\n"
          ],
          "name": "stdout"
        }
      ]
    },
    {
      "cell_type": "markdown",
      "metadata": {
        "id": "ffS-MQeJyaDP",
        "colab_type": "text"
      },
      "source": [
        "#Prepare Dataset\n",
        "* Prepare images with different shapes in 2 different resolutions: **8x8** and **64x64**\n",
        "* You can use MS Paint **Resize** function\n"
      ]
    },
    {
      "cell_type": "code",
      "metadata": {
        "id": "Xg7L_noCoXxZ",
        "colab_type": "code",
        "cellView": "form",
        "colab": {
          "base_uri": "https://localhost:8080/",
          "height": 103
        },
        "outputId": "56360f4f-2885-4949-b071-1976c0aee13a"
      },
      "source": [
        "#@title Load Image\n",
        "fileName = \"+8.png\" #@param {type:\"string\"}\n",
        "image = Image.open(fileName)\n",
        "# summarize some details about the image\n",
        "print('image.format: ', image.format)\n",
        "print('image mode: ', image.mode)\n",
        "print('Image size: ',image.size)\n",
        "imageMatrix=np.array(image)\n",
        "print('Image shape:', imageMatrix.shape)\n",
        "# show the image\n",
        "display(image)"
      ],
      "execution_count": 249,
      "outputs": [
        {
          "output_type": "stream",
          "text": [
            "image.format:  PNG\n",
            "image mode:  RGB\n",
            "Image size:  (8, 8)\n",
            "Image shape: (8, 8, 3)\n"
          ],
          "name": "stdout"
        },
        {
          "output_type": "display_data",
          "data": {
            "image/png": "[encoded data removed]",
            "text/plain": [
              "<PIL.PngImagePlugin.PngImageFile image mode=RGB size=8x8 at 0x7F5CC306F470>"
            ]
          },
          "metadata": {
            "tags": []
          }
        }
      ]
    },
    {
      "cell_type": "markdown",
      "metadata": {
        "id": "u2zoJtbNtauF",
        "colab_type": "text"
      },
      "source": [
        "# Convert image to a 3D matrix"
      ]
    },
    {
      "cell_type": "code",
      "metadata": {
        "colab_type": "code",
        "id": "GpfaPHUVtkD0",
        "colab": {}
      },
      "source": [
        "imageMatrix=np.array(image)"
      ],
      "execution_count": 250,
      "outputs": []
    },
    {
      "cell_type": "markdown",
      "metadata": {
        "id": "yMu69zCIsvYa",
        "colab_type": "text"
      },
      "source": [
        "# Print the matrix shape (dimensions)\n",
        "* The image format is **RGB** which means that each point in the image has three values \\\n",
        "determining the **Red**, **Green** and **Blue** color depths.\n",
        "* Even image size is **NxN**, the image matrix has the shape **NxNx3** or **3xNxN**\n",
        "* The last (or first) dimension (3) indicates that for each point NxN has \\\n",
        "3 distinct values corresponding to RGB depths.\n",
        "  "
      ]
    },
    {
      "cell_type": "code",
      "metadata": {
        "id": "cilJtHZgp9vy",
        "colab_type": "code",
        "colab": {
          "base_uri": "https://localhost:8080/",
          "height": 34
        },
        "outputId": "19d0151c-8933-4328-b067-bf6bf314a8ed"
      },
      "source": [
        "print(imageMatrix.shape)"
      ],
      "execution_count": 251,
      "outputs": [
        {
          "output_type": "stream",
          "text": [
            "(8, 8, 3)\n"
          ],
          "name": "stdout"
        }
      ]
    },
    {
      "cell_type": "markdown",
      "metadata": {
        "id": "ySPBtVcNfsB-",
        "colab_type": "text"
      },
      "source": [
        "# Transpose the matrix such that color channels-first as 3xNxN matrix"
      ]
    },
    {
      "cell_type": "code",
      "metadata": {
        "id": "K3--KDZPfxH7",
        "colab_type": "code",
        "colab": {
          "base_uri": "https://localhost:8080/",
          "height": 34
        },
        "outputId": "a409471b-081f-44cf-c71f-55cdc641dace"
      },
      "source": [
        "imageMatrix = np.transpose(imageMatrix, (2,0,1))\n",
        "imageMatrix.shape"
      ],
      "execution_count": 252,
      "outputs": [
        {
          "output_type": "execute_result",
          "data": {
            "text/plain": [
              "(3, 8, 8)"
            ]
          },
          "metadata": {
            "tags": []
          },
          "execution_count": 252
        }
      ]
    },
    {
      "cell_type": "markdown",
      "metadata": {
        "id": "cpjNW5MqjUa2",
        "colab_type": "text"
      },
      "source": [
        "Let's see the values for each color channel"
      ]
    },
    {
      "cell_type": "code",
      "metadata": {
        "id": "ZiERhsq-jJFR",
        "colab_type": "code",
        "colab": {
          "base_uri": "https://localhost:8080/",
          "height": 463
        },
        "outputId": "205f1a90-3854-4f03-c5c4-08ead962985e"
      },
      "source": [
        "imageMatrix"
      ],
      "execution_count": 253,
      "outputs": [
        {
          "output_type": "execute_result",
          "data": {
            "text/plain": [
              "array([[[255, 255, 255, 143, 187, 255, 255, 255],\n",
              "        [255, 255, 255, 143, 187, 255, 255, 255],\n",
              "        [255, 255, 255, 147, 192, 255, 255, 255],\n",
              "        [187, 187, 196, 104, 137, 193, 187, 187],\n",
              "        [143, 143, 150,  79, 104, 148, 143, 143],\n",
              "        [255, 255, 255, 150, 195, 255, 255, 255],\n",
              "        [255, 255, 255, 143, 187, 255, 255, 255],\n",
              "        [255, 255, 255, 143, 187, 255, 255, 255]],\n",
              "\n",
              "       [[255, 255, 255, 143, 187, 255, 255, 255],\n",
              "        [255, 255, 255, 143, 187, 255, 255, 255],\n",
              "        [255, 255, 255, 147, 192, 255, 255, 255],\n",
              "        [187, 187, 196, 104, 137, 193, 187, 187],\n",
              "        [143, 143, 150,  79, 104, 148, 143, 143],\n",
              "        [255, 255, 255, 150, 195, 255, 255, 255],\n",
              "        [255, 255, 255, 143, 187, 255, 255, 255],\n",
              "        [255, 255, 255, 143, 187, 255, 255, 255]],\n",
              "\n",
              "       [[255, 255, 255, 143, 187, 255, 255, 255],\n",
              "        [255, 255, 255, 143, 187, 255, 255, 255],\n",
              "        [255, 255, 255, 147, 192, 255, 255, 255],\n",
              "        [187, 187, 196, 104, 137, 193, 187, 187],\n",
              "        [143, 143, 150,  79, 104, 148, 143, 143],\n",
              "        [255, 255, 255, 150, 195, 255, 255, 255],\n",
              "        [255, 255, 255, 143, 187, 255, 255, 255],\n",
              "        [255, 255, 255, 143, 187, 255, 255, 255]]], dtype=uint8)"
            ]
          },
          "metadata": {
            "tags": []
          },
          "execution_count": 253
        }
      ]
    },
    {
      "cell_type": "markdown",
      "metadata": {
        "id": "BEVCvajjs4tt",
        "colab_type": "text"
      },
      "source": [
        "# Drop color channels: \n",
        "* For the sake of simplicity, we will use only the **RED** (**first**) channel values for each NxN pixel in the image"
      ]
    },
    {
      "cell_type": "code",
      "metadata": {
        "id": "v2sjnGiFqDd8",
        "colab_type": "code",
        "colab": {
          "base_uri": "https://localhost:8080/",
          "height": 34
        },
        "outputId": "2a72e0a0-f0e7-41cb-9eea-6c5658da98c7"
      },
      "source": [
        "imageMatrix=imageMatrix[0,:,:]\n",
        "print(imageMatrix.shape)"
      ],
      "execution_count": 254,
      "outputs": [
        {
          "output_type": "stream",
          "text": [
            "(8, 8)\n"
          ],
          "name": "stdout"
        }
      ]
    },
    {
      "cell_type": "markdown",
      "metadata": {
        "id": "g_K-lCHltLuC",
        "colab_type": "text"
      },
      "source": [
        "# Print the matrix content"
      ]
    },
    {
      "cell_type": "code",
      "metadata": {
        "id": "t4xSqbVvqp0b",
        "colab_type": "code",
        "colab": {
          "base_uri": "https://localhost:8080/",
          "height": 154
        },
        "outputId": "54a1e2dd-f144-4e86-f1ea-7e3eb74c333a"
      },
      "source": [
        "imageMatrix"
      ],
      "execution_count": 255,
      "outputs": [
        {
          "output_type": "execute_result",
          "data": {
            "text/plain": [
              "array([[255, 255, 255, 143, 187, 255, 255, 255],\n",
              "       [255, 255, 255, 143, 187, 255, 255, 255],\n",
              "       [255, 255, 255, 147, 192, 255, 255, 255],\n",
              "       [187, 187, 196, 104, 137, 193, 187, 187],\n",
              "       [143, 143, 150,  79, 104, 148, 143, 143],\n",
              "       [255, 255, 255, 150, 195, 255, 255, 255],\n",
              "       [255, 255, 255, 143, 187, 255, 255, 255],\n",
              "       [255, 255, 255, 143, 187, 255, 255, 255]], dtype=uint8)"
            ]
          },
          "metadata": {
            "tags": []
          },
          "execution_count": 255
        }
      ]
    },
    {
      "cell_type": "markdown",
      "metadata": {
        "id": "oiqIz41v-1XN",
        "colab_type": "text"
      },
      "source": [
        "# Inverse the color values\n",
        "* In the above image matrix; White is 255 BLACK is 0,\n",
        "* We are looking for black lines\n",
        "*Thus, let's convert to WHITE to 0 and BLACK to 255 "
      ]
    },
    {
      "cell_type": "code",
      "metadata": {
        "id": "5MyUkFD571ZS",
        "colab_type": "code",
        "colab": {
          "base_uri": "https://localhost:8080/",
          "height": 154
        },
        "outputId": "b99b2738-75e8-49c6-b883-9e5681e046d9"
      },
      "source": [
        "imageMatrix=  255- imageMatrix \n",
        "imageMatrix"
      ],
      "execution_count": 256,
      "outputs": [
        {
          "output_type": "execute_result",
          "data": {
            "text/plain": [
              "array([[  0,   0,   0, 112,  68,   0,   0,   0],\n",
              "       [  0,   0,   0, 112,  68,   0,   0,   0],\n",
              "       [  0,   0,   0, 108,  63,   0,   0,   0],\n",
              "       [ 68,  68,  59, 151, 118,  62,  68,  68],\n",
              "       [112, 112, 105, 176, 151, 107, 112, 112],\n",
              "       [  0,   0,   0, 105,  60,   0,   0,   0],\n",
              "       [  0,   0,   0, 112,  68,   0,   0,   0],\n",
              "       [  0,   0,   0, 112,  68,   0,   0,   0]], dtype=uint8)"
            ]
          },
          "metadata": {
            "tags": []
          },
          "execution_count": 256
        }
      ]
    },
    {
      "cell_type": "markdown",
      "metadata": {
        "id": "TRxYfXSdsriZ",
        "colab_type": "text"
      },
      "source": [
        "# Normalize the matrix values between 0 & 1\n",
        "* In RGB format values are between 0 and 255\n",
        "* In ML, we prefer values between 0 and 1\n",
        "* Thus, we will matrix division by a scalar "
      ]
    },
    {
      "cell_type": "code",
      "metadata": {
        "id": "7PYdgejbsnd8",
        "colab_type": "code",
        "colab": {
          "base_uri": "https://localhost:8080/",
          "height": 291
        },
        "outputId": "0057c17d-5778-4256-8ee4-a137d943afed"
      },
      "source": [
        "imageMatrix=imageMatrix/255\n",
        "imageMatrix"
      ],
      "execution_count": 257,
      "outputs": [
        {
          "output_type": "execute_result",
          "data": {
            "text/plain": [
              "array([[0.        , 0.        , 0.        , 0.43921569, 0.26666667,\n",
              "        0.        , 0.        , 0.        ],\n",
              "       [0.        , 0.        , 0.        , 0.43921569, 0.26666667,\n",
              "        0.        , 0.        , 0.        ],\n",
              "       [0.        , 0.        , 0.        , 0.42352941, 0.24705882,\n",
              "        0.        , 0.        , 0.        ],\n",
              "       [0.26666667, 0.26666667, 0.23137255, 0.59215686, 0.4627451 ,\n",
              "        0.24313725, 0.26666667, 0.26666667],\n",
              "       [0.43921569, 0.43921569, 0.41176471, 0.69019608, 0.59215686,\n",
              "        0.41960784, 0.43921569, 0.43921569],\n",
              "       [0.        , 0.        , 0.        , 0.41176471, 0.23529412,\n",
              "        0.        , 0.        , 0.        ],\n",
              "       [0.        , 0.        , 0.        , 0.43921569, 0.26666667,\n",
              "        0.        , 0.        , 0.        ],\n",
              "       [0.        , 0.        , 0.        , 0.43921569, 0.26666667,\n",
              "        0.        , 0.        , 0.        ]])"
            ]
          },
          "metadata": {
            "tags": []
          },
          "execution_count": 257
        }
      ]
    },
    {
      "cell_type": "markdown",
      "metadata": {
        "id": "DcUHWIu2vePb",
        "colab_type": "text"
      },
      "source": [
        "# Check the min, max and mean values in the matrix"
      ]
    },
    {
      "cell_type": "code",
      "metadata": {
        "id": "2C67rx4NvLNY",
        "colab_type": "code",
        "colab": {
          "base_uri": "https://localhost:8080/",
          "height": 34
        },
        "outputId": "bed40b5c-06ab-4a03-e353-36080ad39db5"
      },
      "source": [
        "print(imageMatrix.min(),imageMatrix.max(), imageMatrix.mean())"
      ],
      "execution_count": 258,
      "outputs": [
        {
          "output_type": "stream",
          "text": [
            "0.0 0.6901960784313725 0.16574754901960784\n"
          ],
          "name": "stdout"
        }
      ]
    },
    {
      "cell_type": "markdown",
      "metadata": {
        "id": "z-kEwNgjv0Fl",
        "colab_type": "text"
      },
      "source": [
        "# CREATE A FILTER for + \n",
        "* We want to know if there is  **+** in the given image\n",
        "* Therefore, we will create a \"**filter**\" which will let **+** pass through this \"filter\" and ***stop*** other shape values\n",
        "* IMPORTANT: In Convolutional Nueral Networks (**CNN**) the filters (i.e. the numbers in the filters: ***weights***) are \\\n",
        "found at the end of the network **training** **automatically**! \n",
        "\n",
        "* Here, for the sake of simplicity, we will assign weights **manually**. \n"
      ]
    },
    {
      "cell_type": "markdown",
      "metadata": {
        "id": "07qoapw2wQCi",
        "colab_type": "text"
      },
      "source": [
        "## Create + filter (**kernel size**=8x8) by setting up a new matrix\n",
        "* Notice that the possible location of \"+\" is centered and **weihgts** are assigned with **1 **values\n",
        "* Out of the \"+\" shape loacations, the weights are initialized with **-1** not **Zero**. **Why?**"
      ]
    },
    {
      "cell_type": "code",
      "metadata": {
        "id": "U3s9O59BvZMi",
        "colab_type": "code",
        "colab": {
          "base_uri": "https://localhost:8080/",
          "height": 34
        },
        "outputId": "c3fb4a4f-599f-4a4b-85d6-0db392def4b9"
      },
      "source": [
        "plusFilter=np.array([[-1,-1,-1,1,1,-1,-1,-1],\n",
        "                     [-1,-1,-1,1,1,-1,-1,-1],\n",
        "                     [-1,-1,-1,1,1,-1,-1,-1],\n",
        "                     [ 1, 1, 1,1,1, 1, 1, 1],\n",
        "                     [ 1, 1, 1,1,1, 1, 1, 1],\n",
        "                     [-1,-1,-1,1,1,-1,-1,-1],\n",
        "                     [-1,-1,-1,1,1,-1,-1,-1],\n",
        "                     [-1,-1,-1,1,1,-1,-1,-1]\n",
        "                     ])\n",
        "\n",
        "plusFilter.shape"
      ],
      "execution_count": 259,
      "outputs": [
        {
          "output_type": "execute_result",
          "data": {
            "text/plain": [
              "(8, 8)"
            ]
          },
          "metadata": {
            "tags": []
          },
          "execution_count": 259
        }
      ]
    },
    {
      "cell_type": "code",
      "metadata": {
        "id": "bgRcY2lskkfc",
        "colab_type": "code",
        "colab": {
          "base_uri": "https://localhost:8080/",
          "height": 154
        },
        "outputId": "8a26a99c-317e-4c05-c258-dbb18932e4f0"
      },
      "source": [
        "plusFilter"
      ],
      "execution_count": 260,
      "outputs": [
        {
          "output_type": "execute_result",
          "data": {
            "text/plain": [
              "array([[-1, -1, -1,  1,  1, -1, -1, -1],\n",
              "       [-1, -1, -1,  1,  1, -1, -1, -1],\n",
              "       [-1, -1, -1,  1,  1, -1, -1, -1],\n",
              "       [ 1,  1,  1,  1,  1,  1,  1,  1],\n",
              "       [ 1,  1,  1,  1,  1,  1,  1,  1],\n",
              "       [-1, -1, -1,  1,  1, -1, -1, -1],\n",
              "       [-1, -1, -1,  1,  1, -1, -1, -1],\n",
              "       [-1, -1, -1,  1,  1, -1, -1, -1]])"
            ]
          },
          "metadata": {
            "tags": []
          },
          "execution_count": 260
        }
      ]
    },
    {
      "cell_type": "markdown",
      "metadata": {
        "id": "y-qmWaSVohae",
        "colab_type": "text"
      },
      "source": [
        "# Show the filter as image"
      ]
    },
    {
      "cell_type": "code",
      "metadata": {
        "id": "A1_WfrLFol0h",
        "colab_type": "code",
        "cellView": "form",
        "colab": {
          "base_uri": "https://localhost:8080/",
          "height": 161
        },
        "outputId": "63c9c822-8104-40bd-ab95-96797e23cb6f"
      },
      "source": [
        "#@title \n",
        "figure(figsize=(plusFilter.shape[0]/8, plusFilter.shape[0]/8))\n",
        "plt.subplot(1, 2, 1)\n",
        "plt.imshow(plusFilter, interpolation='nearest')\n",
        "plt.title('plusFilter')\n",
        "\n",
        "figure(figsize=(imageMatrix.shape[0]/8, imageMatrix.shape[0]/8))\n",
        "plt.subplot(1, 2, 2)\n",
        "plt.title('imageMatrix')\n",
        "plt.imshow(imageMatrix, interpolation='nearest')\n",
        "plt.show()"
      ],
      "execution_count": 261,
      "outputs": [
        {
          "output_type": "display_data",
          "data": {
            "image/png": "[encoded data removed]",
            "text/plain": [
              "<Figure size 72x72 with 1 Axes>"
            ]
          },
          "metadata": {
            "tags": [],
            "needs_background": "light"
          }
        },
        {
          "output_type": "display_data",
          "data": {
            "image/png": "[encoded data removed]",
            "text/plain": [
              "<Figure size 72x72 with 1 Axes>"
            ]
          },
          "metadata": {
            "tags": [],
            "needs_background": "light"
          }
        }
      ]
    },
    {
      "cell_type": "markdown",
      "metadata": {
        "id": "ArB7IoWA44os",
        "colab_type": "text"
      },
      "source": [
        "## **CONVOLUTION**: Apply \"+\" filter to the image by Element wise Matrix Multiplication\n",
        "\n",
        "* Result is called a \"**feature map**\"\n",
        "\n"
      ]
    },
    {
      "cell_type": "code",
      "metadata": {
        "id": "-UFX4Ufh44Ay",
        "colab_type": "code",
        "colab": {}
      },
      "source": [
        "#featureMap= np.matmul(imageMatrix,plusFilter)\n",
        "featureMap= (imageMatrix*plusFilter)"
      ],
      "execution_count": 262,
      "outputs": []
    },
    {
      "cell_type": "code",
      "metadata": {
        "id": "6Fz9TleSwixY",
        "colab_type": "code",
        "cellView": "form",
        "colab": {
          "base_uri": "https://localhost:8080/",
          "height": 343
        },
        "outputId": "c80a1937-2e00-479e-bb61-1a78229bebcf"
      },
      "source": [
        "#@title Feature Map shape and weights\n",
        "print('Feature Map shape ',featureMap.shape)\n",
        "print('Feature Map weights: \\n')\n",
        "print(featureMap)"
      ],
      "execution_count": 263,
      "outputs": [
        {
          "output_type": "stream",
          "text": [
            "Feature Map shape  (8, 8)\n",
            "Feature Map weights: \n",
            "\n",
            "[[-0.         -0.         -0.          0.43921569  0.26666667 -0.\n",
            "  -0.         -0.        ]\n",
            " [-0.         -0.         -0.          0.43921569  0.26666667 -0.\n",
            "  -0.         -0.        ]\n",
            " [-0.         -0.         -0.          0.42352941  0.24705882 -0.\n",
            "  -0.         -0.        ]\n",
            " [ 0.26666667  0.26666667  0.23137255  0.59215686  0.4627451   0.24313725\n",
            "   0.26666667  0.26666667]\n",
            " [ 0.43921569  0.43921569  0.41176471  0.69019608  0.59215686  0.41960784\n",
            "   0.43921569  0.43921569]\n",
            " [-0.         -0.         -0.          0.41176471  0.23529412 -0.\n",
            "  -0.         -0.        ]\n",
            " [-0.         -0.         -0.          0.43921569  0.26666667 -0.\n",
            "  -0.         -0.        ]\n",
            " [-0.         -0.         -0.          0.43921569  0.26666667 -0.\n",
            "  -0.         -0.        ]]\n"
          ],
          "name": "stdout"
        }
      ]
    },
    {
      "cell_type": "code",
      "metadata": {
        "id": "SoqA2sS54o3_",
        "colab_type": "code",
        "cellView": "form",
        "colab": {
          "base_uri": "https://localhost:8080/",
          "height": 307
        },
        "outputId": "bbc4b50d-e0a5-4727-93f1-a4fcc9c67200"
      },
      "source": [
        "#@title Show Feature Map as image\n",
        "\n",
        "plt.subplot(1, 3, 1)\n",
        "plt.imshow(plusFilter, interpolation='nearest')\n",
        "plt.title('plusFilter')\n",
        "plt.show()\n",
        "\n",
        "\n",
        "plt.subplot(1, 3, 2)\n",
        "plt.title('imageMatrix')\n",
        "plt.imshow(imageMatrix, interpolation='nearest')\n",
        "\n",
        "\n",
        "\n",
        "plt.subplot(1, 3, 3)\n",
        "plt.imshow(featureMap, interpolation='nearest')\n",
        "plt.title('Feature Map')\n",
        "plt.show()"
      ],
      "execution_count": 264,
      "outputs": [
        {
          "output_type": "display_data",
          "data": {
            "image/png": "[encoded data removed]",
            "text/plain": [
              "<Figure size 432x288 with 1 Axes>"
            ]
          },
          "metadata": {
            "tags": [],
            "needs_background": "light"
          }
        },
        {
          "output_type": "display_data",
          "data": {
            "image/png": "[encoded data removed]",
            "text/plain": [
              "<Figure size 432x288 with 2 Axes>"
            ]
          },
          "metadata": {
            "tags": [],
            "needs_background": "light"
          }
        }
      ]
    },
    {
      "cell_type": "markdown",
      "metadata": {
        "id": "HlWHXD9cSBuG",
        "colab_type": "text"
      },
      "source": [
        "## Find Confidence of prediction\n",
        "* Use **Feature Map** to calculate a ***metric*** as an **indication** \\\n",
        "of filter shape ***exist*** in the given image matrix"
      ]
    },
    {
      "cell_type": "markdown",
      "metadata": {
        "id": "clA89gqfR5AN",
        "colab_type": "text"
      },
      "source": [
        "### Sum the positive and negative values in the Feature Map"
      ]
    },
    {
      "cell_type": "code",
      "metadata": {
        "id": "YQcF6thD5ivm",
        "colab_type": "code",
        "colab": {
          "base_uri": "https://localhost:8080/",
          "height": 34
        },
        "outputId": "66a1475a-08b2-44f9-b3b5-bdcd34487de7"
      },
      "source": [
        "totalPos= featureMap[featureMap>0].sum()\n",
        "totalNeg= featureMap[featureMap<0].sum()\n",
        "\n",
        "print(totalPos,totalNeg)"
      ],
      "execution_count": 265,
      "outputs": [
        {
          "output_type": "stream",
          "text": [
            "10.607843137254903 0.0\n"
          ],
          "name": "stdout"
        }
      ]
    },
    {
      "cell_type": "markdown",
      "metadata": {
        "id": "qYsGPAvVbW9m",
        "colab_type": "text"
      },
      "source": [
        "### Measure a ***confidence*** "
      ]
    },
    {
      "cell_type": "code",
      "metadata": {
        "id": "yw8BPTVh5vzh",
        "colab_type": "code",
        "colab": {
          "base_uri": "https://localhost:8080/",
          "height": 34
        },
        "outputId": "a19d3939-c32e-4971-cd18-d61f4fedca2d"
      },
      "source": [
        "confidence= totalPos/(totalPos-totalNeg)*100\n",
        "if confidence <50:\n",
        "  print('Image does NOT include a + (confidence:{0:.2f}% )'.format(100-confidence))\n",
        "else:\n",
        "  print('Image DOES  include a + (confidence:{0:.2f}% )'.format(confidence))"
      ],
      "execution_count": 266,
      "outputs": [
        {
          "output_type": "stream",
          "text": [
            "Image DOES  include a + (confidence:100.00% )\n"
          ],
          "name": "stdout"
        }
      ]
    },
    {
      "cell_type": "markdown",
      "metadata": {
        "id": "66dOVT8l41_y",
        "colab_type": "text"
      },
      "source": [
        "#IMAGE WITH A LARGER SIZE"
      ]
    },
    {
      "cell_type": "code",
      "metadata": {
        "id": "Q0GWiaRIMuNG",
        "colab_type": "code",
        "cellView": "form",
        "colab": {
          "base_uri": "https://localhost:8080/",
          "height": 150
        },
        "outputId": "ea9c9d9f-6a35-4f43-83f8-6f8c6b4a3044"
      },
      "source": [
        "#@title Load Image\n",
        "fileName = \"mix64.png\" #@param {type:\"string\"}\n",
        "image = Image.open(fileName)\n",
        "# summarize some details about the image\n",
        "print('image.format: ', image.format)\n",
        "print('image mode: ', image.mode)\n",
        "print('Image size: ',image.size)\n",
        "imageMatrix=np.array(image)\n",
        "print('Image shape: ', imageMatrix.shape)\n",
        "# show the image\n",
        "display(image)"
      ],
      "execution_count": 267,
      "outputs": [
        {
          "output_type": "stream",
          "text": [
            "image.format:  PNG\n",
            "image mode:  RGB\n",
            "Image size:  (64, 64)\n",
            "Image shape:  (64, 64, 3)\n"
          ],
          "name": "stdout"
        },
        {
          "output_type": "display_data",
          "data": {
            "image/png": "[encoded data removed]",
            "text/plain": [
              "<PIL.PngImagePlugin.PngImageFile image mode=RGB size=64x64 at 0x7F5CCCD9B748>"
            ]
          },
          "metadata": {
            "tags": []
          }
        }
      ]
    },
    {
      "cell_type": "code",
      "metadata": {
        "id": "MEESWhwOMeuR",
        "colab_type": "code",
        "colab": {
          "base_uri": "https://localhost:8080/",
          "height": 51
        },
        "outputId": "b767654a-54ba-4201-db67-011c28098b4d"
      },
      "source": [
        "imageMatrix=np.array(image)\n",
        "imageMatrix=np.float32(imageMatrix/255)\n",
        "imageMatrix=1-imageMatrix\n",
        "imageMatrix=imageMatrix[:,:,0]\n",
        "print('Image Matrix shape: ', imageMatrix.shape)\n",
        "print('Filter shape: ', plusFilter.shape)"
      ],
      "execution_count": 268,
      "outputs": [
        {
          "output_type": "stream",
          "text": [
            "Image Matrix shape:  (64, 64)\n",
            "Filter shape:  (8, 8)\n"
          ],
          "name": "stdout"
        }
      ]
    },
    {
      "cell_type": "code",
      "metadata": {
        "id": "JRWSfFpLUI1H",
        "colab_type": "code",
        "cellView": "form",
        "colab": {
          "base_uri": "https://localhost:8080/",
          "height": 423
        },
        "outputId": "33723572-edc2-4cb8-89da-bf5e57500350"
      },
      "source": [
        "#@title Show: initial featureMap, filter and image\n",
        "featureMap1 =  np.zeros(shape=(64,64))\n",
        "featureMap2=  np.zeros(shape=(57,57))\n",
        "\n",
        "figure(figsize=(16, 16))\n",
        "plt.subplot(1, 3, 1)\n",
        "plt.imshow(featureMap1, interpolation='nearest')\n",
        "plt.title('featureMap1')\n",
        "plt.subplot(1, 3, 2)\n",
        "plt.imshow(imageMatrix, interpolation='nearest')\n",
        "plt.title('imageMatrix')\n",
        "\n",
        "figure(figsize=(2, 2))\n",
        "plt.subplot(1, 3, 2)\n",
        "plt.imshow(plusFilter, interpolation='nearest')\n",
        "plt.title('plusFilter')\n",
        "\n"
      ],
      "execution_count": 269,
      "outputs": [
        {
          "output_type": "execute_result",
          "data": {
            "text/plain": [
              "Text(0.5, 1.0, 'plusFilter')"
            ]
          },
          "metadata": {
            "tags": []
          },
          "execution_count": 269
        },
        {
          "output_type": "display_data",
          "data": {
            "image/png": "[encoded data removed]",
            "text/plain": [
              "<Figure size 1152x1152 with 2 Axes>"
            ]
          },
          "metadata": {
            "tags": [],
            "needs_background": "light"
          }
        },
        {
          "output_type": "display_data",
          "data": {
            "image/png": "[encoded data removed]",
            "text/plain": [
              "<Figure size 144x144 with 1 Axes>"
            ]
          },
          "metadata": {
            "tags": [],
            "needs_background": "light"
          }
        }
      ]
    },
    {
      "cell_type": "code",
      "metadata": {
        "id": "Bq4B6-mSUCwx",
        "colab_type": "code",
        "colab": {}
      },
      "source": [
        "for row in range(int(imageMatrix.shape[0]-plusFilter.shape[0])):\n",
        "  for col in range(int(imageMatrix.shape[0]-plusFilter.shape[0])):\n",
        "    imagePart=imageMatrix[row:row+8,col:col+8]\n",
        "    convolution= (imagePart*plusFilter)\n",
        "    totalPos= convolution[convolution>0].sum()\n",
        "    if totalPos>14:\n",
        "      featureMap1[row:row+8,col:col+8]=featureMap1[row:row+8,col:col+8]+convolution\n",
        "\n",
        "    featureMap2[row,col]=convolution.sum()"
      ],
      "execution_count": 270,
      "outputs": []
    },
    {
      "cell_type": "code",
      "metadata": {
        "id": "4iljx5FpT0h8",
        "colab_type": "code",
        "cellView": "form",
        "colab": {
          "base_uri": "https://localhost:8080/",
          "height": 307
        },
        "outputId": "0b7b1461-5543-47fc-b530-5b7f0a78ef25"
      },
      "source": [
        "#@title Show Feature Maps as images\n",
        "\n",
        "figure(figsize=(20, 20))\n",
        "plt.subplot(1, 4, 2)\n",
        "plt.title('Feature Map 1') \n",
        "featureMap1[featureMap1<0]=0  \n",
        "plt.imshow(featureMap1, interpolation='nearest')\n",
        "plt.subplot(1, 4, 3)\n",
        "plt.title('Feature Map 2') \n",
        "featureMap2[featureMap2<0]=0 \n",
        "plt.imshow(featureMap2, interpolation='nearest')\n",
        "plt.subplot(1, 4, 4)\n",
        "plt.title('Image Matrix ')  \n",
        "plt.imshow(imageMatrix, interpolation='nearest')\n",
        "plt.show()"
      ],
      "execution_count": 271,
      "outputs": [
        {
          "output_type": "display_data",
          "data": {
            "image/png": "[encoded data removed]",
            "text/plain": [
              "<Figure size 1440x1440 with 3 Axes>"
            ]
          },
          "metadata": {
            "tags": [],
            "needs_background": "light"
          }
        }
      ]
    },
    {
      "cell_type": "code",
      "metadata": {
        "id": "dsQR9ASn6IgW",
        "colab_type": "code",
        "colab": {
          "base_uri": "https://localhost:8080/",
          "height": 34
        },
        "outputId": "66dccc97-04a4-42aa-8eac-6726bed3a5b9"
      },
      "source": [
        "selectedFeatureMap = featureMap1\n",
        "totalPos= selectedFeatureMap[selectedFeatureMap>0].sum()\n",
        "totalNeg= selectedFeatureMap[selectedFeatureMap<0].sum()\n",
        "\n",
        "print(totalPos,totalNeg)"
      ],
      "execution_count": 272,
      "outputs": [
        {
          "output_type": "stream",
          "text": [
            "180.0 0.0\n"
          ],
          "name": "stdout"
        }
      ]
    },
    {
      "cell_type": "code",
      "metadata": {
        "id": "KdV9IHeO6PEy",
        "colab_type": "code",
        "colab": {
          "base_uri": "https://localhost:8080/",
          "height": 34
        },
        "outputId": "b7bf98ce-ef56-47bf-a985-099ba93213da"
      },
      "source": [
        "confidence= totalPos/(totalPos-totalNeg)*100\n",
        "if confidence <50:\n",
        "  print('According to the Selected Feature Map; Image does NOT include a + \\\n",
        "    (confidence:{0:.2f}% )'.format(100-confidence))\n",
        "else:\n",
        "  print('According to the Selected Feature Map; Image DOES  include a + \\\n",
        "    (confidence:{0:.2f}% )'.format(confidence))"
      ],
      "execution_count": 273,
      "outputs": [
        {
          "output_type": "stream",
          "text": [
            "According to the Selected Feature Map; Image DOES  include a +     (confidence:100.00% )\n"
          ],
          "name": "stdout"
        }
      ]
    },
    {
      "cell_type": "markdown",
      "metadata": {
        "id": "vz3dwb7s4dZ8",
        "colab_type": "text"
      },
      "source": [
        "#[Keras Conv2D Layer](https://keras.io/api/layers/convolution_layers/convolution2d/)\n"
      ]
    },
    {
      "cell_type": "markdown",
      "metadata": {
        "id": "nH6-8Q28mCZC",
        "colab_type": "text"
      },
      "source": [
        "## Load image"
      ]
    },
    {
      "cell_type": "code",
      "metadata": {
        "id": "o7u27nrPmH4f",
        "colab_type": "code",
        "cellView": "form",
        "colab": {
          "base_uri": "https://localhost:8080/",
          "height": 150
        },
        "outputId": "57061a1b-59ec-4826-9d0d-e4ce5a676fa5"
      },
      "source": [
        "#@title Load Image\n",
        "fileName = \"mix64.png\" #@param {type:\"string\"}\n",
        "image = Image.open(fileName)\n",
        "# summarize some details about the image\n",
        "print('image.format: ', image.format)\n",
        "print('image mode: ', image.mode)\n",
        "print('Image size: ',image.size)\n",
        "imageMatrix=np.array(image)\n",
        "print('Image shape: ', imageMatrix.shape)\n",
        "# show the image\n",
        "display(image)"
      ],
      "execution_count": 274,
      "outputs": [
        {
          "output_type": "stream",
          "text": [
            "image.format:  PNG\n",
            "image mode:  RGB\n",
            "Image size:  (64, 64)\n",
            "Image shape:  (64, 64, 3)\n"
          ],
          "name": "stdout"
        },
        {
          "output_type": "display_data",
          "data": {
            "image/png": "[encoded data removed]",
            "text/plain": [
              "<PIL.PngImagePlugin.PngImageFile image mode=RGB size=64x64 at 0x7F5CC27D8128>"
            ]
          },
          "metadata": {
            "tags": []
          }
        }
      ]
    },
    {
      "cell_type": "markdown",
      "metadata": {
        "id": "sFV1rwDMljBd",
        "colab_type": "text"
      },
      "source": [
        "## Set up parameters"
      ]
    },
    {
      "cell_type": "code",
      "metadata": {
        "id": "w05wf4Mflm8m",
        "colab_type": "code",
        "colab": {}
      },
      "source": [
        "inputShape = (imageMatrix.shape[0],imageMatrix.shape[1])\n",
        "kernelSize= plusFilter.shape\n",
        "filters=10"
      ],
      "execution_count": 281,
      "outputs": []
    },
    {
      "cell_type": "markdown",
      "metadata": {
        "id": "DW_ofJNWi69s",
        "colab_type": "text"
      },
      "source": [
        "## Pre-process image"
      ]
    },
    {
      "cell_type": "code",
      "metadata": {
        "id": "CRXsojKw5lW_",
        "colab_type": "code",
        "colab": {
          "base_uri": "https://localhost:8080/",
          "height": 34
        },
        "outputId": "ac1f19c8-1833-466c-b9ab-474413d9bb62"
      },
      "source": [
        "imageMatrix=np.float32(imageMatrix/255)\n",
        "imageMatrix=1-imageMatrix\n",
        "imageMatrix = imageMatrix.reshape(1,64,64,3)\n",
        "imageMatrix.shape"
      ],
      "execution_count": 282,
      "outputs": [
        {
          "output_type": "execute_result",
          "data": {
            "text/plain": [
              "(1, 64, 64, 3)"
            ]
          },
          "metadata": {
            "tags": []
          },
          "execution_count": 282
        }
      ]
    },
    {
      "cell_type": "markdown",
      "metadata": {
        "id": "VWiXyDx9jAF7",
        "colab_type": "text"
      },
      "source": [
        "## Convert 2D filter into 3D by replicating the filter"
      ]
    },
    {
      "cell_type": "code",
      "metadata": {
        "id": "uWEPUYEx8gcf",
        "colab_type": "code",
        "colab": {
          "base_uri": "https://localhost:8080/",
          "height": 34
        },
        "outputId": "779303bc-bce1-41e3-e1c0-071ce94dfa82"
      },
      "source": [
        "filterWeights = np.zeros(shape=(3,8,8))\n",
        "filterWeights[0] =plusFilter\n",
        "filterWeights[1] =plusFilter\n",
        "filterWeights[2] =plusFilter\n",
        "filterWeights=filterWeights.transpose(1,2,0).reshape(8,8,3,1)\n",
        "filterWeights.shape"
      ],
      "execution_count": 283,
      "outputs": [
        {
          "output_type": "execute_result",
          "data": {
            "text/plain": [
              "(8, 8, 3, 1)"
            ]
          },
          "metadata": {
            "tags": []
          },
          "execution_count": 283
        }
      ]
    },
    {
      "cell_type": "markdown",
      "metadata": {
        "id": "pJ99u6ZgjYxO",
        "colab_type": "text"
      },
      "source": [
        "## Create N number of filters by replicating the filter"
      ]
    },
    {
      "cell_type": "code",
      "metadata": {
        "id": "uj5-_v13d7LB",
        "colab_type": "code",
        "colab": {
          "base_uri": "https://localhost:8080/",
          "height": 34
        },
        "outputId": "780101d2-76f8-419d-c434-313c9d7df1ef"
      },
      "source": [
        "filterWeights=np.repeat(filterWeights,filters)\n",
        "filterWeights=filterWeights.reshape(8,8,3,filters)\n",
        "filterWeights.shape"
      ],
      "execution_count": 284,
      "outputs": [
        {
          "output_type": "execute_result",
          "data": {
            "text/plain": [
              "(8, 8, 3, 10)"
            ]
          },
          "metadata": {
            "tags": []
          },
          "execution_count": 284
        }
      ]
    },
    {
      "cell_type": "code",
      "metadata": {
        "id": "ySq9Zy8U5Atq",
        "colab_type": "code",
        "colab": {
          "base_uri": "https://localhost:8080/",
          "height": 34
        },
        "outputId": "f6c64110-ccbe-4c6a-a3a1-50dc68fa6e03"
      },
      "source": [
        "from tensorflow.keras.layers import Conv2D\n",
        "# The inputs are 28x28 RGB images with `channels_last` and the batch  size is 4.  \n",
        "input_shape = (1, 64, 64, 3)\n",
        "featureMap3 = Conv2D(filters,kernelSize, input_shape=inputShape, use_bias=False,\n",
        "                     activation='relu', weights=[filterWeights],  padding='valid', \n",
        "                     strides=(1,1))(imageMatrix)\n",
        "print('Feature Map shape: ', featureMap3.shape)\n"
      ],
      "execution_count": 287,
      "outputs": [
        {
          "output_type": "stream",
          "text": [
            "Feature Map shape:  (1, 57, 57, 10)\n"
          ],
          "name": "stdout"
        }
      ]
    },
    {
      "cell_type": "code",
      "metadata": {
        "id": "KjueTdtSD2BF",
        "colab_type": "code",
        "cellView": "form",
        "colab": {
          "base_uri": "https://localhost:8080/",
          "height": 263
        },
        "outputId": "6c8a31ca-589f-4b91-ea71-6ea0d6528b45"
      },
      "source": [
        "#@title Show image matrix and all feature maps\n",
        "\n",
        "figure(figsize=(20, 20))\n",
        "plt.subplot(1, 4, 1)\n",
        "plt.title('Image Matrix')  \n",
        "image=imageMatrix.reshape(64,64,3).transpose(2,0,1)[0,:,:]\n",
        "plt.imshow(image, interpolation='nearest')\n",
        "plt.subplot(1, 4, 2)\n",
        "plt.title('Feature Map 1') \n",
        "featureMap1[featureMap1<0]=0  \n",
        "plt.imshow(featureMap1, interpolation='nearest')\n",
        "plt.subplot(1, 4, 3)\n",
        "plt.title('Feature Map 2') \n",
        "featureMap2[featureMap2<0]=0 \n",
        "plt.imshow(featureMap2, interpolation='nearest')\n",
        "plt.subplot(1, 4, 4)\n",
        "plt.imshow(np.array(featureMap3[:,:,:,0]).reshape(featureMap3.shape[1],featureMap3.shape[2]), interpolation='nearest')\n",
        "plt.title('Feature Map 3 (conv2D layer results)')\n",
        "plt.show()"
      ],
      "execution_count": 286,
      "outputs": [
        {
          "output_type": "display_data",
          "data": {
            "image/png": "[encoded data removed]",
            "text/plain": [
              "<Figure size 1440x1440 with 4 Axes>"
            ]
          },
          "metadata": {
            "tags": [],
            "needs_background": "light"
          }
        }
      ]
    },
    {
      "cell_type": "markdown",
      "metadata": {
        "id": "tgQMO_xRsQRF",
        "colab_type": "text"
      },
      "source": [
        "# DO IT YOURSELF:\n",
        "* Create a **circle** filter & convolve it with test images\n",
        "* Change the given code such that **padding** and **strides** can be inputted\n",
        "\n"
      ]
    },
    {
      "cell_type": "markdown",
      "metadata": {
        "id": "aUU2URyIrqHx",
        "colab_type": "text"
      },
      "source": [
        "# NEXT: \n",
        "* CONVOLUTION WITH POOLING\n",
        "* CNN ARCHITECTURE "
      ]
    }
  ]
}