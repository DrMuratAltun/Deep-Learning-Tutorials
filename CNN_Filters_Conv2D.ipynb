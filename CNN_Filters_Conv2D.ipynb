{
  "nbformat": 4,
  "nbformat_minor": 0,
  "metadata": {
    "colab": {
      "name": "CNN_Filters_Conv2D.ipynb",
      "provenance": [],
      "collapsed_sections": [],
      "authorship_tag": "ABX9TyO/zNJgwXmlIpTj3nJSKjEo",
      "include_colab_link": true
    },
    "kernelspec": {
      "name": "python3",
      "display_name": "Python 3"
    }
  },
  "cells": [
    {
      "cell_type": "markdown",
      "metadata": {
        "id": "view-in-github",
        "colab_type": "text"
      },
      "source": [
        "<a href=\"https://colab.research.google.com/github/kmkarakaya/ML_tutorials/blob/master/CNN_Filters_Conv2D.ipynb\" target=\"_parent\"><img src=\"https://colab.research.google.com/assets/colab-badge.svg\" alt=\"Open In Colab\"/></a>"
      ]
    },
    {
      "cell_type": "code",
      "metadata": {
        "id": "EmZ4g1dValhI",
        "colab_type": "code",
        "cellView": "form",
        "colab": {}
      },
      "source": [
        "#@title Import Libraries\n",
        "%matplotlib inline\n",
        "# load and show an image with Pillow\n",
        "from PIL import Image\n",
        "# load the image\n",
        "from IPython.display import display # to display images\n",
        "from matplotlib import pyplot as plt # to display images\n",
        "from matplotlib.pyplot import figure\n",
        "import numpy as np\n"
      ],
      "execution_count": null,
      "outputs": []
    },
    {
      "cell_type": "code",
      "metadata": {
        "id": "t9ijxclutx-S",
        "colab_type": "code",
        "cellView": "form",
        "colab": {
          "base_uri": "https://localhost:8080/",
          "height": 279
        },
        "outputId": "abfd6246-275d-45ac-af74-119c43e5b47f"
      },
      "source": [
        "#@title Reminder1: Matrix Multiplication Types \n",
        "x1 = np.arange(1,5).reshape((2, 2))\n",
        "x2 = np.arange(5,9).reshape((2, 2))\n",
        "display('x1',x1)\n",
        "display('x2',x2)\n",
        "#Matrix Multiplication\n",
        "print('Matrix Multiplication (np.matmul) result:\\n',np.matmul(x1, x2))\n",
        "\n",
        "#Element-Wise Matrix Multiplication\n",
        "print('Element-Wise Matrix Multiplication (np.multiply) result:\\n',np.multiply(x1, x2))\n",
        "\n",
        "#Element-Wise Matrix Multiplication\n",
        "print('Element-Wise Matrix Multiplication (*) result:\\n',x1 * x2)"
      ],
      "execution_count": null,
      "outputs": [
        {
          "output_type": "display_data",
          "data": {
            "application/vnd.google.colaboratory.intrinsic+json": {
              "type": "string"
            },
            "text/plain": [
              "'x1'"
            ]
          },
          "metadata": {
            "tags": []
          }
        },
        {
          "output_type": "display_data",
          "data": {
            "text/plain": [
              "array([[1, 2],\n",
              "       [3, 4]])"
            ]
          },
          "metadata": {
            "tags": []
          }
        },
        {
          "output_type": "display_data",
          "data": {
            "application/vnd.google.colaboratory.intrinsic+json": {
              "type": "string"
            },
            "text/plain": [
              "'x2'"
            ]
          },
          "metadata": {
            "tags": []
          }
        },
        {
          "output_type": "display_data",
          "data": {
            "text/plain": [
              "array([[5, 6],\n",
              "       [7, 8]])"
            ]
          },
          "metadata": {
            "tags": []
          }
        },
        {
          "output_type": "stream",
          "text": [
            "Matrix Multiplication (np.matmul) result:\n",
            " [[19 22]\n",
            " [43 50]]\n",
            "Element-Wise Matrix Multiplication (np.multiply) result:\n",
            " [[ 5 12]\n",
            " [21 32]]\n",
            "Element-Wise Matrix Multiplication (*) result:\n",
            " [[ 5 12]\n",
            " [21 32]]\n"
          ],
          "name": "stdout"
        }
      ]
    },
    {
      "cell_type": "code",
      "metadata": {
        "id": "yps9z0k9xGMd",
        "colab_type": "code",
        "cellView": "both",
        "colab": {
          "base_uri": "https://localhost:8080/",
          "height": 156
        },
        "outputId": "8f589f2e-a279-478d-df3e-c54381602b9a"
      },
      "source": [
        "#@title Reminder2: Padding with Zero \n",
        "print('Original Matrix\\n',x1)\n",
        "padded = np.zeros(shape=(x1.shape[0]+2,x1.shape[0]+2))\n",
        "padded[1:3,1:3]=x1\n",
        "print('Padded Matrix\\n',padded)"
      ],
      "execution_count": null,
      "outputs": [
        {
          "output_type": "stream",
          "text": [
            "Original Matrix\n",
            " [[1 2]\n",
            " [3 4]]\n",
            "Padded Matrix\n",
            " [[0. 0. 0. 0.]\n",
            " [0. 1. 2. 0.]\n",
            " [0. 3. 4. 0.]\n",
            " [0. 0. 0. 0.]]\n"
          ],
          "name": "stdout"
        }
      ]
    },
    {
      "cell_type": "markdown",
      "metadata": {
        "id": "ffS-MQeJyaDP",
        "colab_type": "text"
      },
      "source": [
        "#Prepare Dataset\n",
        "* Prepare images with different shapes in 2 different resolutions: **8x8** and **64x64**\n",
        "* You can use MS Paint **Resize** function\n"
      ]
    },
    {
      "cell_type": "code",
      "metadata": {
        "id": "Xg7L_noCoXxZ",
        "colab_type": "code",
        "cellView": "form",
        "colab": {
          "base_uri": "https://localhost:8080/",
          "height": 104
        },
        "outputId": "09562384-c2d6-482d-a886-7326cfe30945"
      },
      "source": [
        "#@title Load Image\n",
        "fileName = \"mix8.png\" #@param {type:\"string\"}\n",
        "image = Image.open(fileName)\n",
        "# summarize some details about the image\n",
        "print('image.format: ', image.format)\n",
        "print('image mode: ', image.mode)\n",
        "print('Image size: ',image.size)\n",
        "imageMatrix=np.array(image)\n",
        "print('Image shape:', imageMatrix.shape)\n",
        "# show the image\n",
        "display(image)"
      ],
      "execution_count": null,
      "outputs": [
        {
          "output_type": "stream",
          "text": [
            "image.format:  PNG\n",
            "image mode:  RGB\n",
            "Image size:  (8, 8)\n",
            "Image shape: (8, 8, 3)\n"
          ],
          "name": "stdout"
        },
        {
          "output_type": "display_data",
          "data": {
            "image/png": "[encoded data removed]",
            "text/plain": [
              "<PIL.PngImagePlugin.PngImageFile image mode=RGB size=8x8 at 0x7F53B184A5C0>"
            ]
          },
          "metadata": {
            "tags": []
          }
        }
      ]
    },
    {
      "cell_type": "markdown",
      "metadata": {
        "id": "u2zoJtbNtauF",
        "colab_type": "text"
      },
      "source": [
        "# Convert image to a 3D matrix"
      ]
    },
    {
      "cell_type": "code",
      "metadata": {
        "colab_type": "code",
        "id": "GpfaPHUVtkD0",
        "colab": {}
      },
      "source": [
        "imageMatrix=np.array(image)"
      ],
      "execution_count": null,
      "outputs": []
    },
    {
      "cell_type": "markdown",
      "metadata": {
        "id": "yMu69zCIsvYa",
        "colab_type": "text"
      },
      "source": [
        "# Print the matrix shape (dimensions)\n",
        "* The image format is **RGB** which means that each point in the image has three values \\\n",
        "determining the **Red**, **Green** and **Blue** color depths.\n",
        "* Even image size is **NxN**, the image matrix has the shape **NxNx3** or **3xNxN**\n",
        "* The last (or first) dimension (3) indicates that for each point NxN has \\\n",
        "3 distinct values corresponding to RGB depths.\n",
        "  "
      ]
    },
    {
      "cell_type": "code",
      "metadata": {
        "id": "cilJtHZgp9vy",
        "colab_type": "code",
        "colab": {
          "base_uri": "https://localhost:8080/",
          "height": 35
        },
        "outputId": "f1f20878-f328-4dbb-f139-fa768bb5cc7f"
      },
      "source": [
        "print(imageMatrix.shape)"
      ],
      "execution_count": null,
      "outputs": [
        {
          "output_type": "stream",
          "text": [
            "(8, 8, 3)\n"
          ],
          "name": "stdout"
        }
      ]
    },
    {
      "cell_type": "markdown",
      "metadata": {
        "id": "ySPBtVcNfsB-",
        "colab_type": "text"
      },
      "source": [
        "# Transpose the matrix such that color channels-first as 3xNxN matrix"
      ]
    },
    {
      "cell_type": "code",
      "metadata": {
        "id": "K3--KDZPfxH7",
        "colab_type": "code",
        "colab": {
          "base_uri": "https://localhost:8080/",
          "height": 35
        },
        "outputId": "444933ba-464d-4da1-8d61-6c2f371c720b"
      },
      "source": [
        "imageMatrix = np.transpose(imageMatrix, (2,0,1))\n",
        "imageMatrix.shape"
      ],
      "execution_count": null,
      "outputs": [
        {
          "output_type": "execute_result",
          "data": {
            "text/plain": [
              "(3, 8, 8)"
            ]
          },
          "metadata": {
            "tags": []
          },
          "execution_count": 508
        }
      ]
    },
    {
      "cell_type": "markdown",
      "metadata": {
        "id": "cpjNW5MqjUa2",
        "colab_type": "text"
      },
      "source": [
        "Let's see the values for each color channel"
      ]
    },
    {
      "cell_type": "code",
      "metadata": {
        "id": "ZiERhsq-jJFR",
        "colab_type": "code",
        "colab": {
          "base_uri": "https://localhost:8080/",
          "height": 468
        },
        "outputId": "5464c169-f20f-4e24-cb8e-b69130fc316e"
      },
      "source": [
        "imageMatrix"
      ],
      "execution_count": null,
      "outputs": [
        {
          "output_type": "execute_result",
          "data": {
            "text/plain": [
              "array([[[255, 229, 255, 216, 251, 248, 255, 255],\n",
              "        [231, 178, 230, 216, 234, 224, 242, 255],\n",
              "        [249, 218, 255, 255, 240, 255, 227, 252],\n",
              "        [210, 238, 225, 217, 173, 250, 255, 255],\n",
              "        [255, 232, 255, 255, 245, 255, 209, 253],\n",
              "        [255, 214, 252, 255, 242, 213, 252, 255],\n",
              "        [235, 222, 203, 255, 255, 218, 176, 224],\n",
              "        [226, 222, 225, 255, 255, 255, 234, 255]],\n",
              "\n",
              "       [[255, 229, 255, 216, 251, 248, 255, 255],\n",
              "        [231, 178, 230, 216, 234, 224, 242, 255],\n",
              "        [249, 218, 255, 255, 240, 255, 227, 252],\n",
              "        [210, 238, 225, 217, 173, 250, 255, 255],\n",
              "        [255, 232, 255, 255, 245, 255, 209, 253],\n",
              "        [255, 214, 252, 255, 242, 213, 252, 255],\n",
              "        [235, 222, 203, 255, 255, 218, 176, 224],\n",
              "        [226, 222, 225, 255, 255, 255, 234, 255]],\n",
              "\n",
              "       [[255, 229, 255, 216, 251, 248, 255, 255],\n",
              "        [231, 178, 230, 216, 234, 224, 242, 255],\n",
              "        [249, 218, 255, 255, 240, 255, 227, 252],\n",
              "        [210, 238, 225, 217, 173, 250, 255, 255],\n",
              "        [255, 232, 255, 255, 245, 255, 209, 253],\n",
              "        [255, 214, 252, 255, 242, 213, 252, 255],\n",
              "        [235, 222, 203, 255, 255, 218, 176, 224],\n",
              "        [226, 222, 225, 255, 255, 255, 234, 255]]], dtype=uint8)"
            ]
          },
          "metadata": {
            "tags": []
          },
          "execution_count": 509
        }
      ]
    },
    {
      "cell_type": "markdown",
      "metadata": {
        "id": "BEVCvajjs4tt",
        "colab_type": "text"
      },
      "source": [
        "# Drop color channels: \n",
        "* For the sake of simplicity, we will use only the **RED** (**first**) channel values for each NxN pixel in the image"
      ]
    },
    {
      "cell_type": "code",
      "metadata": {
        "id": "v2sjnGiFqDd8",
        "colab_type": "code",
        "colab": {
          "base_uri": "https://localhost:8080/",
          "height": 35
        },
        "outputId": "3e7a8ba8-8652-493f-f2bc-00ec5401b9f8"
      },
      "source": [
        "imageMatrix=imageMatrix[0,:,:]\n",
        "print(imageMatrix.shape)"
      ],
      "execution_count": null,
      "outputs": [
        {
          "output_type": "stream",
          "text": [
            "(8, 8)\n"
          ],
          "name": "stdout"
        }
      ]
    },
    {
      "cell_type": "markdown",
      "metadata": {
        "id": "g_K-lCHltLuC",
        "colab_type": "text"
      },
      "source": [
        "# Print the matrix content"
      ]
    },
    {
      "cell_type": "code",
      "metadata": {
        "id": "t4xSqbVvqp0b",
        "colab_type": "code",
        "colab": {
          "base_uri": "https://localhost:8080/",
          "height": 156
        },
        "outputId": "50d16cfd-67d1-4671-b8fe-02f31aa59210"
      },
      "source": [
        "imageMatrix"
      ],
      "execution_count": null,
      "outputs": [
        {
          "output_type": "execute_result",
          "data": {
            "text/plain": [
              "array([[255, 229, 255, 216, 251, 248, 255, 255],\n",
              "       [231, 178, 230, 216, 234, 224, 242, 255],\n",
              "       [249, 218, 255, 255, 240, 255, 227, 252],\n",
              "       [210, 238, 225, 217, 173, 250, 255, 255],\n",
              "       [255, 232, 255, 255, 245, 255, 209, 253],\n",
              "       [255, 214, 252, 255, 242, 213, 252, 255],\n",
              "       [235, 222, 203, 255, 255, 218, 176, 224],\n",
              "       [226, 222, 225, 255, 255, 255, 234, 255]], dtype=uint8)"
            ]
          },
          "metadata": {
            "tags": []
          },
          "execution_count": 511
        }
      ]
    },
    {
      "cell_type": "markdown",
      "metadata": {
        "id": "oiqIz41v-1XN",
        "colab_type": "text"
      },
      "source": [
        "# Inverse the color values\n",
        "* In the above image matrix; White is 255 BLACK is 0,\n",
        "* We are looking for black lines\n",
        "*Thus, let's convert to WHITE to 0 and BLACK to 255 "
      ]
    },
    {
      "cell_type": "code",
      "metadata": {
        "id": "5MyUkFD571ZS",
        "colab_type": "code",
        "colab": {
          "base_uri": "https://localhost:8080/",
          "height": 156
        },
        "outputId": "4cb2c80d-0037-4257-bbab-d046e5b085a6"
      },
      "source": [
        "imageMatrix=  255- imageMatrix \n",
        "imageMatrix"
      ],
      "execution_count": null,
      "outputs": [
        {
          "output_type": "execute_result",
          "data": {
            "text/plain": [
              "array([[ 0, 26,  0, 39,  4,  7,  0,  0],\n",
              "       [24, 77, 25, 39, 21, 31, 13,  0],\n",
              "       [ 6, 37,  0,  0, 15,  0, 28,  3],\n",
              "       [45, 17, 30, 38, 82,  5,  0,  0],\n",
              "       [ 0, 23,  0,  0, 10,  0, 46,  2],\n",
              "       [ 0, 41,  3,  0, 13, 42,  3,  0],\n",
              "       [20, 33, 52,  0,  0, 37, 79, 31],\n",
              "       [29, 33, 30,  0,  0,  0, 21,  0]], dtype=uint8)"
            ]
          },
          "metadata": {
            "tags": []
          },
          "execution_count": 512
        }
      ]
    },
    {
      "cell_type": "markdown",
      "metadata": {
        "id": "TRxYfXSdsriZ",
        "colab_type": "text"
      },
      "source": [
        "# Normalize the matrix values between 0 & 1\n",
        "* In RGB format values are between 0 and 255\n",
        "* In ML, we prefer values between 0 and 1\n",
        "* Thus, we will matrix division by a scalar "
      ]
    },
    {
      "cell_type": "code",
      "metadata": {
        "id": "7PYdgejbsnd8",
        "colab_type": "code",
        "colab": {
          "base_uri": "https://localhost:8080/",
          "height": 295
        },
        "outputId": "8ea4efab-6f4a-46d2-b526-085b6d38ba69"
      },
      "source": [
        "imageMatrix=imageMatrix/255\n",
        "imageMatrix"
      ],
      "execution_count": null,
      "outputs": [
        {
          "output_type": "execute_result",
          "data": {
            "text/plain": [
              "array([[0.        , 0.10196078, 0.        , 0.15294118, 0.01568627,\n",
              "        0.02745098, 0.        , 0.        ],\n",
              "       [0.09411765, 0.30196078, 0.09803922, 0.15294118, 0.08235294,\n",
              "        0.12156863, 0.05098039, 0.        ],\n",
              "       [0.02352941, 0.14509804, 0.        , 0.        , 0.05882353,\n",
              "        0.        , 0.10980392, 0.01176471],\n",
              "       [0.17647059, 0.06666667, 0.11764706, 0.14901961, 0.32156863,\n",
              "        0.01960784, 0.        , 0.        ],\n",
              "       [0.        , 0.09019608, 0.        , 0.        , 0.03921569,\n",
              "        0.        , 0.18039216, 0.00784314],\n",
              "       [0.        , 0.16078431, 0.01176471, 0.        , 0.05098039,\n",
              "        0.16470588, 0.01176471, 0.        ],\n",
              "       [0.07843137, 0.12941176, 0.20392157, 0.        , 0.        ,\n",
              "        0.14509804, 0.30980392, 0.12156863],\n",
              "       [0.11372549, 0.12941176, 0.11764706, 0.        , 0.        ,\n",
              "        0.        , 0.08235294, 0.        ]])"
            ]
          },
          "metadata": {
            "tags": []
          },
          "execution_count": 513
        }
      ]
    },
    {
      "cell_type": "markdown",
      "metadata": {
        "id": "DcUHWIu2vePb",
        "colab_type": "text"
      },
      "source": [
        "# Check the min, max and mean values in the matrix"
      ]
    },
    {
      "cell_type": "code",
      "metadata": {
        "id": "2C67rx4NvLNY",
        "colab_type": "code",
        "colab": {
          "base_uri": "https://localhost:8080/",
          "height": 35
        },
        "outputId": "2577ec99-aaf5-469a-c22b-3645ea733150"
      },
      "source": [
        "print(imageMatrix.min(),imageMatrix.max(), imageMatrix.mean())"
      ],
      "execution_count": null,
      "outputs": [
        {
          "output_type": "stream",
          "text": [
            "0.0 0.3215686274509804 0.07107843137254903\n"
          ],
          "name": "stdout"
        }
      ]
    },
    {
      "cell_type": "markdown",
      "metadata": {
        "id": "z-kEwNgjv0Fl",
        "colab_type": "text"
      },
      "source": [
        "# CREATE A FILTER for + \n",
        "* We want to know if there is  **+** in the given image\n",
        "* Therefore, we will create a \"**filter**\" which will let **+** pass through this \"filter\" and ***stop*** other shape values\n",
        "* IMPORTANT: In Convolutional Nueral Networks (**CNN**) the filters (i.e. the numbers in the filters: ***weights***) are \\\n",
        "found at the end of the network **training** **automatically**! \n",
        "\n",
        "* Here, for the sake of simplicity, we will assign weights **manually**. \n"
      ]
    },
    {
      "cell_type": "markdown",
      "metadata": {
        "id": "07qoapw2wQCi",
        "colab_type": "text"
      },
      "source": [
        "## Create + filter (**kernel size**=8x8) by setting up a new matrix\n",
        "* Notice that the possible location of \"+\" is centered and **weihgts** are assigned with **1 **values\n",
        "* Out of the \"+\" shape loacations, the weights are initialized with **-1** not **Zero**. **Why?**"
      ]
    },
    {
      "cell_type": "code",
      "metadata": {
        "id": "U3s9O59BvZMi",
        "colab_type": "code",
        "colab": {
          "base_uri": "https://localhost:8080/",
          "height": 35
        },
        "outputId": "f3318953-dd02-448c-ad66-0305d64ec7a8"
      },
      "source": [
        "plusFilter=np.array([[-1,-1,-1,1,1,-1,-1,-1],\n",
        "                     [-1,-1,-1,1,1,-1,-1,-1],\n",
        "                     [-1,-1,-1,1,1,-1,-1,-1],\n",
        "                     [ 1, 1, 1,1,1, 1, 1, 1],\n",
        "                     [ 1, 1, 1,1,1, 1, 1, 1],\n",
        "                     [-1,-1,-1,1,1,-1,-1,-1],\n",
        "                     [-1,-1,-1,1,1,-1,-1,-1],\n",
        "                     [-1,-1,-1,1,1,-1,-1,-1]\n",
        "                     ])\n",
        "\n",
        "plusFilter.shape"
      ],
      "execution_count": null,
      "outputs": [
        {
          "output_type": "execute_result",
          "data": {
            "text/plain": [
              "(8, 8)"
            ]
          },
          "metadata": {
            "tags": []
          },
          "execution_count": 515
        }
      ]
    },
    {
      "cell_type": "code",
      "metadata": {
        "id": "bgRcY2lskkfc",
        "colab_type": "code",
        "colab": {
          "base_uri": "https://localhost:8080/",
          "height": 156
        },
        "outputId": "495db9fc-9780-469e-9266-e575f535a5ca"
      },
      "source": [
        "plusFilter"
      ],
      "execution_count": null,
      "outputs": [
        {
          "output_type": "execute_result",
          "data": {
            "text/plain": [
              "array([[-1, -1, -1,  1,  1, -1, -1, -1],\n",
              "       [-1, -1, -1,  1,  1, -1, -1, -1],\n",
              "       [-1, -1, -1,  1,  1, -1, -1, -1],\n",
              "       [ 1,  1,  1,  1,  1,  1,  1,  1],\n",
              "       [ 1,  1,  1,  1,  1,  1,  1,  1],\n",
              "       [-1, -1, -1,  1,  1, -1, -1, -1],\n",
              "       [-1, -1, -1,  1,  1, -1, -1, -1],\n",
              "       [-1, -1, -1,  1,  1, -1, -1, -1]])"
            ]
          },
          "metadata": {
            "tags": []
          },
          "execution_count": 516
        }
      ]
    },
    {
      "cell_type": "markdown",
      "metadata": {
        "id": "y-qmWaSVohae",
        "colab_type": "text"
      },
      "source": [
        "# Show the filter as image"
      ]
    },
    {
      "cell_type": "code",
      "metadata": {
        "id": "A1_WfrLFol0h",
        "colab_type": "code",
        "cellView": "form",
        "colab": {
          "base_uri": "https://localhost:8080/",
          "height": 161
        },
        "outputId": "92d71428-c691-41cc-837a-29c74402ede9"
      },
      "source": [
        "#@title \n",
        "figure(figsize=(plusFilter.shape[0]/8, plusFilter.shape[0]/8))\n",
        "plt.subplot(1, 2, 1)\n",
        "plt.imshow(plusFilter, interpolation='nearest')\n",
        "plt.title('plusFilter')\n",
        "\n",
        "figure(figsize=(imageMatrix.shape[0]/8, imageMatrix.shape[0]/8))\n",
        "plt.subplot(1, 2, 2)\n",
        "plt.title('imageMatrix')\n",
        "plt.imshow(imageMatrix, interpolation='nearest')\n",
        "plt.show()"
      ],
      "execution_count": null,
      "outputs": [
        {
          "output_type": "display_data",
          "data": {
            "image/png": "[encoded data removed]",
            "text/plain": [
              "<Figure size 72x72 with 1 Axes>"
            ]
          },
          "metadata": {
            "tags": [],
            "needs_background": "light"
          }
        },
        {
          "output_type": "display_data",
          "data": {
            "image/png": "[encoded data removed]",
            "text/plain": [
              "<Figure size 72x72 with 1 Axes>"
            ]
          },
          "metadata": {
            "tags": [],
            "needs_background": "light"
          }
        }
      ]
    },
    {
      "cell_type": "markdown",
      "metadata": {
        "id": "ArB7IoWA44os",
        "colab_type": "text"
      },
      "source": [
        "## PART B: **CONVOLUTION**\n",
        "* Apply \"+\" filter to the image by Element wise Matrix Multiplication\n",
        "\n",
        "* Result is called a \"**feature map**\"\n",
        "\n"
      ]
    },
    {
      "cell_type": "code",
      "metadata": {
        "id": "-UFX4Ufh44Ay",
        "colab_type": "code",
        "colab": {}
      },
      "source": [
        "#featureMap= np.matmul(imageMatrix,plusFilter)\n",
        "featureMap= (imageMatrix*plusFilter)"
      ],
      "execution_count": null,
      "outputs": []
    },
    {
      "cell_type": "code",
      "metadata": {
        "id": "6Fz9TleSwixY",
        "colab_type": "code",
        "cellView": "form",
        "colab": {
          "base_uri": "https://localhost:8080/",
          "height": 347
        },
        "outputId": "f32f6243-09fa-4d06-d313-97a716b58cfc"
      },
      "source": [
        "#@title Feature Map shape and weights\n",
        "print('Feature Map shape ',featureMap.shape)\n",
        "print('Feature Map weights: \\n')\n",
        "print(featureMap)"
      ],
      "execution_count": null,
      "outputs": [
        {
          "output_type": "stream",
          "text": [
            "Feature Map shape  (8, 8)\n",
            "Feature Map weights: \n",
            "\n",
            "[[-0.         -0.10196078 -0.          0.15294118  0.01568627 -0.02745098\n",
            "  -0.         -0.        ]\n",
            " [-0.09411765 -0.30196078 -0.09803922  0.15294118  0.08235294 -0.12156863\n",
            "  -0.05098039 -0.        ]\n",
            " [-0.02352941 -0.14509804 -0.          0.          0.05882353 -0.\n",
            "  -0.10980392 -0.01176471]\n",
            " [ 0.17647059  0.06666667  0.11764706  0.14901961  0.32156863  0.01960784\n",
            "   0.          0.        ]\n",
            " [ 0.          0.09019608  0.          0.          0.03921569  0.\n",
            "   0.18039216  0.00784314]\n",
            " [-0.         -0.16078431 -0.01176471  0.          0.05098039 -0.16470588\n",
            "  -0.01176471 -0.        ]\n",
            " [-0.07843137 -0.12941176 -0.20392157  0.          0.         -0.14509804\n",
            "  -0.30980392 -0.12156863]\n",
            " [-0.11372549 -0.12941176 -0.11764706  0.          0.         -0.\n",
            "  -0.08235294 -0.        ]]\n"
          ],
          "name": "stdout"
        }
      ]
    },
    {
      "cell_type": "code",
      "metadata": {
        "id": "SoqA2sS54o3_",
        "colab_type": "code",
        "cellView": "form",
        "colab": {
          "base_uri": "https://localhost:8080/",
          "height": 307
        },
        "outputId": "b76dc9f6-a8cb-4ecc-9b19-46b76baa3603"
      },
      "source": [
        "#@title Show Feature Map as image\n",
        "\n",
        "plt.subplot(1, 3, 1)\n",
        "plt.imshow(plusFilter, interpolation='nearest')\n",
        "plt.title('plusFilter')\n",
        "plt.show()\n",
        "\n",
        "\n",
        "plt.subplot(1, 3, 2)\n",
        "plt.title('imageMatrix')\n",
        "plt.imshow(imageMatrix, interpolation='nearest')\n",
        "\n",
        "\n",
        "\n",
        "plt.subplot(1, 3, 3)\n",
        "plt.imshow(featureMap, interpolation='nearest')\n",
        "plt.title('Feature Map')\n",
        "plt.show()"
      ],
      "execution_count": null,
      "outputs": [
        {
          "output_type": "display_data",
          "data": {
            "image/png": "[encoded data removed]",
            "text/plain": [
              "<Figure size 432x288 with 1 Axes>"
            ]
          },
          "metadata": {
            "tags": [],
            "needs_background": "light"
          }
        },
        {
          "output_type": "display_data",
          "data": {
            "image/png": "[encoded data removed]",
            "text/plain": [
              "<Figure size 432x288 with 2 Axes>"
            ]
          },
          "metadata": {
            "tags": [],
            "needs_background": "light"
          }
        }
      ]
    },
    {
      "cell_type": "markdown",
      "metadata": {
        "id": "HlWHXD9cSBuG",
        "colab_type": "text"
      },
      "source": [
        "## Find Confidence of prediction\n",
        "* Use **Feature Map** to calculate a ***metric*** as an **indication** \\\n",
        "of filter shape ***exist*** in the given image matrix"
      ]
    },
    {
      "cell_type": "markdown",
      "metadata": {
        "id": "clA89gqfR5AN",
        "colab_type": "text"
      },
      "source": [
        "### Sum the positive and negative values in the Feature Map"
      ]
    },
    {
      "cell_type": "code",
      "metadata": {
        "id": "YQcF6thD5ivm",
        "colab_type": "code",
        "colab": {
          "base_uri": "https://localhost:8080/",
          "height": 35
        },
        "outputId": "073fa7a5-9afb-42cf-94ee-604a0d4ec23c"
      },
      "source": [
        "totalPos= featureMap[featureMap>0].sum()\n",
        "totalNeg= featureMap[featureMap<0].sum()\n",
        "\n",
        "print(totalPos,totalNeg)"
      ],
      "execution_count": null,
      "outputs": [
        {
          "output_type": "stream",
          "text": [
            "1.6823529411764706 -2.8666666666666667\n"
          ],
          "name": "stdout"
        }
      ]
    },
    {
      "cell_type": "markdown",
      "metadata": {
        "id": "qYsGPAvVbW9m",
        "colab_type": "text"
      },
      "source": [
        "### Measure a ***confidence*** "
      ]
    },
    {
      "cell_type": "code",
      "metadata": {
        "id": "yw8BPTVh5vzh",
        "colab_type": "code",
        "colab": {
          "base_uri": "https://localhost:8080/",
          "height": 35
        },
        "outputId": "b0213e04-0ebc-4a84-c28b-00008632746a"
      },
      "source": [
        "confidence= totalPos/(totalPos-totalNeg)*100\n",
        "if confidence <50:\n",
        "  print('Image does NOT include a + (confidence:{0:.2f}% )'.format(100-confidence))\n",
        "else:\n",
        "  print('Image DOES  include a + (confidence:{0:.2f}% )'.format(confidence))"
      ],
      "execution_count": null,
      "outputs": [
        {
          "output_type": "stream",
          "text": [
            "Image does NOT include a + (confidence:63.02% )\n"
          ],
          "name": "stdout"
        }
      ]
    },
    {
      "cell_type": "markdown",
      "metadata": {
        "id": "66dOVT8l41_y",
        "colab_type": "text"
      },
      "source": [
        "#IMAGE WITH A LARGER SIZE"
      ]
    },
    {
      "cell_type": "code",
      "metadata": {
        "id": "Q0GWiaRIMuNG",
        "colab_type": "code",
        "cellView": "form",
        "colab": {
          "base_uri": "https://localhost:8080/",
          "height": 151
        },
        "outputId": "c81d8ffa-9b2e-42e2-843d-ed577c537319"
      },
      "source": [
        "#@title Load Image\n",
        "fileName = \"mix64.png\" #@param {type:\"string\"}\n",
        "image = Image.open(fileName)\n",
        "# summarize some details about the image\n",
        "print('image.format: ', image.format)\n",
        "print('image mode: ', image.mode)\n",
        "print('Image size: ',image.size)\n",
        "imageMatrix=np.array(image)\n",
        "print('Image shape: ', imageMatrix.shape)\n",
        "# show the image\n",
        "display(image)"
      ],
      "execution_count": null,
      "outputs": [
        {
          "output_type": "stream",
          "text": [
            "image.format:  PNG\n",
            "image mode:  RGB\n",
            "Image size:  (64, 64)\n",
            "Image shape:  (64, 64, 3)\n"
          ],
          "name": "stdout"
        },
        {
          "output_type": "display_data",
          "data": {
            "image/png": "[encoded data removed]",
            "text/plain": [
              "<PIL.PngImagePlugin.PngImageFile image mode=RGB size=64x64 at 0x7F53B205DE80>"
            ]
          },
          "metadata": {
            "tags": []
          }
        }
      ]
    },
    {
      "cell_type": "code",
      "metadata": {
        "id": "MEESWhwOMeuR",
        "colab_type": "code",
        "colab": {
          "base_uri": "https://localhost:8080/",
          "height": 52
        },
        "outputId": "d881d539-f61e-4366-e2e2-9bcd9f2bd52e"
      },
      "source": [
        "imageMatrix=np.array(image)\n",
        "imageMatrix=np.float32(imageMatrix/255)\n",
        "imageMatrix=1-imageMatrix\n",
        "imageMatrix=imageMatrix[:,:,0]\n",
        "print('Image Matrix shape: ', imageMatrix.shape)\n",
        "print('Filter shape: ', plusFilter.shape)"
      ],
      "execution_count": null,
      "outputs": [
        {
          "output_type": "stream",
          "text": [
            "Image Matrix shape:  (64, 64)\n",
            "Filter shape:  (8, 8)\n"
          ],
          "name": "stdout"
        }
      ]
    },
    {
      "cell_type": "code",
      "metadata": {
        "id": "JRWSfFpLUI1H",
        "colab_type": "code",
        "cellView": "form",
        "colab": {
          "base_uri": "https://localhost:8080/",
          "height": 441
        },
        "outputId": "61e1c318-0585-4291-f50f-45259da06fff"
      },
      "source": [
        "#@title Show: initial featureMap, filter and image\n",
        "featureMap1 =  np.zeros(shape=(64,64))\n",
        "featureMap2=  np.zeros(shape=(57,57))\n",
        "\n",
        "figure(figsize=(17, 17))\n",
        "plt.subplot(1, 3, 1)\n",
        "plt.imshow(featureMap1, interpolation='nearest')\n",
        "plt.title('featureMap1')\n",
        "plt.subplot(1, 3, 2)\n",
        "plt.imshow(imageMatrix, interpolation='nearest')\n",
        "plt.title('imageMatrix')\n",
        "\n",
        "figure(figsize=(2, 2))\n",
        "plt.subplot(1, 3, 2)\n",
        "plt.imshow(plusFilter, interpolation='nearest')\n",
        "plt.title('plusFilter')\n",
        "\n"
      ],
      "execution_count": null,
      "outputs": [
        {
          "output_type": "execute_result",
          "data": {
            "text/plain": [
              "Text(0.5, 1.0, 'plusFilter')"
            ]
          },
          "metadata": {
            "tags": []
          },
          "execution_count": 525
        },
        {
          "output_type": "display_data",
          "data": {
            "image/png": "[encoded data removed]",
            "text/plain": [
              "<Figure size 1224x1224 with 2 Axes>"
            ]
          },
          "metadata": {
            "tags": [],
            "needs_background": "light"
          }
        },
        {
          "output_type": "display_data",
          "data": {
            "image/png": "[encoded data removed]",
            "text/plain": [
              "<Figure size 144x144 with 1 Axes>"
            ]
          },
          "metadata": {
            "tags": [],
            "needs_background": "light"
          }
        }
      ]
    },
    {
      "cell_type": "code",
      "metadata": {
        "id": "Bq4B6-mSUCwx",
        "colab_type": "code",
        "colab": {}
      },
      "source": [
        "for row in range(int(imageMatrix.shape[0]-plusFilter.shape[0])):\n",
        "  for col in range(int(imageMatrix.shape[0]-plusFilter.shape[0])):\n",
        "    imagePart=imageMatrix[row:row+8,col:col+8]\n",
        "    convolution= (imagePart*plusFilter)\n",
        "    totalPos= convolution[convolution>0].sum()\n",
        "    if totalPos>14:\n",
        "      featureMap1[row:row+8,col:col+8]=featureMap1[row:row+8,col:col+8]+convolution\n",
        "\n",
        "    featureMap2[row,col]=convolution.sum()"
      ],
      "execution_count": null,
      "outputs": []
    },
    {
      "cell_type": "code",
      "metadata": {
        "id": "4iljx5FpT0h8",
        "colab_type": "code",
        "cellView": "form",
        "colab": {
          "base_uri": "https://localhost:8080/",
          "height": 270
        },
        "outputId": "8fd49a51-4f5b-4367-97f4-e0f5ca4c9e08"
      },
      "source": [
        "#@title Show Feature Maps as images\n",
        "\n",
        "figure(figsize=(17, 17))\n",
        "plt.subplot(1, 4, 2)\n",
        "plt.title('Feature Map 1') \n",
        "featureMap1[featureMap1<0]=0  \n",
        "plt.imshow(featureMap1, interpolation='nearest')\n",
        "plt.subplot(1, 4, 3)\n",
        "plt.title('Feature Map 2') \n",
        "featureMap2[featureMap2<0]=0 \n",
        "plt.imshow(featureMap2, interpolation='nearest')\n",
        "plt.subplot(1, 4, 4)\n",
        "plt.title('Image Matrix ')  \n",
        "plt.imshow(imageMatrix, interpolation='nearest')\n",
        "plt.show()"
      ],
      "execution_count": null,
      "outputs": [
        {
          "output_type": "display_data",
          "data": {
            "image/png": "[encoded data removed]",
            "text/plain": [
              "<Figure size 1224x1224 with 3 Axes>"
            ]
          },
          "metadata": {
            "tags": [],
            "needs_background": "light"
          }
        }
      ]
    },
    {
      "cell_type": "code",
      "metadata": {
        "id": "dsQR9ASn6IgW",
        "colab_type": "code",
        "colab": {
          "base_uri": "https://localhost:8080/",
          "height": 35
        },
        "outputId": "68652d6c-71be-447e-ad78-5a4480374948"
      },
      "source": [
        "selectedFeatureMap = featureMap2\n",
        "totalPos= selectedFeatureMap[selectedFeatureMap>0].sum()\n",
        "totalNeg= selectedFeatureMap[selectedFeatureMap<0].sum()\n",
        "\n",
        "print(totalPos,totalNeg)"
      ],
      "execution_count": null,
      "outputs": [
        {
          "output_type": "stream",
          "text": [
            "2331.0 0.0\n"
          ],
          "name": "stdout"
        }
      ]
    },
    {
      "cell_type": "code",
      "metadata": {
        "id": "KdV9IHeO6PEy",
        "colab_type": "code",
        "colab": {
          "base_uri": "https://localhost:8080/",
          "height": 35
        },
        "outputId": "f00999e6-8b26-4dd3-a46f-f68a39623d80"
      },
      "source": [
        "confidence= totalPos/(totalPos-totalNeg)*100\n",
        "if confidence <50:\n",
        "  print('According to the Selected Feature Map; Image does NOT include a + \\\n",
        "    (confidence:{0:.2f}% )'.format(100-confidence))\n",
        "else:\n",
        "  print('According to the Selected Feature Map; Image DOES  include a + \\\n",
        "    (confidence:{0:.2f}% )'.format(confidence))"
      ],
      "execution_count": null,
      "outputs": [
        {
          "output_type": "stream",
          "text": [
            "According to the Selected Feature Map; Image DOES  include a +     (confidence:100.00% )\n"
          ],
          "name": "stdout"
        }
      ]
    },
    {
      "cell_type": "markdown",
      "metadata": {
        "id": "vz3dwb7s4dZ8",
        "colab_type": "text"
      },
      "source": [
        "# PART C: Understanding [Keras Conv2D Layer](https://keras.io/api/layers/convolution_layers/convolution2d/)\n"
      ]
    },
    {
      "cell_type": "markdown",
      "metadata": {
        "id": "nH6-8Q28mCZC",
        "colab_type": "text"
      },
      "source": [
        "## Load image"
      ]
    },
    {
      "cell_type": "code",
      "metadata": {
        "id": "o7u27nrPmH4f",
        "colab_type": "code",
        "cellView": "form",
        "colab": {
          "base_uri": "https://localhost:8080/",
          "height": 151
        },
        "outputId": "afb258fb-0152-43d5-96b2-8bd6d0bb470d"
      },
      "source": [
        "#@title Load Image\n",
        "fileName = \"mix64.png\" #@param {type:\"string\"}\n",
        "image = Image.open(fileName)\n",
        "# summarize some details about the image\n",
        "print('image.format: ', image.format)\n",
        "print('image mode: ', image.mode)\n",
        "print('Image size: ',image.size)\n",
        "imageMatrix=np.array(image)\n",
        "print('Image shape: ', imageMatrix.shape)\n",
        "# show the image\n",
        "display(image)"
      ],
      "execution_count": null,
      "outputs": [
        {
          "output_type": "stream",
          "text": [
            "image.format:  PNG\n",
            "image mode:  RGB\n",
            "Image size:  (64, 64)\n",
            "Image shape:  (64, 64, 3)\n"
          ],
          "name": "stdout"
        },
        {
          "output_type": "display_data",
          "data": {
            "image/png": "[encoded data removed]",
            "text/plain": [
              "<PIL.PngImagePlugin.PngImageFile image mode=RGB size=64x64 at 0x7F53B25D08D0>"
            ]
          },
          "metadata": {
            "tags": []
          }
        }
      ]
    },
    {
      "cell_type": "markdown",
      "metadata": {
        "id": "sFV1rwDMljBd",
        "colab_type": "text"
      },
      "source": [
        "## Set up parameters"
      ]
    },
    {
      "cell_type": "code",
      "metadata": {
        "id": "w05wf4Mflm8m",
        "colab_type": "code",
        "colab": {}
      },
      "source": [
        "inputShape = (imageMatrix.shape[0],imageMatrix.shape[1])\n",
        "kernelSize= plusFilter.shape\n",
        "filters=1"
      ],
      "execution_count": null,
      "outputs": []
    },
    {
      "cell_type": "markdown",
      "metadata": {
        "id": "DW_ofJNWi69s",
        "colab_type": "text"
      },
      "source": [
        "## Pre-process image"
      ]
    },
    {
      "cell_type": "code",
      "metadata": {
        "id": "CRXsojKw5lW_",
        "colab_type": "code",
        "colab": {
          "base_uri": "https://localhost:8080/",
          "height": 35
        },
        "outputId": "11b72684-f4a2-43b0-f8c3-ad182d8c5212"
      },
      "source": [
        "imageMatrix=np.float32(imageMatrix/255)\n",
        "imageMatrix=1-imageMatrix\n",
        "imageMatrix = imageMatrix.reshape(1,64,64,3)\n",
        "imageMatrix.shape"
      ],
      "execution_count": null,
      "outputs": [
        {
          "output_type": "execute_result",
          "data": {
            "text/plain": [
              "(1, 64, 64, 3)"
            ]
          },
          "metadata": {
            "tags": []
          },
          "execution_count": 538
        }
      ]
    },
    {
      "cell_type": "markdown",
      "metadata": {
        "id": "VWiXyDx9jAF7",
        "colab_type": "text"
      },
      "source": [
        "## Convert 2D filter into 3D by replicating the filter"
      ]
    },
    {
      "cell_type": "code",
      "metadata": {
        "id": "uWEPUYEx8gcf",
        "colab_type": "code",
        "colab": {
          "base_uri": "https://localhost:8080/",
          "height": 35
        },
        "outputId": "5b75608d-cff4-420a-f589-b1daf8b84b1e"
      },
      "source": [
        "filterWeights = np.zeros(shape=(3,8,8))\n",
        "filterWeights[0] =plusFilter\n",
        "filterWeights[1] =plusFilter\n",
        "filterWeights[2] =plusFilter\n",
        "filterWeights=filterWeights.transpose(1,2,0).reshape(8,8,3,1)\n",
        "filterWeights.shape"
      ],
      "execution_count": null,
      "outputs": [
        {
          "output_type": "execute_result",
          "data": {
            "text/plain": [
              "(8, 8, 3, 1)"
            ]
          },
          "metadata": {
            "tags": []
          },
          "execution_count": 533
        }
      ]
    },
    {
      "cell_type": "markdown",
      "metadata": {
        "id": "pJ99u6ZgjYxO",
        "colab_type": "text"
      },
      "source": [
        "## Create N number of filters by replicating the filter"
      ]
    },
    {
      "cell_type": "code",
      "metadata": {
        "id": "uj5-_v13d7LB",
        "colab_type": "code",
        "colab": {
          "base_uri": "https://localhost:8080/",
          "height": 35
        },
        "outputId": "f056197e-3413-4550-8a1b-8f70305c287f"
      },
      "source": [
        "filterWeights=np.repeat(filterWeights,filters)\n",
        "filterWeights=filterWeights.reshape(8,8,3,filters)\n",
        "filterWeights.shape"
      ],
      "execution_count": 539,
      "outputs": [
        {
          "output_type": "execute_result",
          "data": {
            "text/plain": [
              "(8, 8, 3, 1)"
            ]
          },
          "metadata": {
            "tags": []
          },
          "execution_count": 539
        }
      ]
    },
    {
      "cell_type": "code",
      "metadata": {
        "id": "ySq9Zy8U5Atq",
        "colab_type": "code",
        "colab": {
          "base_uri": "https://localhost:8080/",
          "height": 35
        },
        "outputId": "db7b89ec-5b22-472c-a052-e42db89aa983"
      },
      "source": [
        "from tensorflow.keras.layers import Conv2D\n",
        "# The inputs are 28x28 RGB images with `channels_last` and the batch  size is 4.  \n",
        "input_shape = (1, 64, 64, 3)\n",
        "featureMap3 = Conv2D(filters,kernelSize, input_shape=inputShape, use_bias=False,\n",
        "                     activation='relu', weights=[filterWeights],  padding='valid', \n",
        "                     strides=(1,1))(imageMatrix)\n",
        "print('Feature Map shape: ', featureMap3.shape)\n"
      ],
      "execution_count": 540,
      "outputs": [
        {
          "output_type": "stream",
          "text": [
            "Feature Map shape:  (1, 57, 57, 1)\n"
          ],
          "name": "stdout"
        }
      ]
    },
    {
      "cell_type": "code",
      "metadata": {
        "id": "KjueTdtSD2BF",
        "colab_type": "code",
        "cellView": "form",
        "colab": {
          "base_uri": "https://localhost:8080/",
          "height": 246
        },
        "outputId": "782a50ca-9142-43d4-ade5-93abc9bf1978"
      },
      "source": [
        "#@title Show image matrix and all feature maps\n",
        "\n",
        "figure(figsize=(15, 15))\n",
        "plt.subplot(1, 4, 1)\n",
        "plt.title('Image Matrix')  \n",
        "image=imageMatrix.reshape(64,64,3).transpose(2,0,1)[0,:,:]\n",
        "plt.imshow(image, interpolation='nearest')\n",
        "plt.subplot(1, 4, 2)\n",
        "plt.title('Feature Map 1') \n",
        "featureMap1[featureMap1<0]=0  \n",
        "plt.imshow(featureMap1, interpolation='nearest')\n",
        "plt.subplot(1, 4, 3)\n",
        "plt.title('Feature Map 2') \n",
        "featureMap2[featureMap2<0]=0 \n",
        "plt.imshow(featureMap2, interpolation='nearest')\n",
        "plt.subplot(1, 4, 4)\n",
        "plt.imshow(np.array(featureMap3[:,:,:,0]).reshape(featureMap3.shape[1],featureMap3.shape[2]), interpolation='nearest')\n",
        "plt.title('Feature Map 3 (conv2D layer results)')\n",
        "plt.show()"
      ],
      "execution_count": null,
      "outputs": [
        {
          "output_type": "display_data",
          "data": {
            "image/png": "[encoded data removed]",
            "text/plain": [
              "<Figure size 1080x1080 with 4 Axes>"
            ]
          },
          "metadata": {
            "tags": [],
            "needs_background": "light"
          }
        }
      ]
    },
    {
      "cell_type": "markdown",
      "metadata": {
        "id": "tgQMO_xRsQRF",
        "colab_type": "text"
      },
      "source": [
        "# DO IT YOURSELF:\n",
        "* Create a **circle** filter & convolve it with test images\n",
        "* Change the given code such that **padding** and **strides** can be inputted\n",
        "\n"
      ]
    },
    {
      "cell_type": "markdown",
      "metadata": {
        "id": "aUU2URyIrqHx",
        "colab_type": "text"
      },
      "source": [
        "# NEXT: \n",
        "* CONVOLUTION WITH POOLING\n",
        "* CNN ARCHITECTURE "
      ]
    }
  ]
}