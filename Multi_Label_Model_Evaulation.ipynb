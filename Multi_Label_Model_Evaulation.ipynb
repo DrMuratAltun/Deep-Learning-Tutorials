{
  "nbformat": 4,
  "nbformat_minor": 0,
  "metadata": {
    "kernelspec": {
      "display_name": "Python 3",
      "language": "python",
      "name": "python3"
    },
    "language_info": {
      "codemirror_mode": {
        "name": "ipython",
        "version": 3
      },
      "file_extension": ".py",
      "mimetype": "text/x-python",
      "name": "python",
      "nbconvert_exporter": "python",
      "pygments_lexer": "ipython3",
      "version": "3.8.1"
    },
    "colab": {
      "name": "Multi Label Model Evaulation.ipynb",
      "provenance": [],
      "collapsed_sections": [],
      "toc_visible": true,
      "include_colab_link": true
    }
  },
  "cells": [
    {
      "cell_type": "markdown",
      "metadata": {
        "id": "view-in-github",
        "colab_type": "text"
      },
      "source": [
        "<a href=\"https://colab.research.google.com/github/kmkarakaya/ML_tutorials/blob/master/Multi_Label_Model_Evaulation.ipynb\" target=\"_parent\"><img src=\"https://colab.research.google.com/assets/colab-badge.svg\" alt=\"Open In Colab\"/></a>"
      ]
    },
    {
      "cell_type": "markdown",
      "metadata": {
        "id": "LqKZHAkgk5OY",
        "colab_type": "text"
      },
      "source": [
        "[SciKit Learn: \n",
        "Model evaluation: quantifying the quality of predictions](https://lijiancheng0614.github.io/scikit-learn/modules/model_evaluation.html)\n",
        "\n"
      ]
    },
    {
      "cell_type": "code",
      "metadata": {
        "id": "gW2a1OJ4NPP2",
        "colab_type": "code",
        "colab": {}
      },
      "source": [
        "%matplotlib inline"
      ],
      "execution_count": 0,
      "outputs": []
    },
    {
      "cell_type": "markdown",
      "metadata": {
        "id": "-ug67UFRlOjv",
        "colab_type": "text"
      },
      "source": [
        "#Synthetic Data:\n",
        "[Calculate mean Average Precision (mAP) for multi-label classification](https://medium.com/@hfdtsinghua/calculate-mean-average-precision-map-for-multi-label-classification-b082679d31be)"
      ]
    },
    {
      "cell_type": "markdown",
      "metadata": {
        "id": "8ByXG3zppQ_B",
        "colab_type": "text"
      },
      "source": [
        "First assume that in the data set we have only 3 samples as below. Each sample has 4 classes. After some training, some ML model produce the predicted scores."
      ]
    },
    {
      "cell_type": "markdown",
      "metadata": {
        "id": "rfQJjLDmnw8m",
        "colab_type": "text"
      },
      "source": [
        "![Sample Data with scores](https://github.com/kmkarakaya/ML_tutorials/blob/master/images/sample%20mutli%20label%20classification%20scores.png?raw=true)\n"
      ]
    },
    {
      "cell_type": "code",
      "metadata": {
        "id": "Bi_qgCxFlNeK",
        "colab_type": "code",
        "colab": {}
      },
      "source": [
        "import numpy as np\n",
        "y_true = np.array([[0, 1, 1, 1],[0,0,1,0],[1,1,0,0]])\n",
        "y_scores = np.array([[0.2, 0.6, 0.1, 0.8],[0.4,0.9,0.8,0.6],[0.8,0.4,0.5,0.7]])\n"
      ],
      "execution_count": 0,
      "outputs": []
    },
    {
      "cell_type": "markdown",
      "metadata": {
        "id": "M4oWUGdVu6rx",
        "colab_type": "text"
      },
      "source": [
        "#Threshold: Let's assume we use 0.5 as the threshold and predict the result"
      ]
    },
    {
      "cell_type": "code",
      "metadata": {
        "id": "oS4XSS8YvHcd",
        "colab_type": "code",
        "colab": {}
      },
      "source": [
        "threshold = 0.5\n"
      ],
      "execution_count": 0,
      "outputs": []
    },
    {
      "cell_type": "code",
      "metadata": {
        "id": "H8WBPN1OxXmw",
        "colab_type": "code",
        "colab": {
          "base_uri": "https://localhost:8080/",
          "height": 68
        },
        "outputId": "ef69377c-0801-4e56-d232-74ec6c200c53"
      },
      "source": [
        "a= np.array([0.3,0.8])\n",
        "y_pred=[]\n",
        "for sample in  y_scores:\n",
        "  y_pred.append([1 if i>=0.5 else 0 for i in sample ] )\n",
        "y_pred = np.array(y_pred)\n",
        "y_pred"
      ],
      "execution_count": 35,
      "outputs": [
        {
          "output_type": "execute_result",
          "data": {
            "text/plain": [
              "array([[0, 1, 0, 1],\n",
              "       [0, 1, 1, 1],\n",
              "       [1, 0, 1, 1]])"
            ]
          },
          "metadata": {
            "tags": []
          },
          "execution_count": 35
        }
      ]
    },
    {
      "cell_type": "markdown",
      "metadata": {
        "id": "JANvg0Post6n",
        "colab_type": "text"
      },
      "source": [
        "[Accuracy score](http://lijiancheng0614.github.io/scikit-learn/modules/model_evaluation.html#accuracy-score)\n",
        "\n",
        "The accuracy_score function computes the accuracy, either the fraction (default) or the count (normalize=False) of correct predictions.\n",
        "\n",
        "In multilabel classification, the function returns the subset accuracy. If the entire set of predicted labels for a sample strictly match with the true set of labels, then the subset accuracy is 1.0; otherwise it is 0.0.\n"
      ]
    },
    {
      "cell_type": "code",
      "metadata": {
        "id": "VuegY_yhsfX7",
        "colab_type": "code",
        "colab": {
          "base_uri": "https://localhost:8080/",
          "height": 34
        },
        "outputId": "cd01d299-df2a-49d3-efdb-e12c887bfa4f"
      },
      "source": [
        "from sklearn.metrics import accuracy_score\n",
        "accuracy_score(y_true, y_pred)"
      ],
      "execution_count": 36,
      "outputs": [
        {
          "output_type": "execute_result",
          "data": {
            "text/plain": [
              "0.0"
            ]
          },
          "metadata": {
            "tags": []
          },
          "execution_count": 36
        }
      ]
    },
    {
      "cell_type": "markdown",
      "metadata": {
        "id": "MZoikTSK1a-l",
        "colab_type": "text"
      },
      "source": [
        "**Notice**: "
      ]
    },
    {
      "cell_type": "code",
      "metadata": {
        "id": "dpaqgMh71aOv",
        "colab_type": "code",
        "colab": {}
      },
      "source": [
        ""
      ],
      "execution_count": 0,
      "outputs": []
    },
    {
      "cell_type": "code",
      "metadata": {
        "id": "z3gi948Isd-w",
        "colab_type": "code",
        "colab": {
          "base_uri": "https://localhost:8080/",
          "height": 231
        },
        "outputId": "53b77b98-cf4d-4199-e47b-c77c73c6dc3c"
      },
      "source": [
        ";\n",
        "precision, recall, thresholds = precision_recall_curve(\n",
        "    y_true, y_scores)\n",
        "print(precision)\n",
        "print(recall)\n",
        "print(thresholds)"
      ],
      "execution_count": 2,
      "outputs": [
        {
          "output_type": "error",
          "ename": "NameError",
          "evalue": "ignored",
          "traceback": [
            "\u001b[0;31m---------------------------------------------------------------------------\u001b[0m",
            "\u001b[0;31mNameError\u001b[0m                                 Traceback (most recent call last)",
            "\u001b[0;32m<ipython-input-2-78cad802249c>\u001b[0m in \u001b[0;36m<module>\u001b[0;34m()\u001b[0m\n\u001b[1;32m      1\u001b[0m \u001b[0;32mfrom\u001b[0m \u001b[0msklearn\u001b[0m\u001b[0;34m.\u001b[0m\u001b[0mmetrics\u001b[0m \u001b[0;32mimport\u001b[0m \u001b[0maccuracy_score\u001b[0m\u001b[0;34m\u001b[0m\u001b[0;34m\u001b[0m\u001b[0m\n\u001b[0;32m----> 2\u001b[0;31m precision, recall, thresholds = precision_recall_curve(\n\u001b[0m\u001b[1;32m      3\u001b[0m     y_true, y_scores)\n\u001b[1;32m      4\u001b[0m \u001b[0mprint\u001b[0m\u001b[0;34m(\u001b[0m\u001b[0mprecision\u001b[0m\u001b[0;34m)\u001b[0m\u001b[0;34m\u001b[0m\u001b[0;34m\u001b[0m\u001b[0m\n\u001b[1;32m      5\u001b[0m \u001b[0mprint\u001b[0m\u001b[0;34m(\u001b[0m\u001b[0mrecall\u001b[0m\u001b[0;34m)\u001b[0m\u001b[0;34m\u001b[0m\u001b[0;34m\u001b[0m\u001b[0m\n",
            "\u001b[0;31mNameError\u001b[0m: name 'precision_recall_curve' is not defined"
          ]
        }
      ]
    },
    {
      "cell_type": "markdown",
      "metadata": {
        "id": "Y9U5_X4NNPP8",
        "colab_type": "text"
      },
      "source": [
        "\n",
        "# Precision-Recall\n",
        "\n",
        "\n",
        "Example of Precision-Recall metric to evaluate classifier output quality.\n",
        "\n",
        "Precision-Recall is a useful measure of success of prediction when the\n",
        "classes are very imbalanced. In information retrieval, precision is a\n",
        "measure of result relevancy, while recall is a measure of how many truly\n",
        "relevant results are returned.\n",
        "\n",
        "The precision-recall curve shows the tradeoff between precision and\n",
        "recall for different threshold. A high area under the curve represents\n",
        "both high recall and high precision, where high precision relates to a\n",
        "low false positive rate, and high recall relates to a low false negative\n",
        "rate. High scores for both show that the classifier is returning accurate\n",
        "results (high precision), as well as returning a majority of all positive\n",
        "results (high recall).\n",
        "\n",
        "A system with high recall but low precision returns many results, but most of\n",
        "its predicted labels are incorrect when compared to the training labels. A\n",
        "system with high precision but low recall is just the opposite, returning very\n",
        "few results, but most of its predicted labels are correct when compared to the\n",
        "training labels. An ideal system with high precision and high recall will\n",
        "return many results, with all results labeled correctly.\n",
        "\n",
        "Precision ($P$) is defined as the number of true positives ($T_p$)\n",
        "over the number of true positives plus the number of false positives\n",
        "($F_p$).\n",
        "\n",
        "$P = \\frac{T_p}{T_p+F_p}$\n",
        "\n",
        "Recall ($R$) is defined as the number of true positives ($T_p$)\n",
        "over the number of true positives plus the number of false negatives\n",
        "($F_n$).\n",
        "\n",
        "$R = \\frac{T_p}{T_p + F_n}$\n",
        "\n",
        "These quantities are also related to the ($F_1$) score, which is defined\n",
        "as the harmonic mean of precision and recall.\n",
        "\n",
        "$F1 = 2\\frac{P \\times R}{P+R}$\n",
        "\n",
        "Note that the precision may not decrease with recall. The\n",
        "definition of precision ($\\frac{T_p}{T_p + F_p}$) shows that lowering\n",
        "the threshold of a classifier may increase the denominator, by increasing the\n",
        "number of results returned. If the threshold was previously set too high, the\n",
        "new results may all be true positives, which will increase precision. If the\n",
        "previous threshold was about right or too low, further lowering the threshold\n",
        "will introduce false positives, decreasing precision.\n",
        "\n",
        "Recall is defined as $\\frac{T_p}{T_p+F_n}$, where $T_p+F_n$ does\n",
        "not depend on the classifier threshold. This means that lowering the classifier\n",
        "threshold may increase recall, by increasing the number of true positive\n",
        "results. It is also possible that lowering the threshold may leave recall\n",
        "unchanged, while the precision fluctuates.\n",
        "\n",
        "The relationship between recall and precision can be observed in the\n",
        "stairstep area of the plot - at the edges of these steps a small change\n",
        "in the threshold considerably reduces precision, with only a minor gain in\n",
        "recall.\n",
        "\n",
        "**Average precision** (AP) summarizes such a plot as the weighted mean of\n",
        "precisions achieved at each threshold, with the increase in recall from the\n",
        "previous threshold used as the weight:\n",
        "\n",
        "$\\text{AP} = \\sum_n (R_n - R_{n-1}) P_n$\n",
        "\n",
        "where $P_n$ and $R_n$ are the precision and recall at the\n",
        "nth threshold. A pair $(R_k, P_k)$ is referred to as an\n",
        "*operating point*.\n",
        "\n",
        "AP and the trapezoidal area under the operating points\n",
        "(:func:`sklearn.metrics.auc`) are common ways to summarize a precision-recall\n",
        "curve that lead to different results. Read more in the\n",
        "`User Guide <precision_recall_f_measure_metrics>`.\n",
        "\n",
        "Precision-recall curves are typically used in binary classification to study\n",
        "the output of a classifier. In order to extend the precision-recall curve and\n",
        "average precision to multi-class or multi-label classification, it is necessary\n",
        "to binarize the output. One curve can be drawn per label, but one can also draw\n",
        "a precision-recall curve by considering each element of the label indicator\n",
        "matrix as a binary prediction (micro-averaging).\n",
        "\n",
        "<div class=\"alert alert-info\"><h4>Note</h4><p>See also :func:`sklearn.metrics.average_precision_score`,\n",
        "             :func:`sklearn.metrics.recall_score`,\n",
        "             :func:`sklearn.metrics.precision_score`,\n",
        "             :func:`sklearn.metrics.f1_score`</p></div>\n"
      ]
    },
    {
      "cell_type": "markdown",
      "metadata": {
        "id": "r8tgsUdJNPP8",
        "colab_type": "text"
      },
      "source": [
        "In binary classification settings\n",
        "--------------------------------------------------------\n",
        "\n",
        "Create simple data\n",
        "..................\n",
        "\n",
        "Try to differentiate the two first classes of the iris data\n",
        "\n"
      ]
    },
    {
      "cell_type": "code",
      "metadata": {
        "id": "gkoZ5aY9NPP9",
        "colab_type": "code",
        "colab": {}
      },
      "source": [
        "from sklearn import svm, datasets\n",
        "from sklearn.model_selection import train_test_split\n",
        "import numpy as np\n",
        "\n",
        "iris = datasets.load_iris()\n",
        "X = iris.data\n",
        "y = iris.target\n",
        "\n"
      ],
      "execution_count": 0,
      "outputs": []
    },
    {
      "cell_type": "code",
      "metadata": {
        "id": "ZlpMitE0OMuU",
        "colab_type": "code",
        "outputId": "171a76f8-9ea0-4faf-e358-bde2b5610b86",
        "colab": {
          "base_uri": "https://localhost:8080/",
          "height": 34
        }
      },
      "source": [
        "X.shape\n",
        "\n"
      ],
      "execution_count": 0,
      "outputs": [
        {
          "output_type": "execute_result",
          "data": {
            "text/plain": [
              "(150, 4)"
            ]
          },
          "metadata": {
            "tags": []
          },
          "execution_count": 24
        }
      ]
    },
    {
      "cell_type": "code",
      "metadata": {
        "id": "NE0n9UwJOFas",
        "colab_type": "code",
        "colab": {}
      },
      "source": [
        "# Add noisy features\n",
        "random_state = np.random.RandomState(0)\n",
        "n_samples, n_features = X.shape\n",
        "\n",
        "random_features= random_state.randn(n_samples, 200 * n_features)\n",
        "X = np.c_[X,random_features ]\n",
        "\n"
      ],
      "execution_count": 0,
      "outputs": []
    },
    {
      "cell_type": "code",
      "metadata": {
        "id": "vxsYP0BlPLGP",
        "colab_type": "code",
        "outputId": "81cdd7a8-2edc-45d4-e392-5fe3749ad6cd",
        "colab": {
          "base_uri": "https://localhost:8080/",
          "height": 34
        }
      },
      "source": [
        "X.shape\n"
      ],
      "execution_count": 0,
      "outputs": [
        {
          "output_type": "execute_result",
          "data": {
            "text/plain": [
              "(150, 804)"
            ]
          },
          "metadata": {
            "tags": []
          },
          "execution_count": 26
        }
      ]
    },
    {
      "cell_type": "code",
      "metadata": {
        "id": "OoGNcwRKPLP5",
        "colab_type": "code",
        "colab": {}
      },
      "source": [
        "# Limit to the two first classes, and split into training and test\n",
        "X_train, X_test, y_train, y_test = train_test_split(X[y < 2], y[y < 2],\n",
        "                                                    test_size=.5,\n",
        "                                                    random_state=random_state)\n",
        "\n",
        "# Create a simple classifier\n",
        "classifier = svm.LinearSVC(random_state=random_state)\n",
        "classifier.fit(X_train, y_train)\n",
        "y_score = classifier.decision_function(X_test)\n",
        "y_predict = classifier.predict(X_test)"
      ],
      "execution_count": 0,
      "outputs": []
    },
    {
      "cell_type": "code",
      "metadata": {
        "id": "4cDvVXsQRrC_",
        "colab_type": "code",
        "outputId": "15362e66-ac5c-4737-9dd8-62bb598e740f",
        "colab": {
          "base_uri": "https://localhost:8080/",
          "height": 51
        }
      },
      "source": [
        "print(y_score[:5])\n",
        "print(y_predict[:5])\n"
      ],
      "execution_count": 0,
      "outputs": [
        {
          "output_type": "stream",
          "text": [
            "[-0.20078869  0.30423874  0.20105976  0.27523711  0.42593404]\n",
            "[0 1 1 1 1]\n"
          ],
          "name": "stdout"
        }
      ]
    },
    {
      "cell_type": "markdown",
      "metadata": {
        "id": "A8LcyCN-NPQA",
        "colab_type": "text"
      },
      "source": [
        "Compute the average precision score\n",
        "...................................\n",
        "\n"
      ]
    },
    {
      "cell_type": "code",
      "metadata": {
        "id": "HgNxMWSeNPQA",
        "colab_type": "code",
        "outputId": "6ec0b65a-a4ed-4be3-fd6e-e4e44ca3ce55",
        "colab": {
          "base_uri": "https://localhost:8080/",
          "height": 34
        }
      },
      "source": [
        "from sklearn.metrics import average_precision_score\n",
        "average_precision = average_precision_score(y_test, y_score)\n",
        "\n",
        "print('Average precision-recall score: {0:0.2f}'.format(\n",
        "      average_precision))"
      ],
      "execution_count": 0,
      "outputs": [
        {
          "output_type": "stream",
          "text": [
            "Average precision-recall score: 0.88\n"
          ],
          "name": "stdout"
        }
      ]
    },
    {
      "cell_type": "code",
      "metadata": {
        "id": "ULSdr9zyWDQR",
        "colab_type": "code",
        "colab": {}
      },
      "source": [
        ""
      ],
      "execution_count": 0,
      "outputs": []
    },
    {
      "cell_type": "markdown",
      "metadata": {
        "id": "orOUpeLpNPQD",
        "colab_type": "text"
      },
      "source": [
        "Plot the Precision-Recall curve\n",
        "................................\n",
        "\n"
      ]
    },
    {
      "cell_type": "code",
      "metadata": {
        "id": "QafOhGtcNPQE",
        "colab_type": "code",
        "outputId": "30cb7373-b19a-4d53-99e6-8c72bc6e38cb",
        "colab": {
          "base_uri": "https://localhost:8080/",
          "height": 312
        }
      },
      "source": [
        "from sklearn.metrics import precision_recall_curve\n",
        "from sklearn.metrics import plot_precision_recall_curve\n",
        "import matplotlib.pyplot as plt\n",
        "\n",
        "disp = plot_precision_recall_curve(classifier, X_test, y_test)\n",
        "disp.ax_.set_title('2-class Precision-Recall curve: '\n",
        "                   'AP={0:0.2f}'.format(average_precision))"
      ],
      "execution_count": 0,
      "outputs": [
        {
          "output_type": "execute_result",
          "data": {
            "text/plain": [
              "Text(0.5, 1.0, '2-class Precision-Recall curve: AP=0.88')"
            ]
          },
          "metadata": {
            "tags": []
          },
          "execution_count": 30
        },
        {
          "output_type": "display_data",
          "data": {
            "image/png": "[encoded data removed]",
            "text/plain": [
              "<Figure size 432x288 with 1 Axes>"
            ]
          },
          "metadata": {
            "tags": [],
            "needs_background": "light"
          }
        }
      ]
    },
    {
      "cell_type": "markdown",
      "metadata": {
        "id": "pEkdc26rNPQH",
        "colab_type": "text"
      },
      "source": [
        "In multi-label settings\n",
        "------------------------\n",
        "\n",
        "Create multi-label data, fit, and predict\n",
        "...........................................\n",
        "\n",
        "We create a multi-label dataset, to illustrate the precision-recall in\n",
        "multi-label settings\n",
        "\n"
      ]
    },
    {
      "cell_type": "code",
      "metadata": {
        "id": "JBmgrtOqNPQI",
        "colab_type": "code",
        "colab": {}
      },
      "source": [
        "from sklearn.preprocessing import label_binarize\n",
        "\n",
        "# Use label_binarize to be multi-label like settings\n",
        "Y = label_binarize(y, classes=[0, 1, 2])\n",
        "n_classes = Y.shape[1]\n",
        "\n",
        "# Split into training and test\n",
        "X_train, X_test, Y_train, Y_test = train_test_split(X, Y, test_size=.5,\n",
        "                                                    random_state=random_state)\n",
        "\n",
        "# We use OneVsRestClassifier for multi-label prediction\n",
        "from sklearn.multiclass import OneVsRestClassifier\n",
        "\n",
        "# Run classifier\n",
        "classifier = OneVsRestClassifier(svm.LinearSVC(random_state=random_state))\n",
        "classifier.fit(X_train, Y_train)\n",
        "y_score = classifier.decision_function(X_test)\n",
        "y_predict =  classifier.predict(X_test)\n",
        "\n"
      ],
      "execution_count": 0,
      "outputs": []
    },
    {
      "cell_type": "code",
      "metadata": {
        "id": "xSQm_FT-N0wW",
        "colab_type": "code",
        "outputId": "ee347501-66e6-47d4-b492-cbcf7ea04543",
        "colab": {
          "base_uri": "https://localhost:8080/",
          "height": 187
        }
      },
      "source": [
        "print(y_score[:5])\n",
        "print(y_predict[:5])"
      ],
      "execution_count": 0,
      "outputs": [
        {
          "output_type": "stream",
          "text": [
            "[[ 0.25628897 -0.61927322 -0.35802998]\n",
            " [-0.71111092  0.2383498  -0.49737585]\n",
            " [-0.51613583 -0.10590918 -0.3261403 ]\n",
            " [ 0.40527179 -0.85846183 -0.55666324]\n",
            " [-0.54877637 -0.23572974 -0.13186753]]\n",
            "[[1 0 0]\n",
            " [0 1 0]\n",
            " [0 0 0]\n",
            " [1 0 0]\n",
            " [0 0 0]]\n"
          ],
          "name": "stdout"
        }
      ]
    },
    {
      "cell_type": "markdown",
      "metadata": {
        "id": "qutFjTSlNPQM",
        "colab_type": "text"
      },
      "source": [
        "The average precision score in multi-label settings\n",
        "....................................................\n",
        "\n"
      ]
    },
    {
      "cell_type": "code",
      "metadata": {
        "id": "WTwn_6oiNPQM",
        "colab_type": "code",
        "outputId": "d5f73b9c-56f5-4b82-b633-90a4099ad302",
        "colab": {
          "base_uri": "https://localhost:8080/",
          "height": 34
        }
      },
      "source": [
        "from sklearn.metrics import precision_recall_curve\n",
        "from sklearn.metrics import average_precision_score\n",
        "\n",
        "# For each class\n",
        "precision = dict()\n",
        "recall = dict()\n",
        "average_precision = dict()\n",
        "for i in range(n_classes):\n",
        "    precision[i], recall[i], _ = precision_recall_curve(Y_test[:, i],\n",
        "                                                        y_score[:, i])\n",
        "    average_precision[i] = average_precision_score(Y_test[:, i], y_score[:, i])\n",
        "\n",
        "# A \"micro-average\": quantifying score on all classes jointly\n",
        "precision[\"micro\"], recall[\"micro\"], _ = precision_recall_curve(Y_test.ravel(),\n",
        "    y_score.ravel())\n",
        "average_precision[\"micro\"] = average_precision_score(Y_test, y_score,\n",
        "                                                     average=\"micro\")\n",
        "print('Average precision score, micro-averaged over all classes: {0:0.2f}'\n",
        "      .format(average_precision[\"micro\"]))"
      ],
      "execution_count": 0,
      "outputs": [
        {
          "output_type": "stream",
          "text": [
            "Average precision score, micro-averaged over all classes: 0.43\n"
          ],
          "name": "stdout"
        }
      ]
    },
    {
      "cell_type": "code",
      "metadata": {
        "id": "TWArVpUBfE0B",
        "colab_type": "code",
        "colab": {}
      },
      "source": [
        ""
      ],
      "execution_count": 0,
      "outputs": []
    },
    {
      "cell_type": "markdown",
      "metadata": {
        "id": "79AOqlKgfFKE",
        "colab_type": "text"
      },
      "source": [
        "### Synthetic Data\n"
      ]
    },
    {
      "cell_type": "code",
      "metadata": {
        "id": "0UPLTag3zGvP",
        "colab_type": "code",
        "outputId": "49ebf262-55f5-429e-a464-fa87ef3fa2a9",
        "colab": {
          "base_uri": "https://localhost:8080/",
          "height": 68
        }
      },
      "source": [
        "y_true = np.array([0, 0, 1, 1])\n",
        "y_scores = np.array([0.1, 0.4, 0.35, 0.8])\n",
        "precision, recall, thresholds = precision_recall_curve(\n",
        "    y_true, y_scores)\n",
        "print(precision)\n",
        "print(recall)\n",
        "print(thresholds)\n"
      ],
      "execution_count": 0,
      "outputs": [
        {
          "output_type": "stream",
          "text": [
            "[0.66666667 0.5        1.         1.        ]\n",
            "[1.  0.5 0.5 0. ]\n",
            "[0.35 0.4  0.8 ]\n"
          ],
          "name": "stdout"
        }
      ]
    },
    {
      "cell_type": "code",
      "metadata": {
        "id": "9beRh8mw3qK6",
        "colab_type": "code",
        "outputId": "b6d84896-f2ee-4fa4-ef60-ddc2d0d6a76f",
        "colab": {
          "base_uri": "https://localhost:8080/",
          "height": 295
        }
      },
      "source": [
        "plt.figure()\n",
        "\n",
        "#plt.step(np.append(0.0,thresholds), np.flip(precision), where='post')\n",
        "plt.step(np.append(0.0,thresholds), np.flip(recall), where='post')\n",
        "plt.xlabel('Treshold')\n",
        "plt.ylabel('Precision')\n",
        "plt.ylim([0.0, 1.05])\n",
        "plt.xlim([0.0, 1.0])\n",
        "plt.title(' precision  vs threshold ')\n",
        "plt.show()"
      ],
      "execution_count": 0,
      "outputs": [
        {
          "output_type": "display_data",
          "data": {
            "image/png": "[encoded data removed]",
            "text/plain": [
              "<Figure size 432x288 with 1 Axes>"
            ]
          },
          "metadata": {
            "tags": [],
            "needs_background": "light"
          }
        }
      ]
    },
    {
      "cell_type": "code",
      "metadata": {
        "id": "t58nvO7nIJPE",
        "colab_type": "code",
        "colab": {}
      },
      "source": [
        "# For each class\n",
        "precision = dict()\n",
        "recall = dict()\n",
        "treshold = dict()\n",
        "average_precision = dict()\n",
        "\n",
        "\n",
        "Y_actual= np.array([[0,1,1,1], [0,0,1,0], [1,1,0,0]], dtype=np.int)\n",
        "y_prediction= np.array([[0.2,0.6,0.1,0.8],[0.4,0.9,0.8,0.6],[0.8,0.4,0.5,0.7]], dtype=np.float64)\n",
        "\n",
        "n_classes = Y_actual.shape[1]"
      ],
      "execution_count": 0,
      "outputs": []
    },
    {
      "cell_type": "code",
      "metadata": {
        "id": "qADJPjQOlTc_",
        "colab_type": "code",
        "outputId": "461ac78e-81dc-4415-b388-5093bac35ed1",
        "colab": {
          "base_uri": "https://localhost:8080/",
          "height": 34
        }
      },
      "source": [
        "for i in range(n_classes):\n",
        "    precision[i], recall[i], treshold[i] = precision_recall_curve(Y_actual[:, i], y_prediction[:, i])\n",
        "    average_precision[i] =average_precision_score(Y_actual[:, i], y_prediction[:, i])\n",
        "\n",
        "print (\"average_precision {} \".format(average_precision))"
      ],
      "execution_count": 0,
      "outputs": [
        {
          "output_type": "stream",
          "text": [
            "average_precision {0: 1.0, 1: 0.5833333333333333, 2: 0.8333333333333333, 3: 1.0} \n"
          ],
          "name": "stdout"
        }
      ]
    },
    {
      "cell_type": "code",
      "metadata": {
        "id": "-dyoTmqZqD0a",
        "colab_type": "code",
        "outputId": "a12afaba-021d-414b-890e-c5f854295c17",
        "colab": {
          "base_uri": "https://localhost:8080/",
          "height": 51
        }
      },
      "source": [
        "x=np.append(treshold[2],1)\n",
        "\n",
        "print(x)\n",
        "print((precision[2]))\n"
      ],
      "execution_count": 0,
      "outputs": [
        {
          "output_type": "stream",
          "text": [
            "[0.1 0.5 0.8 1. ]\n",
            "[0.66666667 0.5        1.         1.        ]\n"
          ],
          "name": "stdout"
        }
      ]
    },
    {
      "cell_type": "code",
      "metadata": {
        "id": "cYHXbYbwnHfR",
        "colab_type": "code",
        "outputId": "e7787d00-e7e7-43db-e9d6-f92aaaa4cebb",
        "colab": {
          "base_uri": "https://localhost:8080/",
          "height": 1000
        }
      },
      "source": [
        "plt.figure()\n",
        "\n",
        "for i in range(n_classes):\n",
        "  plt.step(np.append(treshold[i],1), precision[i], where='post')\n",
        "  plt.xlabel('Treshold')\n",
        "  plt.ylabel('Precision')\n",
        "  plt.ylim([0.0, 1.05])\n",
        "  plt.xlim([0.0, 1.0])\n",
        "  plt.title(\n",
        "    'Average precision score for class {}: AP={:.3f}'.format(i, average_precision[i]))\n",
        "  plt.show()"
      ],
      "execution_count": 0,
      "outputs": [
        {
          "output_type": "display_data",
          "data": {
            "image/png": "[encoded data removed]",
            "text/plain": [
              "<Figure size 432x288 with 1 Axes>"
            ]
          },
          "metadata": {
            "tags": [],
            "needs_background": "light"
          }
        },
        {
          "output_type": "display_data",
          "data": {
            "image/png": "[encoded data removed]",
            "text/plain": [
              "<Figure size 432x288 with 1 Axes>"
            ]
          },
          "metadata": {
            "tags": [],
            "needs_background": "light"
          }
        },
        {
          "output_type": "display_data",
          "data": {
            "image/png": "[encoded data removed]",
            "text/plain": [
              "<Figure size 432x288 with 1 Axes>"
            ]
          },
          "metadata": {
            "tags": [],
            "needs_background": "light"
          }
        },
        {
          "output_type": "display_data",
          "data": {
            "image/png": "[encoded data removed]",
            "text/plain": [
              "<Figure size 432x288 with 1 Axes>"
            ]
          },
          "metadata": {
            "tags": [],
            "needs_background": "light"
          }
        }
      ]
    },
    {
      "cell_type": "code",
      "metadata": {
        "id": "WFxSX_tRlYKv",
        "colab_type": "code",
        "outputId": "f6f35bcd-1d85-48cb-c274-ce1f09e7e79c",
        "colab": {
          "base_uri": "https://localhost:8080/",
          "height": 1000
        }
      },
      "source": [
        "plt.figure()\n",
        "\n",
        "for i in range(n_classes):\n",
        "  plt.step(recall[i], precision[i], where='post')\n",
        "  plt.xlabel('Recall')\n",
        "  plt.ylabel('Precision')\n",
        "  plt.ylim([0.0, 1.05])\n",
        "  plt.xlim([0.0, 1.0])\n",
        "  plt.title(\n",
        "    'Average precision score for class {}: AP={:.3f}'.format(i, average_precision[i]))\n",
        "  plt.show()"
      ],
      "execution_count": 0,
      "outputs": [
        {
          "output_type": "display_data",
          "data": {
            "image/png": "[encoded data removed]",
            "text/plain": [
              "<Figure size 432x288 with 1 Axes>"
            ]
          },
          "metadata": {
            "tags": [],
            "needs_background": "light"
          }
        },
        {
          "output_type": "display_data",
          "data": {
            "image/png": "[encoded data removed]",
            "text/plain": [
              "<Figure size 432x288 with 1 Axes>"
            ]
          },
          "metadata": {
            "tags": [],
            "needs_background": "light"
          }
        },
        {
          "output_type": "display_data",
          "data": {
            "image/png": "[encoded data removed]",
            "text/plain": [
              "<Figure size 432x288 with 1 Axes>"
            ]
          },
          "metadata": {
            "tags": [],
            "needs_background": "light"
          }
        },
        {
          "output_type": "display_data",
          "data": {
            "image/png": "[encoded data removed]",
            "text/plain": [
              "<Figure size 432x288 with 1 Axes>"
            ]
          },
          "metadata": {
            "tags": [],
            "needs_background": "light"
          }
        }
      ]
    },
    {
      "cell_type": "code",
      "metadata": {
        "id": "oaKrbEcdaqDJ",
        "colab_type": "code",
        "outputId": "4e4f0b04-2b37-4436-d683-d8bcfeab8b32",
        "colab": {
          "base_uri": "https://localhost:8080/",
          "height": 187
        }
      },
      "source": [
        "\n",
        "\n",
        "\n",
        "# A \"micro-average\": quantifying score on all classes jointly\n",
        "precision[\"micro\"], recall[\"micro\"], _ = precision_recall_curve(Y_actual.ravel(),\n",
        "    y_prediction.ravel())\n",
        "average_precision[\"None\"] = average_precision_score(Y_actual, y_prediction, average=None)\n",
        "average_precision[\"Void\"] = average_precision_score(Y_actual, y_prediction)\n",
        "average_precision[\"micro\"] = average_precision_score(Y_actual, y_prediction, average=\"micro\")\n",
        "average_precision[\"macro\"] = average_precision_score(Y_actual, y_prediction, average=\"macro\")\n",
        "average_precision[\"samples\"] = average_precision_score(Y_actual, y_prediction, average=\"samples\")\n",
        "average_precision[\"weighted\"] = average_precision_score(Y_actual, y_prediction, average=\"weighted\")\n",
        "\n",
        "#print('Average precision score, micro-averaged over all classes: {0:0.2f}'.format(average_precision[\"micro\"]))\n",
        "    \n",
        "average_precision"
      ],
      "execution_count": 0,
      "outputs": [
        {
          "output_type": "execute_result",
          "data": {
            "text/plain": [
              "{0: 1.0,\n",
              " 1: 0.5833333333333333,\n",
              " 2: 0.8333333333333333,\n",
              " 3: 1.0,\n",
              " 'None': array([1.        , 0.58333333, 0.83333333, 1.        ]),\n",
              " 'Void': 0.8541666666666666,\n",
              " 'macro': 0.8541666666666666,\n",
              " 'micro': 0.6369047619047619,\n",
              " 'samples': 0.7222222222222222,\n",
              " 'weighted': 0.8055555555555555}"
            ]
          },
          "metadata": {
            "tags": []
          },
          "execution_count": 105
        }
      ]
    },
    {
      "cell_type": "code",
      "metadata": {
        "id": "63DZQQA8P770",
        "colab_type": "code",
        "outputId": "260d5156-1522-4bf4-c90b-011724d0c566",
        "colab": {
          "base_uri": "https://localhost:8080/",
          "height": 85
        }
      },
      "source": [
        "precision"
      ],
      "execution_count": 0,
      "outputs": [
        {
          "output_type": "execute_result",
          "data": {
            "text/plain": [
              "{0: array([1., 1.]),\n",
              " 1: array([0.66666667, 0.5       , 0.        , 1.        ]),\n",
              " 2: array([0.66666667, 0.5       , 1.        , 1.        ]),\n",
              " 3: array([1., 1.])}"
            ]
          },
          "metadata": {
            "tags": []
          },
          "execution_count": 78
        }
      ]
    },
    {
      "cell_type": "markdown",
      "metadata": {
        "id": "QXVi6JmuNPQQ",
        "colab_type": "text"
      },
      "source": [
        "Plot the micro-averaged Precision-Recall curve\n",
        "...............................................\n",
        "\n",
        "\n"
      ]
    },
    {
      "cell_type": "code",
      "metadata": {
        "id": "G_hWUHgvNPQQ",
        "colab_type": "code",
        "outputId": "37f7ee18-adf3-4dec-f1f1-5a04150448c4",
        "colab": {
          "base_uri": "https://localhost:8080/",
          "height": 312
        }
      },
      "source": [
        "plt.figure()\n",
        "plt.step(recall['micro'], precision['micro'], where='post')\n",
        "\n",
        "plt.xlabel('Recall')\n",
        "plt.ylabel('Precision')\n",
        "plt.ylim([0.0, 1.05])\n",
        "plt.xlim([0.0, 1.0])\n",
        "plt.title(\n",
        "    'Average precision score, micro-averaged over all classes: AP={0:0.2f}'\n",
        "    .format(average_precision[\"micro\"]))"
      ],
      "execution_count": 0,
      "outputs": [
        {
          "output_type": "execute_result",
          "data": {
            "text/plain": [
              "Text(0.5, 1.0, 'Average precision score, micro-averaged over all classes: AP=0.64')"
            ]
          },
          "metadata": {
            "tags": []
          },
          "execution_count": 106
        },
        {
          "output_type": "display_data",
          "data": {
            "image/png": "[encoded data removed]",
            "text/plain": [
              "<Figure size 432x288 with 1 Axes>"
            ]
          },
          "metadata": {
            "tags": [],
            "needs_background": "light"
          }
        }
      ]
    },
    {
      "cell_type": "markdown",
      "metadata": {
        "id": "TgYN9E2JNPQT",
        "colab_type": "text"
      },
      "source": [
        "Plot Precision-Recall curve for each class and iso-f1 curves\n",
        ".............................................................\n",
        "\n",
        "\n"
      ]
    },
    {
      "cell_type": "code",
      "metadata": {
        "id": "M-ymEilJ_I3s",
        "colab_type": "code",
        "outputId": "aef25e43-963d-4006-960f-90416c600b67",
        "colab": {
          "base_uri": "https://localhost:8080/",
          "height": 187
        }
      },
      "source": [
        "np.linspace(0.01, 1)"
      ],
      "execution_count": 0,
      "outputs": [
        {
          "output_type": "execute_result",
          "data": {
            "text/plain": [
              "array([0.01      , 0.03020408, 0.05040816, 0.07061224, 0.09081633,\n",
              "       0.11102041, 0.13122449, 0.15142857, 0.17163265, 0.19183673,\n",
              "       0.21204082, 0.2322449 , 0.25244898, 0.27265306, 0.29285714,\n",
              "       0.31306122, 0.33326531, 0.35346939, 0.37367347, 0.39387755,\n",
              "       0.41408163, 0.43428571, 0.4544898 , 0.47469388, 0.49489796,\n",
              "       0.51510204, 0.53530612, 0.5555102 , 0.57571429, 0.59591837,\n",
              "       0.61612245, 0.63632653, 0.65653061, 0.67673469, 0.69693878,\n",
              "       0.71714286, 0.73734694, 0.75755102, 0.7777551 , 0.79795918,\n",
              "       0.81816327, 0.83836735, 0.85857143, 0.87877551, 0.89897959,\n",
              "       0.91918367, 0.93938776, 0.95959184, 0.97979592, 1.        ])"
            ]
          },
          "metadata": {
            "tags": []
          },
          "execution_count": 17
        }
      ]
    },
    {
      "cell_type": "code",
      "metadata": {
        "id": "Gmyw68IwNPQU",
        "colab_type": "code",
        "outputId": "9eb29a73-7210-42a9-f4dd-48cdf00b690d",
        "colab": {
          "base_uri": "https://localhost:8080/",
          "height": 548
        }
      },
      "source": [
        "from itertools import cycle\n",
        "# setup plot details\n",
        "colors = cycle(['navy', 'turquoise', 'darkorange', 'cornflowerblue', 'teal'])\n",
        "\n",
        "plt.figure(figsize=(7, 8))\n",
        "f_scores = np.linspace(0.2, 0.8, num=4)\n",
        "lines = []\n",
        "labels = []\n",
        "for f_score in f_scores:\n",
        "    x = np.linspace(0.01, 1)\n",
        "    y = f_score * x / (2 * x - f_score)\n",
        "    l, = plt.plot(x[y >= 0], y[y >= 0], color='gray', alpha=0.2)\n",
        "    plt.annotate('f1={0:0.1f}'.format(f_score), xy=(0.9, y[45] + 0.02))\n",
        "\n",
        "lines.append(l)\n",
        "labels.append('iso-f1 curves')\n",
        "l, = plt.plot(recall[\"micro\"], precision[\"micro\"], color='gold', lw=2)\n",
        "lines.append(l)\n",
        "labels.append('micro-average Precision-recall (area = {0:0.2f})'\n",
        "              ''.format(average_precision[\"micro\"]))\n",
        "\n",
        "for i, color in zip(range(n_classes), colors):\n",
        "    l, = plt.plot(recall[i], precision[i], color=color, lw=2)\n",
        "    lines.append(l)\n",
        "    labels.append('Precision-recall for class {0} (area = {1:0.2f})'\n",
        "                  ''.format(i, average_precision[i]))\n",
        "\n",
        "fig = plt.gcf()\n",
        "fig.subplots_adjust(bottom=0.25)\n",
        "plt.xlim([0.0, 1.0])\n",
        "plt.ylim([0.0, 1.05])\n",
        "plt.xlabel('Recall')\n",
        "plt.ylabel('Precision')\n",
        "plt.title('Extension of Precision-Recall curve to multi-class')\n",
        "plt.legend(lines, labels, loc=(0, -.38), prop=dict(size=14))\n",
        "\n",
        "\n",
        "plt.show()"
      ],
      "execution_count": 0,
      "outputs": [
        {
          "output_type": "display_data",
          "data": {
            "image/png": "[encoded data removed]",
            "text/plain": [
              "<Figure size 504x576 with 1 Axes>"
            ]
          },
          "metadata": {
            "tags": [],
            "needs_background": "light"
          }
        }
      ]
    }
  ]
}