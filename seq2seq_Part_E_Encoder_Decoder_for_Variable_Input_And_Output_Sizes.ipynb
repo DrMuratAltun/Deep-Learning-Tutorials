{
  "nbformat": 4,
  "nbformat_minor": 0,
  "metadata": {
    "accelerator": "GPU",
    "colab": {
      "name": "seq2seq Part E Encoder Decoder for Variable Input And Output Sizes.ipynb",
      "provenance": [],
      "collapsed_sections": [],
      "authorship_tag": "ABX9TyP4hZaFVpkGSpiOADN4MxLi",
      "include_colab_link": true
    },
    "kernelspec": {
      "display_name": "Python 3",
      "name": "python3"
    }
  },
  "cells": [
    {
      "cell_type": "markdown",
      "metadata": {
        "id": "view-in-github",
        "colab_type": "text"
      },
      "source": [
        "<a href=\"https://colab.research.google.com/github/kmkarakaya/ML_tutorials/blob/master/seq2seq_Part_E_Encoder_Decoder_for_Variable_Input_And_Output_Sizes.ipynb\" target=\"_parent\"><img src=\"https://colab.research.google.com/assets/colab-badge.svg\" alt=\"Open In Colab\"/></a>"
      ]
    },
    {
      "cell_type": "markdown",
      "metadata": {
        "id": "xQmW6Ew8AycS"
      },
      "source": [
        "# PART E: Encoder Decoder for Variable Input And Output Sizes\n",
        "Welcome to the **Part E** of Seq2Seq Learning Tutorial Series.\n",
        "In this tutorial, we will design an Encoder Decoder model to handle **Variable** Input And Output sequence sizes by using **Padding** and **Masking**.\n",
        "\n",
        "We will use the **LSTM** layer in Keras as the Recurrent Neural Network.\n",
        "\n",
        "If you would like to follow up all the tutorials, please **subcribe** to [my YouTube Channel](https://www.youtube.com/channel/UCrCxCxTFL2ytaDrDYrN4_eA/playlists) or **follow** [my blog on Medium](https://medium.com/@kmkarakaya). Do not forget to turn on **Notifications** so that you will be notified when ***new parts are uploaded***.\n",
        "\n",
        "You can access this **Colab Notebook** using [the link](https://colab.research.google.com/drive/1cxDOWY7PQSx-tRy8inE2IG7-xGpVJWNP?usp=sharing) given in the video descriptions below.\n",
        "\n",
        "If you are ready, let's get started!\n"
      ]
    },
    {
      "cell_type": "markdown",
      "metadata": {
        "id": "Mi1tgH2TAFsB"
      },
      "source": [
        "___\n",
        "# References:\n",
        "\n"
      ]
    },
    {
      "cell_type": "markdown",
      "metadata": {
        "id": "nUA-1w_RBh4s"
      },
      "source": [
        "**Blogs**:\n",
        "\n",
        "* [Tensorflow/Keras Masking Padding official website](https://www.tensorflow.org/guide/keras/masking_and_padding)\n",
        "\n",
        "* [Tensorflow/Keras LSTM official website](https://www.tensorflow.org/api_docs/python/tf/keras/layers/LSTM)\n",
        "\n",
        "* [A ten-minute introduction to sequence-to-sequence learning in Keras by Francois Chollet](https://blog.keras.io/a-ten-minute-introduction-to-sequence-to-sequence-learning-in-keras.html)\n",
        "\n",
        "* [How to Develop an Encoder-Decoder Model with Attention in Keras by Jason Brownlee](https://machinelearningmastery.com/encoder-decoder-attention-sequence-to-sequence-prediction-keras/)\n",
        "\n",
        "**Presentations:**\n",
        "\n",
        "* [LSTM from a programmer's perspective by Murat Karakaya Akademi](https://github.com/kmkarakaya/ML_tutorials/raw/bf15d1d5aebd23e05420c12f3c954abea9204b1f/ppt/HOW%20KERAS%20LSTM%20WORKS.pptx)\n",
        "\n",
        "**Videos:**\n",
        "* [LSTM from scratch by Murat Karakaya Akademi](https://youtu.be/7nnSjZBJVDs)\n",
        "\n",
        "**Notebooks**:\n",
        "* [LSTM intro by Murat Karakaya Akademi](https://colab.research.google.com/drive/1kG5pUczEtqdDtMHiNL-mvgTi-5-Y058t?usp=sharing)\n",
        "* [Recap LSTM outputs by Murat Karakaya Akademi](https://colab.research.google.com/drive/1nUazJkXcRZi-XiXCr6sEgCy2Z5Mhze1n?usp=sharing)\n",
        "\n"
      ]
    },
    {
      "cell_type": "markdown",
      "metadata": {
        "id": "lQW-e4UkraAu"
      },
      "source": [
        "---\n",
        "# Import Dependencies & Auxiliary Functions"
      ]
    },
    {
      "cell_type": "code",
      "metadata": {
        "colab": {
          "base_uri": "https://localhost:8080/"
        },
        "id": "ejlCnWNlFzdm",
        "outputId": "7c31d97d-ec09-4349-b164-db4ee8737852"
      },
      "source": [
        "#@title Check GPU\n",
        "%tensorflow_version 2.x\n",
        "import tensorflow as tf\n",
        "device_name = tf.test.gpu_device_name()\n",
        "if device_name != '/device:GPU:0':\n",
        "  print('GPU device not found')\n",
        "else:\n",
        "  print('Found GPU at: {}'.format(device_name))"
      ],
      "execution_count": null,
      "outputs": [
        {
          "output_type": "stream",
          "text": [
            "GPU device not found\n",
            "time: 2.67 ms\n"
          ],
          "name": "stdout"
        }
      ]
    },
    {
      "cell_type": "code",
      "metadata": {
        "cellView": "form",
        "colab": {
          "base_uri": "https://localhost:8080/"
        },
        "id": "VbUbGOuqFzUY",
        "outputId": "4b879309-2c4e-487f-9339-ae6d6913b881"
      },
      "source": [
        "#@title Version Info\n",
        "print('tf version: ', tf.__version__)\n",
        "print('tf.keras version:', tf.keras.__version__)\n"
      ],
      "execution_count": null,
      "outputs": [
        {
          "output_type": "stream",
          "text": [
            "tf version:  2.3.0\n",
            "tf.keras version: 2.4.0\n",
            "time: 6.53 ms\n"
          ],
          "name": "stdout"
        }
      ]
    },
    {
      "cell_type": "code",
      "metadata": {
        "cellView": "form",
        "colab": {
          "base_uri": "https://localhost:8080/"
        },
        "id": "IC4MdzOhgwRg",
        "outputId": "4345b554-444c-43fb-95fd-73df83f446eb"
      },
      "source": [
        "#@title Time\n",
        "!pip install ipython-autotime\n",
        "\n",
        "%load_ext autotime"
      ],
      "execution_count": null,
      "outputs": [
        {
          "output_type": "stream",
          "text": [
            "Requirement already satisfied: ipython-autotime in /usr/local/lib/python3.6/dist-packages (0.2.0)\n",
            "Requirement already satisfied: ipython in /usr/local/lib/python3.6/dist-packages (from ipython-autotime) (5.5.0)\n",
            "Requirement already satisfied: pickleshare in /usr/local/lib/python3.6/dist-packages (from ipython->ipython-autotime) (0.7.5)\n",
            "Requirement already satisfied: simplegeneric>0.8 in /usr/local/lib/python3.6/dist-packages (from ipython->ipython-autotime) (0.8.1)\n",
            "Requirement already satisfied: pygments in /usr/local/lib/python3.6/dist-packages (from ipython->ipython-autotime) (2.6.1)\n",
            "Requirement already satisfied: pexpect; sys_platform != \"win32\" in /usr/local/lib/python3.6/dist-packages (from ipython->ipython-autotime) (4.8.0)\n",
            "Requirement already satisfied: traitlets>=4.2 in /usr/local/lib/python3.6/dist-packages (from ipython->ipython-autotime) (4.3.3)\n",
            "Requirement already satisfied: prompt-toolkit<2.0.0,>=1.0.4 in /usr/local/lib/python3.6/dist-packages (from ipython->ipython-autotime) (1.0.18)\n",
            "Requirement already satisfied: decorator in /usr/local/lib/python3.6/dist-packages (from ipython->ipython-autotime) (4.4.2)\n",
            "Requirement already satisfied: setuptools>=18.5 in /usr/local/lib/python3.6/dist-packages (from ipython->ipython-autotime) (50.3.2)\n",
            "Requirement already satisfied: ptyprocess>=0.5 in /usr/local/lib/python3.6/dist-packages (from pexpect; sys_platform != \"win32\"->ipython->ipython-autotime) (0.6.0)\n",
            "Requirement already satisfied: six in /usr/local/lib/python3.6/dist-packages (from traitlets>=4.2->ipython->ipython-autotime) (1.15.0)\n",
            "Requirement already satisfied: ipython-genutils in /usr/local/lib/python3.6/dist-packages (from traitlets>=4.2->ipython->ipython-autotime) (0.2.0)\n",
            "Requirement already satisfied: wcwidth in /usr/local/lib/python3.6/dist-packages (from prompt-toolkit<2.0.0,>=1.0.4->ipython->ipython-autotime) (0.2.5)\n",
            "The autotime extension is already loaded. To reload it, use:\n",
            "  %reload_ext autotime\n",
            "time: 2.35 s\n"
          ],
          "name": "stdout"
        }
      ]
    },
    {
      "cell_type": "code",
      "metadata": {
        "colab": {
          "base_uri": "https://localhost:8080/"
        },
        "id": "J9ZhrUeTDsx-",
        "outputId": "4feb11b3-8a7d-490f-d73b-69361400e5fe"
      },
      "source": [
        "#@title Import Libraries\n",
        "from random import randint\n",
        "from numpy import array\n",
        "from numpy import argmax\n",
        "import keras.backend as K\n",
        "from tensorflow.keras import models\n",
        "from numpy import array_equal\n",
        "import numpy as np\n",
        "from tensorflow.keras.models import Sequential, Model\n",
        "from tensorflow.keras.layers import LSTM, Bidirectional\n",
        "from tensorflow.keras.layers import Dense, Flatten\n",
        "from tensorflow.keras import Input\n",
        "from tensorflow.keras.layers import TimeDistributed\n",
        "from tensorflow.keras.layers import RepeatVector\n",
        "from tensorflow.keras.callbacks import EarlyStopping\n",
        "from tensorflow.keras.utils import plot_model\n",
        "from tensorflow.keras.models import load_model\n",
        "import matplotlib.pyplot as plt\n",
        "\n",
        "from tensorflow.keras.layers import Lambda\n",
        "from tensorflow.keras import backend as K\n",
        "\n",
        "tf.keras.backend.set_floatx('float64')"
      ],
      "execution_count": null,
      "outputs": [
        {
          "output_type": "stream",
          "text": [
            "time: 9.45 ms\n"
          ],
          "name": "stdout"
        }
      ]
    },
    {
      "cell_type": "code",
      "metadata": {
        "cellView": "code",
        "colab": {
          "base_uri": "https://localhost:8080/"
        },
        "id": "feLfHoNmBeXu",
        "outputId": "96a61e62-683c-426a-a407-b5a4fffa6ce7"
      },
      "source": [
        "#@title Functions to generate Seq2Seq Dataset, one hot encode / decode Input & Output Sequences\n",
        "\n",
        "\n",
        "# generate a sequence of random integers\n",
        "def generate_sequence(min_timesteps_in, max_timesteps_in, n_unique):\n",
        "\treturn [randint(1, n_unique-1) for _ in \n",
        "\t        range( randint(min_timesteps_in, max_timesteps_in))]\n",
        "\n",
        "# one hot encode sequence\n",
        "def one_hot_encode(sequence, n_unique):\n",
        "\tencoding = list()\n",
        "\t\n",
        "\tfor value in sequence:\n",
        "\t\tvector = [0 for _ in range(n_unique)]\n",
        "\t\tvector[value] = 1\n",
        "\t\tencoding.append(vector)\n",
        "\treturn array(encoding)\n",
        "\n",
        "# decode a one hot encoded string\n",
        "def one_hot_decode(encoded_seq):\n",
        "\treturn [argmax(vector) for vector in encoded_seq]\n",
        "\n",
        "# prepare data for the LSTM\n",
        "def get_reversed_pairs(min_timesteps_in, max_timesteps_in,vocabulary_size,verbose= False):\n",
        "\t# generate random sequence\n",
        "\tsequence_in = generate_sequence(min_timesteps_in, max_timesteps_in, vocabulary_size)\n",
        "\tsequence_out = sequence_in[::-1]\n",
        "\tsequence_out =[i for i in sequence_out if i%2 ==0 and i != 0]\n",
        "\t\n",
        "\t# one hot encode\n",
        "\tX = one_hot_encode(sequence_in, vocabulary_size)\n",
        "\ty = one_hot_encode(sequence_out, vocabulary_size)\n",
        "\n",
        "\treturn X,y\n",
        "\n",
        "\n",
        "def create_dataset(train_size, test_size, \n",
        "                   min_timesteps_in, max_timesteps_in, vocabulary_size, verbose= False):\n",
        "\tpairs = [get_reversed_pairs(min_timesteps_in, max_timesteps_in,vocabulary_size) for _ in range(train_size)]\n",
        "\t\n",
        "\tpairs=np.array(pairs).squeeze()\n",
        "\tX_train = pairs[:,0]\n",
        "\ty_train = pairs[:,1]\n",
        "\tpairs = [get_reversed_pairs(min_timesteps_in, max_timesteps_in,vocabulary_size) for _ in range(test_size)]\n",
        "\tpairs=np.array(pairs).squeeze()\n",
        "\tX_test = pairs[:,0]\n",
        "\ty_test = pairs[:,1]\t\n",
        "\n",
        "\tif(verbose):\n",
        "  \n",
        "\t\tprint('\\nSample X and y sequences')\n",
        "\t\tfor i in range(5):\n",
        "\t\t\tprint('X[',i,']=%s' % (one_hot_decode(X_train[i])), '........ y[',i,']=%s' % (one_hot_decode(y_train[i])))\n",
        "\n",
        "\t\tprint('\\nEach input and output sequences are converted one_hot_encoded format with input_dimension = ',\n",
        "\t\t      vocabulary_size)\n",
        "\t\tprint('X[0]=\\n%s' % (X_train[0]))\n",
        "\t\tprint('y[0]=\\n%s' % (y_train[0]))\n",
        "\t\n",
        "\t\tprint('\\nGenerated sequence datasets as follows [sample_size,time_steps, input_dimension]')\n",
        "\t\tprint('X_train.shape: ', X_train.shape,'y_train.shape: ', y_train.shape)\n",
        "\t\tprint('X_test.shape: ', X_test.shape,'y_test.shape: ', y_test.shape)\n",
        "\t\n",
        "\treturn X_train, y_train, X_test, \ty_test"
      ],
      "execution_count": null,
      "outputs": [
        {
          "output_type": "stream",
          "text": [
            "time: 51.2 ms\n"
          ],
          "name": "stdout"
        }
      ]
    },
    {
      "cell_type": "code",
      "metadata": {
        "cellView": "code",
        "colab": {
          "base_uri": "https://localhost:8080/"
        },
        "id": "JHDIEj53Dj5p",
        "outputId": "03365291-0744-45c5-d82c-6b94d24aa1c0"
      },
      "source": [
        "#@title Function to Train & Test  given model (Early Stopping monitor 'val_loss')\n",
        "def train_test(model, X_train, y_train , X_test, \ty_test, epochs=500, batch_size=32, patience=5,verbose=0):\n",
        "\t# patient early stopping\n",
        "\t#es = EarlyStopping(monitor='val_accuracy', mode='max', min_delta=1, patience=20)\n",
        "\tes = EarlyStopping(monitor='val_loss', mode='min', verbose=1, patience=patience)\n",
        "\t# train model\n",
        "\tprint('training for ',epochs,' epochs begins with EarlyStopping(monitor= val_loss, patience=',patience,')....')\n",
        "\thistory=model.fit(X_train, y_train, validation_split= 0.1, epochs=epochs,batch_size=batch_size, verbose=verbose, callbacks=[es])\n",
        "\tprint(epochs,' epoch training finished...')\n",
        "\n",
        "\t# report training\n",
        "\t# list all data in history\n",
        "\t#print(history.history.keys())\n",
        "\t# evaluate the model\n",
        "\t_, train_acc = model.evaluate(X_train, y_train, batch_size=batch_size, verbose=0)\n",
        "\t_, test_acc = model.evaluate(X_test, \ty_test, batch_size=batch_size, verbose=0)\n",
        "\tprint('\\nPREDICTION ACCURACY (%):')\n",
        "\tprint('Train: %.3f, Test: %.3f' % (train_acc*100, test_acc*100))\n",
        "\t# summarize history for accuracy\n",
        "\tplt.plot(history.history['accuracy'])\n",
        "\tplt.plot(history.history['val_accuracy'])\n",
        "\tplt.title(model.name+' accuracy')\n",
        "\tplt.ylabel('accuracy')\n",
        "\tplt.xlabel('epoch')\n",
        "\tplt.legend(['train', 'val'], loc='upper left')\n",
        "\tplt.show()\n",
        "\t# summarize history for loss\n",
        "\tplt.plot(history.history['loss'])\n",
        "\tplt.plot(history.history['val_loss'])\n",
        "\tplt.title(model.name+' loss')\n",
        "\tplt.ylabel('loss')\n",
        "\tplt.xlabel('epoch')\n",
        "\tplt.legend(['train', 'val'], loc='upper left')\n",
        "\tplt.show()\n",
        "\n",
        "  \n",
        "\t# spot check some examples\n",
        "\tspace = 3*len(one_hot_decode(y_test[0]))\n",
        "\tprint('10 examples from test data...')\n",
        "\tprint('Input',' '*(space-4) ,'Expected',' '*(space-7) ,\n",
        "\t      'Predicted',' '*(space-5) ,'T/F')\n",
        "\tcorrect =0 \n",
        "\tsampleNo =  10\n",
        "\n",
        "\tpredicted= model_encoder_decoder.predict(X_test[:sampleNo], batch_size=batch_size)\n",
        "\tfor sample in range(0,sampleNo):\n",
        "\t\tif (one_hot_decode(y_test[sample])== one_hot_decode(predicted[sample])):\n",
        "\t\t\tcorrect+=1\n",
        "\t\tprint( one_hot_decode(X_test[sample]), ' ', \n",
        "\t\t\t\t\tone_hot_decode(y_test[sample]),' ', one_hot_decode(predicted[sample]),\n",
        "\t\t\t\t\t' ',one_hot_decode(y_test[sample])== one_hot_decode(predicted[sample]))\n",
        "\tprint('Accuracy: ', correct/sampleNo)\n",
        "\t\n",
        "\treturn model_encoder_decoder"
      ],
      "execution_count": null,
      "outputs": [
        {
          "output_type": "stream",
          "text": [
            "time: 48 ms\n"
          ],
          "name": "stdout"
        }
      ]
    },
    {
      "cell_type": "markdown",
      "metadata": {
        "id": "7AnSzyqRCpZw"
      },
      "source": [
        "---\n",
        "# SEQ2SEQ LEARNING SERIES:\n",
        "* This is the **Part E** of the Seq2Seq Learning series.\n",
        "\n",
        "* **Please check out the previous parts** to ***refresh*** the necessary background knowledge in order to follow this part with ease."
      ]
    },
    {
      "cell_type": "markdown",
      "metadata": {
        "id": "SgLlQW9XCsEB"
      },
      "source": [
        "You can access all my **SEQ2SEQ Learning** videos on **[Murat Karakaya Akademi Youtube channel](https://www.youtube.com/channel/UCrCxCxTFL2ytaDrDYrN4_eA/playlists?view=1&flow=grid)** in [ENGLISH](https://www.youtube.com/playlist?list=PLQflnv_s49v-4aH-xFcTykTpcyWSY4Tww) or in [TURKISH](https://www.youtube.com/playlist?list=PLQflnv_s49v97hDXtCo4mgje_SEiJ0_hH)\n",
        "\n",
        "You can access to [my blog on Medium](https://medium.com/@kmkarakaya)\n",
        "\n",
        "**Part A: AN INTRODUCTION TO SEQ2SEQ LEARNING AND A SAMPLE SOLUTION WITH MLP NETWORK** \n",
        " \n",
        "   * YouTube Videos in [ENGLISH](https://youtu.be/9TEPkRLhgSc) or [TURKISH](https://youtu.be/p2QlkuV4ito) / [Medium Post](https://medium.com/@kmkarakaya/part-a-introduction-to-seq2seq-learning-a-sample-solution-with-mlp-network-95dc0bcb9c83?sk=2063e3c62b1989efedf6625ac626c2ee) / [Colab Notebook](https://colab.research.google.com/drive/1fffqeeJsY89LuxsEl_7Re33nCWGusjCj?usp=sharing)\n",
        "\n",
        "**Part B: SEQ2SEQ LEARNING WITH RECURRENT NEURAL NETWORKS (LSTM)** \n",
        "\n",
        "   * YouTube Video in [ENGLISH](https://youtu.be/7L5bkMu0Pgg) or [TURKISH](https://youtu.be/UA4rDcq5Cuo) / [Medium Post](https://medium.com/@kmkarakaya/seq2seq-part-b-using-lstm-layer-in-a-recurrent-neural-network-9be629bb71e2?source=friends_link&sk=0b6e0f34592100b991664c55061ca394) / [Colab Notebook](https://colab.research.google.com/drive/1DBaHgsoPJCoj8SXAqNqQtKqAtwrUc4qS?usp=sharing)\n",
        "\n",
        "\n",
        "**Part C: SEQ2SEQ LEARNING WITH A BASIC ENCODER DECODER MODEL** \n",
        "\n",
        "   * YouTube Video in [ENGLISH](https://youtu.be/iHJkfsV9cqY) or [TURKISH](https://youtu.be/SZNqENbc9f4)/ [Medium Post](https://medium.com/@kmkarakaya/seq2seq-part-c-basic-encoder-decoder-a7f536f5f510) / [Colab Notebook](https://colab.research.google.com/drive/1ErnVEZOmlu_nInxaoLStW0BHzgT4meVj?usp=sharing)\n",
        "\n",
        "**Part D: SEQ2SEQ LEARNING WITH AN ENCODER DECODER MODEL + TEACHER FORCING** \n",
        "\n",
        "   * YouTube Video in [ENGLISH](https://youtu.be/RRP0czWtOeM) or [TURKISH](https://youtu.be/JVIiPaCFB78) / [Medium Post](https://medium.com/@kmkarakaya/seq2seq-part-d-encoder-decoder-with-teacher-forcing-18a3a09a096) / [Colab Notebook](https://colab.research.google.com/drive/1TNUB8vsZimVZl_wktWS1ac4wyw8kaNLW?usp=sharing)\n",
        "\n",
        "**Part E: SEQ2SEQ LEARNING WITH AN ENCODER DECODER MODEL FOR VARIABLE INPUT AND OUTPUT SIZE** \n",
        "\n",
        "   * YouTube Video / Medium Post / [Colab Notebook](https://colab.research.google.com/drive/1DtOpSacgqJ1hDQ3GSx0BZgnQHrjwJAsy?usp=sharing)\n",
        "\n",
        "**Part F: SEQ2SEQ LEARNING WITH AN ENCODER DECODER MODEL + TEACHER FORCING FOR VARIABLE INPUT AND OUTPUT SIZE** \n",
        "\n",
        "   * YouTube Video / Medium Post / [Colab Notebook](https://colab.research.google.com/drive/1cxDOWY7PQSx-tRy8inE2IG7-xGpVJWNP?usp=sharing)\n",
        "\n",
        "**Part G: SEQ2SEQ LEARNING WITH AN ENCODER DECODER MODEL + BAHDANAU ATTENTION** \n",
        "\n",
        "   * YouTube Video / Medium Post / [Colab Notebook](https://colab.research.google.com/drive/1VFfeP3eiauYCRvW8vMvL0NRKaOtcGz3J?usp=sharing)\n",
        "\n",
        "\n",
        "**Part H: SEQ2SEQ LEARNING WITH AN ENCODER DECODER MODEL + LUONG ATTENTION** \n",
        "\n",
        "   * YouTube Video / Medium Post / [Colab Notebook](https://colab.research.google.com/drive/1N0ycXm7Lq3jWzbJERRy6rwL1Ux4hmlWM?usp=sharing)\n"
      ]
    },
    {
      "cell_type": "markdown",
      "metadata": {
        "id": "uBw5JBRJC7V3"
      },
      "source": [
        "---\n",
        "# WHY WE HAVE SO MANY PARTS?\n",
        "* Our aim is to code an Encoder Decoder Model with Attention. \n",
        "* However, I would like to develop the solution by showing the shortcomings of other possible approaches.\n",
        "* Therefore, in the first 2 parts, we will observe that initial models have their own weakness.\n",
        "* We also understand why Encoder Decoder paradigm is so successful.\n",
        "\n",
        "**So, please patiently follow the parts as we develop a better solution :)**"
      ]
    },
    {
      "cell_type": "markdown",
      "metadata": {
        "id": "x0IA0qRhC9XT"
      },
      "source": [
        ""
      ]
    },
    {
      "cell_type": "markdown",
      "metadata": {
        "id": "6yVEATl8sPSq"
      },
      "source": [
        "---\n",
        "# A Simple Seq2Seq Problem: The reversed sequence problem\n",
        "Assume that:\n",
        "* We are given a **parallel data set** including X (input) and y (output) such that X[i] and y[i] have ***some*** relationship.\n",
        "\n",
        "In real life (like *Machine Language Translation, Image Captioning*, etc.), we are ***given*** (or ***build***) a **parallel dataset**: **X** sequences and corresponding **y** sequences\n",
        "\n",
        "* However, to set up an ***easily traceable*** example, I opt out to prepare a rather simple sequence learning problem.\n",
        "\n",
        "* We use the **parallel data sets** to train a **seq2seq** model which would learn \n",
        "\n",
        "  * how to **convert/transform an input sequence from X \n",
        "to an output sequence in y**\n",
        "\n",
        "* For instance: we are given the **same book's text** in English (X) and in Turkish (y). Thus the **statement X[i]** in English is translated into Turkish as **y[i] statement**. We use these parallel date sets to train a **seq2seq** model which would learn how to **convert/transform X[i] to y[i]**\n",
        "\n",
        "In this part, we will develop such an encoder-decoder model for **variable-size** input and output sequences\n",
        "\n",
        "* Consider two parallel sequence datasets **X** and **y** as below:\n",
        "\n",
        " X[0]=[3, 2, 9, 4]..................................y[0]=[4, 2]\n",
        "\n",
        " X[1]=[7, 6, 5, 2, 5, 2].......................... y[1]=[2, 2, 6]\n",
        "\n",
        " X[2]=[1, 7, 5, 1, 3]...............................y[2]=[]\n",
        "\n",
        " **NOTICE THAT** input (X) and output (y) sequences have **variable lengths** \n",
        "\n",
        "* Actually, for this simple Seq2Seq Learning problem,  we formulate the **y** sequence as **the even numbers  of the given sequence (X) in reverse order**. \n",
        "* **Assume** that you do not know that relation: You only have 2 parallel datasets X and y\n",
        "\n",
        "* To create parallel datasets X and y, I already prepare a function and an interface to configure it as below\n",
        "\n",
        "**IMPORTANT**: I **reserve 0 (zero)** as a **special symbol** and therefore I do **NOT use** it in sequences as a number!\n",
        "\n",
        "\n",
        "\n",
        "\n",
        "\n"
      ]
    },
    {
      "cell_type": "code",
      "metadata": {
        "cellView": "form",
        "colab": {
          "base_uri": "https://localhost:8080/"
        },
        "id": "4QW42m7LCHtO",
        "outputId": "b278278d-9777-4869-922d-acab14654d92"
      },
      "source": [
        "#@title Configure problem\n",
        "\n",
        "min_timesteps_in =   4#@param {type:\"integer\"}\n",
        "max_timesteps_in =   4#@param {type:\"integer\"}\n",
        "\n",
        "input_dimension = 10   #@param {type:\"integer\"}\n",
        "#each value is one_hot_encoded with 10 0/1\n",
        "\n",
        "\n",
        "# generate random sequence\n",
        "X,y = get_reversed_pairs(min_timesteps_in, max_timesteps_in,  input_dimension, verbose=True)\n",
        "# generate datasets\n",
        "train_size= 4000 #@param {type:\"integer\"}\n",
        "test_size = 200  #@param {type:\"integer\"}\n",
        "\n",
        "X_train, y_train , X_test, \ty_test=create_dataset(train_size, test_size, min_timesteps_in, max_timesteps_in, input_dimension , verbose=True)\n",
        "\n"
      ],
      "execution_count": null,
      "outputs": [
        {
          "output_type": "stream",
          "text": [
            "\n",
            "Sample X and y sequences\n",
            "X[ 0 ]=[3, 9, 7, 5] ........ y[ 0 ]=[]\n",
            "X[ 1 ]=[8, 3, 4, 7] ........ y[ 1 ]=[4, 8]\n",
            "X[ 2 ]=[7, 4, 9, 8] ........ y[ 2 ]=[8, 4]\n",
            "X[ 3 ]=[4, 5, 5, 1] ........ y[ 3 ]=[4]\n",
            "X[ 4 ]=[8, 2, 2, 7] ........ y[ 4 ]=[2, 2, 8]\n",
            "\n",
            "Each input and output sequences are converted one_hot_encoded format with input_dimension =  10\n",
            "X[0]=\n",
            "[[0 0 0 1 0 0 0 0 0 0]\n",
            " [0 0 0 0 0 0 0 0 0 1]\n",
            " [0 0 0 0 0 0 0 1 0 0]\n",
            " [0 0 0 0 0 1 0 0 0 0]]\n",
            "y[0]=\n",
            "[]\n",
            "\n",
            "Generated sequence datasets as follows [sample_size,time_steps, input_dimension]\n",
            "X_train.shape:  (4000,) y_train.shape:  (4000,)\n",
            "X_test.shape:  (200,) y_test.shape:  (200,)\n",
            "time: 102 ms\n"
          ],
          "name": "stdout"
        }
      ]
    },
    {
      "cell_type": "markdown",
      "metadata": {
        "id": "K6epmgl6IXmf"
      },
      "source": [
        "**Important**: Pay attention to **shapes** of X and y  data sets. Even though we created 3D arrays [***sample_size,time_steps, input_dimension***], we observed above that Python reports their corresponding shapes as (**4000,**) or (**200,**). Why? Because, other than the sample_size dimension, other dimensions do NOT have a **fixed** size! *time_steps* and *input_dimension* have **variable** sizes! Therefore, Python can NOT print their shapes."
      ]
    },
    {
      "cell_type": "markdown",
      "metadata": {
        "id": "nQCXnvQnnaGN"
      },
      "source": [
        "---\n",
        "# How to handle variable Input and Output sequence size\n",
        "* In our previous posts, we  **assumed** that input and output sequence sizes are **fixed, known in advance**\n",
        "* Now, we relax this requirement by assuming **input & output sequence sizes may vary**\n",
        "* However, in Artificial Neural Network models (including encoder decoder models), the first and last layers have **fixed number of neurons** and ***during training***, we need to provide **fixed-size samples** in input and output data sets.  \n",
        "* Therefore, ANN models should be trained with samples structured in a fixed-size shape.\n",
        "* However, since we have variable-size input/output samples, we need to convert them into a a fixed-size shape.\n",
        "* The popular solution has two parts:\n",
        "  * **During training**: we will use **padding** and **masking** to make  sample sequence sizes equal.\n",
        "  * **During inference**: For variable ouput sequence size, we will modify the decoder such that it will work in a loop and stop generating output when a **condition is met**.\n",
        "\n",
        "Don't worry, we will implement the above solution step by step. \n",
        "\n",
        "So let's get stated!\n",
        "\n"
      ]
    },
    {
      "cell_type": "markdown",
      "metadata": {
        "id": "TElUk0oxKCef"
      },
      "source": [
        "---\n",
        "#Padding\n",
        "* **Padding** means **appending a special symbol** to the *beginning* or *ending* of a sequence\n",
        "* The special symbol is mostly 0 (for example in Conv NN) but ***can be any symbol which is not used as a value in the sequences***\n",
        "* We will use padding to **extend** the given sequence to a specific size\n",
        "* Assume we are given the sequence [4, 6, 8], we can pad ***two*** 0 (zeros) in two different ways:\n",
        "  * **post-padding:** We append the padding **in the end of** the sequence such that resulting sequence becomes [4, 6, 8, 0, 0] and **its size is now 5 instead of 3**!\n",
        "  * **pre-padding:** We can also append the padding **to the beggining of** the sequence: [0, 0, 4, 6, 8]\n",
        "\n",
        "* **Notice that:** Even the original information ([4, 6, 8]) is reserved, the **size of the padded sequence** ([4, 6, 8, 0, 0] or [0, 0, 4, 6, 8] ) is **changed/incremented**\n",
        "\n",
        "* **Important:** Tensorflow/Keras **recommends** using \"**post**\" padding when working with RNN layers in order to be able to use the ***CuDNN*** implementation of the layers. THus, we will use post-padding in this tutorial."
      ]
    },
    {
      "cell_type": "markdown",
      "metadata": {
        "id": "wMfbQldhKIVA"
      },
      "source": [
        "## How to use padding in variable-size input/output sequences?\n",
        "\n",
        "* First we will find out the **maximum number of time steps** in input/output data set\n",
        "* Then, we will append **necessary number** of paddings to the end of each sequence such that their number of time steps will be equal to the maximum number of time steps in the data set. \n",
        "* In the end, all the input/output sequences will have the **same** number of time steps"
      ]
    },
    {
      "cell_type": "markdown",
      "metadata": {
        "id": "tMsyXEx5KMmk"
      },
      "source": [
        "## What would be the effect of padding in training & testing\n",
        "* Remember that we had reserved 0 (zero) when we create the X and y datasets\n",
        "* We reserved 0 (zero) for padding\n",
        "* In training \n",
        "  * the input layer will consume all the sequence and the paddings \n",
        "  * the ouput layer will learn to produce 0 (zero) when the output sequence finishes \n",
        "* In testing\n",
        "  * the input layer will consume all the sequence and the paddings\n",
        "  * the ouput layer will stop to predicting when it generates 0 (zero) as output  "
      ]
    },
    {
      "cell_type": "markdown",
      "metadata": {
        "id": "Sj2ZASHMKQRl"
      },
      "source": [
        "---\n",
        "## Let's apply padings to input/output sequences\n",
        "\n"
      ]
    },
    {
      "cell_type": "markdown",
      "metadata": {
        "id": "gSNnOtgdK3QN"
      },
      "source": [
        "First we will find out the **maximum** sequence size for input/output sequences in Train data set:"
      ]
    },
    {
      "cell_type": "code",
      "metadata": {
        "colab": {
          "base_uri": "https://localhost:8080/"
        },
        "id": "DZh3xB6xKUZO",
        "outputId": "b54bbf12-3b09-4825-d855-225f8337c19d"
      },
      "source": [
        "max_input_sequence= max(len(seq) for seq in X_train)\n",
        "print('max_input_sequence: ', max_input_sequence)\n",
        "\n",
        "max_output_sequence= max(len(seq) for seq in y_train)\n",
        "print('max_output_sequence: ', max_output_sequence)"
      ],
      "execution_count": null,
      "outputs": [
        {
          "output_type": "stream",
          "text": [
            "max_input_sequence:  4\n",
            "max_output_sequence:  4\n",
            "time: 8.16 ms\n"
          ],
          "name": "stdout"
        }
      ]
    },
    {
      "cell_type": "markdown",
      "metadata": {
        "id": "-s5uDUM14jD2"
      },
      "source": [
        "In this example, `max_input_sequence` and `max_ouput_sequence` are **equal** but they could be different for your datasets. The point is you need to handle input and output sequences **separately**!\n",
        "\n",
        "Then, we will append **necessary number** of paddings to the end of each input sequence such that their number of time steps will be equal to the maximum number of time steps in the data set.\n",
        "\n",
        "We can use `pad_sequences()` function from Keras preprocessing library as below.\n",
        "\n",
        "**Note that**: if the `maxlen` argument is NOT provided, function automatically sets `maxlen` to the maximum sequence size in the samples. Therefore, actually, I will not provide `max_input_sequence` and `max_ouput_sequence` to the `pad_sequences()` function. \n",
        "\n",
        "`pad_sequences(sequences, maxlen=None, dtype='int32', padding='pre', truncating='pre', value=0.0)`"
      ]
    },
    {
      "cell_type": "code",
      "metadata": {
        "colab": {
          "base_uri": "https://localhost:8080/"
        },
        "id": "BfCwrmcd2DqH",
        "outputId": "c80d2ff6-35d5-4a47-b9f3-101a7b0c3171"
      },
      "source": [
        "from keras.preprocessing.sequence import pad_sequences\n",
        "X_train_padded = pad_sequences(X_train, maxlen= max_input_sequence, padding='post')\n",
        "print(\"X_train shape: \",X_train.shape)\n",
        "print(\"X_train_padded shape: \",X_train_padded.shape)\n",
        "\n",
        "y_train_padded = pad_sequences(y_train, maxlen= max_output_sequence, padding='post')\n",
        "print(\"y_train shape: \",y_train.shape)\n",
        "print(\"y_train_padded shape: \",y_train_padded.shape)"
      ],
      "execution_count": null,
      "outputs": [
        {
          "output_type": "stream",
          "text": [
            "X_train shape:  (4000,)\n",
            "X_train_padded shape:  (4000, 4, 10)\n",
            "y_train shape:  (4000,)\n",
            "y_train_padded shape:  (4000, 4, 10)\n",
            "time: 40.4 ms\n"
          ],
          "name": "stdout"
        }
      ]
    },
    {
      "cell_type": "markdown",
      "metadata": {
        "id": "s8_9LzlB5tTT"
      },
      "source": [
        "**Notice that** after padding, each sequence in X_train_padded has the same shape: (4000, **8, 10**): 8 time steps with 10-dimension representation! That is, we have **fixed-size** input data set!\n",
        "\n",
        "Let's see an example input before  and after padding:"
      ]
    },
    {
      "cell_type": "code",
      "metadata": {
        "colab": {
          "base_uri": "https://localhost:8080/"
        },
        "id": "IqIsszW83zKC",
        "outputId": "166540e9-f354-4a87-8a05-477080b9a737"
      },
      "source": [
        "i=0\n",
        "print(\"____Sample Input____\")\n",
        "print(\"Original:\\n\", one_hot_decode(X_train[i]))\n",
        "print(\"Padded:\\n\",one_hot_decode(X_train_padded[i]))\n",
        "print(\"____Corresponding Output____\")\n",
        "print(\"Original:\\n\", one_hot_decode(y_train[i]))\n",
        "print(\"Padded:\\n\",one_hot_decode(y_train_padded[i]))"
      ],
      "execution_count": null,
      "outputs": [
        {
          "output_type": "stream",
          "text": [
            "____Sample Input____\n",
            "Original:\n",
            " [3, 9, 7, 5]\n",
            "Padded:\n",
            " [3, 9, 7, 5]\n",
            "____Corresponding Output____\n",
            "Original:\n",
            " []\n",
            "Padded:\n",
            " [0, 0, 0, 0]\n",
            "time: 5.61 ms\n"
          ],
          "name": "stdout"
        }
      ]
    },
    {
      "cell_type": "markdown",
      "metadata": {
        "id": "iDytRiS7cW8v"
      },
      "source": [
        "Let's apply padding to Test data set as well"
      ]
    },
    {
      "cell_type": "code",
      "metadata": {
        "colab": {
          "base_uri": "https://localhost:8080/"
        },
        "id": "aTWL4DEecfRi",
        "outputId": "20a3a9df-b4b5-4c59-8a55-850db7be301e"
      },
      "source": [
        "X_test_padded = pad_sequences(X_test, maxlen= max_input_sequence, padding='post')\n",
        "print(\"X_test shape: \",X_test.shape)\n",
        "print(\"X_test_padded shape: \",X_test_padded.shape)\n",
        "\n",
        "y_test_padded = pad_sequences(y_test, maxlen= max_output_sequence, padding='post')\n",
        "print(\"y_test shape: \",y_test.shape)\n",
        "print(\"y_test_padded shape: \",y_test_padded.shape)"
      ],
      "execution_count": null,
      "outputs": [
        {
          "output_type": "stream",
          "text": [
            "X_test shape:  (200,)\n",
            "X_test_padded shape:  (200, 4, 10)\n",
            "y_test shape:  (200,)\n",
            "y_test_padded shape:  (200, 4, 10)\n",
            "time: 12.6 ms\n"
          ],
          "name": "stdout"
        }
      ]
    },
    {
      "cell_type": "markdown",
      "metadata": {
        "id": "6tA7L8sH7LU4"
      },
      "source": [
        "# Masking\n",
        "\n",
        "* **Masking** is a way to tell ***sequence-processing layers*** that certain timesteps in an input are missing, and thus should be skipped when processing the data.\n",
        "* Above we applied padding and all samples have a uniform sequence length. \n",
        "* Now, we need to inform the model that some part of the data is actually padding and should be **ignored** during processing. \n",
        "* That mechanism is masking.\n",
        "* There are three ways to introduce input masks in Keras models:\n",
        "\n",
        "  1. Add a keras.layers.Masking layer.\n",
        "  2. Configure a keras.layers.Embedding layer with mask_zero=True.\n",
        "  3. Pass a mask argument manually when calling layers that support this argument (e.g. RNN layers)."
      ]
    },
    {
      "cell_type": "markdown",
      "metadata": {
        "id": "896tAu6Rue5G"
      },
      "source": [
        "## Parts of the solution: Encoder & Decoder\n",
        "* **Ecoder** encodes the input into a **new representation** \n",
        "* **Decoder** decodes the encoded **representation** of the input into output\n",
        "\n",
        "Note: There are other porposed methods to solve seq2seq problems such as Conv models or Reinforcement methods. In this tutorial we focus on Enoder- Decoder architecture.\n",
        "\n",
        "\n",
        "\n"
      ]
    },
    {
      "cell_type": "markdown",
      "metadata": {
        "id": "n0ztyXpsvVU1"
      },
      "source": [
        "## Key Concepts \n",
        "* **Training**: During training we train the encoder and decoder such that they work together to create a context (representation) between input and output\n",
        "* **Inference** (Prediction): After learning how to create the context (representation), they can work together to predict the output\n",
        "* **Encode all- decode one at a time**: Mostly, encoder reads all the input sequence and create a context (representation) vector. Decoder use this context (representation) vector and previously decoded result to create new output step by step.\n",
        "\n",
        "* **Teacher forcing**: During training decoder receives the **correct** output from the training set as the previously decoded result to predict the next output. However, during inference decoder receives the ***previously decoded result*** to predict the next output. Teacher forcing improves training process.\n",
        "\n",
        "**NOTE**: In this tutorial we do not use **Teacher forcing**. We had used it in **PART D**.  \n",
        "\n",
        "\n",
        "**DO NOT WORRY! WE WILL SEE ALL ABOVE CONCEPTS IN ACTION BELOW!**\n",
        "\n"
      ]
    },
    {
      "cell_type": "markdown",
      "metadata": {
        "id": "hIN02BgG2xNH"
      },
      "source": [
        "##**IMPORTANT: USE OF LSTM** \n",
        "* We will use **LSTM** as the RNN. Thus you have to be familiar with LSTM and its implementation in Keras. \n",
        "\n",
        "* Especially, you should be able to **stack LSTM layers** with ease!\n",
        "\n",
        "* You can review below **resources** before moving on\n",
        "\n",
        "\n",
        "\n",
        "NOTE: If you want to refresh your knowledge about LSTM  you can watch / read below resources:\n",
        "\n",
        "Videos:\n",
        "* [LSTM from scratch](https://youtu.be/7nnSjZBJVDs)\n",
        "\n",
        "Notebooks:\n",
        "\n",
        "* [LSTM intro](https://colab.research.google.com/drive/1kG5pUczEtqdDtMHiNL-mvgTi-5-Y058t?usp=sharing)\n",
        "* [Understanding LSTM outputs](https://colab.research.google.com/drive/1nUazJkXcRZi-XiXCr6sEgCy2Z5Mhze1n?usp=sharing)\n",
        "\n",
        "* [Understanding number of LSTM parameters](https://)\n"
      ]
    },
    {
      "cell_type": "markdown",
      "metadata": {
        "id": "9FERxu2--xom"
      },
      "source": [
        "##**IMPORTANT: USE OF FUNCTIONAL KERAS API:** \n",
        "* In order to implement Encoder-Decoder approach, we will use **Keras Functional API** to create train & inference models\n",
        "\n",
        "* Thus, ensure that you are familiar with **Keras Functional API**"
      ]
    },
    {
      "cell_type": "markdown",
      "metadata": {
        "id": "drE2GD5C8imO"
      },
      "source": [
        "## 1. Understand & apply context vector\n",
        "* Context vector is \n",
        "** the encoded version of the input\n",
        "** the summary of the input\n",
        "** the ouput of the encoder\n",
        "** ..."
      ]
    },
    {
      "cell_type": "markdown",
      "metadata": {
        "id": "vgaU5ZPdbfK2"
      },
      "source": [
        "###  LSTM outputs will be used as context vector\n",
        "* LSTM can return 4 different sets of outputs\n",
        "\n",
        "1.   Default: Last Hidden State  \n",
        "2.   return_sequences=True : All Hidden States\n",
        "3.   return_state=True     : Last Hidden State+ Last Hidden State + All Cell States\n",
        "4.   return_sequences=True + return_state=True     : All Hidden States+ Last Hidden State + Last Hidden State + All Cell States\n",
        "\n",
        "Using these 4 different outputs we can create **different LSTM stacks/models**\n",
        "\n",
        "* Mostly, in Encoder - Decoder paradigm, **LSTM with return_state=True** is used as an encoder!\n",
        "* **Why?** "
      ]
    },
    {
      "cell_type": "markdown",
      "metadata": {
        "id": "Wr5ofa8V2yaV"
      },
      "source": [
        "### Decide the context (latent) vector dimension\n",
        "* Actually it is the parameter **number of LSTM units** in the LSTM layer.\n",
        "* As the **context vector** is the condensed representation of the whole input sequence mostly we prefer a large dimension.\n",
        "* We can **increment the context (latent) vector dimension** by 2 ways:\n",
        "** increment the number of LSTM units\n",
        "** and/or increment the number of LSTM layers\n",
        "* For the sake of simplicity, we use **single LSTM layer** ***in encoder and decoder models*** for the time being\n"
      ]
    },
    {
      "cell_type": "code",
      "metadata": {
        "colab": {
          "base_uri": "https://localhost:8080/"
        },
        "id": "hLsUZm32wEm9",
        "outputId": "44f6f38c-e713-415d-8b62-c6bbc77c7976"
      },
      "source": [
        "#@title LSTMoutputDimension\n",
        "LSTMoutputDimension = 32 #@param {type:\"integer\"}\n"
      ],
      "execution_count": null,
      "outputs": [
        {
          "output_type": "stream",
          "text": [
            "time: 1.24 ms\n"
          ],
          "name": "stdout"
        }
      ]
    },
    {
      "cell_type": "markdown",
      "metadata": {
        "id": "bt2E8KEq5qaO"
      },
      "source": [
        "### Define the encoder layers\n",
        "* Notice that **output** of the encoder is the **last hidden states and cell states** of the LSTM cells\n",
        "* return_states=True returns **last hidden states** twice: thus we ignore the first return value.\n",
        "\n",
        "* That output is the **context** (latent) vector\n",
        "* By using the **context** vector, we will **set** the **decoder's LSTM layer** initial cell states and provide the initial hidden states.\n",
        "* That is **decoder will depend on the context** vector to create outputs\n",
        "\n",
        "\n",
        "* Can you imagine the dimension of the context vector?"
      ]
    },
    {
      "cell_type": "code",
      "metadata": {
        "id": "QtMlCApp_8jO"
      },
      "source": [
        "\n"
      ],
      "execution_count": null,
      "outputs": []
    },
    {
      "cell_type": "markdown",
      "metadata": {
        "id": "z-4qKCMJc8Wc"
      },
      "source": [
        "* As seen above, encoder **LSTM with return_state=True** returns 3 tensors:\n",
        "** last hidden state: encoder_outputs\n",
        "** last hidden state (again!): state_h\n",
        "** last cell state : state_c\n",
        "* The **dimension** of each state equals to the **LSTM cell number**\n",
        "\n",
        "\n"
      ]
    },
    {
      "cell_type": "code",
      "metadata": {
        "id": "SFnP3axxs6QK"
      },
      "source": [
        ""
      ],
      "execution_count": null,
      "outputs": []
    },
    {
      "cell_type": "markdown",
      "metadata": {
        "id": "Htaf9b1xe45G"
      },
      "source": [
        "* **Context** vector  generally is **[state_h , state_c]**. \n",
        "* In the LSTM, these values are actually the last states of the LSTM cells.\n",
        "* That is, after processing the input with LSTM layer, [state_h , state_c] is the **output and state** of the LSTM cells.\n"
      ]
    },
    {
      "cell_type": "code",
      "metadata": {
        "id": "Vj5JUm6raTI8"
      },
      "source": [
        ""
      ],
      "execution_count": null,
      "outputs": []
    },
    {
      "cell_type": "markdown",
      "metadata": {
        "id": "PUB6YBNqf9_W"
      },
      "source": [
        "### Define the decoder layers\n",
        "* We can use context vector, here [state_h , state_c], to initialize the decoder!\n",
        "* We set up our decoder to return **all hidden states**, and to return **cell states** as well. \n",
        "\n"
      ]
    },
    {
      "cell_type": "code",
      "metadata": {
        "id": "VoMntxqhgBmc"
      },
      "source": [
        ""
      ],
      "execution_count": null,
      "outputs": []
    },
    {
      "cell_type": "markdown",
      "metadata": {
        "id": "CPOBHO4EhDpH"
      },
      "source": [
        "* Now decoder is ready to process the data: **BUT WHICH DATA?**\n",
        "* **Input** data is **already consumed** by **Encoder** and converted into a context vector.\n",
        "* Context vector is already consumed as initial states of the decoder (LSTM)\n",
        "* **So what is the input for decoder?**\n",
        "\n",
        "* Remeber the problem: reversing the input sequence.\n",
        "So we have **input X** any **output y** as below:"
      ]
    },
    {
      "cell_type": "code",
      "metadata": {
        "colab": {
          "base_uri": "https://localhost:8080/"
        },
        "id": "gbpkZIJE45FF",
        "outputId": "23965f06-03ce-4d6f-e02b-7b8cc4c59ea6"
      },
      "source": [
        "#@title Sample X and y\n",
        "\n",
        "print('\\nIn raw format:')\n",
        "print('X=%s' % (one_hot_decode(X_train_padded[0])))\n",
        "print('y=%s' % (one_hot_decode(y_train_padded[0])))\n",
        "print('\\nIn one_hot_encoded format:')\n",
        "print('X=%s' % (X_train_padded[0]))\n",
        "print('y=%s' % (y_train_padded[0]))"
      ],
      "execution_count": null,
      "outputs": [
        {
          "output_type": "stream",
          "text": [
            "\n",
            "In raw format:\n",
            "X=[3, 9, 7, 5]\n",
            "y=[0, 0, 0, 0]\n",
            "\n",
            "In one_hot_encoded format:\n",
            "X=[[0 0 0 1 0 0 0 0 0 0]\n",
            " [0 0 0 0 0 0 0 0 0 1]\n",
            " [0 0 0 0 0 0 0 1 0 0]\n",
            " [0 0 0 0 0 1 0 0 0 0]]\n",
            "y=[[0 0 0 0 0 0 0 0 0 0]\n",
            " [0 0 0 0 0 0 0 0 0 0]\n",
            " [0 0 0 0 0 0 0 0 0 0]\n",
            " [0 0 0 0 0 0 0 0 0 0]]\n",
            "time: 8.05 ms\n"
          ],
          "name": "stdout"
        }
      ]
    },
    {
      "cell_type": "markdown",
      "metadata": {
        "id": "3X8FnbEQ53O1"
      },
      "source": [
        "### HOW ENCODER - DECODER WOULD WORK IN PRINCIPLE\n",
        "* First assume that **decoder produce the output sequece one by one** \n",
        "* For each output, the decoder consumes a context vector and an input\n",
        "* The **initial** **context** vector is created by the encoder\n",
        "* The **initial input to the decoder** is a special symbol for decoder to make it start, e.g. '***zero***'\n",
        "* Using initial context and initial input, the decoder will generate/predict the **first output**\n",
        "* For the next output, decoder will use its **own last hidden & cell states** ***as context vector*** and **generated/predicted output** as ***input***\n",
        "* Decoder will work in such a **loop** using its state and output as the next step context vector and input **until** the generated output is a special symbol '***stop***' or the ***pre-defined maximum steps*** (length of output) is reached.\n",
        "\n"
      ]
    },
    {
      "cell_type": "markdown",
      "metadata": {
        "id": "m7008oiWLku4"
      },
      "source": [
        "### TYPES OF SEQ2SEQ PROBLEMS:\n",
        "* According to the **length** of input & output sequences, these lengths can be **fixed** or **variable**\n",
        "\n",
        "* In reversing the input sequence problem we are dealing with we assume that input & output sequence lengths are **fixed** and **same**\n",
        "\n",
        "* Therefore, the decoder in our solution will stop after producing pre-determined number of tokens (outputs). That is, we do not need '**stop**' symbol.\n",
        "\n",
        "* However, decoder will begin to work with '**start**' symbol. We reserve the **0 (zero)** as the 'start' symbol. That is, we will not use it in any sequence as a token.\n",
        "\n",
        "* In summary, we will **condition** the decoder to start with **context vector** and '**start**' symbol to predict output sequence.\n"
      ]
    },
    {
      "cell_type": "markdown",
      "metadata": {
        "id": "Xmd9BNzD8Sgb"
      },
      "source": [
        "### HOW TO TRAIN & TEST ENCODER - DECODER \n",
        "* We need 2 input sequences:\n",
        "1. Input for encoder: ***encoder_inputs***\n",
        "2. Input for decoder: ***decoder_inputs***\n",
        "\n",
        "\n",
        "* The ***encoder_inputs*** is given in the problem as a sequence. We will use it.\n",
        "* For ***decoder_inputs***  we will provide '*start*' token as the first token.\n",
        "* Decoder predicts an ouput based on its LSTM states and input value.\n",
        "* Then, we will provide the **predicted output** as the **next input** to the decoder. \n",
        "* Since, **in our problem**, input and output sequences have  **fixed and same** sizes, we will stop when decoder outputs required number of tokens\n",
        "* In essence: we will make decoder work in a loop as below:"
      ]
    },
    {
      "cell_type": "markdown",
      "metadata": {
        "id": "8mNTXcY3XgOI"
      },
      "source": [
        "<code>Python\n",
        "# Set up the decoder, which will only process one timestep at a time.\n",
        "decoder_inputs = Input(shape=(1, input_dimension), name='decoder_inputs')\n",
        "decoder_lstm = LSTM(LSTMoutputDimension, return_sequences=True, \n",
        "                    return_state=True, name='decoder_lstm')\n",
        "decoder_dense = Dense(input_dimension, activation='softmax')\n",
        "\n",
        "\n",
        "\n",
        "batch_size=32\n",
        "all_outputs = []\n",
        "# Prepare decoder input data that just contains the start character\n",
        "# Note that we made it a constant hard-coded in the model\n",
        "decoder_input_data = np.zeros((batch_size, 1, input_dimension))\n",
        "decoder_input_data[:, 0, 0] = 1  #start symbol is 0 one-hot-encoded\n",
        "\n",
        "inputs = decoder_input_data\n",
        "for _ in range(max_output_sequence):\n",
        "    # Run the decoder on one timestep\n",
        "    outputs, state_h, state_c = decoder_lstm(inputs,\n",
        "                                            initial_state=states)\n",
        "    outputs = decoder_dense(outputs)\n",
        "    # Store the current prediction (we will concatenate all predictions later)\n",
        "    all_outputs.append(outputs)\n",
        "    # Reinject the outputs as inputs for the next loop iteration\n",
        "    # as well as update the states\n",
        "    inputs = outputs\n",
        "    states = [state_h, state_c]\n",
        "\n",
        "# Concatenate all predictions\n",
        "decoder_outputs = Lambda(lambda x: K.concatenate(x, axis=1))(all_outputs)\n",
        "</code>"
      ]
    },
    {
      "cell_type": "markdown",
      "metadata": {
        "id": "_NiljzZERf65"
      },
      "source": [
        "#### CREATE A MODEL INCLUDING ENCODER & DECODER\n"
      ]
    },
    {
      "cell_type": "markdown",
      "metadata": {
        "id": "Bar9GXP8lK03"
      },
      "source": [
        "Define A model in which\n",
        "* Encoder receives `encoder input data` and converts it to a context vector \n",
        "* Decoder runs in a loop:\n",
        " * Decoder is initialized with context vector and recives `decoder input data`\n",
        " * Decoder converts  `decoder input data` to one time step output\n",
        " * Decoder also outputs its hidden states and cell states as context vector\n",
        " * in the next cycle of the loop, decoder use its states and output as the input for itself (the context vector and the input) \n"
      ]
    },
    {
      "cell_type": "code",
      "metadata": {
        "colab": {
          "base_uri": "https://localhost:8080/"
        },
        "id": "chIhj-6flP8x",
        "outputId": "6a820ad5-8e70-45d4-e73a-68368be2f7ad"
      },
      "source": [
        "def create_hard_coded_decoder_input_model(batch_size):\n",
        "  # The first part is encoder\n",
        "  encoder_inputs = Input(shape=(max_input_sequence, input_dimension), name='encoder_inputs')\n",
        "  #masking = tf.keras.layers.Masking(mask_value=0.) #[1,0,0,0,0,0,0,0,0,0]\n",
        "  #encoder_inputs_masked = masking(encoder_inputs)\n",
        "  encoder_inputs_masked = encoder_inputs\n",
        "  encoder_lstm = LSTM(LSTMoutputDimension, return_state=True,  name='encoder_lstm')\n",
        "  encoder_outputs, state_h, state_c = encoder_lstm(encoder_inputs_masked)\n",
        "  \n",
        "  # initial context vector is the states of the encoder\n",
        "  states = [state_h, state_c]\n",
        "  \n",
        "  # Set up the decoder layers\n",
        "  decoder_inputs = Input(shape=(1, input_dimension))\n",
        "  decoder_lstm = LSTM(LSTMoutputDimension, return_sequences=True, return_state=True, name='decoder_lstm')\n",
        "  decoder_dense = Dense(input_dimension, activation='softmax',  name='decoder_dense')\n",
        "\n",
        "  all_outputs = []\n",
        "  # Prepare decoder input data that just contains the start character 0\n",
        "  # Note that we made it a constant one-hot-encoded in the model\n",
        "  # that is, [1 0 0 0 0 0 0 0 0 0] is the first input for each loop\n",
        "  decoder_input_data = np.zeros((batch_size, 1, input_dimension))\n",
        "  decoder_input_data[:, 0, 0] = 1 \n",
        "  \n",
        "  # that is, [1 0 0 0 0 0 0 0 0 0] is the first input for each loop\n",
        "  inputs = decoder_input_data\n",
        "  # decoder will only process one timestep at a time.\n",
        "  for _ in range(max_output_sequence):\n",
        "      # Run the decoder on one timestep\n",
        "      outputs, state_h, state_c = decoder_lstm(inputs,\n",
        "                                              initial_state=states)\n",
        "      outputs = decoder_dense(outputs)\n",
        "      # Store the current prediction (we will concatenate all predictions later)\n",
        "      all_outputs.append(outputs)\n",
        "      # Reinject the outputs as inputs for the next loop iteration\n",
        "      # as well as update the states\n",
        "      inputs = outputs\n",
        "      states = [state_h, state_c]\n",
        "\n",
        "  # Concatenate all predictions such as [batch_size, timesteps, features]\n",
        "  decoder_outputs = Lambda(lambda x: K.concatenate(x, axis=1))(all_outputs)\n",
        "\n",
        "  # Define and compile model \n",
        "  model = Model(encoder_inputs, decoder_outputs, name='model_encoder_decoder')\n",
        "  model.compile(optimizer='rmsprop', loss='categorical_crossentropy', metrics=['accuracy'])\n",
        "  return model\n",
        "batch_size=10\n",
        "model_encoder_decoder=create_hard_coded_decoder_input_model(batch_size)"
      ],
      "execution_count": null,
      "outputs": [
        {
          "output_type": "stream",
          "text": [
            "time: 970 ms\n"
          ],
          "name": "stdout"
        }
      ]
    },
    {
      "cell_type": "markdown",
      "metadata": {
        "id": "SOgl-XW3lAI1"
      },
      "source": [
        "* We train our model in two lines, while monitoring the loss on a held-out set of 20% of the samples."
      ]
    },
    {
      "cell_type": "code",
      "metadata": {
        "colab": {
          "base_uri": "https://localhost:8080/",
          "height": 1000
        },
        "id": "I0jmaH6oSDHo",
        "outputId": "290a1b3d-b52d-46a1-a4bc-80b77b8e3266"
      },
      "source": [
        "batch_size = 10\n",
        "model_encoder_decoder=create_hard_coded_decoder_input_model(batch_size=batch_size)\n",
        "model_encoder_decoder.summary()\n",
        "plot_model(model_encoder_decoder, show_shapes=True)"
      ],
      "execution_count": null,
      "outputs": [
        {
          "output_type": "stream",
          "text": [
            "Model: \"model_encoder_decoder\"\n",
            "__________________________________________________________________________________________________\n",
            "Layer (type)                    Output Shape         Param #     Connected to                     \n",
            "==================================================================================================\n",
            "encoder_inputs (InputLayer)     [(None, 6, 10)]      0                                            \n",
            "__________________________________________________________________________________________________\n",
            "encoder_lstm (LSTM)             [(None, 32), (None,  5504        encoder_inputs[0][0]             \n",
            "__________________________________________________________________________________________________\n",
            "tf_op_layer_ExpandDims_4 (Tenso [(1, None, 32)]      0           encoder_lstm[0][1]               \n",
            "__________________________________________________________________________________________________\n",
            "tf_op_layer_ExpandDims_5 (Tenso [(1, None, 32)]      0           encoder_lstm[0][2]               \n",
            "__________________________________________________________________________________________________\n",
            "tf_op_layer_CudnnRNN_2 (TensorF [(1, 10, 32), (1, No 0           tf_op_layer_ExpandDims_4[0][0]   \n",
            "                                                                 tf_op_layer_ExpandDims_5[0][0]   \n",
            "__________________________________________________________________________________________________\n",
            "tf_op_layer_Transpose_2 (Tensor [(10, 1, 32)]        0           tf_op_layer_CudnnRNN_2[0][0]     \n",
            "__________________________________________________________________________________________________\n",
            "decoder_dense (Dense)           (10, 1, 10)          330         tf_op_layer_Transpose_2[0][0]    \n",
            "                                                                 decoder_lstm[0][0]               \n",
            "                                                                 decoder_lstm[1][0]               \n",
            "                                                                 decoder_lstm[2][0]               \n",
            "                                                                 decoder_lstm[3][0]               \n",
            "                                                                 decoder_lstm[4][0]               \n",
            "__________________________________________________________________________________________________\n",
            "tf_op_layer_Squeeze_4 (TensorFl [(None, 32)]         0           tf_op_layer_CudnnRNN_2[0][1]     \n",
            "__________________________________________________________________________________________________\n",
            "tf_op_layer_Squeeze_5 (TensorFl [(None, 32)]         0           tf_op_layer_CudnnRNN_2[0][2]     \n",
            "__________________________________________________________________________________________________\n",
            "decoder_lstm (LSTM)             [(10, 1, 32), (None, 5504        decoder_dense[0][0]              \n",
            "                                                                 tf_op_layer_Squeeze_4[0][0]      \n",
            "                                                                 tf_op_layer_Squeeze_5[0][0]      \n",
            "                                                                 decoder_dense[1][0]              \n",
            "                                                                 decoder_lstm[0][1]               \n",
            "                                                                 decoder_lstm[0][2]               \n",
            "                                                                 decoder_dense[2][0]              \n",
            "                                                                 decoder_lstm[1][1]               \n",
            "                                                                 decoder_lstm[1][2]               \n",
            "                                                                 decoder_dense[3][0]              \n",
            "                                                                 decoder_lstm[2][1]               \n",
            "                                                                 decoder_lstm[2][2]               \n",
            "                                                                 decoder_dense[4][0]              \n",
            "                                                                 decoder_lstm[3][1]               \n",
            "                                                                 decoder_lstm[3][2]               \n",
            "__________________________________________________________________________________________________\n",
            "lambda_2 (Lambda)               (10, 6, 10)          0           decoder_dense[0][0]              \n",
            "                                                                 decoder_dense[1][0]              \n",
            "                                                                 decoder_dense[2][0]              \n",
            "                                                                 decoder_dense[3][0]              \n",
            "                                                                 decoder_dense[4][0]              \n",
            "                                                                 decoder_dense[5][0]              \n",
            "==================================================================================================\n",
            "Total params: 11,338\n",
            "Trainable params: 11,338\n",
            "Non-trainable params: 0\n",
            "__________________________________________________________________________________________________\n"
          ],
          "name": "stdout"
        },
        {
          "output_type": "execute_result",
          "data": {
            "image/png": "[encoded data removed]",
            "text/plain": [
              "<IPython.core.display.Image object>"
            ]
          },
          "metadata": {
            "tags": []
          },
          "execution_count": 18
        },
        {
          "output_type": "stream",
          "text": [
            "time: 1.36 s\n"
          ],
          "name": "stdout"
        }
      ]
    },
    {
      "cell_type": "code",
      "metadata": {
        "id": "wgszbsDPt5wa"
      },
      "source": [
        ""
      ],
      "execution_count": null,
      "outputs": []
    },
    {
      "cell_type": "markdown",
      "metadata": {
        "id": "PbWhN2pXt6YD"
      },
      "source": [
        "# Train model \n",
        "```python\n",
        "model_encoder_decoder.fit(X_train, y_train,\n",
        "          batch_size=batch_size,\n",
        "          epochs=30,\n",
        "          validation_split=0.2)\n",
        "```"
      ]
    },
    {
      "cell_type": "code",
      "metadata": {
        "colab": {
          "base_uri": "https://localhost:8080/",
          "height": 1000
        },
        "id": "zG9AZK5y-kkV",
        "outputId": "88452f34-2e99-428c-94f7-7daf2879b954"
      },
      "source": [
        "trained_model=train_test(model_encoder_decoder, X_train_padded, y_train_padded ,\n",
        "           X_test_padded, \ty_test_padded, batch_size=batch_size,epochs=500, patience= 10, verbose=1)"
      ],
      "execution_count": null,
      "outputs": [
        {
          "output_type": "stream",
          "text": [
            "training for  500  epochs begins with EarlyStopping(monitor= val_loss, patience= 10 )....\n",
            "Epoch 1/500\n",
            "360/360 [==============================] - 4s 10ms/step - loss: 0.2217 - accuracy: 0.2349 - val_loss: 0.1880 - val_accuracy: 0.2617\n",
            "Epoch 2/500\n",
            "360/360 [==============================] - 4s 10ms/step - loss: 0.1938 - accuracy: 0.2557 - val_loss: 0.1620 - val_accuracy: 0.2779\n",
            "Epoch 3/500\n",
            "360/360 [==============================] - 4s 10ms/step - loss: 0.1684 - accuracy: 0.2697 - val_loss: 0.1382 - val_accuracy: 0.2888\n",
            "Epoch 4/500\n",
            "360/360 [==============================] - 4s 10ms/step - loss: 0.1426 - accuracy: 0.2818 - val_loss: 0.1148 - val_accuracy: 0.2983\n",
            "Epoch 5/500\n",
            "360/360 [==============================] - 4s 10ms/step - loss: 0.1154 - accuracy: 0.2935 - val_loss: 0.0872 - val_accuracy: 0.3050\n",
            "Epoch 6/500\n",
            "360/360 [==============================] - 4s 10ms/step - loss: 0.0902 - accuracy: 0.3050 - val_loss: 0.0691 - val_accuracy: 0.3162\n",
            "Epoch 7/500\n",
            "360/360 [==============================] - 4s 10ms/step - loss: 0.0703 - accuracy: 0.3144 - val_loss: 0.0579 - val_accuracy: 0.3200\n",
            "Epoch 8/500\n",
            "360/360 [==============================] - 4s 10ms/step - loss: 0.0559 - accuracy: 0.3202 - val_loss: 0.0427 - val_accuracy: 0.3242\n",
            "Epoch 9/500\n",
            "360/360 [==============================] - 4s 10ms/step - loss: 0.0454 - accuracy: 0.3234 - val_loss: 0.0353 - val_accuracy: 0.3287\n",
            "Epoch 10/500\n",
            "360/360 [==============================] - 4s 10ms/step - loss: 0.0375 - accuracy: 0.3255 - val_loss: 0.0278 - val_accuracy: 0.3300\n",
            "Epoch 11/500\n",
            "360/360 [==============================] - 4s 10ms/step - loss: 0.0315 - accuracy: 0.3269 - val_loss: 0.0255 - val_accuracy: 0.3287\n",
            "Epoch 12/500\n",
            "360/360 [==============================] - 4s 10ms/step - loss: 0.0256 - accuracy: 0.3295 - val_loss: 0.0183 - val_accuracy: 0.3321\n",
            "Epoch 13/500\n",
            "360/360 [==============================] - 4s 10ms/step - loss: 0.0216 - accuracy: 0.3304 - val_loss: 0.0143 - val_accuracy: 0.3333\n",
            "Epoch 14/500\n",
            "360/360 [==============================] - 4s 10ms/step - loss: 0.0173 - accuracy: 0.3318 - val_loss: 0.0127 - val_accuracy: 0.3329\n",
            "Epoch 15/500\n",
            "360/360 [==============================] - 4s 10ms/step - loss: 0.0146 - accuracy: 0.3331 - val_loss: 0.0118 - val_accuracy: 0.3333\n",
            "Epoch 16/500\n",
            "360/360 [==============================] - 4s 11ms/step - loss: 0.0125 - accuracy: 0.3328 - val_loss: 0.0086 - val_accuracy: 0.3358\n",
            "Epoch 17/500\n",
            "360/360 [==============================] - 4s 11ms/step - loss: 0.0097 - accuracy: 0.3342 - val_loss: 0.0097 - val_accuracy: 0.3342\n",
            "Epoch 18/500\n",
            "360/360 [==============================] - 4s 10ms/step - loss: 0.0084 - accuracy: 0.3345 - val_loss: 0.0091 - val_accuracy: 0.3337\n",
            "Epoch 19/500\n",
            "360/360 [==============================] - 4s 10ms/step - loss: 0.0077 - accuracy: 0.3346 - val_loss: 0.0043 - val_accuracy: 0.3358\n",
            "Epoch 20/500\n",
            "360/360 [==============================] - 4s 10ms/step - loss: 0.0061 - accuracy: 0.3350 - val_loss: 0.0045 - val_accuracy: 0.3354\n",
            "Epoch 21/500\n",
            "360/360 [==============================] - 4s 10ms/step - loss: 0.0058 - accuracy: 0.3350 - val_loss: 0.0074 - val_accuracy: 0.3342\n",
            "Epoch 22/500\n",
            "360/360 [==============================] - 4s 10ms/step - loss: 0.0055 - accuracy: 0.3351 - val_loss: 0.0087 - val_accuracy: 0.3333\n",
            "Epoch 23/500\n",
            "360/360 [==============================] - 4s 10ms/step - loss: 0.0049 - accuracy: 0.3353 - val_loss: 0.0097 - val_accuracy: 0.3342\n",
            "Epoch 24/500\n",
            "360/360 [==============================] - 4s 10ms/step - loss: 0.0048 - accuracy: 0.3350 - val_loss: 0.0045 - val_accuracy: 0.3350\n",
            "Epoch 25/500\n",
            "360/360 [==============================] - 4s 10ms/step - loss: 0.0038 - accuracy: 0.3353 - val_loss: 0.0055 - val_accuracy: 0.3350\n",
            "Epoch 26/500\n",
            "360/360 [==============================] - 4s 10ms/step - loss: 0.0037 - accuracy: 0.3352 - val_loss: 0.0038 - val_accuracy: 0.3358\n",
            "Epoch 27/500\n",
            "360/360 [==============================] - 4s 10ms/step - loss: 0.0027 - accuracy: 0.3359 - val_loss: 0.0057 - val_accuracy: 0.3350\n",
            "Epoch 28/500\n",
            "360/360 [==============================] - 4s 10ms/step - loss: 0.0036 - accuracy: 0.3354 - val_loss: 0.0045 - val_accuracy: 0.3354\n",
            "Epoch 29/500\n",
            "360/360 [==============================] - 4s 10ms/step - loss: 0.0027 - accuracy: 0.3356 - val_loss: 0.0039 - val_accuracy: 0.3354\n",
            "Epoch 30/500\n",
            "360/360 [==============================] - 4s 10ms/step - loss: 0.0025 - accuracy: 0.3357 - val_loss: 0.0048 - val_accuracy: 0.3346\n",
            "Epoch 31/500\n",
            "360/360 [==============================] - 4s 10ms/step - loss: 0.0021 - accuracy: 0.3358 - val_loss: 0.0050 - val_accuracy: 0.3350\n",
            "Epoch 32/500\n",
            "360/360 [==============================] - 4s 10ms/step - loss: 0.0021 - accuracy: 0.3357 - val_loss: 0.0052 - val_accuracy: 0.3350\n",
            "Epoch 33/500\n",
            "360/360 [==============================] - 4s 10ms/step - loss: 0.0034 - accuracy: 0.3353 - val_loss: 0.0030 - val_accuracy: 0.3354\n",
            "Epoch 34/500\n",
            "360/360 [==============================] - 4s 10ms/step - loss: 0.0021 - accuracy: 0.3358 - val_loss: 0.0038 - val_accuracy: 0.3362\n",
            "Epoch 35/500\n",
            "360/360 [==============================] - 4s 10ms/step - loss: 9.8391e-04 - accuracy: 0.3360 - val_loss: 0.0056 - val_accuracy: 0.3346\n",
            "Epoch 36/500\n",
            "360/360 [==============================] - 4s 10ms/step - loss: 0.0021 - accuracy: 0.3358 - val_loss: 0.0105 - val_accuracy: 0.3337\n",
            "Epoch 37/500\n",
            "360/360 [==============================] - 4s 10ms/step - loss: 0.0013 - accuracy: 0.3359 - val_loss: 0.0172 - val_accuracy: 0.3333\n",
            "Epoch 38/500\n",
            "360/360 [==============================] - 4s 10ms/step - loss: 0.0018 - accuracy: 0.3360 - val_loss: 0.0094 - val_accuracy: 0.3346\n",
            "Epoch 39/500\n",
            "360/360 [==============================] - 4s 10ms/step - loss: 0.0026 - accuracy: 0.3360 - val_loss: 0.0050 - val_accuracy: 0.3346\n",
            "Epoch 40/500\n",
            "360/360 [==============================] - 4s 10ms/step - loss: 0.0015 - accuracy: 0.3360 - val_loss: 0.0069 - val_accuracy: 0.3354\n",
            "Epoch 41/500\n",
            "360/360 [==============================] - 4s 10ms/step - loss: 0.0011 - accuracy: 0.3361 - val_loss: 0.0084 - val_accuracy: 0.3346\n",
            "Epoch 42/500\n",
            "360/360 [==============================] - 4s 11ms/step - loss: 6.5645e-04 - accuracy: 0.3362 - val_loss: 0.0046 - val_accuracy: 0.3358\n",
            "Epoch 43/500\n",
            "360/360 [==============================] - 4s 10ms/step - loss: 0.0012 - accuracy: 0.3359 - val_loss: 0.0074 - val_accuracy: 0.3350\n",
            "Epoch 00043: early stopping\n",
            "500  epoch training finished...\n",
            "\n",
            "PREDICTION ACCURACY (%):\n",
            "Train: 33.529, Test: 32.417\n"
          ],
          "name": "stdout"
        },
        {
          "output_type": "display_data",
          "data": {
            "image/png": "[encoded data removed]",
            "text/plain": [
              "<Figure size 432x288 with 1 Axes>"
            ]
          },
          "metadata": {
            "tags": [],
            "needs_background": "light"
          }
        },
        {
          "output_type": "display_data",
          "data": {
            "image/png": "[encoded data removed]",
            "text/plain": [
              "<Figure size 432x288 with 1 Axes>"
            ]
          },
          "metadata": {
            "tags": [],
            "needs_background": "light"
          }
        },
        {
          "output_type": "stream",
          "text": [
            "10 examples from test data...\n",
            "Input                Expected             Predicted               T/F\n",
            "[9, 5, 4, 0, 0, 0]   [4, 0, 0, 0, 0, 0]   [4, 4, 2, 4, 4, 2]   False\n",
            "[1, 9, 2, 1, 0, 0]   [2, 0, 0, 0, 0, 0]   [2, 4, 4, 2, 4, 2]   False\n",
            "[3, 3, 7, 7, 1, 0]   [0, 0, 0, 0, 0, 0]   [4, 2, 4, 2, 4, 2]   False\n",
            "[6, 5, 8, 0, 0, 0]   [8, 6, 0, 0, 0, 0]   [8, 6, 6, 2, 6, 8]   False\n",
            "[8, 9, 9, 0, 0, 0]   [8, 0, 0, 0, 0, 0]   [8, 2, 4, 8, 4, 4]   False\n",
            "[3, 5, 6, 7, 3, 0]   [6, 0, 0, 0, 0, 0]   [6, 4, 4, 6, 2, 4]   False\n",
            "[4, 3, 1, 9, 0, 0]   [4, 0, 0, 0, 0, 0]   [4, 2, 4, 4, 4, 4]   False\n",
            "[7, 5, 2, 0, 0, 0]   [2, 0, 0, 0, 0, 0]   [2, 4, 4, 2, 2, 2]   False\n",
            "[2, 8, 7, 0, 0, 0]   [8, 2, 0, 0, 0, 0]   [8, 2, 4, 2, 2, 4]   False\n",
            "[4, 2, 5, 2, 1, 1]   [2, 2, 4, 0, 0, 0]   [2, 2, 4, 4, 2, 4]   False\n",
            "Accuracy:  0.0\n",
            "time: 2min 42s\n"
          ],
          "name": "stdout"
        }
      ]
    },
    {
      "cell_type": "markdown",
      "metadata": {
        "id": "PUo25NIarOJo"
      },
      "source": [
        "# OBSERVATIONS\n",
        "* We created an encoder decoder model for a **variable** size input/output sequences\n",
        "* Encoder consumes all the input sequence at once and creates a context vector\n",
        "* Decoder use the context vector created by the encoder and a special sign 'start' to output the first token in the output sequence\n",
        "* Decoder works in a loop\n",
        "* Each cycle of the loop, Decoder output a token in the output sequence\n",
        "* To create the current output, decoder use its last output and state as input and context vector to itself\n",
        "* When the fixed size output tokens are created decoder stops"
      ]
    },
    {
      "cell_type": "markdown",
      "metadata": {
        "id": "jsd1-Fnw_l43"
      },
      "source": [
        "# Do it yourself:\n",
        "* You can observe the effects of changing the numbers of\n",
        "** LSTM units \n",
        "** LSTM layer \n",
        "** Sequence length\n",
        "\n",
        "* You can use multiple LSTM layers in encoder and/or decoder\n"
      ]
    },
    {
      "cell_type": "markdown",
      "metadata": {
        "id": "kLQ8_RnBsSJc"
      },
      "source": [
        "In the next part we will modify the encoder decoder model such that it will handle variable size input/output sequences"
      ]
    },
    {
      "cell_type": "markdown",
      "metadata": {
        "id": "vx8rEIqmMQNT"
      },
      "source": [
        "# PART F: ENCODER-DECODER ARCHITECTURE/MODEL TO HANDLE VARIABLE SIZE INPUT/OUTPUT WITH TEACHER FORCING"
      ]
    }
  ]
}