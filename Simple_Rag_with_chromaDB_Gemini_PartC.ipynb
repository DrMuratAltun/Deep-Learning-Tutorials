{
  "nbformat": 4,
  "nbformat_minor": 0,
  "metadata": {
    "colab": {
      "provenance": [],
      "authorship_tag": "ABX9TyMsGLftWArqKN1r0Xs0GnVK",
      "include_colab_link": true
    },
    "kernelspec": {
      "name": "python3",
      "display_name": "Python 3"
    },
    "language_info": {
      "name": "python"
    },
    "widgets": {
      "application/vnd.jupyter.widget-state+json": {
        "d3d10cbf9ad149569c223e6eb5b399ee": {
          "model_module": "@jupyter-widgets/controls",
          "model_name": "HBoxModel",
          "model_module_version": "1.5.0",
          "state": {
            "_dom_classes": [],
            "_model_module": "@jupyter-widgets/controls",
            "_model_module_version": "1.5.0",
            "_model_name": "HBoxModel",
            "_view_count": null,
            "_view_module": "@jupyter-widgets/controls",
            "_view_module_version": "1.5.0",
            "_view_name": "HBoxView",
            "box_style": "",
            "children": [
              "IPY_MODEL_184064220f7748cf9cb2bbca4e8d2f44",
              "IPY_MODEL_de5cb20196a7435cab2644b1f05d1875",
              "IPY_MODEL_d0ba6eab5dcb4538b70c33dd57e0c2fb"
            ],
            "layout": "IPY_MODEL_8e6e9c77bcbb43838ca424129975fbe9"
          }
        },
        "184064220f7748cf9cb2bbca4e8d2f44": {
          "model_module": "@jupyter-widgets/controls",
          "model_name": "HTMLModel",
          "model_module_version": "1.5.0",
          "state": {
            "_dom_classes": [],
            "_model_module": "@jupyter-widgets/controls",
            "_model_module_version": "1.5.0",
            "_model_name": "HTMLModel",
            "_view_count": null,
            "_view_module": "@jupyter-widgets/controls",
            "_view_module_version": "1.5.0",
            "_view_name": "HTMLView",
            "description": "",
            "description_tooltip": null,
            "layout": "IPY_MODEL_a946fd22ef904801868d5b73a5312596",
            "placeholder": "​",
            "style": "IPY_MODEL_719395fb9da84e0b809ece7c3fe76fff",
            "value": "modules.json: 100%"
          }
        },
        "de5cb20196a7435cab2644b1f05d1875": {
          "model_module": "@jupyter-widgets/controls",
          "model_name": "FloatProgressModel",
          "model_module_version": "1.5.0",
          "state": {
            "_dom_classes": [],
            "_model_module": "@jupyter-widgets/controls",
            "_model_module_version": "1.5.0",
            "_model_name": "FloatProgressModel",
            "_view_count": null,
            "_view_module": "@jupyter-widgets/controls",
            "_view_module_version": "1.5.0",
            "_view_name": "ProgressView",
            "bar_style": "success",
            "description": "",
            "description_tooltip": null,
            "layout": "IPY_MODEL_0b35427125ab44c08072fff65e4c65d1",
            "max": 341,
            "min": 0,
            "orientation": "horizontal",
            "style": "IPY_MODEL_83905f2a3b3a4e20ba31b1af5b6ca6a0",
            "value": 341
          }
        },
        "d0ba6eab5dcb4538b70c33dd57e0c2fb": {
          "model_module": "@jupyter-widgets/controls",
          "model_name": "HTMLModel",
          "model_module_version": "1.5.0",
          "state": {
            "_dom_classes": [],
            "_model_module": "@jupyter-widgets/controls",
            "_model_module_version": "1.5.0",
            "_model_name": "HTMLModel",
            "_view_count": null,
            "_view_module": "@jupyter-widgets/controls",
            "_view_module_version": "1.5.0",
            "_view_name": "HTMLView",
            "description": "",
            "description_tooltip": null,
            "layout": "IPY_MODEL_51103a65799842aba619a0ec5eabd9db",
            "placeholder": "​",
            "style": "IPY_MODEL_08cf7ad8748b4aceb440d4305b4f8761",
            "value": " 341/341 [00:00&lt;00:00, 3.49kB/s]"
          }
        },
        "8e6e9c77bcbb43838ca424129975fbe9": {
          "model_module": "@jupyter-widgets/base",
          "model_name": "LayoutModel",
          "model_module_version": "1.2.0",
          "state": {
            "_model_module": "@jupyter-widgets/base",
            "_model_module_version": "1.2.0",
            "_model_name": "LayoutModel",
            "_view_count": null,
            "_view_module": "@jupyter-widgets/base",
            "_view_module_version": "1.2.0",
            "_view_name": "LayoutView",
            "align_content": null,
            "align_items": null,
            "align_self": null,
            "border": null,
            "bottom": null,
            "display": null,
            "flex": null,
            "flex_flow": null,
            "grid_area": null,
            "grid_auto_columns": null,
            "grid_auto_flow": null,
            "grid_auto_rows": null,
            "grid_column": null,
            "grid_gap": null,
            "grid_row": null,
            "grid_template_areas": null,
            "grid_template_columns": null,
            "grid_template_rows": null,
            "height": null,
            "justify_content": null,
            "justify_items": null,
            "left": null,
            "margin": null,
            "max_height": null,
            "max_width": null,
            "min_height": null,
            "min_width": null,
            "object_fit": null,
            "object_position": null,
            "order": null,
            "overflow": null,
            "overflow_x": null,
            "overflow_y": null,
            "padding": null,
            "right": null,
            "top": null,
            "visibility": null,
            "width": null
          }
        },
        "a946fd22ef904801868d5b73a5312596": {
          "model_module": "@jupyter-widgets/base",
          "model_name": "LayoutModel",
          "model_module_version": "1.2.0",
          "state": {
            "_model_module": "@jupyter-widgets/base",
            "_model_module_version": "1.2.0",
            "_model_name": "LayoutModel",
            "_view_count": null,
            "_view_module": "@jupyter-widgets/base",
            "_view_module_version": "1.2.0",
            "_view_name": "LayoutView",
            "align_content": null,
            "align_items": null,
            "align_self": null,
            "border": null,
            "bottom": null,
            "display": null,
            "flex": null,
            "flex_flow": null,
            "grid_area": null,
            "grid_auto_columns": null,
            "grid_auto_flow": null,
            "grid_auto_rows": null,
            "grid_column": null,
            "grid_gap": null,
            "grid_row": null,
            "grid_template_areas": null,
            "grid_template_columns": null,
            "grid_template_rows": null,
            "height": null,
            "justify_content": null,
            "justify_items": null,
            "left": null,
            "margin": null,
            "max_height": null,
            "max_width": null,
            "min_height": null,
            "min_width": null,
            "object_fit": null,
            "object_position": null,
            "order": null,
            "overflow": null,
            "overflow_x": null,
            "overflow_y": null,
            "padding": null,
            "right": null,
            "top": null,
            "visibility": null,
            "width": null
          }
        },
        "719395fb9da84e0b809ece7c3fe76fff": {
          "model_module": "@jupyter-widgets/controls",
          "model_name": "DescriptionStyleModel",
          "model_module_version": "1.5.0",
          "state": {
            "_model_module": "@jupyter-widgets/controls",
            "_model_module_version": "1.5.0",
            "_model_name": "DescriptionStyleModel",
            "_view_count": null,
            "_view_module": "@jupyter-widgets/base",
            "_view_module_version": "1.2.0",
            "_view_name": "StyleView",
            "description_width": ""
          }
        },
        "0b35427125ab44c08072fff65e4c65d1": {
          "model_module": "@jupyter-widgets/base",
          "model_name": "LayoutModel",
          "model_module_version": "1.2.0",
          "state": {
            "_model_module": "@jupyter-widgets/base",
            "_model_module_version": "1.2.0",
            "_model_name": "LayoutModel",
            "_view_count": null,
            "_view_module": "@jupyter-widgets/base",
            "_view_module_version": "1.2.0",
            "_view_name": "LayoutView",
            "align_content": null,
            "align_items": null,
            "align_self": null,
            "border": null,
            "bottom": null,
            "display": null,
            "flex": null,
            "flex_flow": null,
            "grid_area": null,
            "grid_auto_columns": null,
            "grid_auto_flow": null,
            "grid_auto_rows": null,
            "grid_column": null,
            "grid_gap": null,
            "grid_row": null,
            "grid_template_areas": null,
            "grid_template_columns": null,
            "grid_template_rows": null,
            "height": null,
            "justify_content": null,
            "justify_items": null,
            "left": null,
            "margin": null,
            "max_height": null,
            "max_width": null,
            "min_height": null,
            "min_width": null,
            "object_fit": null,
            "object_position": null,
            "order": null,
            "overflow": null,
            "overflow_x": null,
            "overflow_y": null,
            "padding": null,
            "right": null,
            "top": null,
            "visibility": null,
            "width": null
          }
        },
        "83905f2a3b3a4e20ba31b1af5b6ca6a0": {
          "model_module": "@jupyter-widgets/controls",
          "model_name": "ProgressStyleModel",
          "model_module_version": "1.5.0",
          "state": {
            "_model_module": "@jupyter-widgets/controls",
            "_model_module_version": "1.5.0",
            "_model_name": "ProgressStyleModel",
            "_view_count": null,
            "_view_module": "@jupyter-widgets/base",
            "_view_module_version": "1.2.0",
            "_view_name": "StyleView",
            "bar_color": null,
            "description_width": ""
          }
        },
        "51103a65799842aba619a0ec5eabd9db": {
          "model_module": "@jupyter-widgets/base",
          "model_name": "LayoutModel",
          "model_module_version": "1.2.0",
          "state": {
            "_model_module": "@jupyter-widgets/base",
            "_model_module_version": "1.2.0",
            "_model_name": "LayoutModel",
            "_view_count": null,
            "_view_module": "@jupyter-widgets/base",
            "_view_module_version": "1.2.0",
            "_view_name": "LayoutView",
            "align_content": null,
            "align_items": null,
            "align_self": null,
            "border": null,
            "bottom": null,
            "display": null,
            "flex": null,
            "flex_flow": null,
            "grid_area": null,
            "grid_auto_columns": null,
            "grid_auto_flow": null,
            "grid_auto_rows": null,
            "grid_column": null,
            "grid_gap": null,
            "grid_row": null,
            "grid_template_areas": null,
            "grid_template_columns": null,
            "grid_template_rows": null,
            "height": null,
            "justify_content": null,
            "justify_items": null,
            "left": null,
            "margin": null,
            "max_height": null,
            "max_width": null,
            "min_height": null,
            "min_width": null,
            "object_fit": null,
            "object_position": null,
            "order": null,
            "overflow": null,
            "overflow_x": null,
            "overflow_y": null,
            "padding": null,
            "right": null,
            "top": null,
            "visibility": null,
            "width": null
          }
        },
        "08cf7ad8748b4aceb440d4305b4f8761": {
          "model_module": "@jupyter-widgets/controls",
          "model_name": "DescriptionStyleModel",
          "model_module_version": "1.5.0",
          "state": {
            "_model_module": "@jupyter-widgets/controls",
            "_model_module_version": "1.5.0",
            "_model_name": "DescriptionStyleModel",
            "_view_count": null,
            "_view_module": "@jupyter-widgets/base",
            "_view_module_version": "1.2.0",
            "_view_name": "StyleView",
            "description_width": ""
          }
        },
        "4b1b66c69d4d416ebc86bff043aef487": {
          "model_module": "@jupyter-widgets/controls",
          "model_name": "HBoxModel",
          "model_module_version": "1.5.0",
          "state": {
            "_dom_classes": [],
            "_model_module": "@jupyter-widgets/controls",
            "_model_module_version": "1.5.0",
            "_model_name": "HBoxModel",
            "_view_count": null,
            "_view_module": "@jupyter-widgets/controls",
            "_view_module_version": "1.5.0",
            "_view_name": "HBoxView",
            "box_style": "",
            "children": [
              "IPY_MODEL_73a839719ac740f8944b4814d6762e2f",
              "IPY_MODEL_889c7c8f15db4bffaa51364006ea8f2e",
              "IPY_MODEL_c609bc5af7464120954f46d0455374b2"
            ],
            "layout": "IPY_MODEL_18e8763a8862498bb5e99f2b45166326"
          }
        },
        "73a839719ac740f8944b4814d6762e2f": {
          "model_module": "@jupyter-widgets/controls",
          "model_name": "HTMLModel",
          "model_module_version": "1.5.0",
          "state": {
            "_dom_classes": [],
            "_model_module": "@jupyter-widgets/controls",
            "_model_module_version": "1.5.0",
            "_model_name": "HTMLModel",
            "_view_count": null,
            "_view_module": "@jupyter-widgets/controls",
            "_view_module_version": "1.5.0",
            "_view_name": "HTMLView",
            "description": "",
            "description_tooltip": null,
            "layout": "IPY_MODEL_975f7aab9de34e28a63bf30a078c0063",
            "placeholder": "​",
            "style": "IPY_MODEL_2c03a8f00b7742d5a70aa486d5536347",
            "value": "config_sentence_transformers.json: 100%"
          }
        },
        "889c7c8f15db4bffaa51364006ea8f2e": {
          "model_module": "@jupyter-widgets/controls",
          "model_name": "FloatProgressModel",
          "model_module_version": "1.5.0",
          "state": {
            "_dom_classes": [],
            "_model_module": "@jupyter-widgets/controls",
            "_model_module_version": "1.5.0",
            "_model_name": "FloatProgressModel",
            "_view_count": null,
            "_view_module": "@jupyter-widgets/controls",
            "_view_module_version": "1.5.0",
            "_view_name": "ProgressView",
            "bar_style": "success",
            "description": "",
            "description_tooltip": null,
            "layout": "IPY_MODEL_f133c3b77885451f87a97ba26e5645f9",
            "max": 122,
            "min": 0,
            "orientation": "horizontal",
            "style": "IPY_MODEL_aefd7717500c4ade9ee55d3204fbbde5",
            "value": 122
          }
        },
        "c609bc5af7464120954f46d0455374b2": {
          "model_module": "@jupyter-widgets/controls",
          "model_name": "HTMLModel",
          "model_module_version": "1.5.0",
          "state": {
            "_dom_classes": [],
            "_model_module": "@jupyter-widgets/controls",
            "_model_module_version": "1.5.0",
            "_model_name": "HTMLModel",
            "_view_count": null,
            "_view_module": "@jupyter-widgets/controls",
            "_view_module_version": "1.5.0",
            "_view_name": "HTMLView",
            "description": "",
            "description_tooltip": null,
            "layout": "IPY_MODEL_a1ffcfe2fb494a0fb9ba40813c0e4692",
            "placeholder": "​",
            "style": "IPY_MODEL_22fc87ac8f9a47d6a028767bbd0a7367",
            "value": " 122/122 [00:00&lt;00:00, 2.45kB/s]"
          }
        },
        "18e8763a8862498bb5e99f2b45166326": {
          "model_module": "@jupyter-widgets/base",
          "model_name": "LayoutModel",
          "model_module_version": "1.2.0",
          "state": {
            "_model_module": "@jupyter-widgets/base",
            "_model_module_version": "1.2.0",
            "_model_name": "LayoutModel",
            "_view_count": null,
            "_view_module": "@jupyter-widgets/base",
            "_view_module_version": "1.2.0",
            "_view_name": "LayoutView",
            "align_content": null,
            "align_items": null,
            "align_self": null,
            "border": null,
            "bottom": null,
            "display": null,
            "flex": null,
            "flex_flow": null,
            "grid_area": null,
            "grid_auto_columns": null,
            "grid_auto_flow": null,
            "grid_auto_rows": null,
            "grid_column": null,
            "grid_gap": null,
            "grid_row": null,
            "grid_template_areas": null,
            "grid_template_columns": null,
            "grid_template_rows": null,
            "height": null,
            "justify_content": null,
            "justify_items": null,
            "left": null,
            "margin": null,
            "max_height": null,
            "max_width": null,
            "min_height": null,
            "min_width": null,
            "object_fit": null,
            "object_position": null,
            "order": null,
            "overflow": null,
            "overflow_x": null,
            "overflow_y": null,
            "padding": null,
            "right": null,
            "top": null,
            "visibility": null,
            "width": null
          }
        },
        "975f7aab9de34e28a63bf30a078c0063": {
          "model_module": "@jupyter-widgets/base",
          "model_name": "LayoutModel",
          "model_module_version": "1.2.0",
          "state": {
            "_model_module": "@jupyter-widgets/base",
            "_model_module_version": "1.2.0",
            "_model_name": "LayoutModel",
            "_view_count": null,
            "_view_module": "@jupyter-widgets/base",
            "_view_module_version": "1.2.0",
            "_view_name": "LayoutView",
            "align_content": null,
            "align_items": null,
            "align_self": null,
            "border": null,
            "bottom": null,
            "display": null,
            "flex": null,
            "flex_flow": null,
            "grid_area": null,
            "grid_auto_columns": null,
            "grid_auto_flow": null,
            "grid_auto_rows": null,
            "grid_column": null,
            "grid_gap": null,
            "grid_row": null,
            "grid_template_areas": null,
            "grid_template_columns": null,
            "grid_template_rows": null,
            "height": null,
            "justify_content": null,
            "justify_items": null,
            "left": null,
            "margin": null,
            "max_height": null,
            "max_width": null,
            "min_height": null,
            "min_width": null,
            "object_fit": null,
            "object_position": null,
            "order": null,
            "overflow": null,
            "overflow_x": null,
            "overflow_y": null,
            "padding": null,
            "right": null,
            "top": null,
            "visibility": null,
            "width": null
          }
        },
        "2c03a8f00b7742d5a70aa486d5536347": {
          "model_module": "@jupyter-widgets/controls",
          "model_name": "DescriptionStyleModel",
          "model_module_version": "1.5.0",
          "state": {
            "_model_module": "@jupyter-widgets/controls",
            "_model_module_version": "1.5.0",
            "_model_name": "DescriptionStyleModel",
            "_view_count": null,
            "_view_module": "@jupyter-widgets/base",
            "_view_module_version": "1.2.0",
            "_view_name": "StyleView",
            "description_width": ""
          }
        },
        "f133c3b77885451f87a97ba26e5645f9": {
          "model_module": "@jupyter-widgets/base",
          "model_name": "LayoutModel",
          "model_module_version": "1.2.0",
          "state": {
            "_model_module": "@jupyter-widgets/base",
            "_model_module_version": "1.2.0",
            "_model_name": "LayoutModel",
            "_view_count": null,
            "_view_module": "@jupyter-widgets/base",
            "_view_module_version": "1.2.0",
            "_view_name": "LayoutView",
            "align_content": null,
            "align_items": null,
            "align_self": null,
            "border": null,
            "bottom": null,
            "display": null,
            "flex": null,
            "flex_flow": null,
            "grid_area": null,
            "grid_auto_columns": null,
            "grid_auto_flow": null,
            "grid_auto_rows": null,
            "grid_column": null,
            "grid_gap": null,
            "grid_row": null,
            "grid_template_areas": null,
            "grid_template_columns": null,
            "grid_template_rows": null,
            "height": null,
            "justify_content": null,
            "justify_items": null,
            "left": null,
            "margin": null,
            "max_height": null,
            "max_width": null,
            "min_height": null,
            "min_width": null,
            "object_fit": null,
            "object_position": null,
            "order": null,
            "overflow": null,
            "overflow_x": null,
            "overflow_y": null,
            "padding": null,
            "right": null,
            "top": null,
            "visibility": null,
            "width": null
          }
        },
        "aefd7717500c4ade9ee55d3204fbbde5": {
          "model_module": "@jupyter-widgets/controls",
          "model_name": "ProgressStyleModel",
          "model_module_version": "1.5.0",
          "state": {
            "_model_module": "@jupyter-widgets/controls",
            "_model_module_version": "1.5.0",
            "_model_name": "ProgressStyleModel",
            "_view_count": null,
            "_view_module": "@jupyter-widgets/base",
            "_view_module_version": "1.2.0",
            "_view_name": "StyleView",
            "bar_color": null,
            "description_width": ""
          }
        },
        "a1ffcfe2fb494a0fb9ba40813c0e4692": {
          "model_module": "@jupyter-widgets/base",
          "model_name": "LayoutModel",
          "model_module_version": "1.2.0",
          "state": {
            "_model_module": "@jupyter-widgets/base",
            "_model_module_version": "1.2.0",
            "_model_name": "LayoutModel",
            "_view_count": null,
            "_view_module": "@jupyter-widgets/base",
            "_view_module_version": "1.2.0",
            "_view_name": "LayoutView",
            "align_content": null,
            "align_items": null,
            "align_self": null,
            "border": null,
            "bottom": null,
            "display": null,
            "flex": null,
            "flex_flow": null,
            "grid_area": null,
            "grid_auto_columns": null,
            "grid_auto_flow": null,
            "grid_auto_rows": null,
            "grid_column": null,
            "grid_gap": null,
            "grid_row": null,
            "grid_template_areas": null,
            "grid_template_columns": null,
            "grid_template_rows": null,
            "height": null,
            "justify_content": null,
            "justify_items": null,
            "left": null,
            "margin": null,
            "max_height": null,
            "max_width": null,
            "min_height": null,
            "min_width": null,
            "object_fit": null,
            "object_position": null,
            "order": null,
            "overflow": null,
            "overflow_x": null,
            "overflow_y": null,
            "padding": null,
            "right": null,
            "top": null,
            "visibility": null,
            "width": null
          }
        },
        "22fc87ac8f9a47d6a028767bbd0a7367": {
          "model_module": "@jupyter-widgets/controls",
          "model_name": "DescriptionStyleModel",
          "model_module_version": "1.5.0",
          "state": {
            "_model_module": "@jupyter-widgets/controls",
            "_model_module_version": "1.5.0",
            "_model_name": "DescriptionStyleModel",
            "_view_count": null,
            "_view_module": "@jupyter-widgets/base",
            "_view_module_version": "1.2.0",
            "_view_name": "StyleView",
            "description_width": ""
          }
        },
        "f52854775ddb4db6ae492dfb6df9e704": {
          "model_module": "@jupyter-widgets/controls",
          "model_name": "HBoxModel",
          "model_module_version": "1.5.0",
          "state": {
            "_dom_classes": [],
            "_model_module": "@jupyter-widgets/controls",
            "_model_module_version": "1.5.0",
            "_model_name": "HBoxModel",
            "_view_count": null,
            "_view_module": "@jupyter-widgets/controls",
            "_view_module_version": "1.5.0",
            "_view_name": "HBoxView",
            "box_style": "",
            "children": [
              "IPY_MODEL_17e9469cfd0241bcb02aface72a974cd",
              "IPY_MODEL_7501530b281b41d1a92cff971f1e7fa0",
              "IPY_MODEL_e87a3eeced7c49569c9bce92018522fa"
            ],
            "layout": "IPY_MODEL_cdfce4a09ece41dc85e6bebc54519c37"
          }
        },
        "17e9469cfd0241bcb02aface72a974cd": {
          "model_module": "@jupyter-widgets/controls",
          "model_name": "HTMLModel",
          "model_module_version": "1.5.0",
          "state": {
            "_dom_classes": [],
            "_model_module": "@jupyter-widgets/controls",
            "_model_module_version": "1.5.0",
            "_model_name": "HTMLModel",
            "_view_count": null,
            "_view_module": "@jupyter-widgets/controls",
            "_view_module_version": "1.5.0",
            "_view_name": "HTMLView",
            "description": "",
            "description_tooltip": null,
            "layout": "IPY_MODEL_a70171b902dc48b4aa3cdf029eb60824",
            "placeholder": "​",
            "style": "IPY_MODEL_02b3d27d238c4f8592094244f4c40bc0",
            "value": "README.md: 100%"
          }
        },
        "7501530b281b41d1a92cff971f1e7fa0": {
          "model_module": "@jupyter-widgets/controls",
          "model_name": "FloatProgressModel",
          "model_module_version": "1.5.0",
          "state": {
            "_dom_classes": [],
            "_model_module": "@jupyter-widgets/controls",
            "_model_module_version": "1.5.0",
            "_model_name": "FloatProgressModel",
            "_view_count": null,
            "_view_module": "@jupyter-widgets/controls",
            "_view_module_version": "1.5.0",
            "_view_name": "ProgressView",
            "bar_style": "success",
            "description": "",
            "description_tooltip": null,
            "layout": "IPY_MODEL_739da459bb974899b9986b1cd5aaa534",
            "max": 2466,
            "min": 0,
            "orientation": "horizontal",
            "style": "IPY_MODEL_6e0e4dad89dd408bb0ad7f527ffe28ce",
            "value": 2466
          }
        },
        "e87a3eeced7c49569c9bce92018522fa": {
          "model_module": "@jupyter-widgets/controls",
          "model_name": "HTMLModel",
          "model_module_version": "1.5.0",
          "state": {
            "_dom_classes": [],
            "_model_module": "@jupyter-widgets/controls",
            "_model_module_version": "1.5.0",
            "_model_name": "HTMLModel",
            "_view_count": null,
            "_view_module": "@jupyter-widgets/controls",
            "_view_module_version": "1.5.0",
            "_view_name": "HTMLView",
            "description": "",
            "description_tooltip": null,
            "layout": "IPY_MODEL_4019b102948747699f4955148ed088fc",
            "placeholder": "​",
            "style": "IPY_MODEL_3fd882f07ab4411988acc03a0a8929ee",
            "value": " 2.47k/2.47k [00:00&lt;00:00, 62.2kB/s]"
          }
        },
        "cdfce4a09ece41dc85e6bebc54519c37": {
          "model_module": "@jupyter-widgets/base",
          "model_name": "LayoutModel",
          "model_module_version": "1.2.0",
          "state": {
            "_model_module": "@jupyter-widgets/base",
            "_model_module_version": "1.2.0",
            "_model_name": "LayoutModel",
            "_view_count": null,
            "_view_module": "@jupyter-widgets/base",
            "_view_module_version": "1.2.0",
            "_view_name": "LayoutView",
            "align_content": null,
            "align_items": null,
            "align_self": null,
            "border": null,
            "bottom": null,
            "display": null,
            "flex": null,
            "flex_flow": null,
            "grid_area": null,
            "grid_auto_columns": null,
            "grid_auto_flow": null,
            "grid_auto_rows": null,
            "grid_column": null,
            "grid_gap": null,
            "grid_row": null,
            "grid_template_areas": null,
            "grid_template_columns": null,
            "grid_template_rows": null,
            "height": null,
            "justify_content": null,
            "justify_items": null,
            "left": null,
            "margin": null,
            "max_height": null,
            "max_width": null,
            "min_height": null,
            "min_width": null,
            "object_fit": null,
            "object_position": null,
            "order": null,
            "overflow": null,
            "overflow_x": null,
            "overflow_y": null,
            "padding": null,
            "right": null,
            "top": null,
            "visibility": null,
            "width": null
          }
        },
        "a70171b902dc48b4aa3cdf029eb60824": {
          "model_module": "@jupyter-widgets/base",
          "model_name": "LayoutModel",
          "model_module_version": "1.2.0",
          "state": {
            "_model_module": "@jupyter-widgets/base",
            "_model_module_version": "1.2.0",
            "_model_name": "LayoutModel",
            "_view_count": null,
            "_view_module": "@jupyter-widgets/base",
            "_view_module_version": "1.2.0",
            "_view_name": "LayoutView",
            "align_content": null,
            "align_items": null,
            "align_self": null,
            "border": null,
            "bottom": null,
            "display": null,
            "flex": null,
            "flex_flow": null,
            "grid_area": null,
            "grid_auto_columns": null,
            "grid_auto_flow": null,
            "grid_auto_rows": null,
            "grid_column": null,
            "grid_gap": null,
            "grid_row": null,
            "grid_template_areas": null,
            "grid_template_columns": null,
            "grid_template_rows": null,
            "height": null,
            "justify_content": null,
            "justify_items": null,
            "left": null,
            "margin": null,
            "max_height": null,
            "max_width": null,
            "min_height": null,
            "min_width": null,
            "object_fit": null,
            "object_position": null,
            "order": null,
            "overflow": null,
            "overflow_x": null,
            "overflow_y": null,
            "padding": null,
            "right": null,
            "top": null,
            "visibility": null,
            "width": null
          }
        },
        "02b3d27d238c4f8592094244f4c40bc0": {
          "model_module": "@jupyter-widgets/controls",
          "model_name": "DescriptionStyleModel",
          "model_module_version": "1.5.0",
          "state": {
            "_model_module": "@jupyter-widgets/controls",
            "_model_module_version": "1.5.0",
            "_model_name": "DescriptionStyleModel",
            "_view_count": null,
            "_view_module": "@jupyter-widgets/base",
            "_view_module_version": "1.2.0",
            "_view_name": "StyleView",
            "description_width": ""
          }
        },
        "739da459bb974899b9986b1cd5aaa534": {
          "model_module": "@jupyter-widgets/base",
          "model_name": "LayoutModel",
          "model_module_version": "1.2.0",
          "state": {
            "_model_module": "@jupyter-widgets/base",
            "_model_module_version": "1.2.0",
            "_model_name": "LayoutModel",
            "_view_count": null,
            "_view_module": "@jupyter-widgets/base",
            "_view_module_version": "1.2.0",
            "_view_name": "LayoutView",
            "align_content": null,
            "align_items": null,
            "align_self": null,
            "border": null,
            "bottom": null,
            "display": null,
            "flex": null,
            "flex_flow": null,
            "grid_area": null,
            "grid_auto_columns": null,
            "grid_auto_flow": null,
            "grid_auto_rows": null,
            "grid_column": null,
            "grid_gap": null,
            "grid_row": null,
            "grid_template_areas": null,
            "grid_template_columns": null,
            "grid_template_rows": null,
            "height": null,
            "justify_content": null,
            "justify_items": null,
            "left": null,
            "margin": null,
            "max_height": null,
            "max_width": null,
            "min_height": null,
            "min_width": null,
            "object_fit": null,
            "object_position": null,
            "order": null,
            "overflow": null,
            "overflow_x": null,
            "overflow_y": null,
            "padding": null,
            "right": null,
            "top": null,
            "visibility": null,
            "width": null
          }
        },
        "6e0e4dad89dd408bb0ad7f527ffe28ce": {
          "model_module": "@jupyter-widgets/controls",
          "model_name": "ProgressStyleModel",
          "model_module_version": "1.5.0",
          "state": {
            "_model_module": "@jupyter-widgets/controls",
            "_model_module_version": "1.5.0",
            "_model_name": "ProgressStyleModel",
            "_view_count": null,
            "_view_module": "@jupyter-widgets/base",
            "_view_module_version": "1.2.0",
            "_view_name": "StyleView",
            "bar_color": null,
            "description_width": ""
          }
        },
        "4019b102948747699f4955148ed088fc": {
          "model_module": "@jupyter-widgets/base",
          "model_name": "LayoutModel",
          "model_module_version": "1.2.0",
          "state": {
            "_model_module": "@jupyter-widgets/base",
            "_model_module_version": "1.2.0",
            "_model_name": "LayoutModel",
            "_view_count": null,
            "_view_module": "@jupyter-widgets/base",
            "_view_module_version": "1.2.0",
            "_view_name": "LayoutView",
            "align_content": null,
            "align_items": null,
            "align_self": null,
            "border": null,
            "bottom": null,
            "display": null,
            "flex": null,
            "flex_flow": null,
            "grid_area": null,
            "grid_auto_columns": null,
            "grid_auto_flow": null,
            "grid_auto_rows": null,
            "grid_column": null,
            "grid_gap": null,
            "grid_row": null,
            "grid_template_areas": null,
            "grid_template_columns": null,
            "grid_template_rows": null,
            "height": null,
            "justify_content": null,
            "justify_items": null,
            "left": null,
            "margin": null,
            "max_height": null,
            "max_width": null,
            "min_height": null,
            "min_width": null,
            "object_fit": null,
            "object_position": null,
            "order": null,
            "overflow": null,
            "overflow_x": null,
            "overflow_y": null,
            "padding": null,
            "right": null,
            "top": null,
            "visibility": null,
            "width": null
          }
        },
        "3fd882f07ab4411988acc03a0a8929ee": {
          "model_module": "@jupyter-widgets/controls",
          "model_name": "DescriptionStyleModel",
          "model_module_version": "1.5.0",
          "state": {
            "_model_module": "@jupyter-widgets/controls",
            "_model_module_version": "1.5.0",
            "_model_name": "DescriptionStyleModel",
            "_view_count": null,
            "_view_module": "@jupyter-widgets/base",
            "_view_module_version": "1.2.0",
            "_view_name": "StyleView",
            "description_width": ""
          }
        },
        "b456f0899f2543d88e0aac66bb2d8f68": {
          "model_module": "@jupyter-widgets/controls",
          "model_name": "HBoxModel",
          "model_module_version": "1.5.0",
          "state": {
            "_dom_classes": [],
            "_model_module": "@jupyter-widgets/controls",
            "_model_module_version": "1.5.0",
            "_model_name": "HBoxModel",
            "_view_count": null,
            "_view_module": "@jupyter-widgets/controls",
            "_view_module_version": "1.5.0",
            "_view_name": "HBoxView",
            "box_style": "",
            "children": [
              "IPY_MODEL_6b1fcab71fa14fc0acbe94e1a928f551",
              "IPY_MODEL_fd03d4a7d4b34dc092d6b72715932a3f",
              "IPY_MODEL_2f1793a02b0e497abec831fbe51e8c9d"
            ],
            "layout": "IPY_MODEL_a73c48d4a20647b39826eb4b80d4e9ab"
          }
        },
        "6b1fcab71fa14fc0acbe94e1a928f551": {
          "model_module": "@jupyter-widgets/controls",
          "model_name": "HTMLModel",
          "model_module_version": "1.5.0",
          "state": {
            "_dom_classes": [],
            "_model_module": "@jupyter-widgets/controls",
            "_model_module_version": "1.5.0",
            "_model_name": "HTMLModel",
            "_view_count": null,
            "_view_module": "@jupyter-widgets/controls",
            "_view_module_version": "1.5.0",
            "_view_name": "HTMLView",
            "description": "",
            "description_tooltip": null,
            "layout": "IPY_MODEL_9a774095e0b14bbe9005a0cf8a8281b7",
            "placeholder": "​",
            "style": "IPY_MODEL_1cf03ba64fa64532973a374d6387d475",
            "value": "sentence_bert_config.json: 100%"
          }
        },
        "fd03d4a7d4b34dc092d6b72715932a3f": {
          "model_module": "@jupyter-widgets/controls",
          "model_name": "FloatProgressModel",
          "model_module_version": "1.5.0",
          "state": {
            "_dom_classes": [],
            "_model_module": "@jupyter-widgets/controls",
            "_model_module_version": "1.5.0",
            "_model_name": "FloatProgressModel",
            "_view_count": null,
            "_view_module": "@jupyter-widgets/controls",
            "_view_module_version": "1.5.0",
            "_view_name": "ProgressView",
            "bar_style": "success",
            "description": "",
            "description_tooltip": null,
            "layout": "IPY_MODEL_535026efef164bde877fae5774ada2ab",
            "max": 53,
            "min": 0,
            "orientation": "horizontal",
            "style": "IPY_MODEL_629c103cf7764b47817b6d0ee6156d97",
            "value": 53
          }
        },
        "2f1793a02b0e497abec831fbe51e8c9d": {
          "model_module": "@jupyter-widgets/controls",
          "model_name": "HTMLModel",
          "model_module_version": "1.5.0",
          "state": {
            "_dom_classes": [],
            "_model_module": "@jupyter-widgets/controls",
            "_model_module_version": "1.5.0",
            "_model_name": "HTMLModel",
            "_view_count": null,
            "_view_module": "@jupyter-widgets/controls",
            "_view_module_version": "1.5.0",
            "_view_name": "HTMLView",
            "description": "",
            "description_tooltip": null,
            "layout": "IPY_MODEL_a769952ec85748b19c861df54f70632e",
            "placeholder": "​",
            "style": "IPY_MODEL_0fae116310a843af813b98e6c67b6b06",
            "value": " 53.0/53.0 [00:00&lt;00:00, 1.29kB/s]"
          }
        },
        "a73c48d4a20647b39826eb4b80d4e9ab": {
          "model_module": "@jupyter-widgets/base",
          "model_name": "LayoutModel",
          "model_module_version": "1.2.0",
          "state": {
            "_model_module": "@jupyter-widgets/base",
            "_model_module_version": "1.2.0",
            "_model_name": "LayoutModel",
            "_view_count": null,
            "_view_module": "@jupyter-widgets/base",
            "_view_module_version": "1.2.0",
            "_view_name": "LayoutView",
            "align_content": null,
            "align_items": null,
            "align_self": null,
            "border": null,
            "bottom": null,
            "display": null,
            "flex": null,
            "flex_flow": null,
            "grid_area": null,
            "grid_auto_columns": null,
            "grid_auto_flow": null,
            "grid_auto_rows": null,
            "grid_column": null,
            "grid_gap": null,
            "grid_row": null,
            "grid_template_areas": null,
            "grid_template_columns": null,
            "grid_template_rows": null,
            "height": null,
            "justify_content": null,
            "justify_items": null,
            "left": null,
            "margin": null,
            "max_height": null,
            "max_width": null,
            "min_height": null,
            "min_width": null,
            "object_fit": null,
            "object_position": null,
            "order": null,
            "overflow": null,
            "overflow_x": null,
            "overflow_y": null,
            "padding": null,
            "right": null,
            "top": null,
            "visibility": null,
            "width": null
          }
        },
        "9a774095e0b14bbe9005a0cf8a8281b7": {
          "model_module": "@jupyter-widgets/base",
          "model_name": "LayoutModel",
          "model_module_version": "1.2.0",
          "state": {
            "_model_module": "@jupyter-widgets/base",
            "_model_module_version": "1.2.0",
            "_model_name": "LayoutModel",
            "_view_count": null,
            "_view_module": "@jupyter-widgets/base",
            "_view_module_version": "1.2.0",
            "_view_name": "LayoutView",
            "align_content": null,
            "align_items": null,
            "align_self": null,
            "border": null,
            "bottom": null,
            "display": null,
            "flex": null,
            "flex_flow": null,
            "grid_area": null,
            "grid_auto_columns": null,
            "grid_auto_flow": null,
            "grid_auto_rows": null,
            "grid_column": null,
            "grid_gap": null,
            "grid_row": null,
            "grid_template_areas": null,
            "grid_template_columns": null,
            "grid_template_rows": null,
            "height": null,
            "justify_content": null,
            "justify_items": null,
            "left": null,
            "margin": null,
            "max_height": null,
            "max_width": null,
            "min_height": null,
            "min_width": null,
            "object_fit": null,
            "object_position": null,
            "order": null,
            "overflow": null,
            "overflow_x": null,
            "overflow_y": null,
            "padding": null,
            "right": null,
            "top": null,
            "visibility": null,
            "width": null
          }
        },
        "1cf03ba64fa64532973a374d6387d475": {
          "model_module": "@jupyter-widgets/controls",
          "model_name": "DescriptionStyleModel",
          "model_module_version": "1.5.0",
          "state": {
            "_model_module": "@jupyter-widgets/controls",
            "_model_module_version": "1.5.0",
            "_model_name": "DescriptionStyleModel",
            "_view_count": null,
            "_view_module": "@jupyter-widgets/base",
            "_view_module_version": "1.2.0",
            "_view_name": "StyleView",
            "description_width": ""
          }
        },
        "535026efef164bde877fae5774ada2ab": {
          "model_module": "@jupyter-widgets/base",
          "model_name": "LayoutModel",
          "model_module_version": "1.2.0",
          "state": {
            "_model_module": "@jupyter-widgets/base",
            "_model_module_version": "1.2.0",
            "_model_name": "LayoutModel",
            "_view_count": null,
            "_view_module": "@jupyter-widgets/base",
            "_view_module_version": "1.2.0",
            "_view_name": "LayoutView",
            "align_content": null,
            "align_items": null,
            "align_self": null,
            "border": null,
            "bottom": null,
            "display": null,
            "flex": null,
            "flex_flow": null,
            "grid_area": null,
            "grid_auto_columns": null,
            "grid_auto_flow": null,
            "grid_auto_rows": null,
            "grid_column": null,
            "grid_gap": null,
            "grid_row": null,
            "grid_template_areas": null,
            "grid_template_columns": null,
            "grid_template_rows": null,
            "height": null,
            "justify_content": null,
            "justify_items": null,
            "left": null,
            "margin": null,
            "max_height": null,
            "max_width": null,
            "min_height": null,
            "min_width": null,
            "object_fit": null,
            "object_position": null,
            "order": null,
            "overflow": null,
            "overflow_x": null,
            "overflow_y": null,
            "padding": null,
            "right": null,
            "top": null,
            "visibility": null,
            "width": null
          }
        },
        "629c103cf7764b47817b6d0ee6156d97": {
          "model_module": "@jupyter-widgets/controls",
          "model_name": "ProgressStyleModel",
          "model_module_version": "1.5.0",
          "state": {
            "_model_module": "@jupyter-widgets/controls",
            "_model_module_version": "1.5.0",
            "_model_name": "ProgressStyleModel",
            "_view_count": null,
            "_view_module": "@jupyter-widgets/base",
            "_view_module_version": "1.2.0",
            "_view_name": "StyleView",
            "bar_color": null,
            "description_width": ""
          }
        },
        "a769952ec85748b19c861df54f70632e": {
          "model_module": "@jupyter-widgets/base",
          "model_name": "LayoutModel",
          "model_module_version": "1.2.0",
          "state": {
            "_model_module": "@jupyter-widgets/base",
            "_model_module_version": "1.2.0",
            "_model_name": "LayoutModel",
            "_view_count": null,
            "_view_module": "@jupyter-widgets/base",
            "_view_module_version": "1.2.0",
            "_view_name": "LayoutView",
            "align_content": null,
            "align_items": null,
            "align_self": null,
            "border": null,
            "bottom": null,
            "display": null,
            "flex": null,
            "flex_flow": null,
            "grid_area": null,
            "grid_auto_columns": null,
            "grid_auto_flow": null,
            "grid_auto_rows": null,
            "grid_column": null,
            "grid_gap": null,
            "grid_row": null,
            "grid_template_areas": null,
            "grid_template_columns": null,
            "grid_template_rows": null,
            "height": null,
            "justify_content": null,
            "justify_items": null,
            "left": null,
            "margin": null,
            "max_height": null,
            "max_width": null,
            "min_height": null,
            "min_width": null,
            "object_fit": null,
            "object_position": null,
            "order": null,
            "overflow": null,
            "overflow_x": null,
            "overflow_y": null,
            "padding": null,
            "right": null,
            "top": null,
            "visibility": null,
            "width": null
          }
        },
        "0fae116310a843af813b98e6c67b6b06": {
          "model_module": "@jupyter-widgets/controls",
          "model_name": "DescriptionStyleModel",
          "model_module_version": "1.5.0",
          "state": {
            "_model_module": "@jupyter-widgets/controls",
            "_model_module_version": "1.5.0",
            "_model_name": "DescriptionStyleModel",
            "_view_count": null,
            "_view_module": "@jupyter-widgets/base",
            "_view_module_version": "1.2.0",
            "_view_name": "StyleView",
            "description_width": ""
          }
        },
        "cb536c7a538141b8a0e261f2c534019e": {
          "model_module": "@jupyter-widgets/controls",
          "model_name": "HBoxModel",
          "model_module_version": "1.5.0",
          "state": {
            "_dom_classes": [],
            "_model_module": "@jupyter-widgets/controls",
            "_model_module_version": "1.5.0",
            "_model_name": "HBoxModel",
            "_view_count": null,
            "_view_module": "@jupyter-widgets/controls",
            "_view_module_version": "1.5.0",
            "_view_name": "HBoxView",
            "box_style": "",
            "children": [
              "IPY_MODEL_1c8eeca78360427baa1a2fb578b3c5cf",
              "IPY_MODEL_8fb7c06563824c4ca72c48373f24f246",
              "IPY_MODEL_b8d72276a1b14833b7ca20b4630421a2"
            ],
            "layout": "IPY_MODEL_94ec671337e94e6daa30a313f082f45b"
          }
        },
        "1c8eeca78360427baa1a2fb578b3c5cf": {
          "model_module": "@jupyter-widgets/controls",
          "model_name": "HTMLModel",
          "model_module_version": "1.5.0",
          "state": {
            "_dom_classes": [],
            "_model_module": "@jupyter-widgets/controls",
            "_model_module_version": "1.5.0",
            "_model_name": "HTMLModel",
            "_view_count": null,
            "_view_module": "@jupyter-widgets/controls",
            "_view_module_version": "1.5.0",
            "_view_name": "HTMLView",
            "description": "",
            "description_tooltip": null,
            "layout": "IPY_MODEL_1777367338c640c3a50f79c9f79eb8b8",
            "placeholder": "​",
            "style": "IPY_MODEL_c27a88ed5aa140a4bd0f013b28d6b27b",
            "value": "config.json: 100%"
          }
        },
        "8fb7c06563824c4ca72c48373f24f246": {
          "model_module": "@jupyter-widgets/controls",
          "model_name": "FloatProgressModel",
          "model_module_version": "1.5.0",
          "state": {
            "_dom_classes": [],
            "_model_module": "@jupyter-widgets/controls",
            "_model_module_version": "1.5.0",
            "_model_name": "FloatProgressModel",
            "_view_count": null,
            "_view_module": "@jupyter-widgets/controls",
            "_view_module_version": "1.5.0",
            "_view_name": "ProgressView",
            "bar_style": "success",
            "description": "",
            "description_tooltip": null,
            "layout": "IPY_MODEL_cf16236effce4edab2709fc0bac6c9f5",
            "max": 556,
            "min": 0,
            "orientation": "horizontal",
            "style": "IPY_MODEL_fcca326351c74ba7a214565dd0cc52d7",
            "value": 556
          }
        },
        "b8d72276a1b14833b7ca20b4630421a2": {
          "model_module": "@jupyter-widgets/controls",
          "model_name": "HTMLModel",
          "model_module_version": "1.5.0",
          "state": {
            "_dom_classes": [],
            "_model_module": "@jupyter-widgets/controls",
            "_model_module_version": "1.5.0",
            "_model_name": "HTMLModel",
            "_view_count": null,
            "_view_module": "@jupyter-widgets/controls",
            "_view_module_version": "1.5.0",
            "_view_name": "HTMLView",
            "description": "",
            "description_tooltip": null,
            "layout": "IPY_MODEL_9e68642d7e1443309902e4dd6c839871",
            "placeholder": "​",
            "style": "IPY_MODEL_b49dd58a23a440ffa0a4b973e306c24f",
            "value": " 556/556 [00:00&lt;00:00, 8.75kB/s]"
          }
        },
        "94ec671337e94e6daa30a313f082f45b": {
          "model_module": "@jupyter-widgets/base",
          "model_name": "LayoutModel",
          "model_module_version": "1.2.0",
          "state": {
            "_model_module": "@jupyter-widgets/base",
            "_model_module_version": "1.2.0",
            "_model_name": "LayoutModel",
            "_view_count": null,
            "_view_module": "@jupyter-widgets/base",
            "_view_module_version": "1.2.0",
            "_view_name": "LayoutView",
            "align_content": null,
            "align_items": null,
            "align_self": null,
            "border": null,
            "bottom": null,
            "display": null,
            "flex": null,
            "flex_flow": null,
            "grid_area": null,
            "grid_auto_columns": null,
            "grid_auto_flow": null,
            "grid_auto_rows": null,
            "grid_column": null,
            "grid_gap": null,
            "grid_row": null,
            "grid_template_areas": null,
            "grid_template_columns": null,
            "grid_template_rows": null,
            "height": null,
            "justify_content": null,
            "justify_items": null,
            "left": null,
            "margin": null,
            "max_height": null,
            "max_width": null,
            "min_height": null,
            "min_width": null,
            "object_fit": null,
            "object_position": null,
            "order": null,
            "overflow": null,
            "overflow_x": null,
            "overflow_y": null,
            "padding": null,
            "right": null,
            "top": null,
            "visibility": null,
            "width": null
          }
        },
        "1777367338c640c3a50f79c9f79eb8b8": {
          "model_module": "@jupyter-widgets/base",
          "model_name": "LayoutModel",
          "model_module_version": "1.2.0",
          "state": {
            "_model_module": "@jupyter-widgets/base",
            "_model_module_version": "1.2.0",
            "_model_name": "LayoutModel",
            "_view_count": null,
            "_view_module": "@jupyter-widgets/base",
            "_view_module_version": "1.2.0",
            "_view_name": "LayoutView",
            "align_content": null,
            "align_items": null,
            "align_self": null,
            "border": null,
            "bottom": null,
            "display": null,
            "flex": null,
            "flex_flow": null,
            "grid_area": null,
            "grid_auto_columns": null,
            "grid_auto_flow": null,
            "grid_auto_rows": null,
            "grid_column": null,
            "grid_gap": null,
            "grid_row": null,
            "grid_template_areas": null,
            "grid_template_columns": null,
            "grid_template_rows": null,
            "height": null,
            "justify_content": null,
            "justify_items": null,
            "left": null,
            "margin": null,
            "max_height": null,
            "max_width": null,
            "min_height": null,
            "min_width": null,
            "object_fit": null,
            "object_position": null,
            "order": null,
            "overflow": null,
            "overflow_x": null,
            "overflow_y": null,
            "padding": null,
            "right": null,
            "top": null,
            "visibility": null,
            "width": null
          }
        },
        "c27a88ed5aa140a4bd0f013b28d6b27b": {
          "model_module": "@jupyter-widgets/controls",
          "model_name": "DescriptionStyleModel",
          "model_module_version": "1.5.0",
          "state": {
            "_model_module": "@jupyter-widgets/controls",
            "_model_module_version": "1.5.0",
            "_model_name": "DescriptionStyleModel",
            "_view_count": null,
            "_view_module": "@jupyter-widgets/base",
            "_view_module_version": "1.2.0",
            "_view_name": "StyleView",
            "description_width": ""
          }
        },
        "cf16236effce4edab2709fc0bac6c9f5": {
          "model_module": "@jupyter-widgets/base",
          "model_name": "LayoutModel",
          "model_module_version": "1.2.0",
          "state": {
            "_model_module": "@jupyter-widgets/base",
            "_model_module_version": "1.2.0",
            "_model_name": "LayoutModel",
            "_view_count": null,
            "_view_module": "@jupyter-widgets/base",
            "_view_module_version": "1.2.0",
            "_view_name": "LayoutView",
            "align_content": null,
            "align_items": null,
            "align_self": null,
            "border": null,
            "bottom": null,
            "display": null,
            "flex": null,
            "flex_flow": null,
            "grid_area": null,
            "grid_auto_columns": null,
            "grid_auto_flow": null,
            "grid_auto_rows": null,
            "grid_column": null,
            "grid_gap": null,
            "grid_row": null,
            "grid_template_areas": null,
            "grid_template_columns": null,
            "grid_template_rows": null,
            "height": null,
            "justify_content": null,
            "justify_items": null,
            "left": null,
            "margin": null,
            "max_height": null,
            "max_width": null,
            "min_height": null,
            "min_width": null,
            "object_fit": null,
            "object_position": null,
            "order": null,
            "overflow": null,
            "overflow_x": null,
            "overflow_y": null,
            "padding": null,
            "right": null,
            "top": null,
            "visibility": null,
            "width": null
          }
        },
        "fcca326351c74ba7a214565dd0cc52d7": {
          "model_module": "@jupyter-widgets/controls",
          "model_name": "ProgressStyleModel",
          "model_module_version": "1.5.0",
          "state": {
            "_model_module": "@jupyter-widgets/controls",
            "_model_module_version": "1.5.0",
            "_model_name": "ProgressStyleModel",
            "_view_count": null,
            "_view_module": "@jupyter-widgets/base",
            "_view_module_version": "1.2.0",
            "_view_name": "StyleView",
            "bar_color": null,
            "description_width": ""
          }
        },
        "9e68642d7e1443309902e4dd6c839871": {
          "model_module": "@jupyter-widgets/base",
          "model_name": "LayoutModel",
          "model_module_version": "1.2.0",
          "state": {
            "_model_module": "@jupyter-widgets/base",
            "_model_module_version": "1.2.0",
            "_model_name": "LayoutModel",
            "_view_count": null,
            "_view_module": "@jupyter-widgets/base",
            "_view_module_version": "1.2.0",
            "_view_name": "LayoutView",
            "align_content": null,
            "align_items": null,
            "align_self": null,
            "border": null,
            "bottom": null,
            "display": null,
            "flex": null,
            "flex_flow": null,
            "grid_area": null,
            "grid_auto_columns": null,
            "grid_auto_flow": null,
            "grid_auto_rows": null,
            "grid_column": null,
            "grid_gap": null,
            "grid_row": null,
            "grid_template_areas": null,
            "grid_template_columns": null,
            "grid_template_rows": null,
            "height": null,
            "justify_content": null,
            "justify_items": null,
            "left": null,
            "margin": null,
            "max_height": null,
            "max_width": null,
            "min_height": null,
            "min_width": null,
            "object_fit": null,
            "object_position": null,
            "order": null,
            "overflow": null,
            "overflow_x": null,
            "overflow_y": null,
            "padding": null,
            "right": null,
            "top": null,
            "visibility": null,
            "width": null
          }
        },
        "b49dd58a23a440ffa0a4b973e306c24f": {
          "model_module": "@jupyter-widgets/controls",
          "model_name": "DescriptionStyleModel",
          "model_module_version": "1.5.0",
          "state": {
            "_model_module": "@jupyter-widgets/controls",
            "_model_module_version": "1.5.0",
            "_model_name": "DescriptionStyleModel",
            "_view_count": null,
            "_view_module": "@jupyter-widgets/base",
            "_view_module_version": "1.2.0",
            "_view_name": "StyleView",
            "description_width": ""
          }
        },
        "ba9c46368d0940f5b4bb3904b9905943": {
          "model_module": "@jupyter-widgets/controls",
          "model_name": "HBoxModel",
          "model_module_version": "1.5.0",
          "state": {
            "_dom_classes": [],
            "_model_module": "@jupyter-widgets/controls",
            "_model_module_version": "1.5.0",
            "_model_name": "HBoxModel",
            "_view_count": null,
            "_view_module": "@jupyter-widgets/controls",
            "_view_module_version": "1.5.0",
            "_view_name": "HBoxView",
            "box_style": "",
            "children": [
              "IPY_MODEL_43ad47d350d74fa687817d28615f0eb0",
              "IPY_MODEL_3e7efec7f3e749a5b4a204d650e8b95f",
              "IPY_MODEL_76af32b4ed924eb280eb6fb64f194205"
            ],
            "layout": "IPY_MODEL_ce0b0d75a79243bd91c2c992d9983b6a"
          }
        },
        "43ad47d350d74fa687817d28615f0eb0": {
          "model_module": "@jupyter-widgets/controls",
          "model_name": "HTMLModel",
          "model_module_version": "1.5.0",
          "state": {
            "_dom_classes": [],
            "_model_module": "@jupyter-widgets/controls",
            "_model_module_version": "1.5.0",
            "_model_name": "HTMLModel",
            "_view_count": null,
            "_view_module": "@jupyter-widgets/controls",
            "_view_module_version": "1.5.0",
            "_view_name": "HTMLView",
            "description": "",
            "description_tooltip": null,
            "layout": "IPY_MODEL_0a16c550e0c34f9ab120f7f349247f5e",
            "placeholder": "​",
            "style": "IPY_MODEL_29ed082909d242dcba560bf520f5170e",
            "value": "model.safetensors: 100%"
          }
        },
        "3e7efec7f3e749a5b4a204d650e8b95f": {
          "model_module": "@jupyter-widgets/controls",
          "model_name": "FloatProgressModel",
          "model_module_version": "1.5.0",
          "state": {
            "_dom_classes": [],
            "_model_module": "@jupyter-widgets/controls",
            "_model_module_version": "1.5.0",
            "_model_name": "FloatProgressModel",
            "_view_count": null,
            "_view_module": "@jupyter-widgets/controls",
            "_view_module_version": "1.5.0",
            "_view_name": "ProgressView",
            "bar_style": "success",
            "description": "",
            "description_tooltip": null,
            "layout": "IPY_MODEL_aa21aed648454ae58a41457b08efb745",
            "max": 538947416,
            "min": 0,
            "orientation": "horizontal",
            "style": "IPY_MODEL_bc39de9b68f045478fc4628006451f22",
            "value": 538947416
          }
        },
        "76af32b4ed924eb280eb6fb64f194205": {
          "model_module": "@jupyter-widgets/controls",
          "model_name": "HTMLModel",
          "model_module_version": "1.5.0",
          "state": {
            "_dom_classes": [],
            "_model_module": "@jupyter-widgets/controls",
            "_model_module_version": "1.5.0",
            "_model_name": "HTMLModel",
            "_view_count": null,
            "_view_module": "@jupyter-widgets/controls",
            "_view_module_version": "1.5.0",
            "_view_name": "HTMLView",
            "description": "",
            "description_tooltip": null,
            "layout": "IPY_MODEL_6524807c2a3c47bdb0d6996041a37d49",
            "placeholder": "​",
            "style": "IPY_MODEL_8e3c3471211c40239e00ef3bd5631966",
            "value": " 539M/539M [00:05&lt;00:00, 82.7MB/s]"
          }
        },
        "ce0b0d75a79243bd91c2c992d9983b6a": {
          "model_module": "@jupyter-widgets/base",
          "model_name": "LayoutModel",
          "model_module_version": "1.2.0",
          "state": {
            "_model_module": "@jupyter-widgets/base",
            "_model_module_version": "1.2.0",
            "_model_name": "LayoutModel",
            "_view_count": null,
            "_view_module": "@jupyter-widgets/base",
            "_view_module_version": "1.2.0",
            "_view_name": "LayoutView",
            "align_content": null,
            "align_items": null,
            "align_self": null,
            "border": null,
            "bottom": null,
            "display": null,
            "flex": null,
            "flex_flow": null,
            "grid_area": null,
            "grid_auto_columns": null,
            "grid_auto_flow": null,
            "grid_auto_rows": null,
            "grid_column": null,
            "grid_gap": null,
            "grid_row": null,
            "grid_template_areas": null,
            "grid_template_columns": null,
            "grid_template_rows": null,
            "height": null,
            "justify_content": null,
            "justify_items": null,
            "left": null,
            "margin": null,
            "max_height": null,
            "max_width": null,
            "min_height": null,
            "min_width": null,
            "object_fit": null,
            "object_position": null,
            "order": null,
            "overflow": null,
            "overflow_x": null,
            "overflow_y": null,
            "padding": null,
            "right": null,
            "top": null,
            "visibility": null,
            "width": null
          }
        },
        "0a16c550e0c34f9ab120f7f349247f5e": {
          "model_module": "@jupyter-widgets/base",
          "model_name": "LayoutModel",
          "model_module_version": "1.2.0",
          "state": {
            "_model_module": "@jupyter-widgets/base",
            "_model_module_version": "1.2.0",
            "_model_name": "LayoutModel",
            "_view_count": null,
            "_view_module": "@jupyter-widgets/base",
            "_view_module_version": "1.2.0",
            "_view_name": "LayoutView",
            "align_content": null,
            "align_items": null,
            "align_self": null,
            "border": null,
            "bottom": null,
            "display": null,
            "flex": null,
            "flex_flow": null,
            "grid_area": null,
            "grid_auto_columns": null,
            "grid_auto_flow": null,
            "grid_auto_rows": null,
            "grid_column": null,
            "grid_gap": null,
            "grid_row": null,
            "grid_template_areas": null,
            "grid_template_columns": null,
            "grid_template_rows": null,
            "height": null,
            "justify_content": null,
            "justify_items": null,
            "left": null,
            "margin": null,
            "max_height": null,
            "max_width": null,
            "min_height": null,
            "min_width": null,
            "object_fit": null,
            "object_position": null,
            "order": null,
            "overflow": null,
            "overflow_x": null,
            "overflow_y": null,
            "padding": null,
            "right": null,
            "top": null,
            "visibility": null,
            "width": null
          }
        },
        "29ed082909d242dcba560bf520f5170e": {
          "model_module": "@jupyter-widgets/controls",
          "model_name": "DescriptionStyleModel",
          "model_module_version": "1.5.0",
          "state": {
            "_model_module": "@jupyter-widgets/controls",
            "_model_module_version": "1.5.0",
            "_model_name": "DescriptionStyleModel",
            "_view_count": null,
            "_view_module": "@jupyter-widgets/base",
            "_view_module_version": "1.2.0",
            "_view_name": "StyleView",
            "description_width": ""
          }
        },
        "aa21aed648454ae58a41457b08efb745": {
          "model_module": "@jupyter-widgets/base",
          "model_name": "LayoutModel",
          "model_module_version": "1.2.0",
          "state": {
            "_model_module": "@jupyter-widgets/base",
            "_model_module_version": "1.2.0",
            "_model_name": "LayoutModel",
            "_view_count": null,
            "_view_module": "@jupyter-widgets/base",
            "_view_module_version": "1.2.0",
            "_view_name": "LayoutView",
            "align_content": null,
            "align_items": null,
            "align_self": null,
            "border": null,
            "bottom": null,
            "display": null,
            "flex": null,
            "flex_flow": null,
            "grid_area": null,
            "grid_auto_columns": null,
            "grid_auto_flow": null,
            "grid_auto_rows": null,
            "grid_column": null,
            "grid_gap": null,
            "grid_row": null,
            "grid_template_areas": null,
            "grid_template_columns": null,
            "grid_template_rows": null,
            "height": null,
            "justify_content": null,
            "justify_items": null,
            "left": null,
            "margin": null,
            "max_height": null,
            "max_width": null,
            "min_height": null,
            "min_width": null,
            "object_fit": null,
            "object_position": null,
            "order": null,
            "overflow": null,
            "overflow_x": null,
            "overflow_y": null,
            "padding": null,
            "right": null,
            "top": null,
            "visibility": null,
            "width": null
          }
        },
        "bc39de9b68f045478fc4628006451f22": {
          "model_module": "@jupyter-widgets/controls",
          "model_name": "ProgressStyleModel",
          "model_module_version": "1.5.0",
          "state": {
            "_model_module": "@jupyter-widgets/controls",
            "_model_module_version": "1.5.0",
            "_model_name": "ProgressStyleModel",
            "_view_count": null,
            "_view_module": "@jupyter-widgets/base",
            "_view_module_version": "1.2.0",
            "_view_name": "StyleView",
            "bar_color": null,
            "description_width": ""
          }
        },
        "6524807c2a3c47bdb0d6996041a37d49": {
          "model_module": "@jupyter-widgets/base",
          "model_name": "LayoutModel",
          "model_module_version": "1.2.0",
          "state": {
            "_model_module": "@jupyter-widgets/base",
            "_model_module_version": "1.2.0",
            "_model_name": "LayoutModel",
            "_view_count": null,
            "_view_module": "@jupyter-widgets/base",
            "_view_module_version": "1.2.0",
            "_view_name": "LayoutView",
            "align_content": null,
            "align_items": null,
            "align_self": null,
            "border": null,
            "bottom": null,
            "display": null,
            "flex": null,
            "flex_flow": null,
            "grid_area": null,
            "grid_auto_columns": null,
            "grid_auto_flow": null,
            "grid_auto_rows": null,
            "grid_column": null,
            "grid_gap": null,
            "grid_row": null,
            "grid_template_areas": null,
            "grid_template_columns": null,
            "grid_template_rows": null,
            "height": null,
            "justify_content": null,
            "justify_items": null,
            "left": null,
            "margin": null,
            "max_height": null,
            "max_width": null,
            "min_height": null,
            "min_width": null,
            "object_fit": null,
            "object_position": null,
            "order": null,
            "overflow": null,
            "overflow_x": null,
            "overflow_y": null,
            "padding": null,
            "right": null,
            "top": null,
            "visibility": null,
            "width": null
          }
        },
        "8e3c3471211c40239e00ef3bd5631966": {
          "model_module": "@jupyter-widgets/controls",
          "model_name": "DescriptionStyleModel",
          "model_module_version": "1.5.0",
          "state": {
            "_model_module": "@jupyter-widgets/controls",
            "_model_module_version": "1.5.0",
            "_model_name": "DescriptionStyleModel",
            "_view_count": null,
            "_view_module": "@jupyter-widgets/base",
            "_view_module_version": "1.2.0",
            "_view_name": "StyleView",
            "description_width": ""
          }
        },
        "dc46aa4294af42958829879068c3cc9d": {
          "model_module": "@jupyter-widgets/controls",
          "model_name": "HBoxModel",
          "model_module_version": "1.5.0",
          "state": {
            "_dom_classes": [],
            "_model_module": "@jupyter-widgets/controls",
            "_model_module_version": "1.5.0",
            "_model_name": "HBoxModel",
            "_view_count": null,
            "_view_module": "@jupyter-widgets/controls",
            "_view_module_version": "1.5.0",
            "_view_name": "HBoxView",
            "box_style": "",
            "children": [
              "IPY_MODEL_ba48e898093640cba5b81be8764633e7",
              "IPY_MODEL_94ad5cac9316408f9cf063a08dccd933",
              "IPY_MODEL_157e4daa107c46858314b35e0b10c582"
            ],
            "layout": "IPY_MODEL_23adc6c6294f48388ed9c5ab0c2d4227"
          }
        },
        "ba48e898093640cba5b81be8764633e7": {
          "model_module": "@jupyter-widgets/controls",
          "model_name": "HTMLModel",
          "model_module_version": "1.5.0",
          "state": {
            "_dom_classes": [],
            "_model_module": "@jupyter-widgets/controls",
            "_model_module_version": "1.5.0",
            "_model_name": "HTMLModel",
            "_view_count": null,
            "_view_module": "@jupyter-widgets/controls",
            "_view_module_version": "1.5.0",
            "_view_name": "HTMLView",
            "description": "",
            "description_tooltip": null,
            "layout": "IPY_MODEL_cc4d35cbac144057a5a9ec033346bee5",
            "placeholder": "​",
            "style": "IPY_MODEL_2d3d56a6b5bf4b4789228bbb8d1afef5",
            "value": "tokenizer_config.json: 100%"
          }
        },
        "94ad5cac9316408f9cf063a08dccd933": {
          "model_module": "@jupyter-widgets/controls",
          "model_name": "FloatProgressModel",
          "model_module_version": "1.5.0",
          "state": {
            "_dom_classes": [],
            "_model_module": "@jupyter-widgets/controls",
            "_model_module_version": "1.5.0",
            "_model_name": "FloatProgressModel",
            "_view_count": null,
            "_view_module": "@jupyter-widgets/controls",
            "_view_module_version": "1.5.0",
            "_view_name": "ProgressView",
            "bar_style": "success",
            "description": "",
            "description_tooltip": null,
            "layout": "IPY_MODEL_130c02c4d512417da24cab56d102205b",
            "max": 452,
            "min": 0,
            "orientation": "horizontal",
            "style": "IPY_MODEL_fadf22e425504711b4593bc86e15e493",
            "value": 452
          }
        },
        "157e4daa107c46858314b35e0b10c582": {
          "model_module": "@jupyter-widgets/controls",
          "model_name": "HTMLModel",
          "model_module_version": "1.5.0",
          "state": {
            "_dom_classes": [],
            "_model_module": "@jupyter-widgets/controls",
            "_model_module_version": "1.5.0",
            "_model_name": "HTMLModel",
            "_view_count": null,
            "_view_module": "@jupyter-widgets/controls",
            "_view_module_version": "1.5.0",
            "_view_name": "HTMLView",
            "description": "",
            "description_tooltip": null,
            "layout": "IPY_MODEL_bd13d733620a42a3a532790c2fefe64a",
            "placeholder": "​",
            "style": "IPY_MODEL_33ad74d04d5d4ff6a936060501aebdb6",
            "value": " 452/452 [00:00&lt;00:00, 10.5kB/s]"
          }
        },
        "23adc6c6294f48388ed9c5ab0c2d4227": {
          "model_module": "@jupyter-widgets/base",
          "model_name": "LayoutModel",
          "model_module_version": "1.2.0",
          "state": {
            "_model_module": "@jupyter-widgets/base",
            "_model_module_version": "1.2.0",
            "_model_name": "LayoutModel",
            "_view_count": null,
            "_view_module": "@jupyter-widgets/base",
            "_view_module_version": "1.2.0",
            "_view_name": "LayoutView",
            "align_content": null,
            "align_items": null,
            "align_self": null,
            "border": null,
            "bottom": null,
            "display": null,
            "flex": null,
            "flex_flow": null,
            "grid_area": null,
            "grid_auto_columns": null,
            "grid_auto_flow": null,
            "grid_auto_rows": null,
            "grid_column": null,
            "grid_gap": null,
            "grid_row": null,
            "grid_template_areas": null,
            "grid_template_columns": null,
            "grid_template_rows": null,
            "height": null,
            "justify_content": null,
            "justify_items": null,
            "left": null,
            "margin": null,
            "max_height": null,
            "max_width": null,
            "min_height": null,
            "min_width": null,
            "object_fit": null,
            "object_position": null,
            "order": null,
            "overflow": null,
            "overflow_x": null,
            "overflow_y": null,
            "padding": null,
            "right": null,
            "top": null,
            "visibility": null,
            "width": null
          }
        },
        "cc4d35cbac144057a5a9ec033346bee5": {
          "model_module": "@jupyter-widgets/base",
          "model_name": "LayoutModel",
          "model_module_version": "1.2.0",
          "state": {
            "_model_module": "@jupyter-widgets/base",
            "_model_module_version": "1.2.0",
            "_model_name": "LayoutModel",
            "_view_count": null,
            "_view_module": "@jupyter-widgets/base",
            "_view_module_version": "1.2.0",
            "_view_name": "LayoutView",
            "align_content": null,
            "align_items": null,
            "align_self": null,
            "border": null,
            "bottom": null,
            "display": null,
            "flex": null,
            "flex_flow": null,
            "grid_area": null,
            "grid_auto_columns": null,
            "grid_auto_flow": null,
            "grid_auto_rows": null,
            "grid_column": null,
            "grid_gap": null,
            "grid_row": null,
            "grid_template_areas": null,
            "grid_template_columns": null,
            "grid_template_rows": null,
            "height": null,
            "justify_content": null,
            "justify_items": null,
            "left": null,
            "margin": null,
            "max_height": null,
            "max_width": null,
            "min_height": null,
            "min_width": null,
            "object_fit": null,
            "object_position": null,
            "order": null,
            "overflow": null,
            "overflow_x": null,
            "overflow_y": null,
            "padding": null,
            "right": null,
            "top": null,
            "visibility": null,
            "width": null
          }
        },
        "2d3d56a6b5bf4b4789228bbb8d1afef5": {
          "model_module": "@jupyter-widgets/controls",
          "model_name": "DescriptionStyleModel",
          "model_module_version": "1.5.0",
          "state": {
            "_model_module": "@jupyter-widgets/controls",
            "_model_module_version": "1.5.0",
            "_model_name": "DescriptionStyleModel",
            "_view_count": null,
            "_view_module": "@jupyter-widgets/base",
            "_view_module_version": "1.2.0",
            "_view_name": "StyleView",
            "description_width": ""
          }
        },
        "130c02c4d512417da24cab56d102205b": {
          "model_module": "@jupyter-widgets/base",
          "model_name": "LayoutModel",
          "model_module_version": "1.2.0",
          "state": {
            "_model_module": "@jupyter-widgets/base",
            "_model_module_version": "1.2.0",
            "_model_name": "LayoutModel",
            "_view_count": null,
            "_view_module": "@jupyter-widgets/base",
            "_view_module_version": "1.2.0",
            "_view_name": "LayoutView",
            "align_content": null,
            "align_items": null,
            "align_self": null,
            "border": null,
            "bottom": null,
            "display": null,
            "flex": null,
            "flex_flow": null,
            "grid_area": null,
            "grid_auto_columns": null,
            "grid_auto_flow": null,
            "grid_auto_rows": null,
            "grid_column": null,
            "grid_gap": null,
            "grid_row": null,
            "grid_template_areas": null,
            "grid_template_columns": null,
            "grid_template_rows": null,
            "height": null,
            "justify_content": null,
            "justify_items": null,
            "left": null,
            "margin": null,
            "max_height": null,
            "max_width": null,
            "min_height": null,
            "min_width": null,
            "object_fit": null,
            "object_position": null,
            "order": null,
            "overflow": null,
            "overflow_x": null,
            "overflow_y": null,
            "padding": null,
            "right": null,
            "top": null,
            "visibility": null,
            "width": null
          }
        },
        "fadf22e425504711b4593bc86e15e493": {
          "model_module": "@jupyter-widgets/controls",
          "model_name": "ProgressStyleModel",
          "model_module_version": "1.5.0",
          "state": {
            "_model_module": "@jupyter-widgets/controls",
            "_model_module_version": "1.5.0",
            "_model_name": "ProgressStyleModel",
            "_view_count": null,
            "_view_module": "@jupyter-widgets/base",
            "_view_module_version": "1.2.0",
            "_view_name": "StyleView",
            "bar_color": null,
            "description_width": ""
          }
        },
        "bd13d733620a42a3a532790c2fefe64a": {
          "model_module": "@jupyter-widgets/base",
          "model_name": "LayoutModel",
          "model_module_version": "1.2.0",
          "state": {
            "_model_module": "@jupyter-widgets/base",
            "_model_module_version": "1.2.0",
            "_model_name": "LayoutModel",
            "_view_count": null,
            "_view_module": "@jupyter-widgets/base",
            "_view_module_version": "1.2.0",
            "_view_name": "LayoutView",
            "align_content": null,
            "align_items": null,
            "align_self": null,
            "border": null,
            "bottom": null,
            "display": null,
            "flex": null,
            "flex_flow": null,
            "grid_area": null,
            "grid_auto_columns": null,
            "grid_auto_flow": null,
            "grid_auto_rows": null,
            "grid_column": null,
            "grid_gap": null,
            "grid_row": null,
            "grid_template_areas": null,
            "grid_template_columns": null,
            "grid_template_rows": null,
            "height": null,
            "justify_content": null,
            "justify_items": null,
            "left": null,
            "margin": null,
            "max_height": null,
            "max_width": null,
            "min_height": null,
            "min_width": null,
            "object_fit": null,
            "object_position": null,
            "order": null,
            "overflow": null,
            "overflow_x": null,
            "overflow_y": null,
            "padding": null,
            "right": null,
            "top": null,
            "visibility": null,
            "width": null
          }
        },
        "33ad74d04d5d4ff6a936060501aebdb6": {
          "model_module": "@jupyter-widgets/controls",
          "model_name": "DescriptionStyleModel",
          "model_module_version": "1.5.0",
          "state": {
            "_model_module": "@jupyter-widgets/controls",
            "_model_module_version": "1.5.0",
            "_model_name": "DescriptionStyleModel",
            "_view_count": null,
            "_view_module": "@jupyter-widgets/base",
            "_view_module_version": "1.2.0",
            "_view_name": "StyleView",
            "description_width": ""
          }
        },
        "e6654b1d6a294abb9998f057e19e3891": {
          "model_module": "@jupyter-widgets/controls",
          "model_name": "HBoxModel",
          "model_module_version": "1.5.0",
          "state": {
            "_dom_classes": [],
            "_model_module": "@jupyter-widgets/controls",
            "_model_module_version": "1.5.0",
            "_model_name": "HBoxModel",
            "_view_count": null,
            "_view_module": "@jupyter-widgets/controls",
            "_view_module_version": "1.5.0",
            "_view_name": "HBoxView",
            "box_style": "",
            "children": [
              "IPY_MODEL_42d6373567ec4b77b4b2c59ccc2f22b3",
              "IPY_MODEL_5d8be703a8cc4d40895d706ad74900c1",
              "IPY_MODEL_cf542604d0314292981f2ab6fb83b7d4"
            ],
            "layout": "IPY_MODEL_25a0321368c94386877b3942cc65e30b"
          }
        },
        "42d6373567ec4b77b4b2c59ccc2f22b3": {
          "model_module": "@jupyter-widgets/controls",
          "model_name": "HTMLModel",
          "model_module_version": "1.5.0",
          "state": {
            "_dom_classes": [],
            "_model_module": "@jupyter-widgets/controls",
            "_model_module_version": "1.5.0",
            "_model_name": "HTMLModel",
            "_view_count": null,
            "_view_module": "@jupyter-widgets/controls",
            "_view_module_version": "1.5.0",
            "_view_name": "HTMLView",
            "description": "",
            "description_tooltip": null,
            "layout": "IPY_MODEL_19e79e74ae734775a481837add4d974f",
            "placeholder": "​",
            "style": "IPY_MODEL_ff32426151ee49efbc0b7e89a8684fc3",
            "value": "vocab.txt: 100%"
          }
        },
        "5d8be703a8cc4d40895d706ad74900c1": {
          "model_module": "@jupyter-widgets/controls",
          "model_name": "FloatProgressModel",
          "model_module_version": "1.5.0",
          "state": {
            "_dom_classes": [],
            "_model_module": "@jupyter-widgets/controls",
            "_model_module_version": "1.5.0",
            "_model_name": "FloatProgressModel",
            "_view_count": null,
            "_view_module": "@jupyter-widgets/controls",
            "_view_module_version": "1.5.0",
            "_view_name": "ProgressView",
            "bar_style": "success",
            "description": "",
            "description_tooltip": null,
            "layout": "IPY_MODEL_0c830ec9cdde4499a5612efbf4b2fcde",
            "max": 995526,
            "min": 0,
            "orientation": "horizontal",
            "style": "IPY_MODEL_61a0f3a751fa4c848dee0c967424adab",
            "value": 995526
          }
        },
        "cf542604d0314292981f2ab6fb83b7d4": {
          "model_module": "@jupyter-widgets/controls",
          "model_name": "HTMLModel",
          "model_module_version": "1.5.0",
          "state": {
            "_dom_classes": [],
            "_model_module": "@jupyter-widgets/controls",
            "_model_module_version": "1.5.0",
            "_model_name": "HTMLModel",
            "_view_count": null,
            "_view_module": "@jupyter-widgets/controls",
            "_view_module_version": "1.5.0",
            "_view_name": "HTMLView",
            "description": "",
            "description_tooltip": null,
            "layout": "IPY_MODEL_8711bc4d728f4f51ac55a9193d20717e",
            "placeholder": "​",
            "style": "IPY_MODEL_9fc1a208ff314ea1be6bebd34e10e646",
            "value": " 996k/996k [00:00&lt;00:00, 4.99MB/s]"
          }
        },
        "25a0321368c94386877b3942cc65e30b": {
          "model_module": "@jupyter-widgets/base",
          "model_name": "LayoutModel",
          "model_module_version": "1.2.0",
          "state": {
            "_model_module": "@jupyter-widgets/base",
            "_model_module_version": "1.2.0",
            "_model_name": "LayoutModel",
            "_view_count": null,
            "_view_module": "@jupyter-widgets/base",
            "_view_module_version": "1.2.0",
            "_view_name": "LayoutView",
            "align_content": null,
            "align_items": null,
            "align_self": null,
            "border": null,
            "bottom": null,
            "display": null,
            "flex": null,
            "flex_flow": null,
            "grid_area": null,
            "grid_auto_columns": null,
            "grid_auto_flow": null,
            "grid_auto_rows": null,
            "grid_column": null,
            "grid_gap": null,
            "grid_row": null,
            "grid_template_areas": null,
            "grid_template_columns": null,
            "grid_template_rows": null,
            "height": null,
            "justify_content": null,
            "justify_items": null,
            "left": null,
            "margin": null,
            "max_height": null,
            "max_width": null,
            "min_height": null,
            "min_width": null,
            "object_fit": null,
            "object_position": null,
            "order": null,
            "overflow": null,
            "overflow_x": null,
            "overflow_y": null,
            "padding": null,
            "right": null,
            "top": null,
            "visibility": null,
            "width": null
          }
        },
        "19e79e74ae734775a481837add4d974f": {
          "model_module": "@jupyter-widgets/base",
          "model_name": "LayoutModel",
          "model_module_version": "1.2.0",
          "state": {
            "_model_module": "@jupyter-widgets/base",
            "_model_module_version": "1.2.0",
            "_model_name": "LayoutModel",
            "_view_count": null,
            "_view_module": "@jupyter-widgets/base",
            "_view_module_version": "1.2.0",
            "_view_name": "LayoutView",
            "align_content": null,
            "align_items": null,
            "align_self": null,
            "border": null,
            "bottom": null,
            "display": null,
            "flex": null,
            "flex_flow": null,
            "grid_area": null,
            "grid_auto_columns": null,
            "grid_auto_flow": null,
            "grid_auto_rows": null,
            "grid_column": null,
            "grid_gap": null,
            "grid_row": null,
            "grid_template_areas": null,
            "grid_template_columns": null,
            "grid_template_rows": null,
            "height": null,
            "justify_content": null,
            "justify_items": null,
            "left": null,
            "margin": null,
            "max_height": null,
            "max_width": null,
            "min_height": null,
            "min_width": null,
            "object_fit": null,
            "object_position": null,
            "order": null,
            "overflow": null,
            "overflow_x": null,
            "overflow_y": null,
            "padding": null,
            "right": null,
            "top": null,
            "visibility": null,
            "width": null
          }
        },
        "ff32426151ee49efbc0b7e89a8684fc3": {
          "model_module": "@jupyter-widgets/controls",
          "model_name": "DescriptionStyleModel",
          "model_module_version": "1.5.0",
          "state": {
            "_model_module": "@jupyter-widgets/controls",
            "_model_module_version": "1.5.0",
            "_model_name": "DescriptionStyleModel",
            "_view_count": null,
            "_view_module": "@jupyter-widgets/base",
            "_view_module_version": "1.2.0",
            "_view_name": "StyleView",
            "description_width": ""
          }
        },
        "0c830ec9cdde4499a5612efbf4b2fcde": {
          "model_module": "@jupyter-widgets/base",
          "model_name": "LayoutModel",
          "model_module_version": "1.2.0",
          "state": {
            "_model_module": "@jupyter-widgets/base",
            "_model_module_version": "1.2.0",
            "_model_name": "LayoutModel",
            "_view_count": null,
            "_view_module": "@jupyter-widgets/base",
            "_view_module_version": "1.2.0",
            "_view_name": "LayoutView",
            "align_content": null,
            "align_items": null,
            "align_self": null,
            "border": null,
            "bottom": null,
            "display": null,
            "flex": null,
            "flex_flow": null,
            "grid_area": null,
            "grid_auto_columns": null,
            "grid_auto_flow": null,
            "grid_auto_rows": null,
            "grid_column": null,
            "grid_gap": null,
            "grid_row": null,
            "grid_template_areas": null,
            "grid_template_columns": null,
            "grid_template_rows": null,
            "height": null,
            "justify_content": null,
            "justify_items": null,
            "left": null,
            "margin": null,
            "max_height": null,
            "max_width": null,
            "min_height": null,
            "min_width": null,
            "object_fit": null,
            "object_position": null,
            "order": null,
            "overflow": null,
            "overflow_x": null,
            "overflow_y": null,
            "padding": null,
            "right": null,
            "top": null,
            "visibility": null,
            "width": null
          }
        },
        "61a0f3a751fa4c848dee0c967424adab": {
          "model_module": "@jupyter-widgets/controls",
          "model_name": "ProgressStyleModel",
          "model_module_version": "1.5.0",
          "state": {
            "_model_module": "@jupyter-widgets/controls",
            "_model_module_version": "1.5.0",
            "_model_name": "ProgressStyleModel",
            "_view_count": null,
            "_view_module": "@jupyter-widgets/base",
            "_view_module_version": "1.2.0",
            "_view_name": "StyleView",
            "bar_color": null,
            "description_width": ""
          }
        },
        "8711bc4d728f4f51ac55a9193d20717e": {
          "model_module": "@jupyter-widgets/base",
          "model_name": "LayoutModel",
          "model_module_version": "1.2.0",
          "state": {
            "_model_module": "@jupyter-widgets/base",
            "_model_module_version": "1.2.0",
            "_model_name": "LayoutModel",
            "_view_count": null,
            "_view_module": "@jupyter-widgets/base",
            "_view_module_version": "1.2.0",
            "_view_name": "LayoutView",
            "align_content": null,
            "align_items": null,
            "align_self": null,
            "border": null,
            "bottom": null,
            "display": null,
            "flex": null,
            "flex_flow": null,
            "grid_area": null,
            "grid_auto_columns": null,
            "grid_auto_flow": null,
            "grid_auto_rows": null,
            "grid_column": null,
            "grid_gap": null,
            "grid_row": null,
            "grid_template_areas": null,
            "grid_template_columns": null,
            "grid_template_rows": null,
            "height": null,
            "justify_content": null,
            "justify_items": null,
            "left": null,
            "margin": null,
            "max_height": null,
            "max_width": null,
            "min_height": null,
            "min_width": null,
            "object_fit": null,
            "object_position": null,
            "order": null,
            "overflow": null,
            "overflow_x": null,
            "overflow_y": null,
            "padding": null,
            "right": null,
            "top": null,
            "visibility": null,
            "width": null
          }
        },
        "9fc1a208ff314ea1be6bebd34e10e646": {
          "model_module": "@jupyter-widgets/controls",
          "model_name": "DescriptionStyleModel",
          "model_module_version": "1.5.0",
          "state": {
            "_model_module": "@jupyter-widgets/controls",
            "_model_module_version": "1.5.0",
            "_model_name": "DescriptionStyleModel",
            "_view_count": null,
            "_view_module": "@jupyter-widgets/base",
            "_view_module_version": "1.2.0",
            "_view_name": "StyleView",
            "description_width": ""
          }
        },
        "c60c255c15d1465091d45916f32a9e3b": {
          "model_module": "@jupyter-widgets/controls",
          "model_name": "HBoxModel",
          "model_module_version": "1.5.0",
          "state": {
            "_dom_classes": [],
            "_model_module": "@jupyter-widgets/controls",
            "_model_module_version": "1.5.0",
            "_model_name": "HBoxModel",
            "_view_count": null,
            "_view_module": "@jupyter-widgets/controls",
            "_view_module_version": "1.5.0",
            "_view_name": "HBoxView",
            "box_style": "",
            "children": [
              "IPY_MODEL_d6c66574e81248b7840070f23eed08d2",
              "IPY_MODEL_0d267f4ff0104fa0a90c2e0856e6daca",
              "IPY_MODEL_e136b5fd452045b7b247f4a2c15a0746"
            ],
            "layout": "IPY_MODEL_b8c7c69cbce349d5aef68e2fa153b021"
          }
        },
        "d6c66574e81248b7840070f23eed08d2": {
          "model_module": "@jupyter-widgets/controls",
          "model_name": "HTMLModel",
          "model_module_version": "1.5.0",
          "state": {
            "_dom_classes": [],
            "_model_module": "@jupyter-widgets/controls",
            "_model_module_version": "1.5.0",
            "_model_name": "HTMLModel",
            "_view_count": null,
            "_view_module": "@jupyter-widgets/controls",
            "_view_module_version": "1.5.0",
            "_view_name": "HTMLView",
            "description": "",
            "description_tooltip": null,
            "layout": "IPY_MODEL_a2a8c9307dc4417e8b4e8621e5d2d156",
            "placeholder": "​",
            "style": "IPY_MODEL_4704466b7b694cd48380a3f8e61ccda2",
            "value": "tokenizer.json: 100%"
          }
        },
        "0d267f4ff0104fa0a90c2e0856e6daca": {
          "model_module": "@jupyter-widgets/controls",
          "model_name": "FloatProgressModel",
          "model_module_version": "1.5.0",
          "state": {
            "_dom_classes": [],
            "_model_module": "@jupyter-widgets/controls",
            "_model_module_version": "1.5.0",
            "_model_name": "FloatProgressModel",
            "_view_count": null,
            "_view_module": "@jupyter-widgets/controls",
            "_view_module_version": "1.5.0",
            "_view_name": "ProgressView",
            "bar_style": "success",
            "description": "",
            "description_tooltip": null,
            "layout": "IPY_MODEL_4fb4397d8d5747be86661767b6682bff",
            "max": 1961847,
            "min": 0,
            "orientation": "horizontal",
            "style": "IPY_MODEL_876c7b47f6214329bcfbc94000cdffd7",
            "value": 1961847
          }
        },
        "e136b5fd452045b7b247f4a2c15a0746": {
          "model_module": "@jupyter-widgets/controls",
          "model_name": "HTMLModel",
          "model_module_version": "1.5.0",
          "state": {
            "_dom_classes": [],
            "_model_module": "@jupyter-widgets/controls",
            "_model_module_version": "1.5.0",
            "_model_name": "HTMLModel",
            "_view_count": null,
            "_view_module": "@jupyter-widgets/controls",
            "_view_module_version": "1.5.0",
            "_view_name": "HTMLView",
            "description": "",
            "description_tooltip": null,
            "layout": "IPY_MODEL_4185fd800bc24f19838ffc2a5e2e390f",
            "placeholder": "​",
            "style": "IPY_MODEL_6411d36f59614d9083b6322cf96b538d",
            "value": " 1.96M/1.96M [00:00&lt;00:00, 8.68MB/s]"
          }
        },
        "b8c7c69cbce349d5aef68e2fa153b021": {
          "model_module": "@jupyter-widgets/base",
          "model_name": "LayoutModel",
          "model_module_version": "1.2.0",
          "state": {
            "_model_module": "@jupyter-widgets/base",
            "_model_module_version": "1.2.0",
            "_model_name": "LayoutModel",
            "_view_count": null,
            "_view_module": "@jupyter-widgets/base",
            "_view_module_version": "1.2.0",
            "_view_name": "LayoutView",
            "align_content": null,
            "align_items": null,
            "align_self": null,
            "border": null,
            "bottom": null,
            "display": null,
            "flex": null,
            "flex_flow": null,
            "grid_area": null,
            "grid_auto_columns": null,
            "grid_auto_flow": null,
            "grid_auto_rows": null,
            "grid_column": null,
            "grid_gap": null,
            "grid_row": null,
            "grid_template_areas": null,
            "grid_template_columns": null,
            "grid_template_rows": null,
            "height": null,
            "justify_content": null,
            "justify_items": null,
            "left": null,
            "margin": null,
            "max_height": null,
            "max_width": null,
            "min_height": null,
            "min_width": null,
            "object_fit": null,
            "object_position": null,
            "order": null,
            "overflow": null,
            "overflow_x": null,
            "overflow_y": null,
            "padding": null,
            "right": null,
            "top": null,
            "visibility": null,
            "width": null
          }
        },
        "a2a8c9307dc4417e8b4e8621e5d2d156": {
          "model_module": "@jupyter-widgets/base",
          "model_name": "LayoutModel",
          "model_module_version": "1.2.0",
          "state": {
            "_model_module": "@jupyter-widgets/base",
            "_model_module_version": "1.2.0",
            "_model_name": "LayoutModel",
            "_view_count": null,
            "_view_module": "@jupyter-widgets/base",
            "_view_module_version": "1.2.0",
            "_view_name": "LayoutView",
            "align_content": null,
            "align_items": null,
            "align_self": null,
            "border": null,
            "bottom": null,
            "display": null,
            "flex": null,
            "flex_flow": null,
            "grid_area": null,
            "grid_auto_columns": null,
            "grid_auto_flow": null,
            "grid_auto_rows": null,
            "grid_column": null,
            "grid_gap": null,
            "grid_row": null,
            "grid_template_areas": null,
            "grid_template_columns": null,
            "grid_template_rows": null,
            "height": null,
            "justify_content": null,
            "justify_items": null,
            "left": null,
            "margin": null,
            "max_height": null,
            "max_width": null,
            "min_height": null,
            "min_width": null,
            "object_fit": null,
            "object_position": null,
            "order": null,
            "overflow": null,
            "overflow_x": null,
            "overflow_y": null,
            "padding": null,
            "right": null,
            "top": null,
            "visibility": null,
            "width": null
          }
        },
        "4704466b7b694cd48380a3f8e61ccda2": {
          "model_module": "@jupyter-widgets/controls",
          "model_name": "DescriptionStyleModel",
          "model_module_version": "1.5.0",
          "state": {
            "_model_module": "@jupyter-widgets/controls",
            "_model_module_version": "1.5.0",
            "_model_name": "DescriptionStyleModel",
            "_view_count": null,
            "_view_module": "@jupyter-widgets/base",
            "_view_module_version": "1.2.0",
            "_view_name": "StyleView",
            "description_width": ""
          }
        },
        "4fb4397d8d5747be86661767b6682bff": {
          "model_module": "@jupyter-widgets/base",
          "model_name": "LayoutModel",
          "model_module_version": "1.2.0",
          "state": {
            "_model_module": "@jupyter-widgets/base",
            "_model_module_version": "1.2.0",
            "_model_name": "LayoutModel",
            "_view_count": null,
            "_view_module": "@jupyter-widgets/base",
            "_view_module_version": "1.2.0",
            "_view_name": "LayoutView",
            "align_content": null,
            "align_items": null,
            "align_self": null,
            "border": null,
            "bottom": null,
            "display": null,
            "flex": null,
            "flex_flow": null,
            "grid_area": null,
            "grid_auto_columns": null,
            "grid_auto_flow": null,
            "grid_auto_rows": null,
            "grid_column": null,
            "grid_gap": null,
            "grid_row": null,
            "grid_template_areas": null,
            "grid_template_columns": null,
            "grid_template_rows": null,
            "height": null,
            "justify_content": null,
            "justify_items": null,
            "left": null,
            "margin": null,
            "max_height": null,
            "max_width": null,
            "min_height": null,
            "min_width": null,
            "object_fit": null,
            "object_position": null,
            "order": null,
            "overflow": null,
            "overflow_x": null,
            "overflow_y": null,
            "padding": null,
            "right": null,
            "top": null,
            "visibility": null,
            "width": null
          }
        },
        "876c7b47f6214329bcfbc94000cdffd7": {
          "model_module": "@jupyter-widgets/controls",
          "model_name": "ProgressStyleModel",
          "model_module_version": "1.5.0",
          "state": {
            "_model_module": "@jupyter-widgets/controls",
            "_model_module_version": "1.5.0",
            "_model_name": "ProgressStyleModel",
            "_view_count": null,
            "_view_module": "@jupyter-widgets/base",
            "_view_module_version": "1.2.0",
            "_view_name": "StyleView",
            "bar_color": null,
            "description_width": ""
          }
        },
        "4185fd800bc24f19838ffc2a5e2e390f": {
          "model_module": "@jupyter-widgets/base",
          "model_name": "LayoutModel",
          "model_module_version": "1.2.0",
          "state": {
            "_model_module": "@jupyter-widgets/base",
            "_model_module_version": "1.2.0",
            "_model_name": "LayoutModel",
            "_view_count": null,
            "_view_module": "@jupyter-widgets/base",
            "_view_module_version": "1.2.0",
            "_view_name": "LayoutView",
            "align_content": null,
            "align_items": null,
            "align_self": null,
            "border": null,
            "bottom": null,
            "display": null,
            "flex": null,
            "flex_flow": null,
            "grid_area": null,
            "grid_auto_columns": null,
            "grid_auto_flow": null,
            "grid_auto_rows": null,
            "grid_column": null,
            "grid_gap": null,
            "grid_row": null,
            "grid_template_areas": null,
            "grid_template_columns": null,
            "grid_template_rows": null,
            "height": null,
            "justify_content": null,
            "justify_items": null,
            "left": null,
            "margin": null,
            "max_height": null,
            "max_width": null,
            "min_height": null,
            "min_width": null,
            "object_fit": null,
            "object_position": null,
            "order": null,
            "overflow": null,
            "overflow_x": null,
            "overflow_y": null,
            "padding": null,
            "right": null,
            "top": null,
            "visibility": null,
            "width": null
          }
        },
        "6411d36f59614d9083b6322cf96b538d": {
          "model_module": "@jupyter-widgets/controls",
          "model_name": "DescriptionStyleModel",
          "model_module_version": "1.5.0",
          "state": {
            "_model_module": "@jupyter-widgets/controls",
            "_model_module_version": "1.5.0",
            "_model_name": "DescriptionStyleModel",
            "_view_count": null,
            "_view_module": "@jupyter-widgets/base",
            "_view_module_version": "1.2.0",
            "_view_name": "StyleView",
            "description_width": ""
          }
        },
        "f458377a653c48e1aecb80189fcbc5b3": {
          "model_module": "@jupyter-widgets/controls",
          "model_name": "HBoxModel",
          "model_module_version": "1.5.0",
          "state": {
            "_dom_classes": [],
            "_model_module": "@jupyter-widgets/controls",
            "_model_module_version": "1.5.0",
            "_model_name": "HBoxModel",
            "_view_count": null,
            "_view_module": "@jupyter-widgets/controls",
            "_view_module_version": "1.5.0",
            "_view_name": "HBoxView",
            "box_style": "",
            "children": [
              "IPY_MODEL_713c8e243e80441a9b7c9ad09d61eb18",
              "IPY_MODEL_3934a6e23e434fa6923a4e5e53a788b4",
              "IPY_MODEL_30661870ed124972953fe3052ca45713"
            ],
            "layout": "IPY_MODEL_e8e81bd2f1514c208cb30006ba1b9442"
          }
        },
        "713c8e243e80441a9b7c9ad09d61eb18": {
          "model_module": "@jupyter-widgets/controls",
          "model_name": "HTMLModel",
          "model_module_version": "1.5.0",
          "state": {
            "_dom_classes": [],
            "_model_module": "@jupyter-widgets/controls",
            "_model_module_version": "1.5.0",
            "_model_name": "HTMLModel",
            "_view_count": null,
            "_view_module": "@jupyter-widgets/controls",
            "_view_module_version": "1.5.0",
            "_view_name": "HTMLView",
            "description": "",
            "description_tooltip": null,
            "layout": "IPY_MODEL_593a846b4be34871bcf1814b0dba15d9",
            "placeholder": "​",
            "style": "IPY_MODEL_c0b4147bdd864d21a06e755513b759cd",
            "value": "special_tokens_map.json: 100%"
          }
        },
        "3934a6e23e434fa6923a4e5e53a788b4": {
          "model_module": "@jupyter-widgets/controls",
          "model_name": "FloatProgressModel",
          "model_module_version": "1.5.0",
          "state": {
            "_dom_classes": [],
            "_model_module": "@jupyter-widgets/controls",
            "_model_module_version": "1.5.0",
            "_model_name": "FloatProgressModel",
            "_view_count": null,
            "_view_module": "@jupyter-widgets/controls",
            "_view_module_version": "1.5.0",
            "_view_name": "ProgressView",
            "bar_style": "success",
            "description": "",
            "description_tooltip": null,
            "layout": "IPY_MODEL_45934a89cb784cd29bd65c540bfe18ed",
            "max": 112,
            "min": 0,
            "orientation": "horizontal",
            "style": "IPY_MODEL_817d46af464c41f5b740fcb8c16c8f79",
            "value": 112
          }
        },
        "30661870ed124972953fe3052ca45713": {
          "model_module": "@jupyter-widgets/controls",
          "model_name": "HTMLModel",
          "model_module_version": "1.5.0",
          "state": {
            "_dom_classes": [],
            "_model_module": "@jupyter-widgets/controls",
            "_model_module_version": "1.5.0",
            "_model_name": "HTMLModel",
            "_view_count": null,
            "_view_module": "@jupyter-widgets/controls",
            "_view_module_version": "1.5.0",
            "_view_name": "HTMLView",
            "description": "",
            "description_tooltip": null,
            "layout": "IPY_MODEL_67189741f09d46359d0a80ba8bdf4325",
            "placeholder": "​",
            "style": "IPY_MODEL_47a46f13ad3948c7ad85bbeddaeb2458",
            "value": " 112/112 [00:00&lt;00:00, 1.38kB/s]"
          }
        },
        "e8e81bd2f1514c208cb30006ba1b9442": {
          "model_module": "@jupyter-widgets/base",
          "model_name": "LayoutModel",
          "model_module_version": "1.2.0",
          "state": {
            "_model_module": "@jupyter-widgets/base",
            "_model_module_version": "1.2.0",
            "_model_name": "LayoutModel",
            "_view_count": null,
            "_view_module": "@jupyter-widgets/base",
            "_view_module_version": "1.2.0",
            "_view_name": "LayoutView",
            "align_content": null,
            "align_items": null,
            "align_self": null,
            "border": null,
            "bottom": null,
            "display": null,
            "flex": null,
            "flex_flow": null,
            "grid_area": null,
            "grid_auto_columns": null,
            "grid_auto_flow": null,
            "grid_auto_rows": null,
            "grid_column": null,
            "grid_gap": null,
            "grid_row": null,
            "grid_template_areas": null,
            "grid_template_columns": null,
            "grid_template_rows": null,
            "height": null,
            "justify_content": null,
            "justify_items": null,
            "left": null,
            "margin": null,
            "max_height": null,
            "max_width": null,
            "min_height": null,
            "min_width": null,
            "object_fit": null,
            "object_position": null,
            "order": null,
            "overflow": null,
            "overflow_x": null,
            "overflow_y": null,
            "padding": null,
            "right": null,
            "top": null,
            "visibility": null,
            "width": null
          }
        },
        "593a846b4be34871bcf1814b0dba15d9": {
          "model_module": "@jupyter-widgets/base",
          "model_name": "LayoutModel",
          "model_module_version": "1.2.0",
          "state": {
            "_model_module": "@jupyter-widgets/base",
            "_model_module_version": "1.2.0",
            "_model_name": "LayoutModel",
            "_view_count": null,
            "_view_module": "@jupyter-widgets/base",
            "_view_module_version": "1.2.0",
            "_view_name": "LayoutView",
            "align_content": null,
            "align_items": null,
            "align_self": null,
            "border": null,
            "bottom": null,
            "display": null,
            "flex": null,
            "flex_flow": null,
            "grid_area": null,
            "grid_auto_columns": null,
            "grid_auto_flow": null,
            "grid_auto_rows": null,
            "grid_column": null,
            "grid_gap": null,
            "grid_row": null,
            "grid_template_areas": null,
            "grid_template_columns": null,
            "grid_template_rows": null,
            "height": null,
            "justify_content": null,
            "justify_items": null,
            "left": null,
            "margin": null,
            "max_height": null,
            "max_width": null,
            "min_height": null,
            "min_width": null,
            "object_fit": null,
            "object_position": null,
            "order": null,
            "overflow": null,
            "overflow_x": null,
            "overflow_y": null,
            "padding": null,
            "right": null,
            "top": null,
            "visibility": null,
            "width": null
          }
        },
        "c0b4147bdd864d21a06e755513b759cd": {
          "model_module": "@jupyter-widgets/controls",
          "model_name": "DescriptionStyleModel",
          "model_module_version": "1.5.0",
          "state": {
            "_model_module": "@jupyter-widgets/controls",
            "_model_module_version": "1.5.0",
            "_model_name": "DescriptionStyleModel",
            "_view_count": null,
            "_view_module": "@jupyter-widgets/base",
            "_view_module_version": "1.2.0",
            "_view_name": "StyleView",
            "description_width": ""
          }
        },
        "45934a89cb784cd29bd65c540bfe18ed": {
          "model_module": "@jupyter-widgets/base",
          "model_name": "LayoutModel",
          "model_module_version": "1.2.0",
          "state": {
            "_model_module": "@jupyter-widgets/base",
            "_model_module_version": "1.2.0",
            "_model_name": "LayoutModel",
            "_view_count": null,
            "_view_module": "@jupyter-widgets/base",
            "_view_module_version": "1.2.0",
            "_view_name": "LayoutView",
            "align_content": null,
            "align_items": null,
            "align_self": null,
            "border": null,
            "bottom": null,
            "display": null,
            "flex": null,
            "flex_flow": null,
            "grid_area": null,
            "grid_auto_columns": null,
            "grid_auto_flow": null,
            "grid_auto_rows": null,
            "grid_column": null,
            "grid_gap": null,
            "grid_row": null,
            "grid_template_areas": null,
            "grid_template_columns": null,
            "grid_template_rows": null,
            "height": null,
            "justify_content": null,
            "justify_items": null,
            "left": null,
            "margin": null,
            "max_height": null,
            "max_width": null,
            "min_height": null,
            "min_width": null,
            "object_fit": null,
            "object_position": null,
            "order": null,
            "overflow": null,
            "overflow_x": null,
            "overflow_y": null,
            "padding": null,
            "right": null,
            "top": null,
            "visibility": null,
            "width": null
          }
        },
        "817d46af464c41f5b740fcb8c16c8f79": {
          "model_module": "@jupyter-widgets/controls",
          "model_name": "ProgressStyleModel",
          "model_module_version": "1.5.0",
          "state": {
            "_model_module": "@jupyter-widgets/controls",
            "_model_module_version": "1.5.0",
            "_model_name": "ProgressStyleModel",
            "_view_count": null,
            "_view_module": "@jupyter-widgets/base",
            "_view_module_version": "1.2.0",
            "_view_name": "StyleView",
            "bar_color": null,
            "description_width": ""
          }
        },
        "67189741f09d46359d0a80ba8bdf4325": {
          "model_module": "@jupyter-widgets/base",
          "model_name": "LayoutModel",
          "model_module_version": "1.2.0",
          "state": {
            "_model_module": "@jupyter-widgets/base",
            "_model_module_version": "1.2.0",
            "_model_name": "LayoutModel",
            "_view_count": null,
            "_view_module": "@jupyter-widgets/base",
            "_view_module_version": "1.2.0",
            "_view_name": "LayoutView",
            "align_content": null,
            "align_items": null,
            "align_self": null,
            "border": null,
            "bottom": null,
            "display": null,
            "flex": null,
            "flex_flow": null,
            "grid_area": null,
            "grid_auto_columns": null,
            "grid_auto_flow": null,
            "grid_auto_rows": null,
            "grid_column": null,
            "grid_gap": null,
            "grid_row": null,
            "grid_template_areas": null,
            "grid_template_columns": null,
            "grid_template_rows": null,
            "height": null,
            "justify_content": null,
            "justify_items": null,
            "left": null,
            "margin": null,
            "max_height": null,
            "max_width": null,
            "min_height": null,
            "min_width": null,
            "object_fit": null,
            "object_position": null,
            "order": null,
            "overflow": null,
            "overflow_x": null,
            "overflow_y": null,
            "padding": null,
            "right": null,
            "top": null,
            "visibility": null,
            "width": null
          }
        },
        "47a46f13ad3948c7ad85bbeddaeb2458": {
          "model_module": "@jupyter-widgets/controls",
          "model_name": "DescriptionStyleModel",
          "model_module_version": "1.5.0",
          "state": {
            "_model_module": "@jupyter-widgets/controls",
            "_model_module_version": "1.5.0",
            "_model_name": "DescriptionStyleModel",
            "_view_count": null,
            "_view_module": "@jupyter-widgets/base",
            "_view_module_version": "1.2.0",
            "_view_name": "StyleView",
            "description_width": ""
          }
        },
        "bbd89987fcb34ea8af04af3225bd4f94": {
          "model_module": "@jupyter-widgets/controls",
          "model_name": "HBoxModel",
          "model_module_version": "1.5.0",
          "state": {
            "_dom_classes": [],
            "_model_module": "@jupyter-widgets/controls",
            "_model_module_version": "1.5.0",
            "_model_name": "HBoxModel",
            "_view_count": null,
            "_view_module": "@jupyter-widgets/controls",
            "_view_module_version": "1.5.0",
            "_view_name": "HBoxView",
            "box_style": "",
            "children": [
              "IPY_MODEL_7f5f0aa04e954b6bbe459f826105689b",
              "IPY_MODEL_3dfffdccaf2c4be29eacf2b601bdb8d8",
              "IPY_MODEL_d10acefbad604919ad868c8a291cdb8c"
            ],
            "layout": "IPY_MODEL_1b1b3b89fe734e3aa5e5e863986c1192"
          }
        },
        "7f5f0aa04e954b6bbe459f826105689b": {
          "model_module": "@jupyter-widgets/controls",
          "model_name": "HTMLModel",
          "model_module_version": "1.5.0",
          "state": {
            "_dom_classes": [],
            "_model_module": "@jupyter-widgets/controls",
            "_model_module_version": "1.5.0",
            "_model_name": "HTMLModel",
            "_view_count": null,
            "_view_module": "@jupyter-widgets/controls",
            "_view_module_version": "1.5.0",
            "_view_name": "HTMLView",
            "description": "",
            "description_tooltip": null,
            "layout": "IPY_MODEL_6fecc13c773e4821bf69748003a9af85",
            "placeholder": "​",
            "style": "IPY_MODEL_89e70825c1494e85898478ea76d02bad",
            "value": "1_Pooling/config.json: 100%"
          }
        },
        "3dfffdccaf2c4be29eacf2b601bdb8d8": {
          "model_module": "@jupyter-widgets/controls",
          "model_name": "FloatProgressModel",
          "model_module_version": "1.5.0",
          "state": {
            "_dom_classes": [],
            "_model_module": "@jupyter-widgets/controls",
            "_model_module_version": "1.5.0",
            "_model_name": "FloatProgressModel",
            "_view_count": null,
            "_view_module": "@jupyter-widgets/controls",
            "_view_module_version": "1.5.0",
            "_view_name": "ProgressView",
            "bar_style": "success",
            "description": "",
            "description_tooltip": null,
            "layout": "IPY_MODEL_0dd865dd82d24907802e47057c6cdda9",
            "max": 190,
            "min": 0,
            "orientation": "horizontal",
            "style": "IPY_MODEL_2c2984e35d0b4af4aa231cdeb6220f37",
            "value": 190
          }
        },
        "d10acefbad604919ad868c8a291cdb8c": {
          "model_module": "@jupyter-widgets/controls",
          "model_name": "HTMLModel",
          "model_module_version": "1.5.0",
          "state": {
            "_dom_classes": [],
            "_model_module": "@jupyter-widgets/controls",
            "_model_module_version": "1.5.0",
            "_model_name": "HTMLModel",
            "_view_count": null,
            "_view_module": "@jupyter-widgets/controls",
            "_view_module_version": "1.5.0",
            "_view_name": "HTMLView",
            "description": "",
            "description_tooltip": null,
            "layout": "IPY_MODEL_1ef5d9d0a56e444eaa89336cbfe6d712",
            "placeholder": "​",
            "style": "IPY_MODEL_f9e94eec0b2849e599145ea3efa4da9b",
            "value": " 190/190 [00:00&lt;00:00, 4.18kB/s]"
          }
        },
        "1b1b3b89fe734e3aa5e5e863986c1192": {
          "model_module": "@jupyter-widgets/base",
          "model_name": "LayoutModel",
          "model_module_version": "1.2.0",
          "state": {
            "_model_module": "@jupyter-widgets/base",
            "_model_module_version": "1.2.0",
            "_model_name": "LayoutModel",
            "_view_count": null,
            "_view_module": "@jupyter-widgets/base",
            "_view_module_version": "1.2.0",
            "_view_name": "LayoutView",
            "align_content": null,
            "align_items": null,
            "align_self": null,
            "border": null,
            "bottom": null,
            "display": null,
            "flex": null,
            "flex_flow": null,
            "grid_area": null,
            "grid_auto_columns": null,
            "grid_auto_flow": null,
            "grid_auto_rows": null,
            "grid_column": null,
            "grid_gap": null,
            "grid_row": null,
            "grid_template_areas": null,
            "grid_template_columns": null,
            "grid_template_rows": null,
            "height": null,
            "justify_content": null,
            "justify_items": null,
            "left": null,
            "margin": null,
            "max_height": null,
            "max_width": null,
            "min_height": null,
            "min_width": null,
            "object_fit": null,
            "object_position": null,
            "order": null,
            "overflow": null,
            "overflow_x": null,
            "overflow_y": null,
            "padding": null,
            "right": null,
            "top": null,
            "visibility": null,
            "width": null
          }
        },
        "6fecc13c773e4821bf69748003a9af85": {
          "model_module": "@jupyter-widgets/base",
          "model_name": "LayoutModel",
          "model_module_version": "1.2.0",
          "state": {
            "_model_module": "@jupyter-widgets/base",
            "_model_module_version": "1.2.0",
            "_model_name": "LayoutModel",
            "_view_count": null,
            "_view_module": "@jupyter-widgets/base",
            "_view_module_version": "1.2.0",
            "_view_name": "LayoutView",
            "align_content": null,
            "align_items": null,
            "align_self": null,
            "border": null,
            "bottom": null,
            "display": null,
            "flex": null,
            "flex_flow": null,
            "grid_area": null,
            "grid_auto_columns": null,
            "grid_auto_flow": null,
            "grid_auto_rows": null,
            "grid_column": null,
            "grid_gap": null,
            "grid_row": null,
            "grid_template_areas": null,
            "grid_template_columns": null,
            "grid_template_rows": null,
            "height": null,
            "justify_content": null,
            "justify_items": null,
            "left": null,
            "margin": null,
            "max_height": null,
            "max_width": null,
            "min_height": null,
            "min_width": null,
            "object_fit": null,
            "object_position": null,
            "order": null,
            "overflow": null,
            "overflow_x": null,
            "overflow_y": null,
            "padding": null,
            "right": null,
            "top": null,
            "visibility": null,
            "width": null
          }
        },
        "89e70825c1494e85898478ea76d02bad": {
          "model_module": "@jupyter-widgets/controls",
          "model_name": "DescriptionStyleModel",
          "model_module_version": "1.5.0",
          "state": {
            "_model_module": "@jupyter-widgets/controls",
            "_model_module_version": "1.5.0",
            "_model_name": "DescriptionStyleModel",
            "_view_count": null,
            "_view_module": "@jupyter-widgets/base",
            "_view_module_version": "1.2.0",
            "_view_name": "StyleView",
            "description_width": ""
          }
        },
        "0dd865dd82d24907802e47057c6cdda9": {
          "model_module": "@jupyter-widgets/base",
          "model_name": "LayoutModel",
          "model_module_version": "1.2.0",
          "state": {
            "_model_module": "@jupyter-widgets/base",
            "_model_module_version": "1.2.0",
            "_model_name": "LayoutModel",
            "_view_count": null,
            "_view_module": "@jupyter-widgets/base",
            "_view_module_version": "1.2.0",
            "_view_name": "LayoutView",
            "align_content": null,
            "align_items": null,
            "align_self": null,
            "border": null,
            "bottom": null,
            "display": null,
            "flex": null,
            "flex_flow": null,
            "grid_area": null,
            "grid_auto_columns": null,
            "grid_auto_flow": null,
            "grid_auto_rows": null,
            "grid_column": null,
            "grid_gap": null,
            "grid_row": null,
            "grid_template_areas": null,
            "grid_template_columns": null,
            "grid_template_rows": null,
            "height": null,
            "justify_content": null,
            "justify_items": null,
            "left": null,
            "margin": null,
            "max_height": null,
            "max_width": null,
            "min_height": null,
            "min_width": null,
            "object_fit": null,
            "object_position": null,
            "order": null,
            "overflow": null,
            "overflow_x": null,
            "overflow_y": null,
            "padding": null,
            "right": null,
            "top": null,
            "visibility": null,
            "width": null
          }
        },
        "2c2984e35d0b4af4aa231cdeb6220f37": {
          "model_module": "@jupyter-widgets/controls",
          "model_name": "ProgressStyleModel",
          "model_module_version": "1.5.0",
          "state": {
            "_model_module": "@jupyter-widgets/controls",
            "_model_module_version": "1.5.0",
            "_model_name": "ProgressStyleModel",
            "_view_count": null,
            "_view_module": "@jupyter-widgets/base",
            "_view_module_version": "1.2.0",
            "_view_name": "StyleView",
            "bar_color": null,
            "description_width": ""
          }
        },
        "1ef5d9d0a56e444eaa89336cbfe6d712": {
          "model_module": "@jupyter-widgets/base",
          "model_name": "LayoutModel",
          "model_module_version": "1.2.0",
          "state": {
            "_model_module": "@jupyter-widgets/base",
            "_model_module_version": "1.2.0",
            "_model_name": "LayoutModel",
            "_view_count": null,
            "_view_module": "@jupyter-widgets/base",
            "_view_module_version": "1.2.0",
            "_view_name": "LayoutView",
            "align_content": null,
            "align_items": null,
            "align_self": null,
            "border": null,
            "bottom": null,
            "display": null,
            "flex": null,
            "flex_flow": null,
            "grid_area": null,
            "grid_auto_columns": null,
            "grid_auto_flow": null,
            "grid_auto_rows": null,
            "grid_column": null,
            "grid_gap": null,
            "grid_row": null,
            "grid_template_areas": null,
            "grid_template_columns": null,
            "grid_template_rows": null,
            "height": null,
            "justify_content": null,
            "justify_items": null,
            "left": null,
            "margin": null,
            "max_height": null,
            "max_width": null,
            "min_height": null,
            "min_width": null,
            "object_fit": null,
            "object_position": null,
            "order": null,
            "overflow": null,
            "overflow_x": null,
            "overflow_y": null,
            "padding": null,
            "right": null,
            "top": null,
            "visibility": null,
            "width": null
          }
        },
        "f9e94eec0b2849e599145ea3efa4da9b": {
          "model_module": "@jupyter-widgets/controls",
          "model_name": "DescriptionStyleModel",
          "model_module_version": "1.5.0",
          "state": {
            "_model_module": "@jupyter-widgets/controls",
            "_model_module_version": "1.5.0",
            "_model_name": "DescriptionStyleModel",
            "_view_count": null,
            "_view_module": "@jupyter-widgets/base",
            "_view_module_version": "1.2.0",
            "_view_name": "StyleView",
            "description_width": ""
          }
        },
        "117d96bd47cd451bb47e3e6b02efbf63": {
          "model_module": "@jupyter-widgets/controls",
          "model_name": "HBoxModel",
          "model_module_version": "1.5.0",
          "state": {
            "_dom_classes": [],
            "_model_module": "@jupyter-widgets/controls",
            "_model_module_version": "1.5.0",
            "_model_name": "HBoxModel",
            "_view_count": null,
            "_view_module": "@jupyter-widgets/controls",
            "_view_module_version": "1.5.0",
            "_view_name": "HBoxView",
            "box_style": "",
            "children": [
              "IPY_MODEL_ba852090677f4039b4b4a204bd4f0a21",
              "IPY_MODEL_4df57f24edf940a59bda76621099d406",
              "IPY_MODEL_545a2839b920424b98de31172bccf412"
            ],
            "layout": "IPY_MODEL_dca9ffe353c24b97ad78df1344d985ec"
          }
        },
        "ba852090677f4039b4b4a204bd4f0a21": {
          "model_module": "@jupyter-widgets/controls",
          "model_name": "HTMLModel",
          "model_module_version": "1.5.0",
          "state": {
            "_dom_classes": [],
            "_model_module": "@jupyter-widgets/controls",
            "_model_module_version": "1.5.0",
            "_model_name": "HTMLModel",
            "_view_count": null,
            "_view_module": "@jupyter-widgets/controls",
            "_view_module_version": "1.5.0",
            "_view_name": "HTMLView",
            "description": "",
            "description_tooltip": null,
            "layout": "IPY_MODEL_f6be5ead66d34b0c89a06899f06a5eca",
            "placeholder": "​",
            "style": "IPY_MODEL_7a25b5ebfd4048e08521a42663c63c34",
            "value": "2_Dense/config.json: 100%"
          }
        },
        "4df57f24edf940a59bda76621099d406": {
          "model_module": "@jupyter-widgets/controls",
          "model_name": "FloatProgressModel",
          "model_module_version": "1.5.0",
          "state": {
            "_dom_classes": [],
            "_model_module": "@jupyter-widgets/controls",
            "_model_module_version": "1.5.0",
            "_model_name": "FloatProgressModel",
            "_view_count": null,
            "_view_module": "@jupyter-widgets/controls",
            "_view_module_version": "1.5.0",
            "_view_name": "ProgressView",
            "bar_style": "success",
            "description": "",
            "description_tooltip": null,
            "layout": "IPY_MODEL_e9b02415c9ef4a38bc33bd50aecc44c0",
            "max": 114,
            "min": 0,
            "orientation": "horizontal",
            "style": "IPY_MODEL_08d44fd587544b4a8015f4c38495514f",
            "value": 114
          }
        },
        "545a2839b920424b98de31172bccf412": {
          "model_module": "@jupyter-widgets/controls",
          "model_name": "HTMLModel",
          "model_module_version": "1.5.0",
          "state": {
            "_dom_classes": [],
            "_model_module": "@jupyter-widgets/controls",
            "_model_module_version": "1.5.0",
            "_model_name": "HTMLModel",
            "_view_count": null,
            "_view_module": "@jupyter-widgets/controls",
            "_view_module_version": "1.5.0",
            "_view_name": "HTMLView",
            "description": "",
            "description_tooltip": null,
            "layout": "IPY_MODEL_aef79ed17b844de29dc3c6513f027323",
            "placeholder": "​",
            "style": "IPY_MODEL_b438ca299f2f46d1b82d1aec6626aab5",
            "value": " 114/114 [00:00&lt;00:00, 946B/s]"
          }
        },
        "dca9ffe353c24b97ad78df1344d985ec": {
          "model_module": "@jupyter-widgets/base",
          "model_name": "LayoutModel",
          "model_module_version": "1.2.0",
          "state": {
            "_model_module": "@jupyter-widgets/base",
            "_model_module_version": "1.2.0",
            "_model_name": "LayoutModel",
            "_view_count": null,
            "_view_module": "@jupyter-widgets/base",
            "_view_module_version": "1.2.0",
            "_view_name": "LayoutView",
            "align_content": null,
            "align_items": null,
            "align_self": null,
            "border": null,
            "bottom": null,
            "display": null,
            "flex": null,
            "flex_flow": null,
            "grid_area": null,
            "grid_auto_columns": null,
            "grid_auto_flow": null,
            "grid_auto_rows": null,
            "grid_column": null,
            "grid_gap": null,
            "grid_row": null,
            "grid_template_areas": null,
            "grid_template_columns": null,
            "grid_template_rows": null,
            "height": null,
            "justify_content": null,
            "justify_items": null,
            "left": null,
            "margin": null,
            "max_height": null,
            "max_width": null,
            "min_height": null,
            "min_width": null,
            "object_fit": null,
            "object_position": null,
            "order": null,
            "overflow": null,
            "overflow_x": null,
            "overflow_y": null,
            "padding": null,
            "right": null,
            "top": null,
            "visibility": null,
            "width": null
          }
        },
        "f6be5ead66d34b0c89a06899f06a5eca": {
          "model_module": "@jupyter-widgets/base",
          "model_name": "LayoutModel",
          "model_module_version": "1.2.0",
          "state": {
            "_model_module": "@jupyter-widgets/base",
            "_model_module_version": "1.2.0",
            "_model_name": "LayoutModel",
            "_view_count": null,
            "_view_module": "@jupyter-widgets/base",
            "_view_module_version": "1.2.0",
            "_view_name": "LayoutView",
            "align_content": null,
            "align_items": null,
            "align_self": null,
            "border": null,
            "bottom": null,
            "display": null,
            "flex": null,
            "flex_flow": null,
            "grid_area": null,
            "grid_auto_columns": null,
            "grid_auto_flow": null,
            "grid_auto_rows": null,
            "grid_column": null,
            "grid_gap": null,
            "grid_row": null,
            "grid_template_areas": null,
            "grid_template_columns": null,
            "grid_template_rows": null,
            "height": null,
            "justify_content": null,
            "justify_items": null,
            "left": null,
            "margin": null,
            "max_height": null,
            "max_width": null,
            "min_height": null,
            "min_width": null,
            "object_fit": null,
            "object_position": null,
            "order": null,
            "overflow": null,
            "overflow_x": null,
            "overflow_y": null,
            "padding": null,
            "right": null,
            "top": null,
            "visibility": null,
            "width": null
          }
        },
        "7a25b5ebfd4048e08521a42663c63c34": {
          "model_module": "@jupyter-widgets/controls",
          "model_name": "DescriptionStyleModel",
          "model_module_version": "1.5.0",
          "state": {
            "_model_module": "@jupyter-widgets/controls",
            "_model_module_version": "1.5.0",
            "_model_name": "DescriptionStyleModel",
            "_view_count": null,
            "_view_module": "@jupyter-widgets/base",
            "_view_module_version": "1.2.0",
            "_view_name": "StyleView",
            "description_width": ""
          }
        },
        "e9b02415c9ef4a38bc33bd50aecc44c0": {
          "model_module": "@jupyter-widgets/base",
          "model_name": "LayoutModel",
          "model_module_version": "1.2.0",
          "state": {
            "_model_module": "@jupyter-widgets/base",
            "_model_module_version": "1.2.0",
            "_model_name": "LayoutModel",
            "_view_count": null,
            "_view_module": "@jupyter-widgets/base",
            "_view_module_version": "1.2.0",
            "_view_name": "LayoutView",
            "align_content": null,
            "align_items": null,
            "align_self": null,
            "border": null,
            "bottom": null,
            "display": null,
            "flex": null,
            "flex_flow": null,
            "grid_area": null,
            "grid_auto_columns": null,
            "grid_auto_flow": null,
            "grid_auto_rows": null,
            "grid_column": null,
            "grid_gap": null,
            "grid_row": null,
            "grid_template_areas": null,
            "grid_template_columns": null,
            "grid_template_rows": null,
            "height": null,
            "justify_content": null,
            "justify_items": null,
            "left": null,
            "margin": null,
            "max_height": null,
            "max_width": null,
            "min_height": null,
            "min_width": null,
            "object_fit": null,
            "object_position": null,
            "order": null,
            "overflow": null,
            "overflow_x": null,
            "overflow_y": null,
            "padding": null,
            "right": null,
            "top": null,
            "visibility": null,
            "width": null
          }
        },
        "08d44fd587544b4a8015f4c38495514f": {
          "model_module": "@jupyter-widgets/controls",
          "model_name": "ProgressStyleModel",
          "model_module_version": "1.5.0",
          "state": {
            "_model_module": "@jupyter-widgets/controls",
            "_model_module_version": "1.5.0",
            "_model_name": "ProgressStyleModel",
            "_view_count": null,
            "_view_module": "@jupyter-widgets/base",
            "_view_module_version": "1.2.0",
            "_view_name": "StyleView",
            "bar_color": null,
            "description_width": ""
          }
        },
        "aef79ed17b844de29dc3c6513f027323": {
          "model_module": "@jupyter-widgets/base",
          "model_name": "LayoutModel",
          "model_module_version": "1.2.0",
          "state": {
            "_model_module": "@jupyter-widgets/base",
            "_model_module_version": "1.2.0",
            "_model_name": "LayoutModel",
            "_view_count": null,
            "_view_module": "@jupyter-widgets/base",
            "_view_module_version": "1.2.0",
            "_view_name": "LayoutView",
            "align_content": null,
            "align_items": null,
            "align_self": null,
            "border": null,
            "bottom": null,
            "display": null,
            "flex": null,
            "flex_flow": null,
            "grid_area": null,
            "grid_auto_columns": null,
            "grid_auto_flow": null,
            "grid_auto_rows": null,
            "grid_column": null,
            "grid_gap": null,
            "grid_row": null,
            "grid_template_areas": null,
            "grid_template_columns": null,
            "grid_template_rows": null,
            "height": null,
            "justify_content": null,
            "justify_items": null,
            "left": null,
            "margin": null,
            "max_height": null,
            "max_width": null,
            "min_height": null,
            "min_width": null,
            "object_fit": null,
            "object_position": null,
            "order": null,
            "overflow": null,
            "overflow_x": null,
            "overflow_y": null,
            "padding": null,
            "right": null,
            "top": null,
            "visibility": null,
            "width": null
          }
        },
        "b438ca299f2f46d1b82d1aec6626aab5": {
          "model_module": "@jupyter-widgets/controls",
          "model_name": "DescriptionStyleModel",
          "model_module_version": "1.5.0",
          "state": {
            "_model_module": "@jupyter-widgets/controls",
            "_model_module_version": "1.5.0",
            "_model_name": "DescriptionStyleModel",
            "_view_count": null,
            "_view_module": "@jupyter-widgets/base",
            "_view_module_version": "1.2.0",
            "_view_name": "StyleView",
            "description_width": ""
          }
        },
        "d1231a07f7ab44edbb86e3f66b0ca884": {
          "model_module": "@jupyter-widgets/controls",
          "model_name": "HBoxModel",
          "model_module_version": "1.5.0",
          "state": {
            "_dom_classes": [],
            "_model_module": "@jupyter-widgets/controls",
            "_model_module_version": "1.5.0",
            "_model_name": "HBoxModel",
            "_view_count": null,
            "_view_module": "@jupyter-widgets/controls",
            "_view_module_version": "1.5.0",
            "_view_name": "HBoxView",
            "box_style": "",
            "children": [
              "IPY_MODEL_c526a7a875014451aa4f3564c0dbdbfc",
              "IPY_MODEL_eb435bb16b064df691db8a496548d635",
              "IPY_MODEL_1d6ab1f4a60a4246b2bb3c03a132210a"
            ],
            "layout": "IPY_MODEL_b976389e06fd45fe80f387ffc43c0c04"
          }
        },
        "c526a7a875014451aa4f3564c0dbdbfc": {
          "model_module": "@jupyter-widgets/controls",
          "model_name": "HTMLModel",
          "model_module_version": "1.5.0",
          "state": {
            "_dom_classes": [],
            "_model_module": "@jupyter-widgets/controls",
            "_model_module_version": "1.5.0",
            "_model_name": "HTMLModel",
            "_view_count": null,
            "_view_module": "@jupyter-widgets/controls",
            "_view_module_version": "1.5.0",
            "_view_name": "HTMLView",
            "description": "",
            "description_tooltip": null,
            "layout": "IPY_MODEL_52b9c9511da04f6b80e7dea69873b17c",
            "placeholder": "​",
            "style": "IPY_MODEL_44e78e54231b4662b4585615f6fc0193",
            "value": "pytorch_model.bin: 100%"
          }
        },
        "eb435bb16b064df691db8a496548d635": {
          "model_module": "@jupyter-widgets/controls",
          "model_name": "FloatProgressModel",
          "model_module_version": "1.5.0",
          "state": {
            "_dom_classes": [],
            "_model_module": "@jupyter-widgets/controls",
            "_model_module_version": "1.5.0",
            "_model_name": "FloatProgressModel",
            "_view_count": null,
            "_view_module": "@jupyter-widgets/controls",
            "_view_module_version": "1.5.0",
            "_view_name": "ProgressView",
            "bar_style": "success",
            "description": "",
            "description_tooltip": null,
            "layout": "IPY_MODEL_f115e38d66fc41e894fac42155775fb7",
            "max": 1575975,
            "min": 0,
            "orientation": "horizontal",
            "style": "IPY_MODEL_73fe615ffc0246669d521fc9ea99f236",
            "value": 1575975
          }
        },
        "1d6ab1f4a60a4246b2bb3c03a132210a": {
          "model_module": "@jupyter-widgets/controls",
          "model_name": "HTMLModel",
          "model_module_version": "1.5.0",
          "state": {
            "_dom_classes": [],
            "_model_module": "@jupyter-widgets/controls",
            "_model_module_version": "1.5.0",
            "_model_name": "HTMLModel",
            "_view_count": null,
            "_view_module": "@jupyter-widgets/controls",
            "_view_module_version": "1.5.0",
            "_view_name": "HTMLView",
            "description": "",
            "description_tooltip": null,
            "layout": "IPY_MODEL_ef0c89638a894bd49b1321fa78b00e7f",
            "placeholder": "​",
            "style": "IPY_MODEL_c3f383684caa454f82343777feae0611",
            "value": " 1.58M/1.58M [00:00&lt;00:00, 3.69MB/s]"
          }
        },
        "b976389e06fd45fe80f387ffc43c0c04": {
          "model_module": "@jupyter-widgets/base",
          "model_name": "LayoutModel",
          "model_module_version": "1.2.0",
          "state": {
            "_model_module": "@jupyter-widgets/base",
            "_model_module_version": "1.2.0",
            "_model_name": "LayoutModel",
            "_view_count": null,
            "_view_module": "@jupyter-widgets/base",
            "_view_module_version": "1.2.0",
            "_view_name": "LayoutView",
            "align_content": null,
            "align_items": null,
            "align_self": null,
            "border": null,
            "bottom": null,
            "display": null,
            "flex": null,
            "flex_flow": null,
            "grid_area": null,
            "grid_auto_columns": null,
            "grid_auto_flow": null,
            "grid_auto_rows": null,
            "grid_column": null,
            "grid_gap": null,
            "grid_row": null,
            "grid_template_areas": null,
            "grid_template_columns": null,
            "grid_template_rows": null,
            "height": null,
            "justify_content": null,
            "justify_items": null,
            "left": null,
            "margin": null,
            "max_height": null,
            "max_width": null,
            "min_height": null,
            "min_width": null,
            "object_fit": null,
            "object_position": null,
            "order": null,
            "overflow": null,
            "overflow_x": null,
            "overflow_y": null,
            "padding": null,
            "right": null,
            "top": null,
            "visibility": null,
            "width": null
          }
        },
        "52b9c9511da04f6b80e7dea69873b17c": {
          "model_module": "@jupyter-widgets/base",
          "model_name": "LayoutModel",
          "model_module_version": "1.2.0",
          "state": {
            "_model_module": "@jupyter-widgets/base",
            "_model_module_version": "1.2.0",
            "_model_name": "LayoutModel",
            "_view_count": null,
            "_view_module": "@jupyter-widgets/base",
            "_view_module_version": "1.2.0",
            "_view_name": "LayoutView",
            "align_content": null,
            "align_items": null,
            "align_self": null,
            "border": null,
            "bottom": null,
            "display": null,
            "flex": null,
            "flex_flow": null,
            "grid_area": null,
            "grid_auto_columns": null,
            "grid_auto_flow": null,
            "grid_auto_rows": null,
            "grid_column": null,
            "grid_gap": null,
            "grid_row": null,
            "grid_template_areas": null,
            "grid_template_columns": null,
            "grid_template_rows": null,
            "height": null,
            "justify_content": null,
            "justify_items": null,
            "left": null,
            "margin": null,
            "max_height": null,
            "max_width": null,
            "min_height": null,
            "min_width": null,
            "object_fit": null,
            "object_position": null,
            "order": null,
            "overflow": null,
            "overflow_x": null,
            "overflow_y": null,
            "padding": null,
            "right": null,
            "top": null,
            "visibility": null,
            "width": null
          }
        },
        "44e78e54231b4662b4585615f6fc0193": {
          "model_module": "@jupyter-widgets/controls",
          "model_name": "DescriptionStyleModel",
          "model_module_version": "1.5.0",
          "state": {
            "_model_module": "@jupyter-widgets/controls",
            "_model_module_version": "1.5.0",
            "_model_name": "DescriptionStyleModel",
            "_view_count": null,
            "_view_module": "@jupyter-widgets/base",
            "_view_module_version": "1.2.0",
            "_view_name": "StyleView",
            "description_width": ""
          }
        },
        "f115e38d66fc41e894fac42155775fb7": {
          "model_module": "@jupyter-widgets/base",
          "model_name": "LayoutModel",
          "model_module_version": "1.2.0",
          "state": {
            "_model_module": "@jupyter-widgets/base",
            "_model_module_version": "1.2.0",
            "_model_name": "LayoutModel",
            "_view_count": null,
            "_view_module": "@jupyter-widgets/base",
            "_view_module_version": "1.2.0",
            "_view_name": "LayoutView",
            "align_content": null,
            "align_items": null,
            "align_self": null,
            "border": null,
            "bottom": null,
            "display": null,
            "flex": null,
            "flex_flow": null,
            "grid_area": null,
            "grid_auto_columns": null,
            "grid_auto_flow": null,
            "grid_auto_rows": null,
            "grid_column": null,
            "grid_gap": null,
            "grid_row": null,
            "grid_template_areas": null,
            "grid_template_columns": null,
            "grid_template_rows": null,
            "height": null,
            "justify_content": null,
            "justify_items": null,
            "left": null,
            "margin": null,
            "max_height": null,
            "max_width": null,
            "min_height": null,
            "min_width": null,
            "object_fit": null,
            "object_position": null,
            "order": null,
            "overflow": null,
            "overflow_x": null,
            "overflow_y": null,
            "padding": null,
            "right": null,
            "top": null,
            "visibility": null,
            "width": null
          }
        },
        "73fe615ffc0246669d521fc9ea99f236": {
          "model_module": "@jupyter-widgets/controls",
          "model_name": "ProgressStyleModel",
          "model_module_version": "1.5.0",
          "state": {
            "_model_module": "@jupyter-widgets/controls",
            "_model_module_version": "1.5.0",
            "_model_name": "ProgressStyleModel",
            "_view_count": null,
            "_view_module": "@jupyter-widgets/base",
            "_view_module_version": "1.2.0",
            "_view_name": "StyleView",
            "bar_color": null,
            "description_width": ""
          }
        },
        "ef0c89638a894bd49b1321fa78b00e7f": {
          "model_module": "@jupyter-widgets/base",
          "model_name": "LayoutModel",
          "model_module_version": "1.2.0",
          "state": {
            "_model_module": "@jupyter-widgets/base",
            "_model_module_version": "1.2.0",
            "_model_name": "LayoutModel",
            "_view_count": null,
            "_view_module": "@jupyter-widgets/base",
            "_view_module_version": "1.2.0",
            "_view_name": "LayoutView",
            "align_content": null,
            "align_items": null,
            "align_self": null,
            "border": null,
            "bottom": null,
            "display": null,
            "flex": null,
            "flex_flow": null,
            "grid_area": null,
            "grid_auto_columns": null,
            "grid_auto_flow": null,
            "grid_auto_rows": null,
            "grid_column": null,
            "grid_gap": null,
            "grid_row": null,
            "grid_template_areas": null,
            "grid_template_columns": null,
            "grid_template_rows": null,
            "height": null,
            "justify_content": null,
            "justify_items": null,
            "left": null,
            "margin": null,
            "max_height": null,
            "max_width": null,
            "min_height": null,
            "min_width": null,
            "object_fit": null,
            "object_position": null,
            "order": null,
            "overflow": null,
            "overflow_x": null,
            "overflow_y": null,
            "padding": null,
            "right": null,
            "top": null,
            "visibility": null,
            "width": null
          }
        },
        "c3f383684caa454f82343777feae0611": {
          "model_module": "@jupyter-widgets/controls",
          "model_name": "DescriptionStyleModel",
          "model_module_version": "1.5.0",
          "state": {
            "_model_module": "@jupyter-widgets/controls",
            "_model_module_version": "1.5.0",
            "_model_name": "DescriptionStyleModel",
            "_view_count": null,
            "_view_module": "@jupyter-widgets/base",
            "_view_module_version": "1.2.0",
            "_view_name": "StyleView",
            "description_width": ""
          }
        },
        "3a2e36e3895b4363a5f2207ce1696b4d": {
          "model_module": "@jupyter-widgets/controls",
          "model_name": "HBoxModel",
          "model_module_version": "1.5.0",
          "state": {
            "_dom_classes": [],
            "_model_module": "@jupyter-widgets/controls",
            "_model_module_version": "1.5.0",
            "_model_name": "HBoxModel",
            "_view_count": null,
            "_view_module": "@jupyter-widgets/controls",
            "_view_module_version": "1.5.0",
            "_view_name": "HBoxView",
            "box_style": "",
            "children": [
              "IPY_MODEL_58522ad1fce54278b53c23aafdc29f5e",
              "IPY_MODEL_a6534c54956048a18a0dd92764df2fd0",
              "IPY_MODEL_796eae03d84042e1a8a026038f22db55"
            ],
            "layout": "IPY_MODEL_15bd7c310be744b18c578096c2736165"
          }
        },
        "58522ad1fce54278b53c23aafdc29f5e": {
          "model_module": "@jupyter-widgets/controls",
          "model_name": "HTMLModel",
          "model_module_version": "1.5.0",
          "state": {
            "_dom_classes": [],
            "_model_module": "@jupyter-widgets/controls",
            "_model_module_version": "1.5.0",
            "_model_name": "HTMLModel",
            "_view_count": null,
            "_view_module": "@jupyter-widgets/controls",
            "_view_module_version": "1.5.0",
            "_view_name": "HTMLView",
            "description": "",
            "description_tooltip": null,
            "layout": "IPY_MODEL_4b859ce742ca4f09ada311d143b159dc",
            "placeholder": "​",
            "style": "IPY_MODEL_aad02dd938f84f9bbfb81261cadbcaa8",
            "value": "model.safetensors: 100%"
          }
        },
        "a6534c54956048a18a0dd92764df2fd0": {
          "model_module": "@jupyter-widgets/controls",
          "model_name": "FloatProgressModel",
          "model_module_version": "1.5.0",
          "state": {
            "_dom_classes": [],
            "_model_module": "@jupyter-widgets/controls",
            "_model_module_version": "1.5.0",
            "_model_name": "FloatProgressModel",
            "_view_count": null,
            "_view_module": "@jupyter-widgets/controls",
            "_view_module_version": "1.5.0",
            "_view_name": "ProgressView",
            "bar_style": "success",
            "description": "",
            "description_tooltip": null,
            "layout": "IPY_MODEL_4403344311d94aa8a3f2f0acf75ff834",
            "max": 1575104,
            "min": 0,
            "orientation": "horizontal",
            "style": "IPY_MODEL_d0136e1cf7ca4d83af00acbf399649f3",
            "value": 1575104
          }
        },
        "796eae03d84042e1a8a026038f22db55": {
          "model_module": "@jupyter-widgets/controls",
          "model_name": "HTMLModel",
          "model_module_version": "1.5.0",
          "state": {
            "_dom_classes": [],
            "_model_module": "@jupyter-widgets/controls",
            "_model_module_version": "1.5.0",
            "_model_name": "HTMLModel",
            "_view_count": null,
            "_view_module": "@jupyter-widgets/controls",
            "_view_module_version": "1.5.0",
            "_view_name": "HTMLView",
            "description": "",
            "description_tooltip": null,
            "layout": "IPY_MODEL_aa84034d9d204bf2850bfe894cee0cc5",
            "placeholder": "​",
            "style": "IPY_MODEL_edb366ef9e79432dab9700369c0d36b9",
            "value": " 1.58M/1.58M [00:00&lt;00:00, 5.15MB/s]"
          }
        },
        "15bd7c310be744b18c578096c2736165": {
          "model_module": "@jupyter-widgets/base",
          "model_name": "LayoutModel",
          "model_module_version": "1.2.0",
          "state": {
            "_model_module": "@jupyter-widgets/base",
            "_model_module_version": "1.2.0",
            "_model_name": "LayoutModel",
            "_view_count": null,
            "_view_module": "@jupyter-widgets/base",
            "_view_module_version": "1.2.0",
            "_view_name": "LayoutView",
            "align_content": null,
            "align_items": null,
            "align_self": null,
            "border": null,
            "bottom": null,
            "display": null,
            "flex": null,
            "flex_flow": null,
            "grid_area": null,
            "grid_auto_columns": null,
            "grid_auto_flow": null,
            "grid_auto_rows": null,
            "grid_column": null,
            "grid_gap": null,
            "grid_row": null,
            "grid_template_areas": null,
            "grid_template_columns": null,
            "grid_template_rows": null,
            "height": null,
            "justify_content": null,
            "justify_items": null,
            "left": null,
            "margin": null,
            "max_height": null,
            "max_width": null,
            "min_height": null,
            "min_width": null,
            "object_fit": null,
            "object_position": null,
            "order": null,
            "overflow": null,
            "overflow_x": null,
            "overflow_y": null,
            "padding": null,
            "right": null,
            "top": null,
            "visibility": null,
            "width": null
          }
        },
        "4b859ce742ca4f09ada311d143b159dc": {
          "model_module": "@jupyter-widgets/base",
          "model_name": "LayoutModel",
          "model_module_version": "1.2.0",
          "state": {
            "_model_module": "@jupyter-widgets/base",
            "_model_module_version": "1.2.0",
            "_model_name": "LayoutModel",
            "_view_count": null,
            "_view_module": "@jupyter-widgets/base",
            "_view_module_version": "1.2.0",
            "_view_name": "LayoutView",
            "align_content": null,
            "align_items": null,
            "align_self": null,
            "border": null,
            "bottom": null,
            "display": null,
            "flex": null,
            "flex_flow": null,
            "grid_area": null,
            "grid_auto_columns": null,
            "grid_auto_flow": null,
            "grid_auto_rows": null,
            "grid_column": null,
            "grid_gap": null,
            "grid_row": null,
            "grid_template_areas": null,
            "grid_template_columns": null,
            "grid_template_rows": null,
            "height": null,
            "justify_content": null,
            "justify_items": null,
            "left": null,
            "margin": null,
            "max_height": null,
            "max_width": null,
            "min_height": null,
            "min_width": null,
            "object_fit": null,
            "object_position": null,
            "order": null,
            "overflow": null,
            "overflow_x": null,
            "overflow_y": null,
            "padding": null,
            "right": null,
            "top": null,
            "visibility": null,
            "width": null
          }
        },
        "aad02dd938f84f9bbfb81261cadbcaa8": {
          "model_module": "@jupyter-widgets/controls",
          "model_name": "DescriptionStyleModel",
          "model_module_version": "1.5.0",
          "state": {
            "_model_module": "@jupyter-widgets/controls",
            "_model_module_version": "1.5.0",
            "_model_name": "DescriptionStyleModel",
            "_view_count": null,
            "_view_module": "@jupyter-widgets/base",
            "_view_module_version": "1.2.0",
            "_view_name": "StyleView",
            "description_width": ""
          }
        },
        "4403344311d94aa8a3f2f0acf75ff834": {
          "model_module": "@jupyter-widgets/base",
          "model_name": "LayoutModel",
          "model_module_version": "1.2.0",
          "state": {
            "_model_module": "@jupyter-widgets/base",
            "_model_module_version": "1.2.0",
            "_model_name": "LayoutModel",
            "_view_count": null,
            "_view_module": "@jupyter-widgets/base",
            "_view_module_version": "1.2.0",
            "_view_name": "LayoutView",
            "align_content": null,
            "align_items": null,
            "align_self": null,
            "border": null,
            "bottom": null,
            "display": null,
            "flex": null,
            "flex_flow": null,
            "grid_area": null,
            "grid_auto_columns": null,
            "grid_auto_flow": null,
            "grid_auto_rows": null,
            "grid_column": null,
            "grid_gap": null,
            "grid_row": null,
            "grid_template_areas": null,
            "grid_template_columns": null,
            "grid_template_rows": null,
            "height": null,
            "justify_content": null,
            "justify_items": null,
            "left": null,
            "margin": null,
            "max_height": null,
            "max_width": null,
            "min_height": null,
            "min_width": null,
            "object_fit": null,
            "object_position": null,
            "order": null,
            "overflow": null,
            "overflow_x": null,
            "overflow_y": null,
            "padding": null,
            "right": null,
            "top": null,
            "visibility": null,
            "width": null
          }
        },
        "d0136e1cf7ca4d83af00acbf399649f3": {
          "model_module": "@jupyter-widgets/controls",
          "model_name": "ProgressStyleModel",
          "model_module_version": "1.5.0",
          "state": {
            "_model_module": "@jupyter-widgets/controls",
            "_model_module_version": "1.5.0",
            "_model_name": "ProgressStyleModel",
            "_view_count": null,
            "_view_module": "@jupyter-widgets/base",
            "_view_module_version": "1.2.0",
            "_view_name": "StyleView",
            "bar_color": null,
            "description_width": ""
          }
        },
        "aa84034d9d204bf2850bfe894cee0cc5": {
          "model_module": "@jupyter-widgets/base",
          "model_name": "LayoutModel",
          "model_module_version": "1.2.0",
          "state": {
            "_model_module": "@jupyter-widgets/base",
            "_model_module_version": "1.2.0",
            "_model_name": "LayoutModel",
            "_view_count": null,
            "_view_module": "@jupyter-widgets/base",
            "_view_module_version": "1.2.0",
            "_view_name": "LayoutView",
            "align_content": null,
            "align_items": null,
            "align_self": null,
            "border": null,
            "bottom": null,
            "display": null,
            "flex": null,
            "flex_flow": null,
            "grid_area": null,
            "grid_auto_columns": null,
            "grid_auto_flow": null,
            "grid_auto_rows": null,
            "grid_column": null,
            "grid_gap": null,
            "grid_row": null,
            "grid_template_areas": null,
            "grid_template_columns": null,
            "grid_template_rows": null,
            "height": null,
            "justify_content": null,
            "justify_items": null,
            "left": null,
            "margin": null,
            "max_height": null,
            "max_width": null,
            "min_height": null,
            "min_width": null,
            "object_fit": null,
            "object_position": null,
            "order": null,
            "overflow": null,
            "overflow_x": null,
            "overflow_y": null,
            "padding": null,
            "right": null,
            "top": null,
            "visibility": null,
            "width": null
          }
        },
        "edb366ef9e79432dab9700369c0d36b9": {
          "model_module": "@jupyter-widgets/controls",
          "model_name": "DescriptionStyleModel",
          "model_module_version": "1.5.0",
          "state": {
            "_model_module": "@jupyter-widgets/controls",
            "_model_module_version": "1.5.0",
            "_model_name": "DescriptionStyleModel",
            "_view_count": null,
            "_view_module": "@jupyter-widgets/base",
            "_view_module_version": "1.2.0",
            "_view_name": "StyleView",
            "description_width": ""
          }
        }
      }
    }
  },
  "cells": [
    {
      "cell_type": "markdown",
      "metadata": {
        "id": "view-in-github",
        "colab_type": "text"
      },
      "source": [
        "<a href=\"https://colab.research.google.com/github/kmkarakaya/Deep-Learning-Tutorials/blob/master/Simple_Rag_with_chromaDB_Gemini_PartC.ipynb\" target=\"_parent\"><img src=\"https://colab.research.google.com/assets/colab-badge.svg\" alt=\"Open In Colab\"/></a>"
      ]
    },
    {
      "cell_type": "markdown",
      "source": [
        "# PART C: CODE WITH CHROMADB FOR PERSISTENT VECTOR DB   \n",
        "    \n",
        "    \n",
        "    \n",
        "    \n",
        "    "
      ],
      "metadata": {
        "id": "ZYN6tFZoaPm2"
      }
    },
    {
      "cell_type": "markdown",
      "source": [
        "In this notebook we will develop a Retrieval Augmented Generation (RAG) application.\n",
        "\n",
        "The Parts are\n",
        "\n",
        "* PART A: AN INTRO TO GEMINI API FOR TEXT GENERATION & CHAT\n",
        "* PART B: CODE WITH CHROMADB FOR VECTOR STORAGE & SIMILARITY SEARCH\n",
        "* PART C: CODE WITH CHROMADB FOR PERSISTENT VECTOR DB\n",
        "* PART D: A SIMPLE RAG BASED ON GEMINI & CHROMADB\n",
        "* PART E: ADVANCED TECHNIQUES FOR RAG BASED ON GEMINI & CHROMADB"
      ],
      "metadata": {
        "id": "HGmLFS7j8JSQ"
      }
    },
    {
      "cell_type": "markdown",
      "source": [
        "# WHAT IS RAG?\n",
        "\n",
        "RAG stands for Retrieval-Augmented Generation. It's a technique that combines large language models (LLMs) with external knowledge sources to improve the accuracy and reliability of AI-generated text.\n",
        "\n",
        "## How Does RAG Work? Unveiling the Power of External Knowledge\n",
        "\n",
        "Before we start the core RAG process, we need to provide a foundation as follows:\n",
        "\n",
        "* **Building the Knowledge Base:** The system starts by transforming documents and information within the external knowledge base (like Wikipedia or a company database) into a special format called **vector representations**. These condense the meaning of each document into a series of **numbers**, capturing the essence of the content.\n",
        "\n",
        "* **Vector Database for Speedy Retrieval**: These vector representations are then stored in a specialized database called a vector database. This database is optimized for efficiently **searching and retrieving** information based on **semantic similarity**. Imagine it as a super-powered library catalog that **understands the meaning** of documents, **not just keywords**.\n",
        "\n",
        "Now, let's explore how RAG leverages this foundation:\n",
        "\n",
        "* **User Input**: The RAG process begins with a question or **prompt** from the user. This could be anything from \"What caused the extinction of the dinosaurs?\" to a more open-ended request like \"Write a creative story.\"\n",
        "\n",
        "* **Intelligent Retrieval**: RAG doesn't rely solely on the **LLM's internal knowledge**. It employs an information retrieval component that acts like a super-powered search engine. This component scans the vast external knowledge base – like a company's internal database for specific domains – to find information **directly relevant** to the user's input. Unlike a traditional **search engine** that relies on **keywords**, RAG leverages the power of vector representations to understand the **semantic meaning** of the user's prompt and identify the most relevant documents.\n",
        "\n",
        "* **Enriched Context Creation**: The retrieved information isn't just shown alongside the prompt. RAG cleverly **merges the user input with the relevant snippets** from the knowledge base. This creates a ***richer context*** for the LLM to understand the **user's intent** and formulate a well-informed response.\n",
        "\n",
        "* **LLM Powered Response Generation**: Finally, the **enriched context** is fed to the Large Language Model (LLM). The LLM, along with its ability to process language patterns, now has a strong **foundation of factual** information to draw upon. This empowers it to generate a response that is both comprehensive and accurate, addressing the specific needs of the user's prompt.\n",
        "\n",
        "In this part, we will learn how to build a persistent ChromaDB Vector Database for speedy retrieval in a Knowledge Base.\n",
        "\n",
        "https://www.trychroma.com/\n",
        "https://github.com/chroma-core/chroma"
      ],
      "metadata": {
        "id": "R91gZB4JIZO7"
      }
    },
    {
      "cell_type": "markdown",
      "source": [
        "# CONTENT\n",
        "\n",
        "In this exciting tutorial series, we are developing a Retrieval Augmented Generation (RAG) application. If you missed the first 2 parts where we covered how to code the GEMINI API for text generation and chat and how to code ChromaDB to store and retrieve vectors, be sure to check that out.\n",
        "\n",
        "In this second part, we will code with ChromaDB for a persistent Database.\n",
        "\n",
        "In this tutorial, we will learn:\n",
        "\n",
        "* How Does RAG Work? – Understand the fundamentals of Retrieval Augmented Generation.\n",
        "*\n",
        "\n",
        "All the above steps will be implemented and coded in Python on Google Colab.\n",
        "\n",
        "Follow along step-by-step to master these techniques and enhance your data processing capabilities."
      ],
      "metadata": {
        "id": "9Niu38r_Gwqe"
      }
    },
    {
      "cell_type": "markdown",
      "source": [
        "# WHY WE NEED A PERSISTENT CHROMADB?\n",
        "\n",
        "In the context of a Retrieval-Augmented Generation (RAG) approach, saving and loading a persistent ChromaDB is particularly important for several reasons:\n",
        "\n",
        "1. **Enhanced Data Durability**:\n",
        "   - **Importance**: Ensures the retrieval database used for augmenting generative models is not lost between sessions or system restarts.\n",
        "   - **RAG Relevance**: Maintains a consistent and reliable knowledge base that the generative model can reference, leading to more accurate and relevant responses.\n",
        "\n",
        "2. **Operational Continuity**:\n",
        "   - **Importance**: Allows seamless continuation of operations without needing to re-index or re-import data, saving time and computational resources.\n",
        "   - **RAG Relevance**: Ensures that the generative model has continuous access to the same set of documents, which is essential for generating consistent and coherent responses over time.\n",
        "\n",
        "3. **Facilitating Collaboration**:\n",
        "   - **Importance**: Enables multiple users or systems to share and access the same dataset.\n",
        "   - **RAG Relevance**: Supports collaborative development and usage of the RAG system, allowing different teams to work on improving the retrieval and generation processes simultaneously.\n",
        "\n",
        "4. **Scalability**:\n",
        "   - **Importance**: Provides a stable and persistent backend, enabling efficient handling of large datasets.\n",
        "   - **RAG Relevance**: Essential for scaling the RAG system to handle more extensive and diverse knowledge bases, ensuring that the system can manage increased loads and deliver prompt, relevant information.\n",
        "\n",
        "\n",
        "In a RAG system, the retriever (like ChromaDB) provides the generative model with relevant context from a knowledge base to generate informed and accurate responses. Persistent storage ensures that this knowledge base is durable, continuously available, and scalable, which is critical for the reliability, consistency, and performance of the RAG system.\n",
        "\n"
      ],
      "metadata": {
        "id": "d0jFbbAH8qa4"
      }
    },
    {
      "cell_type": "markdown",
      "source": [
        "# CREATING & SAVING A PERSISTENT CHROMADB\n",
        "\n",
        "To make ChromaDB durable (persistent) rather than temporary on Google Colab, you can use external storage services like Google Drive or set up a cloud-based database. Google Colab provides temporary storage that resets after each session, so to maintain persistence across sessions, you'll need to save your data and configurations externally."
      ],
      "metadata": {
        "id": "____WNA_3LAt"
      }
    },
    {
      "cell_type": "markdown",
      "source": [
        "##1 Install required libraries\n",
        "\n",
        "Install all the required libraries and helper functions"
      ],
      "metadata": {
        "id": "TU6DsMABRbJe"
      }
    },
    {
      "cell_type": "code",
      "source": [
        "%pip install chromadb --quiet\n",
        "%pip install sentence_transformers --quiet\n",
        "%pip install pypdf --quiet\n",
        "%pip install langchain --quiet\n",
        "%pip install tqdm --quiet\n",
        "\n",
        "import langchain\n",
        "from langchain.text_splitter import RecursiveCharacterTextSplitter\n",
        "from langchain.text_splitter import SentenceTransformersTokenTextSplitter\n",
        "\n",
        "\n",
        "from pypdf import PdfReader\n",
        "\n",
        "from chromadb.config import DEFAULT_TENANT, DEFAULT_DATABASE, Settings\n",
        "from chromadb import Client, PersistentClient\n",
        "from chromadb.utils import embedding_functions\n",
        "\n",
        "import textwrap\n",
        "from IPython.display import display\n",
        "from IPython.display import Markdown\n",
        "def to_markdown(text):\n",
        "  text = text.replace('•', '  *')\n",
        "  return Markdown(textwrap.indent(text, '> ', predicate=lambda _: True))"
      ],
      "metadata": {
        "id": "loqDKFVeRSKp"
      },
      "execution_count": null,
      "outputs": []
    },
    {
      "cell_type": "markdown",
      "source": [
        "## 1. Initialize ChromaDB client with Google Drive connection"
      ],
      "metadata": {
        "id": "dZ595WNn3ccX"
      }
    },
    {
      "cell_type": "code",
      "source": [
        "from google.colab import drive\n",
        "drive.mount('/content/drive')"
      ],
      "metadata": {
        "colab": {
          "base_uri": "https://localhost:8080/"
        },
        "id": "P5Krf5TF8pbg",
        "outputId": "d38419e0-2074-4050-e1e1-16d454d68655"
      },
      "execution_count": null,
      "outputs": [
        {
          "output_type": "stream",
          "name": "stdout",
          "text": [
            "Drive already mounted at /content/drive; to attempt to forcibly remount, call drive.mount(\"/content/drive\", force_remount=True).\n"
          ]
        }
      ]
    },
    {
      "cell_type": "code",
      "source": [
        "%cd drive/MyDrive/'Colab Notebooks'"
      ],
      "metadata": {
        "id": "jRLnsJpB8y_Y",
        "colab": {
          "base_uri": "https://localhost:8080/"
        },
        "outputId": "556617c6-fcc6-4755-e7e6-880aa217ac86"
      },
      "execution_count": null,
      "outputs": [
        {
          "output_type": "stream",
          "name": "stdout",
          "text": [
            "/content/drive/MyDrive/Colab Notebooks\n"
          ]
        }
      ]
    },
    {
      "cell_type": "code",
      "source": [
        "# Initialize ChromaDB client with Google Drive connection\n",
        "chromaDB_path = '/content/drive/MyDrive/Colab Notebooks/ChromaDBData'\n"
      ],
      "metadata": {
        "id": "bohCxC0D9p_P"
      },
      "execution_count": null,
      "outputs": []
    },
    {
      "cell_type": "code",
      "source": [
        "# prompt: Check if the chromadb_path exists or not. If so, delete all the files and folders in chromadb_path. But before deleting get the permission from the user.\n",
        "\n",
        "import os\n",
        "import shutil\n",
        "\n",
        "if os.path.exists(chromaDB_path):\n",
        "  print(f\"The directory '{chromaDB_path}' already exists.\")\n",
        "  permission = input(\"Do you want to delete all the files and folders in this directory? (y/n): \")\n",
        "  if permission == \"y\":\n",
        "    shutil.rmtree(chromaDB_path)\n",
        "    print(f\"All files and folders in '{chromaDB_path}' have been deleted.\")\n",
        "  else:\n",
        "    print(\"No action taken.\")\n",
        "else:\n",
        "  print(f\"The directory '{chromaDB_path}' does not exist.\")\n"
      ],
      "metadata": {
        "colab": {
          "base_uri": "https://localhost:8080/"
        },
        "id": "rX7s6ZG2clxy",
        "outputId": "710e34fe-360c-484e-abed-50b318232394"
      },
      "execution_count": null,
      "outputs": [
        {
          "output_type": "stream",
          "name": "stdout",
          "text": [
            "The directory '/content/drive/MyDrive/Colab Notebooks/ChromaDBData' does not exist.\n"
          ]
        }
      ]
    },
    {
      "cell_type": "markdown",
      "source": [
        "## 2. Define PersistentClient\n",
        "\n",
        "Let's re-define the **create_chroma_client** function from the previous part so that this time we initialize a **persistent** ChromaDB client:"
      ],
      "metadata": {
        "id": "_Z7mIpAt-bCS"
      }
    },
    {
      "cell_type": "code",
      "source": [
        "from chromadb.config import DEFAULT_TENANT, DEFAULT_DATABASE, Settings\n",
        "from chromadb import Client, PersistentClient\n"
      ],
      "metadata": {
        "id": "mo8-L45AAxBy"
      },
      "execution_count": null,
      "outputs": []
    },
    {
      "cell_type": "code",
      "source": [
        "def create_chroma_client(collection_name, embedding_function, chromaDB_path ):\n",
        "  if chromaDB_path is not None:\n",
        "    chroma_client = PersistentClient(path=chromaDB_path,\n",
        "                                     settings=Settings(),\n",
        "                                     tenant=DEFAULT_TENANT,\n",
        "                                     database=DEFAULT_DATABASE,)\n",
        "  else:\n",
        "    chroma_client = Client()\n",
        "\n",
        "  chroma_collection = chroma_client.get_or_create_collection(\n",
        "      collection_name,\n",
        "      embedding_function=embedding_function)\n",
        "\n",
        "  return chroma_client, chroma_collection"
      ],
      "metadata": {
        "id": "IFDiy4aw-Z1n"
      },
      "execution_count": null,
      "outputs": []
    },
    {
      "cell_type": "markdown",
      "source": [
        "## 3. Create a collection as usual"
      ],
      "metadata": {
        "id": "i4z_PaKy34WX"
      }
    },
    {
      "cell_type": "code",
      "source": [
        "collection_name = \"Papers\"\n",
        "sentence_transformer_model=\"distiluse-base-multilingual-cased-v1\"\n",
        "embedding_function= embedding_functions.SentenceTransformerEmbeddingFunction(\n",
        "    model_name=sentence_transformer_model)\n"
      ],
      "metadata": {
        "colab": {
          "base_uri": "https://localhost:8080/"
        },
        "id": "TOrsU6-nSOD_",
        "outputId": "6757320f-5505-4345-ab12-d05b315d7f47"
      },
      "execution_count": null,
      "outputs": [
        {
          "output_type": "stream",
          "name": "stderr",
          "text": [
            "/usr/local/lib/python3.10/dist-packages/sentence_transformers/cross_encoder/CrossEncoder.py:11: TqdmExperimentalWarning: Using `tqdm.autonotebook.tqdm` in notebook mode. Use `tqdm.tqdm` instead to force console mode (e.g. in jupyter console)\n",
            "  from tqdm.autonotebook import tqdm, trange\n",
            "/usr/local/lib/python3.10/dist-packages/huggingface_hub/file_download.py:1132: FutureWarning: `resume_download` is deprecated and will be removed in version 1.0.0. Downloads always resume when possible. If you want to force a new download, use `force_download=True`.\n",
            "  warnings.warn(\n"
          ]
        }
      ]
    },
    {
      "cell_type": "code",
      "source": [
        "chroma_client, chroma_collection = create_chroma_client(collection_name,\n",
        "                                                        embedding_function,\n",
        "                                                        chromaDB_path)\n",
        "print(chroma_collection.count())\n",
        "print(chroma_client.list_collections())"
      ],
      "metadata": {
        "colab": {
          "base_uri": "https://localhost:8080/"
        },
        "id": "pN-vX46885Tb",
        "outputId": "704384b6-7930-4c5f-e419-8388c84ab937"
      },
      "execution_count": null,
      "outputs": [
        {
          "output_type": "stream",
          "name": "stdout",
          "text": [
            "0\n",
            "[Collection(name=Papers)]\n"
          ]
        }
      ]
    },
    {
      "cell_type": "markdown",
      "source": [
        "## Define helper functions"
      ],
      "metadata": {
        "id": "hQFAEwB2TYO_"
      }
    },
    {
      "cell_type": "code",
      "source": [
        "from google.colab import files\n",
        "def upload_multiple_files():\n",
        "  uploaded = files.upload()\n",
        "  file_names = list()\n",
        "  for fn in uploaded.keys():\n",
        "    #print('User uploaded file \"{name}\" with length {length} bytes'.format(name=fn, length=len(uploaded[fn])))\n",
        "    file_names.append(fn)\n",
        "  return file_names"
      ],
      "metadata": {
        "id": "miZpcDP7S5yM"
      },
      "execution_count": null,
      "outputs": []
    },
    {
      "cell_type": "code",
      "source": [
        "def convert_PDF_Text(pdf_path):\n",
        "  reader = PdfReader(pdf_path)\n",
        "  pdf_texts = [p.extract_text().strip() for p in reader.pages]\n",
        "  # Filter the empty strings\n",
        "  pdf_texts = [text for text in pdf_texts if text]\n",
        "  print(\"Document: \",pdf_path,\" chunk size: \", len(pdf_texts))\n",
        "  return pdf_texts"
      ],
      "metadata": {
        "id": "6Qf8RKItTSp9"
      },
      "execution_count": null,
      "outputs": []
    },
    {
      "cell_type": "code",
      "source": [
        "def convert_Page_ChunkinChar(pdf_texts, chunk_size = 1500, chunk_overlap=0 ):\n",
        "  character_splitter = RecursiveCharacterTextSplitter(\n",
        "      separators=[\"\\n\\n\", \"\\n\", \". \", \" \", \"\"],\n",
        "      chunk_size=1500,\n",
        "      chunk_overlap=0\n",
        ")\n",
        "  character_split_texts = character_splitter.split_text('\\n\\n'.join(pdf_texts))\n",
        "  print(f\"\\nTotal number of chunks (document splited by max char = 1500): \\\n",
        "        {len(character_split_texts)}\")\n",
        "  return character_split_texts"
      ],
      "metadata": {
        "id": "irVYmZf9T4Lc"
      },
      "execution_count": null,
      "outputs": []
    },
    {
      "cell_type": "code",
      "source": [
        "def convert_Chunk_Token(text_chunksinChar,sentence_transformer_model, chunk_overlap=0,tokens_per_chunk=128 ):\n",
        "  token_splitter = SentenceTransformersTokenTextSplitter(\n",
        "      chunk_overlap=0,\n",
        "      model_name=sentence_transformer_model,\n",
        "      tokens_per_chunk=128)\n",
        "\n",
        "  text_chunksinTokens = []\n",
        "  for text in text_chunksinChar:\n",
        "      text_chunksinTokens += token_splitter.split_text(text)\n",
        "  print(f\"\\nTotal number of chunks (document splited by 128 tokens per chunk):\\\n",
        "       {len(text_chunksinTokens)}\")\n",
        "  return text_chunksinTokens"
      ],
      "metadata": {
        "id": "ejyPbZG6ULBR"
      },
      "execution_count": null,
      "outputs": []
    },
    {
      "cell_type": "code",
      "source": [
        "def add_meta_data(text_chunksinTokens, title, category, initial_id):\n",
        "  ids = [str(i+initial_id) for i in range(len(text_chunksinTokens))]\n",
        "  metadata = {\n",
        "      'document': title,\n",
        "      'category': category\n",
        "  }\n",
        "  metadatas = [ metadata for i in range(len(text_chunksinTokens))]\n",
        "  return ids, metadatas"
      ],
      "metadata": {
        "id": "Ag7EWuVRU10F"
      },
      "execution_count": null,
      "outputs": []
    },
    {
      "cell_type": "code",
      "source": [
        "def add_document_to_collection(ids, metadatas, text_chunksinTokens, chroma_collection):\n",
        "  print(\"Before inserting, the size of the collection: \", chroma_collection.count())\n",
        "  chroma_collection.add(ids=ids, metadatas= metadatas, documents=text_chunksinTokens)\n",
        "  print(\"After inserting, the size of the collection: \", chroma_collection.count())\n",
        "  return chroma_collection"
      ],
      "metadata": {
        "id": "txJWVJPBVMMM"
      },
      "execution_count": null,
      "outputs": []
    },
    {
      "cell_type": "code",
      "source": [
        "def retrieveDocs(chroma_collection, query, n_results=5, return_only_docs=False):\n",
        "    results = chroma_collection.query(query_texts=[query],\n",
        "                                      include= [ \"documents\",\"metadatas\",'distances' ],\n",
        "                                      n_results=n_results)\n",
        "\n",
        "    if return_only_docs:\n",
        "        return results['documents'][0]\n",
        "    else:\n",
        "        return results"
      ],
      "metadata": {
        "id": "SGVfxSvkZEvD"
      },
      "execution_count": null,
      "outputs": []
    },
    {
      "cell_type": "code",
      "source": [
        "def show_results(results, return_only_docs=False):\n",
        "\n",
        "  if return_only_docs:\n",
        "    retrieved_documents = results\n",
        "    if len(retrieved_documents) == 0:\n",
        "      print(\"No results found.\")\n",
        "      return\n",
        "    for i, doc in enumerate(retrieved_documents):\n",
        "      print(f\"Document {i+1}:\")\n",
        "      print(\"\\tDocument Text: \")\n",
        "      display(to_markdown(doc));\n",
        "  else:\n",
        "\n",
        "      retrieved_documents = results['documents'][0]\n",
        "      if len(retrieved_documents) == 0:\n",
        "          print(\"No results found.\")\n",
        "          return\n",
        "      retrieved_documents_metadata = results['metadatas'][0]\n",
        "      retrieved_documents_distances = results['distances'][0]\n",
        "      print(\"------- retreived documents -------\\n\")\n",
        "\n",
        "      for i, doc in enumerate(retrieved_documents):\n",
        "          print(f\"Document {i+1}:\")\n",
        "          print(\"\\tDocument Text: \")\n",
        "          display(to_markdown(doc));\n",
        "          print(f\"\\tDocument Source: {retrieved_documents_metadata[i]['document']}\")\n",
        "          print(f\"\\tDocument Source Type: {retrieved_documents_metadata[i]['category']}\")\n",
        "          print(f\"\\tDocument Distance: {retrieved_documents_distances[i]}\")\n"
      ],
      "metadata": {
        "id": "E2IwDowkZLvK"
      },
      "execution_count": null,
      "outputs": []
    },
    {
      "cell_type": "markdown",
      "source": [
        "## 4. Revise the load_multiple_pdfs_to_ChromaDB() to include persistentClient  \n",
        "\n",
        "We need to update the function as well:"
      ],
      "metadata": {
        "id": "ixG_eOHrCOMD"
      }
    },
    {
      "cell_type": "code",
      "source": [
        "def load_multiple_pdfs_to_ChromaDB(collection_name,sentence_transformer_model,\n",
        "                                   chromaDB_path):\n",
        "\n",
        "  collection_name= collection_name\n",
        "  category= \"Journal Paper\"\n",
        "  sentence_transformer_model=sentence_transformer_model\n",
        "  embedding_function= embedding_functions.SentenceTransformerEmbeddingFunction(model_name=sentence_transformer_model)\n",
        "  chroma_client, chroma_collection = create_chroma_client(collection_name, embedding_function, chromaDB_path)\n",
        "  current_id = chroma_collection.count()\n",
        "  file_names = upload_multiple_files()\n",
        "  for file_name in file_names:\n",
        "    print(f\"Document: {file_name} is being processed to be added to the {chroma_collection.name} {chroma_collection.count()}\")\n",
        "    print(f\"current_id: {current_id} \")\n",
        "    pdf_texts = convert_PDF_Text(file_name)\n",
        "    text_chunksinChar = convert_Page_ChunkinChar(pdf_texts)\n",
        "    text_chunksinTokens = convert_Chunk_Token(text_chunksinChar,sentence_transformer_model)\n",
        "    ids,metadatas = add_meta_data(text_chunksinTokens,file_name,category, current_id)\n",
        "    current_id = current_id + len(text_chunksinTokens)\n",
        "    chroma_collection = add_document_to_collection(ids, metadatas, text_chunksinTokens, chroma_collection)\n",
        "    print(f\"Document: {file_name} added to the collection: {chroma_collection.count()}\")\n",
        "  return  chroma_client, chroma_collection"
      ],
      "metadata": {
        "id": "U_Dy4QIcCSqi"
      },
      "execution_count": null,
      "outputs": []
    },
    {
      "cell_type": "markdown",
      "source": [
        "## 5. Run load_multiple_pdfs_to_ChromaDB() to fill in the colection"
      ],
      "metadata": {
        "id": "_P7eumIj4VoB"
      }
    },
    {
      "cell_type": "code",
      "source": [
        "chroma_client, chroma_collection= load_multiple_pdfs_to_ChromaDB(collection_name,sentence_transformer_model, chromaDB_path)"
      ],
      "metadata": {
        "id": "nJL5leeq8yd_",
        "colab": {
          "base_uri": "https://localhost:8080/",
          "height": 1000
        },
        "outputId": "c9543188-619f-429b-e2ee-bb3030fb7cb8"
      },
      "execution_count": null,
      "outputs": [
        {
          "output_type": "display_data",
          "data": {
            "text/plain": [
              "<IPython.core.display.HTML object>"
            ],
            "text/html": [
              "\n",
              "     <input type=\"file\" id=\"files-16371456-81b2-478d-9421-5e51ef50bf21\" name=\"files[]\" multiple disabled\n",
              "        style=\"border:none\" />\n",
              "     <output id=\"result-16371456-81b2-478d-9421-5e51ef50bf21\">\n",
              "      Upload widget is only available when the cell has been executed in the\n",
              "      current browser session. Please rerun this cell to enable.\n",
              "      </output>\n",
              "      <script>// Copyright 2017 Google LLC\n",
              "//\n",
              "// Licensed under the Apache License, Version 2.0 (the \"License\");\n",
              "// you may not use this file except in compliance with the License.\n",
              "// You may obtain a copy of the License at\n",
              "//\n",
              "//      http://www.apache.org/licenses/LICENSE-2.0\n",
              "//\n",
              "// Unless required by applicable law or agreed to in writing, software\n",
              "// distributed under the License is distributed on an \"AS IS\" BASIS,\n",
              "// WITHOUT WARRANTIES OR CONDITIONS OF ANY KIND, either express or implied.\n",
              "// See the License for the specific language governing permissions and\n",
              "// limitations under the License.\n",
              "\n",
              "/**\n",
              " * @fileoverview Helpers for google.colab Python module.\n",
              " */\n",
              "(function(scope) {\n",
              "function span(text, styleAttributes = {}) {\n",
              "  const element = document.createElement('span');\n",
              "  element.textContent = text;\n",
              "  for (const key of Object.keys(styleAttributes)) {\n",
              "    element.style[key] = styleAttributes[key];\n",
              "  }\n",
              "  return element;\n",
              "}\n",
              "\n",
              "// Max number of bytes which will be uploaded at a time.\n",
              "const MAX_PAYLOAD_SIZE = 100 * 1024;\n",
              "\n",
              "function _uploadFiles(inputId, outputId) {\n",
              "  const steps = uploadFilesStep(inputId, outputId);\n",
              "  const outputElement = document.getElementById(outputId);\n",
              "  // Cache steps on the outputElement to make it available for the next call\n",
              "  // to uploadFilesContinue from Python.\n",
              "  outputElement.steps = steps;\n",
              "\n",
              "  return _uploadFilesContinue(outputId);\n",
              "}\n",
              "\n",
              "// This is roughly an async generator (not supported in the browser yet),\n",
              "// where there are multiple asynchronous steps and the Python side is going\n",
              "// to poll for completion of each step.\n",
              "// This uses a Promise to block the python side on completion of each step,\n",
              "// then passes the result of the previous step as the input to the next step.\n",
              "function _uploadFilesContinue(outputId) {\n",
              "  const outputElement = document.getElementById(outputId);\n",
              "  const steps = outputElement.steps;\n",
              "\n",
              "  const next = steps.next(outputElement.lastPromiseValue);\n",
              "  return Promise.resolve(next.value.promise).then((value) => {\n",
              "    // Cache the last promise value to make it available to the next\n",
              "    // step of the generator.\n",
              "    outputElement.lastPromiseValue = value;\n",
              "    return next.value.response;\n",
              "  });\n",
              "}\n",
              "\n",
              "/**\n",
              " * Generator function which is called between each async step of the upload\n",
              " * process.\n",
              " * @param {string} inputId Element ID of the input file picker element.\n",
              " * @param {string} outputId Element ID of the output display.\n",
              " * @return {!Iterable<!Object>} Iterable of next steps.\n",
              " */\n",
              "function* uploadFilesStep(inputId, outputId) {\n",
              "  const inputElement = document.getElementById(inputId);\n",
              "  inputElement.disabled = false;\n",
              "\n",
              "  const outputElement = document.getElementById(outputId);\n",
              "  outputElement.innerHTML = '';\n",
              "\n",
              "  const pickedPromise = new Promise((resolve) => {\n",
              "    inputElement.addEventListener('change', (e) => {\n",
              "      resolve(e.target.files);\n",
              "    });\n",
              "  });\n",
              "\n",
              "  const cancel = document.createElement('button');\n",
              "  inputElement.parentElement.appendChild(cancel);\n",
              "  cancel.textContent = 'Cancel upload';\n",
              "  const cancelPromise = new Promise((resolve) => {\n",
              "    cancel.onclick = () => {\n",
              "      resolve(null);\n",
              "    };\n",
              "  });\n",
              "\n",
              "  // Wait for the user to pick the files.\n",
              "  const files = yield {\n",
              "    promise: Promise.race([pickedPromise, cancelPromise]),\n",
              "    response: {\n",
              "      action: 'starting',\n",
              "    }\n",
              "  };\n",
              "\n",
              "  cancel.remove();\n",
              "\n",
              "  // Disable the input element since further picks are not allowed.\n",
              "  inputElement.disabled = true;\n",
              "\n",
              "  if (!files) {\n",
              "    return {\n",
              "      response: {\n",
              "        action: 'complete',\n",
              "      }\n",
              "    };\n",
              "  }\n",
              "\n",
              "  for (const file of files) {\n",
              "    const li = document.createElement('li');\n",
              "    li.append(span(file.name, {fontWeight: 'bold'}));\n",
              "    li.append(span(\n",
              "        `(${file.type || 'n/a'}) - ${file.size} bytes, ` +\n",
              "        `last modified: ${\n",
              "            file.lastModifiedDate ? file.lastModifiedDate.toLocaleDateString() :\n",
              "                                    'n/a'} - `));\n",
              "    const percent = span('0% done');\n",
              "    li.appendChild(percent);\n",
              "\n",
              "    outputElement.appendChild(li);\n",
              "\n",
              "    const fileDataPromise = new Promise((resolve) => {\n",
              "      const reader = new FileReader();\n",
              "      reader.onload = (e) => {\n",
              "        resolve(e.target.result);\n",
              "      };\n",
              "      reader.readAsArrayBuffer(file);\n",
              "    });\n",
              "    // Wait for the data to be ready.\n",
              "    let fileData = yield {\n",
              "      promise: fileDataPromise,\n",
              "      response: {\n",
              "        action: 'continue',\n",
              "      }\n",
              "    };\n",
              "\n",
              "    // Use a chunked sending to avoid message size limits. See b/62115660.\n",
              "    let position = 0;\n",
              "    do {\n",
              "      const length = Math.min(fileData.byteLength - position, MAX_PAYLOAD_SIZE);\n",
              "      const chunk = new Uint8Array(fileData, position, length);\n",
              "      position += length;\n",
              "\n",
              "      const base64 = btoa(String.fromCharCode.apply(null, chunk));\n",
              "      yield {\n",
              "        response: {\n",
              "          action: 'append',\n",
              "          file: file.name,\n",
              "          data: base64,\n",
              "        },\n",
              "      };\n",
              "\n",
              "      let percentDone = fileData.byteLength === 0 ?\n",
              "          100 :\n",
              "          Math.round((position / fileData.byteLength) * 100);\n",
              "      percent.textContent = `${percentDone}% done`;\n",
              "\n",
              "    } while (position < fileData.byteLength);\n",
              "  }\n",
              "\n",
              "  // All done.\n",
              "  yield {\n",
              "    response: {\n",
              "      action: 'complete',\n",
              "    }\n",
              "  };\n",
              "}\n",
              "\n",
              "scope.google = scope.google || {};\n",
              "scope.google.colab = scope.google.colab || {};\n",
              "scope.google.colab._files = {\n",
              "  _uploadFiles,\n",
              "  _uploadFilesContinue,\n",
              "};\n",
              "})(self);\n",
              "</script> "
            ]
          },
          "metadata": {}
        },
        {
          "output_type": "stream",
          "name": "stderr",
          "text": [
            "ERROR:pypdf._cmap:Advanced encoding /SymbolSetEncoding not implemented yet\n"
          ]
        },
        {
          "output_type": "stream",
          "name": "stdout",
          "text": [
            "Saving 15 UAV Route Planning For Maximum Target Coverage.pdf to 15 UAV Route Planning For Maximum Target Coverage (8).pdf\n",
            "Saving 16 A Local Optimization Technique for Assigning New Targets ABSTRACT.pdf to 16 A Local Optimization Technique for Assigning New Targets ABSTRACT (8).pdf\n",
            "Saving 22 ISEAIA Risk Sensetive Routing Abstract.pdf to 22 ISEAIA Risk Sensetive Routing Abstract (7).pdf\n",
            "Saving 70 Biometric Verification.pdf to 70 Biometric Verification (7).pdf\n",
            "Document: 15 UAV Route Planning For Maximum Target Coverage (8).pdf is being processed to be added to the Papers 0\n",
            "current_id: 0 \n"
          ]
        },
        {
          "output_type": "stream",
          "name": "stderr",
          "text": [
            "ERROR:pypdf._cmap:Advanced encoding /SymbolSetEncoding not implemented yet\n",
            "ERROR:pypdf._cmap:Advanced encoding /SymbolSetEncoding not implemented yet\n",
            "ERROR:pypdf._cmap:Advanced encoding /SymbolSetEncoding not implemented yet\n",
            "ERROR:pypdf._cmap:Advanced encoding /SymbolSetEncoding not implemented yet\n",
            "ERROR:pypdf._cmap:Advanced encoding /SymbolSetEncoding not implemented yet\n",
            "ERROR:pypdf._cmap:Advanced encoding /SymbolSetEncoding not implemented yet\n",
            "ERROR:pypdf._cmap:Advanced encoding /SymbolSetEncoding not implemented yet\n"
          ]
        },
        {
          "output_type": "stream",
          "name": "stdout",
          "text": [
            "Document:  15 UAV Route Planning For Maximum Target Coverage (8).pdf  chunk size:  8\n",
            "\n",
            "Total number of chunks (document splited by max char = 1500):         14\n",
            "\n",
            "Total number of chunks (document splited by 128 tokens per chunk):       41\n",
            "Before inserting, the size of the collection:  0\n",
            "After inserting, the size of the collection:  41\n",
            "Document: 15 UAV Route Planning For Maximum Target Coverage (8).pdf added to the collection: 41\n",
            "Document: 16 A Local Optimization Technique for Assigning New Targets ABSTRACT (8).pdf is being processed to be added to the Papers 41\n",
            "current_id: 41 \n",
            "Document:  16 A Local Optimization Technique for Assigning New Targets ABSTRACT (8).pdf  chunk size:  1\n",
            "\n",
            "Total number of chunks (document splited by max char = 1500):         2\n",
            "\n",
            "Total number of chunks (document splited by 128 tokens per chunk):       6\n",
            "Before inserting, the size of the collection:  41\n",
            "After inserting, the size of the collection:  47\n",
            "Document: 16 A Local Optimization Technique for Assigning New Targets ABSTRACT (8).pdf added to the collection: 47\n",
            "Document: 22 ISEAIA Risk Sensetive Routing Abstract (7).pdf is being processed to be added to the Papers 47\n",
            "current_id: 47 \n",
            "Document:  22 ISEAIA Risk Sensetive Routing Abstract (7).pdf  chunk size:  1\n",
            "\n",
            "Total number of chunks (document splited by max char = 1500):         1\n",
            "\n",
            "Total number of chunks (document splited by 128 tokens per chunk):       2\n",
            "Before inserting, the size of the collection:  47\n",
            "After inserting, the size of the collection:  49\n",
            "Document: 22 ISEAIA Risk Sensetive Routing Abstract (7).pdf added to the collection: 49\n",
            "Document: 70 Biometric Verification (7).pdf is being processed to be added to the Papers 49\n",
            "current_id: 49 \n",
            "Document:  70 Biometric Verification (7).pdf  chunk size:  6\n",
            "\n",
            "Total number of chunks (document splited by max char = 1500):         19\n",
            "\n",
            "Total number of chunks (document splited by 128 tokens per chunk):       46\n",
            "Before inserting, the size of the collection:  49\n",
            "After inserting, the size of the collection:  95\n",
            "Document: 70 Biometric Verification (7).pdf added to the collection: 95\n"
          ]
        }
      ]
    },
    {
      "cell_type": "markdown",
      "source": [
        "## 6. Test the ChromaDB client and & collection"
      ],
      "metadata": {
        "id": "SY_pADjm4dle"
      }
    },
    {
      "cell_type": "code",
      "source": [
        "query = \"What are the main difference in active and passive path scheduling?\"\n",
        "\n",
        "'''\n",
        "In 16 A Local Optimization Technique for Assigning New Targets ABSTRACT:\n",
        "\n",
        "Route planning can be static or dynamic. In static route planning, routes are\n",
        "constructed according to given UAVs and targets and do not change during\n",
        "the mission. However, in dynamic route planning, number of routes or UAVs\n",
        "can alter which requires the update of existing routes to adopt these changes.\n",
        "\n",
        "'''"
      ],
      "metadata": {
        "colab": {
          "base_uri": "https://localhost:8080/",
          "height": 87
        },
        "id": "ZB7_29IHZXtK",
        "outputId": "27cfd864-bff8-4de9-bc6c-d07e71e4df74"
      },
      "execution_count": null,
      "outputs": [
        {
          "output_type": "execute_result",
          "data": {
            "text/plain": [
              "'\\nIn 16 A Local Optimization Technique for Assigning New Targets ABSTRACT:\\n\\nRoute planning can be static or dynamic. In static route planning, routes are \\nconstructed according to given UAVs and targets and do not change during \\nthe mission. However, in dynamic route planning, number of routes or UAVs \\ncan alter which requires the update of existing routes to adopt these changes.\\n\\n'"
            ],
            "application/vnd.google.colaboratory.intrinsic+json": {
              "type": "string"
            }
          },
          "metadata": {},
          "execution_count": 23
        }
      ]
    },
    {
      "cell_type": "code",
      "source": [
        "retrieved_documents=retrieveDocs(chroma_collection, query, 10)\n",
        "show_results(retrieved_documents)"
      ],
      "metadata": {
        "id": "fbpduFllB8I6",
        "colab": {
          "base_uri": "https://localhost:8080/",
          "height": 1000
        },
        "outputId": "291eb517-3095-417e-f2f6-c9af27ed1ce5"
      },
      "execution_count": null,
      "outputs": [
        {
          "output_type": "stream",
          "name": "stdout",
          "text": [
            "------- retreived documents -------\n",
            "\n",
            "Document 1:\n",
            "\tDocument Text: \n"
          ]
        },
        {
          "output_type": "display_data",
          "data": {
            "text/plain": [
              "<IPython.core.display.Markdown object>"
            ],
            "text/markdown": "> , routes are constructed according to given UAVs and targets and do not change during the mission. However, in dynamic route planning, number of routes or UAVs can alter which requires the update of existing routes to adopt these changes. For example, some of the UAVs can be lost during the mission or new targets might pop up after the take - off. This article proposes an iterative local optimization for the distribution of new targets to the existing routes in dynamic route planning. In the proposed solution, it is supposed that all UAVs have the same flight ranges, their initial routes are planned, and"
          },
          "metadata": {}
        },
        {
          "output_type": "stream",
          "name": "stdout",
          "text": [
            "\tDocument Source: 16 A Local Optimization Technique for Assigning New Targets ABSTRACT (8).pdf\n",
            "\tDocument Source Type: Journal Paper\n",
            "\tDocument Distance: 1.3230979240264826\n",
            "Document 2:\n",
            "\tDocument Text: \n"
          ]
        },
        {
          "output_type": "display_data",
          "data": {
            "text/plain": [
              "<IPython.core.display.Markdown object>"
            ],
            "text/markdown": "> Computer Science & Engineering : An International Journal ( CSEIJ ), Vol. 4, No. 1, February 2014 34The prelimin ary results show the effectiveness of the MMAS in route planning. We would like to extend the work by defining different performance metrics and executing the experiments with different location set ups. REFERENCES [ 1 ] Bektas, T. ( 2006 ). The multiple trav eling salesman problem : an overview of formulations and solution procedures. Omega, 34 ( 3 ), 209 - 219. [ 2 ] Dorigo, M."
          },
          "metadata": {}
        },
        {
          "output_type": "stream",
          "name": "stdout",
          "text": [
            "\tDocument Source: 15 UAV Route Planning For Maximum Target Coverage (8).pdf\n",
            "\tDocument Source Type: Journal Paper\n",
            "\tDocument Distance: 1.4107952383887015\n",
            "Document 3:\n",
            "\tDocument Text: \n"
          ]
        },
        {
          "output_type": "display_data",
          "data": {
            "text/plain": [
              "<IPython.core.display.Markdown object>"
            ],
            "text/markdown": "> with less cost, that is covering more targets, leave more pheromone on the paths to provide positive feedback for the other ants. 4. 4. Calculating Heuristic Value The heuristic value ( ηij ) between two locations is defined as ijijd1 =, whereijdis the distance between the locations. 4. 5. Algorithm Using the steps defined above an implementation of the MMAS is given in Table 1. We input the target list ( H ), the distances between the targets ( dij ), the flight ra nge ( FR ), and the number of UAVs"
          },
          "metadata": {}
        },
        {
          "output_type": "stream",
          "name": "stdout",
          "text": [
            "\tDocument Source: 15 UAV Route Planning For Maximum Target Coverage (8).pdf\n",
            "\tDocument Source Type: Journal Paper\n",
            "\tDocument Distance: 1.430447012601255\n",
            "Document 4:\n",
            "\tDocument Text: \n"
          ]
        },
        {
          "output_type": "display_data",
          "data": {
            "text/plain": [
              "<IPython.core.display.Markdown object>"
            ],
            "text/markdown": "> follows. In the first phase of the algorithm, a n UAV with the highest slack range is picked and its route is modified by inserting a new target at a time. Adding a new target to an existing route causes an increase in the route distance, which is called update cost. If the update cost is not greater than the slack range, the new target is insert ed to the route. After finishing attempts with all new targets, if any of them is left over, insertion process is execute d with the UAV having the next highest slack range as described above until either all UAV"
          },
          "metadata": {}
        },
        {
          "output_type": "stream",
          "name": "stdout",
          "text": [
            "\tDocument Source: 16 A Local Optimization Technique for Assigning New Targets ABSTRACT (8).pdf\n",
            "\tDocument Source Type: Journal Paper\n",
            "\tDocument Distance: 1.4979866422014727\n",
            "Document 5:\n",
            "\tDocument Text: \n"
          ]
        },
        {
          "output_type": "display_data",
          "data": {
            "text/plain": [
              "<IPython.core.display.Markdown object>"
            ],
            "text/markdown": "> UAV _ used < UAV ) { next = find _ Next _ Target ( ) ; if ( base _ Reachable ( next ) ) { move ( next ) ; remaining _ Range - = dcurrent, next ; target _ Number + + ; } else { move ( base ) ; UAV _ used + + ; remaining _ Range = FR ; } } / / end _ while evoporate _ Pheromone ( ) ; update _ Pheromone ( ) ; update _ Best _ Solution ( ) ; } / / end _ for _ each _ ant } return ( Best _ Solution ) ;"
          },
          "metadata": {}
        },
        {
          "output_type": "stream",
          "name": "stdout",
          "text": [
            "\tDocument Source: 15 UAV Route Planning For Maximum Target Coverage (8).pdf\n",
            "\tDocument Source Type: Journal Paper\n",
            "\tDocument Distance: 1.5068370839867697\n",
            "Document 6:\n",
            "\tDocument Text: \n"
          ]
        },
        {
          "output_type": "display_data",
          "data": {
            "text/plain": [
              "<IPython.core.display.Markdown object>"
            ],
            "text/markdown": "> ] and the Vehicle Routing Problem ( VRP ) [ 6 ]. In these well - defined problems, it is mostly assume d that travelling salesmen or vehicles should visit all the targets and the target function is defined as to find a minimum - distant route. Even, in the constraint versions of the mTSP and VRP, some other restrictions ( visiting time windows, number of depot s, etc. ) are included ; it is still assumed that there exists enough number of travelling salesmen or vehicles to cover all the given locations. However, in reality the number and flight range of UAVs might be ins"
          },
          "metadata": {}
        },
        {
          "output_type": "stream",
          "name": "stdout",
          "text": [
            "\tDocument Source: 15 UAV Route Planning For Maximum Target Coverage (8).pdf\n",
            "\tDocument Source Type: Journal Paper\n",
            "\tDocument Distance: 1.5119848245505678\n",
            "Document 7:\n",
            "\tDocument Text: \n"
          ]
        },
        {
          "output_type": "display_data",
          "data": {
            "text/plain": [
              "<IPython.core.display.Markdown object>"
            ],
            "text/markdown": "> Thus, if a routing plan can lead to visit all the targets, its cos t will be zero. The initial solution is constructed using Nearest Neighbors heuristic. The minimum pheromone value is defined as max10 min * ) 1 ( iteration p - = ( 6 ) As a result of Eq. ( 6 ), any edge would have pheromone at least ten times evaporat ed value of the maximum pheromone value. Thus, we do not allow unvisited edges get very low pheromone values which otherwise would decrease their probability. 4. 3. Updating Ph"
          },
          "metadata": {}
        },
        {
          "output_type": "stream",
          "name": "stdout",
          "text": [
            "\tDocument Source: 15 UAV Route Planning For Maximum Target Coverage (8).pdf\n",
            "\tDocument Source Type: Journal Paper\n",
            "\tDocument Distance: 1.5183392136370448\n",
            "Document 8:\n",
            "\tDocument Text: \n"
          ]
        },
        {
          "output_type": "display_data",
          "data": {
            "text/plain": [
              "<IPython.core.display.Markdown object>"
            ],
            "text/markdown": "> , 4 UAVs are successfully routed by the MMAS to cover all the targets while the NN prepares a routing plan for the same number of UAVs missing 4 % of the targets. Table 5. The target coverage ratios for the heuristics when FR = CD * 2. UAV TCNN TCMMAS 1 11 % 12 % 3 20 % 29 % 5 30 % 35 % 7 34 % 38 % 9 36 % 40 % 11 38 % 41 % 13 40 % 41 % 14 41 % 41 % 1 11 % 12 % 3. CONCLUSIONS In this work, we define"
          },
          "metadata": {}
        },
        {
          "output_type": "stream",
          "name": "stdout",
          "text": [
            "\tDocument Source: 15 UAV Route Planning For Maximum Target Coverage (8).pdf\n",
            "\tDocument Source Type: Journal Paper\n",
            "\tDocument Distance: 1.519430926832794\n",
            "Document 9:\n",
            "\tDocument Text: \n"
          ]
        },
        {
          "output_type": "display_data",
          "data": {
            "text/plain": [
              "<IPython.core.display.Markdown object>"
            ],
            "text/markdown": "> they have already visited some of the targets accor ding to these routes. Furthermore, for each UAV, the slack range which is the difference between the flight range and initial route distance is calculated. Whenever some new targets appear, t he proposed iterative insertion algorithm executes as"
          },
          "metadata": {}
        },
        {
          "output_type": "stream",
          "name": "stdout",
          "text": [
            "\tDocument Source: 16 A Local Optimization Technique for Assigning New Targets ABSTRACT (8).pdf\n",
            "\tDocument Source Type: Journal Paper\n",
            "\tDocument Distance: 1.520650897177158\n",
            "Document 10:\n",
            "\tDocument Text: \n"
          ]
        },
        {
          "output_type": "display_data",
          "data": {
            "text/plain": [
              "<IPython.core.display.Markdown object>"
            ],
            "text/markdown": "> Computer Science & Engineering : An International Journal ( CSEIJ ), Vol. 4, No. 1, February 2014 28In the proposed solution, each ant constructs routes for the given number of UAVs using pheromone and heuristic information. After each iteration, the solution which covers more targets with less route distance is selected as the iteration - best solution and the pheromone values of the edges on that route are increased. According to the termination condition, the algorithm stops and outputs the best route found so far as the result. To evaluate the success of the proposed method,"
          },
          "metadata": {}
        },
        {
          "output_type": "stream",
          "name": "stdout",
          "text": [
            "\tDocument Source: 15 UAV Route Planning For Maximum Target Coverage (8).pdf\n",
            "\tDocument Source Type: Journal Paper\n",
            "\tDocument Distance: 1.5302650166212748\n"
          ]
        }
      ]
    },
    {
      "cell_type": "markdown",
      "source": [
        "## 7. Observe the ChromeDB saved to the provided path\n",
        "\n",
        "List the folders and files in the chromaDB_path"
      ],
      "metadata": {
        "id": "Vn6S6rAS4lhb"
      }
    },
    {
      "cell_type": "code",
      "source": [
        "!ls \"{chromaDB_path}\""
      ],
      "metadata": {
        "colab": {
          "base_uri": "https://localhost:8080/"
        },
        "id": "RJfd2hl85T4N",
        "outputId": "579c4fb1-abc0-4e3d-cb96-87aa019c9de5"
      },
      "execution_count": null,
      "outputs": [
        {
          "output_type": "stream",
          "name": "stdout",
          "text": [
            "86c85359-5f78-4a0c-94ac-f734ca1ac34f  chroma.sqlite3\n"
          ]
        }
      ]
    },
    {
      "cell_type": "markdown",
      "source": [
        "### YES WE DID IT!"
      ],
      "metadata": {
        "id": "UUNm9qIi4sWJ"
      }
    },
    {
      "cell_type": "markdown",
      "source": [
        "# LOAD PERSISTENT CHROMADB\n",
        "\n"
      ],
      "metadata": {
        "id": "lCZkStQJsWU7"
      }
    },
    {
      "cell_type": "markdown",
      "source": [
        "Let's kill the kernel so we ensure that nothing remains in the memory from all the above ChromaDB instance."
      ],
      "metadata": {
        "id": "v-gnovuy65Zc"
      }
    },
    {
      "cell_type": "code",
      "source": [
        "from google.colab import runtime\n",
        "# Disconnect from the runtime\n",
        "!kill -9 -1"
      ],
      "metadata": {
        "id": "XuO4UOZ76JAq"
      },
      "execution_count": null,
      "outputs": []
    },
    {
      "cell_type": "markdown",
      "source": [
        "##1 Connect to source directory\n",
        "\n",
        "First get connected to the ChromaDB directory"
      ],
      "metadata": {
        "id": "eQQYkyA_0hi-"
      }
    },
    {
      "cell_type": "code",
      "source": [
        "from google.colab import drive\n",
        "drive.mount('/content/drive')"
      ],
      "metadata": {
        "colab": {
          "base_uri": "https://localhost:8080/"
        },
        "id": "0M0aAIB9tK8q",
        "outputId": "6630c2b6-9246-4765-b4bb-51be5e8d5343"
      },
      "execution_count": null,
      "outputs": [
        {
          "output_type": "stream",
          "name": "stdout",
          "text": [
            "Mounted at /content/drive\n"
          ]
        }
      ]
    },
    {
      "cell_type": "code",
      "source": [
        "# change directory to chromaDB folder\n",
        "chromaDB_path = '/content/drive/MyDrive/Colab Notebooks/ChromaDBData'\n",
        "%cd {chromaDB_path}\n"
      ],
      "metadata": {
        "colab": {
          "base_uri": "https://localhost:8080/"
        },
        "id": "hW_FIIWRuPFF",
        "outputId": "5587ef8b-f533-4ffa-eeb0-265c8e8f35f5"
      },
      "execution_count": null,
      "outputs": [
        {
          "output_type": "stream",
          "name": "stdout",
          "text": [
            "/content/drive/MyDrive/Colab Notebooks/ChromaDBData\n"
          ]
        }
      ]
    },
    {
      "cell_type": "markdown",
      "source": [
        "### Check that if chromadb_path exist or not and if exists does it contain chromadb files and folders"
      ],
      "metadata": {
        "id": "Dg1hEUMQw0wt"
      }
    },
    {
      "cell_type": "code",
      "source": [
        "import os\n",
        "if os.path.exists(chromadb_path):\n",
        "    print(f\"The directory '{chromadb_path}' exists.\")\n",
        "\n",
        "    # Check if the directory contains ChromaDB files and folders\n",
        "    chromadb_files_and_folders = os.listdir(chromadb_path)\n",
        "    if any(file_or_folder.startswith('chroma') for file_or_folder in chromadb_files_and_folders):\n",
        "        print(\"The directory contains ChromaDB files and folders.\")\n",
        "    else:\n",
        "        print(\"The directory does not contain ChromaDB files and folders.\")\n",
        "else:\n",
        "    print(f\"The directory '{chromadb_path}' does not exist.\")\n"
      ],
      "metadata": {
        "colab": {
          "base_uri": "https://localhost:8080/"
        },
        "id": "SaMkHKPLwW_J",
        "outputId": "dcb17d21-824a-403a-aeb7-abf1a82de3fd"
      },
      "execution_count": null,
      "outputs": [
        {
          "output_type": "stream",
          "name": "stdout",
          "text": [
            "The directory '/content/drive/MyDrive/Colab Notebooks/ChromaDBData' exists.\n",
            "The directory contains ChromaDB files and folders.\n"
          ]
        }
      ]
    },
    {
      "cell_type": "markdown",
      "source": [
        "##2 Install required libraries\n",
        "\n",
        "Secondly install all the required libraries and helper functions"
      ],
      "metadata": {
        "id": "jxr8k00A0uyp"
      }
    },
    {
      "cell_type": "code",
      "source": [
        "%pip install chromadb --quiet\n",
        "%pip install sentence_transformers --quiet"
      ],
      "metadata": {
        "colab": {
          "base_uri": "https://localhost:8080/"
        },
        "id": "8Q-aNfaT0Pz0",
        "outputId": "f59e2351-0bb5-44c4-e2d9-dfc615f0e340"
      },
      "execution_count": null,
      "outputs": [
        {
          "output_type": "stream",
          "name": "stdout",
          "text": [
            "\u001b[2K     \u001b[90m━━━━━━━━━━━━━━━━━━━━━━━━━━━━━━━━━━━━━━━━\u001b[0m \u001b[32m526.8/526.8 kB\u001b[0m \u001b[31m5.7 MB/s\u001b[0m eta \u001b[36m0:00:00\u001b[0m\n",
            "\u001b[2K     \u001b[90m━━━━━━━━━━━━━━━━━━━━━━━━━━━━━━━━━━━━━━━━\u001b[0m \u001b[32m2.4/2.4 MB\u001b[0m \u001b[31m13.2 MB/s\u001b[0m eta \u001b[36m0:00:00\u001b[0m\n",
            "\u001b[2K     \u001b[90m━━━━━━━━━━━━━━━━━━━━━━━━━━━━━━━━━━━━━━━━\u001b[0m \u001b[32m92.0/92.0 kB\u001b[0m \u001b[31m8.2 MB/s\u001b[0m eta \u001b[36m0:00:00\u001b[0m\n",
            "\u001b[2K     \u001b[90m━━━━━━━━━━━━━━━━━━━━━━━━━━━━━━━━━━━━━━━━\u001b[0m \u001b[32m62.4/62.4 kB\u001b[0m \u001b[31m6.7 MB/s\u001b[0m eta \u001b[36m0:00:00\u001b[0m\n",
            "\u001b[2K     \u001b[90m━━━━━━━━━━━━━━━━━━━━━━━━━━━━━━━━━━━━━━━━\u001b[0m \u001b[32m41.3/41.3 kB\u001b[0m \u001b[31m4.3 MB/s\u001b[0m eta \u001b[36m0:00:00\u001b[0m\n",
            "\u001b[2K     \u001b[90m━━━━━━━━━━━━━━━━━━━━━━━━━━━━━━━━━━━━━━━━\u001b[0m \u001b[32m6.8/6.8 MB\u001b[0m \u001b[31m31.6 MB/s\u001b[0m eta \u001b[36m0:00:00\u001b[0m\n",
            "\u001b[2K     \u001b[90m━━━━━━━━━━━━━━━━━━━━━━━━━━━━━━━━━━━━━━━━\u001b[0m \u001b[32m59.9/59.9 kB\u001b[0m \u001b[31m5.7 MB/s\u001b[0m eta \u001b[36m0:00:00\u001b[0m\n",
            "\u001b[2K     \u001b[90m━━━━━━━━━━━━━━━━━━━━━━━━━━━━━━━━━━━━━━━━\u001b[0m \u001b[32m107.0/107.0 kB\u001b[0m \u001b[31m11.8 MB/s\u001b[0m eta \u001b[36m0:00:00\u001b[0m\n",
            "\u001b[2K     \u001b[90m━━━━━━━━━━━━━━━━━━━━━━━━━━━━━━━━━━━━━━━━\u001b[0m \u001b[32m67.3/67.3 kB\u001b[0m \u001b[31m6.7 MB/s\u001b[0m eta \u001b[36m0:00:00\u001b[0m\n",
            "\u001b[?25h  Installing build dependencies ... \u001b[?25l\u001b[?25hdone\n",
            "  Getting requirements to build wheel ... \u001b[?25l\u001b[?25hdone\n",
            "  Preparing metadata (pyproject.toml) ... \u001b[?25l\u001b[?25hdone\n",
            "\u001b[2K     \u001b[90m━━━━━━━━━━━━━━━━━━━━━━━━━━━━━━━━━━━━━━━━\u001b[0m \u001b[32m283.7/283.7 kB\u001b[0m \u001b[31m19.5 MB/s\u001b[0m eta \u001b[36m0:00:00\u001b[0m\n",
            "\u001b[2K     \u001b[90m━━━━━━━━━━━━━━━━━━━━━━━━━━━━━━━━━━━━━━━━\u001b[0m \u001b[32m1.7/1.7 MB\u001b[0m \u001b[31m30.6 MB/s\u001b[0m eta \u001b[36m0:00:00\u001b[0m\n",
            "\u001b[2K     \u001b[90m━━━━━━━━━━━━━━━━━━━━━━━━━━━━━━━━━━━━━━━━\u001b[0m \u001b[32m67.6/67.6 kB\u001b[0m \u001b[31m7.5 MB/s\u001b[0m eta \u001b[36m0:00:00\u001b[0m\n",
            "\u001b[2K     \u001b[90m━━━━━━━━━━━━━━━━━━━━━━━━━━━━━━━━━━━━━━━━\u001b[0m \u001b[32m145.0/145.0 kB\u001b[0m \u001b[31m15.4 MB/s\u001b[0m eta \u001b[36m0:00:00\u001b[0m\n",
            "\u001b[2K     \u001b[90m━━━━━━━━━━━━━━━━━━━━━━━━━━━━━━━━━━━━━━━━\u001b[0m \u001b[32m71.9/71.9 kB\u001b[0m \u001b[31m4.2 MB/s\u001b[0m eta \u001b[36m0:00:00\u001b[0m\n",
            "\u001b[2K     \u001b[90m━━━━━━━━━━━━━━━━━━━━━━━━━━━━━━━━━━━━━━━━\u001b[0m \u001b[32m75.6/75.6 kB\u001b[0m \u001b[31m7.2 MB/s\u001b[0m eta \u001b[36m0:00:00\u001b[0m\n",
            "\u001b[2K     \u001b[90m━━━━━━━━━━━━━━━━━━━━━━━━━━━━━━━━━━━━━━━━\u001b[0m \u001b[32m53.6/53.6 kB\u001b[0m \u001b[31m3.0 MB/s\u001b[0m eta \u001b[36m0:00:00\u001b[0m\n",
            "\u001b[2K     \u001b[90m━━━━━━━━━━━━━━━━━━━━━━━━━━━━━━━━━━━━━━━━\u001b[0m \u001b[32m46.0/46.0 kB\u001b[0m \u001b[31m4.1 MB/s\u001b[0m eta \u001b[36m0:00:00\u001b[0m\n",
            "\u001b[2K     \u001b[90m━━━━━━━━━━━━━━━━━━━━━━━━━━━━━━━━━━━━━━━━\u001b[0m \u001b[32m52.5/52.5 kB\u001b[0m \u001b[31m5.9 MB/s\u001b[0m eta \u001b[36m0:00:00\u001b[0m\n",
            "\u001b[2K     \u001b[90m━━━━━━━━━━━━━━━━━━━━━━━━━━━━━━━━━━━━━━━━\u001b[0m \u001b[32m130.5/130.5 kB\u001b[0m \u001b[31m13.2 MB/s\u001b[0m eta \u001b[36m0:00:00\u001b[0m\n",
            "\u001b[2K     \u001b[90m━━━━━━━━━━━━━━━━━━━━━━━━━━━━━━━━━━━━━━━━\u001b[0m \u001b[32m58.3/58.3 kB\u001b[0m \u001b[31m6.3 MB/s\u001b[0m eta \u001b[36m0:00:00\u001b[0m\n",
            "\u001b[2K     \u001b[90m━━━━━━━━━━━━━━━━━━━━━━━━━━━━━━━━━━━━━━━━\u001b[0m \u001b[32m341.4/341.4 kB\u001b[0m \u001b[31m33.6 MB/s\u001b[0m eta \u001b[36m0:00:00\u001b[0m\n",
            "\u001b[2K     \u001b[90m━━━━━━━━━━━━━━━━━━━━━━━━━━━━━━━━━━━━━━━━\u001b[0m \u001b[32m3.4/3.4 MB\u001b[0m \u001b[31m54.1 MB/s\u001b[0m eta \u001b[36m0:00:00\u001b[0m\n",
            "\u001b[2K     \u001b[90m━━━━━━━━━━━━━━━━━━━━━━━━━━━━━━━━━━━━━━━━\u001b[0m \u001b[32m1.2/1.2 MB\u001b[0m \u001b[31m50.5 MB/s\u001b[0m eta \u001b[36m0:00:00\u001b[0m\n",
            "\u001b[2K     \u001b[90m━━━━━━━━━━━━━━━━━━━━━━━━━━━━━━━━━━━━━━━━\u001b[0m \u001b[32m130.2/130.2 kB\u001b[0m \u001b[31m14.5 MB/s\u001b[0m eta \u001b[36m0:00:00\u001b[0m\n",
            "\u001b[2K     \u001b[90m━━━━━━━━━━━━━━━━━━━━━━━━━━━━━━━━━━━━━━━━\u001b[0m \u001b[32m307.7/307.7 kB\u001b[0m \u001b[31m27.9 MB/s\u001b[0m eta \u001b[36m0:00:00\u001b[0m\n",
            "\u001b[2K     \u001b[90m━━━━━━━━━━━━━━━━━━━━━━━━━━━━━━━━━━━━━━━━\u001b[0m \u001b[32m77.9/77.9 kB\u001b[0m \u001b[31m8.9 MB/s\u001b[0m eta \u001b[36m0:00:00\u001b[0m\n",
            "\u001b[2K     \u001b[90m━━━━━━━━━━━━━━━━━━━━━━━━━━━━━━━━━━━━━━━━\u001b[0m \u001b[32m86.8/86.8 kB\u001b[0m \u001b[31m9.7 MB/s\u001b[0m eta \u001b[36m0:00:00\u001b[0m\n",
            "\u001b[?25h  Building wheel for pypika (pyproject.toml) ... \u001b[?25l\u001b[?25hdone\n",
            "\u001b[2K     \u001b[90m━━━━━━━━━━━━━━━━━━━━━━━━━━━━━━━━━━━━━━━━\u001b[0m \u001b[32m227.1/227.1 kB\u001b[0m \u001b[31m4.4 MB/s\u001b[0m eta \u001b[36m0:00:00\u001b[0m\n",
            "\u001b[2K     \u001b[90m━━━━━━━━━━━━━━━━━━━━━━━━━━━━━━━━━━━━━━━━\u001b[0m \u001b[32m21.3/21.3 MB\u001b[0m \u001b[31m48.6 MB/s\u001b[0m eta \u001b[36m0:00:00\u001b[0m\n",
            "\u001b[?25h"
          ]
        }
      ]
    },
    {
      "cell_type": "code",
      "source": [
        "from chromadb.config import DEFAULT_TENANT, DEFAULT_DATABASE, Settings\n",
        "from chromadb import Client, PersistentClient\n",
        "from chromadb.utils import embedding_functions\n"
      ],
      "metadata": {
        "id": "zCT7F72PseyP"
      },
      "execution_count": null,
      "outputs": []
    },
    {
      "cell_type": "code",
      "source": [
        "import textwrap\n",
        "from IPython.display import display\n",
        "from IPython.display import Markdown\n",
        "def to_markdown(text):\n",
        "  text = text.replace('•', '  *')\n",
        "  return Markdown(textwrap.indent(text, '> ', predicate=lambda _: True))"
      ],
      "metadata": {
        "id": "tPsQ2-K20CmE"
      },
      "execution_count": null,
      "outputs": []
    },
    {
      "cell_type": "code",
      "source": [
        "def retrieveDocs(chroma_collection, query, n_results=5,\n",
        "                 return_only_docs=False, filterType=None, filterValue=None):\n",
        "    if filterType is not None and filterValue is not None:\n",
        "        results = chroma_collection.query(\n",
        "            query_texts=[query],\n",
        "            include=[\"documents\", \"metadatas\", \"distances\"],\n",
        "            where={filterType: filterValue},\n",
        "            n_results=n_results)\n",
        "\n",
        "    else:\n",
        "        results = chroma_collection.query(\n",
        "            query_texts=[query],\n",
        "            include= [ \"documents\",\"metadatas\",'distances' ],\n",
        "            n_results=n_results)\n",
        "\n",
        "    if return_only_docs:\n",
        "        return results['documents'][0]\n",
        "    else:\n",
        "        return results"
      ],
      "metadata": {
        "id": "xh4T7meazUSF"
      },
      "execution_count": null,
      "outputs": []
    },
    {
      "cell_type": "code",
      "source": [
        "def show_results(results, return_only_docs=False):\n",
        "\n",
        "  if return_only_docs:\n",
        "    retrieved_documents = results\n",
        "    if len(retrieved_documents) == 0:\n",
        "      print(\"No results found.\")\n",
        "      return\n",
        "    for i, doc in enumerate(retrieved_documents):\n",
        "      print(f\"Document {i+1}:\")\n",
        "      print(\"\\tDocument Text: \")\n",
        "      display(to_markdown(doc));\n",
        "  else:\n",
        "\n",
        "      retrieved_documents = results['documents'][0]\n",
        "      if len(retrieved_documents) == 0:\n",
        "          print(\"No results found.\")\n",
        "          return\n",
        "      retrieved_documents_metadata = results['metadatas'][0]\n",
        "      retrieved_documents_distances = results['distances'][0]\n",
        "      print(\"------- retreived documents -------\\n\")\n",
        "\n",
        "      for i, doc in enumerate(retrieved_documents):\n",
        "          print(f\"Document {i+1}:\")\n",
        "          print(\"\\tDocument Text: \")\n",
        "          display(to_markdown(doc));\n",
        "          print(f\"\\tDocument Source: {retrieved_documents_metadata[i]['document']}\")\n",
        "          print(f\"\\tDocument Source Type: {retrieved_documents_metadata[i]['category']}\")\n",
        "          print(f\"\\tDocument Distance: {retrieved_documents_distances[i]}\")\n"
      ],
      "metadata": {
        "id": "4FPBhuz_zlFE"
      },
      "execution_count": null,
      "outputs": []
    },
    {
      "cell_type": "markdown",
      "source": [
        "##3 Initailizing\n",
        "\n",
        " Now, we can begin to upload the persistent ChromaDB from the location by initailizing\n",
        "*  the chromaDB client\n",
        "*  the chromaDB collections"
      ],
      "metadata": {
        "id": "Mn3OPY0r1axg"
      }
    },
    {
      "cell_type": "code",
      "source": [
        "# Initialize ChromaDB client with Google Drive connection\n",
        "drive_path = '/content/drive/MyDrive/Colab Notebooks/ChromaDBData'"
      ],
      "metadata": {
        "id": "4KSU9-YBtBiH"
      },
      "execution_count": null,
      "outputs": []
    },
    {
      "cell_type": "code",
      "source": [
        "chroma_client2 = PersistentClient(path=drive_path,\n",
        "                                     settings=Settings(),\n",
        "                                     tenant=DEFAULT_TENANT,\n",
        "                                     database=DEFAULT_DATABASE,)"
      ],
      "metadata": {
        "id": "iL-3d53fB7c6"
      },
      "execution_count": null,
      "outputs": []
    },
    {
      "cell_type": "code",
      "source": [
        "chroma_client2.list_collections()"
      ],
      "metadata": {
        "colab": {
          "base_uri": "https://localhost:8080/"
        },
        "id": "TX3GuXTpB69J",
        "outputId": "5600d9af-514f-43cc-e521-29045dfdcf01"
      },
      "execution_count": null,
      "outputs": [
        {
          "output_type": "execute_result",
          "data": {
            "text/plain": [
              "[Collection(name=Papers)]"
            ]
          },
          "metadata": {},
          "execution_count": 17
        }
      ]
    },
    {
      "cell_type": "code",
      "source": [
        "collection_name = \"Papers\"\n",
        "sentence_transformer_model=\"distiluse-base-multilingual-cased-v1\"\n",
        "embedding_function= embedding_functions.SentenceTransformerEmbeddingFunction(\n",
        "    model_name=sentence_transformer_model)\n"
      ],
      "metadata": {
        "id": "ZsgtHESYvq80",
        "colab": {
          "base_uri": "https://localhost:8080/",
          "height": 554,
          "referenced_widgets": [
            "d3d10cbf9ad149569c223e6eb5b399ee",
            "184064220f7748cf9cb2bbca4e8d2f44",
            "de5cb20196a7435cab2644b1f05d1875",
            "d0ba6eab5dcb4538b70c33dd57e0c2fb",
            "8e6e9c77bcbb43838ca424129975fbe9",
            "a946fd22ef904801868d5b73a5312596",
            "719395fb9da84e0b809ece7c3fe76fff",
            "0b35427125ab44c08072fff65e4c65d1",
            "83905f2a3b3a4e20ba31b1af5b6ca6a0",
            "51103a65799842aba619a0ec5eabd9db",
            "08cf7ad8748b4aceb440d4305b4f8761",
            "4b1b66c69d4d416ebc86bff043aef487",
            "73a839719ac740f8944b4814d6762e2f",
            "889c7c8f15db4bffaa51364006ea8f2e",
            "c609bc5af7464120954f46d0455374b2",
            "18e8763a8862498bb5e99f2b45166326",
            "975f7aab9de34e28a63bf30a078c0063",
            "2c03a8f00b7742d5a70aa486d5536347",
            "f133c3b77885451f87a97ba26e5645f9",
            "aefd7717500c4ade9ee55d3204fbbde5",
            "a1ffcfe2fb494a0fb9ba40813c0e4692",
            "22fc87ac8f9a47d6a028767bbd0a7367",
            "f52854775ddb4db6ae492dfb6df9e704",
            "17e9469cfd0241bcb02aface72a974cd",
            "7501530b281b41d1a92cff971f1e7fa0",
            "e87a3eeced7c49569c9bce92018522fa",
            "cdfce4a09ece41dc85e6bebc54519c37",
            "a70171b902dc48b4aa3cdf029eb60824",
            "02b3d27d238c4f8592094244f4c40bc0",
            "739da459bb974899b9986b1cd5aaa534",
            "6e0e4dad89dd408bb0ad7f527ffe28ce",
            "4019b102948747699f4955148ed088fc",
            "3fd882f07ab4411988acc03a0a8929ee",
            "b456f0899f2543d88e0aac66bb2d8f68",
            "6b1fcab71fa14fc0acbe94e1a928f551",
            "fd03d4a7d4b34dc092d6b72715932a3f",
            "2f1793a02b0e497abec831fbe51e8c9d",
            "a73c48d4a20647b39826eb4b80d4e9ab",
            "9a774095e0b14bbe9005a0cf8a8281b7",
            "1cf03ba64fa64532973a374d6387d475",
            "535026efef164bde877fae5774ada2ab",
            "629c103cf7764b47817b6d0ee6156d97",
            "a769952ec85748b19c861df54f70632e",
            "0fae116310a843af813b98e6c67b6b06",
            "cb536c7a538141b8a0e261f2c534019e",
            "1c8eeca78360427baa1a2fb578b3c5cf",
            "8fb7c06563824c4ca72c48373f24f246",
            "b8d72276a1b14833b7ca20b4630421a2",
            "94ec671337e94e6daa30a313f082f45b",
            "1777367338c640c3a50f79c9f79eb8b8",
            "c27a88ed5aa140a4bd0f013b28d6b27b",
            "cf16236effce4edab2709fc0bac6c9f5",
            "fcca326351c74ba7a214565dd0cc52d7",
            "9e68642d7e1443309902e4dd6c839871",
            "b49dd58a23a440ffa0a4b973e306c24f",
            "ba9c46368d0940f5b4bb3904b9905943",
            "43ad47d350d74fa687817d28615f0eb0",
            "3e7efec7f3e749a5b4a204d650e8b95f",
            "76af32b4ed924eb280eb6fb64f194205",
            "ce0b0d75a79243bd91c2c992d9983b6a",
            "0a16c550e0c34f9ab120f7f349247f5e",
            "29ed082909d242dcba560bf520f5170e",
            "aa21aed648454ae58a41457b08efb745",
            "bc39de9b68f045478fc4628006451f22",
            "6524807c2a3c47bdb0d6996041a37d49",
            "8e3c3471211c40239e00ef3bd5631966",
            "dc46aa4294af42958829879068c3cc9d",
            "ba48e898093640cba5b81be8764633e7",
            "94ad5cac9316408f9cf063a08dccd933",
            "157e4daa107c46858314b35e0b10c582",
            "23adc6c6294f48388ed9c5ab0c2d4227",
            "cc4d35cbac144057a5a9ec033346bee5",
            "2d3d56a6b5bf4b4789228bbb8d1afef5",
            "130c02c4d512417da24cab56d102205b",
            "fadf22e425504711b4593bc86e15e493",
            "bd13d733620a42a3a532790c2fefe64a",
            "33ad74d04d5d4ff6a936060501aebdb6",
            "e6654b1d6a294abb9998f057e19e3891",
            "42d6373567ec4b77b4b2c59ccc2f22b3",
            "5d8be703a8cc4d40895d706ad74900c1",
            "cf542604d0314292981f2ab6fb83b7d4",
            "25a0321368c94386877b3942cc65e30b",
            "19e79e74ae734775a481837add4d974f",
            "ff32426151ee49efbc0b7e89a8684fc3",
            "0c830ec9cdde4499a5612efbf4b2fcde",
            "61a0f3a751fa4c848dee0c967424adab",
            "8711bc4d728f4f51ac55a9193d20717e",
            "9fc1a208ff314ea1be6bebd34e10e646",
            "c60c255c15d1465091d45916f32a9e3b",
            "d6c66574e81248b7840070f23eed08d2",
            "0d267f4ff0104fa0a90c2e0856e6daca",
            "e136b5fd452045b7b247f4a2c15a0746",
            "b8c7c69cbce349d5aef68e2fa153b021",
            "a2a8c9307dc4417e8b4e8621e5d2d156",
            "4704466b7b694cd48380a3f8e61ccda2",
            "4fb4397d8d5747be86661767b6682bff",
            "876c7b47f6214329bcfbc94000cdffd7",
            "4185fd800bc24f19838ffc2a5e2e390f",
            "6411d36f59614d9083b6322cf96b538d",
            "f458377a653c48e1aecb80189fcbc5b3",
            "713c8e243e80441a9b7c9ad09d61eb18",
            "3934a6e23e434fa6923a4e5e53a788b4",
            "30661870ed124972953fe3052ca45713",
            "e8e81bd2f1514c208cb30006ba1b9442",
            "593a846b4be34871bcf1814b0dba15d9",
            "c0b4147bdd864d21a06e755513b759cd",
            "45934a89cb784cd29bd65c540bfe18ed",
            "817d46af464c41f5b740fcb8c16c8f79",
            "67189741f09d46359d0a80ba8bdf4325",
            "47a46f13ad3948c7ad85bbeddaeb2458",
            "bbd89987fcb34ea8af04af3225bd4f94",
            "7f5f0aa04e954b6bbe459f826105689b",
            "3dfffdccaf2c4be29eacf2b601bdb8d8",
            "d10acefbad604919ad868c8a291cdb8c",
            "1b1b3b89fe734e3aa5e5e863986c1192",
            "6fecc13c773e4821bf69748003a9af85",
            "89e70825c1494e85898478ea76d02bad",
            "0dd865dd82d24907802e47057c6cdda9",
            "2c2984e35d0b4af4aa231cdeb6220f37",
            "1ef5d9d0a56e444eaa89336cbfe6d712",
            "f9e94eec0b2849e599145ea3efa4da9b",
            "117d96bd47cd451bb47e3e6b02efbf63",
            "ba852090677f4039b4b4a204bd4f0a21",
            "4df57f24edf940a59bda76621099d406",
            "545a2839b920424b98de31172bccf412",
            "dca9ffe353c24b97ad78df1344d985ec",
            "f6be5ead66d34b0c89a06899f06a5eca",
            "7a25b5ebfd4048e08521a42663c63c34",
            "e9b02415c9ef4a38bc33bd50aecc44c0",
            "08d44fd587544b4a8015f4c38495514f",
            "aef79ed17b844de29dc3c6513f027323",
            "b438ca299f2f46d1b82d1aec6626aab5",
            "d1231a07f7ab44edbb86e3f66b0ca884",
            "c526a7a875014451aa4f3564c0dbdbfc",
            "eb435bb16b064df691db8a496548d635",
            "1d6ab1f4a60a4246b2bb3c03a132210a",
            "b976389e06fd45fe80f387ffc43c0c04",
            "52b9c9511da04f6b80e7dea69873b17c",
            "44e78e54231b4662b4585615f6fc0193",
            "f115e38d66fc41e894fac42155775fb7",
            "73fe615ffc0246669d521fc9ea99f236",
            "ef0c89638a894bd49b1321fa78b00e7f",
            "c3f383684caa454f82343777feae0611",
            "3a2e36e3895b4363a5f2207ce1696b4d",
            "58522ad1fce54278b53c23aafdc29f5e",
            "a6534c54956048a18a0dd92764df2fd0",
            "796eae03d84042e1a8a026038f22db55",
            "15bd7c310be744b18c578096c2736165",
            "4b859ce742ca4f09ada311d143b159dc",
            "aad02dd938f84f9bbfb81261cadbcaa8",
            "4403344311d94aa8a3f2f0acf75ff834",
            "d0136e1cf7ca4d83af00acbf399649f3",
            "aa84034d9d204bf2850bfe894cee0cc5",
            "edb366ef9e79432dab9700369c0d36b9"
          ]
        },
        "outputId": "5a8f922d-fdb1-4d37-a0cb-5b299b1d43f6"
      },
      "execution_count": null,
      "outputs": [
        {
          "output_type": "stream",
          "name": "stderr",
          "text": [
            "/usr/local/lib/python3.10/dist-packages/sentence_transformers/cross_encoder/CrossEncoder.py:11: TqdmExperimentalWarning: Using `tqdm.autonotebook.tqdm` in notebook mode. Use `tqdm.tqdm` instead to force console mode (e.g. in jupyter console)\n",
            "  from tqdm.autonotebook import tqdm, trange\n"
          ]
        },
        {
          "output_type": "display_data",
          "data": {
            "text/plain": [
              "modules.json:   0%|          | 0.00/341 [00:00<?, ?B/s]"
            ],
            "application/vnd.jupyter.widget-view+json": {
              "version_major": 2,
              "version_minor": 0,
              "model_id": "d3d10cbf9ad149569c223e6eb5b399ee"
            }
          },
          "metadata": {}
        },
        {
          "output_type": "display_data",
          "data": {
            "text/plain": [
              "config_sentence_transformers.json:   0%|          | 0.00/122 [00:00<?, ?B/s]"
            ],
            "application/vnd.jupyter.widget-view+json": {
              "version_major": 2,
              "version_minor": 0,
              "model_id": "4b1b66c69d4d416ebc86bff043aef487"
            }
          },
          "metadata": {}
        },
        {
          "output_type": "display_data",
          "data": {
            "text/plain": [
              "README.md:   0%|          | 0.00/2.47k [00:00<?, ?B/s]"
            ],
            "application/vnd.jupyter.widget-view+json": {
              "version_major": 2,
              "version_minor": 0,
              "model_id": "f52854775ddb4db6ae492dfb6df9e704"
            }
          },
          "metadata": {}
        },
        {
          "output_type": "display_data",
          "data": {
            "text/plain": [
              "sentence_bert_config.json:   0%|          | 0.00/53.0 [00:00<?, ?B/s]"
            ],
            "application/vnd.jupyter.widget-view+json": {
              "version_major": 2,
              "version_minor": 0,
              "model_id": "b456f0899f2543d88e0aac66bb2d8f68"
            }
          },
          "metadata": {}
        },
        {
          "output_type": "stream",
          "name": "stderr",
          "text": [
            "/usr/local/lib/python3.10/dist-packages/huggingface_hub/file_download.py:1132: FutureWarning: `resume_download` is deprecated and will be removed in version 1.0.0. Downloads always resume when possible. If you want to force a new download, use `force_download=True`.\n",
            "  warnings.warn(\n"
          ]
        },
        {
          "output_type": "display_data",
          "data": {
            "text/plain": [
              "config.json:   0%|          | 0.00/556 [00:00<?, ?B/s]"
            ],
            "application/vnd.jupyter.widget-view+json": {
              "version_major": 2,
              "version_minor": 0,
              "model_id": "cb536c7a538141b8a0e261f2c534019e"
            }
          },
          "metadata": {}
        },
        {
          "output_type": "display_data",
          "data": {
            "text/plain": [
              "model.safetensors:   0%|          | 0.00/539M [00:00<?, ?B/s]"
            ],
            "application/vnd.jupyter.widget-view+json": {
              "version_major": 2,
              "version_minor": 0,
              "model_id": "ba9c46368d0940f5b4bb3904b9905943"
            }
          },
          "metadata": {}
        },
        {
          "output_type": "display_data",
          "data": {
            "text/plain": [
              "tokenizer_config.json:   0%|          | 0.00/452 [00:00<?, ?B/s]"
            ],
            "application/vnd.jupyter.widget-view+json": {
              "version_major": 2,
              "version_minor": 0,
              "model_id": "dc46aa4294af42958829879068c3cc9d"
            }
          },
          "metadata": {}
        },
        {
          "output_type": "display_data",
          "data": {
            "text/plain": [
              "vocab.txt:   0%|          | 0.00/996k [00:00<?, ?B/s]"
            ],
            "application/vnd.jupyter.widget-view+json": {
              "version_major": 2,
              "version_minor": 0,
              "model_id": "e6654b1d6a294abb9998f057e19e3891"
            }
          },
          "metadata": {}
        },
        {
          "output_type": "display_data",
          "data": {
            "text/plain": [
              "tokenizer.json:   0%|          | 0.00/1.96M [00:00<?, ?B/s]"
            ],
            "application/vnd.jupyter.widget-view+json": {
              "version_major": 2,
              "version_minor": 0,
              "model_id": "c60c255c15d1465091d45916f32a9e3b"
            }
          },
          "metadata": {}
        },
        {
          "output_type": "display_data",
          "data": {
            "text/plain": [
              "special_tokens_map.json:   0%|          | 0.00/112 [00:00<?, ?B/s]"
            ],
            "application/vnd.jupyter.widget-view+json": {
              "version_major": 2,
              "version_minor": 0,
              "model_id": "f458377a653c48e1aecb80189fcbc5b3"
            }
          },
          "metadata": {}
        },
        {
          "output_type": "display_data",
          "data": {
            "text/plain": [
              "1_Pooling/config.json:   0%|          | 0.00/190 [00:00<?, ?B/s]"
            ],
            "application/vnd.jupyter.widget-view+json": {
              "version_major": 2,
              "version_minor": 0,
              "model_id": "bbd89987fcb34ea8af04af3225bd4f94"
            }
          },
          "metadata": {}
        },
        {
          "output_type": "display_data",
          "data": {
            "text/plain": [
              "2_Dense/config.json:   0%|          | 0.00/114 [00:00<?, ?B/s]"
            ],
            "application/vnd.jupyter.widget-view+json": {
              "version_major": 2,
              "version_minor": 0,
              "model_id": "117d96bd47cd451bb47e3e6b02efbf63"
            }
          },
          "metadata": {}
        },
        {
          "output_type": "display_data",
          "data": {
            "text/plain": [
              "pytorch_model.bin:   0%|          | 0.00/1.58M [00:00<?, ?B/s]"
            ],
            "application/vnd.jupyter.widget-view+json": {
              "version_major": 2,
              "version_minor": 0,
              "model_id": "d1231a07f7ab44edbb86e3f66b0ca884"
            }
          },
          "metadata": {}
        },
        {
          "output_type": "display_data",
          "data": {
            "text/plain": [
              "model.safetensors:   0%|          | 0.00/1.58M [00:00<?, ?B/s]"
            ],
            "application/vnd.jupyter.widget-view+json": {
              "version_major": 2,
              "version_minor": 0,
              "model_id": "3a2e36e3895b4363a5f2207ce1696b4d"
            }
          },
          "metadata": {}
        }
      ]
    },
    {
      "cell_type": "code",
      "source": [
        "chroma_collection2 = chroma_client2.get_or_create_collection(\n",
        "      collection_name,\n",
        "      embedding_function=embedding_function)"
      ],
      "metadata": {
        "id": "bSAESLFfrosn"
      },
      "execution_count": null,
      "outputs": []
    },
    {
      "cell_type": "markdown",
      "source": [
        "##4 Test\n",
        "\n",
        "Test the loaded ChromeDB client and the collection"
      ],
      "metadata": {
        "id": "VPYaFV8a12YA"
      }
    },
    {
      "cell_type": "code",
      "source": [
        "chroma_collection2.get(['0'])"
      ],
      "metadata": {
        "colab": {
          "base_uri": "https://localhost:8080/"
        },
        "id": "bPHuH6bbLbED",
        "outputId": "4968facd-0b90-4032-f0cf-15e20d136ac3"
      },
      "execution_count": null,
      "outputs": [
        {
          "output_type": "execute_result",
          "data": {
            "text/plain": [
              "{'ids': ['0'],\n",
              " 'embeddings': None,\n",
              " 'metadatas': [{'category': 'Journal Paper',\n",
              "   'document': '15 UAV Route Planning For Maximum Target Coverage (8).pdf'}],\n",
              " 'documents': ['Computer Science & Engineering : An International Journal ( CSEIJ ), Vol. 4, No. 1, February 2014 DOI : 10. 5121 / cseij. 2014. 410 3 27UAVROUTEPLANNING FORMAXIMUMTARGET COVERAGE MuratKarakaya1 1Department of Computer Engineering, Atilim University, Ankara, Turkey ABSTRACT Utilization of Unmanned Aerial Vehicles ( UAVs ) in military and civil operations is getting popular. One of the challenges in effectively tasking these expensive vehicles is planning'],\n",
              " 'uris': None,\n",
              " 'data': None}"
            ]
          },
          "metadata": {},
          "execution_count": 20
        }
      ]
    },
    {
      "cell_type": "markdown",
      "source": [
        "```python\n",
        "chroma_collection.get(['0'])\n",
        "\n",
        "{'ids': ['0'],\n",
        " 'embeddings': None,\n",
        " 'metadatas': [{'category': 'Journal Paper',\n",
        "   'document': '15 UAV Route Planning For Maximum Target Coverage.pdf'}],\n",
        " 'documents': ['Computer Science & Engineering : An International Journal ( CSEIJ ), Vol. 4, No. 1,\n",
        " February 2014 DOI : 10. 5121 / cseij. 2014. 410 3 27UAVROUTEPLANNING FORMAXIMUMTARGET COVERAGE MuratKarakaya1\n",
        " 1Department of Computer Engineering, Atilim University, Ankara, Turkey ABSTRACT Utilization of Unmanned Aerial\n",
        " Vehicles ( UAVs ) in military and civil operations is getting popular. One of the challenges in effectively\n",
        "  tasking these expensive vehicles is planning'],\n",
        " 'uris': None,\n",
        " 'data': None}\n",
        "```"
      ],
      "metadata": {
        "id": "UL3rKoy9x8n8"
      }
    },
    {
      "cell_type": "code",
      "source": [
        "query = \"What is Target Coverage?\""
      ],
      "metadata": {
        "id": "U2NsqZQwy9mx"
      },
      "execution_count": null,
      "outputs": []
    },
    {
      "cell_type": "code",
      "source": [
        "retrieved_documents=retrieveDocs(chroma_collection2, query, 10)\n",
        "show_results(retrieved_documents)"
      ],
      "metadata": {
        "colab": {
          "base_uri": "https://localhost:8080/",
          "height": 1000
        },
        "id": "bo0CKmb2KJ_A",
        "outputId": "57eb4dfd-72ff-401d-c9e2-d6342fc9a4bf"
      },
      "execution_count": null,
      "outputs": [
        {
          "output_type": "stream",
          "name": "stdout",
          "text": [
            "------- retreived documents -------\n",
            "\n",
            "Document 1:\n",
            "\tDocument Text: \n"
          ]
        },
        {
          "output_type": "display_data",
          "data": {
            "text/plain": [
              "<IPython.core.display.Markdown object>"
            ],
            "text/markdown": "> distance of the farthest target from the selected base. We test threeFRs with respect to the CDas Case 1 : FR = CD, Case 2 : FR = CD / 2, and Case 3 : FR = CD * 2. The main performance metric, Target Coverage ( TC ), is the ratio of the number of the targets visited by all the UAVs to the existing targets as formulated below : 100 * allvisited TTTC = ( 9 ) To obtain the results, we run each simulation 10 times and get the averages of these results to find the mean values. 5. 1. Results"
          },
          "metadata": {}
        },
        {
          "output_type": "stream",
          "name": "stdout",
          "text": [
            "\tDocument Source: 15 UAV Route Planning For Maximum Target Coverage (8).pdf\n",
            "\tDocument Source Type: Journal Paper\n",
            "\tDocument Distance: 1.303858609999323\n",
            "Document 2:\n",
            "\tDocument Text: \n"
          ]
        },
        {
          "output_type": "display_data",
          "data": {
            "text/plain": [
              "<IPython.core.display.Markdown object>"
            ],
            "text/markdown": "> , 4 UAVs are successfully routed by the MMAS to cover all the targets while the NN prepares a routing plan for the same number of UAVs missing 4 % of the targets. Table 5. The target coverage ratios for the heuristics when FR = CD * 2. UAV TCNN TCMMAS 1 11 % 12 % 3 20 % 29 % 5 30 % 35 % 7 34 % 38 % 9 36 % 40 % 11 38 % 41 % 13 40 % 41 % 14 41 % 41 % 1 11 % 12 % 3. CONCLUSIONS In this work, we define"
          },
          "metadata": {}
        },
        {
          "output_type": "stream",
          "name": "stdout",
          "text": [
            "\tDocument Source: 15 UAV Route Planning For Maximum Target Coverage (8).pdf\n",
            "\tDocument Source Type: Journal Paper\n",
            "\tDocument Distance: 1.3110774849579452\n",
            "Document 3:\n",
            "\tDocument Text: \n"
          ]
        },
        {
          "output_type": "display_data",
          "data": {
            "text/plain": [
              "<IPython.core.display.Markdown object>"
            ],
            "text/markdown": "> on the maximum and minimum values of the pheromone values that can be compiled on an edge. We apply MMAS to find a route planning to cover most of the targets as explained belo w. 4. APPLYINGMMASTOTARGETCOVERAGE PROBLEM Below, we first explain the MMAS basics and then provide the algorithm to generate a solution to cover maximum number of targets. 2. 1. Selecting Next Target In MMAS, each artificial ant tries to create a route planning for all the UAVs by visiting targets considering the given problem constraints. Beginning"
          },
          "metadata": {}
        },
        {
          "output_type": "stream",
          "name": "stdout",
          "text": [
            "\tDocument Source: 15 UAV Route Planning For Maximum Target Coverage (8).pdf\n",
            "\tDocument Source Type: Journal Paper\n",
            "\tDocument Distance: 1.323723876045269\n",
            "Document 4:\n",
            "\tDocument Text: \n"
          ]
        },
        {
          "output_type": "display_data",
          "data": {
            "text/plain": [
              "<IPython.core.display.Markdown object>"
            ],
            "text/markdown": "> ##s or new targets are finished. If there are still uncovered new targets after trying all UAVs, the algorithm proceeds the second phase in which a 2 - opt technique is applied to the modified UAV routes for increasing the slack range s. Then, the first phase of the algorithm is re - run for the remaining uncovered targets. Algorithm will terminate either all the new targets are covered or 2 - opt technique does not produce any better slack ranges. This local optimization technique is implemented using Mason simulation library and tested with various experiments for different parameter settings and TSP data"
          },
          "metadata": {}
        },
        {
          "output_type": "stream",
          "name": "stdout",
          "text": [
            "\tDocument Source: 16 A Local Optimization Technique for Assigning New Targets ABSTRACT (8).pdf\n",
            "\tDocument Source Type: Journal Paper\n",
            "\tDocument Distance: 1.3404909250098955\n",
            "Document 5:\n",
            "\tDocument Text: \n"
          ]
        },
        {
          "output_type": "display_data",
          "data": {
            "text/plain": [
              "<IPython.core.display.Markdown object>"
            ],
            "text/markdown": "> generate more target coverage compared to the NN heuristic."
          },
          "metadata": {}
        },
        {
          "output_type": "stream",
          "name": "stdout",
          "text": [
            "\tDocument Source: 15 UAV Route Planning For Maximum Target Coverage (8).pdf\n",
            "\tDocument Source Type: Journal Paper\n",
            "\tDocument Distance: 1.3665156970266095\n",
            "Document 6:\n",
            "\tDocument Text: \n"
          ]
        },
        {
          "output_type": "display_data",
          "data": {
            "text/plain": [
              "<IPython.core.display.Markdown object>"
            ],
            "text/markdown": "> ] and the Vehicle Routing Problem ( VRP ) [ 6 ]. In these well - defined problems, it is mostly assume d that travelling salesmen or vehicles should visit all the targets and the target function is defined as to find a minimum - distant route. Even, in the constraint versions of the mTSP and VRP, some other restrictions ( visiting time windows, number of depot s, etc. ) are included ; it is still assumed that there exists enough number of travelling salesmen or vehicles to cover all the given locations. However, in reality the number and flight range of UAVs might be ins"
          },
          "metadata": {}
        },
        {
          "output_type": "stream",
          "name": "stdout",
          "text": [
            "\tDocument Source: 15 UAV Route Planning For Maximum Target Coverage (8).pdf\n",
            "\tDocument Source Type: Journal Paper\n",
            "\tDocument Distance: 1.3945648200810192\n",
            "Document 7:\n",
            "\tDocument Text: \n"
          ]
        },
        {
          "output_type": "display_data",
          "data": {
            "text/plain": [
              "<IPython.core.display.Markdown object>"
            ],
            "text/markdown": "> Thus, if a routing plan can lead to visit all the targets, its cos t will be zero. The initial solution is constructed using Nearest Neighbors heuristic. The minimum pheromone value is defined as max10 min * ) 1 ( iteration p - = ( 6 ) As a result of Eq. ( 6 ), any edge would have pheromone at least ten times evaporat ed value of the maximum pheromone value. Thus, we do not allow unvisited edges get very low pheromone values which otherwise would decrease their probability. 4. 3. Updating Ph"
          },
          "metadata": {}
        },
        {
          "output_type": "stream",
          "name": "stdout",
          "text": [
            "\tDocument Source: 15 UAV Route Planning For Maximum Target Coverage (8).pdf\n",
            "\tDocument Source Type: Journal Paper\n",
            "\tDocument Distance: 1.4261031915633489\n",
            "Document 8:\n",
            "\tDocument Text: \n"
          ]
        },
        {
          "output_type": "display_data",
          "data": {
            "text/plain": [
              "<IPython.core.display.Markdown object>"
            ],
            "text/markdown": "> flight range, and the number of total targets visited by the all UAVs is maximized. Thus the target function is to maximize the number of targets to be visited by the al l UAVs. The constraints are the flight range and the number of UAVs. 3. MAX - MINANTSYSTEM Stützle and Hoos proposed the Max - Min Ant Colony System ( MMAS ) as a successful alternative to Ant System ( AS ) [ 8 ]. In the referenced work, they show the relative success. The basic difference between the MMAS and AS is the setting up limits"
          },
          "metadata": {}
        },
        {
          "output_type": "stream",
          "name": "stdout",
          "text": [
            "\tDocument Source: 15 UAV Route Planning For Maximum Target Coverage (8).pdf\n",
            "\tDocument Source Type: Journal Paper\n",
            "\tDocument Distance: 1.4261147814174622\n",
            "Document 9:\n",
            "\tDocument Text: \n"
          ]
        },
        {
          "output_type": "display_data",
          "data": {
            "text/plain": [
              "<IPython.core.display.Markdown object>"
            ],
            "text/markdown": "> the flight routes to monitor the targets. In this work, we aim to develop an algorithm which produces routing plans for a limited number of UAVs to cover maximum number of target s considering their flight range. The proposed solution for this practical optimization problem is designed by modifying the Max - Min Ant System ( MMAS ) algorithm. To evaluate the success of the proposed method, an alternative approach, based on the Neares t Neighbour ( NN ) heuristic, has been developed as well. The results showed the success of the proposed MMAS method by increasing the number of covered targets compared to the"
          },
          "metadata": {}
        },
        {
          "output_type": "stream",
          "name": "stdout",
          "text": [
            "\tDocument Source: 15 UAV Route Planning For Maximum Target Coverage (8).pdf\n",
            "\tDocument Source Type: Journal Paper\n",
            "\tDocument Distance: 1.4322809030976014\n",
            "Document 10:\n",
            "\tDocument Text: \n"
          ]
        },
        {
          "output_type": "display_data",
          "data": {
            "text/plain": [
              "<IPython.core.display.Markdown object>"
            ],
            "text/markdown": "> means that either all the targets are visited or the flight range is not enough to visit any targets any more. Then, ant returns t o the base. Thus, a route for a UAV is completed. The ant begins a new route for the next UAV with a refreshed flight range. When all the routes are prepared for all the UAVs an iteration of the ants has been finished. Each ant builds its own route plannin g simultaneously by exploiting the experiences of other ants by sensing the pheromone values in the formula. 4. 2. Assigning Initial Phero"
          },
          "metadata": {}
        },
        {
          "output_type": "stream",
          "name": "stdout",
          "text": [
            "\tDocument Source: 15 UAV Route Planning For Maximum Target Coverage (8).pdf\n",
            "\tDocument Source Type: Journal Paper\n",
            "\tDocument Distance: 1.432852971205863\n"
          ]
        }
      ]
    },
    {
      "cell_type": "markdown",
      "source": [
        "## YES! WE DID IT!"
      ],
      "metadata": {
        "id": "MqZPe52R2AZN"
      }
    },
    {
      "cell_type": "markdown",
      "source": [
        "# SUMMARY"
      ],
      "metadata": {
        "id": "1i-A6j2_8mJy"
      }
    },
    {
      "cell_type": "markdown",
      "source": [
        "."
      ],
      "metadata": {
        "id": "qtqN4k77Plu1"
      }
    },
    {
      "cell_type": "code",
      "source": [
        "def generateAnswer(query,n_results=5):\n",
        "    retrieved_documents=retrieveDocs(query,n_results)\n",
        "\n",
        "    print(\"------- retreived documents -------\\n\")\n",
        "    for i, doc in enumerate(retrieved_documents):\n",
        "      print(f\"Document {i+1}:\")\n",
        "      print(f\"\\tDocument Text: {doc}\")\n",
        "    print(\"------- RAG answer -------\\n\")\n",
        "    output = chat.send_message( \"QUESTION: \"+ query + \"\\n EXCERPTS: \"+ \"\\n\".join(retrieved_documents))\n",
        "    to_markdown(output.text)\n",
        "    print('\\n')\n",
        "    return output"
      ],
      "metadata": {
        "id": "EOpIzjPEQpvA"
      },
      "execution_count": null,
      "outputs": []
    },
    {
      "cell_type": "code",
      "source": [
        "queries =[\"Who are the authors suggested a new attention mechanism?\",\n",
        "          \"Who are the authors suggested a new controllable text generation mechanism?\",\n",
        "          \"Who is Murat Karakaya?\",\n",
        "          \"Why do we need to control how the text is produced? \",\n",
        "          \"How can we use the self attention mechanism to control the text generation?\",\n",
        "          \"Summarize the paper named Controllable Text Generation\",\n",
        "          \"How many blocks are suggested in the transformer?\",\n",
        "          \"What about decoder?\"\n",
        "\n",
        "    ]\n"
      ],
      "metadata": {
        "id": "IQuoIhc_URCD"
      },
      "execution_count": null,
      "outputs": []
    },
    {
      "cell_type": "code",
      "source": [
        "reply=generateAnswer(queries[0],10)"
      ],
      "metadata": {
        "id": "eNGtY7_qRHRl",
        "colab": {
          "base_uri": "https://localhost:8080/",
          "height": 304
        },
        "outputId": "e1a54cde-f564-4252-8eb8-15406726d01b"
      },
      "execution_count": null,
      "outputs": [
        {
          "output_type": "error",
          "ename": "AttributeError",
          "evalue": "'str' object has no attribute 'query'",
          "traceback": [
            "\u001b[0;31m---------------------------------------------------------------------------\u001b[0m",
            "\u001b[0;31mAttributeError\u001b[0m                            Traceback (most recent call last)",
            "\u001b[0;32m<ipython-input-25-d5abb13bd64b>\u001b[0m in \u001b[0;36m<cell line: 1>\u001b[0;34m()\u001b[0m\n\u001b[0;32m----> 1\u001b[0;31m \u001b[0mreply\u001b[0m\u001b[0;34m=\u001b[0m\u001b[0mgenerateAnswer\u001b[0m\u001b[0;34m(\u001b[0m\u001b[0mqueries\u001b[0m\u001b[0;34m[\u001b[0m\u001b[0;36m0\u001b[0m\u001b[0;34m]\u001b[0m\u001b[0;34m,\u001b[0m\u001b[0;36m10\u001b[0m\u001b[0;34m)\u001b[0m\u001b[0;34m\u001b[0m\u001b[0;34m\u001b[0m\u001b[0m\n\u001b[0m",
            "\u001b[0;32m<ipython-input-23-a61e3ceff915>\u001b[0m in \u001b[0;36mgenerateAnswer\u001b[0;34m(query, n_results)\u001b[0m\n\u001b[1;32m      1\u001b[0m \u001b[0;32mdef\u001b[0m \u001b[0mgenerateAnswer\u001b[0m\u001b[0;34m(\u001b[0m\u001b[0mquery\u001b[0m\u001b[0;34m,\u001b[0m\u001b[0mn_results\u001b[0m\u001b[0;34m=\u001b[0m\u001b[0;36m5\u001b[0m\u001b[0;34m)\u001b[0m\u001b[0;34m:\u001b[0m\u001b[0;34m\u001b[0m\u001b[0;34m\u001b[0m\u001b[0m\n\u001b[0;32m----> 2\u001b[0;31m     \u001b[0mretrieved_documents\u001b[0m\u001b[0;34m=\u001b[0m\u001b[0mretrieveDocs\u001b[0m\u001b[0;34m(\u001b[0m\u001b[0mquery\u001b[0m\u001b[0;34m,\u001b[0m\u001b[0mn_results\u001b[0m\u001b[0;34m)\u001b[0m\u001b[0;34m\u001b[0m\u001b[0;34m\u001b[0m\u001b[0m\n\u001b[0m\u001b[1;32m      3\u001b[0m \u001b[0;34m\u001b[0m\u001b[0m\n\u001b[1;32m      4\u001b[0m     \u001b[0mprint\u001b[0m\u001b[0;34m(\u001b[0m\u001b[0;34m\"------- retreived documents -------\\n\"\u001b[0m\u001b[0;34m)\u001b[0m\u001b[0;34m\u001b[0m\u001b[0;34m\u001b[0m\u001b[0m\n\u001b[1;32m      5\u001b[0m     \u001b[0;32mfor\u001b[0m \u001b[0mi\u001b[0m\u001b[0;34m,\u001b[0m \u001b[0mdoc\u001b[0m \u001b[0;32min\u001b[0m \u001b[0menumerate\u001b[0m\u001b[0;34m(\u001b[0m\u001b[0mretrieved_documents\u001b[0m\u001b[0;34m)\u001b[0m\u001b[0;34m:\u001b[0m\u001b[0;34m\u001b[0m\u001b[0;34m\u001b[0m\u001b[0m\n",
            "\u001b[0;32m<ipython-input-13-3c7f658166fa>\u001b[0m in \u001b[0;36mretrieveDocs\u001b[0;34m(chroma_collection, query, n_results, return_only_docs, filterType, filterValue)\u001b[0m\n\u001b[1;32m      9\u001b[0m \u001b[0;34m\u001b[0m\u001b[0m\n\u001b[1;32m     10\u001b[0m     \u001b[0;32melse\u001b[0m\u001b[0;34m:\u001b[0m\u001b[0;34m\u001b[0m\u001b[0;34m\u001b[0m\u001b[0m\n\u001b[0;32m---> 11\u001b[0;31m         results = chroma_collection.query(\n\u001b[0m\u001b[1;32m     12\u001b[0m             \u001b[0mquery_texts\u001b[0m\u001b[0;34m=\u001b[0m\u001b[0;34m[\u001b[0m\u001b[0mquery\u001b[0m\u001b[0;34m]\u001b[0m\u001b[0;34m,\u001b[0m\u001b[0;34m\u001b[0m\u001b[0;34m\u001b[0m\u001b[0m\n\u001b[1;32m     13\u001b[0m             \u001b[0minclude\u001b[0m\u001b[0;34m=\u001b[0m \u001b[0;34m[\u001b[0m \u001b[0;34m\"documents\"\u001b[0m\u001b[0;34m,\u001b[0m\u001b[0;34m\"metadatas\"\u001b[0m\u001b[0;34m,\u001b[0m\u001b[0;34m'distances'\u001b[0m \u001b[0;34m]\u001b[0m\u001b[0;34m,\u001b[0m\u001b[0;34m\u001b[0m\u001b[0;34m\u001b[0m\u001b[0m\n",
            "\u001b[0;31mAttributeError\u001b[0m: 'str' object has no attribute 'query'"
          ]
        }
      ]
    },
    {
      "cell_type": "code",
      "source": [
        "to_markdown(reply.text)"
      ],
      "metadata": {
        "id": "_BlrLcyATatn"
      },
      "execution_count": null,
      "outputs": []
    },
    {
      "cell_type": "code",
      "source": [
        "for message in chat.history:\n",
        "  display(to_markdown(f'**{message.role}**: {message.parts[0].text}'))\n"
      ],
      "metadata": {
        "id": "Vi3g2vgMRG81"
      },
      "execution_count": null,
      "outputs": []
    },
    {
      "cell_type": "code",
      "source": [
        "model.count_tokens(chat.history)"
      ],
      "metadata": {
        "id": "8Lu-LtxiW9Ou"
      },
      "execution_count": null,
      "outputs": []
    },
    {
      "cell_type": "code",
      "source": [
        "response = chat.send_message(prompt)\n",
        "to_markdown(response.text)\n"
      ],
      "metadata": {
        "id": "WKX4tzgsNijg"
      },
      "execution_count": null,
      "outputs": []
    },
    {
      "cell_type": "code",
      "source": [],
      "metadata": {
        "id": "I0QKtnH7NNFO"
      },
      "execution_count": null,
      "outputs": []
    },
    {
      "cell_type": "code",
      "source": [
        "import os\n",
        "import openai\n",
        "from openai import OpenAI\n",
        "\n",
        "'''\n",
        "from dotenv import load_dotenv, find_dotenv\n",
        "_ = load_dotenv(find_dotenv()) # read local .env file\n",
        "openai.api_key = os.environ['OPENAI_API_KEY']\n",
        "openai_client = OpenAI()\n",
        "'''\n",
        "openai_client = OpenAI(api_key=userdata.get('OPENAI_API_KEY'))"
      ],
      "metadata": {
        "id": "iz7ZbNXaMyY9"
      },
      "execution_count": null,
      "outputs": []
    },
    {
      "cell_type": "code",
      "source": [
        "def rag(query, retrieved_documents, model=\"gpt-3.5-turbo-1106\"):\n",
        "    information = \"\\n\\n\".join(retrieved_documents)\n",
        "\n",
        "    messages = [\n",
        "        {\n",
        "            \"role\": \"system\",\n",
        "            \"content\": \"As an attentive and supportive academic assistant, \"\n",
        "            \"your task is to provide assistance based solely on the provided\"\n",
        "            \" excerpts. Answer the following questions, ensuring your responses\"\n",
        "            \" are derived exclusively from the provided partial texts. \"\n",
        "            \"If the answer cannot be found within the provided excerpts, \"\n",
        "            \"kindly respond with 'I don't know'.\"\n",
        "            \"After answering each question, please provide a detailed \"\n",
        "            \"explanation, breaking down the answer step by step and relating \"\n",
        "            \"it to the provided excerpts.\"\n",
        "            \"Return your response as a Json object with two key fields: \"\n",
        "            \" 'Answer', which should contain the value of the answer, and \"\n",
        "            \" 'Reason', which should provide an explanation of why this answer \"\n",
        "            \"was generated.\"\n",
        "\n",
        "        },\n",
        "        {\"role\": \"user\", \"content\": f\"Question: {query}. \\n Excerpts: {information}\"}\n",
        "    ]\n",
        "\n",
        "    response = openai_client.chat.completions.create(\n",
        "        model=model,\n",
        "        messages=messages,\n",
        "    )\n",
        "    content = response.choices[0].message.content\n",
        "    return content"
      ],
      "metadata": {
        "id": "GGb0tQvtM51N"
      },
      "execution_count": null,
      "outputs": []
    },
    {
      "cell_type": "code",
      "source": [],
      "metadata": {
        "id": "E5K440G_M8cb"
      },
      "execution_count": null,
      "outputs": []
    },
    {
      "cell_type": "code",
      "source": [
        "def generateAnswer(query,n_results=5):\n",
        "    retrieved_documents=retrieveDocs(query,n_results)\n",
        "\n",
        "    print(\"------- retreived documents -------\\n\")\n",
        "    for i, doc in enumerate(retrieved_documents):\n",
        "      print(f\"Document {i+1}:\")\n",
        "      print(f\"\\tDocument Text: {doc}\")\n",
        "    print(\"------- RAG answer -------\\n\")\n",
        "    output = rag(query=query, retrieved_documents=retrieved_documents)\n",
        "    print(output)\n",
        "    print('\\n')\n",
        "    return output"
      ],
      "metadata": {
        "id": "CJd-S0zcRaFV"
      },
      "execution_count": null,
      "outputs": []
    },
    {
      "cell_type": "code",
      "source": [],
      "metadata": {
        "id": "Xb9uHSMpTR_X"
      },
      "execution_count": null,
      "outputs": []
    },
    {
      "cell_type": "code",
      "source": [],
      "metadata": {
        "id": "D2d-jQLvLufI"
      },
      "execution_count": null,
      "outputs": []
    },
    {
      "cell_type": "code",
      "source": [
        "reply=generateAnswer(queries[5],10)\n"
      ],
      "metadata": {
        "id": "sTcewpPcWQLp"
      },
      "execution_count": null,
      "outputs": []
    },
    {
      "cell_type": "code",
      "source": [
        "# prompt: convert the 'reply' to a dict\n",
        "\n",
        "import ast\n",
        "reply_dict = ast.literal_eval(reply)\n",
        "print(f\"Answer: {reply_dict['Answer']}\")\n",
        "print(f\"Because; {reply_dict['Reason']}\")"
      ],
      "metadata": {
        "id": "MSIFzsUtRBOg"
      },
      "execution_count": null,
      "outputs": []
    },
    {
      "cell_type": "code",
      "source": [
        "for query in queries:\n",
        "  generateAnswer(query)"
      ],
      "metadata": {
        "id": "trkwnbPTWPAr"
      },
      "execution_count": null,
      "outputs": []
    },
    {
      "cell_type": "code",
      "source": [
        "%pip install umap-learn"
      ],
      "metadata": {
        "id": "ToFXpONGbhc-"
      },
      "execution_count": null,
      "outputs": []
    },
    {
      "cell_type": "code",
      "source": [
        "def project_embeddings(embeddings, umap_transform):\n",
        "    umap_embeddings = np.empty((len(embeddings),2))\n",
        "    for i, embedding in enumerate(tqdm(embeddings)):\n",
        "        umap_embeddings[i] = umap_transform.transform([embedding])\n",
        "    return umap_embeddings"
      ],
      "metadata": {
        "id": "6jIGoTEeqZnX"
      },
      "execution_count": null,
      "outputs": []
    },
    {
      "cell_type": "code",
      "source": [
        "import umap.umap_ as umap\n",
        "\n",
        "embeddings = chroma_collection.get(include=['embeddings'])['embeddings']\n",
        "umap_transform = umap.UMAP(random_state=0, transform_seed=0).fit(embeddings)\n",
        "projected_dataset_embeddings = project_embeddings(embeddings, umap_transform)"
      ],
      "metadata": {
        "id": "eq8Oxx_SXJK_"
      },
      "execution_count": null,
      "outputs": []
    },
    {
      "cell_type": "code",
      "source": [
        "import matplotlib.pyplot as plt\n",
        "\n",
        "plt.figure()\n",
        "plt.scatter(projected_dataset_embeddings[:, 0], projected_dataset_embeddings[:, 1], s=10)\n",
        "plt.gca().set_aspect('equal', 'datalim')\n",
        "plt.title('Projected Embeddings')\n",
        "plt.axis('off')"
      ],
      "metadata": {
        "id": "PAmWc2acstG-"
      },
      "execution_count": null,
      "outputs": []
    },
    {
      "cell_type": "code",
      "source": [
        "query = queries[3]\n",
        "\n",
        "results = chroma_collection.query(query_texts=query, n_results=10, include=['documents', 'embeddings'])\n",
        "\n",
        "retrieved_documents = results['documents'][0]\n",
        "\n",
        "for document in results['documents'][0]:\n",
        "    print(document)\n",
        "    print('')\n"
      ],
      "metadata": {
        "id": "mw19GvOZpyO-"
      },
      "execution_count": null,
      "outputs": []
    },
    {
      "cell_type": "code",
      "source": [
        "query_embedding = embedding_function([query])[0]\n",
        "retrieved_embeddings = results['embeddings'][0]\n",
        "\n",
        "projected_query_embedding = project_embeddings([query_embedding], umap_transform)\n",
        "projected_retrieved_embeddings = project_embeddings(retrieved_embeddings, umap_transform)\n"
      ],
      "metadata": {
        "id": "J7ClIPkh-unn"
      },
      "execution_count": null,
      "outputs": []
    },
    {
      "cell_type": "code",
      "source": [
        "# Plot the projected query and retrieved documents in the embedding space\n",
        "plt.figure()\n",
        "plt.scatter(projected_dataset_embeddings[:, 0], projected_dataset_embeddings[:, 1], s=10, color='gray')\n",
        "plt.scatter(projected_query_embedding[:, 0], projected_query_embedding[:, 1], s=150, marker='X', color='r')\n",
        "plt.scatter(projected_retrieved_embeddings[:, 0], projected_retrieved_embeddings[:, 1], s=100, facecolors='none', edgecolors='g')\n",
        "\n",
        "plt.gca().set_aspect('equal', 'datalim')\n",
        "plt.title(f'{query}')\n",
        "plt.axis('off')"
      ],
      "metadata": {
        "id": "_FGgCd8t-23T"
      },
      "execution_count": null,
      "outputs": []
    },
    {
      "cell_type": "code",
      "source": [
        "def augment_query_generated(query, model=\"gpt-3.5-turbo\"):\n",
        "    messages = [\n",
        "        {\n",
        "            \"role\": \"system\",\n",
        "            \"content\": \"Sen TÜBİTAK proje başvurularını inceleyen yapay zeka konusunda uzman bir akasemisyensin.\"\n",
        "            \"Aşağıda verilen soruya, aşağıdaki proje tanımına uygun olabilecek bir cevap üret: \\n\"\n",
        "            \"Projenin genel amacı, bankacılık sektöründeki risk yönetimi operasyonlarını geliştirmek ve finansal kurumların karşılaştığı zorlukları ele almak \"\n",
        "            \"için yapay zeka (AI) tabanlı bir platform geliştirmektir. Proje, bankalara vadeli mevduatın erken bozulması, kredilerin erken ödenmesi ve çeşitli \"\n",
        "            \"mevduat türlerinin belirlenmesi gibi davranışsal riskleri daha etkili bir şekilde yönetme kapasitesi sunmayı hedeflemektedir. Bu riskler, finansal \"\n",
        "            \"kurumların bilanço dengesini etkileyebilir ve operasyonel verimliliği azaltabilir. \"\n",
        "            \"Projenin çözmeyi amaçladığı temel problem, bankaların karlılık ve risk analizlerini gerçekleştirirken karşılaştığı karmaşık durumları doğru ve \"\n",
        "            \"etkili bir şekilde yönetme ihtiyacıdır. Özellikle vadeli mevduatların erken kapanması ve kredilerin erken ödenmesi gibi durumlar, bankaların \"\n",
        "            \"gelecekteki nakit akışlarını ve risk profillerini belirleme sürecini karmaşıklaştırabilir\"\n",
        "\n",
        "        },\n",
        "        {\"role\": \"user\", \"content\": query}\n",
        "    ]\n",
        "\n",
        "    response = openai_client.chat.completions.create(\n",
        "        model=model,\n",
        "        messages=messages,\n",
        "    )\n",
        "    content = response.choices[0].message.content\n",
        "    return content"
      ],
      "metadata": {
        "id": "MAgqvNgvAE_q"
      },
      "execution_count": null,
      "outputs": []
    },
    {
      "cell_type": "code",
      "source": [
        "original_query = queries[0]\n",
        "hypothetical_answer = augment_query_generated(original_query)\n",
        "\n",
        "joint_query = f\"{original_query} {hypothetical_answer}\"\n",
        "print(joint_query)"
      ],
      "metadata": {
        "id": "pVgmXEmDA4Mq"
      },
      "execution_count": null,
      "outputs": []
    },
    {
      "cell_type": "code",
      "source": [
        "def extend_retrieved_documents(results, extension=4):\n",
        "  original_ids= results['ids'][0]\n",
        "  print(\"original_ids: \",original_ids)\n",
        "\n",
        "  extended_ids = set()\n",
        "\n",
        "\n",
        "  for id in original_ids:\n",
        "    extended_ids.add(int(id))\n",
        "    for i in range(1, extension):\n",
        "      extended_ids.add(int(id)+i)\n",
        "\n",
        "\n",
        "  extended_ids = sorted([int(x) for x in extended_ids])\n",
        "  extended_ids = [str(x) for x in extended_ids if int(x) < chroma_collection.count()]\n",
        "  print(\"extended_ids: \",extended_ids)\n",
        "  return chroma_collection.get(extended_ids)['documents']"
      ],
      "metadata": {
        "id": "LG7hu7wDdrMT"
      },
      "execution_count": null,
      "outputs": []
    },
    {
      "cell_type": "code",
      "source": [
        "def retrieveDocs_augmented_query(query, n_results=5, extension=4):\n",
        "    hypothetical_answer = augment_query_generated(query)\n",
        "    print(\"------ hypothetical_answer ---------\\n\")\n",
        "    print(hypothetical_answer,\"\\n\")\n",
        "    print(\"------------------------------------\\n\")\n",
        "    joint_query = f\"{query} {hypothetical_answer}\"\n",
        "    results = chroma_collection.query(query_texts=joint_query, n_results=n_results, include=['documents', 'embeddings'])\n",
        "    retrieved_documents = extend_retrieved_documents(results, extension)\n",
        "    #retrieved_documents = results['documents'][0]\n",
        "\n",
        "    return retrieved_documents\n",
        "\n"
      ],
      "metadata": {
        "id": "5_tnGca2D9CU"
      },
      "execution_count": null,
      "outputs": []
    },
    {
      "cell_type": "code",
      "source": [
        "retrieved_documents=retrieveDocs_augmented_query(query, 5)\n",
        "\n",
        "for doc in retrieved_documents:\n",
        "    print(doc)\n",
        "    print('')"
      ],
      "metadata": {
        "id": "PXqwdlB3ElTG"
      },
      "execution_count": null,
      "outputs": []
    },
    {
      "cell_type": "code",
      "source": [
        "results = chroma_collection.query(query_texts=joint_query, n_results=10, include=['documents', 'embeddings'])\n",
        "retrieved_documents = results['documents'][0]\n",
        "\n",
        "for doc in retrieved_documents:\n",
        "    print(doc)\n",
        "    print('')"
      ],
      "metadata": {
        "id": "ScyronsnBIsh"
      },
      "execution_count": null,
      "outputs": []
    },
    {
      "cell_type": "code",
      "source": [
        "retrieved_embeddings = results['embeddings'][0]\n",
        "original_query_embedding = embedding_function([original_query])\n",
        "augmented_query_embedding = embedding_function([joint_query])\n",
        "\n",
        "projected_original_query_embedding = project_embeddings(original_query_embedding, umap_transform)\n",
        "projected_augmented_query_embedding = project_embeddings(augmented_query_embedding, umap_transform)\n",
        "projected_retrieved_embeddings = project_embeddings(retrieved_embeddings, umap_transform)"
      ],
      "metadata": {
        "id": "ncz_Vs8sBez8"
      },
      "execution_count": null,
      "outputs": []
    },
    {
      "cell_type": "code",
      "source": [
        "import matplotlib.pyplot as plt\n",
        "\n",
        "# Plot the projected query and retrieved documents in the embedding space\n",
        "plt.figure()\n",
        "plt.scatter(projected_dataset_embeddings[:, 0], projected_dataset_embeddings[:, 1], s=10, color='gray')\n",
        "plt.scatter(projected_retrieved_embeddings[:, 0], projected_retrieved_embeddings[:, 1], s=100, facecolors='none', edgecolors='g')\n",
        "plt.scatter(projected_original_query_embedding[:, 0], projected_original_query_embedding[:, 1], s=150, marker='X', color='r')\n",
        "plt.scatter(projected_augmented_query_embedding[:, 0], projected_augmented_query_embedding[:, 1], s=150, marker='X', color='orange')\n",
        "\n",
        "plt.gca().set_aspect('equal', 'datalim')\n",
        "plt.title(f'{original_query}')\n",
        "plt.axis('off')"
      ],
      "metadata": {
        "id": "s7IiB6pTBllH"
      },
      "execution_count": null,
      "outputs": []
    },
    {
      "cell_type": "code",
      "source": [],
      "metadata": {
        "id": "spIkCz0SdRYB"
      },
      "execution_count": null,
      "outputs": []
    },
    {
      "cell_type": "code",
      "source": [
        "def generateAnswer_augmented_query(query,n_results=5, extention=4):\n",
        "    print(\"------- query -------\\n\")\n",
        "    print(query,\"\\n\")\n",
        "    retrieved_documents=retrieveDocs_augmented_query(query,n_results,extention)\n",
        "    print(\"------- retreived documents -------\\n\")\n",
        "    for document in retrieved_documents:\n",
        "        print(document)\n",
        "        print('\\n')\n",
        "\n",
        "    print(\"------- RAG answer -------\\n\")\n",
        "    output = rag(query=query, retrieved_documents=retrieved_documents)\n",
        "    print(output)\n",
        "    print('\\n')"
      ],
      "metadata": {
        "id": "O_jYC08eFZJD"
      },
      "execution_count": null,
      "outputs": []
    },
    {
      "cell_type": "code",
      "source": [
        "queries"
      ],
      "metadata": {
        "id": "ZoDGrmz9mv_L"
      },
      "execution_count": null,
      "outputs": []
    },
    {
      "cell_type": "code",
      "source": [
        "generateAnswer_augmented_query(queries[0],10,5)"
      ],
      "metadata": {
        "id": "fU61GVoIFpud"
      },
      "execution_count": null,
      "outputs": []
    },
    {
      "cell_type": "code",
      "source": [
        "title= \"\"\"Ar-Ge Sürecinde Kullanılacak Yöntemler Tanımlanan proje hedeflerine ulaşmak için uygulanacak analitik\n",
        "        deneysel çözüm yöntemlerini belirtiniz. (NOT: Bu bölümde sunulan proje özelinde\n",
        "        hangi teknik / bilimsel yaklaşımların ve bunlara ait aşamaların takip edileceği açıklanmalı, iş paketleri isimleri ya da her projede olabilecek standart\n",
        "        rutin çalışma yöntemleri tekrarlanmamalıdır.\"\"\"\n",
        "results = chroma_collection.query(query_texts=title, n_results=5, include=['documents', 'embeddings'])\n",
        "retrieved_documents = results['documents'][0]\n",
        "print(retrieved_documents)"
      ],
      "metadata": {
        "id": "6bJGG3mEUFKD"
      },
      "execution_count": null,
      "outputs": []
    },
    {
      "cell_type": "code",
      "source": [],
      "metadata": {
        "id": "x7Yq67GcUyYL"
      },
      "execution_count": null,
      "outputs": []
    },
    {
      "cell_type": "code",
      "source": [
        "\n"
      ],
      "metadata": {
        "id": "tNjnJTDvVXpS"
      },
      "execution_count": null,
      "outputs": []
    },
    {
      "cell_type": "code",
      "source": [
        "title= \"\"\"Ar-Ge Sürecinde Kullanılacak Yöntemler Tanımlanan proje hedeflerine ulaşmak için uygulanacak analitik\n",
        "        deneysel çözüm yöntemlerini belirtiniz. (NOT: Bu bölümde sunulan proje özelinde\n",
        "        hangi teknik / bilimsel yaklaşımların ve bunlara ait aşamaların takip edileceği açıklanmalı, iş paketleri isimleri ya da her projede olabilecek standart\n",
        "        rutin çalışma yöntemleri tekrarlanmamalıdır.\"\"\"\n",
        "results = chroma_collection.query(query_texts=title, n_results=5, include=['documents', 'embeddings'])\n",
        "\n",
        "retrieved_documents = extend_retrieved_documents(results)\n",
        "print(retrieved_documents)\n"
      ],
      "metadata": {
        "id": "_pzqUkWQWqkr"
      },
      "execution_count": null,
      "outputs": []
    },
    {
      "cell_type": "code",
      "source": [],
      "metadata": {
        "id": "mg5KFoacc67g"
      },
      "execution_count": null,
      "outputs": []
    },
    {
      "cell_type": "code",
      "source": [
        "chroma_collection.get(results['ids'][0])"
      ],
      "metadata": {
        "id": "WrRDvmYSVlLI"
      },
      "execution_count": null,
      "outputs": []
    }
  ]
}